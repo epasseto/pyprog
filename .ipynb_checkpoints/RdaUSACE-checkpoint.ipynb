{
 "cells": [
  {
   "cell_type": "markdown",
   "metadata": {},
   "source": [
    "### Noções básicas de R\n",
    "\n",
    "---\n",
    "\n",
    "#### IDE R\n",
    "#### Outras maneiras de usar\n",
    "\n",
    "### Jupyter Notebook\n",
    "\n",
    "*O R ao final da primeira palavra é de R!*\n",
    "\n",
    "Rodar uma linha: \n",
    "\n",
    "    CTRL+ENTER\n",
    "    \n",
    "*Como aqui estamos dentro do Jupyter Notebook, basta apertar o botão Run na barra de ferramentas. Mas o CRTL+ENTER também funciona!*\n",
    "\n",
    "Comentar várias:\n",
    "\n",
    "    CTRL+C #\n",
    "\n",
    "Comece criando um novo ambiente, colocando pastas para data, scripts e output \n",
    "\n",
    "*As janelinhas com In [ ] representam uma máquina virtual em cada uma. Como a linguagem padrão setada para este Jupyter Notebook foi R, elas rodam o interpretador R*\n",
    "\n",
    "É possível mudar algumas delas para outras linguagens, como Python ou Java. Para algumas linguagens, como FORTRAN, é necessário:\n",
    "\n",
    "1. abrir a janela de comandos do Windows clicando com o botão **direito** e indicando **Executar como Administrador** (é preciso ter privilégios de administrador);\n",
    "\n",
    "    \n",
    "2. fazer a instalação com o comando\n",
    "\n",
    "    conda install ...\n",
    "    \n",
    "Ou\n",
    "\n",
    "1. abrir o programa **Anaconda Navigator** e procurar por nome, pelo pacote da nova linguagem que deseja habilitar. A instalação já cuida de todas as dependências"
   ]
  },
  {
   "cell_type": "markdown",
   "metadata": {},
   "source": [
    "Invocando o help:\n",
    "\n",
    "*Isso é meio universal. Serve para funções, classes, objetos, pacotes...*"
   ]
  },
  {
   "cell_type": "code",
   "execution_count": 5,
   "metadata": {},
   "outputs": [],
   "source": [
    "?abs"
   ]
  },
  {
   "cell_type": "markdown",
   "metadata": {},
   "source": [
    "#### Instalando e usando pacotes\n",
    "\n",
    "Um pacote é uma biblioteca de classes que adicionam funcionalidades ao R. Eles não vêm instalados \"de fábrica\" para não deixar o R pesado demais, com coisas que talvez você não vá usar nunca. É importante antes de chamar o pacote (com o comando **library**) realizar sua instalação\n",
    "\n",
    "*Se você fica confuso com os comandos abaixo, ou achar que precisa aprender mais, existem dois lugares bons para googlar antes de se apavorar*\n",
    "\n",
    "Eles são:\n",
    "\n",
    "1. Datacamp - a Datacamp é uma plataforma americana e que visa lucro. Ela funciona mais ou menos como a Udemy. As pessoas criam seus cursos lá e outras podem comprar. Uma prática para atrair clientes é disponibilizar gratuitamente milhares de tutoriais em TI, muitos deles sobre R. Então é possível aprender muito sem gastar um tostão. Se você se interessar, poderá contratar mais tarde outros tutoriais mais avançados a preços módicos. Para quem está iniciando, todos são gratuitos!\n",
    "\n",
    "Se achar confuso ou incompleto o que está escrito abaixo, experimente o seguinte [tutorial](https://www.datacamp.com/community/tutorials/r-packages-guide)\n",
    "\n",
    "2. Stackoverflow - é o maior repositório de boas respostas para questionamentos em todas as linguagens de programação. Existe uma versão mais limitada em português. Ao googlar, se encontrar um direcionamento para a Stack, provavelmente terá a resposta para a sua questão de uma maneira direta\n",
    "\n",
    "Por exemplo, esse cara teve um problema instalando o RCurl. Foi solicitado que se passasse o caminho explicitamente. A pergunta e a solução encontram-se [aqui](https://stackoverflow.com/questions/42459423/cannot-install-r-packages-in-jupyter-notebook)\n",
    "\n",
    "---\n",
    "\n",
    "Instalando um pacote:\n",
    "\n",
    "*Observe bem a mensagem apontada após executar o comando. Ela pode informar diversas coisas interessantes!*"
   ]
  },
  {
   "cell_type": "code",
   "execution_count": 11,
   "metadata": {},
   "outputs": [
    {
     "name": "stderr",
     "output_type": "stream",
     "text": [
      "Warning message:\n",
      "\"package 'readxl' is in use and will not be installed\""
     ]
    }
   ],
   "source": [
    "install.packages(\"readxl\")"
   ]
  },
  {
   "cell_type": "markdown",
   "metadata": {},
   "source": [
    "Rodar um pacote:"
   ]
  },
  {
   "cell_type": "code",
   "execution_count": 12,
   "metadata": {},
   "outputs": [],
   "source": [
    "library(readxl)"
   ]
  },
  {
   "cell_type": "code",
   "execution_count": 19,
   "metadata": {},
   "outputs": [],
   "source": [
    "try(readx1)"
   ]
  },
  {
   "cell_type": "code",
   "execution_count": 14,
   "metadata": {},
   "outputs": [
    {
     "name": "stderr",
     "output_type": "stream",
     "text": [
      "also installing the dependency 'bitops'\n",
      "\n"
     ]
    },
    {
     "name": "stdout",
     "output_type": "stream",
     "text": [
      "package 'bitops' successfully unpacked and MD5 sums checked\n",
      "package 'RCurl' successfully unpacked and MD5 sums checked\n",
      "\n",
      "The downloaded binary packages are in\n",
      "\tC:\\Users\\epasseto\\AppData\\Local\\Temp\\Rtmpo75EWs\\downloaded_packages\n"
     ]
    }
   ],
   "source": [
    "install.packages(\"RCurl\")"
   ]
  },
  {
   "cell_type": "markdown",
   "metadata": {},
   "source": [
    "---\n",
    "\n",
    "Comparação:\n",
    "    \n",
    "    ==\n",
    "    \n",
    "*observe que o resultado de uma comparação será sempre TRUE ou FALSE*"
   ]
  },
  {
   "cell_type": "code",
   "execution_count": 8,
   "metadata": {},
   "outputs": [
    {
     "data": {
      "text/html": [
       "TRUE"
      ],
      "text/latex": [
       "TRUE"
      ],
      "text/markdown": [
       "TRUE"
      ],
      "text/plain": [
       "[1] TRUE"
      ]
     },
     "metadata": {},
     "output_type": "display_data"
    }
   ],
   "source": [
    "3 == 3"
   ]
  },
  {
   "cell_type": "code",
   "execution_count": 20,
   "metadata": {},
   "outputs": [
    {
     "data": {
      "text/html": [
       "FALSE"
      ],
      "text/latex": [
       "FALSE"
      ],
      "text/markdown": [
       "FALSE"
      ],
      "text/plain": [
       "[1] FALSE"
      ]
     },
     "metadata": {},
     "output_type": "display_data"
    }
   ],
   "source": [
    "A <- 3\n",
    "B <- 4\n",
    "\n",
    "A == B"
   ]
  },
  {
   "cell_type": "markdown",
   "metadata": {},
   "source": [
    "---\n",
    "\n",
    "Criar uma variável: "
   ]
  },
  {
   "cell_type": "code",
   "execution_count": 22,
   "metadata": {},
   "outputs": [
    {
     "data": {
      "text/html": [
       "3"
      ],
      "text/latex": [
       "3"
      ],
      "text/markdown": [
       "3"
      ],
      "text/plain": [
       "[1] 3"
      ]
     },
     "metadata": {},
     "output_type": "display_data"
    }
   ],
   "source": [
    "a <- 3\n",
    "a"
   ]
  },
  {
   "cell_type": "markdown",
   "metadata": {},
   "source": [
    "*Observe que para imprimir o conteúdo de um objeto, se este for o último comando de uma célula, não é necessário invocar explicitamente o comando **print**. O Jupyter Notebook acredita que após rodar um pedaço de código, seu último comando seria para exibir algo na tela. Mas isso também pode ser feito explicitamente:*"
   ]
  },
  {
   "cell_type": "code",
   "execution_count": 24,
   "metadata": {},
   "outputs": [
    {
     "name": "stdout",
     "output_type": "stream",
     "text": [
      "[1] 3\n"
     ]
    }
   ],
   "source": [
    "print(a)"
   ]
  },
  {
   "cell_type": "markdown",
   "metadata": {},
   "source": [
    "Tipo de dado:\n",
    "\n",
    "*Isso é útil para eu perguntar qual o tipo de dado que está gravado em uma determinada variável. No caso de datasets, eu posso perguntar o tipo de dado gravado em uma coluna!*"
   ]
  },
  {
   "cell_type": "code",
   "execution_count": 28,
   "metadata": {},
   "outputs": [
    {
     "data": {
      "text/html": [
       "'numeric'"
      ],
      "text/latex": [
       "'numeric'"
      ],
      "text/markdown": [
       "'numeric'"
      ],
      "text/plain": [
       "[1] \"numeric\""
      ]
     },
     "metadata": {},
     "output_type": "display_data"
    }
   ],
   "source": [
    "class(a)"
   ]
  },
  {
   "cell_type": "code",
   "execution_count": 25,
   "metadata": {},
   "outputs": [
    {
     "data": {
      "text/html": [
       "'numeric'"
      ],
      "text/latex": [
       "'numeric'"
      ],
      "text/markdown": [
       "'numeric'"
      ],
      "text/plain": [
       "[1] \"numeric\""
      ]
     },
     "metadata": {},
     "output_type": "display_data"
    }
   ],
   "source": [
    "class(6.78)"
   ]
  },
  {
   "cell_type": "code",
   "execution_count": 27,
   "metadata": {},
   "outputs": [
    {
     "data": {
      "text/html": [
       "'character'"
      ],
      "text/latex": [
       "'character'"
      ],
      "text/markdown": [
       "'character'"
      ],
      "text/plain": [
       "[1] \"character\""
      ]
     },
     "metadata": {},
     "output_type": "display_data"
    }
   ],
   "source": [
    "teste <- \"Olá Mundo\"\n",
    "class(teste)"
   ]
  },
  {
   "cell_type": "markdown",
   "metadata": {},
   "source": [
    "Data:"
   ]
  },
  {
   "cell_type": "code",
   "execution_count": 30,
   "metadata": {},
   "outputs": [
    {
     "data": {
      "text/html": [
       "<time datetime=\"2018-09-04\">2018-09-04</time>"
      ],
      "text/latex": [
       "2018-09-04"
      ],
      "text/markdown": [
       "2018-09-04"
      ],
      "text/plain": [
       "[1] \"2018-09-04\""
      ]
     },
     "metadata": {},
     "output_type": "display_data"
    }
   ],
   "source": [
    "minhadata <- as.Date(\"2018-09-04\")\n",
    "minhadata"
   ]
  },
  {
   "cell_type": "markdown",
   "metadata": {},
   "source": [
    "Data, mais detalhado:\n",
    "\n",
    "*Isso aqui é um antigo padrão do UNIX e que acabou se tornando universalizado. Então se quiser formatar um campo data-hora sem ter dor de cabeça posteriormente, é bom ver um tutorial ou uma tabela com os vários padrões **POSIXct** e usar isso!*\n",
    "\n",
    "Uma documentação trazendo todos os formatos possíveis no **POSIXct** encontra-se [aqui](https://www.stat.berkeley.edu/~s133/dates.html)"
   ]
  },
  {
   "cell_type": "code",
   "execution_count": 31,
   "metadata": {},
   "outputs": [
    {
     "data": {
      "text/plain": [
       "[1] \"2018-09-04 08:00:00 -03\""
      ]
     },
     "metadata": {},
     "output_type": "display_data"
    }
   ],
   "source": [
    "as.POSIXct(\"2018-09-04 08:00:00\")"
   ]
  },
  {
   "cell_type": "markdown",
   "metadata": {},
   "source": [
    "---\n",
    "\n",
    "Ler csv:"
   ]
  },
  {
   "cell_type": "code",
   "execution_count": null,
   "metadata": {},
   "outputs": [],
   "source": [
    "brazil_df <- read.csv(\"data/brazil_df.csv\")\n",
    "data.frame\n",
    "View(brazil_df) #mostra tabela"
   ]
  },
  {
   "cell_type": "markdown",
   "metadata": {},
   "source": [
    "---\n",
    "\n",
    "Criar um dicionário:\n",
    "\n",
    "*Dicionários são extremamente úteis para se guardar coisas de uma maneira organizada. Eu posso por exemplo, definir uma das colunas do meu dataset como sendo um dicionário. Lá eu guardo todo um repositório de informações sobre cada ítem que eu tenho cadastrado. Por exemplo, em entradas de cadastro de livros, eu posso ter um dicionário com termos úteis encontrados em cada livro*\n",
    "\n",
    "Um dicionário tem uma chave e um conteúdo. É algo assim\n",
    "\n",
    "- aspirina: medicamento contra indicado para o caso de dengue\n",
    "\n",
    "Minha chave é aspirina e ao invocar esta palavra, eu obterei \"medicamento contra indicado para o caso de dengue\"\n",
    "\n",
    "Isso pode parecer banal, mas em **cálculos complexos** eu posso ganhar muito e muito tempo computacional com o truque do dicionário. Então eu tenho uma série de polinômios e para o valor de X = 2.31, eu acabei de calcular qual o valor de X^3. O que eu faço é guardar este resultado num dicionário. Daí no próximo passo, eu pergunto se meu dicionário possui a entrada \"2.31\"... oh, já possui? Então eu simplesmente copio o valor para dentro da minha equação, sem ter que recalcular. Ah, não possui? Então daí eu calculo e acumulo na minha \"colinha\" o resultado..."
   ]
  },
  {
   "cell_type": "code",
   "execution_count": 32,
   "metadata": {},
   "outputs": [
    {
     "name": "stdout",
     "output_type": "stream",
     "text": [
      "[[1]]\n",
      "NULL\n",
      "\n",
      "[[2]]\n",
      "NULL\n",
      "\n",
      "[[3]]\n",
      "NULL\n",
      "\n",
      "[1] \"tic\" \"tac\" \"toe\"\n"
     ]
    }
   ],
   "source": [
    "foo <- vector(mode=\"list\", length=3)\n",
    "print(foo)\n",
    "names(foo) <- c(\"tic\", \"tac\", \"toe\")\n",
    "foo[[1]] <- 12; foo[[2]] <- 22; foo[[3]] <- 33\n",
    "print(names(foo))"
   ]
  },
  {
   "cell_type": "markdown",
   "metadata": {},
   "source": [
    "---\n",
    "\n",
    "Listas:\n",
    "\n",
    "*Observe que cada linguagem de programação possui suas peculiaridades. No Python, não é exatamente desta maneira que se cria uma lista. Outro detalhe importante, o índice da lista no Python começa em zero. No R começa em 1!*\n",
    "\n",
    "Listas são extremamente importantes em linguagens de programação. Isso é uma pilha. Eu posso ir alimentando isso a partir do primeiro ou do último elemento e eles se mantém em uma ordem 1, 2, 3... e eu posso remover o primeiro ou último elemento de uma lista. Eu também posso fazer um loop invocando todos os elementos de uma lista, o R irá me dar cada um até esgotar a lista!"
   ]
  },
  {
   "cell_type": "code",
   "execution_count": 40,
   "metadata": {},
   "outputs": [
    {
     "name": "stdout",
     "output_type": "stream",
     "text": [
      "[1] 8\n",
      "[1] 1 2 3 4 5 6 7 8\n"
     ]
    },
    {
     "data": {
      "text/html": [
       "1"
      ],
      "text/latex": [
       "1"
      ],
      "text/markdown": [
       "1"
      ],
      "text/plain": [
       "[1] 1"
      ]
     },
     "metadata": {},
     "output_type": "display_data"
    }
   ],
   "source": [
    "z <- 1:8\n",
    "print(length(z))\n",
    "print(z)\n",
    "z[1]"
   ]
  },
  {
   "cell_type": "markdown",
   "metadata": {},
   "source": [
    "---\n",
    "\n",
    "Compartilhando estruturas de dados:\n",
    "\n",
    "- Feather\n",
    "\n",
    "*Às vezes eu já tenho meus códigos de filtragem e correção de uma série de dados em alguma outra linguagem de programação. Antigamente, como uma linguagem não \"conversa\" com a outra, eu precisava reprogramar tudo. Hoje não é mais assim!*\n",
    "\n",
    "Suponha que eu tenha uma série de rotinas escritas em Python para buscar planilhas Excel em um diretório específico e ler a primeira coluna de cada uma delas. Se encontrar um determinado tipo de dado, devo puxar o registro e adicioná-lo a um dataset. Depois disso eu farei uma série de filtragens e correções com os dados encontrados\n",
    "\n",
    "O Python por padrão usa uma estrutura para dados chamada Pandas. O R infelizmente não trabalha com o Pandas. Não desejamos fazer importações de dados. Todo mundo sabe que numa importação, erros podem aparecer e daí todo aquele meu processo que era para ser automático fica comprometido. Felizmente existe uma solução para isso\n",
    "\n",
    "É necessário instalar no Jupyter Notebook o pacote Feather. O Feather lê e grava um arquivo binário em Python, contendo meu dataset Pandas. E o Feather lê e grava o mesmo arquivo binário em R. É desta maneira que se trabalha, não só com R x Python mas com toda linguagem de programação!"
   ]
  },
  {
   "cell_type": "markdown",
   "metadata": {},
   "source": [
    "---\n",
    "\n",
    "Limpar memória:\n",
    "\n",
    "*esse é um comando universal do R*"
   ]
  },
  {
   "cell_type": "code",
   "execution_count": null,
   "metadata": {},
   "outputs": [],
   "source": [
    "rm(doce.river.data)"
   ]
  },
  {
   "cell_type": "markdown",
   "metadata": {},
   "source": [
    "---\n",
    "\n",
    "Factor:\n",
    "\n",
    "*É uma característica comum em muitos datasets*\n",
    "\n",
    "Suponha que eu tenha em um cadastro as opções abaixo. Ao invés de salvar nomes numa coluna, eu salvo o factor, ou seja, um código inteiro que representa cada uma das variantes possíveis do meu campo. Muitas vezes isso causa uma confusão enorme na hora de processar dados. Não adianta googlar por \"combo box\", a palavra correta é \"factor\"!\n",
    "\n",
    "- transformar 1-\"Male\", 2-\"Female\", 3-\"Not informed\""
   ]
  },
  {
   "cell_type": "markdown",
   "metadata": {},
   "source": [
    "---\n",
    "\n",
    "Dados grandes:\n",
    "\n",
    "*Às vezes encontramos no R ou no Python algumas linhas de código agindo sobre datasets com uma sintaxe similar ao SQL*\n",
    "\n",
    "As linguagens de programação, como o R, possuem comandos especiais para fazer substituição, vinculações, filtragem de dados em colunas de datasets. Normalmente esses comandos costumam ser muito eficientes\n",
    "\n",
    "No entanto, como muitos usuários de R já se acostumaram a escrever consultas ao modo SQL, existe um pacote específico para escrever suas consultas no próprio R, ao modo SQL. É bastante funcional e na maioria das vezes, basta depois dar um CTRL+C e um CTRL+V naquela sua consulta já escrita e trazê-la para dentro do R!\n",
    "\n",
    " - sintaxe tipo SQL"
   ]
  },
  {
   "cell_type": "markdown",
   "metadata": {},
   "source": [
    "---\n",
    "\n",
    "#### Exemplo de leitura e operações em dados a partir de um .csv:\n",
    "\n",
    "*Seguem vários exemplos de operações comuns usados o lidar com datasets no R*\n",
    "\n",
    "Os exemplos foram dados na classe. Recomenda-se pegar um tutorial na Datacamp para aprofundar nesse assunto. É realmente fundamental para um cientista de dados dominar todos os comandos mais usuais de filtragem, busca, substituição e exibição de dados em datasets. Mais de 80% do trabalho se resumirá a estas operações!\n",
    "\n",
    "Uma vez o seu dataset estando totalmente filtrado, sem nulos e corrigido, as operações de plotagem e análises finais dos dados se tornarão extremamente simples!"
   ]
  },
  {
   "cell_type": "code",
   "execution_count": null,
   "metadata": {},
   "outputs": [],
   "source": [
    "library(data.table)\n",
    "brazil_df <- fread(\"data/brazil_df.csv\")\n",
    "library(readr)\n",
    "x <-read_csv(\"data/brazil_df.csv\")\n",
    "x[row, column]\n",
    "x[2:5,c(1,3)]\n",
    "x[2:5,c(\"date\",\"NT\")"
   ]
  },
  {
   "cell_type": "markdown",
   "metadata": {},
   "source": [
    "Extrair uma coluna como vetor:"
   ]
  },
  {
   "cell_type": "code",
   "execution_count": null,
   "metadata": {},
   "outputs": [],
   "source": [
    "flow <- x$Q\n",
    "x[[\"Q\"]]"
   ]
  },
  {
   "cell_type": "markdown",
   "metadata": {},
   "source": [
    "Extrair como dataset:"
   ]
  },
  {
   "cell_type": "code",
   "execution_count": null,
   "metadata": {},
   "outputs": [],
   "source": [
    "flow <-x[,\"Q\"]\n",
    "x$Q[c(1:5,10)]"
   ]
  },
  {
   "cell_type": "markdown",
   "metadata": {},
   "source": [
    "Lógico:"
   ]
  },
  {
   "cell_type": "code",
   "execution_count": null,
   "metadata": {},
   "outputs": [],
   "source": [
    "x$Q > 400"
   ]
  },
  {
   "cell_type": "markdown",
   "metadata": {},
   "source": [
    "Filtro:"
   ]
  },
  {
   "cell_type": "code",
   "execution_count": null,
   "metadata": {},
   "outputs": [],
   "source": [
    "high_flow <- x[x$Q > 400,]\n",
    "high_flow"
   ]
  },
  {
   "cell_type": "markdown",
   "metadata": {},
   "source": [
    "Flag:"
   ]
  },
  {
   "cell_type": "code",
   "execution_count": null,
   "metadata": {},
   "outputs": [],
   "source": [
    "x$status[x$Q > 400] <- 2\n",
    "View(x)"
   ]
  },
  {
   "cell_type": "markdown",
   "metadata": {},
   "source": [
    "Um jeito mais fácil:"
   ]
  },
  {
   "cell_type": "code",
   "execution_count": null,
   "metadata": {},
   "outputs": [],
   "source": [
    "library(dplyr)\n",
    "library(tidyr)"
   ]
  },
  {
   "cell_type": "markdown",
   "metadata": {},
   "source": [
    "Concatenate (campo) - como lista:"
   ]
  },
  {
   "cell_type": "code",
   "execution_count": null,
   "metadata": {},
   "outputs": [],
   "source": [
    "c(\"a\",\"b\")"
   ]
  },
  {
   "cell_type": "markdown",
   "metadata": {},
   "source": [
    "### Trabalhar com bancos de dados\n",
    "\n",
    "---"
   ]
  },
  {
   "cell_type": "markdown",
   "metadata": {},
   "source": [
    "Operações de dataset:"
   ]
  },
  {
   "cell_type": "code",
   "execution_count": null,
   "metadata": {},
   "outputs": [],
   "source": [
    "film_list <- starwars$films\n",
    "View(film_list)\n",
    "names(film_list) <- starwars$name\n",
    "View(names(film_list))"
   ]
  },
  {
   "cell_type": "markdown",
   "metadata": {},
   "source": [
    "À moda SQL: (**Tidyverse**)\n",
    "\n",
    "*procure documentação específica por este nome!*"
   ]
  },
  {
   "cell_type": "code",
   "execution_count": null,
   "metadata": {},
   "outputs": [],
   "source": [
    "stars <- select(starwars, name, height, mass, homeworld, species)"
   ]
  },
  {
   "cell_type": "markdown",
   "metadata": {},
   "source": [
    "Com Pipe:\n",
    "\n",
    "*O Pipe são esses símbolos de >, meio que informando que o próximo comando também está ligado*\n",
    "\n",
    "O R, diferente do Python e outras, é uma linguagem **não identada**. Isso quer dizer que o interpretador R não consegue saber se você terminou uma sequência lógica só pela identação. Assim, em caso de loops por exemplo, eu preciso\n",
    "\n",
    "    {abrir uma chave e colocar o loop dentro dela}\n",
    "    \n",
    "e tanto faz se \n",
    "\n",
    "    eu abro {\n",
    "        \n",
    "        minha chave\n",
    "        \n",
    "        e depois vou usando uma \n",
    "            \n",
    "            concatenação que me faça sentido\n",
    "        \n",
    "        ou não\n",
    "        \n",
    "        o importante ao final é fechar\n",
    "\n",
    "    }\n",
    "    \n",
    "Como a sintaxe SQL é baseada em um ordenamento de múltiplas linhas, para fazer sentido no R foi criado o sistema de Pipe:\n",
    "\n",
    "*Observe também que a linha do **mutate** foi quebrada em duas. A lógica neste caso é apenas quebrar uma linha, se quiser, depois de uma **vírgula**. No caso, a quebra e a identação são totalmente opcionais*\n",
    "\n",
    "Ela é idêntica a\n",
    "\n",
    "    mutate(BMI = height * mass, mass = 0.5 * mass) %>%"
   ]
  },
  {
   "cell_type": "code",
   "execution_count": null,
   "metadata": {},
   "outputs": [],
   "source": [
    "stars <- starwars %>%\n",
    "    select(name, height, mass, homeworld, species) %>%\n",
    "    filter(species == \"Droid\") %>%\n",
    "    select(species) %>%\n",
    "    mutate(BMI = height * mass,\n",
    "        mass = 0.5 * mass) %>%\n",
    "    arrange(desc(BMI))"
   ]
  },
  {
   "cell_type": "markdown",
   "metadata": {},
   "source": [
    "Desaninhando por um campo de lista:"
   ]
  },
  {
   "cell_type": "code",
   "execution_count": null,
   "metadata": {},
   "outputs": [],
   "source": [
    "sw1 <- starwars %>%\n",
    "    select(name, films, gender, height) %>%\n",
    "    unnest(films, gender)"
   ]
  },
  {
   "cell_type": "markdown",
   "metadata": {},
   "source": [
    "Spread, gather:\n",
    "\n",
    "*Qual a lógica dessas sequências? Às vezes meu dataset está elegante, mas totalmente inadequado para o trabalho que eu vou fazer. Então eu removo alguns campos, altero outros, crio campos de categorias e empilho/desempilho, aninho/desaninho dados até ter minha estrutura de dados do meu jeito!*"
   ]
  },
  {
   "cell_type": "code",
   "execution_count": null,
   "metadata": {},
   "outputs": [],
   "source": [
    "sw2 <- starwars %>%\n",
    "    unnest(vehicles)\n",
    "    select(name, vehicles, gender) %>%\n",
    "    rename(character_name = name)\n",
    "\n",
    "sw_wide <- sw %>%\n",
    "    spread(film, gender)\n",
    "\n",
    "sw_long <- sw_wide %>%\n",
    "    gather (, films)\n",
    "\n",
    "sw_join <- sw1 %>%\n",
    "    left_join(sw2, by = c(\"name\"=\"character_name\", \"gender\"))\n",
    "\n",
    "sw_summary <- sw_join %>%\n",
    "    group_by(films) %>%\n",
    "    summarise(mean_height = mean(height, na.rm = TRUE),\n",
    "        count = n(),\n",
    "        count_males = sum(gender == \"male\", na.rm = TRUE),\n",
    "        count_females = sum(gender == \"female\", na.rm = TRUE)"
   ]
  },
  {
   "cell_type": "markdown",
   "metadata": {},
   "source": [
    "#### Planejar operações em datasets\n",
    "\n",
    "As pessos normalmente se apavoram quando percebem que receberam um dataset, mas a estrutura dele não está adequada ao que desejamos como resultado. Na verdade, a coisa toda é bem mais simples do que parece:\n",
    "\n",
    "1. primeiro tente entender a estrutura do seu dataset original. Mande imprimir o cabeçalho e os 20 primeiros campos, tente ver se existe coerência em tudo o que está lá. Veja se existem muitos campos em branco (NA). Se precisar, faça a contagem de todos os campos para se certificar\n",
    "\n",
    "2. se houver mais de um dataset, verifique a lógica de cada um deles, individualmente. Se os dados constantes estiverem coerentes, provavelmente você irá obter bons resultados, independente da estrutura que eles apresentem\n",
    "\n",
    "3. se precisar trabalhar um campo **aninhado**, desaninhe este campo. Transforme cada ítem da sua lista ou dicionário em um registro independente no seu dataset. Isso pode parecer incoerente, mas acelera muito as operações em datasets. Remova campos inúteis. Bole uma política para eliminar os NAs ou para os preencher com alguma coisa que faça sentido\n",
    "\n",
    "4. se precisar, esboce em uma folha de papel os seus datasets. E com setinhas, o que você quer relacionar com o que em cada um deles. Consultas são como aquelas máquinas de moer cana: você entra garapa, passa pela máquina e sai garapa. Esboce também o que espera como resultado\n",
    "\n",
    "5. às vezes nos atrapalhamos com **relacionamentos cruzados**. Um campo que aparece como coluna em um, é uma linha em outro dataset! Não tem muito segredo. Consulte a documentação do R e você terá respostas claras de como resolver isso. Um relacionamento cruzado nada mais é do que uma operação particular de **desempilhamento**\n",
    "\n",
    "6. se os datasets ainda se mostrarem complexos demais, tente **empilhar** ou **desempilhar**. Às vezes mudando a geometria de um banco de dados, você consegue maravilhas! Leia na documentação como fazer essas operações. Não é incomum algo como **desempilhe**, **desempilhe** processe algo, relacione algo e **empilhe**. Não tenha medo de processar e reprocessar seus datasets\n",
    "\n",
    "7. se a coisa estiver pesada demais, crie um dataset demonstrativo mais leve, ou com menos registros\n",
    "\n",
    "8. evite processar muitos comandos ao mesmo tempo. Isso pode gerar código elegante, mas normalmente confunde os processadores de datasets. Nem sempre código elegante quer dizer código eficiente! Eu prefiro fazer do jeito mais bobo: uma operação por vez. Normalmente é melhor processar uma operação, por exemplo, relacionando dois datasets e do resultado dela, processar mais uma operação, do que fazer tudo isso de uma só tacada\n",
    "\n",
    "9. contabilize tempos de resposta, tamanho e processamento. Faça dois caminhos diferentes e compare. O R é cheio de recursos de avaliação de tempo e memória das suas operações. Quando seus datasets ficarem realmente grandes, essa experiência poder **realmente** fazer a diferença\n",
    "\n",
    "10. esboce no papel além dos seus datasets, também os seus **relacionamentos**. É muito fácil confundir um **left join** com um **inner join**. Não confie na sua memória ou na sua intuição, é melhor diagramar do que depois tentar encontrar a besteira\n",
    "\n",
    "11. faça previsões. Se eu esperava receber 111 entradas na minha nova tabela e vieram 108... opa! Alguma coisa deu errado! Nunca confie totalmente na sua astúcia como operador de banco de dados. Se preciso, crie campos auxiliares para poder juntar duas colunas e compará-las. Ou para contar o número de determinados objetos. Isso pode fazer toda a diferença!"
   ]
  },
  {
   "cell_type": "markdown",
   "metadata": {},
   "source": [
    "### Uso de pacotes no R\n",
    "\n",
    "---\n",
    "\n",
    "#### O que é um pacote\n",
    "\n",
    "A descrição aparece lá no começo deste documento. Seguem mais algumas operações envolvendo pacotes"
   ]
  },
  {
   "cell_type": "markdown",
   "metadata": {},
   "source": [
    "Abrir um pacote:"
   ]
  },
  {
   "cell_type": "code",
   "execution_count": null,
   "metadata": {},
   "outputs": [],
   "source": [
    "library(dplyr)"
   ]
  },
  {
   "cell_type": "markdown",
   "metadata": {},
   "source": [
    "Abrir uma função para um único uso:\n",
    "\n",
    "*Concluída a operação, a função ou o pacote é descarregado da memória da sua máquina*"
   ]
  },
  {
   "cell_type": "code",
   "execution_count": null,
   "metadata": {},
   "outputs": [],
   "source": [
    "river_df <- readr::read_c(\"data/brazil_df.csv\")"
   ]
  },
  {
   "cell_type": "markdown",
   "metadata": {},
   "source": [
    "Conversão de datas:\n",
    "\n",
    "*A lógica desses %e, assm como acesso à documentação, está no começo deste documento*"
   ]
  },
  {
   "cell_type": "code",
   "execution_count": null,
   "metadata": {},
   "outputs": [],
   "source": [
    "other_day <- \"3/4/18\"\n",
    "other_day_date <- as.Date(other_day, format = \"%e/%m/%%y\")"
   ]
  },
  {
   "cell_type": "markdown",
   "metadata": {},
   "source": [
    "Formato brasileiro:\n",
    "\n",
    "*Isso serve para poder aplicar/desaplicar formatação, com interpretação dos nomes dos meses em PT-BR*"
   ]
  },
  {
   "cell_type": "code",
   "execution_count": null,
   "metadata": {},
   "outputs": [],
   "source": [
    "Sys.getlocale(\"LC_TIME\")\n",
    "Sys.setlocale(category=\"LC_TIME\", locale=\"Portuguese_Brazil.1252\")\n",
    "another_day <- \"3 abril, 2018\"\n",
    "x <- as.Date(another_day, format = \"%e %B, %Y\")"
   ]
  },
  {
   "cell_type": "markdown",
   "metadata": {},
   "source": [
    "Data com Timezone:\n",
    "\n",
    "*Aquele dado colhido lá no Acre foi baseado na UTM de Brasília? Isso aqui evita problemas com timezone*"
   ]
  },
  {
   "cell_type": "code",
   "execution_count": null,
   "metadata": {},
   "outputs": [],
   "source": [
    "date_time <- \"3 de Abril, 2018 13:00\"\n",
    "dt <- as.POSIXct(date_time, format=\"%e de %b, %Y %H:%M\", \n",
    "                 tz=\"America/Sao_Paulo\")\n",
    "dt2\n",
    "as.numeric(dt2)\n",
    "as.numeric(dt)\n",
    "attr(dt, \"tzone\")\n",
    "OlsonNames()\n",
    "\n",
    "dt_lt <- as.POSIXlt(dt2)\n",
    "dt_lt$year+1900\n",
    "dt_lt$mon\n",
    "dt_lt$yday"
   ]
  },
  {
   "cell_type": "markdown",
   "metadata": {},
   "source": [
    "Sumário estatístico de datasets:\n",
    "\n",
    "*Várias informações estatísticas, com um comando simples. Pode ser muito útil para minha primeira aproximação*"
   ]
  },
  {
   "cell_type": "code",
   "execution_count": null,
   "metadata": {},
   "outputs": [],
   "source": [
    "library(dplyr)\n",
    "summary(river_df)"
   ]
  },
  {
   "cell_type": "markdown",
   "metadata": {},
   "source": [
    "Vários recursos de análise da qualidade dos dados coletados:\n",
    "\n",
    "*Lembre-se de consultar a documentação do Skimr. Sempre que usar um pacote no R, ou qualquer linguagem, é conveniente sempre dar uma boa olhada na sua documentação. Às vezes um pacote pode ser incompatível com a versão de R presente neste Notebook. O Anaconda permite mudar isso. Às vezes ele ficou obsoleto e foi deprecado, ou mudou de nome. Às vezes o R do Jupyter Notebook não usa exatamente a mesma biblioteca. Consultando a documentação, mesmo um pouco de código extremamente desatualizado pode ser colocado em ordem para funcionar*"
   ]
  },
  {
   "cell_type": "code",
   "execution_count": null,
   "metadata": {},
   "outputs": [],
   "source": [
    "install.packages(\"skimr\")\n",
    "library(skimr)\n",
    "skim(river_df)"
   ]
  },
  {
   "cell_type": "markdown",
   "metadata": {},
   "source": [
    "Modelos lineares:\n",
    "\n",
    "*Fórmula - muito importante para qualquer pacote de modelo!*\n",
    "\n",
    "A dica do pessoal da USACE é que no R, observe sempre muito atentamente o que vem entre parênteses depois de invocar uma função\n",
    "\n",
    "- **Primeiro detalhe**, o que chamamos de **função** normalmente não é apenas uma reles função. Todas essas linguagens modernas, inclusive o R é totalmente **orientada a objeto**\n",
    "\n",
    "Então na verdade, quando eu estou dizendo \n",
    "\n",
    "    mg <- unique(...)\n",
    "    \n",
    "De fato eu estou invocando a **classe** unique() e materializando um **objeto** desta mesma classe que irá responder pelo nome no caso, mg. Essas classes podem e devem ser lidadas conforme toda a teoria de **orientação a objeto**. Eu posso invocar métodos internos, ou criar novos métodos, muitas delas possuem diversos atributos, ou eu posso criar novos atributos, elas suportam herança, sobrescrição, deleção e um bocado de coisas. É legal ler sobre orientação a objeto em R. Isso poderá não complicar, mas facilitar imensamente sua vida no futuro!\n",
    "\n",
    "- **Segundo detalhe**, eu passo dentro dos parênteses, os meus **parâmetros**. Por exemplo, (nome). Eles podem ter um valor padrão (nome=\"Camila\"). Cada parâmetro é passado na sequência correta e nesse caso não precisa do nome do parâmetro (\"Camila, 24, \"feminino), ou em qualquer ordem, desde que explicitamente (nome=\"Camila\", idade=24, sexo=\"feminino\"), sempre separados por vírgulas. Há alguns parâmetros opcionais, mas em alguns casos, a boa prática de programação me diz que em alguns casos eu assim mesmo devo escrevê-los (sep=\",\"). Isso pode tornar a identificação de erros **muito mais simples** (poxa, como é que eu comi bola aqui, o separador deste meu csv é \";\"!\n",
    "\n",
    "- **Terceiro detalhe**, a dica da USACE. As classes dos pacotes do R adoram receber **fórmulas** como parâmetros. Então sempre esteja muito atento ao que está sendo enviado para a criação do seu objeto. Sua fórmula estará lá. Se você comeu bola na fórmula, seu modelo está destruído! Isso não é muito comum em linguagens de programação mais simples. Mas como a maior parte das bibliotecas do R serve para criação de modelos matemáticos e modelos exigem fórmulas, observe onde elas sempre irão aparecer: nos parênteses!\n",
    "\n",
    "Um caso aqui:\n",
    "\n",
    "    model_4 <- lm(NT ~ log(Q) + date + date:Q, data = MOG)\n",
    "    \n",
    "Onde está minha fórmula de linearização para o Modelo 4?\n",
    "\n",
    "    NT ~ log(Q) + date + date:Q"
   ]
  },
  {
   "cell_type": "markdown",
   "metadata": {},
   "source": [
    "O help do Linear Models:"
   ]
  },
  {
   "cell_type": "code",
   "execution_count": null,
   "metadata": {},
   "outputs": [],
   "source": [
    "?lm"
   ]
  },
  {
   "cell_type": "markdown",
   "metadata": {},
   "source": [
    "### Trabalhos com datasets\n",
    "\n",
    "---"
   ]
  },
  {
   "cell_type": "markdown",
   "metadata": {},
   "source": [
    "Primeiro exercício de filtragem - dataframe MOG:"
   ]
  },
  {
   "cell_type": "code",
   "execution_count": null,
   "metadata": {},
   "outputs": [],
   "source": [
    "unique(river_df$CODIGO_ESTACAO)\n",
    "MOG <- river_df %>%\n",
    "\tfilter(CODIGO_ESTACAO == \"MOGU02180\")\n",
    "skim(MOG)"
   ]
  },
  {
   "cell_type": "markdown",
   "metadata": {},
   "source": [
    "Sintaxe SQL no R: [exemplo](https://stackoverflow.com/questions/37770394/similar-function-to-sql-where-clause-in-r)"
   ]
  },
  {
   "cell_type": "code",
   "execution_count": null,
   "metadata": {},
   "outputs": [],
   "source": [
    "library(sqldf)\n",
    "system.time(sqldf(\"SELECT * FROM temps1 WHERE country != 'A'\"))\n",
    "\n",
    "library(data.table)\n",
    "system.time(setDT(temps1, key = 'country')[!(\"A\")])"
   ]
  },
  {
   "cell_type": "markdown",
   "metadata": {},
   "source": [
    "Modelo linear:"
   ]
  },
  {
   "cell_type": "code",
   "execution_count": null,
   "metadata": {},
   "outputs": [],
   "source": [
    "model_1 <- lm(NT ~ Q, data = MOG)"
   ]
  },
  {
   "cell_type": "markdown",
   "metadata": {},
   "source": [
    "Comparação de modelos:\n",
    "\n",
    "*Observe que é muito importante a fórmula que eu aplico a cada modelo!*\n",
    "\n",
    "Uso do comando Predict()"
   ]
  },
  {
   "cell_type": "code",
   "execution_count": null,
   "metadata": {},
   "outputs": [],
   "source": [
    "model_1 <- lm(NT ~ Q, data = MOG)\n",
    "rsq_1 <- summary(model_1)$r.squared\n",
    "\n",
    "summart(model_1)\n",
    "coefficients(model_1)$r.squared\n",
    "\n",
    "model_2 <- lm(NT ~ Q + date, data = MOG)\n",
    "rsq_1 <- summary(model_2)$r.squared\n",
    "coefficients(model_1)$r.squared\n",
    "\n",
    "model_3 <- lm(NT ~ log(Q) + date, data = MOG)\n",
    "rsq_1 <- summary(model_3)$r.squared\n",
    "\n",
    "model_4 <- lm(NT ~ log(Q) + date + date:Q, data = MOG)\n",
    "rsq_1 <- summary(model_4)$r.squared\n",
    "plot(model_4)"
   ]
  },
  {
   "cell_type": "markdown",
   "metadata": {},
   "source": [
    "Usando o ggplot2: \n",
    "\n",
    "*Observe que aes é uma função!*"
   ]
  },
  {
   "cell_type": "code",
   "execution_count": null,
   "metadata": {},
   "outputs": [],
   "source": [
    "library(ggplot2)\n",
    "rivers_df <-readr::read_csv(\"data/brazil_df.csv\")\n",
    "ggplot(data = rivers_df, mapping = aes(x=Q, y=NT, color = CODIGO_ESTACAO)) +\n",
    "    geom_point() +\n",
    "    theme_bw()\n",
    "rivers_plot_title <- rivers_plot + \n",
    "    ggtitle(\"Brazil River Data\")\n",
    "rivers_plot_title"
   ]
  },
  {
   "cell_type": "code",
   "execution_count": null,
   "metadata": {},
   "outputs": [],
   "source": [
    "Y ~ X\n",
    "rivers_plot +\n",
    "    facet_grid(. ~ CODIGO_ESTACAO, scales = \"free_x\")"
   ]
  },
  {
   "cell_type": "markdown",
   "metadata": {},
   "source": [
    "Teste: \n",
    "\n",
    "*Foi criado um campo categórico, separando estação seca de molhada e com ele, os gráficos foram partidos entre as duas estações*"
   ]
  },
  {
   "cell_type": "code",
   "execution_count": null,
   "metadata": {},
   "outputs": [],
   "source": [
    "?ifelse\n",
    "ifelse(4 > 5, yes = \"strange\", no = \"normal\")\n",
    "x <- Sys.Date()\n",
    "\n",
    "dry_start <- 6 # month number\n",
    "dry_end <- 9 # month number\n",
    "\n",
    "x_month_number <- as.numeric(format(x, \"%m\"))\n",
    "ifelse(x_month_number >= 6 & x_month_number <= 9,\n",
    "    yes = \"dry\", no = \"wet\")\n",
    "\n",
    "river_season <- rivers_df %>%\n",
    "    mutate(month_number = as.numeric(format(date, \"%m\")),\n",
    "        season = ifelse(x_month_number >= 6 & x_month_number <= 9,\n",
    "        yes = \"dry\", no = \"wet\"))\n",
    "\n",
    "season_plot <- ggplot(river_season,\n",
    "                      aes(x=Q, y=NT, color=CODIGO_ESTACAO)) +\n",
    "geom_point() +\n",
    "    facet_grid(season ~ CODIGO_ESTACAO, scales=\"free_x\")\n",
    "season_plot"
   ]
  },
  {
   "cell_type": "markdown",
   "metadata": {},
   "source": [
    "Indicação do erro padrão: \n",
    "\n",
    "*Para fórmula é necessário definir os eixos x e y*"
   ]
  },
  {
   "cell_type": "code",
   "execution_count": null,
   "metadata": {},
   "outputs": [],
   "source": [
    "season_plot +\n",
    "    geom_smooth(method = \"lm\", formula = y ~ x)"
   ]
  },
  {
   "cell_type": "markdown",
   "metadata": {},
   "source": [
    "Para desativar:"
   ]
  },
  {
   "cell_type": "code",
   "execution_count": 42,
   "metadata": {},
   "outputs": [
    {
     "ename": "ERROR",
     "evalue": "Error in geom_smooth(method = \"lm\", formula = y ~ x, se = FALSE): não foi possível encontrar a função \"geom_smooth\"\n",
     "output_type": "error",
     "traceback": [
      "Error in geom_smooth(method = \"lm\", formula = y ~ x, se = FALSE): não foi possível encontrar a função \"geom_smooth\"\nTraceback:\n"
     ]
    }
   ],
   "source": [
    "geom_smooth(method = \"lm\", formula = y ~x, se = FALSE)"
   ]
  },
  {
   "cell_type": "markdown",
   "metadata": {},
   "source": [
    "gráfico de caixas:"
   ]
  },
  {
   "cell_type": "code",
   "execution_count": null,
   "metadata": {},
   "outputs": [],
   "source": [
    "boxplot_q <- ggplot(river_season, aes(x=CODIGO_ESTACAO, y=Q)) +\n",
    "    geom_boxplot()"
   ]
  },
  {
   "cell_type": "markdown",
   "metadata": {},
   "source": [
    "redimensionando e colocando legendas:"
   ]
  },
  {
   "cell_type": "code",
   "execution_count": null,
   "metadata": {},
   "outputs": [],
   "source": [
    "boxplot_q + facet_grid(. ~ CODIGO_ESTACAO, scales=\"free\")"
   ]
  },
  {
   "cell_type": "markdown",
   "metadata": {},
   "source": [
    "escala log 10: \n",
    "\n",
    "*cuidado ao plotar pontos com log(0)!*"
   ]
  },
  {
   "cell_type": "code",
   "execution_count": null,
   "metadata": {},
   "outputs": [],
   "source": [
    "boxplot_q + scale_y_log10()"
   ]
  },
  {
   "cell_type": "markdown",
   "metadata": {},
   "source": [
    "estações coloridas e separadas:"
   ]
  },
  {
   "cell_type": "code",
   "execution_count": null,
   "metadata": {},
   "outputs": [],
   "source": [
    "boxplot_q_season <- ggplot(river_season, \n",
    "                    aes(x=CODIGO_ESTACAO, \n",
    "                        y=Q,\n",
    "                        fill=season)) +\n",
    "geom_boxplot() +\n",
    "scale_y_log10()"
   ]
  },
  {
   "cell_type": "markdown",
   "metadata": {},
   "source": [
    "Salvar o gráfico em pdf:"
   ]
  },
  {
   "cell_type": "code",
   "execution_count": null,
   "metadata": {},
   "outputs": [],
   "source": [
    "ggsave(filename = \"output/discharge_boxplot.pdf\",\n",
    "    boxplot_q_season,\n",
    "    height = 5, width = 7)"
   ]
  },
  {
   "cell_type": "markdown",
   "metadata": {},
   "source": [
    "Criando um loop:"
   ]
  },
  {
   "cell_type": "code",
   "execution_count": null,
   "metadata": {},
   "outputs": [],
   "source": [
    "for (station in station_codes) {\n",
    "    print(station)\n",
    "}"
   ]
  },
  {
   "cell_type": "markdown",
   "metadata": {},
   "source": [
    "Filtrando com loop por estação, plotando e salvando em pdf:\n",
    "\n",
    "*Select para colunas e filter para linhas*"
   ]
  },
  {
   "cell_type": "code",
   "execution_count": null,
   "metadata": {},
   "outputs": [],
   "source": [
    "for (station in station_codes) {\n",
    "  print(station)\n",
    "  current_data <- filter(rivers_df, CODIGO_ESTACAO == station)\n",
    "  station_model <- lm(NT ~log(Q) + date, data = current_data)\n",
    "  current_data <- current_data %>%\n",
    "    mutate(preds = predict(station_model))\n",
    "    # NT = 1.2*Q + 0.5\n",
    "  station_plot <- ggplot(current_data, aes(x=NT, y=preds)) +\n",
    "    geom_point() +\n",
    "    ggtitle(station)\n",
    "  print(station_plot)\n",
    "  station_filename <- paste0(\"output/preds_obs\", station, \".pdf\")\n",
    "  ggsave(station_filename, station_plot, height = 5, width = 7)\n",
    "}"
   ]
  },
  {
   "cell_type": "markdown",
   "metadata": {},
   "source": [
    "Usando o pacote de interatividade Plotly:"
   ]
  },
  {
   "cell_type": "code",
   "execution_count": null,
   "metadata": {},
   "outputs": [],
   "source": [
    "install.packages(\"plotly\")"
   ]
  },
  {
   "cell_type": "markdown",
   "metadata": {},
   "source": [
    "Fazendo um gráfico interativo rápido:\n",
    "\n",
    "*isso é bom para HTML*\n",
    "\n",
    "*outro pacote é R Shiny*"
   ]
  },
  {
   "cell_type": "code",
   "execution_count": null,
   "metadata": {},
   "outputs": [],
   "source": [
    "library(plotly)\n",
    "\n",
    "nt_q_plot <- ggplot(brazil_df, aes(x=Q, y=NT, color=CODIGO_ESTACAO)) + \n",
    "    geom_point()\n",
    "nt_q_plot_interactive <- ggplotly(nt_q_plot)\n",
    "nt_q_plot_interactive"
   ]
  },
  {
   "cell_type": "markdown",
   "metadata": {},
   "source": [
    "### Início dos estudos em EGRET\n",
    "\n",
    "---"
   ]
  },
  {
   "cell_type": "markdown",
   "metadata": {},
   "source": [
    "Usos (com D-3): [exemplo](https://owi.usgs.gov/vizlab/water-use-15/#view=USA&category=total)"
   ]
  },
  {
   "cell_type": "markdown",
   "metadata": {},
   "source": [
    "Outros:\n",
    "\n",
    "[aqui](https://github.com/USGS-VIZLAB) e\n",
    "\n",
    "[aqui](https://owi.usgs.gov/vizlab/hurricane-irma/)"
   ]
  },
  {
   "cell_type": "markdown",
   "metadata": {},
   "source": [
    "EGRET - Exploration and Graphics for River Trends\n",
    "\n",
    "---\n",
    "\n",
    "*É um pacote em R para análises em mudanças de qualidade de água e vazão de rios de longo prazo. Inclui métodos de qualidade de água (Weighted Regressions on Time, Discharge and Season - WRTDS)*\n",
    "\n",
    "Lindsay Carr and Laura DeCicco\n",
    "\n",
    "USGS Data Science [fonte](github.com/USGS-R/EGRET)\n",
    "\n",
    "Guia do usuário: [aqui](pubs.usgs.gov/tm/04/a10)\n",
    "\n",
    "No github: [aqui](usgs-r.github.io/EGRET)\n",
    "\n",
    "Geral da USGS:\n",
    "\n",
    "    github.com/USGS-R/...\n",
    "\n",
    "Exemplo:\n"
   ]
  },
  {
   "cell_type": "code",
   "execution_count": null,
   "metadata": {},
   "outputs": [],
   "source": [
    "github.com/USGS-R/WREG"
   ]
  },
  {
   "cell_type": "markdown",
   "metadata": {},
   "source": [
    "Entrada de dados:"
   ]
  },
  {
   "cell_type": "code",
   "execution_count": null,
   "metadata": {},
   "outputs": [],
   "source": [
    "library(readr)\n",
    "library(dplyr)"
   ]
  },
  {
   "cell_type": "code",
   "execution_count": null,
   "metadata": {},
   "outputs": [],
   "source": [
    "Sample <- read_csv(\"SAPU02900.csv\") %>%\n",
    "    select(date, status, NT) %>%\n",
    "    compressData() %>%\n",
    "    populateSampleColumns()"
   ]
  },
  {
   "cell_type": "code",
   "execution_count": null,
   "metadata": {},
   "outputs": [],
   "source": [
    "Daily <- read_csv(\"SETA04600.csv\") %>%\n",
    "    select(dateTime = date, value=Q) %>%\n",
    "    populateDaily(qConvert = 1) #assumes Q is cms"
   ]
  },
  {
   "cell_type": "markdown",
   "metadata": {},
   "source": [
    "Programático:"
   ]
  },
  {
   "cell_type": "code",
   "execution_count": null,
   "metadata": {},
   "outputs": [],
   "source": [
    "INFO <- data.frame(\n",
    "                Param.units = \"mg/L\",\n",
    "                shortName = \"SETA04600\",\n",
    "                paramShortName = \"Total Nitrogen\",\n",
    "                drainSqKm = 100,\n",
    "                constitAbbrev = \"TN\",\n",
    "                staAbbrev = \"SETA\",\n",
    "                paStart = 10,\n",
    "                paLong = 12,\n",
    "                stringsAsFactors = FALSE)\n",
    "\n",
    "eList <- mergeReport(INFO, Daily, Sample)"
   ]
  },
  {
   "cell_type": "markdown",
   "metadata": {},
   "source": [
    "Carregando o Egret:"
   ]
  },
  {
   "cell_type": "code",
   "execution_count": 3,
   "metadata": {},
   "outputs": [
    {
     "name": "stderr",
     "output_type": "stream",
     "text": [
      "also installing the dependencies 'dotCall64', 'spam', 'dataRetrieval', 'fields', 'truncnorm'\n",
      "\n"
     ]
    },
    {
     "name": "stdout",
     "output_type": "stream",
     "text": [
      "package 'dotCall64' successfully unpacked and MD5 sums checked\n",
      "package 'spam' successfully unpacked and MD5 sums checked\n",
      "package 'dataRetrieval' successfully unpacked and MD5 sums checked\n",
      "package 'fields' successfully unpacked and MD5 sums checked\n",
      "package 'truncnorm' successfully unpacked and MD5 sums checked\n",
      "package 'EGRET' successfully unpacked and MD5 sums checked\n",
      "\n",
      "The downloaded binary packages are in\n",
      "\tC:\\Users\\epasseto\\AppData\\Local\\Temp\\Rtmpo75EWs\\downloaded_packages\n"
     ]
    },
    {
     "name": "stderr",
     "output_type": "stream",
     "text": [
      "starting httpd help server ... done\n"
     ]
    },
    {
     "data": {},
     "metadata": {},
     "output_type": "display_data"
    }
   ],
   "source": [
    "install.packages(\"EGRET\")\n",
    "library(EGRET)\n",
    "??EGRET\n",
    "\n",
    "eList <- Choptank_eList\n",
    "Daily <- eList$Daily\n",
    "Sample <- eList$Sample\n",
    "INFO <- eList$INFO"
   ]
  },
  {
   "cell_type": "markdown",
   "metadata": {},
   "source": [
    "No EGRET, o primeiro argumento será sempre eList:"
   ]
  },
  {
   "cell_type": "code",
   "execution_count": null,
   "metadata": {},
   "outputs": [],
   "source": [
    "plot(eList)"
   ]
  },
  {
   "cell_type": "markdown",
   "metadata": {},
   "source": [
    "Exemplo da documentação pdf do EGRET:\n",
    "\n",
    "*Isso é para vaões!*"
   ]
  },
  {
   "cell_type": "code",
   "execution_count": null,
   "metadata": {},
   "outputs": [],
   "source": [
    "plotFlowSingle(eList, istat=7,qUnit=\"thousandCfs\")\n",
    "plotSDLogQ(eList)\n",
    "plotQTimeDaily(eList, qLower=1,qUnit=3)\n",
    "plotFour(eList, qUnit=3) \n",
    "plotFourStats(eList, qUnit=3)"
   ]
  },
  {
   "cell_type": "markdown",
   "metadata": {},
   "source": [
    "Loadflex no Github:"
   ]
  },
  {
   "cell_type": "code",
   "execution_count": null,
   "metadata": {},
   "outputs": [],
   "source": [
    "USGS-R/loadflex"
   ]
  },
  {
   "cell_type": "markdown",
   "metadata": {},
   "source": [
    "Habilitar repositórios CRAN & GRAN:\n",
    "\n",
    "*O repositório CRAN é de qualquer biblioteca R que seja compreensível, então é um repositório mais aberto*\n",
    "\n",
    "*E o GRAN é a mesma coisa, com o G de \"Geological\"*"
   ]
  },
  {
   "cell_type": "code",
   "execution_count": null,
   "metadata": {},
   "outputs": [],
   "source": [
    "rprofile_path = file.path(Sys.getenv(\"HOME\"), \".Rprofile\")\n",
    "write('\\noptions(repos=c(getOption(\\'repos\\'),\n",
    "    CRAN=\\'https://cloud.r-project.org\\',\n",
    "    USGS=\\'https://owi.usgs.gov/R\\'))\\n',\n",
    "      rprofile_path, \n",
    "      append =  TRUE)"
   ]
  },
  {
   "cell_type": "markdown",
   "metadata": {},
   "source": [
    "Instalando:"
   ]
  },
  {
   "cell_type": "code",
   "execution_count": null,
   "metadata": {},
   "outputs": [],
   "source": [
    "install.packages(\"loadflex\")\n",
    "library(loadflex)"
   ]
  },
  {
   "cell_type": "markdown",
   "metadata": {},
   "source": [
    "Um blog útil: [aqui](owi.usgs.gov/blog) \n",
    "\n",
    "USGS SPARROW:\n",
    "Fontes poluidoras\n",
    "- atmosfera (despejos lineares)\n",
    "- solo (despejos lineares)\n",
    "- despejos pontuais\n",
    "\n",
    "Ponto de controle (monitoramento)\n",
    "\n",
    "Mechanistic constraints + statistical features\n",
    "- salinidade\n",
    "- vazões\n",
    "- N\n",
    "- Ph\n",
    "- carbono orgânico\n",
    "- sedimento em suspensão\n",
    "- coliformes\n",
    "- patogênicos\n",
    "\n",
    "Rshiny Mapper"
   ]
  },
  {
   "cell_type": "markdown",
   "metadata": {},
   "source": [
    "### Markdown\n",
    "\n",
    "---\n",
    "\n",
    "Modo fácil de escrever código e misturar com texto formatado\n",
    "\n",
    "*Todas essas caixas de texto aqui do Jupyter Notebook estão em Markdown!*"
   ]
  },
  {
   "cell_type": "code",
   "execution_count": null,
   "metadata": {},
   "outputs": [],
   "source": [
    "knit\n",
    "```{r setup, include=FALSE}\n",
    "knitr::opts_chunk$set(echo = TRUE)"
   ]
  },
  {
   "cell_type": "markdown",
   "metadata": {},
   "source": [
    "#### Terceiro dia, R aplicado\n",
    "\n",
    "---"
   ]
  },
  {
   "cell_type": "markdown",
   "metadata": {},
   "source": [
    "Instalar pacotes:"
   ]
  },
  {
   "cell_type": "code",
   "execution_count": null,
   "metadata": {},
   "outputs": [],
   "source": [
    "install.packages(c(\"ggthemes\", \"maptools\", \"mapdata\", \"brazilmaps\", \"ggmap\", \"readx1\",\n",
    "                   \"openxlsx\", \"sf\", \"RPostgreSQL\", \"toxEval\", \"RSQLite\", \"MonetDBLite\"))"
   ]
  },
  {
   "cell_type": "markdown",
   "metadata": {},
   "source": [
    "Ler o .csv e transformar em .rds:\n",
    "\n",
    "*É um formato de arquivo binário, mais compacto e eficiente do que o clássico .csv*"
   ]
  },
  {
   "cell_type": "code",
   "execution_count": null,
   "metadata": {},
   "outputs": [],
   "source": [
    "brazil_df <- readr::read_csv(\"data/brazil_df.csv\")"
   ]
  },
  {
   "cell_type": "markdown",
   "metadata": {},
   "source": [
    "Salvar para um arquivo binário rds:"
   ]
  },
  {
   "cell_type": "code",
   "execution_count": null,
   "metadata": {},
   "outputs": [],
   "source": [
    "saveRDS(brazil_df, file = \"data/brazil_df.rds\")\n",
    "\n",
    "brazil_df <- readRDS(file = \"data/brazil_df.rds\")"
   ]
  },
  {
   "cell_type": "markdown",
   "metadata": {},
   "source": [
    "Para testar tempos de carregamento de pacotes de dados com vários sistemas de leitura:"
   ]
  },
  {
   "cell_type": "code",
   "execution_count": null,
   "metadata": {},
   "outputs": [],
   "source": [
    "system.time({\n",
    "  test_df <- read.csv(file= \"data/test.csv\")\n",
    "})\n",
    "\n",
    "system.time({\n",
    "  test_df_readr <- readr::read_csv(file= \"data/test.csv\")\n",
    "})"
   ]
  },
  {
   "cell_type": "markdown",
   "metadata": {},
   "source": [
    "Lendo com filtro:"
   ]
  },
  {
   "cell_type": "code",
   "execution_count": null,
   "metadata": {},
   "outputs": [],
   "source": [
    "read_filter <- readRDS(file_name)"
   ]
  },
  {
   "cell_type": "markdown",
   "metadata": {},
   "source": [
    "Ler, agrupar e criar um sumário:\n",
    "\n",
    "*Existe a possibilidade de ler em um csv apenas as colunas que te interessam, o que poupa um esforço enorme!*"
   ]
  },
  {
   "cell_type": "markdown",
   "metadata": {},
   "source": [
    "Ler e gravar em planilhas Excel:"
   ]
  },
  {
   "cell_type": "markdown",
   "metadata": {},
   "source": [
    "Sincronizar um banco de dados externo:"
   ]
  },
  {
   "cell_type": "markdown",
   "metadata": {},
   "source": [
    "#### Criar seus próprios pacotes"
   ]
  },
  {
   "cell_type": "markdown",
   "metadata": {},
   "source": [
    "Devtools:"
   ]
  },
  {
   "cell_type": "code",
   "execution_count": null,
   "metadata": {},
   "outputs": [],
   "source": [
    "library(devtools)\n",
    "\n",
    "\n",
    "library(toxEval)\n",
    "\n",
    "explore_endpoints()"
   ]
  },
  {
   "cell_type": "markdown",
   "metadata": {},
   "source": [
    "Mapa interativo da USGS:"
   ]
  },
  {
   "cell_type": "code",
   "execution_count": null,
   "metadata": {},
   "outputs": [],
   "source": [
    "install_github(\"USGS-R/EflowStats\")\n",
    "\n",
    "?USGS-R/EflowStats\n",
    "\n",
    "??USGS-R/EflowStats\n",
    "\n",
    "library(USGS-R/EflowStats)"
   ]
  },
  {
   "cell_type": "markdown",
   "metadata": {},
   "source": [
    "Mapas:"
   ]
  },
  {
   "cell_type": "code",
   "execution_count": null,
   "metadata": {},
   "outputs": [],
   "source": [
    "install.packages (\"brazilmaps\")\n",
    "\n",
    "library(ggplot2)\n",
    "library(ggthemes)\n",
    "library(dplyr)\n",
    "library(maptools)\n",
    "library(mapdata)\n",
    "\n",
    "whole_br <- map('world', 'brazil', fill=TRUE, plot=FALSE)\n",
    "\n",
    "whole_br_df <- data.frame(x=whole_br[[1]], y=whole_br[[2]])\n",
    "\n",
    "fake_data <- data.frame(\n",
    "  x = c(-47.8, -44.2),\n",
    "  y = c(-15.75, -2.6),\n",
    "  measured = c(10, 5)\n",
    ")"
   ]
  },
  {
   "cell_type": "markdown",
   "metadata": {},
   "source": [
    "Dados como um fator:"
   ]
  },
  {
   "cell_type": "code",
   "execution_count": null,
   "metadata": {},
   "outputs": [],
   "source": [
    "fake_data <- as.factor(fake_data$measured)\n",
    "\n",
    "ggplot() +\n",
    "  geom_polygon(data = whole_br_df, aes(x=x,y=y),\n",
    "                fill = \"pink\",\n",
    "                color = \"white\") +\n",
    "  geom_point(data = fake_data,\n",
    "            aes(x=x, y=y, color=measured))+\n",
    "  coord_map(\"polyconic\") +\n",
    "  theme_map()\n",
    "\n",
    "install.packages(\"ggspatial\")\n",
    "\n",
    "  library(brazilmaps)\n",
    "  library(sf)\n",
    "  library(ggspatial)"
   ]
  },
  {
   "cell_type": "markdown",
   "metadata": {},
   "source": [
    "Outra versão, com o buffer para destacar o país:  "
   ]
  },
  {
   "cell_type": "code",
   "execution_count": null,
   "metadata": {},
   "outputs": [],
   "source": [
    "ggplot() +\n",
    "  geom_polygon(data = whole_br_df, aes(x=x,y=y),\n",
    "                size=10,\n",
    "                color = \"red\") +\n",
    "  geom_sf(data = st_geometry(state_map),\n",
    "           fill=\"pink\", color=\"blue\") +\n",
    "  geom_point(data = fake_data, size = 5,\n",
    "            aes(x=x, y=y, color=measured))+\n",
    "  coord_sf(datum = NA, expand = FALSE) +\n",
    "  theme_map()\n",
    "\n",
    "estado do Rio:\n",
    "# Adding states\n",
    "  state_map <- get_brmap(geo = \"State\", class = \"sf\")\n",
    "\n",
    "  rio_map <- get_brmap(geo = \"State\",\n",
    "                     geo.filter = list(State = 33),\n",
    "                     class = \"sf\")"
   ]
  },
  {
   "cell_type": "code",
   "execution_count": null,
   "metadata": {},
   "outputs": [],
   "source": [
    "ggplot() +\n",
    "  #geom_polygon(data = whole_br_df, aes(x=x,y=y),\n",
    "  #              size=10,\n",
    "  #              fill = \"re d\") +\n",
    "  geom_sf(data = st_geometry(state_map),\n",
    "           fill=\"pink\", color=\"blue\") +\n",
    "  geom_sf(data = st_geometry(rio_map),\n",
    "          color=\"red\") +\n",
    "  geom_point(data = fake_data, size = 5,\n",
    "            aes(x=x, y=y, color=measured))+\n",
    "  coord_sf(datum = NA, expand = FALSE) +\n",
    "  theme_map()"
   ]
  },
  {
   "cell_type": "markdown",
   "metadata": {},
   "source": [
    "Rios na Amazônia:\n",
    "\n",
    "*Eu preciso apontar que a geometria é a mesma do shape anterior!*"
   ]
  },
  {
   "cell_type": "code",
   "execution_count": null,
   "metadata": {},
   "outputs": [],
   "source": [
    "amazon_rivers_shp <- st_read(\"data/lineaire_10km.shp\")\n",
    "st_crs(amazon_rivers_shp) <- st_crs(state_map)\n",
    "\n",
    "clipped_amazon <- st_intersection(st_geometry(amazon_rivers_shp),\n",
    "                                  st_geometry(state_map))"
   ]
  },
  {
   "cell_type": "code",
   "execution_count": null,
   "metadata": {},
   "outputs": [],
   "source": [
    "ggplot() +\n",
    "  geom_polygon(data = whole_br_df, aes(x=x,y=y),\n",
    "               size=10,\n",
    "               color = \"red\") +\n",
    "  geom_sf(data = st_geometry(state_map),\n",
    "          fill=\"pink\", color=\"blue\") +\n",
    "  geom_sf(data = st_geometry(rio_map),\n",
    "          color=\"red\") +\n",
    "  geom_sf(data = clipped_amazon,\n",
    "          color = \"blue\") +\n",
    "  geom_point(data = fake_data, size = 5,\n",
    "             aes(x=x, y=y, color=measured)) +\n",
    "  coord_sf(datum = NA, expand = FALSE) +\n",
    "  theme_map()"
   ]
  },
  {
   "cell_type": "markdown",
   "metadata": {},
   "source": [
    "Criação de pacotes R:\n",
    "\n",
    "- licença cc0 - open source\n",
    "\n",
    "*Não esqueça de dar um Install and Restart para ativar o seu novo pacote!*"
   ]
  },
  {
   "cell_type": "code",
   "execution_count": null,
   "metadata": {},
   "outputs": [],
   "source": [
    "library(TestePacote)\n",
    "hello(\"Eduardo\")\n",
    "?hello"
   ]
  },
  {
   "cell_type": "markdown",
   "metadata": {},
   "source": [
    "Em hello.R:"
   ]
  },
  {
   "cell_type": "code",
   "execution_count": null,
   "metadata": {},
   "outputs": [],
   "source": [
    "hello <- function(nome = \"ANA\") {\n",
    "  print(paste(\"Hello, \", nome))\n",
    "}"
   ]
  },
  {
   "cell_type": "markdown",
   "metadata": {},
   "source": [
    "Em Description:"
   ]
  },
  {
   "cell_type": "code",
   "execution_count": null,
   "metadata": {},
   "outputs": [],
   "source": [
    "Package: TestePacote\n",
    "Type: Package\n",
    "Title: Teste em pacotes R\n",
    "Version: 0.1.0\n",
    "Author: Eduardo Passeto\n",
    "Maintainer: <epasseto@gmail.com>\n",
    "Description: Este pacote serve para demonstrar como o sistema de criar pacotes funciona\n",
    "License: What license is it under?\n",
    "Encoding: UTF-8\n",
    "LazyData: true"
   ]
  },
  {
   "cell_type": "markdown",
   "metadata": {},
   "source": [
    "Usar padrão Roxygen2:\n",
    "\n",
    "*Não se esqueça de ativar em \"package\" e \"configuration\", ativando o check box!*"
   ]
  },
  {
   "cell_type": "code",
   "execution_count": null,
   "metadata": {},
   "outputs": [],
   "source": [
    "install.packages(\"roxygen2\")"
   ]
  },
  {
   "cell_type": "markdown",
   "metadata": {},
   "source": [
    "Padrão Roxygen:\n",
    "\n",
    "    @title ...\n",
    "\n",
    "    @description ...\n",
    "\n",
    "    @param data ...\n",
    "\n",
    "*A importância do Roxygen é que ele mantém a documentação junto com a função e assim ela fica sempre organizada e atualizada*"
   ]
  },
  {
   "cell_type": "markdown",
   "metadata": {},
   "source": [
    "Exemplo completo:"
   ]
  },
  {
   "cell_type": "code",
   "execution_count": null,
   "metadata": {},
   "outputs": [],
   "source": [
    "#' @title Printing hello\n",
    "#' @author Eduardo Passeto\n",
    "#' @param name a strign of a name to print\n",
    "#' @export'\n",
    "#'\n",
    "#'\n",
    "hello <- function(nome = \"ANA\") {\n",
    "  print(paste(\"Hello, \", nome))\n",
    "}"
   ]
  },
  {
   "cell_type": "markdown",
   "metadata": {},
   "source": [
    "Em outra janela de R, eu posso carregar meu novo pacote:"
   ]
  },
  {
   "cell_type": "code",
   "execution_count": null,
   "metadata": {},
   "outputs": [],
   "source": [
    "library(TestePacote)"
   ]
  },
  {
   "cell_type": "markdown",
   "metadata": {},
   "source": [
    "Para  chamar minha função:\n",
    "\n",
    "    hello(...)\n",
    "\n",
    "*Isso aqui aparece como origem*\n",
    "\n",
    "    library{testePacote}"
   ]
  },
  {
   "cell_type": "markdown",
   "metadata": {},
   "source": [
    "Tutorial do shiny: [aqui](shiny.rstudio.com/tutorial)"
   ]
  }
 ],
 "metadata": {
  "kernelspec": {
   "display_name": "R",
   "language": "R",
   "name": "ir"
  },
  "language_info": {
   "codemirror_mode": "r",
   "file_extension": ".r",
   "mimetype": "text/x-r-source",
   "name": "R",
   "pygments_lexer": "r",
   "version": "3.4.3"
  }
 },
 "nbformat": 4,
 "nbformat_minor": 2
}
