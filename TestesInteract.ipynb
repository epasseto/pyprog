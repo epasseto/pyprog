{
 "cells": [
  {
   "cell_type": "markdown",
   "metadata": {},
   "source": [
    "## Bokeh \n",
    "\n",
    "---\n",
    "\n",
    "E testes de interatividade com Widgets"
   ]
  },
  {
   "cell_type": "markdown",
   "metadata": {},
   "source": [
    "### Widgets\n",
    "\n",
    "---\n",
    "\n",
    "Tipos básicos: \n",
    "\n",
    "- entrada de texto\n",
    "\n",
    "- botões\n",
    "\n",
    "- widgets baseados em entrada\n",
    "\n",
    "Às vezes é preciso dar o seguinte comando:\n",
    "\n",
    "    jupyter nbextension enable --py --sys-prefix widgetsnbextension\n",
    "    \n",
    "E às vezes reinstalar o pacote:\n",
    "\n",
    "    conda create -n widgets python=3.6 notebook ipywidgets -y\n",
    "\n",
    "E mandar reativar:\n",
    "\n",
    "    conda activate widgets\n",
    "    jupyter notebook --no-browser"
   ]
  },
  {
   "cell_type": "code",
   "execution_count": 12,
   "metadata": {},
   "outputs": [],
   "source": [
    "def f(x):\n",
    "    return x"
   ]
  },
  {
   "cell_type": "code",
   "execution_count": 13,
   "metadata": {},
   "outputs": [
    {
     "data": {
      "application/vnd.jupyter.widget-view+json": {
       "model_id": "ac48540d0ad5478c89c4e909a0861595",
       "version_major": 2,
       "version_minor": 0
      },
      "text/plain": [
       "interactive(children=(IntSlider(value=10, description='x', max=30, min=-10), Output()), _dom_classes=('widget-…"
      ]
     },
     "metadata": {},
     "output_type": "display_data"
    }
   ],
   "source": [
    "interact(f, x=10);"
   ]
  },
  {
   "cell_type": "code",
   "execution_count": 14,
   "metadata": {},
   "outputs": [
    {
     "data": {
      "application/vnd.jupyter.widget-view+json": {
       "model_id": "9de4fe2fa6804ee386681e026aca4f42",
       "version_major": 2,
       "version_minor": 0
      },
      "text/plain": [
       "IntSlider(value=0)"
      ]
     },
     "metadata": {},
     "output_type": "display_data"
    }
   ],
   "source": [
    "import ipywidgets\n",
    "ipywidgets.IntSlider()"
   ]
  },
  {
   "cell_type": "code",
   "execution_count": 15,
   "metadata": {},
   "outputs": [],
   "source": [
    "from ipywidgets import widgets"
   ]
  },
  {
   "cell_type": "code",
   "execution_count": 16,
   "metadata": {},
   "outputs": [],
   "source": [
    "from ipywidgets import interact, interactive, fixed, interact_manual\n",
    "import ipywidgets as widgets"
   ]
  },
  {
   "cell_type": "markdown",
   "metadata": {},
   "source": [
    "Os widgets possuem duas partes: [fonte](https://blog.dominodatalab.com/interactive-dashboards-in-jupyter/)\n",
    "\n",
    "1. The UI/HTML element that renders in the **output cell** (e.g., a textbox)\n",
    "\n",
    "2. An event handler that lets you specify **what should happen** when the value changes. In most cases, you’ll want to define a Python function that gets called when the user changes the input, so you can update other elements of your notebook (e.g., visualizations) accordingly."
   ]
  },
  {
   "cell_type": "markdown",
   "metadata": {},
   "source": [
    "#### Text input\n",
    "\n",
    "---\n",
    "\n",
    "Você pode criar um campo de entrada texto usando widgets.Text().\n",
    "<br>\n",
    "\n",
    "O .on_submit() observa a atividade e chama ma função para lidar com esta atividade."
   ]
  },
  {
   "cell_type": "code",
   "execution_count": 17,
   "metadata": {},
   "outputs": [
    {
     "data": {
      "application/vnd.jupyter.widget-view+json": {
       "model_id": "1809e46c6c07437b8e0dfbd8e7fe8305",
       "version_major": 2,
       "version_minor": 0
      },
      "text/plain": [
       "Text(value='')"
      ]
     },
     "metadata": {},
     "output_type": "display_data"
    },
    {
     "name": "stdout",
     "output_type": "stream",
     "text": [
      "ot\n"
     ]
    }
   ],
   "source": [
    "from IPython.display import display as dsp\n",
    "texto = widgets.Text()\n",
    "dsp(texto)\n",
    "disabled=False\n",
    "\n",
    "def submeter_manipulador(emissor):\n",
    "    print(texto.value)\n",
    "\n",
    "texto.on_submit(submeter_manipulador)"
   ]
  },
  {
   "cell_type": "markdown",
   "metadata": {},
   "source": [
    "#### Botão\n",
    "\n",
    "---"
   ]
  },
  {
   "cell_type": "code",
   "execution_count": 18,
   "metadata": {},
   "outputs": [
    {
     "data": {
      "application/vnd.jupyter.widget-view+json": {
       "model_id": "274574785d8b494eaf81b4eeb157508d",
       "version_major": 2,
       "version_minor": 0
      },
      "text/plain": [
       "VBox(children=(Button(description='Display Chart', style=ButtonStyle()), Output()))"
      ]
     },
     "metadata": {},
     "output_type": "display_data"
    }
   ],
   "source": [
    "%matplotlib inline\n",
    "import ipywidgets as widgets\n",
    "button = widgets.Button(description='Display Chart')\n",
    "out = widgets.Output()\n",
    "def on_button_clicked(b):\n",
    "    button.description = 'clicked'\n",
    "    with out:\n",
    "        print('Ay')\n",
    "\n",
    "button.on_click(on_button_clicked)\n",
    "widgets.VBox([button, out])"
   ]
  },
  {
   "cell_type": "code",
   "execution_count": 19,
   "metadata": {},
   "outputs": [
    {
     "data": {
      "application/vnd.jupyter.widget-view+json": {
       "model_id": "c232d827ed5a418bb5932a616ea0f571",
       "version_major": 2,
       "version_minor": 0
      },
      "text/plain": [
       "Button(description='Aperte-me!', style=ButtonStyle())"
      ]
     },
     "metadata": {},
     "output_type": "display_data"
    },
    {
     "name": "stdout",
     "output_type": "stream",
     "text": [
      "ooooh....\n"
     ]
    }
   ],
   "source": [
    "botao = widgets.Button(description=\"Aperte-me!\")\n",
    "display(botao)\n",
    "\n",
    "def botao_clicado(b):\n",
    "    print(\"ooooh....\")\n",
    "    \n",
    "botao.on_click(botao_clicado)"
   ]
  },
  {
   "cell_type": "markdown",
   "metadata": {},
   "source": [
    "Outra maneira"
   ]
  },
  {
   "cell_type": "code",
   "execution_count": 20,
   "metadata": {},
   "outputs": [
    {
     "name": "stdout",
     "output_type": "stream",
     "text": [
      "Alamanho\n"
     ]
    },
    {
     "data": {
      "application/vnd.jupyter.widget-view+json": {
       "model_id": "e2c5082fb8db43e1bf11e7d22c615b5f",
       "version_major": 2,
       "version_minor": 0
      },
      "text/plain": [
       "interactive(children=(Button(description='Run Interact', style=ButtonStyle()), Output()), _dom_classes=('widge…"
      ]
     },
     "metadata": {},
     "output_type": "display_data"
    },
    {
     "data": {
      "text/plain": [
       "<function __main__.lingua()>"
      ]
     },
     "execution_count": 20,
     "metadata": {},
     "output_type": "execute_result"
    }
   ],
   "source": [
    "import ipywidgets as widgets\n",
    "from ipywidgets import interact, interact_manual, fixed\n",
    "from random import choice\n",
    "\n",
    "def lingua():\n",
    "    selelingua = [\"Inglês\", \"Fai fong\", \"Chai fong\", \"Español\", \"Italiano\", \"Alamanho\"]\n",
    "    print (choice(selelingua))\n",
    "    \n",
    "lingua()\n",
    "\n",
    "interact_manual(lingua)"
   ]
  },
  {
   "cell_type": "markdown",
   "metadata": {},
   "source": [
    "Outras interações... mais [aqui](https://ipywidgets.readthedocs.io/en/stable/examples/Widget%20List.html)"
   ]
  },
  {
   "cell_type": "code",
   "execution_count": 21,
   "metadata": {},
   "outputs": [
    {
     "data": {
      "application/vnd.jupyter.widget-view+json": {
       "model_id": "7aeb3d9c1ff744e886de2cc439b01092",
       "version_major": 2,
       "version_minor": 0
      },
      "text/plain": [
       "interactive(children=(Text(value='text', description='x'), Output()), _dom_classes=('widget-interact',))"
      ]
     },
     "metadata": {},
     "output_type": "display_data"
    },
    {
     "data": {
      "text/plain": [
       "<function __main__.f(x)>"
      ]
     },
     "execution_count": 21,
     "metadata": {},
     "output_type": "execute_result"
    }
   ],
   "source": [
    "def f(x):\n",
    "    print (x)\n",
    "\n",
    "#interact(f, x=10)\n",
    "    \n",
    "#interact(f, x=True)\n",
    "\n",
    "interact(f, x=\"text\")"
   ]
  },
  {
   "cell_type": "markdown",
   "metadata": {},
   "source": [
    "**Caixas** criadas podem transferir conteúdo de uma para outra\n",
    "\n",
    "---"
   ]
  },
  {
   "cell_type": "code",
   "execution_count": 22,
   "metadata": {},
   "outputs": [
    {
     "data": {
      "application/vnd.jupyter.widget-view+json": {
       "model_id": "9fcb3ea348a04e4cb4445d8eb5d2f069",
       "version_major": 2,
       "version_minor": 0
      },
      "text/plain": [
       "Text(value='')"
      ]
     },
     "metadata": {},
     "output_type": "display_data"
    }
   ],
   "source": [
    "TextoSaida = widgets.Text()\n",
    "TextoSaida"
   ]
  },
  {
   "cell_type": "code",
   "execution_count": 12,
   "metadata": {},
   "outputs": [
    {
     "data": {
      "application/vnd.jupyter.widget-view+json": {
       "model_id": "acba0fd5c8ea4516bae58a8c5cb212be",
       "version_major": 2,
       "version_minor": 0
      },
      "text/plain": [
       "Text(value='')"
      ]
     },
     "metadata": {},
     "output_type": "display_data"
    }
   ],
   "source": [
    "TextoEntrada = widgets.Text()\n",
    "\n",
    "def TornaCaixaAlta(enviadopor):\n",
    "    TextoSaida.value = TextoEntrada.value.upper()\n",
    "    \n",
    "TextoEntrada.on_submit(TornaCaixaAlta)\n",
    "\n",
    "TextoEntrada"
   ]
  },
  {
   "cell_type": "markdown",
   "metadata": {},
   "source": [
    "## Visualizações interativas\n",
    "\n",
    "---\n",
    "\n",
    "Primeiro uma visualização **comum**"
   ]
  },
  {
   "cell_type": "code",
   "execution_count": 23,
   "metadata": {},
   "outputs": [
    {
     "data": {
      "application/vnd.jupyter.widget-view+json": {
       "model_id": "109f74f842294c1e8df5102f798f7be9",
       "version_major": 2,
       "version_minor": 0
      },
      "text/plain": [
       "IntSlider(value=0)"
      ]
     },
     "metadata": {},
     "output_type": "display_data"
    }
   ],
   "source": [
    "import ipywidgets\n",
    "ipywidgets.IntSlider()"
   ]
  },
  {
   "cell_type": "code",
   "execution_count": 24,
   "metadata": {},
   "outputs": [
    {
     "data": {
      "image/png": "[encoded data removed]",
      "text/plain": [
       "<Figure size 432x288 with 2 Axes>"
      ]
     },
     "metadata": {
      "needs_background": "light"
     },
     "output_type": "display_data"
    }
   ],
   "source": [
    "from matplotlib.pyplot import plot, figure, show\n",
    "from numpy import arange, sin, pi\n",
    "\n",
    "fig = figure(1)\n",
    "t = arange(0.0, 1.0, 0.01)\n",
    "\n",
    "ax1 = fig.add_subplot(211)\n",
    "ax1.plot(t, sin(2*pi*t))\n",
    "ax1.grid(True)\n",
    "ax1.set_ylim((-2, 2))\n",
    "ax1.set_ylabel('1 Hz')\n",
    "ax1.set_title('Uma ou duas ondas senoidais')\n",
    "\n",
    "for label in ax1.get_xticklabels():\n",
    "    label.set_color('r')\n",
    "\n",
    "ax2 = fig.add_subplot(212)\n",
    "ax2.plot(t, sin(2*2*pi*t))\n",
    "ax2.grid(True)\n",
    "ax2.set_ylim((-2, 2))\n",
    "l = ax2.set_xlabel('Alô mamãe')\n",
    "l.set_color('g')\n",
    "l.set_fontsize('large')\n",
    "\n",
    "show()"
   ]
  },
  {
   "cell_type": "markdown",
   "metadata": {},
   "source": [
    "E agora com o **botão interativo**! Para saber [mais](http://nbviewer.jupyter.org/github/quantopian/ipython/blob/master/examples/Interactive%20Widgets/Index.ipynb/)\n",
    "\n",
    "---"
   ]
  },
  {
   "cell_type": "code",
   "execution_count": 25,
   "metadata": {},
   "outputs": [
    {
     "data": {
      "application/vnd.jupyter.widget-view+json": {
       "model_id": "0157d3b3034648debf7154647d778747",
       "version_major": 2,
       "version_minor": 0
      },
      "text/plain": [
       "interactive(children=(FloatSlider(value=5.0, description='f', max=10.0, min=1.0), Output()), _dom_classes=('wi…"
      ]
     },
     "metadata": {},
     "output_type": "display_data"
    }
   ],
   "source": [
    "from ipywidgets import widgets\n",
    "from ipywidgets import interact, interact_manual, fixed\n",
    "from numpy import arange, sin, pi\n",
    "from matplotlib.pyplot import plot, figure, show \n",
    "\n",
    "t = arange(0.0, 1.0, 0.01)\n",
    "\n",
    "def pltsen(f):\n",
    "    plot(t,sin(2*pi*t*f));\n",
    "    show()\n",
    "\n",
    "interact(pltsen, f=(1,10,0.1));"
   ]
  },
  {
   "cell_type": "markdown",
   "metadata": {},
   "source": [
    "Não use isso!"
   ]
  },
  {
   "cell_type": "code",
   "execution_count": null,
   "metadata": {},
   "outputs": [],
   "source": [
    "from IPython.html import widgets"
   ]
  },
  {
   "cell_type": "markdown",
   "metadata": {},
   "source": [
    "(...) isso foi substituído por:"
   ]
  },
  {
   "cell_type": "code",
   "execution_count": 9,
   "metadata": {},
   "outputs": [],
   "source": [
    "import ipywidgets as widgets"
   ]
  },
  {
   "cell_type": "markdown",
   "metadata": {},
   "source": [
    "Observe que aqui nós chamamos o **Matplotlib** no modo **Notebook**. Para ele retornar ao nosso modo usual, que é traçando os gráficos dentro do próprio Jupyter Notebook em sem bordas ou botões de comando, devemos escrever:\n",
    "\n",
    "    %matplotlip inline"
   ]
  },
  {
   "cell_type": "code",
   "execution_count": 10,
   "metadata": {},
   "outputs": [
    {
     "data": {
      "application/vnd.jupyter.widget-view+json": {
       "model_id": "",
       "version_major": 2,
       "version_minor": 0
      },
      "text/plain": [
       "Text(value='', description='Domain to ping')"
      ]
     },
     "metadata": {},
     "output_type": "display_data"
    },
    {
     "data": {
      "application/javascript": [
       "/* Put everything inside the global mpl namespace */\n",
       "window.mpl = {};\n",
       "\n",
       "\n",
       "mpl.get_websocket_type = function() {\n",
       "    if (typeof(WebSocket) !== 'undefined') {\n",
       "        return WebSocket;\n",
       "    } else if (typeof(MozWebSocket) !== 'undefined') {\n",
       "        return MozWebSocket;\n",
       "    } else {\n",
       "        alert('Your browser does not have WebSocket support.' +\n",
       "              'Please try Chrome, Safari or Firefox ≥ 6. ' +\n",
       "              'Firefox 4 and 5 are also supported but you ' +\n",
       "              'have to enable WebSockets in about:config.');\n",
       "    };\n",
       "}\n",
       "\n",
       "mpl.figure = function(figure_id, websocket, ondownload, parent_element) {\n",
       "    this.id = figure_id;\n",
       "\n",
       "    this.ws = websocket;\n",
       "\n",
       "    this.supports_binary = (this.ws.binaryType != undefined);\n",
       "\n",
       "    if (!this.supports_binary) {\n",
       "        var warnings = document.getElementById(\"mpl-warnings\");\n",
       "        if (warnings) {\n",
       "            warnings.style.display = 'block';\n",
       "            warnings.textContent = (\n",
       "                \"This browser does not support binary websocket messages. \" +\n",
       "                    \"Performance may be slow.\");\n",
       "        }\n",
       "    }\n",
       "\n",
       "    this.imageObj = new Image();\n",
       "\n",
       "    this.context = undefined;\n",
       "    this.message = undefined;\n",
       "    this.canvas = undefined;\n",
       "    this.rubberband_canvas = undefined;\n",
       "    this.rubberband_context = undefined;\n",
       "    this.format_dropdown = undefined;\n",
       "\n",
       "    this.image_mode = 'full';\n",
       "\n",
       "    this.root = $('<div/>');\n",
       "    this._root_extra_style(this.root)\n",
       "    this.root.attr('style', 'display: inline-block');\n",
       "\n",
       "    $(parent_element).append(this.root);\n",
       "\n",
       "    this._init_header(this);\n",
       "    this._init_canvas(this);\n",
       "    this._init_toolbar(this);\n",
       "\n",
       "    var fig = this;\n",
       "\n",
       "    this.waiting = false;\n",
       "\n",
       "    this.ws.onopen =  function () {\n",
       "            fig.send_message(\"supports_binary\", {value: fig.supports_binary});\n",
       "            fig.send_message(\"send_image_mode\", {});\n",
       "            if (mpl.ratio != 1) {\n",
       "                fig.send_message(\"set_dpi_ratio\", {'dpi_ratio': mpl.ratio});\n",
       "            }\n",
       "            fig.send_message(\"refresh\", {});\n",
       "        }\n",
       "\n",
       "    this.imageObj.onload = function() {\n",
       "            if (fig.image_mode == 'full') {\n",
       "                // Full images could contain transparency (where diff images\n",
       "                // almost always do), so we need to clear the canvas so that\n",
       "                // there is no ghosting.\n",
       "                fig.context.clearRect(0, 0, fig.canvas.width, fig.canvas.height);\n",
       "            }\n",
       "            fig.context.drawImage(fig.imageObj, 0, 0);\n",
       "        };\n",
       "\n",
       "    this.imageObj.onunload = function() {\n",
       "        fig.ws.close();\n",
       "    }\n",
       "\n",
       "    this.ws.onmessage = this._make_on_message_function(this);\n",
       "\n",
       "    this.ondownload = ondownload;\n",
       "}\n",
       "\n",
       "mpl.figure.prototype._init_header = function() {\n",
       "    var titlebar = $(\n",
       "        '<div class=\"ui-dialog-titlebar ui-widget-header ui-corner-all ' +\n",
       "        'ui-helper-clearfix\"/>');\n",
       "    var titletext = $(\n",
       "        '<div class=\"ui-dialog-title\" style=\"width: 100%; ' +\n",
       "        'text-align: center; padding: 3px;\"/>');\n",
       "    titlebar.append(titletext)\n",
       "    this.root.append(titlebar);\n",
       "    this.header = titletext[0];\n",
       "}\n",
       "\n",
       "\n",
       "\n",
       "mpl.figure.prototype._canvas_extra_style = function(canvas_div) {\n",
       "\n",
       "}\n",
       "\n",
       "\n",
       "mpl.figure.prototype._root_extra_style = function(canvas_div) {\n",
       "\n",
       "}\n",
       "\n",
       "mpl.figure.prototype._init_canvas = function() {\n",
       "    var fig = this;\n",
       "\n",
       "    var canvas_div = $('<div/>');\n",
       "\n",
       "    canvas_div.attr('style', 'position: relative; clear: both; outline: 0');\n",
       "\n",
       "    function canvas_keyboard_event(event) {\n",
       "        return fig.key_event(event, event['data']);\n",
       "    }\n",
       "\n",
       "    canvas_div.keydown('key_press', canvas_keyboard_event);\n",
       "    canvas_div.keyup('key_release', canvas_keyboard_event);\n",
       "    this.canvas_div = canvas_div\n",
       "    this._canvas_extra_style(canvas_div)\n",
       "    this.root.append(canvas_div);\n",
       "\n",
       "    var canvas = $('<canvas/>');\n",
       "    canvas.addClass('mpl-canvas');\n",
       "    canvas.attr('style', \"left: 0; top: 0; z-index: 0; outline: 0\")\n",
       "\n",
       "    this.canvas = canvas[0];\n",
       "    this.context = canvas[0].getContext(\"2d\");\n",
       "\n",
       "    var backingStore = this.context.backingStorePixelRatio ||\n",
       "\tthis.context.webkitBackingStorePixelRatio ||\n",
       "\tthis.context.mozBackingStorePixelRatio ||\n",
       "\tthis.context.msBackingStorePixelRatio ||\n",
       "\tthis.context.oBackingStorePixelRatio ||\n",
       "\tthis.context.backingStorePixelRatio || 1;\n",
       "\n",
       "    mpl.ratio = (window.devicePixelRatio || 1) / backingStore;\n",
       "\n",
       "    var rubberband = $('<canvas/>');\n",
       "    rubberband.attr('style', \"position: absolute; left: 0; top: 0; z-index: 1;\")\n",
       "\n",
       "    var pass_mouse_events = true;\n",
       "\n",
       "    canvas_div.resizable({\n",
       "        start: function(event, ui) {\n",
       "            pass_mouse_events = false;\n",
       "        },\n",
       "        resize: function(event, ui) {\n",
       "            fig.request_resize(ui.size.width, ui.size.height);\n",
       "        },\n",
       "        stop: function(event, ui) {\n",
       "            pass_mouse_events = true;\n",
       "            fig.request_resize(ui.size.width, ui.size.height);\n",
       "        },\n",
       "    });\n",
       "\n",
       "    function mouse_event_fn(event) {\n",
       "        if (pass_mouse_events)\n",
       "            return fig.mouse_event(event, event['data']);\n",
       "    }\n",
       "\n",
       "    rubberband.mousedown('button_press', mouse_event_fn);\n",
       "    rubberband.mouseup('button_release', mouse_event_fn);\n",
       "    // Throttle sequential mouse events to 1 every 20ms.\n",
       "    rubberband.mousemove('motion_notify', mouse_event_fn);\n",
       "\n",
       "    rubberband.mouseenter('figure_enter', mouse_event_fn);\n",
       "    rubberband.mouseleave('figure_leave', mouse_event_fn);\n",
       "\n",
       "    canvas_div.on(\"wheel\", function (event) {\n",
       "        event = event.originalEvent;\n",
       "        event['data'] = 'scroll'\n",
       "        if (event.deltaY < 0) {\n",
       "            event.step = 1;\n",
       "        } else {\n",
       "            event.step = -1;\n",
       "        }\n",
       "        mouse_event_fn(event);\n",
       "    });\n",
       "\n",
       "    canvas_div.append(canvas);\n",
       "    canvas_div.append(rubberband);\n",
       "\n",
       "    this.rubberband = rubberband;\n",
       "    this.rubberband_canvas = rubberband[0];\n",
       "    this.rubberband_context = rubberband[0].getContext(\"2d\");\n",
       "    this.rubberband_context.strokeStyle = \"#000000\";\n",
       "\n",
       "    this._resize_canvas = function(width, height) {\n",
       "        // Keep the size of the canvas, canvas container, and rubber band\n",
       "        // canvas in synch.\n",
       "        canvas_div.css('width', width)\n",
       "        canvas_div.css('height', height)\n",
       "\n",
       "        canvas.attr('width', width * mpl.ratio);\n",
       "        canvas.attr('height', height * mpl.ratio);\n",
       "        canvas.attr('style', 'width: ' + width + 'px; height: ' + height + 'px;');\n",
       "\n",
       "        rubberband.attr('width', width);\n",
       "        rubberband.attr('height', height);\n",
       "    }\n",
       "\n",
       "    // Set the figure to an initial 600x600px, this will subsequently be updated\n",
       "    // upon first draw.\n",
       "    this._resize_canvas(600, 600);\n",
       "\n",
       "    // Disable right mouse context menu.\n",
       "    $(this.rubberband_canvas).bind(\"contextmenu\",function(e){\n",
       "        return false;\n",
       "    });\n",
       "\n",
       "    function set_focus () {\n",
       "        canvas.focus();\n",
       "        canvas_div.focus();\n",
       "    }\n",
       "\n",
       "    window.setTimeout(set_focus, 100);\n",
       "}\n",
       "\n",
       "mpl.figure.prototype._init_toolbar = function() {\n",
       "    var fig = this;\n",
       "\n",
       "    var nav_element = $('<div/>')\n",
       "    nav_element.attr('style', 'width: 100%');\n",
       "    this.root.append(nav_element);\n",
       "\n",
       "    // Define a callback function for later on.\n",
       "    function toolbar_event(event) {\n",
       "        return fig.toolbar_button_onclick(event['data']);\n",
       "    }\n",
       "    function toolbar_mouse_event(event) {\n",
       "        return fig.toolbar_button_onmouseover(event['data']);\n",
       "    }\n",
       "\n",
       "    for(var toolbar_ind in mpl.toolbar_items) {\n",
       "        var name = mpl.toolbar_items[toolbar_ind][0];\n",
       "        var tooltip = mpl.toolbar_items[toolbar_ind][1];\n",
       "        var image = mpl.toolbar_items[toolbar_ind][2];\n",
       "        var method_name = mpl.toolbar_items[toolbar_ind][3];\n",
       "\n",
       "        if (!name) {\n",
       "            // put a spacer in here.\n",
       "            continue;\n",
       "        }\n",
       "        var button = $('<button/>');\n",
       "        button.addClass('ui-button ui-widget ui-state-default ui-corner-all ' +\n",
       "                        'ui-button-icon-only');\n",
       "        button.attr('role', 'button');\n",
       "        button.attr('aria-disabled', 'false');\n",
       "        button.click(method_name, toolbar_event);\n",
       "        button.mouseover(tooltip, toolbar_mouse_event);\n",
       "\n",
       "        var icon_img = $('<span/>');\n",
       "        icon_img.addClass('ui-button-icon-primary ui-icon');\n",
       "        icon_img.addClass(image);\n",
       "        icon_img.addClass('ui-corner-all');\n",
       "\n",
       "        var tooltip_span = $('<span/>');\n",
       "        tooltip_span.addClass('ui-button-text');\n",
       "        tooltip_span.html(tooltip);\n",
       "\n",
       "        button.append(icon_img);\n",
       "        button.append(tooltip_span);\n",
       "\n",
       "        nav_element.append(button);\n",
       "    }\n",
       "\n",
       "    var fmt_picker_span = $('<span/>');\n",
       "\n",
       "    var fmt_picker = $('<select/>');\n",
       "    fmt_picker.addClass('mpl-toolbar-option ui-widget ui-widget-content');\n",
       "    fmt_picker_span.append(fmt_picker);\n",
       "    nav_element.append(fmt_picker_span);\n",
       "    this.format_dropdown = fmt_picker[0];\n",
       "\n",
       "    for (var ind in mpl.extensions) {\n",
       "        var fmt = mpl.extensions[ind];\n",
       "        var option = $(\n",
       "            '<option/>', {selected: fmt === mpl.default_extension}).html(fmt);\n",
       "        fmt_picker.append(option)\n",
       "    }\n",
       "\n",
       "    // Add hover states to the ui-buttons\n",
       "    $( \".ui-button\" ).hover(\n",
       "        function() { $(this).addClass(\"ui-state-hover\");},\n",
       "        function() { $(this).removeClass(\"ui-state-hover\");}\n",
       "    );\n",
       "\n",
       "    var status_bar = $('<span class=\"mpl-message\"/>');\n",
       "    nav_element.append(status_bar);\n",
       "    this.message = status_bar[0];\n",
       "}\n",
       "\n",
       "mpl.figure.prototype.request_resize = function(x_pixels, y_pixels) {\n",
       "    // Request matplotlib to resize the figure. Matplotlib will then trigger a resize in the client,\n",
       "    // which will in turn request a refresh of the image.\n",
       "    this.send_message('resize', {'width': x_pixels, 'height': y_pixels});\n",
       "}\n",
       "\n",
       "mpl.figure.prototype.send_message = function(type, properties) {\n",
       "    properties['type'] = type;\n",
       "    properties['figure_id'] = this.id;\n",
       "    this.ws.send(JSON.stringify(properties));\n",
       "}\n",
       "\n",
       "mpl.figure.prototype.send_draw_message = function() {\n",
       "    if (!this.waiting) {\n",
       "        this.waiting = true;\n",
       "        this.ws.send(JSON.stringify({type: \"draw\", figure_id: this.id}));\n",
       "    }\n",
       "}\n",
       "\n",
       "\n",
       "mpl.figure.prototype.handle_save = function(fig, msg) {\n",
       "    var format_dropdown = fig.format_dropdown;\n",
       "    var format = format_dropdown.options[format_dropdown.selectedIndex].value;\n",
       "    fig.ondownload(fig, format);\n",
       "}\n",
       "\n",
       "\n",
       "mpl.figure.prototype.handle_resize = function(fig, msg) {\n",
       "    var size = msg['size'];\n",
       "    if (size[0] != fig.canvas.width || size[1] != fig.canvas.height) {\n",
       "        fig._resize_canvas(size[0], size[1]);\n",
       "        fig.send_message(\"refresh\", {});\n",
       "    };\n",
       "}\n",
       "\n",
       "mpl.figure.prototype.handle_rubberband = function(fig, msg) {\n",
       "    var x0 = msg['x0'] / mpl.ratio;\n",
       "    var y0 = (fig.canvas.height - msg['y0']) / mpl.ratio;\n",
       "    var x1 = msg['x1'] / mpl.ratio;\n",
       "    var y1 = (fig.canvas.height - msg['y1']) / mpl.ratio;\n",
       "    x0 = Math.floor(x0) + 0.5;\n",
       "    y0 = Math.floor(y0) + 0.5;\n",
       "    x1 = Math.floor(x1) + 0.5;\n",
       "    y1 = Math.floor(y1) + 0.5;\n",
       "    var min_x = Math.min(x0, x1);\n",
       "    var min_y = Math.min(y0, y1);\n",
       "    var width = Math.abs(x1 - x0);\n",
       "    var height = Math.abs(y1 - y0);\n",
       "\n",
       "    fig.rubberband_context.clearRect(\n",
       "        0, 0, fig.canvas.width, fig.canvas.height);\n",
       "\n",
       "    fig.rubberband_context.strokeRect(min_x, min_y, width, height);\n",
       "}\n",
       "\n",
       "mpl.figure.prototype.handle_figure_label = function(fig, msg) {\n",
       "    // Updates the figure title.\n",
       "    fig.header.textContent = msg['label'];\n",
       "}\n",
       "\n",
       "mpl.figure.prototype.handle_cursor = function(fig, msg) {\n",
       "    var cursor = msg['cursor'];\n",
       "    switch(cursor)\n",
       "    {\n",
       "    case 0:\n",
       "        cursor = 'pointer';\n",
       "        break;\n",
       "    case 1:\n",
       "        cursor = 'default';\n",
       "        break;\n",
       "    case 2:\n",
       "        cursor = 'crosshair';\n",
       "        break;\n",
       "    case 3:\n",
       "        cursor = 'move';\n",
       "        break;\n",
       "    }\n",
       "    fig.rubberband_canvas.style.cursor = cursor;\n",
       "}\n",
       "\n",
       "mpl.figure.prototype.handle_message = function(fig, msg) {\n",
       "    fig.message.textContent = msg['message'];\n",
       "}\n",
       "\n",
       "mpl.figure.prototype.handle_draw = function(fig, msg) {\n",
       "    // Request the server to send over a new figure.\n",
       "    fig.send_draw_message();\n",
       "}\n",
       "\n",
       "mpl.figure.prototype.handle_image_mode = function(fig, msg) {\n",
       "    fig.image_mode = msg['mode'];\n",
       "}\n",
       "\n",
       "mpl.figure.prototype.updated_canvas_event = function() {\n",
       "    // Called whenever the canvas gets updated.\n",
       "    this.send_message(\"ack\", {});\n",
       "}\n",
       "\n",
       "// A function to construct a web socket function for onmessage handling.\n",
       "// Called in the figure constructor.\n",
       "mpl.figure.prototype._make_on_message_function = function(fig) {\n",
       "    return function socket_on_message(evt) {\n",
       "        if (evt.data instanceof Blob) {\n",
       "            /* FIXME: We get \"Resource interpreted as Image but\n",
       "             * transferred with MIME type text/plain:\" errors on\n",
       "             * Chrome.  But how to set the MIME type?  It doesn't seem\n",
       "             * to be part of the websocket stream */\n",
       "            evt.data.type = \"image/png\";\n",
       "\n",
       "            /* Free the memory for the previous frames */\n",
       "            if (fig.imageObj.src) {\n",
       "                (window.URL || window.webkitURL).revokeObjectURL(\n",
       "                    fig.imageObj.src);\n",
       "            }\n",
       "\n",
       "            fig.imageObj.src = (window.URL || window.webkitURL).createObjectURL(\n",
       "                evt.data);\n",
       "            fig.updated_canvas_event();\n",
       "            fig.waiting = false;\n",
       "            return;\n",
       "        }\n",
       "        else if (typeof evt.data === 'string' && evt.data.slice(0, 21) == \"data:image/png;base64\") {\n",
       "            fig.imageObj.src = evt.data;\n",
       "            fig.updated_canvas_event();\n",
       "            fig.waiting = false;\n",
       "            return;\n",
       "        }\n",
       "\n",
       "        var msg = JSON.parse(evt.data);\n",
       "        var msg_type = msg['type'];\n",
       "\n",
       "        // Call the  \"handle_{type}\" callback, which takes\n",
       "        // the figure and JSON message as its only arguments.\n",
       "        try {\n",
       "            var callback = fig[\"handle_\" + msg_type];\n",
       "        } catch (e) {\n",
       "            console.log(\"No handler for the '\" + msg_type + \"' message type: \", msg);\n",
       "            return;\n",
       "        }\n",
       "\n",
       "        if (callback) {\n",
       "            try {\n",
       "                // console.log(\"Handling '\" + msg_type + \"' message: \", msg);\n",
       "                callback(fig, msg);\n",
       "            } catch (e) {\n",
       "                console.log(\"Exception inside the 'handler_\" + msg_type + \"' callback:\", e, e.stack, msg);\n",
       "            }\n",
       "        }\n",
       "    };\n",
       "}\n",
       "\n",
       "// from http://stackoverflow.com/questions/1114465/getting-mouse-location-in-canvas\n",
       "mpl.findpos = function(e) {\n",
       "    //this section is from http://www.quirksmode.org/js/events_properties.html\n",
       "    var targ;\n",
       "    if (!e)\n",
       "        e = window.event;\n",
       "    if (e.target)\n",
       "        targ = e.target;\n",
       "    else if (e.srcElement)\n",
       "        targ = e.srcElement;\n",
       "    if (targ.nodeType == 3) // defeat Safari bug\n",
       "        targ = targ.parentNode;\n",
       "\n",
       "    // jQuery normalizes the pageX and pageY\n",
       "    // pageX,Y are the mouse positions relative to the document\n",
       "    // offset() returns the position of the element relative to the document\n",
       "    var x = e.pageX - $(targ).offset().left;\n",
       "    var y = e.pageY - $(targ).offset().top;\n",
       "\n",
       "    return {\"x\": x, \"y\": y};\n",
       "};\n",
       "\n",
       "/*\n",
       " * return a copy of an object with only non-object keys\n",
       " * we need this to avoid circular references\n",
       " * http://stackoverflow.com/a/24161582/3208463\n",
       " */\n",
       "function simpleKeys (original) {\n",
       "  return Object.keys(original).reduce(function (obj, key) {\n",
       "    if (typeof original[key] !== 'object')\n",
       "        obj[key] = original[key]\n",
       "    return obj;\n",
       "  }, {});\n",
       "}\n",
       "\n",
       "mpl.figure.prototype.mouse_event = function(event, name) {\n",
       "    var canvas_pos = mpl.findpos(event)\n",
       "\n",
       "    if (name === 'button_press')\n",
       "    {\n",
       "        this.canvas.focus();\n",
       "        this.canvas_div.focus();\n",
       "    }\n",
       "\n",
       "    var x = canvas_pos.x * mpl.ratio;\n",
       "    var y = canvas_pos.y * mpl.ratio;\n",
       "\n",
       "    this.send_message(name, {x: x, y: y, button: event.button,\n",
       "                             step: event.step,\n",
       "                             guiEvent: simpleKeys(event)});\n",
       "\n",
       "    /* This prevents the web browser from automatically changing to\n",
       "     * the text insertion cursor when the button is pressed.  We want\n",
       "     * to control all of the cursor setting manually through the\n",
       "     * 'cursor' event from matplotlib */\n",
       "    event.preventDefault();\n",
       "    return false;\n",
       "}\n",
       "\n",
       "mpl.figure.prototype._key_event_extra = function(event, name) {\n",
       "    // Handle any extra behaviour associated with a key event\n",
       "}\n",
       "\n",
       "mpl.figure.prototype.key_event = function(event, name) {\n",
       "\n",
       "    // Prevent repeat events\n",
       "    if (name == 'key_press')\n",
       "    {\n",
       "        if (event.which === this._key)\n",
       "            return;\n",
       "        else\n",
       "            this._key = event.which;\n",
       "    }\n",
       "    if (name == 'key_release')\n",
       "        this._key = null;\n",
       "\n",
       "    var value = '';\n",
       "    if (event.ctrlKey && event.which != 17)\n",
       "        value += \"ctrl+\";\n",
       "    if (event.altKey && event.which != 18)\n",
       "        value += \"alt+\";\n",
       "    if (event.shiftKey && event.which != 16)\n",
       "        value += \"shift+\";\n",
       "\n",
       "    value += 'k';\n",
       "    value += event.which.toString();\n",
       "\n",
       "    this._key_event_extra(event, name);\n",
       "\n",
       "    this.send_message(name, {key: value,\n",
       "                             guiEvent: simpleKeys(event)});\n",
       "    return false;\n",
       "}\n",
       "\n",
       "mpl.figure.prototype.toolbar_button_onclick = function(name) {\n",
       "    if (name == 'download') {\n",
       "        this.handle_save(this, null);\n",
       "    } else {\n",
       "        this.send_message(\"toolbar_button\", {name: name});\n",
       "    }\n",
       "};\n",
       "\n",
       "mpl.figure.prototype.toolbar_button_onmouseover = function(tooltip) {\n",
       "    this.message.textContent = tooltip;\n",
       "};\n",
       "mpl.toolbar_items = [[\"Home\", \"Reset original view\", \"fa fa-home icon-home\", \"home\"], [\"Back\", \"Back to  previous view\", \"fa fa-arrow-left icon-arrow-left\", \"back\"], [\"Forward\", \"Forward to next view\", \"fa fa-arrow-right icon-arrow-right\", \"forward\"], [\"\", \"\", \"\", \"\"], [\"Pan\", \"Pan axes with left mouse, zoom with right\", \"fa fa-arrows icon-move\", \"pan\"], [\"Zoom\", \"Zoom to rectangle\", \"fa fa-square-o icon-check-empty\", \"zoom\"], [\"\", \"\", \"\", \"\"], [\"Download\", \"Download plot\", \"fa fa-floppy-o icon-save\", \"download\"]];\n",
       "\n",
       "mpl.extensions = [\"eps\", \"jpeg\", \"pdf\", \"png\", \"ps\", \"raw\", \"svg\", \"tif\"];\n",
       "\n",
       "mpl.default_extension = \"png\";var comm_websocket_adapter = function(comm) {\n",
       "    // Create a \"websocket\"-like object which calls the given IPython comm\n",
       "    // object with the appropriate methods. Currently this is a non binary\n",
       "    // socket, so there is still some room for performance tuning.\n",
       "    var ws = {};\n",
       "\n",
       "    ws.close = function() {\n",
       "        comm.close()\n",
       "    };\n",
       "    ws.send = function(m) {\n",
       "        //console.log('sending', m);\n",
       "        comm.send(m);\n",
       "    };\n",
       "    // Register the callback with on_msg.\n",
       "    comm.on_msg(function(msg) {\n",
       "        //console.log('receiving', msg['content']['data'], msg);\n",
       "        // Pass the mpl event to the overridden (by mpl) onmessage function.\n",
       "        ws.onmessage(msg['content']['data'])\n",
       "    });\n",
       "    return ws;\n",
       "}\n",
       "\n",
       "mpl.mpl_figure_comm = function(comm, msg) {\n",
       "    // This is the function which gets called when the mpl process\n",
       "    // starts-up an IPython Comm through the \"matplotlib\" channel.\n",
       "\n",
       "    var id = msg.content.data.id;\n",
       "    // Get hold of the div created by the display call when the Comm\n",
       "    // socket was opened in Python.\n",
       "    var element = $(\"#\" + id);\n",
       "    var ws_proxy = comm_websocket_adapter(comm)\n",
       "\n",
       "    function ondownload(figure, format) {\n",
       "        window.open(figure.imageObj.src);\n",
       "    }\n",
       "\n",
       "    var fig = new mpl.figure(id, ws_proxy,\n",
       "                           ondownload,\n",
       "                           element.get(0));\n",
       "\n",
       "    // Call onopen now - mpl needs it, as it is assuming we've passed it a real\n",
       "    // web socket which is closed, not our websocket->open comm proxy.\n",
       "    ws_proxy.onopen();\n",
       "\n",
       "    fig.parent_element = element.get(0);\n",
       "    fig.cell_info = mpl.find_output_cell(\"<div id='\" + id + \"'></div>\");\n",
       "    if (!fig.cell_info) {\n",
       "        console.error(\"Failed to find cell for figure\", id, fig);\n",
       "        return;\n",
       "    }\n",
       "\n",
       "    var output_index = fig.cell_info[2]\n",
       "    var cell = fig.cell_info[0];\n",
       "\n",
       "};\n",
       "\n",
       "mpl.figure.prototype.handle_close = function(fig, msg) {\n",
       "    var width = fig.canvas.width/mpl.ratio\n",
       "    fig.root.unbind('remove')\n",
       "\n",
       "    // Update the output cell to use the data from the current canvas.\n",
       "    fig.push_to_output();\n",
       "    var dataURL = fig.canvas.toDataURL();\n",
       "    // Re-enable the keyboard manager in IPython - without this line, in FF,\n",
       "    // the notebook keyboard shortcuts fail.\n",
       "    IPython.keyboard_manager.enable()\n",
       "    $(fig.parent_element).html('<img src=\"' + dataURL + '\" width=\"' + width + '\">');\n",
       "    fig.close_ws(fig, msg);\n",
       "}\n",
       "\n",
       "mpl.figure.prototype.close_ws = function(fig, msg){\n",
       "    fig.send_message('closing', msg);\n",
       "    // fig.ws.close()\n",
       "}\n",
       "\n",
       "mpl.figure.prototype.push_to_output = function(remove_interactive) {\n",
       "    // Turn the data on the canvas into data in the output cell.\n",
       "    var width = this.canvas.width/mpl.ratio\n",
       "    var dataURL = this.canvas.toDataURL();\n",
       "    this.cell_info[1]['text/html'] = '<img src=\"' + dataURL + '\" width=\"' + width + '\">';\n",
       "}\n",
       "\n",
       "mpl.figure.prototype.updated_canvas_event = function() {\n",
       "    // Tell IPython that the notebook contents must change.\n",
       "    IPython.notebook.set_dirty(true);\n",
       "    this.send_message(\"ack\", {});\n",
       "    var fig = this;\n",
       "    // Wait a second, then push the new image to the DOM so\n",
       "    // that it is saved nicely (might be nice to debounce this).\n",
       "    setTimeout(function () { fig.push_to_output() }, 1000);\n",
       "}\n",
       "\n",
       "mpl.figure.prototype._init_toolbar = function() {\n",
       "    var fig = this;\n",
       "\n",
       "    var nav_element = $('<div/>')\n",
       "    nav_element.attr('style', 'width: 100%');\n",
       "    this.root.append(nav_element);\n",
       "\n",
       "    // Define a callback function for later on.\n",
       "    function toolbar_event(event) {\n",
       "        return fig.toolbar_button_onclick(event['data']);\n",
       "    }\n",
       "    function toolbar_mouse_event(event) {\n",
       "        return fig.toolbar_button_onmouseover(event['data']);\n",
       "    }\n",
       "\n",
       "    for(var toolbar_ind in mpl.toolbar_items){\n",
       "        var name = mpl.toolbar_items[toolbar_ind][0];\n",
       "        var tooltip = mpl.toolbar_items[toolbar_ind][1];\n",
       "        var image = mpl.toolbar_items[toolbar_ind][2];\n",
       "        var method_name = mpl.toolbar_items[toolbar_ind][3];\n",
       "\n",
       "        if (!name) { continue; };\n",
       "\n",
       "        var button = $('<button class=\"btn btn-default\" href=\"#\" title=\"' + name + '\"><i class=\"fa ' + image + ' fa-lg\"></i></button>');\n",
       "        button.click(method_name, toolbar_event);\n",
       "        button.mouseover(tooltip, toolbar_mouse_event);\n",
       "        nav_element.append(button);\n",
       "    }\n",
       "\n",
       "    // Add the status bar.\n",
       "    var status_bar = $('<span class=\"mpl-message\" style=\"text-align:right; float: right;\"/>');\n",
       "    nav_element.append(status_bar);\n",
       "    this.message = status_bar[0];\n",
       "\n",
       "    // Add the close button to the window.\n",
       "    var buttongrp = $('<div class=\"btn-group inline pull-right\"></div>');\n",
       "    var button = $('<button class=\"btn btn-mini btn-primary\" href=\"#\" title=\"Stop Interaction\"><i class=\"fa fa-power-off icon-remove icon-large\"></i></button>');\n",
       "    button.click(function (evt) { fig.handle_close(fig, {}); } );\n",
       "    button.mouseover('Stop Interaction', toolbar_mouse_event);\n",
       "    buttongrp.append(button);\n",
       "    var titlebar = this.root.find($('.ui-dialog-titlebar'));\n",
       "    titlebar.prepend(buttongrp);\n",
       "}\n",
       "\n",
       "mpl.figure.prototype._root_extra_style = function(el){\n",
       "    var fig = this\n",
       "    el.on(\"remove\", function(){\n",
       "\tfig.close_ws(fig, {});\n",
       "    });\n",
       "}\n",
       "\n",
       "mpl.figure.prototype._canvas_extra_style = function(el){\n",
       "    // this is important to make the div 'focusable\n",
       "    el.attr('tabindex', 0)\n",
       "    // reach out to IPython and tell the keyboard manager to turn it's self\n",
       "    // off when our div gets focus\n",
       "\n",
       "    // location in version 3\n",
       "    if (IPython.notebook.keyboard_manager) {\n",
       "        IPython.notebook.keyboard_manager.register_events(el);\n",
       "    }\n",
       "    else {\n",
       "        // location in version 2\n",
       "        IPython.keyboard_manager.register_events(el);\n",
       "    }\n",
       "\n",
       "}\n",
       "\n",
       "mpl.figure.prototype._key_event_extra = function(event, name) {\n",
       "    var manager = IPython.notebook.keyboard_manager;\n",
       "    if (!manager)\n",
       "        manager = IPython.keyboard_manager;\n",
       "\n",
       "    // Check for shift+enter\n",
       "    if (event.shiftKey && event.which == 13) {\n",
       "        this.canvas_div.blur();\n",
       "        event.shiftKey = false;\n",
       "        // Send a \"J\" for go to next cell\n",
       "        event.which = 74;\n",
       "        event.keyCode = 74;\n",
       "        manager.command_mode();\n",
       "        manager.handle_keydown(event);\n",
       "    }\n",
       "}\n",
       "\n",
       "mpl.figure.prototype.handle_save = function(fig, msg) {\n",
       "    fig.ondownload(fig, null);\n",
       "}\n",
       "\n",
       "\n",
       "mpl.find_output_cell = function(html_output) {\n",
       "    // Return the cell and output element which can be found *uniquely* in the notebook.\n",
       "    // Note - this is a bit hacky, but it is done because the \"notebook_saving.Notebook\"\n",
       "    // IPython event is triggered only after the cells have been serialised, which for\n",
       "    // our purposes (turning an active figure into a static one), is too late.\n",
       "    var cells = IPython.notebook.get_cells();\n",
       "    var ncells = cells.length;\n",
       "    for (var i=0; i<ncells; i++) {\n",
       "        var cell = cells[i];\n",
       "        if (cell.cell_type === 'code'){\n",
       "            for (var j=0; j<cell.output_area.outputs.length; j++) {\n",
       "                var data = cell.output_area.outputs[j];\n",
       "                if (data.data) {\n",
       "                    // IPython >= 3 moved mimebundle to data attribute of output\n",
       "                    data = data.data;\n",
       "                }\n",
       "                if (data['text/html'] == html_output) {\n",
       "                    return [cell, data, j];\n",
       "                }\n",
       "            }\n",
       "        }\n",
       "    }\n",
       "}\n",
       "\n",
       "// Register the function which deals with the matplotlib target/channel.\n",
       "// The kernel may be null if the page has been refreshed.\n",
       "if (IPython.notebook.kernel != null) {\n",
       "    IPython.notebook.kernel.comm_manager.register_target('matplotlib', mpl.mpl_figure_comm);\n",
       "}\n"
      ],
      "text/plain": [
       "<IPython.core.display.Javascript object>"
      ]
     },
     "metadata": {},
     "output_type": "display_data"
    },
    {
     "data": {
      "text/html": [
       "<img src=\"data:image/png;base64,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\" width=\"640\">"
      ],
      "text/plain": [
       "<IPython.core.display.HTML object>"
      ]
     },
     "metadata": {},
     "output_type": "display_data"
    },
    {
     "data": {
      "application/vnd.jupyter.widget-view+json": {
       "model_id": "",
       "version_major": 2,
       "version_minor": 0
      },
      "text/plain": [
       "HBox()"
      ]
     },
     "metadata": {},
     "output_type": "display_data"
    },
    {
     "name": "stdout",
     "output_type": "stream",
     "text": [
      "Domain gave error on pinging\n",
      "Domain gave error on pinging\n"
     ]
    }
   ],
   "source": [
    "%matplotlib notebook\n",
    "import pandas as pd\n",
    "import matplotlib.pyplot as plt\n",
    "from ipywidgets import *\n",
    "from IPython.display import display\n",
    "plt.style.use('ggplot')\n",
    "\n",
    "NUMBER_OF_PINGS = 4\n",
    " \n",
    "# displaying the text widget\n",
    "text = widgets.Text(description=\"Domain to ping\", width=200)\n",
    "display(text)\n",
    "\n",
    "# preparing the plot\n",
    "data = pd.DataFrame()\n",
    "x = range(1,NUMBER_OF_PINGS+1)\n",
    "plots = dict()\n",
    "fig, ax = plt.subplots()\n",
    "plt.xlabel('iterations')\n",
    "plt.ylabel('ms')\n",
    "plt.xticks(x)\n",
    "plt.show()\n",
    "\n",
    "# preparing a container to put in created checkbox per domain\n",
    "checkboxes = []\n",
    "cb_container = widgets.HBox()\n",
    "display(cb_container)\n",
    "\n",
    "# add button that updates the graph based on the checkboxes\n",
    "button = widgets.Button(description=\"Update the graph\")\n",
    "\n",
    "# function to deal with the added domain name\n",
    "def handle_submit(sender):\n",
    "    # a part of the magic inside python : pinging\n",
    "    res = !ping -c {NUMBER_OF_PINGS} {text.value}\n",
    "    hits = res.grep('64 bytes').fields(-2).s.replace(\"time=\",\"\").split()\n",
    "    if len(hits) == 0:\n",
    "        print (\"Domain gave error on pinging\")\n",
    "    else:\n",
    "         # rebuild plot based on ping result\n",
    "        data = hits\n",
    "        data = data.astype(float)\n",
    "        plots, = ax.plot(x, data, label=text.value)\n",
    "        plt.legend()\n",
    "        plt.draw()\n",
    "        # add a new checkbox for the new domain\n",
    "        checkboxes.append(widgets.Checkbox(description = text.value, value=True, width=90))\n",
    "        cb_container.children=[i for i in checkboxes]\n",
    "        if len(checkboxes) == 1:\n",
    "            display(button)\n",
    "    \n",
    "# function to deal with the checkbox update button      \n",
    "def on_button_clicked(b):\n",
    "    for c in cb_container.children:\n",
    "        if not c.value:\n",
    "            plots.set_visible(False)\n",
    "        else:\n",
    "            plots.set_visible(True)\n",
    "    plt.legend()\n",
    "    plt.draw()\n",
    "\n",
    "button.on_click(on_button_clicked)\n",
    "text.on_submit(handle_submit)\n",
    "plt.show()"
   ]
  },
  {
   "cell_type": "markdown",
   "metadata": {},
   "source": [
    "## Dicas para Bokeh [aqui](https://www.youtube.com/watch?v=9FlUFLmaWvY&t=2772s)\n",
    "\n",
    "---\n",
    "\n",
    "    conda install -c bokeh/channel/dev bokeh\n",
    "    \n",
    "*Observação: como o Bokeh é uma implementação Java, daqui para frente se você quiser visualizar gráficos vai ter que ativar cada uma das caixinhas de código. Elas não deixam o resultado permanente, como nas outras implementações*"
   ]
  },
  {
   "cell_type": "code",
   "execution_count": 26,
   "metadata": {},
   "outputs": [],
   "source": [
    "import bokeh"
   ]
  },
  {
   "cell_type": "code",
   "execution_count": 27,
   "metadata": {},
   "outputs": [
    {
     "data": {
      "text/plain": [
       "'1.0.0dev8'"
      ]
     },
     "execution_count": 27,
     "metadata": {},
     "output_type": "execute_result"
    }
   ],
   "source": [
    "bokeh.__version__"
   ]
  },
  {
   "cell_type": "markdown",
   "metadata": {},
   "source": [
    "Instalar databases demonstrativos\n",
    "\n",
    "    conda install -c bokeh/channel/dev bokeh"
   ]
  },
  {
   "cell_type": "code",
   "execution_count": 28,
   "metadata": {},
   "outputs": [],
   "source": [
    "import pandas as pd"
   ]
  },
  {
   "cell_type": "code",
   "execution_count": 29,
   "metadata": {},
   "outputs": [
    {
     "name": "stdout",
     "output_type": "stream",
     "text": [
      "Country        object\n",
      "life          float64\n",
      "population    float64\n",
      "income        float64\n",
      "region         object\n",
      "dtype: object\n"
     ]
    },
    {
     "data": {
      "text/html": [
       "<div>\n",
       "<style scoped>\n",
       "    .dataframe tbody tr th:only-of-type {\n",
       "        vertical-align: middle;\n",
       "    }\n",
       "\n",
       "    .dataframe tbody tr th {\n",
       "        vertical-align: top;\n",
       "    }\n",
       "\n",
       "    .dataframe thead th {\n",
       "        text-align: right;\n",
       "    }\n",
       "</style>\n",
       "<table border=\"1\" class=\"dataframe\">\n",
       "  <thead>\n",
       "    <tr style=\"text-align: right;\">\n",
       "      <th></th>\n",
       "      <th>Country</th>\n",
       "      <th>life</th>\n",
       "      <th>population</th>\n",
       "      <th>income</th>\n",
       "      <th>region</th>\n",
       "    </tr>\n",
       "    <tr>\n",
       "      <th>Year</th>\n",
       "      <th></th>\n",
       "      <th></th>\n",
       "      <th></th>\n",
       "      <th></th>\n",
       "      <th></th>\n",
       "    </tr>\n",
       "  </thead>\n",
       "  <tbody>\n",
       "    <tr>\n",
       "      <th>1800</th>\n",
       "      <td>Afghanistan</td>\n",
       "      <td>28.211000</td>\n",
       "      <td>3280000.0</td>\n",
       "      <td>603.0</td>\n",
       "      <td>South Asia</td>\n",
       "    </tr>\n",
       "    <tr>\n",
       "      <th>1801</th>\n",
       "      <td>Afghanistan</td>\n",
       "      <td>28.200753</td>\n",
       "      <td>NaN</td>\n",
       "      <td>603.0</td>\n",
       "      <td>South Asia</td>\n",
       "    </tr>\n",
       "    <tr>\n",
       "      <th>1802</th>\n",
       "      <td>Afghanistan</td>\n",
       "      <td>28.190507</td>\n",
       "      <td>NaN</td>\n",
       "      <td>603.0</td>\n",
       "      <td>South Asia</td>\n",
       "    </tr>\n",
       "    <tr>\n",
       "      <th>1803</th>\n",
       "      <td>Afghanistan</td>\n",
       "      <td>28.180260</td>\n",
       "      <td>NaN</td>\n",
       "      <td>603.0</td>\n",
       "      <td>South Asia</td>\n",
       "    </tr>\n",
       "    <tr>\n",
       "      <th>1804</th>\n",
       "      <td>Afghanistan</td>\n",
       "      <td>28.170013</td>\n",
       "      <td>NaN</td>\n",
       "      <td>603.0</td>\n",
       "      <td>South Asia</td>\n",
       "    </tr>\n",
       "  </tbody>\n",
       "</table>\n",
       "</div>"
      ],
      "text/plain": [
       "          Country       life  population  income      region\n",
       "Year                                                        \n",
       "1800  Afghanistan  28.211000   3280000.0   603.0  South Asia\n",
       "1801  Afghanistan  28.200753         NaN   603.0  South Asia\n",
       "1802  Afghanistan  28.190507         NaN   603.0  South Asia\n",
       "1803  Afghanistan  28.180260         NaN   603.0  South Asia\n",
       "1804  Afghanistan  28.170013         NaN   603.0  South Asia"
      ]
     },
     "execution_count": 29,
     "metadata": {},
     "output_type": "execute_result"
    }
   ],
   "source": [
    "fonte='C:/pyprog/gapminder.csv'\n",
    "data = pd.read_csv(fonte, index_col='Year', thousands=r',')\n",
    "print(data.dtypes)\n",
    "data.head()"
   ]
  },
  {
   "cell_type": "code",
   "execution_count": 30,
   "metadata": {},
   "outputs": [
    {
     "data": {
      "text/html": [
       "\n",
       "    <div class=\"bk-root\">\n",
       "        <a href=\"https://bokeh.pydata.org\" target=\"_blank\" class=\"bk-logo bk-logo-small bk-logo-notebook\"></a>\n",
       "        <span id=\"450ca650-01a1-4f52-a08a-01f96b8f06b8\">Loading BokehJS ...</span>\n",
       "    </div>"
      ]
     },
     "metadata": {},
     "output_type": "display_data"
    },
    {
     "data": {
      "application/javascript": [
       "\n",
       "(function(root) {\n",
       "  function now() {\n",
       "    return new Date();\n",
       "  }\n",
       "\n",
       "  var force = true;\n",
       "\n",
       "  if (typeof (root._bokeh_onload_callbacks) === \"undefined\" || force === true) {\n",
       "    root._bokeh_onload_callbacks = [];\n",
       "    root._bokeh_is_loading = undefined;\n",
       "  }\n",
       "\n",
       "  var JS_MIME_TYPE = 'application/javascript';\n",
       "  var HTML_MIME_TYPE = 'text/html';\n",
       "  var EXEC_MIME_TYPE = 'application/vnd.bokehjs_exec.v0+json';\n",
       "  var CLASS_NAME = 'output_bokeh rendered_html';\n",
       "\n",
       "  /**\n",
       "   * Render data to the DOM node\n",
       "   */\n",
       "  function render(props, node) {\n",
       "    var script = document.createElement(\"script\");\n",
       "    node.appendChild(script);\n",
       "  }\n",
       "\n",
       "  /**\n",
       "   * Handle when an output is cleared or removed\n",
       "   */\n",
       "  function handleClearOutput(event, handle) {\n",
       "    var cell = handle.cell;\n",
       "\n",
       "    var id = cell.output_area._bokeh_element_id;\n",
       "    var server_id = cell.output_area._bokeh_server_id;\n",
       "    // Clean up Bokeh references\n",
       "    if (id != null && id in Bokeh.index) {\n",
       "      Bokeh.index[id].model.document.clear();\n",
       "      delete Bokeh.index[id];\n",
       "    }\n",
       "\n",
       "    if (server_id !== undefined) {\n",
       "      // Clean up Bokeh references\n",
       "      var cmd = \"from bokeh.io.state import curstate; print(curstate().uuid_to_server['\" + server_id + \"'].get_sessions()[0].document.roots[0]._id)\";\n",
       "      cell.notebook.kernel.execute(cmd, {\n",
       "        iopub: {\n",
       "          output: function(msg) {\n",
       "            var id = msg.content.text.trim();\n",
       "            if (id in Bokeh.index) {\n",
       "              Bokeh.index[id].model.document.clear();\n",
       "              delete Bokeh.index[id];\n",
       "            }\n",
       "          }\n",
       "        }\n",
       "      });\n",
       "      // Destroy server and session\n",
       "      var cmd = \"import bokeh.io.notebook as ion; ion.destroy_server('\" + server_id + \"')\";\n",
       "      cell.notebook.kernel.execute(cmd);\n",
       "    }\n",
       "  }\n",
       "\n",
       "  /**\n",
       "   * Handle when a new output is added\n",
       "   */\n",
       "  function handleAddOutput(event, handle) {\n",
       "    var output_area = handle.output_area;\n",
       "    var output = handle.output;\n",
       "\n",
       "    // limit handleAddOutput to display_data with EXEC_MIME_TYPE content only\n",
       "    if ((output.output_type != \"display_data\") || (!output.data.hasOwnProperty(EXEC_MIME_TYPE))) {\n",
       "      return\n",
       "    }\n",
       "\n",
       "    var toinsert = output_area.element.find(\".\" + CLASS_NAME.split(' ')[0]);\n",
       "\n",
       "    if (output.metadata[EXEC_MIME_TYPE][\"id\"] !== undefined) {\n",
       "      toinsert[toinsert.length - 1].firstChild.textContent = output.data[JS_MIME_TYPE];\n",
       "      // store reference to embed id on output_area\n",
       "      output_area._bokeh_element_id = output.metadata[EXEC_MIME_TYPE][\"id\"];\n",
       "    }\n",
       "    if (output.metadata[EXEC_MIME_TYPE][\"server_id\"] !== undefined) {\n",
       "      var bk_div = document.createElement(\"div\");\n",
       "      bk_div.innerHTML = output.data[HTML_MIME_TYPE];\n",
       "      var script_attrs = bk_div.children[0].attributes;\n",
       "      for (var i = 0; i < script_attrs.length; i++) {\n",
       "        toinsert[toinsert.length - 1].firstChild.setAttribute(script_attrs[i].name, script_attrs[i].value);\n",
       "      }\n",
       "      // store reference to server id on output_area\n",
       "      output_area._bokeh_server_id = output.metadata[EXEC_MIME_TYPE][\"server_id\"];\n",
       "    }\n",
       "  }\n",
       "\n",
       "  function register_renderer(events, OutputArea) {\n",
       "\n",
       "    function append_mime(data, metadata, element) {\n",
       "      // create a DOM node to render to\n",
       "      var toinsert = this.create_output_subarea(\n",
       "        metadata,\n",
       "        CLASS_NAME,\n",
       "        EXEC_MIME_TYPE\n",
       "      );\n",
       "      this.keyboard_manager.register_events(toinsert);\n",
       "      // Render to node\n",
       "      var props = {data: data, metadata: metadata[EXEC_MIME_TYPE]};\n",
       "      render(props, toinsert[toinsert.length - 1]);\n",
       "      element.append(toinsert);\n",
       "      return toinsert\n",
       "    }\n",
       "\n",
       "    /* Handle when an output is cleared or removed */\n",
       "    events.on('clear_output.CodeCell', handleClearOutput);\n",
       "    events.on('delete.Cell', handleClearOutput);\n",
       "\n",
       "    /* Handle when a new output is added */\n",
       "    events.on('output_added.OutputArea', handleAddOutput);\n",
       "\n",
       "    /**\n",
       "     * Register the mime type and append_mime function with output_area\n",
       "     */\n",
       "    OutputArea.prototype.register_mime_type(EXEC_MIME_TYPE, append_mime, {\n",
       "      /* Is output safe? */\n",
       "      safe: true,\n",
       "      /* Index of renderer in `output_area.display_order` */\n",
       "      index: 0\n",
       "    });\n",
       "  }\n",
       "\n",
       "  // register the mime type if in Jupyter Notebook environment and previously unregistered\n",
       "  if (root.Jupyter !== undefined) {\n",
       "    var events = require('base/js/events');\n",
       "    var OutputArea = require('notebook/js/outputarea').OutputArea;\n",
       "\n",
       "    if (OutputArea.prototype.mime_types().indexOf(EXEC_MIME_TYPE) == -1) {\n",
       "      register_renderer(events, OutputArea);\n",
       "    }\n",
       "  }\n",
       "\n",
       "  \n",
       "  if (typeof (root._bokeh_timeout) === \"undefined\" || force === true) {\n",
       "    root._bokeh_timeout = Date.now() + 5000;\n",
       "    root._bokeh_failed_load = false;\n",
       "  }\n",
       "\n",
       "  var NB_LOAD_WARNING = {'data': {'text/html':\n",
       "     \"<div style='background-color: #fdd'>\\n\"+\n",
       "     \"<p>\\n\"+\n",
       "     \"BokehJS does not appear to have successfully loaded. If loading BokehJS from CDN, this \\n\"+\n",
       "     \"may be due to a slow or bad network connection. Possible fixes:\\n\"+\n",
       "     \"</p>\\n\"+\n",
       "     \"<ul>\\n\"+\n",
       "     \"<li>re-rerun `output_notebook()` to attempt to load from CDN again, or</li>\\n\"+\n",
       "     \"<li>use INLINE resources instead, as so:</li>\\n\"+\n",
       "     \"</ul>\\n\"+\n",
       "     \"<code>\\n\"+\n",
       "     \"from bokeh.resources import INLINE\\n\"+\n",
       "     \"output_notebook(resources=INLINE)\\n\"+\n",
       "     \"</code>\\n\"+\n",
       "     \"</div>\"}};\n",
       "\n",
       "  function display_loaded() {\n",
       "    var el = document.getElementById(\"450ca650-01a1-4f52-a08a-01f96b8f06b8\");\n",
       "    if (el != null) {\n",
       "      el.textContent = \"BokehJS is loading...\";\n",
       "    }\n",
       "    if (root.Bokeh !== undefined) {\n",
       "      if (el != null) {\n",
       "        el.textContent = \"BokehJS \" + root.Bokeh.version + \" successfully loaded.\";\n",
       "      }\n",
       "    } else if (Date.now() < root._bokeh_timeout) {\n",
       "      setTimeout(display_loaded, 100)\n",
       "    }\n",
       "  }\n",
       "\n",
       "\n",
       "  function run_callbacks() {\n",
       "    try {\n",
       "      root._bokeh_onload_callbacks.forEach(function(callback) { callback() });\n",
       "    }\n",
       "    finally {\n",
       "      delete root._bokeh_onload_callbacks\n",
       "    }\n",
       "    console.info(\"Bokeh: all callbacks have finished\");\n",
       "  }\n",
       "\n",
       "  function load_libs(js_urls, callback) {\n",
       "    root._bokeh_onload_callbacks.push(callback);\n",
       "    if (root._bokeh_is_loading > 0) {\n",
       "      console.log(\"Bokeh: BokehJS is being loaded, scheduling callback at\", now());\n",
       "      return null;\n",
       "    }\n",
       "    if (js_urls == null || js_urls.length === 0) {\n",
       "      run_callbacks();\n",
       "      return null;\n",
       "    }\n",
       "    console.log(\"Bokeh: BokehJS not loaded, scheduling load and callback at\", now());\n",
       "    root._bokeh_is_loading = js_urls.length;\n",
       "    for (var i = 0; i < js_urls.length; i++) {\n",
       "      var url = js_urls[i];\n",
       "      var s = document.createElement('script');\n",
       "      s.src = url;\n",
       "      s.async = false;\n",
       "      s.onreadystatechange = s.onload = function() {\n",
       "        root._bokeh_is_loading--;\n",
       "        if (root._bokeh_is_loading === 0) {\n",
       "          console.log(\"Bokeh: all BokehJS libraries loaded\");\n",
       "          run_callbacks()\n",
       "        }\n",
       "      };\n",
       "      s.onerror = function() {\n",
       "        console.warn(\"failed to load library \" + url);\n",
       "      };\n",
       "      console.log(\"Bokeh: injecting script tag for BokehJS library: \", url);\n",
       "      document.getElementsByTagName(\"head\")[0].appendChild(s);\n",
       "    }\n",
       "  };var element = document.getElementById(\"450ca650-01a1-4f52-a08a-01f96b8f06b8\");\n",
       "  if (element == null) {\n",
       "    console.log(\"Bokeh: ERROR: autoload.js configured with elementid '450ca650-01a1-4f52-a08a-01f96b8f06b8' but no matching script tag was found. \")\n",
       "    return false;\n",
       "  }\n",
       "\n",
       "  var js_urls = [\"https://cdn.pydata.org/bokeh/dev/bokeh-1.0.0dev8.min.js\", \"https://cdn.pydata.org/bokeh/dev/bokeh-widgets-1.0.0dev8.min.js\", \"https://cdn.pydata.org/bokeh/dev/bokeh-tables-1.0.0dev8.min.js\", \"https://cdn.pydata.org/bokeh/dev/bokeh-gl-1.0.0dev8.min.js\"];\n",
       "\n",
       "  var inline_js = [\n",
       "    function(Bokeh) {\n",
       "      Bokeh.set_log_level(\"info\");\n",
       "    },\n",
       "    \n",
       "    function(Bokeh) {\n",
       "      \n",
       "    },\n",
       "    function(Bokeh) {\n",
       "      console.log(\"Bokeh: injecting CSS: https://cdn.pydata.org/bokeh/dev/bokeh-1.0.0dev8.min.css\");\n",
       "      Bokeh.embed.inject_css(\"https://cdn.pydata.org/bokeh/dev/bokeh-1.0.0dev8.min.css\");\n",
       "      console.log(\"Bokeh: injecting CSS: https://cdn.pydata.org/bokeh/dev/bokeh-widgets-1.0.0dev8.min.css\");\n",
       "      Bokeh.embed.inject_css(\"https://cdn.pydata.org/bokeh/dev/bokeh-widgets-1.0.0dev8.min.css\");\n",
       "      console.log(\"Bokeh: injecting CSS: https://cdn.pydata.org/bokeh/dev/bokeh-tables-1.0.0dev8.min.css\");\n",
       "      Bokeh.embed.inject_css(\"https://cdn.pydata.org/bokeh/dev/bokeh-tables-1.0.0dev8.min.css\");\n",
       "    }\n",
       "  ];\n",
       "\n",
       "  function run_inline_js() {\n",
       "    \n",
       "    if ((root.Bokeh !== undefined) || (force === true)) {\n",
       "      for (var i = 0; i < inline_js.length; i++) {\n",
       "        inline_js[i].call(root, root.Bokeh);\n",
       "      }if (force === true) {\n",
       "        display_loaded();\n",
       "      }} else if (Date.now() < root._bokeh_timeout) {\n",
       "      setTimeout(run_inline_js, 100);\n",
       "    } else if (!root._bokeh_failed_load) {\n",
       "      console.log(\"Bokeh: BokehJS failed to load within specified timeout.\");\n",
       "      root._bokeh_failed_load = true;\n",
       "    } else if (force !== true) {\n",
       "      var cell = $(document.getElementById(\"450ca650-01a1-4f52-a08a-01f96b8f06b8\")).parents('.cell').data().cell;\n",
       "      cell.output_area.append_execute_result(NB_LOAD_WARNING)\n",
       "    }\n",
       "\n",
       "  }\n",
       "\n",
       "  if (root._bokeh_is_loading === 0) {\n",
       "    console.log(\"Bokeh: BokehJS loaded, going straight to plotting\");\n",
       "    run_inline_js();\n",
       "  } else {\n",
       "    load_libs(js_urls, function() {\n",
       "      console.log(\"Bokeh: BokehJS plotting callback run at\", now());\n",
       "      run_inline_js();\n",
       "    });\n",
       "  }\n",
       "}(window));"
      ],
      "application/vnd.bokehjs_load.v0+json": "\n(function(root) {\n  function now() {\n    return new Date();\n  }\n\n  var force = true;\n\n  if (typeof (root._bokeh_onload_callbacks) === \"undefined\" || force === true) {\n    root._bokeh_onload_callbacks = [];\n    root._bokeh_is_loading = undefined;\n  }\n\n  \n\n  \n  if (typeof (root._bokeh_timeout) === \"undefined\" || force === true) {\n    root._bokeh_timeout = Date.now() + 5000;\n    root._bokeh_failed_load = false;\n  }\n\n  var NB_LOAD_WARNING = {'data': {'text/html':\n     \"<div style='background-color: #fdd'>\\n\"+\n     \"<p>\\n\"+\n     \"BokehJS does not appear to have successfully loaded. If loading BokehJS from CDN, this \\n\"+\n     \"may be due to a slow or bad network connection. Possible fixes:\\n\"+\n     \"</p>\\n\"+\n     \"<ul>\\n\"+\n     \"<li>re-rerun `output_notebook()` to attempt to load from CDN again, or</li>\\n\"+\n     \"<li>use INLINE resources instead, as so:</li>\\n\"+\n     \"</ul>\\n\"+\n     \"<code>\\n\"+\n     \"from bokeh.resources import INLINE\\n\"+\n     \"output_notebook(resources=INLINE)\\n\"+\n     \"</code>\\n\"+\n     \"</div>\"}};\n\n  function display_loaded() {\n    var el = document.getElementById(\"450ca650-01a1-4f52-a08a-01f96b8f06b8\");\n    if (el != null) {\n      el.textContent = \"BokehJS is loading...\";\n    }\n    if (root.Bokeh !== undefined) {\n      if (el != null) {\n        el.textContent = \"BokehJS \" + root.Bokeh.version + \" successfully loaded.\";\n      }\n    } else if (Date.now() < root._bokeh_timeout) {\n      setTimeout(display_loaded, 100)\n    }\n  }\n\n\n  function run_callbacks() {\n    try {\n      root._bokeh_onload_callbacks.forEach(function(callback) { callback() });\n    }\n    finally {\n      delete root._bokeh_onload_callbacks\n    }\n    console.info(\"Bokeh: all callbacks have finished\");\n  }\n\n  function load_libs(js_urls, callback) {\n    root._bokeh_onload_callbacks.push(callback);\n    if (root._bokeh_is_loading > 0) {\n      console.log(\"Bokeh: BokehJS is being loaded, scheduling callback at\", now());\n      return null;\n    }\n    if (js_urls == null || js_urls.length === 0) {\n      run_callbacks();\n      return null;\n    }\n    console.log(\"Bokeh: BokehJS not loaded, scheduling load and callback at\", now());\n    root._bokeh_is_loading = js_urls.length;\n    for (var i = 0; i < js_urls.length; i++) {\n      var url = js_urls[i];\n      var s = document.createElement('script');\n      s.src = url;\n      s.async = false;\n      s.onreadystatechange = s.onload = function() {\n        root._bokeh_is_loading--;\n        if (root._bokeh_is_loading === 0) {\n          console.log(\"Bokeh: all BokehJS libraries loaded\");\n          run_callbacks()\n        }\n      };\n      s.onerror = function() {\n        console.warn(\"failed to load library \" + url);\n      };\n      console.log(\"Bokeh: injecting script tag for BokehJS library: \", url);\n      document.getElementsByTagName(\"head\")[0].appendChild(s);\n    }\n  };var element = document.getElementById(\"450ca650-01a1-4f52-a08a-01f96b8f06b8\");\n  if (element == null) {\n    console.log(\"Bokeh: ERROR: autoload.js configured with elementid '450ca650-01a1-4f52-a08a-01f96b8f06b8' but no matching script tag was found. \")\n    return false;\n  }\n\n  var js_urls = [\"https://cdn.pydata.org/bokeh/dev/bokeh-1.0.0dev8.min.js\", \"https://cdn.pydata.org/bokeh/dev/bokeh-widgets-1.0.0dev8.min.js\", \"https://cdn.pydata.org/bokeh/dev/bokeh-tables-1.0.0dev8.min.js\", \"https://cdn.pydata.org/bokeh/dev/bokeh-gl-1.0.0dev8.min.js\"];\n\n  var inline_js = [\n    function(Bokeh) {\n      Bokeh.set_log_level(\"info\");\n    },\n    \n    function(Bokeh) {\n      \n    },\n    function(Bokeh) {\n      console.log(\"Bokeh: injecting CSS: https://cdn.pydata.org/bokeh/dev/bokeh-1.0.0dev8.min.css\");\n      Bokeh.embed.inject_css(\"https://cdn.pydata.org/bokeh/dev/bokeh-1.0.0dev8.min.css\");\n      console.log(\"Bokeh: injecting CSS: https://cdn.pydata.org/bokeh/dev/bokeh-widgets-1.0.0dev8.min.css\");\n      Bokeh.embed.inject_css(\"https://cdn.pydata.org/bokeh/dev/bokeh-widgets-1.0.0dev8.min.css\");\n      console.log(\"Bokeh: injecting CSS: https://cdn.pydata.org/bokeh/dev/bokeh-tables-1.0.0dev8.min.css\");\n      Bokeh.embed.inject_css(\"https://cdn.pydata.org/bokeh/dev/bokeh-tables-1.0.0dev8.min.css\");\n    }\n  ];\n\n  function run_inline_js() {\n    \n    if ((root.Bokeh !== undefined) || (force === true)) {\n      for (var i = 0; i < inline_js.length; i++) {\n        inline_js[i].call(root, root.Bokeh);\n      }if (force === true) {\n        display_loaded();\n      }} else if (Date.now() < root._bokeh_timeout) {\n      setTimeout(run_inline_js, 100);\n    } else if (!root._bokeh_failed_load) {\n      console.log(\"Bokeh: BokehJS failed to load within specified timeout.\");\n      root._bokeh_failed_load = true;\n    } else if (force !== true) {\n      var cell = $(document.getElementById(\"450ca650-01a1-4f52-a08a-01f96b8f06b8\")).parents('.cell').data().cell;\n      cell.output_area.append_execute_result(NB_LOAD_WARNING)\n    }\n\n  }\n\n  if (root._bokeh_is_loading === 0) {\n    console.log(\"Bokeh: BokehJS loaded, going straight to plotting\");\n    run_inline_js();\n  } else {\n    load_libs(js_urls, function() {\n      console.log(\"Bokeh: BokehJS plotting callback run at\", now());\n      run_inline_js();\n    });\n  }\n}(window));"
     },
     "metadata": {},
     "output_type": "display_data"
    }
   ],
   "source": [
    "from bokeh.io import output_notebook\n",
    "output_notebook()"
   ]
  },
  {
   "cell_type": "code",
   "execution_count": 31,
   "metadata": {},
   "outputs": [],
   "source": [
    "from bokeh.io import show\n",
    "from bokeh.plotting import figure"
   ]
  },
  {
   "cell_type": "markdown",
   "metadata": {},
   "source": [
    "Para deixar as legendas do eixo X bonitinhas:\n",
    "\n",
    "*Observação: até o momento o Bokeh trabalha com fontes de dados na forma de **Listas**. Implementações mais elaboradas ainda não são suportadas. Isso não chega a ser um grande problema, pois os dados são facilmente tratados pelo Pandas*"
   ]
  },
  {
   "cell_type": "code",
   "execution_count": 32,
   "metadata": {},
   "outputs": [
    {
     "data": {
      "text/html": [
       "\n",
       "\n",
       "\n",
       "\n",
       "\n",
       "\n",
       "  <div class=\"bk-root\" id=\"4acdf0ee-76c8-4da6-a2cc-76717386be86\"></div>\n"
      ]
     },
     "metadata": {},
     "output_type": "display_data"
    },
    {
     "data": {
      "application/javascript": [
       "(function(root) {\n",
       "  function embed_document(root) {\n",
       "    \n",
       "  var docs_json = {\"4db13c63-6bcf-4db7-9e65-336c8b1a0e9e\":{\"roots\":{\"references\":[{\"attributes\":{\"below\":[{\"id\":\"97d47993-c628-4c6d-b56a-53fa3aa5331b\",\"type\":\"LinearAxis\"}],\"left\":[{\"id\":\"a6dd4761-1262-4a9e-a6ee-3995c27a7363\",\"type\":\"LinearAxis\"}],\"plot_height\":200,\"renderers\":[{\"id\":\"97d47993-c628-4c6d-b56a-53fa3aa5331b\",\"type\":\"LinearAxis\"},{\"id\":\"d23e5693-3e3b-4665-954f-fe128e4a2e88\",\"type\":\"Grid\"},{\"id\":\"a6dd4761-1262-4a9e-a6ee-3995c27a7363\",\"type\":\"LinearAxis\"},{\"id\":\"ff1d9e5a-a7e9-48ab-b1f8-5058e1dc4d83\",\"type\":\"Grid\"},{\"id\":\"c8b33eca-1f0a-4865-be59-fce5561f42fa\",\"type\":\"GlyphRenderer\"}],\"title\":{\"id\":\"a12c6c34-1881-4721-a95a-2b73bed5f64f\",\"type\":\"Title\"},\"toolbar\":{\"id\":\"0890753a-023e-4002-8022-7ffd21abb16f\",\"type\":\"Toolbar\"},\"x_range\":{\"id\":\"d5a94a0f-4449-4b8d-912e-66171f3dcf03\",\"type\":\"DataRange1d\"},\"x_scale\":{\"id\":\"793f954d-92a0-465e-b29b-2539fe53e43c\",\"type\":\"LinearScale\"},\"y_range\":{\"id\":\"fd856ef0-0491-48e5-82df-5b6193786298\",\"type\":\"DataRange1d\"},\"y_scale\":{\"id\":\"406381bb-541a-4cf4-b1bc-63fe58fbae1b\",\"type\":\"LinearScale\"}},\"id\":\"59b15cf9-0915-4746-8331-4c669103fe78\",\"subtype\":\"Figure\",\"type\":\"Plot\"},{\"attributes\":{\"callback\":null,\"data\":{\"x\":{\"__ndarray__\":\"AAAAAACUmUAAAAAAAE/CQAAAAAAAZ8hAAAAAAMAI40AAAAAAAIe7QAAAAADAFdRAAAAAAIDKzkAAAAAAAGy5QAAAAABALuRAAAAAAKDt5EAAAAAAACfPQAAAAADAYNZAAAAAACDN40AAAAAAADajQAAAAACA4M1AAAAAAICrzkAAAAAAgOfjQAAAAACACMBAAAAAAACUmUAAAAAAAHS5QAAAAAAAn7RAAAAAAIDcwUAAAAAAAKXKQAAAAAAAosxAAAAAAMA+8UAAAAAAABPNQAAAAAAAXJZAAAAAAACohkAAAAAAAKKjQAAAAAAAFqRAAAAAAKDo40AAAAAAAHW3QAAAAAAAhJ5AAAAAAADB0kAAAAAAAGvCQAAAAACADMVAAAAAAABIlkAAAAAAAMCDQAAAAAAAnbVAAAAAAAARyEAAAAAAAJimQAAAAABAhdNAAAAAAEAL0kAAAAAAYHrgQAAAAACg/uRAAAAAAADSpEAAAAAAgEPEQAAAAACAL8JAAAAAAIC7xEAAAAAAAEW8QAAAAADgz+BAAAAAAADskEAAAAAAgDPVQAAAAAAA5JBAAAAAAAC6u0AAAAAAIEDjQAAAAAAg8eFAAAAAAAA3z0AAAAAAAAyaQAAAAAAAMrdAAAAAAADX40AAAAAAACaoQAAAAACAgdxAAAAAAADVxUAAAAAAAMG6QAAAAAAAhJJAAAAAAABglUAAAAAAAKa1QAAAAAAAuJdAAAAAAACusEAAAAAAgIvVQAAAAAAg8+JAAAAAAADDsUAAAAAAAJnAQAAAAAAAldBAAAAAAAAVyEAAAAAAgGrlQAAAAABA0dxAAAAAACB14UAAAAAAAFnAQAAAAACAzOBAAAAAAAD8xUAAAAAAQCTTQAAAAAAAjqNAAAAAAAAEm0AAAAAAUGbyQAAAAAAAudFAAAAAAIDDz0AAAAAAAHahQAAAAAAAiIVAAAAAAECN3UAAAAAAgEXUQAAAAACwQPZAAAAAAIDVxUAAAAAAALiVQAAAAAAACIdAAAAAAIDr00AAAAAAAM3GQAAAAAAAAJpAAAAAAIBA20AAAAAAAHSrQAAAAAAAxqlAAAAAAIB3zkAAAAAAADLOQAAAAAAAEqpAAAAAAACqrkAAAAAAABy+QAAAAAAArMpAAAAAAABCuUAAAAAAABCNQAAAAAAACqhAAAAAAIB4wEAAAAAAADyfQAAAAABgYuZAAAAAAAAU30AAAAAAAPyuQAAAAAAASIpAAAAAAAD6s0AAAAAAQLzuQAAAAACABOhAAAAAAAB8sEAAAAAAgCTNQAAAAAAA5qBAAAAAAABgu0AAAAAAgF3DQAAAAAAA7rVAAAAAAADU1EAAAAAAQMDaQAAAAAAAP/9AAAAAAAB+0EAAAAAAACjVQAAAAAAAuJNAAAAAAAAdtUAAAAAAAG6lQAAAAADAQ+ZAAAAAAAAMoUAAAAAAgAbIQAAAAAAA49NAAAAAAAAMlUAAAAAAgJfxQAAAAACA3ddAAAAAAEC220AAAAAAAOybQAAAAAAAMINAAAAAAICbx0AAAAAAAPytQAAAAABAHOBAAAAAAACUvUAAAAAAAKSpQAAAAACA+stAAAAAAADmtkAAAAAAQPLkQAAAAADgdOpAAAAAAADLuUAAAAAAoBXjQAAAAAAAfKBAAAAAAAC+oEAAAAAAAAvJQAAAAAAAxJtAAAAAAAB4k0AAAAAAAFGzQAAAAABAotxAAAAAAIBVxEAAAAAAgEjQQAAAAAAAmMNAAAAAAACsl0AAAAAAAKS+QAAAAACAqOtAAAAAAACy4UAAAAAAoBvoQAAAAADAsdBAAAAAAABZsEAAAAAAAAinQAAAAAAAJtBAAAAAAACGsUAAAAAAAEOwQAAAAAAA9qpAAAAAAAAwl0A=\",\"dtype\":\"float64\",\"shape\":[178]},\"y\":{\"__ndarray__\":\"ZmZmZmZmS0DNzMzMzMxSQJqZmZmZ+VJAzczMzMzsVEAzMzMzM7NNQM3MzMzMzFJAMzMzMzPzUkCamZmZmTlSQM3MzMzMbFRAAAAAAAAgVECamZmZmdlRQJqZmZmZGVJAzczMzMyMU0BmZmZmZiZRQJqZmZmZ2VJAzczMzMyMUUAzMzMzM/NTQGZmZmZmhlFAAAAAAAAAUEAzMzMzMxNRQDMzMzMz01FAAAAAAAAgU0AAAAAAACBQQM3MzMzMjFJAAAAAAACgU0BmZmZmZmZSQJqZmZmZWU5AmpmZmZlZTUCamZmZmblQQAAAAAAAwExAZmZmZmZGVECamZmZmVlSQJqZmZmZGUxAMzMzMzOzU0CamZmZmflSQDMzMzMz01JAAAAAAACAT0BmZmZmZiZMQGZmZmZmJk5AZmZmZmbmU0CamZmZmZlMQM3MzMzMTFNAAAAAAACAU0BmZmZmZmZUQDMzMzMz01NAZmZmZmbmTkCamZmZmZlSQM3MzMzMjFJAMzMzMzOTUUAzMzMzM3NSQJqZmZmZmUxAAAAAAACATkAzMzMzM/NSQAAAAAAAgE5AmpmZmZl5UEAAAAAAAABUQM3MzMzMTFRAAAAAAADATEAAAAAAAIBPQJqZmZmZGVJAzczMzMwMVEAAAAAAAMBPQGZmZmZm5lNAzczMzMzMUUAzMzMzM7NRQM3MzMzMjE1AAAAAAAAASkBmZmZmZqZPQAAAAAAAgEJAMzMzMzPTUUDNzMzMzKxSQAAAAAAAoFRAZmZmZmZGUEAzMzMzM3NRQJqZmZmZeVNAMzMzMzMTUUCamZmZmflTQAAAAAAAYFRAmpmZmZl5VEAAAAAAAOBSQAAAAAAAwFRAZmZmZmZmU0BmZmZmZsZQQM3MzMzMjE9AAAAAAADATkBmZmZmZsZTQAAAAAAAgFJAAAAAAACAU0AzMzMzM7NHQJqZmZmZ2U5AZmZmZmbmUkCamZmZmXlSQAAAAAAAQFRAMzMzMzPzUkBmZmZmZuZPQGZmZmZm5kpAMzMzMzOTUkCamZmZmblTQAAAAAAAQExAMzMzMzNzVEBmZmZmZgZQQM3MzMzMDFBAmpmZmZkZUkDNzMzMzOxSQJqZmZmZmVBAzczMzMyMUUBmZmZmZuZPQM3MzMzMzFJAzczMzMxsUkCamZmZmdlLQAAAAAAAgFBAAAAAAADATUAAAAAAAGBRQAAAAAAAIFRAAAAAAAAgVEAzMzMzM/NSQJqZmZmZWU5AZmZmZmZmTUCamZmZmTlUQAAAAAAAwFJAzczMzMwsUEDNzMzMzExTQJqZmZmZWU1AmpmZmZlZUkAzMzMzMzNTQM3MzMzMbFFAZmZmZmYGU0AAAAAAAOBTQDMzMzMzU1RAAAAAAACAUkDNzMzMzCxRQJqZmZmZ2U9AZmZmZmbmUUBmZmZmZuZQQM3MzMzMbFNAAAAAAABAUEAAAAAAAEBTQDMzMzMzM1JAAAAAAABATEAAAAAAAGBUQAAAAAAA4FJAAAAAAADgU0AAAAAAAIBPQDMzMzMzc0xAmpmZmZlZTEAAAAAAAEBMQGZmZmZmZlRAzczMzMzsUkAAAAAAAABRQAAAAAAAYFFAZmZmZmbmR0AAAAAAAGBUQDMzMzMzk1RAzczMzMwsU0AzMzMzM7NTQJqZmZmZeVFAMzMzMzNzTkBmZmZmZqZSQDMzMzMzc1FAAAAAAACATkBmZmZmZoZRQGZmZmZmxlFAMzMzMzMzU0DNzMzMzOxSQGZmZmZmplBAMzMzMzMzTUCamZmZmZlRQM3MzMzMDFNAAAAAAAAAVEAAAAAAAKBTQAAAAAAAIFNAZmZmZmZGUUAAAAAAAABQQM3MzMzMrFJAMzMzMzPzUkAAAAAAAIBSQM3MzMzMDEtAMzMzMzMzSUA=\",\"dtype\":\"float64\",\"shape\":[178]}},\"selected\":{\"id\":\"29afa170-5341-4121-a83d-728fad7358ca\",\"type\":\"Selection\"},\"selection_policy\":{\"id\":\"d31c9315-5843-4aed-ad71-da04d192333a\",\"type\":\"UnionRenderers\"}},\"id\":\"6aaf697f-f15e-4060-8b5e-fdabc97988fa\",\"type\":\"ColumnDataSource\"},{\"attributes\":{},\"id\":\"d31c9315-5843-4aed-ad71-da04d192333a\",\"type\":\"UnionRenderers\"},{\"attributes\":{},\"id\":\"611760fe-ca39-47cd-8e3c-59f77a4b9ffd\",\"type\":\"BasicTicker\"},{\"attributes\":{},\"id\":\"e8d26116-6281-432b-a0c6-e79cd3a2f153\",\"type\":\"BasicTickFormatter\"},{\"attributes\":{},\"id\":\"971aea3d-4c31-4d06-8a8a-550a8bf28eb1\",\"type\":\"BasicTicker\"},{\"attributes\":{\"formatter\":{\"id\":\"e8d26116-6281-432b-a0c6-e79cd3a2f153\",\"type\":\"BasicTickFormatter\"},\"plot\":{\"id\":\"59b15cf9-0915-4746-8331-4c669103fe78\",\"subtype\":\"Figure\",\"type\":\"Plot\"},\"ticker\":{\"id\":\"611760fe-ca39-47cd-8e3c-59f77a4b9ffd\",\"type\":\"BasicTicker\"}},\"id\":\"a6dd4761-1262-4a9e-a6ee-3995c27a7363\",\"type\":\"LinearAxis\"},{\"attributes\":{\"data_source\":{\"id\":\"6aaf697f-f15e-4060-8b5e-fdabc97988fa\",\"type\":\"ColumnDataSource\"},\"glyph\":{\"id\":\"c25ce8c8-e83d-4f8b-a080-b468a1bd3210\",\"type\":\"Circle\"},\"hover_glyph\":null,\"muted_glyph\":null,\"nonselection_glyph\":{\"id\":\"be2ac801-1573-4f52-a381-5a1260c7329e\",\"type\":\"Circle\"},\"selection_glyph\":null,\"view\":{\"id\":\"210b41ac-5e18-4a6e-9552-ded06aa63ef3\",\"type\":\"CDSView\"}},\"id\":\"c8b33eca-1f0a-4865-be59-fce5561f42fa\",\"type\":\"GlyphRenderer\"},{\"attributes\":{\"active_drag\":\"auto\",\"active_inspect\":\"auto\",\"active_multi\":null,\"active_scroll\":\"auto\",\"active_tap\":\"auto\"},\"id\":\"0890753a-023e-4002-8022-7ffd21abb16f\",\"type\":\"Toolbar\"},{\"attributes\":{\"plot\":{\"id\":\"59b15cf9-0915-4746-8331-4c669103fe78\",\"subtype\":\"Figure\",\"type\":\"Plot\"},\"ticker\":{\"id\":\"971aea3d-4c31-4d06-8a8a-550a8bf28eb1\",\"type\":\"BasicTicker\"}},\"id\":\"d23e5693-3e3b-4665-954f-fe128e4a2e88\",\"type\":\"Grid\"},{\"attributes\":{\"formatter\":{\"id\":\"327b6c0b-e5d6-4b7c-963e-8e5d6e57b3b2\",\"type\":\"NumeralTickFormatter\"},\"plot\":{\"id\":\"59b15cf9-0915-4746-8331-4c669103fe78\",\"subtype\":\"Figure\",\"type\":\"Plot\"},\"ticker\":{\"id\":\"971aea3d-4c31-4d06-8a8a-550a8bf28eb1\",\"type\":\"BasicTicker\"}},\"id\":\"97d47993-c628-4c6d-b56a-53fa3aa5331b\",\"type\":\"LinearAxis\"},{\"attributes\":{\"fill_alpha\":{\"value\":0.1},\"fill_color\":{\"value\":\"#1f77b4\"},\"line_alpha\":{\"value\":0.1},\"line_color\":{\"value\":\"#1f77b4\"},\"x\":{\"field\":\"x\"},\"y\":{\"field\":\"y\"}},\"id\":\"be2ac801-1573-4f52-a381-5a1260c7329e\",\"type\":\"Circle\"},{\"attributes\":{\"plot\":null,\"text\":\"\"},\"id\":\"a12c6c34-1881-4721-a95a-2b73bed5f64f\",\"type\":\"Title\"},{\"attributes\":{\"fill_color\":{\"value\":\"brown\"},\"line_color\":{\"value\":\"brown\"},\"x\":{\"field\":\"x\"},\"y\":{\"field\":\"y\"}},\"id\":\"c25ce8c8-e83d-4f8b-a080-b468a1bd3210\",\"type\":\"Circle\"},{\"attributes\":{},\"id\":\"29afa170-5341-4121-a83d-728fad7358ca\",\"type\":\"Selection\"},{\"attributes\":{\"dimension\":1,\"plot\":{\"id\":\"59b15cf9-0915-4746-8331-4c669103fe78\",\"subtype\":\"Figure\",\"type\":\"Plot\"},\"ticker\":{\"id\":\"611760fe-ca39-47cd-8e3c-59f77a4b9ffd\",\"type\":\"BasicTicker\"}},\"id\":\"ff1d9e5a-a7e9-48ab-b1f8-5058e1dc4d83\",\"type\":\"Grid\"},{\"attributes\":{\"callback\":null},\"id\":\"fd856ef0-0491-48e5-82df-5b6193786298\",\"type\":\"DataRange1d\"},{\"attributes\":{\"source\":{\"id\":\"6aaf697f-f15e-4060-8b5e-fdabc97988fa\",\"type\":\"ColumnDataSource\"}},\"id\":\"210b41ac-5e18-4a6e-9552-ded06aa63ef3\",\"type\":\"CDSView\"},{\"attributes\":{\"callback\":null},\"id\":\"d5a94a0f-4449-4b8d-912e-66171f3dcf03\",\"type\":\"DataRange1d\"},{\"attributes\":{\"format\":\"$0,\"},\"id\":\"327b6c0b-e5d6-4b7c-963e-8e5d6e57b3b2\",\"type\":\"NumeralTickFormatter\"},{\"attributes\":{},\"id\":\"793f954d-92a0-465e-b29b-2539fe53e43c\",\"type\":\"LinearScale\"},{\"attributes\":{},\"id\":\"406381bb-541a-4cf4-b1bc-63fe58fbae1b\",\"type\":\"LinearScale\"}],\"root_ids\":[\"59b15cf9-0915-4746-8331-4c669103fe78\"]},\"title\":\"Bokeh Application\",\"version\":\"1.0.0dev8\"}};\n",
       "  var render_items = [{\"docid\":\"4db13c63-6bcf-4db7-9e65-336c8b1a0e9e\",\"roots\":{\"59b15cf9-0915-4746-8331-4c669103fe78\":\"4acdf0ee-76c8-4da6-a2cc-76717386be86\"}}];\n",
       "  root.Bokeh.embed.embed_items_notebook(docs_json, render_items);\n",
       "\n",
       "  }\n",
       "  if (root.Bokeh !== undefined) {\n",
       "    embed_document(root);\n",
       "  } else {\n",
       "    var attempts = 0;\n",
       "    var timer = setInterval(function(root) {\n",
       "      if (root.Bokeh !== undefined) {\n",
       "        embed_document(root);\n",
       "        clearInterval(timer);\n",
       "      }\n",
       "      attempts++;\n",
       "      if (attempts > 100) {\n",
       "        console.log(\"Bokeh: ERROR: Unable to run BokehJS code because BokehJS library is missing\")\n",
       "        clearInterval(timer);\n",
       "      }\n",
       "    }, 10, root)\n",
       "  }\n",
       "})(window);"
      ],
      "application/vnd.bokehjs_exec.v0+json": ""
     },
     "metadata": {
      "application/vnd.bokehjs_exec.v0+json": {
       "id": "59b15cf9-0915-4746-8331-4c669103fe78"
      }
     },
     "output_type": "display_data"
    }
   ],
   "source": [
    "from bokeh.models import NumeralTickFormatter\n",
    "\n",
    "p= figure(height=200, tools='')\n",
    "p.circle (x=data.loc[2010].income, y=data.loc[2010].life, color='brown') #p.line, p.cross ...\n",
    "p.xaxis[0].formatter = NumeralTickFormatter(format='$0,')\n",
    "\n",
    "show(p)"
   ]
  },
  {
   "cell_type": "markdown",
   "metadata": {},
   "source": [
    "A fonte (source) aceita um Dataframe ou um Dicionário. No caso foi passado um **Dicionário**\n",
    "\n",
    "E **Hover** possibilita abrir os **Tooltips** com os  nomes dos países:"
   ]
  },
  {
   "cell_type": "code",
   "execution_count": 33,
   "metadata": {},
   "outputs": [
    {
     "data": {
      "text/html": [
       "\n",
       "\n",
       "\n",
       "\n",
       "\n",
       "\n",
       "  <div class=\"bk-root\" id=\"2db264f5-ca4e-4651-b442-d0766b6be67a\"></div>\n"
      ]
     },
     "metadata": {},
     "output_type": "display_data"
    },
    {
     "data": {
      "application/javascript": [
       "(function(root) {\n",
       "  function embed_document(root) {\n",
       "    \n",
       "  var docs_json = {\"7c7b7167-367a-402a-a5a2-2d6de712bd65\":{\"roots\":{\"references\":[{\"attributes\":{\"below\":[{\"id\":\"479feba9-f45c-4096-90e2-92190674be60\",\"type\":\"LogAxis\"}],\"left\":[{\"id\":\"482d4558-5c8f-4f6f-b800-8bbc54050f1d\",\"type\":\"LinearAxis\"}],\"plot_height\":200,\"renderers\":[{\"id\":\"479feba9-f45c-4096-90e2-92190674be60\",\"type\":\"LogAxis\"},{\"id\":\"5783d475-9df7-4d98-aea3-4510a0c824a8\",\"type\":\"Grid\"},{\"id\":\"482d4558-5c8f-4f6f-b800-8bbc54050f1d\",\"type\":\"LinearAxis\"},{\"id\":\"6e1c8d14-9089-499c-9b70-40601be1ad1a\",\"type\":\"Grid\"},{\"id\":\"eb101849-6b84-485a-b266-803a1f2e475d\",\"type\":\"GlyphRenderer\"}],\"title\":{\"id\":\"36d90cd6-d838-42fd-8ad5-b0091dbdc2b0\",\"type\":\"Title\"},\"toolbar\":{\"id\":\"7d4aa5b1-7a65-4bfd-9a42-86595cff5169\",\"type\":\"Toolbar\"},\"x_range\":{\"id\":\"dbaa52f8-c927-46be-878a-0dd68b162524\",\"type\":\"Range1d\"},\"x_scale\":{\"id\":\"eab9d09c-1d5d-469f-bdc0-1c75ccf60302\",\"type\":\"LogScale\"},\"y_range\":{\"id\":\"3ca5fb89-3b4a-4485-b0d5-fdb455541885\",\"type\":\"Range1d\"},\"y_scale\":{\"id\":\"5d496b40-e9af-42a5-8914-10e2cce619d5\",\"type\":\"LinearScale\"}},\"id\":\"03b7439a-d4c1-4c0e-ad33-29396f8e88db\",\"subtype\":\"Figure\",\"type\":\"Plot\"},{\"attributes\":{},\"id\":\"eab9d09c-1d5d-469f-bdc0-1c75ccf60302\",\"type\":\"LogScale\"},{\"attributes\":{},\"id\":\"021f79dd-fa71-4b09-9d72-52068262f827\",\"type\":\"Selection\"},{\"attributes\":{},\"id\":\"08ef45e4-d078-4ab2-8990-8adbddeecf3b\",\"type\":\"BasicTicker\"},{\"attributes\":{},\"id\":\"dbdd4e8f-bf42-4845-bb21-6b3606492a5a\",\"type\":\"UnionRenderers\"},{\"attributes\":{},\"id\":\"5d496b40-e9af-42a5-8914-10e2cce619d5\",\"type\":\"LinearScale\"},{\"attributes\":{\"dimension\":1,\"plot\":{\"id\":\"03b7439a-d4c1-4c0e-ad33-29396f8e88db\",\"subtype\":\"Figure\",\"type\":\"Plot\"},\"ticker\":{\"id\":\"08ef45e4-d078-4ab2-8990-8adbddeecf3b\",\"type\":\"BasicTicker\"}},\"id\":\"6e1c8d14-9089-499c-9b70-40601be1ad1a\",\"type\":\"Grid\"},{\"attributes\":{\"formatter\":{\"id\":\"3a494485-1071-429c-b844-a59fbf5bdf5e\",\"type\":\"LogTickFormatter\"},\"plot\":{\"id\":\"03b7439a-d4c1-4c0e-ad33-29396f8e88db\",\"subtype\":\"Figure\",\"type\":\"Plot\"},\"ticker\":{\"id\":\"05f167a2-c304-4ef6-87ab-809335bd29f6\",\"type\":\"LogTicker\"}},\"id\":\"479feba9-f45c-4096-90e2-92190674be60\",\"type\":\"LogAxis\"},{\"attributes\":{\"plot\":{\"id\":\"03b7439a-d4c1-4c0e-ad33-29396f8e88db\",\"subtype\":\"Figure\",\"type\":\"Plot\"},\"ticker\":{\"id\":\"05f167a2-c304-4ef6-87ab-809335bd29f6\",\"type\":\"LogTicker\"}},\"id\":\"5783d475-9df7-4d98-aea3-4510a0c824a8\",\"type\":\"Grid\"},{\"attributes\":{\"callback\":null,\"end\":100000,\"start\":100},\"id\":\"dbaa52f8-c927-46be-878a-0dd68b162524\",\"type\":\"Range1d\"},{\"attributes\":{\"ticker\":null},\"id\":\"3a494485-1071-429c-b844-a59fbf5bdf5e\",\"type\":\"LogTickFormatter\"},{\"attributes\":{\"source\":{\"id\":\"a7fe58fd-4d17-4fac-b61e-a7889e7617fe\",\"type\":\"ColumnDataSource\"}},\"id\":\"54e89fc2-930f-412b-830a-56c0925bb0a5\",\"type\":\"CDSView\"},{\"attributes\":{\"data_source\":{\"id\":\"a7fe58fd-4d17-4fac-b61e-a7889e7617fe\",\"type\":\"ColumnDataSource\"},\"glyph\":{\"id\":\"1cb3b3f7-f909-4108-acb6-412b956bb4a2\",\"type\":\"Circle\"},\"hover_glyph\":null,\"muted_glyph\":null,\"nonselection_glyph\":{\"id\":\"eb7ca177-d51b-43a1-884b-4aecfa5149ad\",\"type\":\"Circle\"},\"selection_glyph\":null,\"view\":{\"id\":\"54e89fc2-930f-412b-830a-56c0925bb0a5\",\"type\":\"CDSView\"}},\"id\":\"eb101849-6b84-485a-b266-803a1f2e475d\",\"type\":\"GlyphRenderer\"},{\"attributes\":{\"fill_color\":{\"value\":\"brown\"},\"line_color\":{\"value\":\"brown\"},\"x\":{\"field\":\"x\"},\"y\":{\"field\":\"y\"}},\"id\":\"1cb3b3f7-f909-4108-acb6-412b956bb4a2\",\"type\":\"Circle\"},{\"attributes\":{\"plot\":null,\"text\":\"\"},\"id\":\"36d90cd6-d838-42fd-8ad5-b0091dbdc2b0\",\"type\":\"Title\"},{\"attributes\":{\"fill_alpha\":{\"value\":0.1},\"fill_color\":{\"value\":\"#1f77b4\"},\"line_alpha\":{\"value\":0.1},\"line_color\":{\"value\":\"#1f77b4\"},\"x\":{\"field\":\"x\"},\"y\":{\"field\":\"y\"}},\"id\":\"eb7ca177-d51b-43a1-884b-4aecfa5149ad\",\"type\":\"Circle\"},{\"attributes\":{},\"id\":\"ac043748-4f1b-49da-834d-bd56ddfe678e\",\"type\":\"BasicTickFormatter\"},{\"attributes\":{\"callback\":null,\"renderers\":\"auto\",\"show_arrow\":false,\"tooltips\":\"@country\"},\"id\":\"c0de0b70-3370-42f7-b24d-754201f28d1f\",\"type\":\"HoverTool\"},{\"attributes\":{\"formatter\":{\"id\":\"ac043748-4f1b-49da-834d-bd56ddfe678e\",\"type\":\"BasicTickFormatter\"},\"plot\":{\"id\":\"03b7439a-d4c1-4c0e-ad33-29396f8e88db\",\"subtype\":\"Figure\",\"type\":\"Plot\"},\"ticker\":{\"id\":\"08ef45e4-d078-4ab2-8990-8adbddeecf3b\",\"type\":\"BasicTicker\"}},\"id\":\"482d4558-5c8f-4f6f-b800-8bbc54050f1d\",\"type\":\"LinearAxis\"},{\"attributes\":{\"active_drag\":\"auto\",\"active_inspect\":\"auto\",\"active_multi\":null,\"active_scroll\":\"auto\",\"active_tap\":\"auto\",\"tools\":[{\"id\":\"c0de0b70-3370-42f7-b24d-754201f28d1f\",\"type\":\"HoverTool\"}]},\"id\":\"7d4aa5b1-7a65-4bfd-9a42-86595cff5169\",\"type\":\"Toolbar\"},{\"attributes\":{\"num_minor_ticks\":10},\"id\":\"05f167a2-c304-4ef6-87ab-809335bd29f6\",\"type\":\"LogTicker\"},{\"attributes\":{\"callback\":null,\"end\":100},\"id\":\"3ca5fb89-3b4a-4485-b0d5-fdb455541885\",\"type\":\"Range1d\"},{\"attributes\":{\"callback\":null,\"data\":{\"country\":[\"Afghanistan\",\"Albania\",\"Algeria\",\"Andorra\",\"Angola\",\"Antigua and Barbuda\",\"Argentina\",\"Armenia\",\"Australia\",\"Austria\",\"Azerbaijan\",\"Bahamas\",\"Bahrain\",\"Bangladesh\",\"Barbados\",\"Belarus\",\"Belgium\",\"Belize\",\"Benin\",\"Bhutan\",\"Bolivia\",\"Bosnia and Herzegovina\",\"Botswana\",\"Brazil\",\"Brunei\",\"Bulgaria\",\"Burkina Faso\",\"Burundi\",\"Cambodia\",\"Cameroon\",\"Canada\",\"Cape Verde\",\"Chad\",\"Chile\",\"China\",\"Colombia\",\"Comoros\",\"Congo, Dem. Rep.\",\"Congo, Rep.\",\"Costa Rica\",\"Cote d'Ivoire\",\"Croatia\",\"Cuba\",\"Cyprus\",\"Denmark\",\"Djibouti\",\"Dominica\",\"Ecuador\",\"Egypt\",\"El Salvador\",\"Equatorial Guinea\",\"Eritrea\",\"Estonia\",\"Ethiopia\",\"Fiji\",\"Finland\",\"France\",\"Gabon\",\"Gambia\",\"Georgia\",\"Germany\",\"Ghana\",\"Greece\",\"Grenada\",\"Guatemala\",\"Guinea\",\"Guinea-Bissau\",\"Guyana\",\"Haiti\",\"Honduras\",\"Hungary\",\"Iceland\",\"India\",\"Indonesia\",\"Iran\",\"Iraq\",\"Ireland\",\"Israel\",\"Italy\",\"Jamaica\",\"Japan\",\"Jordan\",\"Kazakhstan\",\"Kenya\",\"Kiribati\",\"Kuwait\",\"Latvia\",\"Lebanon\",\"Lesotho\",\"Liberia\",\"Libya\",\"Lithuania\",\"Luxembourg\",\"Macedonia, FYR\",\"Madagascar\",\"Malawi\",\"Malaysia\",\"Maldives\",\"Mali\",\"Malta\",\"Marshall Islands\",\"Mauritania\",\"Mauritius\",\"Mexico\",\"Micronesia, Fed. Sts.\",\"Moldova\",\"Mongolia\",\"Montenegro\",\"Morocco\",\"Mozambique\",\"Myanmar\",\"Namibia\",\"Nepal\",\"Netherlands\",\"New Zealand\",\"Nicaragua\",\"Niger\",\"Nigeria\",\"Norway\",\"Oman\",\"Pakistan\",\"Panama\",\"Papua New Guinea\",\"Paraguay\",\"Peru\",\"Philippines\",\"Poland\",\"Portugal\",\"Qatar\",\"Romania\",\"Russia\",\"Rwanda\",\"Samoa\",\"Sao Tome and Principe\",\"Saudi Arabia\",\"Senegal\",\"Serbia\",\"Seychelles\",\"Sierra Leone\",\"Singapore\",\"Slovak Republic\",\"Slovenia\",\"Solomon Islands\",\"Somalia\",\"South Africa\",\"South Sudan\",\"Spain\",\"Sri Lanka\",\"Sudan\",\"Suriname\",\"Swaziland\",\"Sweden\",\"Switzerland\",\"Syria\",\"Taiwan\",\"Tajikistan\",\"Tanzania\",\"Thailand\",\"Timor-Leste\",\"Togo\",\"Tonga\",\"Trinidad and Tobago\",\"Tunisia\",\"Turkey\",\"Turkmenistan\",\"Uganda\",\"Ukraine\",\"United Arab Emirates\",\"United Kingdom\",\"United States\",\"Uruguay\",\"Uzbekistan\",\"Vanuatu\",\"Venezuela\",\"Vietnam\",\"West Bank and Gaza\",\"Zambia\",\"Zimbabwe\"],\"x\":{\"__ndarray__\":\"AAAAAACUmUAAAAAAAE/CQAAAAAAAZ8hAAAAAAMAI40AAAAAAAIe7QAAAAADAFdRAAAAAAIDKzkAAAAAAAGy5QAAAAABALuRAAAAAAKDt5EAAAAAAACfPQAAAAADAYNZAAAAAACDN40AAAAAAADajQAAAAACA4M1AAAAAAICrzkAAAAAAgOfjQAAAAACACMBAAAAAAACUmUAAAAAAAHS5QAAAAAAAn7RAAAAAAIDcwUAAAAAAAKXKQAAAAAAAosxAAAAAAMA+8UAAAAAAABPNQAAAAAAAXJZAAAAAAACohkAAAAAAAKKjQAAAAAAAFqRAAAAAAKDo40AAAAAAAHW3QAAAAAAAhJ5AAAAAAADB0kAAAAAAAGvCQAAAAACADMVAAAAAAABIlkAAAAAAAMCDQAAAAAAAnbVAAAAAAAARyEAAAAAAAJimQAAAAABAhdNAAAAAAEAL0kAAAAAAYHrgQAAAAACg/uRAAAAAAADSpEAAAAAAgEPEQAAAAACAL8JAAAAAAIC7xEAAAAAAAEW8QAAAAADgz+BAAAAAAADskEAAAAAAgDPVQAAAAAAA5JBAAAAAAAC6u0AAAAAAIEDjQAAAAAAg8eFAAAAAAAA3z0AAAAAAAAyaQAAAAAAAMrdAAAAAAADX40AAAAAAACaoQAAAAACAgdxAAAAAAADVxUAAAAAAAMG6QAAAAAAAhJJAAAAAAABglUAAAAAAAKa1QAAAAAAAuJdAAAAAAACusEAAAAAAgIvVQAAAAAAg8+JAAAAAAADDsUAAAAAAAJnAQAAAAAAAldBAAAAAAAAVyEAAAAAAgGrlQAAAAABA0dxAAAAAACB14UAAAAAAAFnAQAAAAACAzOBAAAAAAAD8xUAAAAAAQCTTQAAAAAAAjqNAAAAAAAAEm0AAAAAAUGbyQAAAAAAAudFAAAAAAIDDz0AAAAAAAHahQAAAAAAAiIVAAAAAAECN3UAAAAAAgEXUQAAAAACwQPZAAAAAAIDVxUAAAAAAALiVQAAAAAAACIdAAAAAAIDr00AAAAAAAM3GQAAAAAAAAJpAAAAAAIBA20AAAAAAAHSrQAAAAAAAxqlAAAAAAIB3zkAAAAAAADLOQAAAAAAAEqpAAAAAAACqrkAAAAAAABy+QAAAAAAArMpAAAAAAABCuUAAAAAAABCNQAAAAAAACqhAAAAAAIB4wEAAAAAAADyfQAAAAABgYuZAAAAAAAAU30AAAAAAAPyuQAAAAAAASIpAAAAAAAD6s0AAAAAAQLzuQAAAAACABOhAAAAAAAB8sEAAAAAAgCTNQAAAAAAA5qBAAAAAAABgu0AAAAAAgF3DQAAAAAAA7rVAAAAAAADU1EAAAAAAQMDaQAAAAAAAP/9AAAAAAAB+0EAAAAAAACjVQAAAAAAAuJNAAAAAAAAdtUAAAAAAAG6lQAAAAADAQ+ZAAAAAAAAMoUAAAAAAgAbIQAAAAAAA49NAAAAAAAAMlUAAAAAAgJfxQAAAAACA3ddAAAAAAEC220AAAAAAAOybQAAAAAAAMINAAAAAAICbx0AAAAAAAPytQAAAAABAHOBAAAAAAACUvUAAAAAAAKSpQAAAAACA+stAAAAAAADmtkAAAAAAQPLkQAAAAADgdOpAAAAAAADLuUAAAAAAoBXjQAAAAAAAfKBAAAAAAAC+oEAAAAAAAAvJQAAAAAAAxJtAAAAAAAB4k0AAAAAAAFGzQAAAAABAotxAAAAAAIBVxEAAAAAAgEjQQAAAAAAAmMNAAAAAAACsl0AAAAAAAKS+QAAAAACAqOtAAAAAAACy4UAAAAAAoBvoQAAAAADAsdBAAAAAAABZsEAAAAAAAAinQAAAAAAAJtBAAAAAAACGsUAAAAAAAEOwQAAAAAAA9qpAAAAAAAAwl0A=\",\"dtype\":\"float64\",\"shape\":[178]},\"y\":{\"__ndarray__\":\"ZmZmZmZmS0DNzMzMzMxSQJqZmZmZ+VJAzczMzMzsVEAzMzMzM7NNQM3MzMzMzFJAMzMzMzPzUkCamZmZmTlSQM3MzMzMbFRAAAAAAAAgVECamZmZmdlRQJqZmZmZGVJAzczMzMyMU0BmZmZmZiZRQJqZmZmZ2VJAzczMzMyMUUAzMzMzM/NTQGZmZmZmhlFAAAAAAAAAUEAzMzMzMxNRQDMzMzMz01FAAAAAAAAgU0AAAAAAACBQQM3MzMzMjFJAAAAAAACgU0BmZmZmZmZSQJqZmZmZWU5AmpmZmZlZTUCamZmZmblQQAAAAAAAwExAZmZmZmZGVECamZmZmVlSQJqZmZmZGUxAMzMzMzOzU0CamZmZmflSQDMzMzMz01JAAAAAAACAT0BmZmZmZiZMQGZmZmZmJk5AZmZmZmbmU0CamZmZmZlMQM3MzMzMTFNAAAAAAACAU0BmZmZmZmZUQDMzMzMz01NAZmZmZmbmTkCamZmZmZlSQM3MzMzMjFJAMzMzMzOTUUAzMzMzM3NSQJqZmZmZmUxAAAAAAACATkAzMzMzM/NSQAAAAAAAgE5AmpmZmZl5UEAAAAAAAABUQM3MzMzMTFRAAAAAAADATEAAAAAAAIBPQJqZmZmZGVJAzczMzMwMVEAAAAAAAMBPQGZmZmZm5lNAzczMzMzMUUAzMzMzM7NRQM3MzMzMjE1AAAAAAAAASkBmZmZmZqZPQAAAAAAAgEJAMzMzMzPTUUDNzMzMzKxSQAAAAAAAoFRAZmZmZmZGUEAzMzMzM3NRQJqZmZmZeVNAMzMzMzMTUUCamZmZmflTQAAAAAAAYFRAmpmZmZl5VEAAAAAAAOBSQAAAAAAAwFRAZmZmZmZmU0BmZmZmZsZQQM3MzMzMjE9AAAAAAADATkBmZmZmZsZTQAAAAAAAgFJAAAAAAACAU0AzMzMzM7NHQJqZmZmZ2U5AZmZmZmbmUkCamZmZmXlSQAAAAAAAQFRAMzMzMzPzUkBmZmZmZuZPQGZmZmZm5kpAMzMzMzOTUkCamZmZmblTQAAAAAAAQExAMzMzMzNzVEBmZmZmZgZQQM3MzMzMDFBAmpmZmZkZUkDNzMzMzOxSQJqZmZmZmVBAzczMzMyMUUBmZmZmZuZPQM3MzMzMzFJAzczMzMxsUkCamZmZmdlLQAAAAAAAgFBAAAAAAADATUAAAAAAAGBRQAAAAAAAIFRAAAAAAAAgVEAzMzMzM/NSQJqZmZmZWU5AZmZmZmZmTUCamZmZmTlUQAAAAAAAwFJAzczMzMwsUEDNzMzMzExTQJqZmZmZWU1AmpmZmZlZUkAzMzMzMzNTQM3MzMzMbFFAZmZmZmYGU0AAAAAAAOBTQDMzMzMzU1RAAAAAAACAUkDNzMzMzCxRQJqZmZmZ2U9AZmZmZmbmUUBmZmZmZuZQQM3MzMzMbFNAAAAAAABAUEAAAAAAAEBTQDMzMzMzM1JAAAAAAABATEAAAAAAAGBUQAAAAAAA4FJAAAAAAADgU0AAAAAAAIBPQDMzMzMzc0xAmpmZmZlZTEAAAAAAAEBMQGZmZmZmZlRAzczMzMzsUkAAAAAAAABRQAAAAAAAYFFAZmZmZmbmR0AAAAAAAGBUQDMzMzMzk1RAzczMzMwsU0AzMzMzM7NTQJqZmZmZeVFAMzMzMzNzTkBmZmZmZqZSQDMzMzMzc1FAAAAAAACATkBmZmZmZoZRQGZmZmZmxlFAMzMzMzMzU0DNzMzMzOxSQGZmZmZmplBAMzMzMzMzTUCamZmZmZlRQM3MzMzMDFNAAAAAAAAAVEAAAAAAAKBTQAAAAAAAIFNAZmZmZmZGUUAAAAAAAABQQM3MzMzMrFJAMzMzMzPzUkAAAAAAAIBSQM3MzMzMDEtAMzMzMzMzSUA=\",\"dtype\":\"float64\",\"shape\":[178]}},\"selected\":{\"id\":\"021f79dd-fa71-4b09-9d72-52068262f827\",\"type\":\"Selection\"},\"selection_policy\":{\"id\":\"dbdd4e8f-bf42-4845-bb21-6b3606492a5a\",\"type\":\"UnionRenderers\"}},\"id\":\"a7fe58fd-4d17-4fac-b61e-a7889e7617fe\",\"type\":\"ColumnDataSource\"}],\"root_ids\":[\"03b7439a-d4c1-4c0e-ad33-29396f8e88db\"]},\"title\":\"Bokeh Application\",\"version\":\"1.0.0dev8\"}};\n",
       "  var render_items = [{\"docid\":\"7c7b7167-367a-402a-a5a2-2d6de712bd65\",\"roots\":{\"03b7439a-d4c1-4c0e-ad33-29396f8e88db\":\"2db264f5-ca4e-4651-b442-d0766b6be67a\"}}];\n",
       "  root.Bokeh.embed.embed_items_notebook(docs_json, render_items);\n",
       "\n",
       "  }\n",
       "  if (root.Bokeh !== undefined) {\n",
       "    embed_document(root);\n",
       "  } else {\n",
       "    var attempts = 0;\n",
       "    var timer = setInterval(function(root) {\n",
       "      if (root.Bokeh !== undefined) {\n",
       "        embed_document(root);\n",
       "        clearInterval(timer);\n",
       "      }\n",
       "      attempts++;\n",
       "      if (attempts > 100) {\n",
       "        console.log(\"Bokeh: ERROR: Unable to run BokehJS code because BokehJS library is missing\")\n",
       "        clearInterval(timer);\n",
       "      }\n",
       "    }, 10, root)\n",
       "  }\n",
       "})(window);"
      ],
      "application/vnd.bokehjs_exec.v0+json": ""
     },
     "metadata": {
      "application/vnd.bokehjs_exec.v0+json": {
       "id": "03b7439a-d4c1-4c0e-ad33-29396f8e88db"
      }
     },
     "output_type": "display_data"
    }
   ],
   "source": [
    "# aceita dicionário ou dataframe\n",
    "from bokeh.models import ColumnDataSource\n",
    "from bokeh.models import HoverTool\n",
    "\n",
    "source = ColumnDataSource(dict(x=data.loc[2010].income,\n",
    "                               y=data.loc[2010].life,\n",
    "                               country=data.loc[2010].Country))\n",
    "\n",
    "hover = HoverTool(tooltips='@country', show_arrow=False)\n",
    "                                          \n",
    "PLOT_OPTS = dict(height=200, x_axis_type='log', x_range=(100, 100000), y_range=(0,100))\n",
    "p=figure(tools=[hover], **PLOT_OPTS)\n",
    "\n",
    "p.circle(x='x', y='y', source=source, color='brown')\n",
    "\n",
    "show(p)"
   ]
  },
  {
   "cell_type": "code",
   "execution_count": 34,
   "metadata": {},
   "outputs": [
    {
     "data": {
      "text/plain": [
       "['x', 'y', 'country']"
      ]
     },
     "execution_count": 34,
     "metadata": {},
     "output_type": "execute_result"
    }
   ],
   "source": [
    "source.column_names"
   ]
  },
  {
   "cell_type": "code",
   "execution_count": 35,
   "metadata": {},
   "outputs": [
    {
     "data": {
      "text/plain": [
       "{'x': Year\n",
       " 2010     1637.0\n",
       " 2010     9374.0\n",
       " 2010    12494.0\n",
       " 2010    38982.0\n",
       " 2010     7047.0\n",
       " 2010    20567.0\n",
       " 2010    15765.0\n",
       " 2010     6508.0\n",
       " 2010    41330.0\n",
       " 2010    42861.0\n",
       " 2010    15950.0\n",
       " 2010    22915.0\n",
       " 2010    40553.0\n",
       " 2010     2459.0\n",
       " 2010    15297.0\n",
       " 2010    15703.0\n",
       " 2010    40764.0\n",
       " 2010     8209.0\n",
       " 2010     1637.0\n",
       " 2010     6516.0\n",
       " 2010     5279.0\n",
       " 2010     9145.0\n",
       " 2010    13642.0\n",
       " 2010    14660.0\n",
       " 2010    70636.0\n",
       " 2010    14886.0\n",
       " 2010     1431.0\n",
       " 2010      725.0\n",
       " 2010     2513.0\n",
       " 2010     2571.0\n",
       "          ...   \n",
       " 2010     3282.0\n",
       " 2010    14325.0\n",
       " 2010     5862.0\n",
       " 2010    42898.0\n",
       " 2010    54183.0\n",
       " 2010     6603.0\n",
       " 2010    39085.0\n",
       " 2010     2110.0\n",
       " 2010     2143.0\n",
       " 2010    12822.0\n",
       " 2010     1777.0\n",
       " 2010     1246.0\n",
       " 2010     4945.0\n",
       " 2010    29321.0\n",
       " 2010    10411.0\n",
       " 2010    16674.0\n",
       " 2010    10032.0\n",
       " 2010     1515.0\n",
       " 2010     7844.0\n",
       " 2010    56644.0\n",
       " 2010    36240.0\n",
       " 2010    49373.0\n",
       " 2010    17095.0\n",
       " 2010     4185.0\n",
       " 2010     2948.0\n",
       " 2010    16536.0\n",
       " 2010     4486.0\n",
       " 2010     4163.0\n",
       " 2010     3451.0\n",
       " 2010     1484.0\n",
       " Name: income, Length: 178, dtype: float64, 'y': Year\n",
       " 2010    54.8\n",
       " 2010    75.2\n",
       " 2010    75.9\n",
       " 2010    83.7\n",
       " 2010    59.4\n",
       " 2010    75.2\n",
       " 2010    75.8\n",
       " 2010    72.9\n",
       " 2010    81.7\n",
       " 2010    80.5\n",
       " 2010    71.4\n",
       " 2010    72.4\n",
       " 2010    78.2\n",
       " 2010    68.6\n",
       " 2010    75.4\n",
       " 2010    70.2\n",
       " 2010    79.8\n",
       " 2010    70.1\n",
       " 2010    64.0\n",
       " 2010    68.3\n",
       " 2010    71.3\n",
       " 2010    76.5\n",
       " 2010    64.5\n",
       " 2010    74.2\n",
       " 2010    78.5\n",
       " 2010    73.6\n",
       " 2010    60.7\n",
       " 2010    58.7\n",
       " 2010    66.9\n",
       " 2010    57.5\n",
       "         ... \n",
       " 2010    68.0\n",
       " 2010    69.5\n",
       " 2010    47.8\n",
       " 2010    81.5\n",
       " 2010    82.3\n",
       " 2010    76.7\n",
       " 2010    78.8\n",
       " 2010    69.9\n",
       " 2010    60.9\n",
       " 2010    74.6\n",
       " 2010    69.8\n",
       " 2010    61.0\n",
       " 2010    70.1\n",
       " 2010    71.1\n",
       " 2010    76.8\n",
       " 2010    75.7\n",
       " 2010    66.6\n",
       " 2010    58.4\n",
       " 2010    70.4\n",
       " 2010    76.2\n",
       " 2010    80.0\n",
       " 2010    78.5\n",
       " 2010    76.5\n",
       " 2010    69.1\n",
       " 2010    64.0\n",
       " 2010    74.7\n",
       " 2010    75.8\n",
       " 2010    74.0\n",
       " 2010    54.1\n",
       " 2010    50.4\n",
       " Name: life, Length: 178, dtype: float64, 'country': Year\n",
       " 2010               Afghanistan\n",
       " 2010                   Albania\n",
       " 2010                   Algeria\n",
       " 2010                   Andorra\n",
       " 2010                    Angola\n",
       " 2010       Antigua and Barbuda\n",
       " 2010                 Argentina\n",
       " 2010                   Armenia\n",
       " 2010                 Australia\n",
       " 2010                   Austria\n",
       " 2010                Azerbaijan\n",
       " 2010                   Bahamas\n",
       " 2010                   Bahrain\n",
       " 2010                Bangladesh\n",
       " 2010                  Barbados\n",
       " 2010                   Belarus\n",
       " 2010                   Belgium\n",
       " 2010                    Belize\n",
       " 2010                     Benin\n",
       " 2010                    Bhutan\n",
       " 2010                   Bolivia\n",
       " 2010    Bosnia and Herzegovina\n",
       " 2010                  Botswana\n",
       " 2010                    Brazil\n",
       " 2010                    Brunei\n",
       " 2010                  Bulgaria\n",
       " 2010              Burkina Faso\n",
       " 2010                   Burundi\n",
       " 2010                  Cambodia\n",
       " 2010                  Cameroon\n",
       "                  ...          \n",
       " 2010                     Sudan\n",
       " 2010                  Suriname\n",
       " 2010                 Swaziland\n",
       " 2010                    Sweden\n",
       " 2010               Switzerland\n",
       " 2010                     Syria\n",
       " 2010                    Taiwan\n",
       " 2010                Tajikistan\n",
       " 2010                  Tanzania\n",
       " 2010                  Thailand\n",
       " 2010               Timor-Leste\n",
       " 2010                      Togo\n",
       " 2010                     Tonga\n",
       " 2010       Trinidad and Tobago\n",
       " 2010                   Tunisia\n",
       " 2010                    Turkey\n",
       " 2010              Turkmenistan\n",
       " 2010                    Uganda\n",
       " 2010                   Ukraine\n",
       " 2010      United Arab Emirates\n",
       " 2010            United Kingdom\n",
       " 2010             United States\n",
       " 2010                   Uruguay\n",
       " 2010                Uzbekistan\n",
       " 2010                   Vanuatu\n",
       " 2010                 Venezuela\n",
       " 2010                   Vietnam\n",
       " 2010        West Bank and Gaza\n",
       " 2010                    Zambia\n",
       " 2010                  Zimbabwe\n",
       " Name: Country, Length: 178, dtype: object}"
      ]
     },
     "execution_count": 35,
     "metadata": {},
     "output_type": "execute_result"
    }
   ],
   "source": [
    "source.data"
   ]
  },
  {
   "cell_type": "code",
   "execution_count": null,
   "metadata": {},
   "outputs": [],
   "source": [
    "source.data['country']"
   ]
  },
  {
   "cell_type": "markdown",
   "metadata": {},
   "source": [
    "Criando bolas de tamanhos variados:"
   ]
  },
  {
   "cell_type": "code",
   "execution_count": 37,
   "metadata": {},
   "outputs": [
    {
     "data": {
      "text/plain": [
       "['x', 'y', 'country', 'population', 'region']"
      ]
     },
     "execution_count": 37,
     "metadata": {},
     "output_type": "execute_result"
    }
   ],
   "source": [
    "from bokeh.models import ColumnDataSource\n",
    "source = ColumnDataSource(dict(\n",
    "    x=data.loc[2010].income,\n",
    "    y=data.loc[2010].life,\n",
    "    country=data.loc[2010].Country,\n",
    "    population=data.loc[2010].population,\n",
    "    region=data.loc[2010].region\n",
    "))\n",
    "source.column_names"
   ]
  },
  {
   "cell_type": "markdown",
   "metadata": {},
   "source": [
    "Maneira mais curta de filtrar:\n",
    "\n",
    "    source = ColumnDataSource(data.loc[2010])\n",
    "    source.column_names"
   ]
  },
  {
   "cell_type": "code",
   "execution_count": null,
   "metadata": {},
   "outputs": [],
   "source": [
    "source.data['population'].astype(int)"
   ]
  },
  {
   "cell_type": "code",
   "execution_count": 39,
   "metadata": {},
   "outputs": [
    {
     "data": {
      "text/html": [
       "\n",
       "\n",
       "\n",
       "\n",
       "\n",
       "\n",
       "  <div class=\"bk-root\" id=\"1552e34a-e7e0-4ae4-a8f9-267b1ebac974\"></div>\n"
      ]
     },
     "metadata": {},
     "output_type": "display_data"
    },
    {
     "data": {
      "application/javascript": [
       "(function(root) {\n",
       "  function embed_document(root) {\n",
       "    \n",
       "  var docs_json = {\"3bcbe339-dd24-4fe6-9820-2278e9250b07\":{\"roots\":{\"references\":[{\"attributes\":{\"below\":[{\"id\":\"35acf285-b6ba-4512-84f5-1440e9197ec5\",\"type\":\"LogAxis\"}],\"left\":[{\"id\":\"38249c77-816c-45c2-bfae-d798d55df6c4\",\"type\":\"LinearAxis\"}],\"plot_height\":200,\"renderers\":[{\"id\":\"35acf285-b6ba-4512-84f5-1440e9197ec5\",\"type\":\"LogAxis\"},{\"id\":\"b173bdb5-938c-49ad-a99e-16d08e0b2e93\",\"type\":\"Grid\"},{\"id\":\"38249c77-816c-45c2-bfae-d798d55df6c4\",\"type\":\"LinearAxis\"},{\"id\":\"61d5df0a-9df0-491d-9320-ccfeacf1c4dd\",\"type\":\"Grid\"},{\"id\":\"5e6a5957-f425-469b-993c-0f31838c1edb\",\"type\":\"GlyphRenderer\"}],\"title\":{\"id\":\"454bc68d-0c06-47e8-95eb-182d8bc988f1\",\"type\":\"Title\"},\"toolbar\":{\"id\":\"8ff4734b-9ed8-4d54-aa6d-8474bd20b3b2\",\"type\":\"Toolbar\"},\"toolbar_location\":\"above\",\"x_range\":{\"id\":\"15f94c59-7fdd-46f4-a75b-10a007fbc07b\",\"type\":\"Range1d\"},\"x_scale\":{\"id\":\"b090f340-bb52-4292-a3c1-4c4fcd974ef1\",\"type\":\"LogScale\"},\"y_range\":{\"id\":\"41792812-6027-4f82-be4d-9f1ad4566cd1\",\"type\":\"Range1d\"},\"y_scale\":{\"id\":\"bd8c42e2-135b-47cd-9c3c-5053b9473a92\",\"type\":\"LinearScale\"}},\"id\":\"d7c02f70-f5c3-439d-a098-cb96b235f9f7\",\"subtype\":\"Figure\",\"type\":\"Plot\"},{\"attributes\":{\"formatter\":{\"id\":\"7ec401cd-a6de-4070-b043-9c15d4f512df\",\"type\":\"LogTickFormatter\"},\"plot\":{\"id\":\"d7c02f70-f5c3-439d-a098-cb96b235f9f7\",\"subtype\":\"Figure\",\"type\":\"Plot\"},\"ticker\":{\"id\":\"296235e6-34ad-43ff-b6c5-f8f7dee5e8e2\",\"type\":\"LogTicker\"}},\"id\":\"35acf285-b6ba-4512-84f5-1440e9197ec5\",\"type\":\"LogAxis\"},{\"attributes\":{\"plot\":{\"id\":\"d7c02f70-f5c3-439d-a098-cb96b235f9f7\",\"subtype\":\"Figure\",\"type\":\"Plot\"},\"ticker\":{\"id\":\"296235e6-34ad-43ff-b6c5-f8f7dee5e8e2\",\"type\":\"LogTicker\"}},\"id\":\"b173bdb5-938c-49ad-a99e-16d08e0b2e93\",\"type\":\"Grid\"},{\"attributes\":{},\"id\":\"39958866-0bf7-44b8-946f-ed80bd383337\",\"type\":\"BasicTickFormatter\"},{\"attributes\":{},\"id\":\"c5c271e1-d219-46e2-a23b-6a939472130d\",\"type\":\"BasicTicker\"},{\"attributes\":{\"fill_alpha\":{\"value\":0.6},\"fill_color\":{\"value\":\"#1f77b4\"},\"line_alpha\":{\"value\":0.6},\"line_color\":{\"value\":\"#1f77b4\"},\"size\":{\"field\":\"population\",\"transform\":{\"id\":\"64b0cad0-74c0-4d2f-a64d-b7cdbd7ed8ee\",\"type\":\"LinearInterpolator\"},\"units\":\"screen\"},\"x\":{\"field\":\"x\"},\"y\":{\"field\":\"y\"}},\"id\":\"cdfa4e4d-1e59-42ad-a180-3ce7f9486b3b\",\"type\":\"Circle\"},{\"attributes\":{\"source\":{\"id\":\"df9822f2-eda2-4c3a-928f-b0b8a71893d3\",\"type\":\"ColumnDataSource\"}},\"id\":\"910fe925-2e00-4de5-a918-f6e66da492ca\",\"type\":\"CDSView\"},{\"attributes\":{\"callback\":null,\"renderers\":\"auto\",\"show_arrow\":false,\"tooltips\":\"@country\"},\"id\":\"1f39bc61-45b7-43ad-9431-2457f7853e33\",\"type\":\"HoverTool\"},{\"attributes\":{\"data\":null,\"x\":[1548,1376048943],\"y\":[5,50]},\"id\":\"64b0cad0-74c0-4d2f-a64d-b7cdbd7ed8ee\",\"type\":\"LinearInterpolator\"},{\"attributes\":{\"fill_alpha\":{\"value\":0.1},\"fill_color\":{\"value\":\"#1f77b4\"},\"line_alpha\":{\"value\":0.1},\"line_color\":{\"value\":\"#1f77b4\"},\"size\":{\"field\":\"population\",\"transform\":{\"id\":\"64b0cad0-74c0-4d2f-a64d-b7cdbd7ed8ee\",\"type\":\"LinearInterpolator\"},\"units\":\"screen\"},\"x\":{\"field\":\"x\"},\"y\":{\"field\":\"y\"}},\"id\":\"c99576c7-e1a1-4582-b3e1-22532b4cf184\",\"type\":\"Circle\"},{\"attributes\":{\"formatter\":{\"id\":\"39958866-0bf7-44b8-946f-ed80bd383337\",\"type\":\"BasicTickFormatter\"},\"plot\":{\"id\":\"d7c02f70-f5c3-439d-a098-cb96b235f9f7\",\"subtype\":\"Figure\",\"type\":\"Plot\"},\"ticker\":{\"id\":\"c5c271e1-d219-46e2-a23b-6a939472130d\",\"type\":\"BasicTicker\"}},\"id\":\"38249c77-816c-45c2-bfae-d798d55df6c4\",\"type\":\"LinearAxis\"},{\"attributes\":{},\"id\":\"bd8c42e2-135b-47cd-9c3c-5053b9473a92\",\"type\":\"LinearScale\"},{\"attributes\":{\"callback\":null,\"end\":100},\"id\":\"41792812-6027-4f82-be4d-9f1ad4566cd1\",\"type\":\"Range1d\"},{\"attributes\":{},\"id\":\"b28bf225-9fc5-4f77-be87-d053607b37b0\",\"type\":\"Selection\"},{\"attributes\":{},\"id\":\"f7d45cd1-8d7e-4dba-8e62-e178db3f7ff7\",\"type\":\"UnionRenderers\"},{\"attributes\":{\"plot\":null,\"text\":\"2010\"},\"id\":\"454bc68d-0c06-47e8-95eb-182d8bc988f1\",\"type\":\"Title\"},{\"attributes\":{\"ticker\":null},\"id\":\"7ec401cd-a6de-4070-b043-9c15d4f512df\",\"type\":\"LogTickFormatter\"},{\"attributes\":{\"dimension\":1,\"plot\":{\"id\":\"d7c02f70-f5c3-439d-a098-cb96b235f9f7\",\"subtype\":\"Figure\",\"type\":\"Plot\"},\"ticker\":{\"id\":\"c5c271e1-d219-46e2-a23b-6a939472130d\",\"type\":\"BasicTicker\"}},\"id\":\"61d5df0a-9df0-491d-9320-ccfeacf1c4dd\",\"type\":\"Grid\"},{\"attributes\":{\"num_minor_ticks\":10},\"id\":\"296235e6-34ad-43ff-b6c5-f8f7dee5e8e2\",\"type\":\"LogTicker\"},{\"attributes\":{\"callback\":null,\"end\":100000,\"start\":100},\"id\":\"15f94c59-7fdd-46f4-a75b-10a007fbc07b\",\"type\":\"Range1d\"},{\"attributes\":{\"active_drag\":\"auto\",\"active_inspect\":\"auto\",\"active_multi\":null,\"active_scroll\":\"auto\",\"active_tap\":\"auto\",\"tools\":[{\"id\":\"1f39bc61-45b7-43ad-9431-2457f7853e33\",\"type\":\"HoverTool\"}]},\"id\":\"8ff4734b-9ed8-4d54-aa6d-8474bd20b3b2\",\"type\":\"Toolbar\"},{\"attributes\":{\"callback\":null,\"data\":{\"country\":[\"Afghanistan\",\"Albania\",\"Algeria\",\"Andorra\",\"Angola\",\"Antigua and Barbuda\",\"Argentina\",\"Armenia\",\"Australia\",\"Austria\",\"Azerbaijan\",\"Bahamas\",\"Bahrain\",\"Bangladesh\",\"Barbados\",\"Belarus\",\"Belgium\",\"Belize\",\"Benin\",\"Bhutan\",\"Bolivia\",\"Bosnia and Herzegovina\",\"Botswana\",\"Brazil\",\"Brunei\",\"Bulgaria\",\"Burkina Faso\",\"Burundi\",\"Cambodia\",\"Cameroon\",\"Canada\",\"Cape Verde\",\"Chad\",\"Chile\",\"China\",\"Colombia\",\"Comoros\",\"Congo, Dem. Rep.\",\"Congo, Rep.\",\"Costa Rica\",\"Cote d'Ivoire\",\"Croatia\",\"Cuba\",\"Cyprus\",\"Denmark\",\"Djibouti\",\"Dominica\",\"Ecuador\",\"Egypt\",\"El Salvador\",\"Equatorial Guinea\",\"Eritrea\",\"Estonia\",\"Ethiopia\",\"Fiji\",\"Finland\",\"France\",\"Gabon\",\"Gambia\",\"Georgia\",\"Germany\",\"Ghana\",\"Greece\",\"Grenada\",\"Guatemala\",\"Guinea\",\"Guinea-Bissau\",\"Guyana\",\"Haiti\",\"Honduras\",\"Hungary\",\"Iceland\",\"India\",\"Indonesia\",\"Iran\",\"Iraq\",\"Ireland\",\"Israel\",\"Italy\",\"Jamaica\",\"Japan\",\"Jordan\",\"Kazakhstan\",\"Kenya\",\"Kiribati\",\"Kuwait\",\"Latvia\",\"Lebanon\",\"Lesotho\",\"Liberia\",\"Libya\",\"Lithuania\",\"Luxembourg\",\"Macedonia, FYR\",\"Madagascar\",\"Malawi\",\"Malaysia\",\"Maldives\",\"Mali\",\"Malta\",\"Marshall Islands\",\"Mauritania\",\"Mauritius\",\"Mexico\",\"Micronesia, Fed. Sts.\",\"Moldova\",\"Mongolia\",\"Montenegro\",\"Morocco\",\"Mozambique\",\"Myanmar\",\"Namibia\",\"Nepal\",\"Netherlands\",\"New Zealand\",\"Nicaragua\",\"Niger\",\"Nigeria\",\"Norway\",\"Oman\",\"Pakistan\",\"Panama\",\"Papua New Guinea\",\"Paraguay\",\"Peru\",\"Philippines\",\"Poland\",\"Portugal\",\"Qatar\",\"Romania\",\"Russia\",\"Rwanda\",\"Samoa\",\"Sao Tome and Principe\",\"Saudi Arabia\",\"Senegal\",\"Serbia\",\"Seychelles\",\"Sierra Leone\",\"Singapore\",\"Slovak Republic\",\"Slovenia\",\"Solomon Islands\",\"Somalia\",\"South Africa\",\"South Sudan\",\"Spain\",\"Sri Lanka\",\"Sudan\",\"Suriname\",\"Swaziland\",\"Sweden\",\"Switzerland\",\"Syria\",\"Taiwan\",\"Tajikistan\",\"Tanzania\",\"Thailand\",\"Timor-Leste\",\"Togo\",\"Tonga\",\"Trinidad and Tobago\",\"Tunisia\",\"Turkey\",\"Turkmenistan\",\"Uganda\",\"Ukraine\",\"United Arab Emirates\",\"United Kingdom\",\"United States\",\"Uruguay\",\"Uzbekistan\",\"Vanuatu\",\"Venezuela\",\"Vietnam\",\"West Bank and Gaza\",\"Zambia\",\"Zimbabwe\"],\"population\":{\"__ndarray__\":\"AAAA8LWqekEAAACAvSNGQQAAAPjxLoFBAAAAADCc9EAAAAAgpzx0QQAAAAAQTPVAAAAA2Baog0EAAAAAFJxGQQAAAPDaInVBAAAAQKYBYEEAAACgTlthQQAAAAD4BRZBAAAAAAc/M0EAAAAS+hKiQQAAAAA4EBFBAAAAQNMaYkEAAABA59hkQQAAAAAkoRNBAAAAwHQjYkEAAAAA7PolQQAAAKDk6mJBAAAAAL1CTUEAAAAAVz8/QQAAAIA5radBAAAAAFgBGEEAAABAsEFcQQAAAEDY0G1BAAAAoK8LYkEAAABAeGVrQQAAAKAEo3NBAAAA6MpFgEEAAAAALO4dQQAAAIDHsGZBAAAAgBA6cEEAAEDIY/vTQQAAAKg85YVBAAAAAI5SJUEAAADAKHGPQQAAAACPBU9BAAAAQL5WUUEAAACw9zJzQQAAAEBCd1BBAAAAoIyRZUEAAAAARdcwQQAAAMDbLFVBAAAAAKRaKUEAAAAA8F/xQAAAAIBUfGxBAAAAiGKPk0EAAACAyAhXQQAAAAAMPSZBAAAAAMDjUUEAAAAAeVM0QQAAAFhZ4JRBAAAAAGA+KkEAAABA43lUQQAAAICvBY5BAAAAADCHN0EAAAAAStU5QQAAAACFNlBBAAAArGEtk0EAAABg8jB3QQAAAKDEUWVBAAAAAFCO+UAAAACgfBlsQQAAAMAmAWVBAAAAAJTvOEEAAAAApP0mQQAAACCgEmNBAAAAwACgXEEAAAAg9RljQQAAAABoaRNBAAAATtVX0kEAAACMcs2sQQAAAPQQtJFBAAAAwCtwfUEAAACAHZ1RQQAAAAB0TlxBAAAAOO1pjEEAAACAAupEQQAAAOj7Wp5BAAAAACbdWEEAAAAALBxvQQAAAMjjOoNBAAAAAIAP+UAAAACAiFdHQQAAAAAX5j9BAAAAAIGLUEEAAAAA2q0+QQAAAABzMk5BAAAAQNjmV0EAAACASdNHQQAAAADE/x5BAAAAAGt4P0EAAADAXhp0QQAAAADUK2xBAAAAwBzRekEAAAAAfEwUQQAAAMDm7WxBAAAAAIAmGUEAAAAAgJnpQAAAAAB0ZktBAAAAAM8KM0EAAAAY10ecQQAAAAAwTPlAAAAAgIEpT0EAAACAKLJEQQAAAAAA+yJBAAAAsM2efkEAAAAQ2zF3QQAAAKgQq4hBAAAAgHW8QEEAAABggKF5QQAAAGDiuG9BAAAAwKCqUEEAAACAPuNVQQAAAMASE29BAAAAzEEBo0EAAADAnKhSQQAAAICBdUZBAAAAHFRFpEEAAAAATZ9LQQAAAEAHH1pBAAAAQFWwV0EAAADATAN8QQAAANikLpZBAAAA0NJkgkEAAACgYDBkQQAAAACJ8DpBAAAAYMVbc0EAAACm1hChQQAAAKA0omNBAAAAAGi1BkEAAAAAANwEQQAAAHARynpBAAAA4I62aEEAAADAXEdhQQAAAACQufZAAAAAgIcIVkEAAABA7F9TQQAAAAAsoFRBAAAAAIBRP0EAAAAAwg4gQQAAAECSRmJBAAAA0HadiEEAAABgYy5jQQAAAKCoOIZBAAAAAPZDc0EAAAAojjiBQQAAAAD0nx9BAAAAALw0MkEAAAAgM+VhQQAAAIAB311BAAAAoL3Cc0EAAACAVvV1QQAAAAAA7FxBAAAAaFTEhUEAAADAHc2PQQAAAABiITBBAAAAwBBhWEEAAAAAsGD5QAAAAADfQzRBAAAAQOtKZEEAAABAej2RQQAAAMDSO1NBAAAAkB6df0EAAABINMSFQQAAAEA7xl9BAAAAYNjnjUEAAADKVXiyQQAAAACnvklBAAAAQGd0ekEAAAAAWNgMQQAAABAKp3tBAAAAPO4QlUEAAAAA1gpPQQAAAOCfi2pBAAAAIDGnakE=\",\"dtype\":\"float64\",\"shape\":[178]},\"region\":[\"South Asia\",\"Europe & Central Asia\",\"Middle East & North Africa\",\"Europe & Central Asia\",\"Sub-Saharan Africa\",\"America\",\"America\",\"Europe & Central Asia\",\"East Asia & Pacific\",\"Europe & Central Asia\",\"Europe & Central Asia\",\"America\",\"Middle East & North Africa\",\"South Asia\",\"America\",\"Europe & Central Asia\",\"Europe & Central Asia\",\"America\",\"Sub-Saharan Africa\",\"South Asia\",\"America\",\"Europe & Central Asia\",\"Sub-Saharan Africa\",\"America\",\"East Asia & Pacific\",\"Europe & Central Asia\",\"Sub-Saharan Africa\",\"Sub-Saharan Africa\",\"East Asia & Pacific\",\"Sub-Saharan Africa\",\"America\",\"Sub-Saharan Africa\",\"Sub-Saharan Africa\",\"America\",\"East Asia & Pacific\",\"America\",\"Sub-Saharan Africa\",\"Sub-Saharan Africa\",\"Sub-Saharan Africa\",\"America\",\"Sub-Saharan Africa\",\"Europe & Central Asia\",\"America\",\"Europe & Central Asia\",\"Europe & Central Asia\",\"Middle East & North Africa\",\"America\",\"America\",\"Middle East & North Africa\",\"America\",\"Sub-Saharan Africa\",\"Sub-Saharan Africa\",\"Europe & Central Asia\",\"Sub-Saharan Africa\",\"East Asia & Pacific\",\"Europe & Central Asia\",\"Europe & Central Asia\",\"Sub-Saharan Africa\",\"Sub-Saharan Africa\",\"Europe & Central Asia\",\"Europe & Central Asia\",\"Sub-Saharan Africa\",\"Europe & Central Asia\",\"America\",\"America\",\"Sub-Saharan Africa\",\"Sub-Saharan Africa\",\"America\",\"America\",\"America\",\"Europe & Central Asia\",\"Europe & Central Asia\",\"South Asia\",\"East Asia & Pacific\",\"Middle East & North Africa\",\"Middle East & North Africa\",\"Europe & Central Asia\",\"Middle East & North Africa\",\"Europe & Central Asia\",\"America\",\"East Asia & Pacific\",\"Middle East & North Africa\",\"Europe & Central Asia\",\"Sub-Saharan Africa\",\"East Asia & Pacific\",\"Middle East & North Africa\",\"Europe & Central Asia\",\"Middle East & North Africa\",\"Sub-Saharan Africa\",\"Sub-Saharan Africa\",\"Middle East & North Africa\",\"Europe & Central Asia\",\"Europe & Central Asia\",\"Europe & Central Asia\",\"Sub-Saharan Africa\",\"Sub-Saharan Africa\",\"East Asia & Pacific\",\"South Asia\",\"Sub-Saharan Africa\",\"Europe & Central Asia\",\"East Asia & Pacific\",\"Sub-Saharan Africa\",\"Sub-Saharan Africa\",\"America\",\"East Asia & Pacific\",\"Europe & Central Asia\",\"East Asia & Pacific\",\"Europe & Central Asia\",\"Middle East & North Africa\",\"Sub-Saharan Africa\",\"East Asia & Pacific\",\"Sub-Saharan Africa\",\"South Asia\",\"Europe & Central Asia\",\"East Asia & Pacific\",\"America\",\"Sub-Saharan Africa\",\"Sub-Saharan Africa\",\"Europe & Central Asia\",\"Middle East & North Africa\",\"South Asia\",\"America\",\"East Asia & Pacific\",\"America\",\"America\",\"East Asia & Pacific\",\"Europe & Central Asia\",\"Europe & Central Asia\",\"Middle East & North Africa\",\"Europe & Central Asia\",\"Europe & Central Asia\",\"Sub-Saharan Africa\",\"East Asia & Pacific\",\"Sub-Saharan Africa\",\"Middle East & North Africa\",\"Sub-Saharan Africa\",\"Europe & Central Asia\",\"Sub-Saharan Africa\",\"Sub-Saharan Africa\",\"East Asia & Pacific\",\"Europe & Central Asia\",\"Europe & Central Asia\",\"East Asia & Pacific\",\"Sub-Saharan Africa\",\"Sub-Saharan Africa\",\"Sub-Saharan Africa\",\"Europe & Central Asia\",\"South Asia\",\"Sub-Saharan Africa\",\"America\",\"Sub-Saharan Africa\",\"Europe & Central Asia\",\"Europe & Central Asia\",\"Middle East & North Africa\",\"East Asia & Pacific\",\"Europe & Central Asia\",\"Sub-Saharan Africa\",\"East Asia & Pacific\",\"East Asia & Pacific\",\"Sub-Saharan Africa\",\"East Asia & Pacific\",\"America\",\"Middle East & North Africa\",\"Europe & Central Asia\",\"Europe & Central Asia\",\"Sub-Saharan Africa\",\"Europe & Central Asia\",\"Middle East & North Africa\",\"Europe & Central Asia\",\"America\",\"America\",\"Europe & Central Asia\",\"East Asia & Pacific\",\"America\",\"East Asia & Pacific\",\"Middle East & North Africa\",\"Sub-Saharan Africa\",\"Sub-Saharan Africa\"],\"x\":{\"__ndarray__\":\"AAAAAACUmUAAAAAAAE/CQAAAAAAAZ8hAAAAAAMAI40AAAAAAAIe7QAAAAADAFdRAAAAAAIDKzkAAAAAAAGy5QAAAAABALuRAAAAAAKDt5EAAAAAAACfPQAAAAADAYNZAAAAAACDN40AAAAAAADajQAAAAACA4M1AAAAAAICrzkAAAAAAgOfjQAAAAACACMBAAAAAAACUmUAAAAAAAHS5QAAAAAAAn7RAAAAAAIDcwUAAAAAAAKXKQAAAAAAAosxAAAAAAMA+8UAAAAAAABPNQAAAAAAAXJZAAAAAAACohkAAAAAAAKKjQAAAAAAAFqRAAAAAAKDo40AAAAAAAHW3QAAAAAAAhJ5AAAAAAADB0kAAAAAAAGvCQAAAAACADMVAAAAAAABIlkAAAAAAAMCDQAAAAAAAnbVAAAAAAAARyEAAAAAAAJimQAAAAABAhdNAAAAAAEAL0kAAAAAAYHrgQAAAAACg/uRAAAAAAADSpEAAAAAAgEPEQAAAAACAL8JAAAAAAIC7xEAAAAAAAEW8QAAAAADgz+BAAAAAAADskEAAAAAAgDPVQAAAAAAA5JBAAAAAAAC6u0AAAAAAIEDjQAAAAAAg8eFAAAAAAAA3z0AAAAAAAAyaQAAAAAAAMrdAAAAAAADX40AAAAAAACaoQAAAAACAgdxAAAAAAADVxUAAAAAAAMG6QAAAAAAAhJJAAAAAAABglUAAAAAAAKa1QAAAAAAAuJdAAAAAAACusEAAAAAAgIvVQAAAAAAg8+JAAAAAAADDsUAAAAAAAJnAQAAAAAAAldBAAAAAAAAVyEAAAAAAgGrlQAAAAABA0dxAAAAAACB14UAAAAAAAFnAQAAAAACAzOBAAAAAAAD8xUAAAAAAQCTTQAAAAAAAjqNAAAAAAAAEm0AAAAAAUGbyQAAAAAAAudFAAAAAAIDDz0AAAAAAAHahQAAAAAAAiIVAAAAAAECN3UAAAAAAgEXUQAAAAACwQPZAAAAAAIDVxUAAAAAAALiVQAAAAAAACIdAAAAAAIDr00AAAAAAAM3GQAAAAAAAAJpAAAAAAIBA20AAAAAAAHSrQAAAAAAAxqlAAAAAAIB3zkAAAAAAADLOQAAAAAAAEqpAAAAAAACqrkAAAAAAABy+QAAAAAAArMpAAAAAAABCuUAAAAAAABCNQAAAAAAACqhAAAAAAIB4wEAAAAAAADyfQAAAAABgYuZAAAAAAAAU30AAAAAAAPyuQAAAAAAASIpAAAAAAAD6s0AAAAAAQLzuQAAAAACABOhAAAAAAAB8sEAAAAAAgCTNQAAAAAAA5qBAAAAAAABgu0AAAAAAgF3DQAAAAAAA7rVAAAAAAADU1EAAAAAAQMDaQAAAAAAAP/9AAAAAAAB+0EAAAAAAACjVQAAAAAAAuJNAAAAAAAAdtUAAAAAAAG6lQAAAAADAQ+ZAAAAAAAAMoUAAAAAAgAbIQAAAAAAA49NAAAAAAAAMlUAAAAAAgJfxQAAAAACA3ddAAAAAAEC220AAAAAAAOybQAAAAAAAMINAAAAAAICbx0AAAAAAAPytQAAAAABAHOBAAAAAAACUvUAAAAAAAKSpQAAAAACA+stAAAAAAADmtkAAAAAAQPLkQAAAAADgdOpAAAAAAADLuUAAAAAAoBXjQAAAAAAAfKBAAAAAAAC+oEAAAAAAAAvJQAAAAAAAxJtAAAAAAAB4k0AAAAAAAFGzQAAAAABAotxAAAAAAIBVxEAAAAAAgEjQQAAAAAAAmMNAAAAAAACsl0AAAAAAAKS+QAAAAACAqOtAAAAAAACy4UAAAAAAoBvoQAAAAADAsdBAAAAAAABZsEAAAAAAAAinQAAAAAAAJtBAAAAAAACGsUAAAAAAAEOwQAAAAAAA9qpAAAAAAAAwl0A=\",\"dtype\":\"float64\",\"shape\":[178]},\"y\":{\"__ndarray__\":\"ZmZmZmZmS0DNzMzMzMxSQJqZmZmZ+VJAzczMzMzsVEAzMzMzM7NNQM3MzMzMzFJAMzMzMzPzUkCamZmZmTlSQM3MzMzMbFRAAAAAAAAgVECamZmZmdlRQJqZmZmZGVJAzczMzMyMU0BmZmZmZiZRQJqZmZmZ2VJAzczMzMyMUUAzMzMzM/NTQGZmZmZmhlFAAAAAAAAAUEAzMzMzMxNRQDMzMzMz01FAAAAAAAAgU0AAAAAAACBQQM3MzMzMjFJAAAAAAACgU0BmZmZmZmZSQJqZmZmZWU5AmpmZmZlZTUCamZmZmblQQAAAAAAAwExAZmZmZmZGVECamZmZmVlSQJqZmZmZGUxAMzMzMzOzU0CamZmZmflSQDMzMzMz01JAAAAAAACAT0BmZmZmZiZMQGZmZmZmJk5AZmZmZmbmU0CamZmZmZlMQM3MzMzMTFNAAAAAAACAU0BmZmZmZmZUQDMzMzMz01NAZmZmZmbmTkCamZmZmZlSQM3MzMzMjFJAMzMzMzOTUUAzMzMzM3NSQJqZmZmZmUxAAAAAAACATkAzMzMzM/NSQAAAAAAAgE5AmpmZmZl5UEAAAAAAAABUQM3MzMzMTFRAAAAAAADATEAAAAAAAIBPQJqZmZmZGVJAzczMzMwMVEAAAAAAAMBPQGZmZmZm5lNAzczMzMzMUUAzMzMzM7NRQM3MzMzMjE1AAAAAAAAASkBmZmZmZqZPQAAAAAAAgEJAMzMzMzPTUUDNzMzMzKxSQAAAAAAAoFRAZmZmZmZGUEAzMzMzM3NRQJqZmZmZeVNAMzMzMzMTUUCamZmZmflTQAAAAAAAYFRAmpmZmZl5VEAAAAAAAOBSQAAAAAAAwFRAZmZmZmZmU0BmZmZmZsZQQM3MzMzMjE9AAAAAAADATkBmZmZmZsZTQAAAAAAAgFJAAAAAAACAU0AzMzMzM7NHQJqZmZmZ2U5AZmZmZmbmUkCamZmZmXlSQAAAAAAAQFRAMzMzMzPzUkBmZmZmZuZPQGZmZmZm5kpAMzMzMzOTUkCamZmZmblTQAAAAAAAQExAMzMzMzNzVEBmZmZmZgZQQM3MzMzMDFBAmpmZmZkZUkDNzMzMzOxSQJqZmZmZmVBAzczMzMyMUUBmZmZmZuZPQM3MzMzMzFJAzczMzMxsUkCamZmZmdlLQAAAAAAAgFBAAAAAAADATUAAAAAAAGBRQAAAAAAAIFRAAAAAAAAgVEAzMzMzM/NSQJqZmZmZWU5AZmZmZmZmTUCamZmZmTlUQAAAAAAAwFJAzczMzMwsUEDNzMzMzExTQJqZmZmZWU1AmpmZmZlZUkAzMzMzMzNTQM3MzMzMbFFAZmZmZmYGU0AAAAAAAOBTQDMzMzMzU1RAAAAAAACAUkDNzMzMzCxRQJqZmZmZ2U9AZmZmZmbmUUBmZmZmZuZQQM3MzMzMbFNAAAAAAABAUEAAAAAAAEBTQDMzMzMzM1JAAAAAAABATEAAAAAAAGBUQAAAAAAA4FJAAAAAAADgU0AAAAAAAIBPQDMzMzMzc0xAmpmZmZlZTEAAAAAAAEBMQGZmZmZmZlRAzczMzMzsUkAAAAAAAABRQAAAAAAAYFFAZmZmZmbmR0AAAAAAAGBUQDMzMzMzk1RAzczMzMwsU0AzMzMzM7NTQJqZmZmZeVFAMzMzMzNzTkBmZmZmZqZSQDMzMzMzc1FAAAAAAACATkBmZmZmZoZRQGZmZmZmxlFAMzMzMzMzU0DNzMzMzOxSQGZmZmZmplBAMzMzMzMzTUCamZmZmZlRQM3MzMzMDFNAAAAAAAAAVEAAAAAAAKBTQAAAAAAAIFNAZmZmZmZGUUAAAAAAAABQQM3MzMzMrFJAMzMzMzPzUkAAAAAAAIBSQM3MzMzMDEtAMzMzMzMzSUA=\",\"dtype\":\"float64\",\"shape\":[178]}},\"selected\":{\"id\":\"b28bf225-9fc5-4f77-be87-d053607b37b0\",\"type\":\"Selection\"},\"selection_policy\":{\"id\":\"f7d45cd1-8d7e-4dba-8e62-e178db3f7ff7\",\"type\":\"UnionRenderers\"}},\"id\":\"df9822f2-eda2-4c3a-928f-b0b8a71893d3\",\"type\":\"ColumnDataSource\"},{\"attributes\":{\"data_source\":{\"id\":\"df9822f2-eda2-4c3a-928f-b0b8a71893d3\",\"type\":\"ColumnDataSource\"},\"glyph\":{\"id\":\"cdfa4e4d-1e59-42ad-a180-3ce7f9486b3b\",\"type\":\"Circle\"},\"hover_glyph\":null,\"muted_glyph\":null,\"nonselection_glyph\":{\"id\":\"c99576c7-e1a1-4582-b3e1-22532b4cf184\",\"type\":\"Circle\"},\"selection_glyph\":null,\"view\":{\"id\":\"910fe925-2e00-4de5-a918-f6e66da492ca\",\"type\":\"CDSView\"}},\"id\":\"5e6a5957-f425-469b-993c-0f31838c1edb\",\"type\":\"GlyphRenderer\"},{\"attributes\":{},\"id\":\"b090f340-bb52-4292-a3c1-4c4fcd974ef1\",\"type\":\"LogScale\"}],\"root_ids\":[\"d7c02f70-f5c3-439d-a098-cb96b235f9f7\"]},\"title\":\"Bokeh Application\",\"version\":\"1.0.0dev8\"}};\n",
       "  var render_items = [{\"docid\":\"3bcbe339-dd24-4fe6-9820-2278e9250b07\",\"roots\":{\"d7c02f70-f5c3-439d-a098-cb96b235f9f7\":\"1552e34a-e7e0-4ae4-a8f9-267b1ebac974\"}}];\n",
       "  root.Bokeh.embed.embed_items_notebook(docs_json, render_items);\n",
       "\n",
       "  }\n",
       "  if (root.Bokeh !== undefined) {\n",
       "    embed_document(root);\n",
       "  } else {\n",
       "    var attempts = 0;\n",
       "    var timer = setInterval(function(root) {\n",
       "      if (root.Bokeh !== undefined) {\n",
       "        embed_document(root);\n",
       "        clearInterval(timer);\n",
       "      }\n",
       "      attempts++;\n",
       "      if (attempts > 100) {\n",
       "        console.log(\"Bokeh: ERROR: Unable to run BokehJS code because BokehJS library is missing\")\n",
       "        clearInterval(timer);\n",
       "      }\n",
       "    }, 10, root)\n",
       "  }\n",
       "})(window);"
      ],
      "application/vnd.bokehjs_exec.v0+json": ""
     },
     "metadata": {
      "application/vnd.bokehjs_exec.v0+json": {
       "id": "d7c02f70-f5c3-439d-a098-cb96b235f9f7"
      }
     },
     "output_type": "display_data"
    }
   ],
   "source": [
    "from bokeh.models import LinearInterpolator # um mapper (a população da China é de 1 bi!)\n",
    "from bokeh.models import HoverTool\n",
    "\n",
    "size_mapper = LinearInterpolator(\n",
    "        x=[data.population.dropna().min().astype(int), data.population.dropna().max().astype(int)],\n",
    "        y=[5, 50]) # o tamanho que eu quero das bolas, entre 5 e 50\n",
    "\n",
    "PLOT_OPTS = dict(height=200, x_axis_type='log', x_range=(100, 100000), y_range=(0,100))\n",
    "p = figure(\n",
    "        title=str(2010),\n",
    "        toolbar_location='above',\n",
    "        tools=[HoverTool(tooltips='@country', show_arrow=False)], **PLOT_OPTS)\n",
    "\n",
    "p.circle (\n",
    "        x='x', y='y',\n",
    "        size={'field': 'population', 'transform': size_mapper},\n",
    "        alpha=0.6,\n",
    "        source=source)\n",
    "show(p)"
   ]
  },
  {
   "cell_type": "markdown",
   "metadata": {},
   "source": [
    "Evidentemente eu não vou traçar um único **círculo**\n",
    "\n",
    "Então o meu desenhador, para cada atributo, tem três possibilidades:\n",
    "\n",
    "- atributo **fixo**: com a propriedade já definida (ex: size=20), irá iterar no campo do atributo **source** até traçar todos os círculos e esgotar todos os ítens da **lista**\n",
    "\n",
    "- atributo **lista**: ao iterar no campo do atributo **source**, irá para cada círculo, puxar um valor da **lista** atribuída àquela propriedade e irá traçar cada círculo com o parâmetro lá existente (normalmente esta lista é uma das colunas do meu dataframe!)\n",
    "\n",
    "- atributo **dicionário**: parecido com o de cima, com a modificação de que o dado da coluna do meu dataframe que eu quero que aja sobre um dos atributos do círculo possui um formato inadequado. Então eu passo um dicionário contendo a lista **original** e uma lista **transformada** do mesmo tamanho\n",
    "\n",
    "O que foi usado para traçar o tamanho dos círculos do exemplo acima:"
   ]
  },
  {
   "cell_type": "code",
   "execution_count": 40,
   "metadata": {},
   "outputs": [
    {
     "data": {
      "text/plain": [
       "{'field': [10000, 231, 331, 100000], 'transform': [5, 2, 3, 50]}"
      ]
     },
     "execution_count": 40,
     "metadata": {},
     "output_type": "execute_result"
    }
   ],
   "source": [
    "populacao = [10000, 231, 331, 100000]\n",
    "mapatamanho = [5, 2, 3, 50]\n",
    "\n",
    "size={'field': populacao, 'transform': mapatamanho}\n",
    "size"
   ]
  },
  {
   "cell_type": "markdown",
   "metadata": {},
   "source": [
    "Observe que o mapeamento não necessariamente é feito multiplicando valores para ter um melhor ajuste. Eu poderia ter, se quisesse representar isso na feição **color**:\n",
    "\n",
    "    'transform': ['orange', 'blue', 'blue', 'red']\n",
    "    \n",
    "E agora a função **map**. Ela é muito útil no Pandas, mas o que ela representa?\n",
    "\n",
    "Ela veio da **Matemática**, mais especificamente de coisas que lidam com **conjuntos**. Então suponha que eu tenha um mapa em papel, desses que os escoteiros usam para encontrar suas trilhas na mata. E agora eu quero criar um modelo 3D (poderia ser o contrário!), partindo de informações daquele mapa. Eu tenho **curvas de nível**, que me dão indicações da altitude de cada ponto (eu preciso interpolar a distância entre cada curva para achar a altura de cada ponto!). E eu tenho **coordenadas** X e Y. Bom, nada me impede de partir do R2 -> R3 e uma vez no R3, mandar traçar tudo o que eu obtive daquele meu velho mapa em 3D. E quem faz a passagem do R2 para o R3? Uma **função matemática**, uma função específica de **mapeamento**:"
   ]
  },
  {
   "cell_type": "markdown",
   "metadata": {},
   "source": [
    "![Figura: função de mapeamento](mapeamento_funcao.png)"
   ]
  },
  {
   "cell_type": "markdown",
   "metadata": {},
   "source": [
    "E essa função ficou mais ou menos assim:\n",
    "\n",
    "    mapatamanho = FuncaoDeMapeamento(\n",
    "                   x=[MenorParametroOriginal, MaiorParametroOriginal],\n",
    "                   y=[MenorParametroTransformado, MaiorParametroTransformado])\n",
    "                   \n",
    "No caso a **Função de Mapeamento** foi um **Interpolador Linear**. Ele parte do **menor** e do **maior** valor do grupo de dados e traça uma linha virtual entre os dois. Sabendo o quanto um determinado valor intermediário está afastado do **menor** valor, lhe dá o quanto ele deve ser **ajustado** para caber no novo conjunto. E as medidas do **menor** e do **maior** valor do conjunto transformado também são definidas por nós\n",
    "\n",
    "Mas **nem sempre o mundo é linear**! Ora, se eu tenho a intuição da curva que melhor representa minha transformação, eu posso definí-la no Python, ou usar uma biblioteca pronta de **aproximação** ou **interpolação**, conforme o caso. Caso tenha dúvidas sobre essas coisas de **Geometria**, recomendo que faça uma revisão em um livro clássico da área\n",
    "\n",
    "E outras funções? Bom, se eu fosse tornar os parâmetros dessa minha coluna em **cores** por exemplo, bastaria encontrar uma função de mapeamento adequada, que **fatiasse** os dados da minha coluna em 5 ou 10 subgrupos e atribuísse uma palheta de degradês. Parece complicado? Sim, parece. Mas na verdade, é muito **simples** fazer isso. E precisa de muita codificação? Não. Normalmente uma **única linha de código** basta!"
   ]
  },
  {
   "cell_type": "markdown",
   "metadata": {},
   "source": [
    "---\n",
    "\n",
    "Curiosidade sobre **mensagens de erro**. Sempre ao **final** há uma mensagem significativa do que ocorreu e sugestões de como reparar. Uma das coisas que você pode fazer em Python é **induzir** um erro para observar as sugestões dadas pelo interpretador. É uma maneira rápida de consultar um **help**. Assim:\n",
    "\n",
    "    p.circle (\n",
    "        x='x', y='y',\n",
    "        size={'field': 'population', 'transform': size_mapper},\n",
    "        alpha=0.6,\n",
    "        source=source, dddd='')\n",
    "        \n",
    "Me dá um erro **sugestivo**, passando **todos** os atributos do objeto **Círculo**:\n",
    "\n",
    "    AttributeError: unexpected attribute 'dddd' to Circle\n",
    "\n",
    "E agora a parte boa:\n",
    "\n",
    "    possible attributes are\n",
    "\n",
    "    angle, angle_units, fill_alpha, fill_color, js_event_callbacks, js_property_callbacks, line_alpha, line_cap, line_color, line_dash, line_dash_offset, line_join, line_width, name, radius, radius_dimension, radius_units, size, subscribed_events, tags, x or y\n",
    "\n",
    "Pronto! Um **help** instantâneo usando o erro!"
   ]
  },
  {
   "cell_type": "markdown",
   "metadata": {},
   "source": [
    "---\n",
    "\n",
    "Próxima etapa é colorir países por **continente**. Essas feições atribuem novas **dimensões** ao meu gráfico, sem que eu tenha que adicionar mais dimensões de espaço!"
   ]
  },
  {
   "cell_type": "code",
   "execution_count": 50,
   "metadata": {},
   "outputs": [
    {
     "data": {
      "text/html": [
       "\n",
       "\n",
       "\n",
       "\n",
       "\n",
       "\n",
       "  <div class=\"bk-root\" id=\"867433ea-58b6-40e3-b6d1-7ac65b61ca42\"></div>\n"
      ]
     },
     "metadata": {},
     "output_type": "display_data"
    },
    {
     "data": {
      "application/javascript": [
       "(function(root) {\n",
       "  function embed_document(root) {\n",
       "    \n",
       "  var docs_json = {\"ff92d709-ec31-436e-a021-e3cf00e344c2\":{\"roots\":{\"references\":[{\"attributes\":{\"below\":[{\"id\":\"9839e8f8-ca94-4360-a3fc-a0f4cf799e08\",\"type\":\"LogAxis\"}],\"left\":[{\"id\":\"e34e4110-d629-4cf7-80df-fc7e562289ac\",\"type\":\"LinearAxis\"}],\"plot_height\":200,\"renderers\":[{\"id\":\"9839e8f8-ca94-4360-a3fc-a0f4cf799e08\",\"type\":\"LogAxis\"},{\"id\":\"1ab2e7df-4e4f-4197-a5ec-a2976382f737\",\"type\":\"Grid\"},{\"id\":\"e34e4110-d629-4cf7-80df-fc7e562289ac\",\"type\":\"LinearAxis\"},{\"id\":\"2093dd08-0ac1-4b77-9fd3-cf097e6dbe61\",\"type\":\"Grid\"},{\"id\":\"9f89afbc-be36-482d-bd78-668a25889769\",\"type\":\"Legend\"},{\"id\":\"1a77083b-76f7-428b-bbb7-eb0cab87d34b\",\"type\":\"GlyphRenderer\"}],\"right\":[{\"id\":\"9f89afbc-be36-482d-bd78-668a25889769\",\"type\":\"Legend\"}],\"title\":{\"id\":\"e3c9acaf-de13-45bc-8442-08b6c8317810\",\"type\":\"Title\"},\"toolbar\":{\"id\":\"61311207-3ecb-492e-8a6b-67f2d7e9154e\",\"type\":\"Toolbar\"},\"toolbar_location\":\"above\",\"x_range\":{\"id\":\"aabe1173-d853-46ec-9728-b4b0919da388\",\"type\":\"Range1d\"},\"x_scale\":{\"id\":\"e02c2883-f0b7-4b07-9f8a-89ab599f3b41\",\"type\":\"LogScale\"},\"y_range\":{\"id\":\"8b256f46-7ff5-4195-9f4e-be37224130d7\",\"type\":\"Range1d\"},\"y_scale\":{\"id\":\"0dad00db-5abc-40af-ba7e-916f328f618a\",\"type\":\"LinearScale\"}},\"id\":\"14d3f94a-0fa6-4992-814c-25449f544add\",\"subtype\":\"Figure\",\"type\":\"Plot\"},{\"attributes\":{\"source\":{\"id\":\"df9822f2-eda2-4c3a-928f-b0b8a71893d3\",\"type\":\"ColumnDataSource\"}},\"id\":\"f5e29515-d061-4276-a847-2014acba50d5\",\"type\":\"CDSView\"},{\"attributes\":{},\"id\":\"0dad00db-5abc-40af-ba7e-916f328f618a\",\"type\":\"LinearScale\"},{\"attributes\":{\"num_minor_ticks\":10},\"id\":\"5eb0baae-ecb7-4edd-93d1-d4eec98184d4\",\"type\":\"LogTicker\"},{\"attributes\":{\"data\":null,\"x\":[1548,1376048943],\"y\":[5,50]},\"id\":\"4347669a-076c-44ba-8def-e626dc56d2f8\",\"type\":\"LinearInterpolator\"},{\"attributes\":{\"fill_alpha\":{\"value\":0.1},\"fill_color\":{\"value\":\"#1f77b4\"},\"line_alpha\":{\"value\":0.1},\"line_color\":{\"value\":\"#1f77b4\"},\"size\":{\"field\":\"population\",\"transform\":{\"id\":\"4347669a-076c-44ba-8def-e626dc56d2f8\",\"type\":\"LinearInterpolator\"},\"units\":\"screen\"},\"x\":{\"field\":\"x\"},\"y\":{\"field\":\"y\"}},\"id\":\"c9e59ab6-1046-41ab-ba2b-08609e1d71a6\",\"type\":\"Circle\"},{\"attributes\":{\"plot\":{\"id\":\"14d3f94a-0fa6-4992-814c-25449f544add\",\"subtype\":\"Figure\",\"type\":\"Plot\"},\"ticker\":{\"id\":\"5eb0baae-ecb7-4edd-93d1-d4eec98184d4\",\"type\":\"LogTicker\"}},\"id\":\"1ab2e7df-4e4f-4197-a5ec-a2976382f737\",\"type\":\"Grid\"},{\"attributes\":{\"data_source\":{\"id\":\"df9822f2-eda2-4c3a-928f-b0b8a71893d3\",\"type\":\"ColumnDataSource\"},\"glyph\":{\"id\":\"826f89f8-bbb4-4a17-9dc8-9ee557f36fe1\",\"type\":\"Circle\"},\"hover_glyph\":null,\"muted_glyph\":null,\"nonselection_glyph\":{\"id\":\"c9e59ab6-1046-41ab-ba2b-08609e1d71a6\",\"type\":\"Circle\"},\"selection_glyph\":null,\"view\":{\"id\":\"f5e29515-d061-4276-a847-2014acba50d5\",\"type\":\"CDSView\"}},\"id\":\"1a77083b-76f7-428b-bbb7-eb0cab87d34b\",\"type\":\"GlyphRenderer\"},{\"attributes\":{\"border_line_color\":{\"value\":null},\"items\":[{\"id\":\"35f90e94-0e7f-4968-af6b-812d8ca3dc24\",\"type\":\"LegendItem\"}],\"location\":[30,-10],\"plot\":{\"id\":\"14d3f94a-0fa6-4992-814c-25449f544add\",\"subtype\":\"Figure\",\"type\":\"Plot\"}},\"id\":\"9f89afbc-be36-482d-bd78-668a25889769\",\"type\":\"Legend\"},{\"attributes\":{\"dimension\":1,\"plot\":{\"id\":\"14d3f94a-0fa6-4992-814c-25449f544add\",\"subtype\":\"Figure\",\"type\":\"Plot\"},\"ticker\":{\"id\":\"15eaf94a-6ceb-47f6-8661-ec02cea61376\",\"type\":\"BasicTicker\"}},\"id\":\"2093dd08-0ac1-4b77-9fd3-cf097e6dbe61\",\"type\":\"Grid\"},{\"attributes\":{\"ticker\":null},\"id\":\"d9fb4697-a3a8-4f7b-908d-48047d7ce5d9\",\"type\":\"LogTickFormatter\"},{\"attributes\":{},\"id\":\"b28bf225-9fc5-4f77-be87-d053607b37b0\",\"type\":\"Selection\"},{\"attributes\":{},\"id\":\"f7d45cd1-8d7e-4dba-8e62-e178db3f7ff7\",\"type\":\"UnionRenderers\"},{\"attributes\":{\"factors\":[\"South Asia\",\"Europe & Central Asia\",\"Middle East & North Africa\",\"Sub-Saharan Africa\",\"America\",\"East Asia & Pacific\"],\"palette\":[\"#3288bd\",\"#99d594\",\"#e6f598\",\"#fee08b\",\"#fc8d59\",\"#d53e4f\"]},\"id\":\"e5edbc88-7614-4618-93cb-8dde8fcb9337\",\"type\":\"CategoricalColorMapper\"},{\"attributes\":{\"callback\":null,\"end\":100},\"id\":\"8b256f46-7ff5-4195-9f4e-be37224130d7\",\"type\":\"Range1d\"},{\"attributes\":{},\"id\":\"e02c2883-f0b7-4b07-9f8a-89ab599f3b41\",\"type\":\"LogScale\"},{\"attributes\":{\"formatter\":{\"id\":\"72cd3c4c-5cab-4b9b-9d83-904b7c314c91\",\"type\":\"BasicTickFormatter\"},\"plot\":{\"id\":\"14d3f94a-0fa6-4992-814c-25449f544add\",\"subtype\":\"Figure\",\"type\":\"Plot\"},\"ticker\":{\"id\":\"15eaf94a-6ceb-47f6-8661-ec02cea61376\",\"type\":\"BasicTicker\"}},\"id\":\"e34e4110-d629-4cf7-80df-fc7e562289ac\",\"type\":\"LinearAxis\"},{\"attributes\":{\"plot\":null,\"text\":\"2010\"},\"id\":\"e3c9acaf-de13-45bc-8442-08b6c8317810\",\"type\":\"Title\"},{\"attributes\":{\"callback\":null,\"end\":100000,\"start\":100},\"id\":\"aabe1173-d853-46ec-9728-b4b0919da388\",\"type\":\"Range1d\"},{\"attributes\":{},\"id\":\"15eaf94a-6ceb-47f6-8661-ec02cea61376\",\"type\":\"BasicTicker\"},{\"attributes\":{\"callback\":null,\"renderers\":\"auto\",\"show_arrow\":false,\"tooltips\":\"@country\"},\"id\":\"eb33711f-a231-4441-aa0c-e7c35ae2c19e\",\"type\":\"HoverTool\"},{\"attributes\":{},\"id\":\"72cd3c4c-5cab-4b9b-9d83-904b7c314c91\",\"type\":\"BasicTickFormatter\"},{\"attributes\":{\"label\":{\"field\":\"region\"},\"renderers\":[{\"id\":\"1a77083b-76f7-428b-bbb7-eb0cab87d34b\",\"type\":\"GlyphRenderer\"}]},\"id\":\"35f90e94-0e7f-4968-af6b-812d8ca3dc24\",\"type\":\"LegendItem\"},{\"attributes\":{\"fill_alpha\":{\"value\":0.6},\"fill_color\":{\"field\":\"region\",\"transform\":{\"id\":\"e5edbc88-7614-4618-93cb-8dde8fcb9337\",\"type\":\"CategoricalColorMapper\"}},\"line_alpha\":{\"value\":0.6},\"line_color\":{\"field\":\"region\",\"transform\":{\"id\":\"e5edbc88-7614-4618-93cb-8dde8fcb9337\",\"type\":\"CategoricalColorMapper\"}},\"size\":{\"field\":\"population\",\"transform\":{\"id\":\"4347669a-076c-44ba-8def-e626dc56d2f8\",\"type\":\"LinearInterpolator\"},\"units\":\"screen\"},\"x\":{\"field\":\"x\"},\"y\":{\"field\":\"y\"}},\"id\":\"826f89f8-bbb4-4a17-9dc8-9ee557f36fe1\",\"type\":\"Circle\"},{\"attributes\":{\"active_drag\":\"auto\",\"active_inspect\":\"auto\",\"active_multi\":null,\"active_scroll\":\"auto\",\"active_tap\":\"auto\",\"tools\":[{\"id\":\"eb33711f-a231-4441-aa0c-e7c35ae2c19e\",\"type\":\"HoverTool\"}]},\"id\":\"61311207-3ecb-492e-8a6b-67f2d7e9154e\",\"type\":\"Toolbar\"},{\"attributes\":{\"callback\":null,\"data\":{\"country\":[\"Afghanistan\",\"Albania\",\"Algeria\",\"Andorra\",\"Angola\",\"Antigua and Barbuda\",\"Argentina\",\"Armenia\",\"Australia\",\"Austria\",\"Azerbaijan\",\"Bahamas\",\"Bahrain\",\"Bangladesh\",\"Barbados\",\"Belarus\",\"Belgium\",\"Belize\",\"Benin\",\"Bhutan\",\"Bolivia\",\"Bosnia and Herzegovina\",\"Botswana\",\"Brazil\",\"Brunei\",\"Bulgaria\",\"Burkina Faso\",\"Burundi\",\"Cambodia\",\"Cameroon\",\"Canada\",\"Cape Verde\",\"Chad\",\"Chile\",\"China\",\"Colombia\",\"Comoros\",\"Congo, Dem. Rep.\",\"Congo, Rep.\",\"Costa Rica\",\"Cote d'Ivoire\",\"Croatia\",\"Cuba\",\"Cyprus\",\"Denmark\",\"Djibouti\",\"Dominica\",\"Ecuador\",\"Egypt\",\"El Salvador\",\"Equatorial Guinea\",\"Eritrea\",\"Estonia\",\"Ethiopia\",\"Fiji\",\"Finland\",\"France\",\"Gabon\",\"Gambia\",\"Georgia\",\"Germany\",\"Ghana\",\"Greece\",\"Grenada\",\"Guatemala\",\"Guinea\",\"Guinea-Bissau\",\"Guyana\",\"Haiti\",\"Honduras\",\"Hungary\",\"Iceland\",\"India\",\"Indonesia\",\"Iran\",\"Iraq\",\"Ireland\",\"Israel\",\"Italy\",\"Jamaica\",\"Japan\",\"Jordan\",\"Kazakhstan\",\"Kenya\",\"Kiribati\",\"Kuwait\",\"Latvia\",\"Lebanon\",\"Lesotho\",\"Liberia\",\"Libya\",\"Lithuania\",\"Luxembourg\",\"Macedonia, FYR\",\"Madagascar\",\"Malawi\",\"Malaysia\",\"Maldives\",\"Mali\",\"Malta\",\"Marshall Islands\",\"Mauritania\",\"Mauritius\",\"Mexico\",\"Micronesia, Fed. Sts.\",\"Moldova\",\"Mongolia\",\"Montenegro\",\"Morocco\",\"Mozambique\",\"Myanmar\",\"Namibia\",\"Nepal\",\"Netherlands\",\"New Zealand\",\"Nicaragua\",\"Niger\",\"Nigeria\",\"Norway\",\"Oman\",\"Pakistan\",\"Panama\",\"Papua New Guinea\",\"Paraguay\",\"Peru\",\"Philippines\",\"Poland\",\"Portugal\",\"Qatar\",\"Romania\",\"Russia\",\"Rwanda\",\"Samoa\",\"Sao Tome and Principe\",\"Saudi Arabia\",\"Senegal\",\"Serbia\",\"Seychelles\",\"Sierra Leone\",\"Singapore\",\"Slovak Republic\",\"Slovenia\",\"Solomon Islands\",\"Somalia\",\"South Africa\",\"South Sudan\",\"Spain\",\"Sri Lanka\",\"Sudan\",\"Suriname\",\"Swaziland\",\"Sweden\",\"Switzerland\",\"Syria\",\"Taiwan\",\"Tajikistan\",\"Tanzania\",\"Thailand\",\"Timor-Leste\",\"Togo\",\"Tonga\",\"Trinidad and Tobago\",\"Tunisia\",\"Turkey\",\"Turkmenistan\",\"Uganda\",\"Ukraine\",\"United Arab Emirates\",\"United Kingdom\",\"United States\",\"Uruguay\",\"Uzbekistan\",\"Vanuatu\",\"Venezuela\",\"Vietnam\",\"West Bank and Gaza\",\"Zambia\",\"Zimbabwe\"],\"population\":{\"__ndarray__\":\"AAAA8LWqekEAAACAvSNGQQAAAPjxLoFBAAAAADCc9EAAAAAgpzx0QQAAAAAQTPVAAAAA2Baog0EAAAAAFJxGQQAAAPDaInVBAAAAQKYBYEEAAACgTlthQQAAAAD4BRZBAAAAAAc/M0EAAAAS+hKiQQAAAAA4EBFBAAAAQNMaYkEAAABA59hkQQAAAAAkoRNBAAAAwHQjYkEAAAAA7PolQQAAAKDk6mJBAAAAAL1CTUEAAAAAVz8/QQAAAIA5radBAAAAAFgBGEEAAABAsEFcQQAAAEDY0G1BAAAAoK8LYkEAAABAeGVrQQAAAKAEo3NBAAAA6MpFgEEAAAAALO4dQQAAAIDHsGZBAAAAgBA6cEEAAEDIY/vTQQAAAKg85YVBAAAAAI5SJUEAAADAKHGPQQAAAACPBU9BAAAAQL5WUUEAAACw9zJzQQAAAEBCd1BBAAAAoIyRZUEAAAAARdcwQQAAAMDbLFVBAAAAAKRaKUEAAAAA8F/xQAAAAIBUfGxBAAAAiGKPk0EAAACAyAhXQQAAAAAMPSZBAAAAAMDjUUEAAAAAeVM0QQAAAFhZ4JRBAAAAAGA+KkEAAABA43lUQQAAAICvBY5BAAAAADCHN0EAAAAAStU5QQAAAACFNlBBAAAArGEtk0EAAABg8jB3QQAAAKDEUWVBAAAAAFCO+UAAAACgfBlsQQAAAMAmAWVBAAAAAJTvOEEAAAAApP0mQQAAACCgEmNBAAAAwACgXEEAAAAg9RljQQAAAABoaRNBAAAATtVX0kEAAACMcs2sQQAAAPQQtJFBAAAAwCtwfUEAAACAHZ1RQQAAAAB0TlxBAAAAOO1pjEEAAACAAupEQQAAAOj7Wp5BAAAAACbdWEEAAAAALBxvQQAAAMjjOoNBAAAAAIAP+UAAAACAiFdHQQAAAAAX5j9BAAAAAIGLUEEAAAAA2q0+QQAAAABzMk5BAAAAQNjmV0EAAACASdNHQQAAAADE/x5BAAAAAGt4P0EAAADAXhp0QQAAAADUK2xBAAAAwBzRekEAAAAAfEwUQQAAAMDm7WxBAAAAAIAmGUEAAAAAgJnpQAAAAAB0ZktBAAAAAM8KM0EAAAAY10ecQQAAAAAwTPlAAAAAgIEpT0EAAACAKLJEQQAAAAAA+yJBAAAAsM2efkEAAAAQ2zF3QQAAAKgQq4hBAAAAgHW8QEEAAABggKF5QQAAAGDiuG9BAAAAwKCqUEEAAACAPuNVQQAAAMASE29BAAAAzEEBo0EAAADAnKhSQQAAAICBdUZBAAAAHFRFpEEAAAAATZ9LQQAAAEAHH1pBAAAAQFWwV0EAAADATAN8QQAAANikLpZBAAAA0NJkgkEAAACgYDBkQQAAAACJ8DpBAAAAYMVbc0EAAACm1hChQQAAAKA0omNBAAAAAGi1BkEAAAAAANwEQQAAAHARynpBAAAA4I62aEEAAADAXEdhQQAAAACQufZAAAAAgIcIVkEAAABA7F9TQQAAAAAsoFRBAAAAAIBRP0EAAAAAwg4gQQAAAECSRmJBAAAA0HadiEEAAABgYy5jQQAAAKCoOIZBAAAAAPZDc0EAAAAojjiBQQAAAAD0nx9BAAAAALw0MkEAAAAgM+VhQQAAAIAB311BAAAAoL3Cc0EAAACAVvV1QQAAAAAA7FxBAAAAaFTEhUEAAADAHc2PQQAAAABiITBBAAAAwBBhWEEAAAAAsGD5QAAAAADfQzRBAAAAQOtKZEEAAABAej2RQQAAAMDSO1NBAAAAkB6df0EAAABINMSFQQAAAEA7xl9BAAAAYNjnjUEAAADKVXiyQQAAAACnvklBAAAAQGd0ekEAAAAAWNgMQQAAABAKp3tBAAAAPO4QlUEAAAAA1gpPQQAAAOCfi2pBAAAAIDGnakE=\",\"dtype\":\"float64\",\"shape\":[178]},\"region\":[\"South Asia\",\"Europe & Central Asia\",\"Middle East & North Africa\",\"Europe & Central Asia\",\"Sub-Saharan Africa\",\"America\",\"America\",\"Europe & Central Asia\",\"East Asia & Pacific\",\"Europe & Central Asia\",\"Europe & Central Asia\",\"America\",\"Middle East & North Africa\",\"South Asia\",\"America\",\"Europe & Central Asia\",\"Europe & Central Asia\",\"America\",\"Sub-Saharan Africa\",\"South Asia\",\"America\",\"Europe & Central Asia\",\"Sub-Saharan Africa\",\"America\",\"East Asia & Pacific\",\"Europe & Central Asia\",\"Sub-Saharan Africa\",\"Sub-Saharan Africa\",\"East Asia & Pacific\",\"Sub-Saharan Africa\",\"America\",\"Sub-Saharan Africa\",\"Sub-Saharan Africa\",\"America\",\"East Asia & Pacific\",\"America\",\"Sub-Saharan Africa\",\"Sub-Saharan Africa\",\"Sub-Saharan Africa\",\"America\",\"Sub-Saharan Africa\",\"Europe & Central Asia\",\"America\",\"Europe & Central Asia\",\"Europe & Central Asia\",\"Middle East & North Africa\",\"America\",\"America\",\"Middle East & North Africa\",\"America\",\"Sub-Saharan Africa\",\"Sub-Saharan Africa\",\"Europe & Central Asia\",\"Sub-Saharan Africa\",\"East Asia & Pacific\",\"Europe & Central Asia\",\"Europe & Central Asia\",\"Sub-Saharan Africa\",\"Sub-Saharan Africa\",\"Europe & Central Asia\",\"Europe & Central Asia\",\"Sub-Saharan Africa\",\"Europe & Central Asia\",\"America\",\"America\",\"Sub-Saharan Africa\",\"Sub-Saharan Africa\",\"America\",\"America\",\"America\",\"Europe & Central Asia\",\"Europe & Central Asia\",\"South Asia\",\"East Asia & Pacific\",\"Middle East & North Africa\",\"Middle East & North Africa\",\"Europe & Central Asia\",\"Middle East & North Africa\",\"Europe & Central Asia\",\"America\",\"East Asia & Pacific\",\"Middle East & North Africa\",\"Europe & Central Asia\",\"Sub-Saharan Africa\",\"East Asia & Pacific\",\"Middle East & North Africa\",\"Europe & Central Asia\",\"Middle East & North Africa\",\"Sub-Saharan Africa\",\"Sub-Saharan Africa\",\"Middle East & North Africa\",\"Europe & Central Asia\",\"Europe & Central Asia\",\"Europe & Central Asia\",\"Sub-Saharan Africa\",\"Sub-Saharan Africa\",\"East Asia & Pacific\",\"South Asia\",\"Sub-Saharan Africa\",\"Europe & Central Asia\",\"East Asia & Pacific\",\"Sub-Saharan Africa\",\"Sub-Saharan Africa\",\"America\",\"East Asia & Pacific\",\"Europe & Central Asia\",\"East Asia & Pacific\",\"Europe & Central Asia\",\"Middle East & North Africa\",\"Sub-Saharan Africa\",\"East Asia & Pacific\",\"Sub-Saharan Africa\",\"South Asia\",\"Europe & Central Asia\",\"East Asia & Pacific\",\"America\",\"Sub-Saharan Africa\",\"Sub-Saharan Africa\",\"Europe & Central Asia\",\"Middle East & North Africa\",\"South Asia\",\"America\",\"East Asia & Pacific\",\"America\",\"America\",\"East Asia & Pacific\",\"Europe & Central Asia\",\"Europe & Central Asia\",\"Middle East & North Africa\",\"Europe & Central Asia\",\"Europe & Central Asia\",\"Sub-Saharan Africa\",\"East Asia & Pacific\",\"Sub-Saharan Africa\",\"Middle East & North Africa\",\"Sub-Saharan Africa\",\"Europe & Central Asia\",\"Sub-Saharan Africa\",\"Sub-Saharan Africa\",\"East Asia & Pacific\",\"Europe & Central Asia\",\"Europe & Central Asia\",\"East Asia & Pacific\",\"Sub-Saharan Africa\",\"Sub-Saharan Africa\",\"Sub-Saharan Africa\",\"Europe & Central Asia\",\"South Asia\",\"Sub-Saharan Africa\",\"America\",\"Sub-Saharan Africa\",\"Europe & Central Asia\",\"Europe & Central Asia\",\"Middle East & North Africa\",\"East Asia & Pacific\",\"Europe & Central Asia\",\"Sub-Saharan Africa\",\"East Asia & Pacific\",\"East Asia & Pacific\",\"Sub-Saharan Africa\",\"East Asia & Pacific\",\"America\",\"Middle East & North Africa\",\"Europe & Central Asia\",\"Europe & Central Asia\",\"Sub-Saharan Africa\",\"Europe & Central Asia\",\"Middle East & North Africa\",\"Europe & Central Asia\",\"America\",\"America\",\"Europe & Central Asia\",\"East Asia & Pacific\",\"America\",\"East Asia & Pacific\",\"Middle East & North Africa\",\"Sub-Saharan Africa\",\"Sub-Saharan Africa\"],\"x\":{\"__ndarray__\":\"AAAAAACUmUAAAAAAAE/CQAAAAAAAZ8hAAAAAAMAI40AAAAAAAIe7QAAAAADAFdRAAAAAAIDKzkAAAAAAAGy5QAAAAABALuRAAAAAAKDt5EAAAAAAACfPQAAAAADAYNZAAAAAACDN40AAAAAAADajQAAAAACA4M1AAAAAAICrzkAAAAAAgOfjQAAAAACACMBAAAAAAACUmUAAAAAAAHS5QAAAAAAAn7RAAAAAAIDcwUAAAAAAAKXKQAAAAAAAosxAAAAAAMA+8UAAAAAAABPNQAAAAAAAXJZAAAAAAACohkAAAAAAAKKjQAAAAAAAFqRAAAAAAKDo40AAAAAAAHW3QAAAAAAAhJ5AAAAAAADB0kAAAAAAAGvCQAAAAACADMVAAAAAAABIlkAAAAAAAMCDQAAAAAAAnbVAAAAAAAARyEAAAAAAAJimQAAAAABAhdNAAAAAAEAL0kAAAAAAYHrgQAAAAACg/uRAAAAAAADSpEAAAAAAgEPEQAAAAACAL8JAAAAAAIC7xEAAAAAAAEW8QAAAAADgz+BAAAAAAADskEAAAAAAgDPVQAAAAAAA5JBAAAAAAAC6u0AAAAAAIEDjQAAAAAAg8eFAAAAAAAA3z0AAAAAAAAyaQAAAAAAAMrdAAAAAAADX40AAAAAAACaoQAAAAACAgdxAAAAAAADVxUAAAAAAAMG6QAAAAAAAhJJAAAAAAABglUAAAAAAAKa1QAAAAAAAuJdAAAAAAACusEAAAAAAgIvVQAAAAAAg8+JAAAAAAADDsUAAAAAAAJnAQAAAAAAAldBAAAAAAAAVyEAAAAAAgGrlQAAAAABA0dxAAAAAACB14UAAAAAAAFnAQAAAAACAzOBAAAAAAAD8xUAAAAAAQCTTQAAAAAAAjqNAAAAAAAAEm0AAAAAAUGbyQAAAAAAAudFAAAAAAIDDz0AAAAAAAHahQAAAAAAAiIVAAAAAAECN3UAAAAAAgEXUQAAAAACwQPZAAAAAAIDVxUAAAAAAALiVQAAAAAAACIdAAAAAAIDr00AAAAAAAM3GQAAAAAAAAJpAAAAAAIBA20AAAAAAAHSrQAAAAAAAxqlAAAAAAIB3zkAAAAAAADLOQAAAAAAAEqpAAAAAAACqrkAAAAAAABy+QAAAAAAArMpAAAAAAABCuUAAAAAAABCNQAAAAAAACqhAAAAAAIB4wEAAAAAAADyfQAAAAABgYuZAAAAAAAAU30AAAAAAAPyuQAAAAAAASIpAAAAAAAD6s0AAAAAAQLzuQAAAAACABOhAAAAAAAB8sEAAAAAAgCTNQAAAAAAA5qBAAAAAAABgu0AAAAAAgF3DQAAAAAAA7rVAAAAAAADU1EAAAAAAQMDaQAAAAAAAP/9AAAAAAAB+0EAAAAAAACjVQAAAAAAAuJNAAAAAAAAdtUAAAAAAAG6lQAAAAADAQ+ZAAAAAAAAMoUAAAAAAgAbIQAAAAAAA49NAAAAAAAAMlUAAAAAAgJfxQAAAAACA3ddAAAAAAEC220AAAAAAAOybQAAAAAAAMINAAAAAAICbx0AAAAAAAPytQAAAAABAHOBAAAAAAACUvUAAAAAAAKSpQAAAAACA+stAAAAAAADmtkAAAAAAQPLkQAAAAADgdOpAAAAAAADLuUAAAAAAoBXjQAAAAAAAfKBAAAAAAAC+oEAAAAAAAAvJQAAAAAAAxJtAAAAAAAB4k0AAAAAAAFGzQAAAAABAotxAAAAAAIBVxEAAAAAAgEjQQAAAAAAAmMNAAAAAAACsl0AAAAAAAKS+QAAAAACAqOtAAAAAAACy4UAAAAAAoBvoQAAAAADAsdBAAAAAAABZsEAAAAAAAAinQAAAAAAAJtBAAAAAAACGsUAAAAAAAEOwQAAAAAAA9qpAAAAAAAAwl0A=\",\"dtype\":\"float64\",\"shape\":[178]},\"y\":{\"__ndarray__\":\"ZmZmZmZmS0DNzMzMzMxSQJqZmZmZ+VJAzczMzMzsVEAzMzMzM7NNQM3MzMzMzFJAMzMzMzPzUkCamZmZmTlSQM3MzMzMbFRAAAAAAAAgVECamZmZmdlRQJqZmZmZGVJAzczMzMyMU0BmZmZmZiZRQJqZmZmZ2VJAzczMzMyMUUAzMzMzM/NTQGZmZmZmhlFAAAAAAAAAUEAzMzMzMxNRQDMzMzMz01FAAAAAAAAgU0AAAAAAACBQQM3MzMzMjFJAAAAAAACgU0BmZmZmZmZSQJqZmZmZWU5AmpmZmZlZTUCamZmZmblQQAAAAAAAwExAZmZmZmZGVECamZmZmVlSQJqZmZmZGUxAMzMzMzOzU0CamZmZmflSQDMzMzMz01JAAAAAAACAT0BmZmZmZiZMQGZmZmZmJk5AZmZmZmbmU0CamZmZmZlMQM3MzMzMTFNAAAAAAACAU0BmZmZmZmZUQDMzMzMz01NAZmZmZmbmTkCamZmZmZlSQM3MzMzMjFJAMzMzMzOTUUAzMzMzM3NSQJqZmZmZmUxAAAAAAACATkAzMzMzM/NSQAAAAAAAgE5AmpmZmZl5UEAAAAAAAABUQM3MzMzMTFRAAAAAAADATEAAAAAAAIBPQJqZmZmZGVJAzczMzMwMVEAAAAAAAMBPQGZmZmZm5lNAzczMzMzMUUAzMzMzM7NRQM3MzMzMjE1AAAAAAAAASkBmZmZmZqZPQAAAAAAAgEJAMzMzMzPTUUDNzMzMzKxSQAAAAAAAoFRAZmZmZmZGUEAzMzMzM3NRQJqZmZmZeVNAMzMzMzMTUUCamZmZmflTQAAAAAAAYFRAmpmZmZl5VEAAAAAAAOBSQAAAAAAAwFRAZmZmZmZmU0BmZmZmZsZQQM3MzMzMjE9AAAAAAADATkBmZmZmZsZTQAAAAAAAgFJAAAAAAACAU0AzMzMzM7NHQJqZmZmZ2U5AZmZmZmbmUkCamZmZmXlSQAAAAAAAQFRAMzMzMzPzUkBmZmZmZuZPQGZmZmZm5kpAMzMzMzOTUkCamZmZmblTQAAAAAAAQExAMzMzMzNzVEBmZmZmZgZQQM3MzMzMDFBAmpmZmZkZUkDNzMzMzOxSQJqZmZmZmVBAzczMzMyMUUBmZmZmZuZPQM3MzMzMzFJAzczMzMxsUkCamZmZmdlLQAAAAAAAgFBAAAAAAADATUAAAAAAAGBRQAAAAAAAIFRAAAAAAAAgVEAzMzMzM/NSQJqZmZmZWU5AZmZmZmZmTUCamZmZmTlUQAAAAAAAwFJAzczMzMwsUEDNzMzMzExTQJqZmZmZWU1AmpmZmZlZUkAzMzMzMzNTQM3MzMzMbFFAZmZmZmYGU0AAAAAAAOBTQDMzMzMzU1RAAAAAAACAUkDNzMzMzCxRQJqZmZmZ2U9AZmZmZmbmUUBmZmZmZuZQQM3MzMzMbFNAAAAAAABAUEAAAAAAAEBTQDMzMzMzM1JAAAAAAABATEAAAAAAAGBUQAAAAAAA4FJAAAAAAADgU0AAAAAAAIBPQDMzMzMzc0xAmpmZmZlZTEAAAAAAAEBMQGZmZmZmZlRAzczMzMzsUkAAAAAAAABRQAAAAAAAYFFAZmZmZmbmR0AAAAAAAGBUQDMzMzMzk1RAzczMzMwsU0AzMzMzM7NTQJqZmZmZeVFAMzMzMzNzTkBmZmZmZqZSQDMzMzMzc1FAAAAAAACATkBmZmZmZoZRQGZmZmZmxlFAMzMzMzMzU0DNzMzMzOxSQGZmZmZmplBAMzMzMzMzTUCamZmZmZlRQM3MzMzMDFNAAAAAAAAAVEAAAAAAAKBTQAAAAAAAIFNAZmZmZmZGUUAAAAAAAABQQM3MzMzMrFJAMzMzMzPzUkAAAAAAAIBSQM3MzMzMDEtAMzMzMzMzSUA=\",\"dtype\":\"float64\",\"shape\":[178]}},\"selected\":{\"id\":\"b28bf225-9fc5-4f77-be87-d053607b37b0\",\"type\":\"Selection\"},\"selection_policy\":{\"id\":\"f7d45cd1-8d7e-4dba-8e62-e178db3f7ff7\",\"type\":\"UnionRenderers\"}},\"id\":\"df9822f2-eda2-4c3a-928f-b0b8a71893d3\",\"type\":\"ColumnDataSource\"},{\"attributes\":{\"formatter\":{\"id\":\"d9fb4697-a3a8-4f7b-908d-48047d7ce5d9\",\"type\":\"LogTickFormatter\"},\"plot\":{\"id\":\"14d3f94a-0fa6-4992-814c-25449f544add\",\"subtype\":\"Figure\",\"type\":\"Plot\"},\"ticker\":{\"id\":\"5eb0baae-ecb7-4edd-93d1-d4eec98184d4\",\"type\":\"LogTicker\"}},\"id\":\"9839e8f8-ca94-4360-a3fc-a0f4cf799e08\",\"type\":\"LogAxis\"}],\"root_ids\":[\"14d3f94a-0fa6-4992-814c-25449f544add\"]},\"title\":\"Bokeh Application\",\"version\":\"1.0.0dev8\"}};\n",
       "  var render_items = [{\"docid\":\"ff92d709-ec31-436e-a021-e3cf00e344c2\",\"roots\":{\"14d3f94a-0fa6-4992-814c-25449f544add\":\"867433ea-58b6-40e3-b6d1-7ac65b61ca42\"}}];\n",
       "  root.Bokeh.embed.embed_items_notebook(docs_json, render_items);\n",
       "\n",
       "  }\n",
       "  if (root.Bokeh !== undefined) {\n",
       "    embed_document(root);\n",
       "  } else {\n",
       "    var attempts = 0;\n",
       "    var timer = setInterval(function(root) {\n",
       "      if (root.Bokeh !== undefined) {\n",
       "        embed_document(root);\n",
       "        clearInterval(timer);\n",
       "      }\n",
       "      attempts++;\n",
       "      if (attempts > 100) {\n",
       "        console.log(\"Bokeh: ERROR: Unable to run BokehJS code because BokehJS library is missing\")\n",
       "        clearInterval(timer);\n",
       "      }\n",
       "    }, 10, root)\n",
       "  }\n",
       "})(window);"
      ],
      "application/vnd.bokehjs_exec.v0+json": ""
     },
     "metadata": {
      "application/vnd.bokehjs_exec.v0+json": {
       "id": "14d3f94a-0fa6-4992-814c-25449f544add"
      }
     },
     "output_type": "display_data"
    }
   ],
   "source": [
    "from bokeh.models import LinearInterpolator\n",
    "from bokeh.models import HoverTool\n",
    "from bokeh.models import CategoricalColorMapper\n",
    "from bokeh.palettes import Spectral6\n",
    "\n",
    "size_mapper = LinearInterpolator(\n",
    "        x=[data.population.dropna().min().astype(int), data.population.dropna().max().astype(int)],\n",
    "        y=[5, 50])\n",
    "\n",
    "color_mapper = CategoricalColorMapper(\n",
    "        factors=list(data.region.unique()),\n",
    "        palette=Spectral6)\n",
    "\n",
    "PLOT_OPTS = dict(height=200, x_axis_type='log', x_range=(100, 100000), y_range=(0,100))\n",
    "p = figure(\n",
    "        title=str(2010),\n",
    "        toolbar_location='above',\n",
    "        tools=[HoverTool(tooltips='@country', show_arrow=False)], **PLOT_OPTS)\n",
    "\n",
    "p.circle (\n",
    "        x='x', y='y',\n",
    "        size={'field': 'population', 'transform': size_mapper},\n",
    "        color={'field': 'region', 'transform': color_mapper},\n",
    "        alpha=0.6,\n",
    "        legend='region',\n",
    "        source=source)\n",
    "p.legend.border_line_color=None # para eliminar a borda da legenda\n",
    "p.legend.location = (30,-10)\n",
    "p.right.append(p.legend[0])\n",
    "show(p)"
   ]
  },
  {
   "cell_type": "markdown",
   "metadata": {},
   "source": [
    "#### Um pequeno truque\n",
    "\n",
    "---\n",
    "\n",
    "O Bokeh possui depósitos de objetos acima, abaixo, à esquerda e à direita do gráfico. Então basta eu apensar um dos meus objetos para o depósito:\n",
    "\n",
    "    p.right.append(p.legend[0])\n",
    "    \n",
    "E se eu consultar, meu objeto **legenda** agora se localiza lá e não mais sobre o gráfico:"
   ]
  },
  {
   "cell_type": "code",
   "execution_count": 51,
   "metadata": {},
   "outputs": [
    {
     "data": {
      "text/plain": [
       "[Legend(id='9f89afbc-be36-482d-bd78-668a25889769', ...)]"
      ]
     },
     "execution_count": 51,
     "metadata": {},
     "output_type": "execute_result"
    }
   ],
   "source": [
    "p.right"
   ]
  },
  {
   "cell_type": "markdown",
   "metadata": {},
   "source": [
    "Feito isso, eu posso dar um **ajuste fino** no local das legendas:\n",
    "    \n",
    "    p.legend.location = (20,-10)"
   ]
  },
  {
   "cell_type": "markdown",
   "metadata": {},
   "source": [
    "#### Uso funções do Pandas\n",
    "\n",
    "---\n",
    "\n",
    "Posso testar elas numa pequena célula antes para fazer as coisas para mim\n",
    "\n",
    "Aqui eu encontrei todas as **categorias** necessárias para meu mapeamento por cores:"
   ]
  },
  {
   "cell_type": "code",
   "execution_count": 42,
   "metadata": {},
   "outputs": [
    {
     "data": {
      "text/plain": [
       "['South Asia',\n",
       " 'Europe & Central Asia',\n",
       " 'Middle East & North Africa',\n",
       " 'Sub-Saharan Africa',\n",
       " 'America',\n",
       " 'East Asia & Pacific']"
      ]
     },
     "execution_count": 42,
     "metadata": {},
     "output_type": "execute_result"
    }
   ],
   "source": [
    "list(data.region.unique())"
   ]
  },
  {
   "cell_type": "markdown",
   "metadata": {},
   "source": [
    "#### Escolha entre palhetas de cores\n",
    "\n",
    "---\n",
    "\n",
    "Basicamente há duas famílias de palhetas:\n",
    "    \n",
    "- cores que **combinam**\n",
    "\n",
    "- cores que **contrastam**\n",
    "\n",
    "No caso, cores que contrastam fica melhor, já que o objetivo é **diferenciar**. Uma classe, como Spectra possui vários subgrupos. Como eu descobri que tenho apenas **seis** regiões, a escolha natural foi Spectral6!"
   ]
  },
  {
   "cell_type": "code",
   "execution_count": 43,
   "metadata": {},
   "outputs": [
    {
     "data": {
      "text/plain": [
       "['#3288bd', '#99d594', '#e6f598', '#fee08b', '#fc8d59', '#d53e4f']"
      ]
     },
     "execution_count": 43,
     "metadata": {},
     "output_type": "execute_result"
    }
   ],
   "source": [
    "from bokeh.palettes import Spectral6\n",
    "Spectral6"
   ]
  },
  {
   "cell_type": "markdown",
   "metadata": {},
   "source": [
    "Mas eu posso fazer um mapeamento de cores que **combinam** em outro campo, por exemplo população\n",
    "\n",
    "---\n",
    "\n",
    "Apenas o **Sumário** aqui (não rode!):"
   ]
  },
  {
   "cell_type": "code",
   "execution_count": null,
   "metadata": {},
   "outputs": [],
   "source": [
    "from bokeh.models import LinearColorMapper\n",
    "from bokeh.palettes import Viridis256\n",
    "\n",
    "color_mapper = LinearColorMapper(palette=Viridis256, \n",
    "                                low=data.population.min(), high=data.population.max())\n",
    "\n",
    "p.circle( ...\n",
    "        color={'field':'pop', 'transform':color_mapper}\n",
    "         \n",
    "p.add_layout(ColorBar(color_mapper=color_mapper, location=(0,0), \n",
    "                                orientation='horizontal'), 'below')"
   ]
  },
  {
   "cell_type": "markdown",
   "metadata": {},
   "source": [
    "**Implementando**, eu tenho algo legal com cores **contínuas**:"
   ]
  },
  {
   "cell_type": "code",
   "execution_count": 47,
   "metadata": {},
   "outputs": [
    {
     "data": {
      "text/html": [
       "\n",
       "\n",
       "\n",
       "\n",
       "\n",
       "\n",
       "  <div class=\"bk-root\" id=\"2539df87-513a-4bf6-956d-a442fd3652d5\"></div>\n"
      ]
     },
     "metadata": {},
     "output_type": "display_data"
    },
    {
     "data": {
      "application/javascript": [
       "(function(root) {\n",
       "  function embed_document(root) {\n",
       "    \n",
       "  var docs_json = {\"42c9a8fb-b4bf-4e66-a4c1-2f91b812fa3b\":{\"roots\":{\"references\":[{\"attributes\":{\"below\":[{\"id\":\"03ac2e3a-ead2-4c11-94fb-0a21033e41f9\",\"type\":\"LogAxis\"},{\"id\":\"e1b65e3d-e039-4e90-b02e-e973895fe225\",\"type\":\"ColorBar\"}],\"left\":[{\"id\":\"ff4e165d-e4f8-4645-bbfd-1ddc2c36c3e8\",\"type\":\"LinearAxis\"}],\"plot_height\":300,\"renderers\":[{\"id\":\"03ac2e3a-ead2-4c11-94fb-0a21033e41f9\",\"type\":\"LogAxis\"},{\"id\":\"e4ae1b50-c58b-4036-824f-688a7230b2da\",\"type\":\"Grid\"},{\"id\":\"ff4e165d-e4f8-4645-bbfd-1ddc2c36c3e8\",\"type\":\"LinearAxis\"},{\"id\":\"a96ccc74-74c6-4700-acbb-38505976dd68\",\"type\":\"Grid\"},{\"id\":\"552a0340-4168-41ab-8cb6-f11323408815\",\"type\":\"GlyphRenderer\"},{\"id\":\"e1b65e3d-e039-4e90-b02e-e973895fe225\",\"type\":\"ColorBar\"}],\"title\":{\"id\":\"8e270b04-d7e1-4e43-b2c9-6060be2cba51\",\"type\":\"Title\"},\"toolbar\":{\"id\":\"c5424d0e-854f-4e92-8dd1-7c1a36b70026\",\"type\":\"Toolbar\"},\"toolbar_location\":\"above\",\"x_range\":{\"id\":\"753f0643-8ca3-4e51-ad3f-bc5ccb01840f\",\"type\":\"Range1d\"},\"x_scale\":{\"id\":\"4ea7943c-a53a-4b71-9ac3-f7a5f47e15d4\",\"type\":\"LogScale\"},\"y_range\":{\"id\":\"2dda0684-9dae-4c85-ba7d-c4ec1569e164\",\"type\":\"Range1d\"},\"y_scale\":{\"id\":\"9e93821f-4eae-44e3-8e60-0b84b65f35c9\",\"type\":\"LinearScale\"}},\"id\":\"688d3e39-1554-4ce7-8718-dd91f9a9b454\",\"subtype\":\"Figure\",\"type\":\"Plot\"},{\"attributes\":{\"data_source\":{\"id\":\"df9822f2-eda2-4c3a-928f-b0b8a71893d3\",\"type\":\"ColumnDataSource\"},\"glyph\":{\"id\":\"5d8870f2-56b3-4245-b2e7-8ebaaded74d9\",\"type\":\"Circle\"},\"hover_glyph\":null,\"muted_glyph\":null,\"nonselection_glyph\":{\"id\":\"71072366-5f4a-4ca9-9710-d439e96c4c57\",\"type\":\"Circle\"},\"selection_glyph\":null,\"view\":{\"id\":\"4ff74e79-9e23-44e4-9da3-84135f82cac6\",\"type\":\"CDSView\"}},\"id\":\"552a0340-4168-41ab-8cb6-f11323408815\",\"type\":\"GlyphRenderer\"},{\"attributes\":{\"high\":1376048943.0,\"low\":1548.0,\"palette\":[\"#440154\",\"#440255\",\"#440357\",\"#450558\",\"#45065A\",\"#45085B\",\"#46095C\",\"#460B5E\",\"#460C5F\",\"#460E61\",\"#470F62\",\"#471163\",\"#471265\",\"#471466\",\"#471567\",\"#471669\",\"#47186A\",\"#48196B\",\"#481A6C\",\"#481C6E\",\"#481D6F\",\"#481E70\",\"#482071\",\"#482172\",\"#482273\",\"#482374\",\"#472575\",\"#472676\",\"#472777\",\"#472878\",\"#472A79\",\"#472B7A\",\"#472C7B\",\"#462D7C\",\"#462F7C\",\"#46307D\",\"#46317E\",\"#45327F\",\"#45347F\",\"#453580\",\"#453681\",\"#443781\",\"#443982\",\"#433A83\",\"#433B83\",\"#433C84\",\"#423D84\",\"#423E85\",\"#424085\",\"#414186\",\"#414286\",\"#404387\",\"#404487\",\"#3F4587\",\"#3F4788\",\"#3E4888\",\"#3E4989\",\"#3D4A89\",\"#3D4B89\",\"#3D4C89\",\"#3C4D8A\",\"#3C4E8A\",\"#3B508A\",\"#3B518A\",\"#3A528B\",\"#3A538B\",\"#39548B\",\"#39558B\",\"#38568B\",\"#38578C\",\"#37588C\",\"#37598C\",\"#365A8C\",\"#365B8C\",\"#355C8C\",\"#355D8C\",\"#345E8D\",\"#345F8D\",\"#33608D\",\"#33618D\",\"#32628D\",\"#32638D\",\"#31648D\",\"#31658D\",\"#31668D\",\"#30678D\",\"#30688D\",\"#2F698D\",\"#2F6A8D\",\"#2E6B8E\",\"#2E6C8E\",\"#2E6D8E\",\"#2D6E8E\",\"#2D6F8E\",\"#2C708E\",\"#2C718E\",\"#2C728E\",\"#2B738E\",\"#2B748E\",\"#2A758E\",\"#2A768E\",\"#2A778E\",\"#29788E\",\"#29798E\",\"#287A8E\",\"#287A8E\",\"#287B8E\",\"#277C8E\",\"#277D8E\",\"#277E8E\",\"#267F8E\",\"#26808E\",\"#26818E\",\"#25828E\",\"#25838D\",\"#24848D\",\"#24858D\",\"#24868D\",\"#23878D\",\"#23888D\",\"#23898D\",\"#22898D\",\"#228A8D\",\"#228B8D\",\"#218C8D\",\"#218D8C\",\"#218E8C\",\"#208F8C\",\"#20908C\",\"#20918C\",\"#1F928C\",\"#1F938B\",\"#1F948B\",\"#1F958B\",\"#1F968B\",\"#1E978A\",\"#1E988A\",\"#1E998A\",\"#1E998A\",\"#1E9A89\",\"#1E9B89\",\"#1E9C89\",\"#1E9D88\",\"#1E9E88\",\"#1E9F88\",\"#1EA087\",\"#1FA187\",\"#1FA286\",\"#1FA386\",\"#20A485\",\"#20A585\",\"#21A685\",\"#21A784\",\"#22A784\",\"#23A883\",\"#23A982\",\"#24AA82\",\"#25AB81\",\"#26AC81\",\"#27AD80\",\"#28AE7F\",\"#29AF7F\",\"#2AB07E\",\"#2BB17D\",\"#2CB17D\",\"#2EB27C\",\"#2FB37B\",\"#30B47A\",\"#32B57A\",\"#33B679\",\"#35B778\",\"#36B877\",\"#38B976\",\"#39B976\",\"#3BBA75\",\"#3DBB74\",\"#3EBC73\",\"#40BD72\",\"#42BE71\",\"#44BE70\",\"#45BF6F\",\"#47C06E\",\"#49C16D\",\"#4BC26C\",\"#4DC26B\",\"#4FC369\",\"#51C468\",\"#53C567\",\"#55C666\",\"#57C665\",\"#59C764\",\"#5BC862\",\"#5EC961\",\"#60C960\",\"#62CA5F\",\"#64CB5D\",\"#67CC5C\",\"#69CC5B\",\"#6BCD59\",\"#6DCE58\",\"#70CE56\",\"#72CF55\",\"#74D054\",\"#77D052\",\"#79D151\",\"#7CD24F\",\"#7ED24E\",\"#81D34C\",\"#83D34B\",\"#86D449\",\"#88D547\",\"#8BD546\",\"#8DD644\",\"#90D643\",\"#92D741\",\"#95D73F\",\"#97D83E\",\"#9AD83C\",\"#9DD93A\",\"#9FD938\",\"#A2DA37\",\"#A5DA35\",\"#A7DB33\",\"#AADB32\",\"#ADDC30\",\"#AFDC2E\",\"#B2DD2C\",\"#B5DD2B\",\"#B7DD29\",\"#BADE27\",\"#BDDE26\",\"#BFDF24\",\"#C2DF22\",\"#C5DF21\",\"#C7E01F\",\"#CAE01E\",\"#CDE01D\",\"#CFE11C\",\"#D2E11B\",\"#D4E11A\",\"#D7E219\",\"#DAE218\",\"#DCE218\",\"#DFE318\",\"#E1E318\",\"#E4E318\",\"#E7E419\",\"#E9E419\",\"#ECE41A\",\"#EEE51B\",\"#F1E51C\",\"#F3E51E\",\"#F6E61F\",\"#F8E621\",\"#FAE622\",\"#FDE724\"]},\"id\":\"546e7b3e-f3d7-433c-802a-1e827128d787\",\"type\":\"LinearColorMapper\"},{\"attributes\":{},\"id\":\"4382183d-abba-4099-bef1-dff338b6b464\",\"type\":\"BasicTicker\"},{\"attributes\":{\"callback\":null,\"end\":100000,\"start\":100},\"id\":\"753f0643-8ca3-4e51-ad3f-bc5ccb01840f\",\"type\":\"Range1d\"},{\"attributes\":{},\"id\":\"3670ebf6-680a-4afa-8a2f-9f8c9171a0ad\",\"type\":\"BasicTickFormatter\"},{\"attributes\":{\"callback\":null,\"renderers\":\"auto\",\"show_arrow\":false,\"tooltips\":\"@country\"},\"id\":\"e9d6c5c3-9c13-4b73-82bd-e3195ff0fdbb\",\"type\":\"HoverTool\"},{\"attributes\":{\"fill_alpha\":{\"value\":0.6},\"fill_color\":{\"field\":\"population\",\"transform\":{\"id\":\"546e7b3e-f3d7-433c-802a-1e827128d787\",\"type\":\"LinearColorMapper\"}},\"line_alpha\":{\"value\":0.6},\"line_color\":{\"field\":\"population\",\"transform\":{\"id\":\"546e7b3e-f3d7-433c-802a-1e827128d787\",\"type\":\"LinearColorMapper\"}},\"size\":{\"field\":\"population\",\"transform\":{\"id\":\"02f4acb7-39a1-4441-92d3-a090d1f31d75\",\"type\":\"LinearInterpolator\"},\"units\":\"screen\"},\"x\":{\"field\":\"x\"},\"y\":{\"field\":\"y\"}},\"id\":\"5d8870f2-56b3-4245-b2e7-8ebaaded74d9\",\"type\":\"Circle\"},{\"attributes\":{\"data\":null,\"x\":[1548,1376048943],\"y\":[5,50]},\"id\":\"02f4acb7-39a1-4441-92d3-a090d1f31d75\",\"type\":\"LinearInterpolator\"},{\"attributes\":{\"color_mapper\":{\"id\":\"546e7b3e-f3d7-433c-802a-1e827128d787\",\"type\":\"LinearColorMapper\"},\"formatter\":{\"id\":\"cb7dd32e-a0b3-4583-a00b-da6f963a940c\",\"type\":\"BasicTickFormatter\"},\"location\":[0,0],\"orientation\":\"horizontal\",\"plot\":{\"id\":\"688d3e39-1554-4ce7-8718-dd91f9a9b454\",\"subtype\":\"Figure\",\"type\":\"Plot\"},\"ticker\":{\"id\":\"b5a3be3a-2643-420d-a36a-7d1e432433ff\",\"type\":\"BasicTicker\"}},\"id\":\"e1b65e3d-e039-4e90-b02e-e973895fe225\",\"type\":\"ColorBar\"},{\"attributes\":{},\"id\":\"b28bf225-9fc5-4f77-be87-d053607b37b0\",\"type\":\"Selection\"},{\"attributes\":{\"formatter\":{\"id\":\"3670ebf6-680a-4afa-8a2f-9f8c9171a0ad\",\"type\":\"BasicTickFormatter\"},\"plot\":{\"id\":\"688d3e39-1554-4ce7-8718-dd91f9a9b454\",\"subtype\":\"Figure\",\"type\":\"Plot\"},\"ticker\":{\"id\":\"4382183d-abba-4099-bef1-dff338b6b464\",\"type\":\"BasicTicker\"}},\"id\":\"ff4e165d-e4f8-4645-bbfd-1ddc2c36c3e8\",\"type\":\"LinearAxis\"},{\"attributes\":{},\"id\":\"f7d45cd1-8d7e-4dba-8e62-e178db3f7ff7\",\"type\":\"UnionRenderers\"},{\"attributes\":{},\"id\":\"9e93821f-4eae-44e3-8e60-0b84b65f35c9\",\"type\":\"LinearScale\"},{\"attributes\":{\"source\":{\"id\":\"df9822f2-eda2-4c3a-928f-b0b8a71893d3\",\"type\":\"ColumnDataSource\"}},\"id\":\"4ff74e79-9e23-44e4-9da3-84135f82cac6\",\"type\":\"CDSView\"},{\"attributes\":{\"ticker\":null},\"id\":\"f83c46e7-e9d8-41a3-9120-ab9dbb746ec0\",\"type\":\"LogTickFormatter\"},{\"attributes\":{\"num_minor_ticks\":10},\"id\":\"bd1a92b9-4160-4e43-9261-6d04ade19252\",\"type\":\"LogTicker\"},{\"attributes\":{\"active_drag\":\"auto\",\"active_inspect\":\"auto\",\"active_multi\":null,\"active_scroll\":\"auto\",\"active_tap\":\"auto\",\"tools\":[{\"id\":\"e9d6c5c3-9c13-4b73-82bd-e3195ff0fdbb\",\"type\":\"HoverTool\"}]},\"id\":\"c5424d0e-854f-4e92-8dd1-7c1a36b70026\",\"type\":\"Toolbar\"},{\"attributes\":{},\"id\":\"4ea7943c-a53a-4b71-9ac3-f7a5f47e15d4\",\"type\":\"LogScale\"},{\"attributes\":{\"plot\":null,\"text\":\"2010\"},\"id\":\"8e270b04-d7e1-4e43-b2c9-6060be2cba51\",\"type\":\"Title\"},{\"attributes\":{\"plot\":{\"id\":\"688d3e39-1554-4ce7-8718-dd91f9a9b454\",\"subtype\":\"Figure\",\"type\":\"Plot\"},\"ticker\":{\"id\":\"bd1a92b9-4160-4e43-9261-6d04ade19252\",\"type\":\"LogTicker\"}},\"id\":\"e4ae1b50-c58b-4036-824f-688a7230b2da\",\"type\":\"Grid\"},{\"attributes\":{},\"id\":\"b5a3be3a-2643-420d-a36a-7d1e432433ff\",\"type\":\"BasicTicker\"},{\"attributes\":{},\"id\":\"cb7dd32e-a0b3-4583-a00b-da6f963a940c\",\"type\":\"BasicTickFormatter\"},{\"attributes\":{\"formatter\":{\"id\":\"f83c46e7-e9d8-41a3-9120-ab9dbb746ec0\",\"type\":\"LogTickFormatter\"},\"plot\":{\"id\":\"688d3e39-1554-4ce7-8718-dd91f9a9b454\",\"subtype\":\"Figure\",\"type\":\"Plot\"},\"ticker\":{\"id\":\"bd1a92b9-4160-4e43-9261-6d04ade19252\",\"type\":\"LogTicker\"}},\"id\":\"03ac2e3a-ead2-4c11-94fb-0a21033e41f9\",\"type\":\"LogAxis\"},{\"attributes\":{\"fill_alpha\":{\"value\":0.1},\"fill_color\":{\"value\":\"#1f77b4\"},\"line_alpha\":{\"value\":0.1},\"line_color\":{\"value\":\"#1f77b4\"},\"size\":{\"field\":\"population\",\"transform\":{\"id\":\"02f4acb7-39a1-4441-92d3-a090d1f31d75\",\"type\":\"LinearInterpolator\"},\"units\":\"screen\"},\"x\":{\"field\":\"x\"},\"y\":{\"field\":\"y\"}},\"id\":\"71072366-5f4a-4ca9-9710-d439e96c4c57\",\"type\":\"Circle\"},{\"attributes\":{\"callback\":null,\"end\":100},\"id\":\"2dda0684-9dae-4c85-ba7d-c4ec1569e164\",\"type\":\"Range1d\"},{\"attributes\":{\"dimension\":1,\"plot\":{\"id\":\"688d3e39-1554-4ce7-8718-dd91f9a9b454\",\"subtype\":\"Figure\",\"type\":\"Plot\"},\"ticker\":{\"id\":\"4382183d-abba-4099-bef1-dff338b6b464\",\"type\":\"BasicTicker\"}},\"id\":\"a96ccc74-74c6-4700-acbb-38505976dd68\",\"type\":\"Grid\"},{\"attributes\":{\"callback\":null,\"data\":{\"country\":[\"Afghanistan\",\"Albania\",\"Algeria\",\"Andorra\",\"Angola\",\"Antigua and Barbuda\",\"Argentina\",\"Armenia\",\"Australia\",\"Austria\",\"Azerbaijan\",\"Bahamas\",\"Bahrain\",\"Bangladesh\",\"Barbados\",\"Belarus\",\"Belgium\",\"Belize\",\"Benin\",\"Bhutan\",\"Bolivia\",\"Bosnia and Herzegovina\",\"Botswana\",\"Brazil\",\"Brunei\",\"Bulgaria\",\"Burkina Faso\",\"Burundi\",\"Cambodia\",\"Cameroon\",\"Canada\",\"Cape Verde\",\"Chad\",\"Chile\",\"China\",\"Colombia\",\"Comoros\",\"Congo, Dem. Rep.\",\"Congo, Rep.\",\"Costa Rica\",\"Cote d'Ivoire\",\"Croatia\",\"Cuba\",\"Cyprus\",\"Denmark\",\"Djibouti\",\"Dominica\",\"Ecuador\",\"Egypt\",\"El Salvador\",\"Equatorial Guinea\",\"Eritrea\",\"Estonia\",\"Ethiopia\",\"Fiji\",\"Finland\",\"France\",\"Gabon\",\"Gambia\",\"Georgia\",\"Germany\",\"Ghana\",\"Greece\",\"Grenada\",\"Guatemala\",\"Guinea\",\"Guinea-Bissau\",\"Guyana\",\"Haiti\",\"Honduras\",\"Hungary\",\"Iceland\",\"India\",\"Indonesia\",\"Iran\",\"Iraq\",\"Ireland\",\"Israel\",\"Italy\",\"Jamaica\",\"Japan\",\"Jordan\",\"Kazakhstan\",\"Kenya\",\"Kiribati\",\"Kuwait\",\"Latvia\",\"Lebanon\",\"Lesotho\",\"Liberia\",\"Libya\",\"Lithuania\",\"Luxembourg\",\"Macedonia, FYR\",\"Madagascar\",\"Malawi\",\"Malaysia\",\"Maldives\",\"Mali\",\"Malta\",\"Marshall Islands\",\"Mauritania\",\"Mauritius\",\"Mexico\",\"Micronesia, Fed. Sts.\",\"Moldova\",\"Mongolia\",\"Montenegro\",\"Morocco\",\"Mozambique\",\"Myanmar\",\"Namibia\",\"Nepal\",\"Netherlands\",\"New Zealand\",\"Nicaragua\",\"Niger\",\"Nigeria\",\"Norway\",\"Oman\",\"Pakistan\",\"Panama\",\"Papua New Guinea\",\"Paraguay\",\"Peru\",\"Philippines\",\"Poland\",\"Portugal\",\"Qatar\",\"Romania\",\"Russia\",\"Rwanda\",\"Samoa\",\"Sao Tome and Principe\",\"Saudi Arabia\",\"Senegal\",\"Serbia\",\"Seychelles\",\"Sierra Leone\",\"Singapore\",\"Slovak Republic\",\"Slovenia\",\"Solomon Islands\",\"Somalia\",\"South Africa\",\"South Sudan\",\"Spain\",\"Sri Lanka\",\"Sudan\",\"Suriname\",\"Swaziland\",\"Sweden\",\"Switzerland\",\"Syria\",\"Taiwan\",\"Tajikistan\",\"Tanzania\",\"Thailand\",\"Timor-Leste\",\"Togo\",\"Tonga\",\"Trinidad and Tobago\",\"Tunisia\",\"Turkey\",\"Turkmenistan\",\"Uganda\",\"Ukraine\",\"United Arab Emirates\",\"United Kingdom\",\"United States\",\"Uruguay\",\"Uzbekistan\",\"Vanuatu\",\"Venezuela\",\"Vietnam\",\"West Bank and Gaza\",\"Zambia\",\"Zimbabwe\"],\"population\":{\"__ndarray__\":\"AAAA8LWqekEAAACAvSNGQQAAAPjxLoFBAAAAADCc9EAAAAAgpzx0QQAAAAAQTPVAAAAA2Baog0EAAAAAFJxGQQAAAPDaInVBAAAAQKYBYEEAAACgTlthQQAAAAD4BRZBAAAAAAc/M0EAAAAS+hKiQQAAAAA4EBFBAAAAQNMaYkEAAABA59hkQQAAAAAkoRNBAAAAwHQjYkEAAAAA7PolQQAAAKDk6mJBAAAAAL1CTUEAAAAAVz8/QQAAAIA5radBAAAAAFgBGEEAAABAsEFcQQAAAEDY0G1BAAAAoK8LYkEAAABAeGVrQQAAAKAEo3NBAAAA6MpFgEEAAAAALO4dQQAAAIDHsGZBAAAAgBA6cEEAAEDIY/vTQQAAAKg85YVBAAAAAI5SJUEAAADAKHGPQQAAAACPBU9BAAAAQL5WUUEAAACw9zJzQQAAAEBCd1BBAAAAoIyRZUEAAAAARdcwQQAAAMDbLFVBAAAAAKRaKUEAAAAA8F/xQAAAAIBUfGxBAAAAiGKPk0EAAACAyAhXQQAAAAAMPSZBAAAAAMDjUUEAAAAAeVM0QQAAAFhZ4JRBAAAAAGA+KkEAAABA43lUQQAAAICvBY5BAAAAADCHN0EAAAAAStU5QQAAAACFNlBBAAAArGEtk0EAAABg8jB3QQAAAKDEUWVBAAAAAFCO+UAAAACgfBlsQQAAAMAmAWVBAAAAAJTvOEEAAAAApP0mQQAAACCgEmNBAAAAwACgXEEAAAAg9RljQQAAAABoaRNBAAAATtVX0kEAAACMcs2sQQAAAPQQtJFBAAAAwCtwfUEAAACAHZ1RQQAAAAB0TlxBAAAAOO1pjEEAAACAAupEQQAAAOj7Wp5BAAAAACbdWEEAAAAALBxvQQAAAMjjOoNBAAAAAIAP+UAAAACAiFdHQQAAAAAX5j9BAAAAAIGLUEEAAAAA2q0+QQAAAABzMk5BAAAAQNjmV0EAAACASdNHQQAAAADE/x5BAAAAAGt4P0EAAADAXhp0QQAAAADUK2xBAAAAwBzRekEAAAAAfEwUQQAAAMDm7WxBAAAAAIAmGUEAAAAAgJnpQAAAAAB0ZktBAAAAAM8KM0EAAAAY10ecQQAAAAAwTPlAAAAAgIEpT0EAAACAKLJEQQAAAAAA+yJBAAAAsM2efkEAAAAQ2zF3QQAAAKgQq4hBAAAAgHW8QEEAAABggKF5QQAAAGDiuG9BAAAAwKCqUEEAAACAPuNVQQAAAMASE29BAAAAzEEBo0EAAADAnKhSQQAAAICBdUZBAAAAHFRFpEEAAAAATZ9LQQAAAEAHH1pBAAAAQFWwV0EAAADATAN8QQAAANikLpZBAAAA0NJkgkEAAACgYDBkQQAAAACJ8DpBAAAAYMVbc0EAAACm1hChQQAAAKA0omNBAAAAAGi1BkEAAAAAANwEQQAAAHARynpBAAAA4I62aEEAAADAXEdhQQAAAACQufZAAAAAgIcIVkEAAABA7F9TQQAAAAAsoFRBAAAAAIBRP0EAAAAAwg4gQQAAAECSRmJBAAAA0HadiEEAAABgYy5jQQAAAKCoOIZBAAAAAPZDc0EAAAAojjiBQQAAAAD0nx9BAAAAALw0MkEAAAAgM+VhQQAAAIAB311BAAAAoL3Cc0EAAACAVvV1QQAAAAAA7FxBAAAAaFTEhUEAAADAHc2PQQAAAABiITBBAAAAwBBhWEEAAAAAsGD5QAAAAADfQzRBAAAAQOtKZEEAAABAej2RQQAAAMDSO1NBAAAAkB6df0EAAABINMSFQQAAAEA7xl9BAAAAYNjnjUEAAADKVXiyQQAAAACnvklBAAAAQGd0ekEAAAAAWNgMQQAAABAKp3tBAAAAPO4QlUEAAAAA1gpPQQAAAOCfi2pBAAAAIDGnakE=\",\"dtype\":\"float64\",\"shape\":[178]},\"region\":[\"South Asia\",\"Europe & Central Asia\",\"Middle East & North Africa\",\"Europe & Central Asia\",\"Sub-Saharan Africa\",\"America\",\"America\",\"Europe & Central Asia\",\"East Asia & Pacific\",\"Europe & Central Asia\",\"Europe & Central Asia\",\"America\",\"Middle East & North Africa\",\"South Asia\",\"America\",\"Europe & Central Asia\",\"Europe & Central Asia\",\"America\",\"Sub-Saharan Africa\",\"South Asia\",\"America\",\"Europe & Central Asia\",\"Sub-Saharan Africa\",\"America\",\"East Asia & Pacific\",\"Europe & Central Asia\",\"Sub-Saharan Africa\",\"Sub-Saharan Africa\",\"East Asia & Pacific\",\"Sub-Saharan Africa\",\"America\",\"Sub-Saharan Africa\",\"Sub-Saharan Africa\",\"America\",\"East Asia & Pacific\",\"America\",\"Sub-Saharan Africa\",\"Sub-Saharan Africa\",\"Sub-Saharan Africa\",\"America\",\"Sub-Saharan Africa\",\"Europe & Central Asia\",\"America\",\"Europe & Central Asia\",\"Europe & Central Asia\",\"Middle East & North Africa\",\"America\",\"America\",\"Middle East & North Africa\",\"America\",\"Sub-Saharan Africa\",\"Sub-Saharan Africa\",\"Europe & Central Asia\",\"Sub-Saharan Africa\",\"East Asia & Pacific\",\"Europe & Central Asia\",\"Europe & Central Asia\",\"Sub-Saharan Africa\",\"Sub-Saharan Africa\",\"Europe & Central Asia\",\"Europe & Central Asia\",\"Sub-Saharan Africa\",\"Europe & Central Asia\",\"America\",\"America\",\"Sub-Saharan Africa\",\"Sub-Saharan Africa\",\"America\",\"America\",\"America\",\"Europe & Central Asia\",\"Europe & Central Asia\",\"South Asia\",\"East Asia & Pacific\",\"Middle East & North Africa\",\"Middle East & North Africa\",\"Europe & Central Asia\",\"Middle East & North Africa\",\"Europe & Central Asia\",\"America\",\"East Asia & Pacific\",\"Middle East & North Africa\",\"Europe & Central Asia\",\"Sub-Saharan Africa\",\"East Asia & Pacific\",\"Middle East & North Africa\",\"Europe & Central Asia\",\"Middle East & North Africa\",\"Sub-Saharan Africa\",\"Sub-Saharan Africa\",\"Middle East & North Africa\",\"Europe & Central Asia\",\"Europe & Central Asia\",\"Europe & Central Asia\",\"Sub-Saharan Africa\",\"Sub-Saharan Africa\",\"East Asia & Pacific\",\"South Asia\",\"Sub-Saharan Africa\",\"Europe & Central Asia\",\"East Asia & Pacific\",\"Sub-Saharan Africa\",\"Sub-Saharan Africa\",\"America\",\"East Asia & Pacific\",\"Europe & Central Asia\",\"East Asia & Pacific\",\"Europe & Central Asia\",\"Middle East & North Africa\",\"Sub-Saharan Africa\",\"East Asia & Pacific\",\"Sub-Saharan Africa\",\"South Asia\",\"Europe & Central Asia\",\"East Asia & Pacific\",\"America\",\"Sub-Saharan Africa\",\"Sub-Saharan Africa\",\"Europe & Central Asia\",\"Middle East & North Africa\",\"South Asia\",\"America\",\"East Asia & Pacific\",\"America\",\"America\",\"East Asia & Pacific\",\"Europe & Central Asia\",\"Europe & Central Asia\",\"Middle East & North Africa\",\"Europe & Central Asia\",\"Europe & Central Asia\",\"Sub-Saharan Africa\",\"East Asia & Pacific\",\"Sub-Saharan Africa\",\"Middle East & North Africa\",\"Sub-Saharan Africa\",\"Europe & Central Asia\",\"Sub-Saharan Africa\",\"Sub-Saharan Africa\",\"East Asia & Pacific\",\"Europe & Central Asia\",\"Europe & Central Asia\",\"East Asia & Pacific\",\"Sub-Saharan Africa\",\"Sub-Saharan Africa\",\"Sub-Saharan Africa\",\"Europe & Central Asia\",\"South Asia\",\"Sub-Saharan Africa\",\"America\",\"Sub-Saharan Africa\",\"Europe & Central Asia\",\"Europe & Central Asia\",\"Middle East & North Africa\",\"East Asia & Pacific\",\"Europe & Central Asia\",\"Sub-Saharan Africa\",\"East Asia & Pacific\",\"East Asia & Pacific\",\"Sub-Saharan Africa\",\"East Asia & Pacific\",\"America\",\"Middle East & North Africa\",\"Europe & Central Asia\",\"Europe & Central Asia\",\"Sub-Saharan Africa\",\"Europe & Central Asia\",\"Middle East & North Africa\",\"Europe & Central Asia\",\"America\",\"America\",\"Europe & Central Asia\",\"East Asia & Pacific\",\"America\",\"East Asia & Pacific\",\"Middle East & North Africa\",\"Sub-Saharan Africa\",\"Sub-Saharan Africa\"],\"x\":{\"__ndarray__\":\"AAAAAACUmUAAAAAAAE/CQAAAAAAAZ8hAAAAAAMAI40AAAAAAAIe7QAAAAADAFdRAAAAAAIDKzkAAAAAAAGy5QAAAAABALuRAAAAAAKDt5EAAAAAAACfPQAAAAADAYNZAAAAAACDN40AAAAAAADajQAAAAACA4M1AAAAAAICrzkAAAAAAgOfjQAAAAACACMBAAAAAAACUmUAAAAAAAHS5QAAAAAAAn7RAAAAAAIDcwUAAAAAAAKXKQAAAAAAAosxAAAAAAMA+8UAAAAAAABPNQAAAAAAAXJZAAAAAAACohkAAAAAAAKKjQAAAAAAAFqRAAAAAAKDo40AAAAAAAHW3QAAAAAAAhJ5AAAAAAADB0kAAAAAAAGvCQAAAAACADMVAAAAAAABIlkAAAAAAAMCDQAAAAAAAnbVAAAAAAAARyEAAAAAAAJimQAAAAABAhdNAAAAAAEAL0kAAAAAAYHrgQAAAAACg/uRAAAAAAADSpEAAAAAAgEPEQAAAAACAL8JAAAAAAIC7xEAAAAAAAEW8QAAAAADgz+BAAAAAAADskEAAAAAAgDPVQAAAAAAA5JBAAAAAAAC6u0AAAAAAIEDjQAAAAAAg8eFAAAAAAAA3z0AAAAAAAAyaQAAAAAAAMrdAAAAAAADX40AAAAAAACaoQAAAAACAgdxAAAAAAADVxUAAAAAAAMG6QAAAAAAAhJJAAAAAAABglUAAAAAAAKa1QAAAAAAAuJdAAAAAAACusEAAAAAAgIvVQAAAAAAg8+JAAAAAAADDsUAAAAAAAJnAQAAAAAAAldBAAAAAAAAVyEAAAAAAgGrlQAAAAABA0dxAAAAAACB14UAAAAAAAFnAQAAAAACAzOBAAAAAAAD8xUAAAAAAQCTTQAAAAAAAjqNAAAAAAAAEm0AAAAAAUGbyQAAAAAAAudFAAAAAAIDDz0AAAAAAAHahQAAAAAAAiIVAAAAAAECN3UAAAAAAgEXUQAAAAACwQPZAAAAAAIDVxUAAAAAAALiVQAAAAAAACIdAAAAAAIDr00AAAAAAAM3GQAAAAAAAAJpAAAAAAIBA20AAAAAAAHSrQAAAAAAAxqlAAAAAAIB3zkAAAAAAADLOQAAAAAAAEqpAAAAAAACqrkAAAAAAABy+QAAAAAAArMpAAAAAAABCuUAAAAAAABCNQAAAAAAACqhAAAAAAIB4wEAAAAAAADyfQAAAAABgYuZAAAAAAAAU30AAAAAAAPyuQAAAAAAASIpAAAAAAAD6s0AAAAAAQLzuQAAAAACABOhAAAAAAAB8sEAAAAAAgCTNQAAAAAAA5qBAAAAAAABgu0AAAAAAgF3DQAAAAAAA7rVAAAAAAADU1EAAAAAAQMDaQAAAAAAAP/9AAAAAAAB+0EAAAAAAACjVQAAAAAAAuJNAAAAAAAAdtUAAAAAAAG6lQAAAAADAQ+ZAAAAAAAAMoUAAAAAAgAbIQAAAAAAA49NAAAAAAAAMlUAAAAAAgJfxQAAAAACA3ddAAAAAAEC220AAAAAAAOybQAAAAAAAMINAAAAAAICbx0AAAAAAAPytQAAAAABAHOBAAAAAAACUvUAAAAAAAKSpQAAAAACA+stAAAAAAADmtkAAAAAAQPLkQAAAAADgdOpAAAAAAADLuUAAAAAAoBXjQAAAAAAAfKBAAAAAAAC+oEAAAAAAAAvJQAAAAAAAxJtAAAAAAAB4k0AAAAAAAFGzQAAAAABAotxAAAAAAIBVxEAAAAAAgEjQQAAAAAAAmMNAAAAAAACsl0AAAAAAAKS+QAAAAACAqOtAAAAAAACy4UAAAAAAoBvoQAAAAADAsdBAAAAAAABZsEAAAAAAAAinQAAAAAAAJtBAAAAAAACGsUAAAAAAAEOwQAAAAAAA9qpAAAAAAAAwl0A=\",\"dtype\":\"float64\",\"shape\":[178]},\"y\":{\"__ndarray__\":\"ZmZmZmZmS0DNzMzMzMxSQJqZmZmZ+VJAzczMzMzsVEAzMzMzM7NNQM3MzMzMzFJAMzMzMzPzUkCamZmZmTlSQM3MzMzMbFRAAAAAAAAgVECamZmZmdlRQJqZmZmZGVJAzczMzMyMU0BmZmZmZiZRQJqZmZmZ2VJAzczMzMyMUUAzMzMzM/NTQGZmZmZmhlFAAAAAAAAAUEAzMzMzMxNRQDMzMzMz01FAAAAAAAAgU0AAAAAAACBQQM3MzMzMjFJAAAAAAACgU0BmZmZmZmZSQJqZmZmZWU5AmpmZmZlZTUCamZmZmblQQAAAAAAAwExAZmZmZmZGVECamZmZmVlSQJqZmZmZGUxAMzMzMzOzU0CamZmZmflSQDMzMzMz01JAAAAAAACAT0BmZmZmZiZMQGZmZmZmJk5AZmZmZmbmU0CamZmZmZlMQM3MzMzMTFNAAAAAAACAU0BmZmZmZmZUQDMzMzMz01NAZmZmZmbmTkCamZmZmZlSQM3MzMzMjFJAMzMzMzOTUUAzMzMzM3NSQJqZmZmZmUxAAAAAAACATkAzMzMzM/NSQAAAAAAAgE5AmpmZmZl5UEAAAAAAAABUQM3MzMzMTFRAAAAAAADATEAAAAAAAIBPQJqZmZmZGVJAzczMzMwMVEAAAAAAAMBPQGZmZmZm5lNAzczMzMzMUUAzMzMzM7NRQM3MzMzMjE1AAAAAAAAASkBmZmZmZqZPQAAAAAAAgEJAMzMzMzPTUUDNzMzMzKxSQAAAAAAAoFRAZmZmZmZGUEAzMzMzM3NRQJqZmZmZeVNAMzMzMzMTUUCamZmZmflTQAAAAAAAYFRAmpmZmZl5VEAAAAAAAOBSQAAAAAAAwFRAZmZmZmZmU0BmZmZmZsZQQM3MzMzMjE9AAAAAAADATkBmZmZmZsZTQAAAAAAAgFJAAAAAAACAU0AzMzMzM7NHQJqZmZmZ2U5AZmZmZmbmUkCamZmZmXlSQAAAAAAAQFRAMzMzMzPzUkBmZmZmZuZPQGZmZmZm5kpAMzMzMzOTUkCamZmZmblTQAAAAAAAQExAMzMzMzNzVEBmZmZmZgZQQM3MzMzMDFBAmpmZmZkZUkDNzMzMzOxSQJqZmZmZmVBAzczMzMyMUUBmZmZmZuZPQM3MzMzMzFJAzczMzMxsUkCamZmZmdlLQAAAAAAAgFBAAAAAAADATUAAAAAAAGBRQAAAAAAAIFRAAAAAAAAgVEAzMzMzM/NSQJqZmZmZWU5AZmZmZmZmTUCamZmZmTlUQAAAAAAAwFJAzczMzMwsUEDNzMzMzExTQJqZmZmZWU1AmpmZmZlZUkAzMzMzMzNTQM3MzMzMbFFAZmZmZmYGU0AAAAAAAOBTQDMzMzMzU1RAAAAAAACAUkDNzMzMzCxRQJqZmZmZ2U9AZmZmZmbmUUBmZmZmZuZQQM3MzMzMbFNAAAAAAABAUEAAAAAAAEBTQDMzMzMzM1JAAAAAAABATEAAAAAAAGBUQAAAAAAA4FJAAAAAAADgU0AAAAAAAIBPQDMzMzMzc0xAmpmZmZlZTEAAAAAAAEBMQGZmZmZmZlRAzczMzMzsUkAAAAAAAABRQAAAAAAAYFFAZmZmZmbmR0AAAAAAAGBUQDMzMzMzk1RAzczMzMwsU0AzMzMzM7NTQJqZmZmZeVFAMzMzMzNzTkBmZmZmZqZSQDMzMzMzc1FAAAAAAACATkBmZmZmZoZRQGZmZmZmxlFAMzMzMzMzU0DNzMzMzOxSQGZmZmZmplBAMzMzMzMzTUCamZmZmZlRQM3MzMzMDFNAAAAAAAAAVEAAAAAAAKBTQAAAAAAAIFNAZmZmZmZGUUAAAAAAAABQQM3MzMzMrFJAMzMzMzPzUkAAAAAAAIBSQM3MzMzMDEtAMzMzMzMzSUA=\",\"dtype\":\"float64\",\"shape\":[178]}},\"selected\":{\"id\":\"b28bf225-9fc5-4f77-be87-d053607b37b0\",\"type\":\"Selection\"},\"selection_policy\":{\"id\":\"f7d45cd1-8d7e-4dba-8e62-e178db3f7ff7\",\"type\":\"UnionRenderers\"}},\"id\":\"df9822f2-eda2-4c3a-928f-b0b8a71893d3\",\"type\":\"ColumnDataSource\"}],\"root_ids\":[\"688d3e39-1554-4ce7-8718-dd91f9a9b454\"]},\"title\":\"Bokeh Application\",\"version\":\"1.0.0dev8\"}};\n",
       "  var render_items = [{\"docid\":\"42c9a8fb-b4bf-4e66-a4c1-2f91b812fa3b\",\"roots\":{\"688d3e39-1554-4ce7-8718-dd91f9a9b454\":\"2539df87-513a-4bf6-956d-a442fd3652d5\"}}];\n",
       "  root.Bokeh.embed.embed_items_notebook(docs_json, render_items);\n",
       "\n",
       "  }\n",
       "  if (root.Bokeh !== undefined) {\n",
       "    embed_document(root);\n",
       "  } else {\n",
       "    var attempts = 0;\n",
       "    var timer = setInterval(function(root) {\n",
       "      if (root.Bokeh !== undefined) {\n",
       "        embed_document(root);\n",
       "        clearInterval(timer);\n",
       "      }\n",
       "      attempts++;\n",
       "      if (attempts > 100) {\n",
       "        console.log(\"Bokeh: ERROR: Unable to run BokehJS code because BokehJS library is missing\")\n",
       "        clearInterval(timer);\n",
       "      }\n",
       "    }, 10, root)\n",
       "  }\n",
       "})(window);"
      ],
      "application/vnd.bokehjs_exec.v0+json": ""
     },
     "metadata": {
      "application/vnd.bokehjs_exec.v0+json": {
       "id": "688d3e39-1554-4ce7-8718-dd91f9a9b454"
      }
     },
     "output_type": "display_data"
    }
   ],
   "source": [
    "from bokeh.models import LinearInterpolator\n",
    "from bokeh.models import LinearColorMapper\n",
    "from bokeh.models import HoverTool\n",
    "from bokeh.models import CategoricalColorMapper\n",
    "from bokeh.models import ColorBar\n",
    "from bokeh.palettes import Viridis256\n",
    "\n",
    "size_mapper = LinearInterpolator(\n",
    "        x=[data.population.dropna().min().astype(int), data.population.dropna().max().astype(int)],\n",
    "        y=[5, 50])\n",
    "\n",
    "color_mapper = LinearColorMapper(palette=Viridis256, \n",
    "                                low=data.population.min(), high=data.population.max())\n",
    "\n",
    "\n",
    "PLOT_OPTS = dict(height=300, x_axis_type='log', x_range=(100, 100000), y_range=(0,100))\n",
    "p = figure(\n",
    "        title=str(2010),\n",
    "        toolbar_location='above',\n",
    "        tools=[HoverTool(tooltips='@country', show_arrow=False)], **PLOT_OPTS)\n",
    "\n",
    "p.circle (\n",
    "        x='x', y='y',\n",
    "        size={'field': 'population', 'transform': size_mapper},\n",
    "        color={'field': 'population', 'transform': color_mapper},\n",
    "        alpha=0.6,\n",
    "        source=source)\n",
    "p.add_layout(ColorBar(color_mapper=color_mapper, location=(0,0), \n",
    "                                orientation='horizontal'), 'below')\n",
    "\n",
    "show(p)"
   ]
  },
  {
   "cell_type": "markdown",
   "metadata": {},
   "source": [
    "### Um truque de condensação de código\n",
    "\n",
    "---\n",
    "\n",
    "Existe uma regra básica em programação que é **DRY** (don´t repeat yourself). Então se eu vou plotar uma série de gráficos, eu crio um parâmetro meio universal para ser aproveitado em todos eles:\n",
    "\n",
    "    PLOT_OPTS = dict(height=300, x_axis_type='log', x_range=(100, 100000), y_range=(0,100))\n",
    "    \n",
    "Eu coloco essas coisas numa célula inicial e simplesmente chamo o que é universal em cada gráfico, mudando o resto\n",
    "\n",
    "Aqui eu vou repetindo o **PLOT_OPTS**. Por que?\n",
    "\n",
    "É que isso aqui é uma série de testes. Então às vezes eu preciso cortar coisas, mudar a ordem...\n",
    "\n",
    "Existem **duas** etapas em qualquer processo de invenção:\n",
    "\n",
    "- A primeira delas é o laboratório de Flemming. Em ciência, existem cientistas extremamente **caóticos** e **criativos**. Dizem que Flemming, um pouco como Nikola Tesla, foi um pouco tipo **cientista louco**. Então o que ele tinha era um laboratório de invenções. Coisas fermentavam, outras apodreciam, enquanto experimentos se localizavam em outro lugar. A invenção da **penicilina** foi acidental? Não exatamente! É que nesse laboratório tipo a sala de invenções de **Willy Wonka**, em uma das placas de culturas de **bactérias**, o cientista observou que às bordas de onde um **fungo** acidentalmente se desenvolveu, a bactéria não vingou. Ele observou aquilo e **hmmmm, nesse mato tem coelho...** e investigando em detalhes descobriu que o fungo secretava uma substância que inibia o crescimento das bactérias! Resultado: a invenção do século. E se o seu laboratório fosse totalmente **limpo** e **estéril**? Provavelmente nada disso teria acontecido. Cientistas assim são altamente necessários em ciência nos **processos iniciais** de entendimento, apropriação e criação de novos métodos e conhecimentos, da qual a ciência depende\n",
    "\n",
    "- e a segunda é o laboratóro de Lavoisier. Assim como Pasteur, existem cientistas extremamente **metódicos** e **organizados**. "
   ]
  },
  {
   "cell_type": "markdown",
   "metadata": {},
   "source": [
    "### Gráfico interativo no Bokeh usando Ipywidgets\n",
    "\n",
    "---\n",
    "\n",
    "*Observação: às vezes os Widgets estão desabilitados no Jupyter Notebook*\n",
    "\n",
    "    jupyter nbextension enable --py --sys-prefix widgetsnbextension"
   ]
  },
  {
   "cell_type": "markdown",
   "metadata": {},
   "source": [
    "Apenas o **sumário** aqui (não rode!):"
   ]
  },
  {
   "cell_type": "code",
   "execution_count": null,
   "metadata": {},
   "outputs": [],
   "source": [
    "from ipywidgets import interact\n",
    "from bokeh.io import push_notebook\n",
    "\n",
    "def update(year): \n",
    "    new_data = dict(x=data.loc[year].income,\n",
    "                    y=data.loc[year].life,\n",
    "                    country=data.loc[year].Country,\n",
    "                    region=data.loc[year].region,\n",
    "                    population=data.loc[year].population)\n",
    "    source.data = new_data\n",
    "    #p.title.textbook = str(year)\n",
    "    push_notebook()\n",
    "\n",
    "interact(update, year=(1800, 2014, 1), auto_display=True)"
   ]
  },
  {
   "cell_type": "markdown",
   "metadata": {},
   "source": [
    "Interação completa:"
   ]
  },
  {
   "cell_type": "code",
   "execution_count": 59,
   "metadata": {},
   "outputs": [
    {
     "data": {
      "text/html": [
       "\n",
       "\n",
       "\n",
       "\n",
       "\n",
       "\n",
       "  <div class=\"bk-root\" id=\"3bf9ff4d-6488-4b1e-97e2-bfada517e799\"></div>\n"
      ]
     },
     "metadata": {},
     "output_type": "display_data"
    },
    {
     "data": {
      "application/javascript": [
       "(function(root) {\n",
       "  function embed_document(root) {\n",
       "    \n",
       "  var docs_json = {\"a40c4a7d-9e97-4c8b-b9db-c10d29db8851\":{\"roots\":{\"references\":[{\"attributes\":{\"below\":[{\"id\":\"e58e778b-cb50-44b3-bc04-237e95c85c42\",\"type\":\"LogAxis\"}],\"left\":[{\"id\":\"89d75c94-2645-4b92-a7f5-1ef70dd50fa2\",\"type\":\"LinearAxis\"}],\"plot_height\":200,\"renderers\":[{\"id\":\"e58e778b-cb50-44b3-bc04-237e95c85c42\",\"type\":\"LogAxis\"},{\"id\":\"01487263-cf6d-498b-b20b-1741dad18a74\",\"type\":\"Grid\"},{\"id\":\"89d75c94-2645-4b92-a7f5-1ef70dd50fa2\",\"type\":\"LinearAxis\"},{\"id\":\"bce5f33a-a213-4e83-9b0c-3baf4d931093\",\"type\":\"Grid\"},{\"id\":\"8a689149-a7fb-4fb6-b71b-07d6a3973c7c\",\"type\":\"Legend\"},{\"id\":\"cee9df4f-7738-4811-a0cf-b4a5d78e83f4\",\"type\":\"GlyphRenderer\"}],\"right\":[{\"id\":\"8a689149-a7fb-4fb6-b71b-07d6a3973c7c\",\"type\":\"Legend\"}],\"title\":{\"id\":\"ab57a5c9-2e2f-40bb-9caf-5375a6529d8f\",\"type\":\"Title\"},\"toolbar\":{\"id\":\"92a994a2-90e0-4f06-85d4-7e7bbcd7062a\",\"type\":\"Toolbar\"},\"toolbar_location\":\"above\",\"x_range\":{\"id\":\"d07021b7-23ef-4a89-b6a5-79b8f452f5f7\",\"type\":\"Range1d\"},\"x_scale\":{\"id\":\"9c097984-711c-46c0-a99b-d4a17c23c07b\",\"type\":\"LogScale\"},\"y_range\":{\"id\":\"5d5cf763-0112-4271-b27e-45f33f839e31\",\"type\":\"Range1d\"},\"y_scale\":{\"id\":\"b3517639-f080-48a0-8da4-6a76ac03154e\",\"type\":\"LinearScale\"}},\"id\":\"f9120eef-aa94-42d4-9e22-630dde54f0dd\",\"subtype\":\"Figure\",\"type\":\"Plot\"},{\"attributes\":{\"ticker\":null},\"id\":\"1c45dd36-7f4d-4255-93f0-b581cc79b2af\",\"type\":\"LogTickFormatter\"},{\"attributes\":{\"data_source\":{\"id\":\"df9822f2-eda2-4c3a-928f-b0b8a71893d3\",\"type\":\"ColumnDataSource\"},\"glyph\":{\"id\":\"e8a80c91-a435-4ab0-824f-cf0d6befdb5c\",\"type\":\"Circle\"},\"hover_glyph\":null,\"muted_glyph\":null,\"nonselection_glyph\":{\"id\":\"662655c8-d641-43eb-a606-ed0b2d128f0a\",\"type\":\"Circle\"},\"selection_glyph\":null,\"view\":{\"id\":\"b1a1fdab-a109-454e-9405-a7971977fed3\",\"type\":\"CDSView\"}},\"id\":\"cee9df4f-7738-4811-a0cf-b4a5d78e83f4\",\"type\":\"GlyphRenderer\"},{\"attributes\":{\"source\":{\"id\":\"df9822f2-eda2-4c3a-928f-b0b8a71893d3\",\"type\":\"ColumnDataSource\"}},\"id\":\"b1a1fdab-a109-454e-9405-a7971977fed3\",\"type\":\"CDSView\"},{\"attributes\":{},\"id\":\"d8b76cab-db00-4cbd-9233-eccfd8b407b4\",\"type\":\"BasicTickFormatter\"},{\"attributes\":{\"label\":{\"field\":\"region\"},\"renderers\":[{\"id\":\"cee9df4f-7738-4811-a0cf-b4a5d78e83f4\",\"type\":\"GlyphRenderer\"}]},\"id\":\"7b664537-fb2c-433b-a17e-336c511871de\",\"type\":\"LegendItem\"},{\"attributes\":{\"data\":null,\"x\":[1548,1376048943],\"y\":[5,50]},\"id\":\"239ab5d9-f6e1-445f-aefb-9600d46b6ad1\",\"type\":\"LinearInterpolator\"},{\"attributes\":{},\"id\":\"b28bf225-9fc5-4f77-be87-d053607b37b0\",\"type\":\"Selection\"},{\"attributes\":{\"callback\":null,\"renderers\":\"auto\",\"show_arrow\":false,\"tooltips\":\"@country\"},\"id\":\"3f1c8ea9-a54f-4e1c-bfc2-e12919348e6b\",\"type\":\"HoverTool\"},{\"attributes\":{},\"id\":\"f7d45cd1-8d7e-4dba-8e62-e178db3f7ff7\",\"type\":\"UnionRenderers\"},{\"attributes\":{\"factors\":[\"South Asia\",\"Europe & Central Asia\",\"Middle East & North Africa\",\"Sub-Saharan Africa\",\"America\",\"East Asia & Pacific\"],\"palette\":[\"#3288bd\",\"#99d594\",\"#e6f598\",\"#fee08b\",\"#fc8d59\",\"#d53e4f\"]},\"id\":\"08139515-0165-4842-b62e-b61ba2209534\",\"type\":\"CategoricalColorMapper\"},{\"attributes\":{\"plot\":null,\"text\":\"2010\"},\"id\":\"ab57a5c9-2e2f-40bb-9caf-5375a6529d8f\",\"type\":\"Title\"},{\"attributes\":{\"callback\":null,\"end\":100000,\"start\":100},\"id\":\"d07021b7-23ef-4a89-b6a5-79b8f452f5f7\",\"type\":\"Range1d\"},{\"attributes\":{\"border_line_color\":{\"value\":null},\"items\":[{\"id\":\"7b664537-fb2c-433b-a17e-336c511871de\",\"type\":\"LegendItem\"}],\"location\":[10,-10],\"plot\":{\"id\":\"f9120eef-aa94-42d4-9e22-630dde54f0dd\",\"subtype\":\"Figure\",\"type\":\"Plot\"}},\"id\":\"8a689149-a7fb-4fb6-b71b-07d6a3973c7c\",\"type\":\"Legend\"},{\"attributes\":{},\"id\":\"9c097984-711c-46c0-a99b-d4a17c23c07b\",\"type\":\"LogScale\"},{\"attributes\":{\"callback\":null,\"end\":100},\"id\":\"5d5cf763-0112-4271-b27e-45f33f839e31\",\"type\":\"Range1d\"},{\"attributes\":{},\"id\":\"b3517639-f080-48a0-8da4-6a76ac03154e\",\"type\":\"LinearScale\"},{\"attributes\":{\"plot\":{\"id\":\"f9120eef-aa94-42d4-9e22-630dde54f0dd\",\"subtype\":\"Figure\",\"type\":\"Plot\"},\"ticker\":{\"id\":\"b8e06c0c-5d91-436b-a73a-8233c1932ae3\",\"type\":\"LogTicker\"}},\"id\":\"01487263-cf6d-498b-b20b-1741dad18a74\",\"type\":\"Grid\"},{\"attributes\":{\"formatter\":{\"id\":\"1c45dd36-7f4d-4255-93f0-b581cc79b2af\",\"type\":\"LogTickFormatter\"},\"plot\":{\"id\":\"f9120eef-aa94-42d4-9e22-630dde54f0dd\",\"subtype\":\"Figure\",\"type\":\"Plot\"},\"ticker\":{\"id\":\"b8e06c0c-5d91-436b-a73a-8233c1932ae3\",\"type\":\"LogTicker\"}},\"id\":\"e58e778b-cb50-44b3-bc04-237e95c85c42\",\"type\":\"LogAxis\"},{\"attributes\":{\"num_minor_ticks\":10},\"id\":\"b8e06c0c-5d91-436b-a73a-8233c1932ae3\",\"type\":\"LogTicker\"},{\"attributes\":{\"formatter\":{\"id\":\"d8b76cab-db00-4cbd-9233-eccfd8b407b4\",\"type\":\"BasicTickFormatter\"},\"plot\":{\"id\":\"f9120eef-aa94-42d4-9e22-630dde54f0dd\",\"subtype\":\"Figure\",\"type\":\"Plot\"},\"ticker\":{\"id\":\"2434c7ab-55d2-47ef-aa40-387db136c5a8\",\"type\":\"BasicTicker\"}},\"id\":\"89d75c94-2645-4b92-a7f5-1ef70dd50fa2\",\"type\":\"LinearAxis\"},{\"attributes\":{},\"id\":\"2434c7ab-55d2-47ef-aa40-387db136c5a8\",\"type\":\"BasicTicker\"},{\"attributes\":{\"dimension\":1,\"plot\":{\"id\":\"f9120eef-aa94-42d4-9e22-630dde54f0dd\",\"subtype\":\"Figure\",\"type\":\"Plot\"},\"ticker\":{\"id\":\"2434c7ab-55d2-47ef-aa40-387db136c5a8\",\"type\":\"BasicTicker\"}},\"id\":\"bce5f33a-a213-4e83-9b0c-3baf4d931093\",\"type\":\"Grid\"},{\"attributes\":{\"fill_alpha\":{\"value\":0.1},\"fill_color\":{\"value\":\"#1f77b4\"},\"line_alpha\":{\"value\":0.1},\"line_color\":{\"value\":\"#1f77b4\"},\"size\":{\"field\":\"population\",\"transform\":{\"id\":\"239ab5d9-f6e1-445f-aefb-9600d46b6ad1\",\"type\":\"LinearInterpolator\"},\"units\":\"screen\"},\"x\":{\"field\":\"x\"},\"y\":{\"field\":\"y\"}},\"id\":\"662655c8-d641-43eb-a606-ed0b2d128f0a\",\"type\":\"Circle\"},{\"attributes\":{\"active_drag\":\"auto\",\"active_inspect\":\"auto\",\"active_multi\":null,\"active_scroll\":\"auto\",\"active_tap\":\"auto\",\"tools\":[{\"id\":\"3f1c8ea9-a54f-4e1c-bfc2-e12919348e6b\",\"type\":\"HoverTool\"}]},\"id\":\"92a994a2-90e0-4f06-85d4-7e7bbcd7062a\",\"type\":\"Toolbar\"},{\"attributes\":{\"callback\":null,\"data\":{\"country\":[\"Afghanistan\",\"Albania\",\"Algeria\",\"Angola\",\"Antigua and Barbuda\",\"Argentina\",\"Armenia\",\"Aruba\",\"Australia\",\"Austria\",\"Azerbaijan\",\"Bahamas\",\"Bahrain\",\"Bangladesh\",\"Barbados\",\"Belarus\",\"Belgium\",\"Belize\",\"Benin\",\"Bhutan\",\"Bolivia\",\"Bosnia and Herzegovina\",\"Botswana\",\"Brazil\",\"Brunei\",\"Bulgaria\",\"Burkina Faso\",\"Burundi\",\"Cambodia\",\"Cameroon\",\"Canada\",\"Cape Verde\",\"Chad\",\"Chile\",\"China\",\"Colombia\",\"Comoros\",\"Congo, Dem. Rep.\",\"Congo, Rep.\",\"Costa Rica\",\"Cote d'Ivoire\",\"Croatia\",\"Cuba\",\"Cyprus\",\"Denmark\",\"Djibouti\",\"Ecuador\",\"Egypt\",\"El Salvador\",\"Equatorial Guinea\",\"Eritrea\",\"Estonia\",\"Ethiopia\",\"Fiji\",\"Finland\",\"France\",\"French Guiana\",\"French Polynesia\",\"Gabon\",\"Gambia\",\"Georgia\",\"Germany\",\"Ghana\",\"Greece\",\"Greenland\",\"Grenada\",\"Guadeloupe\",\"Guam\",\"Guatemala\",\"Guinea\",\"Guinea-Bissau\",\"Guyana\",\"Haiti\",\"Honduras\",\"Hong Kong, China\",\"Hungary\",\"Iceland\",\"India\",\"Indonesia\",\"Iran\",\"Iraq\",\"Ireland\",\"Israel\",\"Italy\",\"Jamaica\",\"Japan\",\"Jordan\",\"Kazakhstan\",\"Kenya\",\"Kiribati\",\"Kuwait\",\"Latvia\",\"Lebanon\",\"Lesotho\",\"Liberia\",\"Libya\",\"Lithuania\",\"Luxembourg\",\"Macao, China\",\"Macedonia, FYR\",\"Madagascar\",\"Malawi\",\"Malaysia\",\"Maldives\",\"Mali\",\"Malta\",\"Martinique\",\"Mauritania\",\"Mauritius\",\"Mayotte\",\"Mexico\",\"Micronesia, Fed. Sts.\",\"Moldova\",\"Mongolia\",\"Montenegro\",\"Morocco\",\"Mozambique\",\"Myanmar\",\"Namibia\",\"Nepal\",\"Netherlands\",\"Netherlands Antilles\",\"New Caledonia\",\"New Zealand\",\"Nicaragua\",\"Niger\",\"Nigeria\",\"Norway\",\"Oman\",\"Pakistan\",\"Panama\",\"Papua New Guinea\",\"Paraguay\",\"Peru\",\"Philippines\",\"Poland\",\"Portugal\",\"Puerto Rico\",\"Qatar\",\"Reunion\",\"Romania\",\"Russia\",\"Rwanda\",\"Samoa\",\"Sao Tome and Principe\",\"Saudi Arabia\",\"Senegal\",\"Serbia\",\"Seychelles\",\"Sierra Leone\",\"Singapore\",\"Slovak Republic\",\"Slovenia\",\"Solomon Islands\",\"Somalia\",\"South Africa\",\"South Sudan\",\"Spain\",\"Sri Lanka\",\"Sudan\",\"Suriname\",\"Swaziland\",\"Sweden\",\"Switzerland\",\"Syria\",\"Taiwan\",\"Tajikistan\",\"Tanzania\",\"Thailand\",\"Timor-Leste\",\"Togo\",\"Tonga\",\"Trinidad and Tobago\",\"Tunisia\",\"Turkey\",\"Turkmenistan\",\"Uganda\",\"Ukraine\",\"United Arab Emirates\",\"United Kingdom\",\"United States\",\"Uruguay\",\"Uzbekistan\",\"Vanuatu\",\"Venezuela\",\"Vietnam\",\"Virgin Islands (U.S.)\",\"West Bank and Gaza\",\"Western Sahara\",\"Zambia\",\"Zimbabwe\"],\"population\":{\"__ndarray__\":\"AAAAAAAA+H8AAAAAAAD4fwAAAAAAAPh/AAAAAAAA+H8AAAAAAAD4fwAAAAAAAPh/AAAAAAAA+H8AAAAAAAD4fwAAAAAAAPh/AAAAAAAA+H8AAAAAAAD4fwAAAAAAAPh/AAAAAAAA+H8AAAAAAAD4fwAAAAAAAPh/AAAAAAAA+H8AAAAAAAD4fwAAAAAAAPh/AAAAAAAA+H8AAAAAAAD4fwAAAAAAAPh/AAAAAAAA+H8AAAAAAAD4fwAAAAAAAPh/AAAAAAAA+H8AAAAAAAD4fwAAAAAAAPh/AAAAAAAA+H8AAAAAAAD4fwAAAAAAAPh/AAAAAAAA+H8AAAAAAAD4fwAAAAAAAPh/AAAAAAAA+H8AAAAAAAD4fwAAAAAAAPh/AAAAAAAA+H8AAAAAAAD4fwAAAAAAAPh/AAAAAAAA+H8AAAAAAAD4fwAAAAAAAPh/AAAAAAAA+H8AAAAAAAD4fwAAAAAAAPh/AAAAAAAA+H8AAAAAAAD4fwAAAAAAAPh/AAAAAAAA+H8AAAAAAAD4fwAAAAAAAPh/AAAAAAAA+H8AAAAAAAD4fwAAAAAAAPh/AAAAAAAA+H8AAAAAAAD4fwAAAAAAAPh/AAAAAAAA+H8AAAAAAAD4fwAAAAAAAPh/AAAAAAAA+H8AAAAAAAD4fwAAAAAAAPh/AAAAAAAA+H8AAAAAAAD4fwAAAAAAAPh/AAAAAAAA+H8AAAAAAAD4fwAAAAAAAPh/AAAAAAAA+H8AAAAAAAD4fwAAAAAAAPh/AAAAAAAA+H8AAAAAAAD4fwAAAAAAAPh/AAAAAAAA+H8AAAAAAAD4fwAAAAAAAPh/AAAAAAAA+H8AAAAAAAD4fwAAAAAAAPh/AAAAAAAA+H8AAAAAAAD4fwAAAAAAAPh/AAAAAAAA+H8AAAAAAAD4fwAAAAAAAPh/AAAAAAAA+H8AAAAAAAD4fwAAAAAAAPh/AAAAAAAA+H8AAAAAAAD4fwAAAAAAAPh/AAAAAAAA+H8AAAAAAAD4fwAAAAAAAPh/AAAAAAAA+H8AAAAAAAD4fwAAAAAAAPh/AAAAAAAA+H8AAAAAAAD4fwAAAAAAAPh/AAAAAAAA+H8AAAAAAAD4fwAAAAAAAPh/AAAAAAAA+H8AAAAAAAD4fwAAAAAAAPh/AAAAAAAA+H8AAAAAAAD4fwAAAAAAAPh/AAAAAAAA+H8AAAAAAAD4fwAAAAAAAPh/AAAAAAAA+H8AAAAAAAD4fwAAAAAAAPh/AAAAAAAA+H8AAAAAAAD4fwAAAAAAAPh/AAAAAAAA+H8AAAAAAAD4fwAAAAAAAPh/AAAAAAAA+H8AAAAAAAD4fwAAAAAAAPh/AAAAAAAA+H8AAAAAAAD4fwAAAAAAAPh/AAAAAAAA+H8AAAAAAAD4fwAAAAAAAPh/AAAAAAAA+H8AAAAAAAD4fwAAAAAAAPh/AAAAAAAA+H8AAAAAAAD4fwAAAAAAAPh/AAAAAAAA+H8AAAAAAAD4fwAAAAAAAPh/AAAAAAAA+H8AAAAAAAD4fwAAAAAAAPh/AAAAAAAA+H8AAAAAAAD4fwAAAAAAAPh/AAAAAAAA+H8AAAAAAAD4fwAAAAAAAPh/AAAAAAAA+H8AAAAAAAD4fwAAAAAAAPh/AAAAAAAA+H8AAAAAAAD4fwAAAAAAAPh/AAAAAAAA+H8AAAAAAAD4fwAAAAAAAPh/AAAAAAAA+H8AAAAAAAD4fwAAAAAAAPh/AAAAAAAA+H8AAAAAAAD4fwAAAAAAAPh/AAAAAAAA+H8AAAAAAAD4fwAAAAAAAPh/AAAAAAAA+H8AAAAAAAD4fwAAAAAAAPh/AAAAAAAA+H8AAAAAAAD4fwAAAAAAAPh/AAAAAAAA+H8AAAAAAAD4fwAAAAAAAPh/AAAAAAAA+H8AAAAAAAD4fwAAAAAAAPh/AAAAAAAA+H8AAAAAAAD4fwAAAAAAAPh/AAAAAAAA+H8AAAAAAAD4fwAAAAAAAPh/AAAAAAAA+H8AAAAAAAD4fwAAAAAAAPh/AAAAAAAA+H8AAAAAAAD4fw==\",\"dtype\":\"float64\",\"shape\":[191]},\"region\":[\"South Asia\",\"Europe & Central Asia\",\"Middle East & North Africa\",\"Sub-Saharan Africa\",\"America\",\"America\",\"Europe & Central Asia\",\"America\",\"East Asia & Pacific\",\"Europe & Central Asia\",\"Europe & Central Asia\",\"America\",\"Middle East & North Africa\",\"South Asia\",\"America\",\"Europe & Central Asia\",\"Europe & Central Asia\",\"America\",\"Sub-Saharan Africa\",\"South Asia\",\"America\",\"Europe & Central Asia\",\"Sub-Saharan Africa\",\"America\",\"East Asia & Pacific\",\"Europe & Central Asia\",\"Sub-Saharan Africa\",\"Sub-Saharan Africa\",\"East Asia & Pacific\",\"Sub-Saharan Africa\",\"America\",\"Sub-Saharan Africa\",\"Sub-Saharan Africa\",\"America\",\"East Asia & Pacific\",\"America\",\"Sub-Saharan Africa\",\"Sub-Saharan Africa\",\"Sub-Saharan Africa\",\"America\",\"Sub-Saharan Africa\",\"Europe & Central Asia\",\"America\",\"Europe & Central Asia\",\"Europe & Central Asia\",\"Middle East & North Africa\",\"America\",\"Middle East & North Africa\",\"America\",\"Sub-Saharan Africa\",\"Sub-Saharan Africa\",\"Europe & Central Asia\",\"Sub-Saharan Africa\",\"East Asia & Pacific\",\"Europe & Central Asia\",\"Europe & Central Asia\",\"America\",\"East Asia & Pacific\",\"Sub-Saharan Africa\",\"Sub-Saharan Africa\",\"Europe & Central Asia\",\"Europe & Central Asia\",\"Sub-Saharan Africa\",\"Europe & Central Asia\",\"Europe & Central Asia\",\"America\",\"America\",\"East Asia & Pacific\",\"America\",\"Sub-Saharan Africa\",\"Sub-Saharan Africa\",\"America\",\"America\",\"America\",\"East Asia & Pacific\",\"Europe & Central Asia\",\"Europe & Central Asia\",\"South Asia\",\"East Asia & Pacific\",\"Middle East & North Africa\",\"Middle East & North Africa\",\"Europe & Central Asia\",\"Middle East & North Africa\",\"Europe & Central Asia\",\"America\",\"East Asia & Pacific\",\"Middle East & North Africa\",\"Europe & Central Asia\",\"Sub-Saharan Africa\",\"East Asia & Pacific\",\"Middle East & North Africa\",\"Europe & Central Asia\",\"Middle East & North Africa\",\"Sub-Saharan Africa\",\"Sub-Saharan Africa\",\"Middle East & North Africa\",\"Europe & Central Asia\",\"Europe & Central Asia\",\"East Asia & Pacific\",\"Europe & Central Asia\",\"Sub-Saharan Africa\",\"Sub-Saharan Africa\",\"East Asia & Pacific\",\"South Asia\",\"Sub-Saharan Africa\",\"Europe & Central Asia\",\"America\",\"Sub-Saharan Africa\",\"Sub-Saharan Africa\",\"Sub-Saharan Africa\",\"America\",\"East Asia & Pacific\",\"Europe & Central Asia\",\"East Asia & Pacific\",\"Europe & Central Asia\",\"Middle East & North Africa\",\"Sub-Saharan Africa\",\"East Asia & Pacific\",\"Sub-Saharan Africa\",\"South Asia\",\"Europe & Central Asia\",\"America\",\"East Asia & Pacific\",\"East Asia & Pacific\",\"America\",\"Sub-Saharan Africa\",\"Sub-Saharan Africa\",\"Europe & Central Asia\",\"Middle East & North Africa\",\"South Asia\",\"America\",\"East Asia & Pacific\",\"America\",\"America\",\"East Asia & Pacific\",\"Europe & Central Asia\",\"Europe & Central Asia\",\"America\",\"Middle East & North Africa\",\"Sub-Saharan Africa\",\"Europe & Central Asia\",\"Europe & Central Asia\",\"Sub-Saharan Africa\",\"East Asia & Pacific\",\"Sub-Saharan Africa\",\"Middle East & North Africa\",\"Sub-Saharan Africa\",\"Europe & Central Asia\",\"Sub-Saharan Africa\",\"Sub-Saharan Africa\",\"East Asia & Pacific\",\"Europe & Central Asia\",\"Europe & Central Asia\",\"East Asia & Pacific\",\"Sub-Saharan Africa\",\"Sub-Saharan Africa\",\"Sub-Saharan Africa\",\"Europe & Central Asia\",\"South Asia\",\"Sub-Saharan Africa\",\"America\",\"Sub-Saharan Africa\",\"Europe & Central Asia\",\"Europe & Central Asia\",\"Middle East & North Africa\",\"East Asia & Pacific\",\"Europe & Central Asia\",\"Sub-Saharan Africa\",\"East Asia & Pacific\",\"East Asia & Pacific\",\"Sub-Saharan Africa\",\"East Asia & Pacific\",\"America\",\"Middle East & North Africa\",\"Europe & Central Asia\",\"Europe & Central Asia\",\"Sub-Saharan Africa\",\"Europe & Central Asia\",\"Middle East & North Africa\",\"Europe & Central Asia\",\"America\",\"America\",\"Europe & Central Asia\",\"East Asia & Pacific\",\"America\",\"East Asia & Pacific\",\"America\",\"Middle East & North Africa\",\"Middle East & North Africa\",\"Sub-Saharan Africa\",\"Sub-Saharan Africa\"],\"x\":{\"__ndarray__\":\"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\",\"dtype\":\"float64\",\"shape\":[191]},\"y\":{\"__ndarray__\":\"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\",\"dtype\":\"float64\",\"shape\":[191]}},\"selected\":{\"id\":\"b28bf225-9fc5-4f77-be87-d053607b37b0\",\"type\":\"Selection\"},\"selection_policy\":{\"id\":\"f7d45cd1-8d7e-4dba-8e62-e178db3f7ff7\",\"type\":\"UnionRenderers\"}},\"id\":\"df9822f2-eda2-4c3a-928f-b0b8a71893d3\",\"type\":\"ColumnDataSource\"},{\"attributes\":{\"fill_alpha\":{\"value\":0.6},\"fill_color\":{\"field\":\"region\",\"transform\":{\"id\":\"08139515-0165-4842-b62e-b61ba2209534\",\"type\":\"CategoricalColorMapper\"}},\"line_alpha\":{\"value\":0.6},\"line_color\":{\"field\":\"region\",\"transform\":{\"id\":\"08139515-0165-4842-b62e-b61ba2209534\",\"type\":\"CategoricalColorMapper\"}},\"size\":{\"field\":\"population\",\"transform\":{\"id\":\"239ab5d9-f6e1-445f-aefb-9600d46b6ad1\",\"type\":\"LinearInterpolator\"},\"units\":\"screen\"},\"x\":{\"field\":\"x\"},\"y\":{\"field\":\"y\"}},\"id\":\"e8a80c91-a435-4ab0-824f-cf0d6befdb5c\",\"type\":\"Circle\"}],\"root_ids\":[\"f9120eef-aa94-42d4-9e22-630dde54f0dd\"]},\"title\":\"Bokeh Application\",\"version\":\"1.0.0dev8\"}};\n",
       "  var render_items = [{\"docid\":\"a40c4a7d-9e97-4c8b-b9db-c10d29db8851\",\"notebook_comms_target\":\"9a660651-ac70-4ccc-88a6-2db93cb840a8\",\"roots\":{\"f9120eef-aa94-42d4-9e22-630dde54f0dd\":\"3bf9ff4d-6488-4b1e-97e2-bfada517e799\"}}];\n",
       "  root.Bokeh.embed.embed_items_notebook(docs_json, render_items);\n",
       "\n",
       "  }\n",
       "  if (root.Bokeh !== undefined) {\n",
       "    embed_document(root);\n",
       "  } else {\n",
       "    var attempts = 0;\n",
       "    var timer = setInterval(function(root) {\n",
       "      if (root.Bokeh !== undefined) {\n",
       "        embed_document(root);\n",
       "        clearInterval(timer);\n",
       "      }\n",
       "      attempts++;\n",
       "      if (attempts > 100) {\n",
       "        console.log(\"Bokeh: ERROR: Unable to run BokehJS code because BokehJS library is missing\")\n",
       "        clearInterval(timer);\n",
       "      }\n",
       "    }, 10, root)\n",
       "  }\n",
       "})(window);"
      ],
      "application/vnd.bokehjs_exec.v0+json": ""
     },
     "metadata": {
      "application/vnd.bokehjs_exec.v0+json": {
       "id": "f9120eef-aa94-42d4-9e22-630dde54f0dd"
      }
     },
     "output_type": "display_data"
    }
   ],
   "source": [
    "from bokeh.models import LinearInterpolator\n",
    "from bokeh.models import CategoricalColorMapper\n",
    "from bokeh.palettes import Spectral6\n",
    "from ipywidgets import interact\n",
    "from bokeh.io import push_notebook\n",
    "\n",
    "def update(year): \n",
    "    new_data = dict(x=data.loc[year].income,\n",
    "                    y=data.loc[year].life,\n",
    "                    country=data.loc[year].Country,\n",
    "                    region=data.loc[year].region,\n",
    "                    population=data.loc[year].population)\n",
    "    source.data = new_data\n",
    "    #p.title.textbook = str(year)\n",
    "    push_notebook()# <--isso modifica o notebook\n",
    "\n",
    "size_mapper = LinearInterpolator(\n",
    "        x=[data.population.dropna().min().astype(int), data.population.dropna().max().astype(int)],\n",
    "        y=[5, 50])\n",
    "\n",
    "color_mapper = CategoricalColorMapper(\n",
    "        factors=list(data.region.unique()),\n",
    "        palette=Spectral6)\n",
    "\n",
    "PLOT_OPTS = dict(height=200, x_axis_type='log', x_range=(100, 100000), y_range=(0,100))\n",
    "p = figure(\n",
    "        title=str(2010),\n",
    "        toolbar_location='above',\n",
    "        tools=[HoverTool(tooltips='@country', show_arrow=False)], **PLOT_OPTS)\n",
    "\n",
    "p.circle (\n",
    "        x='x', y='y',\n",
    "        size={'field': 'population', 'transform': size_mapper},\n",
    "        color={'field': 'region', 'transform': color_mapper},\n",
    "        alpha=0.6,\n",
    "        legend='region',\n",
    "        source=source)\n",
    "p.legend.border_line_color=None\n",
    "p.legend.location = (10,-10)\n",
    "p.right.append(p.legend[0])\n",
    "\n",
    "show(p, notebook_handle=True);"
   ]
  },
  {
   "cell_type": "code",
   "execution_count": 58,
   "metadata": {},
   "outputs": [
    {
     "data": {
      "application/vnd.jupyter.widget-view+json": {
       "model_id": "bdec50e0b3db42a594ccebebd203ae95",
       "version_major": 2,
       "version_minor": 0
      },
      "text/plain": [
       "interactive(children=(IntSlider(value=1907, description='year', max=2014, min=1800), Output()), _dom_classes=(…"
      ]
     },
     "metadata": {},
     "output_type": "display_data"
    }
   ],
   "source": [
    "interact(update, year=(1800, 2014, 1));"
   ]
  },
  {
   "cell_type": "markdown",
   "metadata": {},
   "source": [
    "### Bokeh Server\n",
    "\n",
    "---\n",
    "\n",
    "    from bokeh.io import curdoc\n",
    "\n",
    "    curdoc().add)root(p)\n",
    "    \n",
    "---\n",
    "    \n",
    "    from bokeh.models import Slider\n",
    "    \n",
    "    def update(attr, old, new)\n",
    "        \n",
    "    \n",
    "    slider = Slider (start=1800, end=2010, step=1, title=Year)\n",
    "    slider.on_change('value', update)\n",
    "    \n",
    "    from bokeh.layouts import column\n",
    "    \n",
    "    layout = column(p, slider)\n",
    "    \n",
    "    curdoc().add_root(layout)\n",
    "    "
   ]
  },
  {
   "cell_type": "markdown",
   "metadata": {},
   "source": [
    "## Bokeh Widgets [aqui](https://www.youtube.com/watch?v=GkysOB8_xsE)\n",
    "\n",
    "---\n",
    "\n",
    "Continuum Analytics"
   ]
  }
 ],
 "metadata": {
  "kernelspec": {
   "display_name": "Python 3",
   "language": "python",
   "name": "python3"
  },
  "language_info": {
   "codemirror_mode": {
    "name": "ipython",
    "version": 3
   },
   "file_extension": ".py",
   "mimetype": "text/x-python",
   "name": "python",
   "nbconvert_exporter": "python",
   "pygments_lexer": "ipython3",
   "version": "3.6.7"
  }
 },
 "nbformat": 4,
 "nbformat_minor": 2
}
