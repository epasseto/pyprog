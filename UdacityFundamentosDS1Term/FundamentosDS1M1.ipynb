{
 "cells": [
  {
   "cell_type": "markdown",
   "metadata": {},
   "source": [
    "# Introdução em Data Science I\n",
    "<br>\n",
    "\n",
    "## Módulo I - Programação estruturada em Python"
   ]
  },
  {
   "cell_type": "markdown",
   "metadata": {},
   "source": [
    "### Funções\n",
    "<br>\n",
    "\n",
    "**csv**: muito conveniente para ler e gravar arquivos csv\n",
    "<br>\n",
    "\n",
    "**collections**: extensões úteis dos tipos comuns de dados, incluindo OrderedDict, defaultdict e namedtuple\n",
    "<br>\n",
    "\n",
    "**random**: gera números pseudoaleatórios, mistura sequências aleatoriamente e seleciona itens de maneira aleatória\n",
    "<br>\n",
    "\n",
    "**string**: mais funções para strings. Este módulo também contém coleções úteis de letras como string.digits (uma string que contém todos os caracteres que são dígitos válidos).\n",
    "<br>\n",
    "\n",
    "**re**: correspondência de padrões em strings através de expressões regulares\n",
    "<br>\n",
    "\n",
    "**math**: algumas funções matemáticas padrão\n",
    "<br>\n",
    "\n",
    "**os**: interagindo com sistemas operacionais\n",
    "<br>\n",
    "\n",
    "**os.path**: submódulo de os para alterar o nome de caminhos\n",
    "<br>\n",
    "\n",
    "**sys**: trabalha diretamente com o interpretador do Python\n",
    "<br>\n",
    "\n",
    "**json**: bom para ler e escrever arquivos json (bom para trabalhos na web)\n",
    "<br>"
   ]
  },
  {
   "cell_type": "markdown",
   "metadata": {},
   "source": [
    "### Comandos úteis\n",
    "\n",
    "Para importar uma função individual ou a uma classe de um módulo:\n",
    "<br>\n",
    "\n",
    "    from module_name import object_name\n",
    "\n",
    "Para importar múltiplos objetos individuais de um módulo:\n",
    "<br>\n",
    "\n",
    "    from module_name import first_object, second_object\n",
    "\n",
    "Para renomear um módulo:\n",
    "<br>\n",
    "\n",
    "    import module_name as new_name\n",
    "\n",
    "Para importar um objeto de um módulo e renomeá-lo:\n",
    "<br>\n",
    "\n",
    "    from module_name import object_name as new_name\n",
    "\n",
    "Para importar cada objeto individualmente de um módulo (NÃO FAÇA ISSO):\n",
    "<br>\n",
    "\n",
    "    from module_name import *\n",
    "\n",
    "*Se você realmente quiser usar todos os objetos de um módulo, use a declaração de importação padrão module_name e acesse cada um dos objetos com a notação de ponto.*\n",
    "\n",
    "*Se tiver dúvida, google por Stack Overflow, ou pela documentação do Python!*"
   ]
  },
  {
   "cell_type": "markdown",
   "metadata": {},
   "source": [
    "### Módulos, pacotes e nomes\n",
    "<br>\n",
    "\n",
    "Para gerenciar melhor o código, os módulos da biblioteca padrão do Python estão divididos em **submódulos** que estão contidos dentro de um pacote.\n",
    "<br>\n",
    "\n",
    "Um **pacote** é simplesmente um módulo que contém submódulos. Um submódulo é especificado com a notação habitual de ponto. Um **pacote** permite você fazer novas coisas no seu projeto Python, como por exemplo, fazer cálculos estatísticos ou ler e gravar na sua estrutura de diretórios e arquivos.\n",
    "<br>\n",
    "\n",
    "Módulos que são submódulos são especificados pelo **nome do pacote** seguido pelo **nome do submódulo** separados por um ponto. Tudo isso para dizer que estamos importando funções, já escritas e testadas, e que são chamadas de métodos. Elas têm uma forma mais ou menos assim *.median()*. Elas são acrescentadas logo depois do objeto que queremos modificar. O espaço entre parênteses serve para colocar **parâmetros**, que podem ser **obrigatórios** ou **opcionais**, se eles existirem. O conjunto completo desses parâmetros pode ser consultado na [documentação](https://docs.python.org/3/tutorial/modules.html) do Python.\n",
    "<br>\n",
    "\n",
    "Há muitos exemplos pela Internet de uso de métodos no Python. É sempre bom conferir o [Stack Overflow](https://stackoverflow.com/).\n",
    "\n",
    "Você pode importar um **submódulo** assim.\n",
    "<br>\n",
    "\n",
    "    import package_name.submodule_name\n",
    "\n",
    "pacotes de **terceiros**:\n",
    "<br>\n",
    "\n",
    "    pip install pytz\n",
    "    \n",
    "*pip é um instalador de pacotes, muito usado em Linux e tornado compatível com Windows e MAC OS. Ele foi incorporado ao projeto Python e é o mais [recomendado](https://packaging.python.org/guides/tool-recommendations/) instalador oficial de pacotes.*\n",
    "<br>\n",
    "\n",
    "    requirements.txt\n",
    "    beautifulsoup4==4.5.1\n",
    "    bs4==0.0.1\n",
    "    pytz==2016.7\n",
    "    requests==2.11.1\n",
    "\n",
    "para instalar **requirements**:\n",
    "<br>    \n",
    "\n",
    "    pip install -r requirements.txt\n",
    "    \n",
    "*requirements são outros pacotes necessários para um determinado programa funcionar. Por exemplo, alguns \"sites\" precisam do Java instalado para funcionarem!*"
   ]
  },
  {
   "cell_type": "markdown",
   "metadata": {},
   "source": [
    "### Bibliotecas muito usadas de terceiros:\n",
    "<br>\n",
    "\n",
    "**Python** - um interpretador interativo do Python.\n",
    "<br>\n",
    "\n",
    "**Requests** - fornece métodos fáceis de usar para fazer solicitações na web. Útil para acessar APIs da web.\n",
    "<br>\n",
    "\n",
    "**Flask** - uma estrutura leve para fazer aplicações web e APIs.\n",
    "<br>\n",
    "\n",
    "**Django** - uma estrutura mais recheada de recursos para criar aplicações web. O Django é particularmente bom para projetar aplicações web complexas e com muito conteúdo.\n",
    "<br>\n",
    "\n",
    "**Beautiful Soup** - usado para analisar HTML e extrair informações a partir daí. Ótimo para web scraping.\n",
    "<br>\n",
    "\n",
    "**pytest** - estende os módulos de assertivas internas e testes de unidade (unittest) do Python.\n",
    "<br>\n",
    "\n",
    "**PyYAML** - para ler e gravar arquivos YAML.\n",
    "<br>\n",
    "\n",
    "**NumPy** - o pacote fundamental para a computação científica com Python. Ele contém, entre outras coisas, um poderoso objeto array N-dimensional e capacidades úteis para álgebra linear.\n",
    "<br>\n",
    "\n",
    "**pandas** - uma biblioteca contendo ferramentas de alto desempenho, para estruturas de dados e de análise de dados. O Pandas, em especial, fornece dataframes!\n",
    "<br>\n",
    "\n",
    "**matplotlib** - uma biblioteca de plotagem 2D que produz figuras com qualidade de publicação em uma variedade de formatos em papel e ambientes interativos.\n",
    "<br>\n",
    "\n",
    "**ggplot** - outra biblioteca de plotagem 2D, com base na biblioteca ggplot2 do software R.\n",
    "<br>\n",
    "\n",
    "**Pillow** - a biblioteca de imagens do Python adiciona capacidades de processamento de imagens a seu interpretador Python.\n",
    "<br>\n",
    "\n",
    "**pyglet** - uma estrutura de aplicação multiplataforma voltada ao desenvolvimento de jogos\n",
    "<br>\n",
    "\n",
    "**Pygame** - um conjunto de módulos Python projetados para escrever jogos.\n",
    "<br>\n",
    "\n",
    "**pytz** - definições de fuso horário do mundo para Python\n",
    "\n",
    "*eu incluiria nessa lista o **Turtle**, que é uma biblioteca gráfica inspirada no Lego Mindstorm para movimentar uma tartaruga na tela.*"
   ]
  },
  {
   "cell_type": "markdown",
   "metadata": {},
   "source": [
    "### ipython (no Anaconda):\n",
    "<br>\n",
    "\n",
    "possui conclusão de guia, realce de sintaxe...\n",
    "- ? para obter detalhes sobre um objeto;\n",
    "- ! para executar comandos shell do sistema\n",
    "\n",
    "[documentação](https://ipython.org/ipython-doc/3/interactive/reference.html#command-line-options)"
   ]
  },
  {
   "cell_type": "markdown",
   "metadata": {},
   "source": [
    "### Fontes seguras de consulta:\n",
    "<br>\n",
    "\n",
    "**The Python Tutorial** - Esta seção da documentação oficial pesquisa a sintaxe do Python e a biblioteca padrão. Ela usa exemplos e é escrita usando uma linguagem menos técnica do que a documentação principal. Certifique-se de que você está lendo a versão das documentações para o Python 3!\n",
    "<br>\n",
    "\n",
    "**The Python Language and Library References** - as referências de linguagem e de biblioteca são mais técnicas do que o tutorial, mas são as fontes definitivas de verdade. Conforme você se torna cada vez mais familiarizado com o Python, deve usar esses recursos cada vez mais.\n",
    "<br>\n",
    "\n",
    "**Documentação de bibliotecas de terceiros** - bibliotecas de terceiros publicam sua documentação em seus próprios sites e, muitas vezes, em https://readthedocs.org/. Você pode julgar a qualidade de uma biblioteca de terceiros pela qualidade de sua documentação. Se os desenvolvedores ainda não encontraram tempo para escrever boas documentações, eles provavelmente ainda não encontraram tempo para refinar sua biblioteca também.\n",
    "<br>\n",
    "\n",
    "**Sites e blogs de especialistas proeminentes** - os recursos anteriores são fontes primárias, significando que são documentações das mesmas pessoas que escreveram o código que está sendo documentado. Fontes primárias são as mais confiáveis. As fontes secundárias também são extremamente valiosas. A dificuldade com as fontes secundárias é determinar sua credibilidade. Sites de autores como Doug Hellmann e desenvolvedores como Eli Bendersky são excelentes. O blog de um autor desconhecido pode ser excelente ou um lixo.\n",
    "<br>\n",
    "\n",
    "**StackOverflow** - este site de perguntas e respostas tem uma boa quantidade de tráfego, então, é provável que alguém tenha feito (e alguém tenha respondido a) uma pergunta semelhante anteriormente! No entanto, as respostas são fornecidas por voluntários e variam em qualidade. Sempre entenda as soluções antes de implementá-las em seu programa. Respostas de apenas uma linha, sem qualquer explicação, são duvidosas. Este é um bom lugar para descobrir mais sobre sua dúvida ou encontrar termos de pesquisa alternativos.\n",
    "<br>\n",
    "\n",
    "**Monitoramento de bugs** - às vezes, você encontrará um problema tão raro, ou tão novo, que ninguém abordou ainda no StackOverflow. Por exemplo, você pode encontrar uma referência a seu erro em um relatório de bug no GitHub. Estes relatórios de bug podem ser úteis, mas você provavelmente vai ter que fazer algum trabalho original de engenharia para solucionar o problema.\n",
    "<br>\n",
    "\n",
    "**Fóruns aleatórios** - algumas vezes, sua pesquisa produz referências a fóruns que não estão ativos desde 2004, ou algum outro tempo tão antigo quanto. Caso estes sejam os únicos recursos que abordam seu problema, talvez você deva repensar como tem abordado a solução."
   ]
  },
  {
   "cell_type": "markdown",
   "metadata": {},
   "source": [
    "**Exemplo de uma função reaproveitável e com teste interno:**"
   ]
  },
  {
   "cell_type": "code",
   "execution_count": null,
   "metadata": {},
   "outputs": [],
   "source": [
    "### useful_functions.py\n",
    "def mean(num_list):\n",
    "    return sum(num_list) / len(num_list)\n",
    "\n",
    "def add_five(num_list):\n",
    "    return [n + 5 for n in num_list]\n",
    "\n",
    "def main():\n",
    "    print(\"Testing mean function\")\n",
    "    n_list = [34, 44, 23, 46, 12, 24]\n",
    "    correct_mean = 30.5\n",
    "    assert(mean(n_list) == correct_mean)\n",
    "\n",
    "    print(\"Testing add_five function\")\n",
    "    correct_list = [39, 49, 28, 51, 17, 29]\n",
    "    assert(add_five(n_list) == correct_list)\n",
    "\n",
    "    print(\"All tests passed!\")\n",
    "\n",
    "if __name__ == '__main__':\n",
    "    main()"
   ]
  },
  {
   "cell_type": "markdown",
   "metadata": {},
   "source": [
    "**Exemplo de abertura de arquivo externo:**"
   ]
  },
  {
   "cell_type": "code",
   "execution_count": null,
   "metadata": {},
   "outputs": [],
   "source": [
    "## round_table.txt\n",
    "We're the knights of the round table\n",
    "We dance whenever we're able"
   ]
  },
  {
   "cell_type": "code",
   "execution_count": null,
   "metadata": {},
   "outputs": [],
   "source": [
    "with open(\"camelot.txt\", \"r\") as song: #ou caminho inteiro: \"c:/pyprog/...\"\n",
    "    print(song.read(2))\n",
    "    print(song.read(8))\n",
    "    print(song.read())\n",
    "\n",
    "camelot_lines = []\n",
    "with open(\"camelot.txt\") as f:\n",
    "    for line in f:\n",
    "        camelot_lines.append(line.strip())\n",
    "\n",
    "print(camelot_lines)"
   ]
  },
  {
   "cell_type": "markdown",
   "metadata": {},
   "source": [
    "**Exemplo de função com try (para não travar):**"
   ]
  },
  {
   "cell_type": "code",
   "execution_count": null,
   "metadata": {},
   "outputs": [],
   "source": [
    "def create_groups(items, n): #Splits items into n groups of equal size, although the last one may be shorter.\n",
    "    try: # dermina o tamanho que cada grupo terá\n",
    "        size = len(items) // n  # um erro de exceção ZeroDivisionError pode ocorrer\n",
    "    except ZeroDivisionError as e:\n",
    "        print (\"um erro de divisão por zero ocorreu: {}\".format(e))\n",
    "        return []\n",
    "    else:\n",
    "        groups = [] # create each group and append to a new list\n",
    "        for i in range(0, len(items), size):\n",
    "            groups.append(items[i:i + size])\n",
    "        return groups\n",
    "    finally: #isso é acessado apenas em casos extremos (como o usuário digitar um [CTRL]+[Break])\n",
    "        print(\"{} groups returned.\".format(n)) # print the number of groups and return groups    \n",
    "\n",
    "print(\"Creating 6 groups...\")\n",
    "for group in create_groups(range(32), 6):\n",
    "    print(list(group))\n",
    "\n",
    "print(\"\\nCreating 0 groups...\")\n",
    "for group in create_groups(range(32), 0):\n",
    "    print(list(group))"
   ]
  },
  {
   "cell_type": "markdown",
   "metadata": {},
   "source": [
    "*Como nem sempre é fácil saber exatamente qual a exceção que o código causa...*\n",
    "<br>\n",
    "\n",
    "**Podemos desenvolver um código que ao dar o erro, nos retorna qual a exceção causada:** "
   ]
  },
  {
   "cell_type": "code",
   "execution_count": null,
   "metadata": {},
   "outputs": [],
   "source": [
    "print(\"Creating 6 groups...\")\n",
    "for group in create_groups(range(32), 6):\n",
    "    print(list(group))\n",
    "\n",
    "print(\"\\nCreating 0 groups...\")\n",
    "for group in create_groups(range(32), 0):\n",
    "    print(list(group))"
   ]
  },
  {
   "cell_type": "markdown",
   "metadata": {},
   "source": [
    "Creating 6 groups...\n",
    "<br>\n",
    "\n",
    "6 groups returned.\n",
    "<br>\n",
    "\n",
    "[0, 1, 2, 3, 4]\n",
    "[5, 6, 7, 8, 9]\n",
    "[10, 11, 12, 13, 14]\n",
    "[15, 16, 17, 18, 19]\n",
    "[20, 21, 22, 23, 24]\n",
    "[25, 26, 27, 28, 29]\n",
    "[30, 31]"
   ]
  },
  {
   "cell_type": "code",
   "execution_count": null,
   "metadata": {},
   "outputs": [],
   "source": [
    "try:\n",
    "    # some code\n",
    "except ZeroDivisionError as e:\n",
    "    # some code\n",
    "    print(\"ZeroDivisionError occurred: {}\".format(e))"
   ]
  },
  {
   "cell_type": "markdown",
   "metadata": {},
   "source": [
    "Isto iria exibir algo parecido com isto:\n",
    "<br>\n",
    "\n",
    "ZeroDivisionError occurred: integer division or modulo by zero\n",
    "<br>\n",
    "\n",
    "**Baseado nisso, eu depuro mais precisamente o tipo de erro, para tornar minha função mais apurada:**"
   ]
  },
  {
   "cell_type": "code",
   "execution_count": null,
   "metadata": {},
   "outputs": [],
   "source": [
    "try:\n",
    "    # some code\n",
    "except Exception as e:\n",
    "    # some code\n",
    "    print(\"Exception occurred: {}\".format(e))"
   ]
  },
  {
   "cell_type": "markdown",
   "metadata": {},
   "source": [
    "### Listas"
   ]
  },
  {
   "cell_type": "markdown",
   "metadata": {},
   "source": [
    "**len()** devolve quantos elementos existem em uma lista.\n",
    "<br>\n",
    "\n",
    "**max()** devolve o maior elemento da lista. A maneira como é determinado o maior elemento de uma lista depende de quais tipos de objetos estão presentes na lista. O elemento máximo em uma lista de números é o maior número. O elemento máximo de uma lista de strings é o elemento que ocorreria por último caso a lista estivesse em ordem alfabética. Isso funciona porque a função máximo é definida em termos do operador de comparação ‘maior do que’. A função máximo é indefinida para listas que contêm elementos de tipos diferentes, incomparáveis.\n",
    "<br>\n",
    "\n",
    "**min()** devolve o menor elemento em uma lista. Mínimo é o oposto de máximo e retorna o menor elemento de uma lista.\n",
    "<br>\n",
    "\n",
    "**sorted()** devolve uma cópia de uma lista, ordenada do menor para o maior, deixando a lista inalterada."
   ]
  },
  {
   "cell_type": "markdown",
   "metadata": {},
   "source": [
    "**Método join**\n",
    "<br>\n",
    "\n",
    "**Join** é um método de strings que recebe uma lista de strings como argumento e devolve uma string formada pelos elementos da lista unidos por um separador de strings."
   ]
  },
  {
   "cell_type": "code",
   "execution_count": null,
   "metadata": {},
   "outputs": [],
   "source": [
    "new_str = \"\\n\".join([\"fore\", \"aft\", \"starboard\", \"port\"])\n",
    "print(new_str)"
   ]
  },
  {
   "cell_type": "markdown",
   "metadata": {},
   "source": [
    "Neste exemplo, usamos a string \"\\n\" como separador para que haja uma nova linha entre cada elemento. Podemos também utilizar outras strings como separadores com .join. Aqui, usamos um hífen."
   ]
  },
  {
   "cell_type": "code",
   "execution_count": null,
   "metadata": {},
   "outputs": [],
   "source": [
    "name = \"-\".join([\"García\", \"O'Kelly\"])\n",
    "print(name)"
   ]
  },
  {
   "cell_type": "markdown",
   "metadata": {},
   "source": [
    "É importante lembrar de separar cada um dos itens da lista que você está unindo, usando uma vírgula (,). Esquecendo de fazer isso não vai provocar um erro, mas vai gerar resultados inesperados."
   ]
  },
  {
   "cell_type": "markdown",
   "metadata": {},
   "source": [
    "**Método append**\n",
    "<br>\n",
    "\n",
    "Um método útil chamado append adiciona um elemento ao final de uma lista."
   ]
  },
  {
   "cell_type": "code",
   "execution_count": null,
   "metadata": {},
   "outputs": [],
   "source": [
    "letters = ['a', 'b', 'c', 'd']\n",
    "letters.append('z')\n",
    "print(letters)"
   ]
  },
  {
   "cell_type": "markdown",
   "metadata": {},
   "source": [
    "### Dicionários"
   ]
  },
  {
   "cell_type": "code",
   "execution_count": null,
   "metadata": {},
   "outputs": [],
   "source": [
    "population = {'Shanghai': 17.8, 'Istanbul': 13.3, 'Karachi': 13.0, 'Mumbai': 12.5}\n",
    "\n",
    "elements = {'hydrogen': {'number': 1, 'weight': 1.00794, 'symbol': 'H'},\n",
    "            'helium': {'number': 2, 'weight': 4.002602, 'symbol': 'He'}}\n",
    "\n",
    "#adicionar elementos ao dicionário criado\n",
    "elements[\"hydrogen\"][\"is_noble_gas\"]= \"False\"\n",
    "elements[\"helium\"][\"is_noble_gas\"]= \"True\"\n",
    "\n",
    "#conferir uma entrada do dicionário\n",
    "print(elements[\"hydrogen\"][\"is_noble_gas\"])\n",
    "print(elements[\"helium\"][\"is_noble_gas\"])"
   ]
  },
  {
   "cell_type": "markdown",
   "metadata": {},
   "source": [
    "### Função .zip()"
   ]
  },
  {
   "cell_type": "code",
   "execution_count": null,
   "metadata": {},
   "outputs": [],
   "source": [
    "x_coord = [23, 53, 2, -12, 95, 103, 14, -5]\n",
    "y_coord = [677, 233, 405, 433, 905, 376, 432, 445]\n",
    "z_coord = [4, 16, -6, -42, 3, -6, 23, -1]\n",
    "labels = [\"F\", \"J\", \"A\", \"Q\", \"Y\", \"B\", \"W\", \"X\"]\n",
    "points = []\n",
    "element = (\"\",0,0,0)\n",
    "\n",
    "for point in zip(labels, x_coord, y_coord, z_coord):\n",
    "    #element = ((\"{0}: {1}, {2}, {3}\".format(*point))) #<-é uma string formatada!\n",
    "    element = (point[0]+\": \"+str(point[1])+\", \"+str(point[2])+\", \"+str(point[3]))\n",
    "    points.append(element)\n",
    "\n",
    "for point in points:\n",
    "    print(point)"
   ]
  },
  {
   "cell_type": "markdown",
   "metadata": {},
   "source": [
    "**Exemplo de saída formatada:**"
   ]
  },
  {
   "cell_type": "code",
   "execution_count": null,
   "metadata": {},
   "outputs": [],
   "source": [
    "x_coord = [23, 53, 2, -12, 95, 103, 14, -5]\n",
    "y_coord = [677, 233, 405, 433, 905, 376, 432, 445]\n",
    "z_coord = [4, 16, -6, -42, 3, -6, 23, -1]\n",
    "labels = [\"F\", \"J\", \"A\", \"Q\", \"Y\", \"B\", \"W\", \"X\"]\n",
    "points = []\n",
    "\n",
    "for point in zip(labels, x_coord, y_coord, z_coord):\n",
    "    points.append(\"{}: {}, {}, {}\".format(*point))\n",
    "\n",
    "for point in points:\n",
    "    print(point)"
   ]
  },
  {
   "cell_type": "markdown",
   "metadata": {},
   "source": [
    "### Compreensão de listas"
   ]
  },
  {
   "cell_type": "code",
   "execution_count": null,
   "metadata": {},
   "outputs": [],
   "source": [
    "names = [\"Rick Sanchez\", \"Morty Smith\", \"Summer Smith\", \"Jerry Smith\", \"Beth Smith\"]\n",
    "\n",
    "first_names = [name[:name.find(\" \")].lower() for name in names]\n",
    "print(first_names)"
   ]
  },
  {
   "cell_type": "markdown",
   "metadata": {},
   "source": [
    "Exemplo de função **lambda** com **else**\n",
    "\n",
    "Observe que a ordem do **if** muda para permitir a compressão do interpretador Python. Isso é uma razão técnica, mas para o programador, a sintaxe fica um tanto confusa:\n",
    "\n",
    "    result if condition else result"
   ]
  },
  {
   "cell_type": "code",
   "execution_count": null,
   "metadata": {},
   "outputs": [],
   "source": [
    "lambda x: True if x % 2 == 0 else False"
   ]
  },
  {
   "cell_type": "markdown",
   "metadata": {},
   "source": [
    "Temos basicamente uma função **lambda** embutida aqui, então a sintaxe fica a mesma:"
   ]
  },
  {
   "cell_type": "code",
   "execution_count": null,
   "metadata": {},
   "outputs": [],
   "source": [
    "[unicode(x.strip()) if x is not None else \"\" for x in row]"
   ]
  },
  {
   "cell_type": "markdown",
   "metadata": {},
   "source": [
    "Observe que aqui existe uma condição **elif**\n",
    "\n",
    "A função abaixo realiza a substituição de elementos numa tabela de chamadas telefônicas em ramais. Queremos trocar o código do fabricante por algo mais familiar, como se a ligação foi atendida, etc..\n",
    "\n",
    "Na função **clássica**:"
   ]
  },
  {
   "cell_type": "code",
   "execution_count": 10,
   "metadata": {},
   "outputs": [
    {
     "name": "stdout",
     "output_type": "stream",
     "text": [
      "['atendida', 'não atendida', 'ocupado', 'ocupado', 'ocupado']\n"
     ]
    }
   ],
   "source": [
    "lista = [1, 2, 3, 4, 5]\n",
    "\n",
    "def ramais(lista):\n",
    "    nova_lista = []\n",
    "    for elemento in lista:\n",
    "        if elemento == 1:\n",
    "            nova_lista.append(\"atendida\")\n",
    "        elif elemento == 2:\n",
    "            nova_lista.append(\"não atendida\")\n",
    "        else:\n",
    "            nova_lista.append(\"ocupado\")\n",
    "    return(nova_lista)\n",
    "\n",
    "a = ramais(lista)\n",
    "print (a)"
   ]
  },
  {
   "cell_type": "markdown",
   "metadata": {},
   "source": [
    "Na **compreensão de listas**:"
   ]
  },
  {
   "cell_type": "code",
   "execution_count": 11,
   "metadata": {},
   "outputs": [
    {
     "data": {
      "text/plain": [
       "['atendida', 'não atendida', 'ocupado', 'ocupado', 'ocupado']"
      ]
     },
     "execution_count": 11,
     "metadata": {},
     "output_type": "execute_result"
    }
   ],
   "source": [
    "lista = [1, 2, 3, 4, 5]\n",
    "\n",
    "[\"atendida\" if elemento == 1 else \"não atendida\" if elemento == 2 else \"ocupado\" for elemento in lista]"
   ]
  },
  {
   "cell_type": "markdown",
   "metadata": {},
   "source": [
    "Observe também que o **loop** fica sempre ao final da função:"
   ]
  },
  {
   "cell_type": "code",
   "execution_count": null,
   "metadata": {},
   "outputs": [],
   "source": [
    "[\"ha\" if i else \"Ha\" for i in range(3)]"
   ]
  },
  {
   "cell_type": "markdown",
   "metadata": {},
   "source": [
    "### Função Lambda\n",
    "<br>\n",
    "\n",
    "Com uma expressão lambda, esta função:"
   ]
  },
  {
   "cell_type": "code",
   "execution_count": null,
   "metadata": {},
   "outputs": [],
   "source": [
    "def multiply(x, y):\n",
    "    return x * y"
   ]
  },
  {
   "cell_type": "markdown",
   "metadata": {},
   "source": [
    "pode ser reduzida para:\n",
    "\n",
    "    lambda arguments: expression"
   ]
  },
  {
   "cell_type": "code",
   "execution_count": null,
   "metadata": {},
   "outputs": [],
   "source": [
    "multiply = lambda x, y: x * y"
   ]
  },
  {
   "cell_type": "markdown",
   "metadata": {},
   "source": [
    "Componentes de uma função lambda\n",
    "<br>\n",
    "\n",
    "A **palavra-chave** lambda é utilizada para indicar que se trata de uma expressão lambda.\n",
    "<br>\n",
    "\n",
    "Depois de lambda, temos um ou mais **argumentos** para a função anônima, separados por vírgulas e seguidos por dois pontos :. Semelhante às funções, a maneira como os argumentos são nomeados em uma expressão lambda é arbitrária.\n",
    "<br>\n",
    "\n",
    "Por último há uma expressão que é avaliada e **devolvida** nessa função. Isto se parece muito com uma expressão que você pode ver como declaração de retorno em uma função:\n",
    "<br>\n",
    "    \n",
    "    return (a,b)\n",
    "\n",
    "Com essa estrutura, as expressões lambda não são ideais para funções complexas, mas podem ser muito úteis para funções curtas e simples."
   ]
  },
  {
   "cell_type": "code",
   "execution_count": null,
   "metadata": {},
   "outputs": [],
   "source": [
    "numbers = [\n",
    "              [34, 63, 88, 71, 29],\n",
    "              [90, 78, 51, 27, 45],\n",
    "              [63, 37, 85, 46, 22],\n",
    "              [51, 22, 34, 11, 18]\n",
    "           ]\n",
    "\n",
    "def mean(num_list):\n",
    "    return sum(num_list) / len(num_list)\n",
    "\n",
    "averages = list(map(mean, numbers))\n",
    "print(averages)"
   ]
  },
  {
   "cell_type": "markdown",
   "metadata": {},
   "source": [
    "**Lambda na função .map()**"
   ]
  },
  {
   "cell_type": "code",
   "execution_count": null,
   "metadata": {},
   "outputs": [],
   "source": [
    "numbers = [\n",
    "              [34, 63, 88, 71, 29],\n",
    "              [90, 78, 51, 27, 45],\n",
    "              [63, 37, 85, 46, 22],\n",
    "              [51, 22, 34, 11, 18]\n",
    "           ]\n",
    "\n",
    "averages = list(map(lambda x: sum(x) / len(x), numbers))\n",
    "print(averages)"
   ]
  },
  {
   "cell_type": "markdown",
   "metadata": {},
   "source": [
    "**Lambda na função .filter()**"
   ]
  },
  {
   "cell_type": "code",
   "execution_count": null,
   "metadata": {},
   "outputs": [],
   "source": [
    "cities = [\"New York City\", \"Los Angeles\", \"Chicago\", \"Mountain View\", \"Denver\", \"Boston\"]\n",
    "\n",
    "short_cities = list(filter(lambda x: len(x) < 10, cities))\n",
    "print(short_cities)"
   ]
  },
  {
   "cell_type": "markdown",
   "metadata": {},
   "source": [
    "**Iterador**"
   ]
  },
  {
   "cell_type": "code",
   "execution_count": null,
   "metadata": {},
   "outputs": [],
   "source": [
    "lessons = [\"Why Python Programming\", \"Data Types and Operators\", \"Control Flow\", \"Functions\", \"Scripting\"]\n",
    "\n",
    "def enumerador(iteravel, inicio=0):\n",
    "    contador = inicio\n",
    "    for elemento in iteravel:\n",
    "        yield contador, elemento\n",
    "        contador += 1\n",
    "\n",
    "for i, lesson in enumerador(lessons, 1):\n",
    "    print(\"Lesson {}: {}\".format(i, lesson))\n",
    "    \n",
    "#sq_iterator = (x**2 for x in range(10))  # isto produz um iterador de quadrados\n",
    "#print (sq_iterator)"
   ]
  },
  {
   "cell_type": "markdown",
   "metadata": {},
   "source": [
    "**Implementando my_enumerate**"
   ]
  },
  {
   "cell_type": "code",
   "execution_count": null,
   "metadata": {},
   "outputs": [],
   "source": [
    "lessons = [\"Why Python Programming\", \"Data Types and Operators\", \"Control Flow\", \"Functions\", \"Scripting\"]\n",
    "\n",
    "def my_enumerate(iterable, start=0):\n",
    "    count = start\n",
    "    for element in iterable:\n",
    "        yield count, element\n",
    "        count += 1\n",
    "\n",
    "for i, lesson in my_enumerate(lessons, 1):\n",
    "    print(\"Lesson {}: {}\".format(i, lesson))"
   ]
  },
  {
   "cell_type": "markdown",
   "metadata": {},
   "source": [
    "**Chunker**\n",
    "<br>\n",
    "\n",
    "*Aqui está uma maneira de você fazer isso. Você pode encontrar essa implementação na página do Stack Overflow.*"
   ]
  },
  {
   "cell_type": "code",
   "execution_count": null,
   "metadata": {},
   "outputs": [],
   "source": [
    "def chunker(iterable, size):\n",
    "    \"\"\"Yield successive chunks from iterable of length size.\"\"\"\n",
    "    for i in range(0, len(iterable), size):\n",
    "        yield iterable[i:i + size]\n",
    "\n",
    "for chunk in chunker(range(25), 4):\n",
    "    print(list(chunk))"
   ]
  },
  {
   "cell_type": "markdown",
   "metadata": {},
   "source": [
    "### Gerador de expressões\n",
    "<br>\n",
    "\n",
    "Isso combina geradores e compreensão de listas! Na verdade, você pode criar um gerador da mesma maneira que normalmente escreveria uma compreensão da lista, utilizando **parênteses** em vez de colchetes.\n",
    "    \n",
    "*Isso pode ajudá-lo a economizar tempo e criar um código eficiente!*"
   ]
  },
  {
   "cell_type": "code",
   "execution_count": null,
   "metadata": {},
   "outputs": [],
   "source": [
    "sq_list = [x**2 for x in range(10)]  # isto produz uma lista de quadrados\n",
    "\n",
    "sq_iterator = (x**2 for x in range(10))  # isto produz um iterador de quadrados"
   ]
  },
  {
   "cell_type": "markdown",
   "metadata": {},
   "source": [
    "### Scripting com entrada"
   ]
  },
  {
   "cell_type": "code",
   "execution_count": null,
   "metadata": {},
   "outputs": [],
   "source": [
    "names = input(\"Enter names separated by commas: \").title().split(\",\")\n",
    "assignments = input(\"Enter assignment counts separated by commas: \").split(\",\")\n",
    "grades = input(\"Enter grades separated by commas: \").split(\",\")\n",
    "\n",
    "message = \"Hi {},\\n\\nThis is a reminder that you have {} assignments left to \\\n",
    "submit before you can graduate. You're current grade is {} and can increase \\\n",
    "to {} if you submit all assignments before the due date.\\n\\n\"\n",
    "\n",
    "for name, assignment, grade in zip(names, assignments, grades):\n",
    "    print(message.format(name, assignment, grade, int(grade) + int(assignment)*2))"
   ]
  },
  {
   "cell_type": "markdown",
   "metadata": {},
   "source": [
    "### Lidar com erros\n",
    "<br>\n",
    "\n",
    "Declaração **try**\n",
    "<br>\n",
    "\n",
    "Podemos utilizar declarações try para lidar com **exceções**:\n",
    "<br>\n",
    "\n",
    "**try**: Essa é a única clausula mandatória em uma declaração try. O código neste bloco é a primeira coisa que o Python executa em uma declaração try.\n",
    "<br>\n",
    "\n",
    "**except**: Se o Python encontra uma exceção durante a execução do bloco try, ele vai saltar para o bloco except que lida com aquela exceção.\n",
    "<br>\n",
    "\n",
    "**else**: Se o Python não encontra exceções durante a execução do bloco try, ele executará o código neste bloco depois de executar o bloco try.\n",
    "<br>\n",
    "\n",
    "**finally**: Antes de o Python sair da declaração try, ele executará o código deste bloco finally sob quaisquer condições, mesmo se estiver finalizando o programa. Por exemplo, se o Python encontrou um erro durante a execução do código do bloco except ou else , este bloco finally ainda será executado antes da interrupção do programa."
   ]
  },
  {
   "cell_type": "markdown",
   "metadata": {},
   "source": [
    "**Lidando com a divisão por zero:**"
   ]
  },
  {
   "cell_type": "code",
   "execution_count": null,
   "metadata": {},
   "outputs": [],
   "source": [
    "def create_groups(items, n):\n",
    "    try:\n",
    "        size = len(items) // n\n",
    "    except ZeroDivisionError:\n",
    "        print(\"WARNING: Returning empty list. Please use a nonzero number.\")\n",
    "        return []\n",
    "    else:\n",
    "        groups = []\n",
    "        for i in range(0, len(items), size):\n",
    "            groups.append(items[i:i + size])\n",
    "        return groups\n",
    "    finally:\n",
    "        print(\"{} groups returned.\".format(n))\n",
    "\n",
    "print(\"Creating 6 groups...\")\n",
    "for group in create_groups(range(32), 6):\n",
    "    print(list(group))\n",
    "\n",
    "print(\"\\nCreating 0 groups...\")\n",
    "for group in create_groups(range(32), 0):\n",
    "    print(list(group))"
   ]
  },
  {
   "cell_type": "markdown",
   "metadata": {},
   "source": [
    "Então, você ainda pode acessar as mensagens de erro, mesmo que lide com eles para evitar que seu programa seja **interrompido**!\n",
    "\n",
    "*Se você não tiver um erro específico com o qual está lidando, ainda pode acessar a mensagem assim:*"
   ]
  },
  {
   "cell_type": "code",
   "execution_count": null,
   "metadata": {},
   "outputs": [],
   "source": [
    "try:\n",
    "    # some code\n",
    "except Exception as e:\n",
    "   # some code\n",
    "   print(\"Exception occurred: {}\".format(e))"
   ]
  },
  {
   "cell_type": "markdown",
   "metadata": {},
   "source": [
    "**Exception** é a classe base para todas as exceções internas. "
   ]
  },
  {
   "cell_type": "markdown",
   "metadata": {},
   "source": [
    "### Recorrendo ao método **read** com um número inteiro\n",
    "<br>\n",
    "\n",
    "No código que você viu, a recorrência à função *.read()* não apresentava argumentos passados para ela. Isso resulta no padrão de leitura de todo o restante do arquivo a partir de sua posição atual - o arquivo inteiro. Se você entra com um argumento do tipo inteiro no método read, ele é lido até atingir aquele número de caracteres, retorna todos eles e mantém a 'janela' naquela posição, pronta para continuar lendo.\n",
    "<br>\n",
    "\n",
    "Vamos ver isso em um exemplo que utiliza o seguinte arquivo, camelot.txt:"
   ]
  },
  {
   "cell_type": "code",
   "execution_count": null,
   "metadata": {},
   "outputs": [],
   "source": [
    "We're the knights of the round table\n",
    "We dance whenever we're able"
   ]
  },
  {
   "cell_type": "markdown",
   "metadata": {},
   "source": [
    "Aqui está um script que lê o arquivo um pouco de cada vez, passando um argumento inteiro para *.read()*:"
   ]
  },
  {
   "cell_type": "code",
   "execution_count": null,
   "metadata": {},
   "outputs": [],
   "source": [
    "with open(camelot.txt) as song:\n",
    "    print(song.read(2))\n",
    "    print(song.read(8))\n",
    "    print(song.read())"
   ]
  },
  {
   "cell_type": "markdown",
   "metadata": {},
   "source": [
    "A cada vez que utilizamos **read** no arquivo com um argumento inteiro, ele leu até aquele determinado número de caracteres, retornou-os e manteve a 'janela' naquela posição para a próxima utilização de read. Isso faz com que a movimentação pelo arquivo aberto seja um tanto complicada, pois não existem muitas referências na hora de navegar."
   ]
  },
  {
   "cell_type": "markdown",
   "metadata": {},
   "source": [
    "### Lendo linha por linha"
   ]
  },
  {
   "cell_type": "code",
   "execution_count": null,
   "metadata": {},
   "outputs": [],
   "source": [
    "*\\n em blocos de texto são caracteres indicando uma nova linha. O caractere de nova linha marca o final \\n\n",
    "de uma linha e diz para um programa (como um editor de texto) passar para a próxima linha. No entanto, \\n\n",
    "olhando para o fluxo de caracteres no arquivo, \\n é só mais um carácter.*"
   ]
  },
  {
   "cell_type": "markdown",
   "metadata": {},
   "source": [
    "### Lendo e escrevendo arquivos\n",
    "<br>\n",
    "\n",
    "*arquivo: lista do elenco de Flying Circus*"
   ]
  },
  {
   "cell_type": "code",
   "execution_count": null,
   "metadata": {},
   "outputs": [],
   "source": [
    "def create_cast_list(filename):\n",
    "    cast_list = []\n",
    "    with open(filename) as f:\n",
    "        for line in f:\n",
    "            name = line.split(\",\")[0]\n",
    "            cast_list.append(name)\n",
    "\n",
    "    return cast_list\n",
    "\n",
    "cast_list = create_cast_list('flying_circus_cast.txt')\n",
    "for actor in cast_list:\n",
    "    print(actor)"
   ]
  },
  {
   "cell_type": "markdown",
   "metadata": {},
   "source": [
    "### Importando biblioteca padrão\n",
    "<br>\n",
    "\n",
    "**Importando scripts locais**\n",
    "<br>\n",
    "\n",
    "Na realidade, podemos importar códigos Python de outros scripts, o que é útil se você estiver trabalhando em um projeto maior no qual você deseja organizar seu código em vários arquivos e reutilizar esses códigos. Se o script Python que você deseja importar estiver no mesmo diretório que o script atual, apenas digite **import** seguido do nome do arquivo sem a extensão .py.\n",
    "<br>\n",
    "\n",
    "    import useful_functions\n",
    "\n",
    "É a convenção padrão que declarações import sejam escritas na parte superior de um script Python, um em cada linha separada. Esta declaração import cria um objeto de módulo chamado useful_functions. Módulos são apenas arquivos de Python que contêm definições e declarações. Para acessar objetos de módulos importados, você precisa utilizar a notação de ponto.\n",
    "<br>\n",
    "\n",
    "    import useful_functions\n",
    "    useful_functions.add_five([1, 2, 3, 4])\n",
    "\n",
    "Podemos adicionar um **apelido** a um módulo importado para recorrer a ele com um nome diferente.\n",
    "\n",
    "    import useful_functions as uf\n",
    "    uf.add_five([1, 2, 3, 4])\n",
    "\n",
    "\n",
    "**Utilizando um bloco principal**\n",
    "<br>\n",
    "\n",
    "Para evitar a execução de declarações executáveis de um script quando elas foram importadas como um módulo em outro script, inclua essas linhas em um bloco\n",
    "    \n",
    "    if __name__ == \"__main__\".\n",
    "\n",
    "Ou, alternativamente, inclua-os em uma função chamada *.main()* e utilize-a no bloco\n",
    "\n",
    "    if main ...\n",
    "\n",
    "Sempre que podemos executar um script como este, o Python na verdade define uma variável interna especial chamada **_ _name_ _**  para qualquer módulo. Quando executamos um script, o Python reconhece este módulo como o programa principal e define a variável **_ _name_ _** para este módulo para a string **“_ _main_ _”**.\n",
    "<br>\n",
    "\n",
    "Para quaisquer módulos importados neste script, essa variável interna **_ _name_ _** só é definida para o nome desse módulo.\n",
    "<br>\n",
    "\n",
    "Portanto, a condição de \n",
    "\n",
    "    if __name__ == \"__main__\"\n",
    "    \n",
    "só está checando se este módulo é o programa principal."
   ]
  },
  {
   "cell_type": "markdown",
   "metadata": {},
   "source": [
    "Aqui temos uma função, que puxa a função por nós criada mais abaixo, **useful_functions.py**.\n",
    "<br>\n",
    "\n",
    "*Observe que esta última possui uma rotina interna de autoteste.*"
   ]
  },
  {
   "cell_type": "code",
   "execution_count": null,
   "metadata": {},
   "outputs": [],
   "source": [
    "import useful_functions as uf\n",
    "\n",
    "scores = [88, 92, 79, 93, 85]\n",
    "\n",
    "mean = uf.mean(scores)\n",
    "curved = uf.add_five(scores)\n",
    "\n",
    "mean_c = uf.mean(curved)\n",
    "\n",
    "print(\"Scores:\", scores)\n",
    "print(\"Original Mean:\", mean, \" New Mean:\", mean_c)\n",
    "\n",
    "print(__name__)\n",
    "print(uf.__name__)"
   ]
  },
  {
   "cell_type": "code",
   "execution_count": null,
   "metadata": {},
   "outputs": [],
   "source": [
    "# useful_functions.py\n",
    "def mean(num_list):\n",
    "    return sum(num_list) / len(num_list)\n",
    "\n",
    "def add_five(num_list):\n",
    "    return [n + 5 for n in num_list]\n",
    "\n",
    "def main():\n",
    "    print(\"Testing mean function\")\n",
    "    n_list = [34, 44, 23, 46, 12, 24]\n",
    "    correct_mean = 30.5\n",
    "    assert(mean(n_list) == correct_mean)\n",
    "\n",
    "    print(\"Testing add_five function\")\n",
    "    correct_list = [39, 49, 28, 51, 17, 29]\n",
    "    assert(add_five(n_list) == correct_list)\n",
    "\n",
    "    print(\"All tests passed!\")\n",
    "\n",
    "if __name__ == '__main__':\n",
    "    main()"
   ]
  },
  {
   "cell_type": "markdown",
   "metadata": {},
   "source": [
    "### Biblioteca padrão\n",
    "<br>\n",
    "\n",
    "Gerador de senha\n",
    "<br>\n",
    "\n",
    "Para criar senhas aleatórias, usamos **import random**. A definição da função era simplesmente:"
   ]
  },
  {
   "cell_type": "code",
   "execution_count": null,
   "metadata": {},
   "outputs": [],
   "source": [
    "def generate_password():\n",
    "    return random.choice(word_list) + random.choice(word_list) + random.choice(word_list)"
   ]
  },
  {
   "cell_type": "markdown",
   "metadata": {},
   "source": [
    "Como alternativa, você pode usar a função **.random.sample()** e o método **.join()** para strings:"
   ]
  },
  {
   "cell_type": "code",
   "execution_count": null,
   "metadata": {},
   "outputs": [],
   "source": [
    "def generate_password():\n",
    "    return ''.join(random.sample(word_list,3))"
   ]
  },
  {
   "cell_type": "markdown",
   "metadata": {},
   "source": [
    "### Importar Módulos\n",
    "<br>\n",
    "\n",
    "**Técnicas para a importação de módulos**\n",
    "<br>\n",
    "\n",
    "Existem outras variantes de declarações **import** que são úteis em diferentes situações.\n",
    "<br>\n",
    "\n",
    "Para importar uma função individual ou a uma classe de um módulo:\n",
    "    \n",
    "    from module_name import object_name\n",
    "\n",
    "Para importar múltiplos objetos individuais de um módulo:\n",
    "\n",
    "    from module_name import first_object, second_object\n",
    "\n",
    "Para renomear um módulo:\n",
    "\n",
    "    import module_name as new_name\n",
    "\n",
    "Para importar um objeto de um módulo e renomeá-lo:\n",
    "\n",
    "    from module_name import object_name as new_name\n",
    "\n",
    "Para importar cada objeto individualmente de um módulo (NÃO FAÇA ISSO):\n",
    "\n",
    "    from module_name import *\n",
    "\n",
    "Se você realmente quiser usar todos os objetos de um módulo, use a declaração de importação padrão module_name e acesse cada um dos objetos com a notação de ponto.\n",
    "\n",
    "    from module_name."
   ]
  },
  {
   "cell_type": "markdown",
   "metadata": {},
   "source": [
    "### Bibliotecas de terceiros\n",
    "<br>\n",
    "\n",
    "Existem dezenas de milhares de bibliotecas de terceiros escritas por desenvolvedores independentes! Você pode instalá-las usando o pip, um gerenciador de pacotes que está incluso no Python 3. O pip é o gerenciador de pacotes padrão para o Python, mas não é o único. Uma alternativa popular é o Anaconda, que é projetado especificamente para ciência de dados.\n",
    "<br>\n",
    "\n",
    "Para instalar um pacote usando o pip, basta digitar \"pip install\" seguido do nome do pacote em sua linha de comando, assim:\n",
    "\n",
    "    pip install package_name\n",
    "    \n",
    "Isso baixa e instala o pacote para que ele esteja disponível para importação em seus programas. Uma vez instalado, você pode importar pacotes de terceiros usando a mesma sintaxe usada para importar da biblioteca padrão.\n",
    "<br>\n",
    "\n",
    "Usando um arquivo **requirements.txt**\n",
    "<br>\n",
    "\n",
    "Programas maiores em Python podem depender de dezenas de pacotes de terceiros. Para facilitar o compartilhamento desses programas, os programadores frequentemente listam as **dependências** do projeto em um arquivo chamado requirements.txt. Este é um exemplo de um arquivo requirements.txt.\n",
    "\n",
    "    beautifulsoup4==4.5.1\n",
    "    bs4==0.0.1\n",
    "    pytz==2016.7\n",
    "    requests==2.11.1\n",
    "\n",
    "Cada linha do arquivo inclui o nome de um pacote e seu número de versão. O número de versão é opcional, mas geralmente é incluído. Bibliotecas podem mudar sutilmente ou drasticamente entre as versões, por isso, é importante usar as mesmas versões de biblioteca que foram utilizadas para escrever o programa.\n",
    "<br>\n",
    "\n",
    "Você pode usar o pip para instalar todas as dependências do projeto ao mesmo tempo, digitando:\n",
    "\n",
    "    pip install -r requirements.txt"
   ]
  },
  {
   "cell_type": "markdown",
   "metadata": {},
   "source": [
    "### Pacotes úteis de terceiros\n",
    "<br>\n",
    "\n",
    "Ser capaz de instalar e importar bibliotecas de terceiros é útil, mas, para ser um programador eficaz, você também precisa saber quais bibliotecas estão disponíveis uso. As pessoas geralmente aprendem sobre novas bibliotecas úteis por meio de recomendações online ou de colegas. Se você for um programador novo em Python, pode não ter muitos colegas, então, para começar, aqui está uma lista de pacotes que são populares entre os engenheiros da Udacity.\n",
    "<br>\n",
    "\n",
    "**IPython** - um interpretador interativo do Python.\n",
    "<br>\n",
    "\n",
    "**requests** - fornece métodos fáceis de usar para fazer solicitações na web. Útil para acessar APIs da web.\n",
    "<br>\n",
    "\n",
    "**Flask** - uma estrutura leve para fazer aplicações web e APIs.\n",
    "<br>\n",
    "\n",
    "**Django** - uma estrutura mais recheada de recursos para criar aplicações web. O Django é particularmente bom para projetar aplicações web complexas e com muito conteúdo.\n",
    "<br>\n",
    "\n",
    "**Beautiful Soup** - usado para analisar HTML e extrair informações a partir daí. Ótimo para web scraping.\n",
    "<br>\n",
    "\n",
    "**pytest** - estende os módulos de assertivas internas e testes de unidade (unittest) do Python.\n",
    "<br>\n",
    "\n",
    "**PyYAML** - para ler e gravar arquivos YAML.\n",
    "<br>\n",
    "\n",
    "**NumPy** - o pacote fundamental para a computação científica com Python. Ele contém, entre outras coisas, um poderoso objeto array N-dimensional e capacidades úteis para álgebra linear.\n",
    "<br>\n",
    "\n",
    "**pandas** - uma biblioteca contendo ferramentas de alto desempenho, para estruturas de dados e de análise de dados. O Pandas, em especial, fornece dataframes!\n",
    "<br>\n",
    "\n",
    "**matplotlib** - uma biblioteca de plotagem 2D que produz figuras com qualidade de publicação em uma variedade de formatos em papel e ambientes interativos.\n",
    "<br>\n",
    "\n",
    "**ggplot** - outra biblioteca de plotagem 2D, com base na biblioteca ggplot2 do software R.\n",
    "<br>\n",
    "\n",
    "**Pillow** - a biblioteca de imagens do Python adiciona capacidades de processamento de imagens a seu interpretador Python.\n",
    "<br>\n",
    "\n",
    "**pyglet** - uma estrutura de aplicação multiplataforma voltada ao desenvolvimento de jogos\n",
    "<br>\n",
    "\n",
    "**Pygame** - um conjunto de módulos Python projetados para escrever jogos.\n",
    "<br>\n",
    "\n",
    "**pytz** - definições de fuso horário do mundo para Python"
   ]
  },
  {
   "cell_type": "code",
   "execution_count": null,
   "metadata": {},
   "outputs": [],
   "source": [
    "import csv # Começando com os imports # coding: utf-8\n",
    "import matplotlib.pyplot as plt\n",
    "\n",
    "print(\"Lendo o documento...\") # Vamos ler os dados como uma lista\n",
    "with open(\"chicago.csv\", \"r\") as file_read:\n",
    "    reader = csv.reader(file_read)\n",
    "    data_list = list(reader)\n",
    "print(\"Ok!\")\n",
    "print(\"Número de linhas:\") # Vamos verificar quantas linhas nós temos\n",
    "print(len(data_list))\n",
    "print(\"Linha 0: \") # Imprimindo a primeira linha de data_list para verificar se funcionou.\n",
    "print(data_list[0]) # É o cabeçalho dos dados, para que possamos identificar as colunas.\n",
    "print(\"Linha 1: \") # Imprimindo a segunda linha de data_list, ela deveria conter alguns dados\n",
    "print(data_list[1])\n",
    "\n",
    "input(\"Aperte Enter para continuar...\")"
   ]
  },
  {
   "cell_type": "markdown",
   "metadata": {},
   "source": [
    "## Projeto do Módulo I"
   ]
  },
  {
   "cell_type": "markdown",
   "metadata": {},
   "source": [
    "**TAREFA 1:** Imprima as primeiras 20 linhas usando um loop para identificar os dados."
   ]
  },
  {
   "cell_type": "code",
   "execution_count": null,
   "metadata": {},
   "outputs": [],
   "source": [
    "print(\"\\n\\nTAREFA 1: Imprimindo as primeiras 20 amostras\")\n",
    "data_list = data_list[1:] # Vamos mudar o data_list para remover o cabeçalho dele. \n",
    "#Nós podemos acessar as features pelo índice. Por exemplo: sample[6] para imprimir gênero, ou sample[-2]\n",
    "\n",
    "for i in range(20):\n",
    "    print(data_list[i])\n",
    "\n",
    "input(\"Aperte Enter para continuar...\")"
   ]
  },
  {
   "cell_type": "markdown",
   "metadata": {},
   "source": [
    "**TAREFA 2:** Imprima o *gênero* das primeiras 20 linhas (il=6)"
   ]
  },
  {
   "cell_type": "code",
   "execution_count": null,
   "metadata": {},
   "outputs": [],
   "source": [
    "print(\"\\nTAREFA 2: Imprimindo o gênero das primeiras 20 amostras\")\n",
    "a = []\n",
    "for i in range(20):\n",
    "    a = data_list[i]\n",
    "    print (a[6]) # Ótimo! Nós podemos pegar as linhas(samples) iterando com um for\n",
    "    #e as colunas(features) por índices. Mas ainda é difícil pegar uma coluna em uma lista. Exemplo: Lista com todos os gêneros\n",
    "input(\"Aperte Enter para continuar...\")"
   ]
  },
  {
   "cell_type": "markdown",
   "metadata": {},
   "source": [
    "**TAREFA 3:** Crie uma função para adicionar as colunas(features) de uma lista em outra lista, na mesma ordem\n",
    "\n",
    "*Dica: Você pode usar um for para iterar sobre as amostras, pegar a feature pelo seu índice, e dar append para uma lista*"
   ]
  },
  {
   "cell_type": "code",
   "execution_count": null,
   "metadata": {},
   "outputs": [],
   "source": [
    "def column_to_list(data, index):\n",
    "      \"\"\"\" Função de fatiar uma tabela de dados, por coluna (cada coluna é um campo).\n",
    "        Argumentos:\n",
    "            data: a tabela original (nosso .CSV sem cabeçalho e transformado numa lista). É uma lista.\n",
    "            index: a posição ocupada pelo campo do nosso interesse. É um inteiro.\n",
    "        Retorna:\n",
    "            Uma fatia da tabela. É uma lista.\"\"\"\n",
    "    a = []\n",
    "    column_list = []\n",
    "    for i in range(len(data)):\n",
    "        a = data[i]\n",
    "        if a[index] == \"\":\n",
    "            column_list.append(\"\")\t\n",
    "        else:\n",
    "            column_list.append(a[index])\n",
    "    return column_list\n",
    "print(\"\\nTAREFA 3: Imprimindo a lista de gêneros das primeiras 20 amostras\") \n",
    "# Vamos checar com os gêneros se isso está funcionando (apenas para os primeiros 20)\n",
    "print(column_to_list(data_list, -2)[:20])\n",
    "\n",
    "# ------------ NÃO MUDE NENHUM CÓDIGO AQUI ------------\n",
    "assert type(column_to_list(data_list, -2)) is list, \"TAREFA 3: Tipo incorreto retornado. Deveria ser uma lista.\"\n",
    "assert len(column_to_list(data_list, -2)) == 1551505, \"TAREFA 3: Tamanho incorreto retornado.\"\n",
    "assert column_to_list(data_list, -2)[0] == \"\" and column_to_list(data_list, -2)[1] == \"Male\", \"TAREFA 3: A lista não coincide.\"\n",
    "# -----------------------------------------------------"
   ]
  },
  {
   "cell_type": "markdown",
   "metadata": {},
   "source": [
    "**TAREFA 4:** Conte cada gênero. Você não deveria usar uma função parTODO isso."
   ]
  },
  {
   "cell_type": "code",
   "execution_count": null,
   "metadata": {},
   "outputs": [],
   "source": [
    "male = 0\n",
    "female = 0\n",
    "paracontar = column_to_list(data_list, -2)\n",
    "\n",
    "#print (paracontar[:20])\n",
    "#male = paracontar.count(\"Male\")\n",
    "#female = paracontar.count(\"Female\")\n",
    "\n",
    "#eu simplesmente criei dois contadores e adicionei nas variáveis inteiras dadas.\n",
    "for entrada in paracontar:\n",
    "    if entrada == \"Male\":\n",
    "        male += 1\n",
    "    if entrada == \"Female\":\n",
    "        female += 1\n",
    "\n",
    "print(\"\\nTAREFA 4: Imprimindo quantos masculinos e femininos nós encontramos\") # Verificando o resultado\n",
    "\n",
    "print(\"Masculinos: \", male, \"\\nFemininos: \", female)\n",
    "\n",
    "# ------------ NÃO MUDE NENHUM CÓDIGO AQUI ------------\n",
    "assert male == 935854 and female == 298784, \"TAREFA 4: A conta não bate.\"\n",
    "# -----------------------------------------------------"
   ]
  },
  {
   "cell_type": "markdown",
   "metadata": {},
   "source": [
    "**TAREFA 5:** Crie uma função para contar os gêneros. Retorne uma lista. Isso deveria retornar uma lista com [count_male, count_female]\n",
    "<br>\n",
    "\n",
    "(exemplo: [10, 15] significa 10 Masculinos, 15 Femininos)"
   ]
  },
  {
   "cell_type": "code",
   "execution_count": null,
   "metadata": {},
   "outputs": [],
   "source": [
    "def count_gender(data_list):\n",
    "     # Função de contagem de gêneros, a partir de uma fatia (campo) de uma tabela.\n",
    "     # Argumentos:\n",
    "     #     data_list: uma fatia (apenas um campo) de dados originais. É uma lista.\n",
    "     # Retorna:\n",
    "     #     Uma tupla (contagem de Masculino e Feminino). Dois valores inteiros. \t\n",
    "    male = 0\n",
    "    female = 0\n",
    "    a = []\n",
    "    column_list = []\n",
    "    for i in range(len(data_list)):\n",
    "        a = data_list[i]\n",
    "        if a[-2] == \"Male\":\n",
    "            male += 1\n",
    "        if a[-2] == \"Female\":\n",
    "            female += 1\n",
    "    return [male, female]\n",
    "\n",
    "print(\"\\nTAREFA 5: Imprimindo o resultado de count_gender\")\n",
    "\n",
    "print(count_gender(data_list))\n",
    "\n",
    "# ------------ NÃO MUDE NENHUM CÓDIGO AQUI ------------\n",
    "assert type(count_gender(data_list)) is list, \"TAREFA 5: Tipo incorreto retornado. Deveria retornar uma lista.\"\n",
    "assert len(count_gender(data_list)) == 2, \"TAREFA 5: Tamanho incorreto retornado.\"\n",
    "assert count_gender(data_list)[0] == 935854 and count_gender(data_list)[1] == 298784, \"TAREFA 5: Resultado incorreto no retorno!\"\n",
    "# -----------------------------------------------------"
   ]
  },
  {
   "cell_type": "markdown",
   "metadata": {},
   "source": [
    "**TAREFA 6:** Crie uma função que pegue o gênero mais popular, e retorne este gênero como uma string. Esperamos ver \"Masculino\", \"Feminino\", ou \"Igual\" como resposta."
   ]
  },
  {
   "cell_type": "code",
   "execution_count": null,
   "metadata": {},
   "outputs": [],
   "source": [
    "def most_popular_gender(data_list):\n",
    "     # Esta função determina o gênero mais popular, a partir de uma fatia (campo) de uma tabela.\n",
    "     # Argumentos:\n",
    "     #     data_list: uma fatia (apenas um campo) de dados originais. É uma lista.\n",
    "     # Retorna:\n",
    "     #     O gênero mais popular. É uma string de texto.\n",
    "    answer = \"\"    \n",
    "    genero = 0\n",
    "    homem, mulher = count_gender(data_list)\n",
    "    #print (\"homem: \",homem, \"mulher: \", mulher)\n",
    "    if homem > mulher:\n",
    "        answer = \"Masculino\"\n",
    "    if mulher > homem:\n",
    "        answer = \"Feminino\"\n",
    "    if homem == mulher:\n",
    "        answer = \"Igual\"\n",
    "    return answer\n",
    " \n",
    "print(\"\\nTAREFA 6: Qual é o gênero mais popular na lista?\")\n",
    "print(\"O gênero mais popular na lista é: \", most_popular_gender(data_list))\n",
    "\n",
    "# ------------ NÃO MUDE NENHUM CÓDIGO AQUI ------------\n",
    "assert type(most_popular_gender(data_list)) is str, \"TAREFA 6: Tipo incorreto no retorno. Deveria retornar uma string.\"\n",
    "assert most_popular_gender(data_list) == \"Masculino\", \"TAREFA 6: Resultado de retorno incorreto!\"\n",
    "# -----------------------------------------------------\n",
    "\n",
    "# Imprime gráfico por gênero\n",
    "gender_list = column_to_list(data_list, -2) # Se tudo está rodando como esperado, verifique este gráfico!\n",
    "types = [\"Male\", \"Female\"]\n",
    "quantity = count_gender(data_list)\n",
    "y_pos = list(range(len(types)))\n",
    "plt.bar(y_pos, quantity)\n",
    "plt.ylabel('Quantidade')\n",
    "plt.xlabel('Gênero')\n",
    "plt.xticks(y_pos, types)\n",
    "plt.title('Quantidade por Gênero')\n",
    "plt.show(block=True)"
   ]
  },
  {
   "cell_type": "markdown",
   "metadata": {},
   "source": [
    "**TAREFA 7:** Crie um gráfico similar para user_types. Tenha certeza que a legenda está correta."
   ]
  },
  {
   "cell_type": "code",
   "execution_count": null,
   "metadata": {},
   "outputs": [],
   "source": [
    "print(\"\\nTAREFA 7: Verifique o gráfico!\")\n",
    "def count_user(data_list):\n",
    "     \"\"\"\" Esta função serve para contar usuários.\n",
    "            Argumentos:\n",
    "              data_list: uma fatia (apenas um campo) de dados originais. É uma lista.\n",
    "            Retorna:\n",
    "              Uma tupla de números inteiros - cliente ou assinante\n",
    "            Obs: Código reaproveitado do exercício anterior, modificando as especificações.\"\"\"\n",
    "    customer = 0\n",
    "    subscriber = 0\n",
    "    a = []\n",
    "    column_list = []\n",
    "    for i in range(len(data_list)):\n",
    "        a = data_list[i]\n",
    "        if a[-3] == \"Customer\":\n",
    "            customer += 1\n",
    "        if a[-3] == \"Subscriber\":\n",
    "            subscriber += 1\n",
    "    return [customer, subscriber]\n",
    "\n",
    "usuario_list = column_to_list(data_list, -3) # Se tudo está rodando como esperado, verifique este gráfico!\n",
    "types = [\"Customer\", \"Subscriber\"]\n",
    "quantity = count_user(data_list)\n",
    "y_pos = list(range(len(types)))\n",
    "plt.bar(y_pos, quantity)\n",
    "plt.ylabel('Quantidade')\n",
    "plt.xlabel('Usuário')\n",
    "plt.xticks(y_pos, types)\n",
    "plt.title('Quantidade por Usuário')\n",
    "plt.show(block=True)"
   ]
  },
  {
   "cell_type": "markdown",
   "metadata": {},
   "source": [
    "**TAREFA 8:** Responda a seguinte questão"
   ]
  },
  {
   "cell_type": "code",
   "execution_count": null,
   "metadata": {},
   "outputs": [],
   "source": [
    "male, female = count_gender(data_list)\n",
    "print(\"\\nTAREFA 8: Por que a condição a seguir é Falsa?\")\n",
    "print(\"male + female == len(data_list):\", male + female == len(data_list))\n",
    "answer = \"Há registros no CSV para o qual o gênero não está preenchido.\"\n",
    "print(\"resposta:\", answer)\n",
    "\n",
    "# ------------ NÃO MUDE NENHUM CÓDIGO AQUI ------------\n",
    "assert answer != \"Escreva sua resposta aqui.\", \"TAREFA 8: Escreva sua própria resposta!\"\n",
    "# -----------------------------------------------------\n",
    "input(\"Aperte Enter para continuar...\")"
   ]
  },
  {
   "cell_type": "markdown",
   "metadata": {},
   "source": [
    "**TAREFA 9:** Ache a duração de viagem Mínima, Máxima, Média, e Mediana. Você não deve usar funções prontas parTODO isso, como max() e min()."
   ]
  },
  {
   "cell_type": "code",
   "execution_count": null,
   "metadata": {},
   "outputs": [],
   "source": [
    "#def column_to_list2(data, index): #função alterada - esta converte os dados para Float - desativada: o resultado foi obtido com .map(a1,a2)\n",
    "#    a = []\n",
    "#    column_list = [] # Dica: Você pode usar um for para iterar sobre as amostras, pegar a feature pelo seu índice, e dar append para uma lista\n",
    "#    for i in range(len(data)):\n",
    "#        a = data[i]\n",
    "#        if a[index] == \"\":\n",
    "#            column_list.append(0.)\t\n",
    "#        else:\n",
    "#            column_list.append(float(a[index]))\n",
    "#    return column_list\n",
    "\n",
    "trip_duration_list = column_to_list(data_list, 2) # Vamos trabalhar com trip_duration (duração da viagem) agora. Não conseguimos tirar alguns valores dele.\n",
    "trip_duration_list = list(map(float,trip_duration_list)) #Transformados os dados para Float, pois iremos trabalhar agora com números!\n",
    "\n",
    "min_trip = 0.\n",
    "max_trip = 0.\n",
    "mean_trip = 0.\n",
    "median_trip = 0.\n",
    "elem = 0.\n",
    "soma = 0. #eu preciso da soma de todos os valores para a média!\n",
    "\n",
    "#Rotina de amostra: verificar o formato e a qualidade dos dados colhidos (verificados e desativada!)\n",
    "#a = []\n",
    "#i = 0\n",
    "#for i in range(20):\n",
    "#    a = trip_duration_list[i]\n",
    "#    print (a)\n",
    "\n",
    "\"\"\"\"Este For serve para pegar um argumento inicial para min_trip.\n",
    "Por que eu escrevi uma função para argumento inicial? Porque eu espero que ela vá iterar umas poucas vezes.\n",
    "observe que o If dela é mais complexo do que o If do For principal. Assim eu deixo meu For principal mais leve.\n",
    "como a quantidade de iterações do For principal é imensa, eu quero que ele fique o mais leve possível.\"\"\"\n",
    "\n",
    "for elemento in trip_duration_list: # Quero pegar um valor inicial para min_trip\n",
    "    elem = float(elemento)\n",
    "    if elem > 0 and min_trip == 0: # Este if é um pouco mais lento: vou usar apenas até captar um número inicial para a min_trip!\n",
    "        min_trip = elem\n",
    "        print (\"Primeiro valor de min: \", min_trip)\n",
    "        break\n",
    "\n",
    "\"\"\"\"Este é meu For principal. Ele é mais leve que o anterior e espero que ele tenha um bom desempenho.\n",
    "Neste eu obtenho a soma de todos os valores, a minha viajem mais longa e a mais curta.\"\"\"\"\n",
    "for elemento in trip_duration_list: # Esse é meu iterador principal!\n",
    "    elem = float(elemento) # quero lidar com um flutuante!\n",
    "    soma += elem\n",
    "    #print (soma)\t\n",
    "    if elem > max_trip:\n",
    "        max_trip = elem\n",
    "    if elem < min_trip:\n",
    "        min_trip = elem\n",
    "\n",
    "\"\"\"\"Como existe o risco de que o comprimento de trip_duration_list seja zero, eu faço apenas uma tentativa, \n",
    "antes de resolver o problema. Assim evito travamento do programa.\"\"\"\n",
    "try:\n",
    "    mean_trip = soma / len(trip_duration_list)\n",
    "except ZeroDivisionError:\n",
    "    print(\"AVISO: Lista com comprimento em branco. Por favor use um número acima de zero.\")\n",
    "else:\n",
    "    mean_trip = soma / len(trip_duration_list)\n",
    "\n",
    "#meio = 0. # Esse aqui será o meio da minha lista para Mediana\n",
    "meio = len(trip_duration_list) // 2 #quero um número inteiro, resultado de uma divisão inteira!\n",
    "#print (\"meio\", meio)\n",
    "ordem = sorted(trip_duration_list) # Vou precisar disso para a Mediana\n",
    "\n",
    "# Usei esses códigos para testar meus resultados. Não preciso mais deles.\n",
    "#for i in range (len(trip_duration_list)):\n",
    "#    print (ordem[i])\n",
    "#    if round(float(ordem[i])) == 670:\n",
    "#        print (\"Achei a posição da mediana :\", i)\n",
    "#        break\n",
    "\n",
    "\"\"\"\"Observe que eu tenho dois casos para mediana. Em um deles, minha lista é de tamanho par.\n",
    "Nesse caso, normalmente os estatísticos entregam como Mediana a média aritmética dos dois valores de medianas.\n",
    "O caso ímpar é mais fácil: a mediana é simplesmente o valor do meio de uma lista ordenada!\"\"\"\n",
    "a = 0. #vou precisar desses caso o tamanho da minha lista seja par\n",
    "b = 0.\n",
    "if len(trip_duration_list) % 2 == 0: # Agora eu quero a mediana!\n",
    "    print(\"Lista de tamanho par\")\n",
    "    a = ordem[meio]\n",
    "    b = ordem[meio + 1]\n",
    "    median_trip = a + b / 2.\n",
    "else:\n",
    "    print (\"Lista de tamanho ímpar\")\n",
    "    median_trip = float(ordem[meio]) # Esse aqui é fácil, pois tenho apenas um número como mediana!\n",
    "\n",
    "\"\"\"\"Checklist. Usei isso no desenvolvimento. Não preciso mais dessas linhas de lembrete.\n",
    "As mantenho no texto para o caso de futuramente precisar me lembrar do que precisei fazer para desenvolver isso tudo.\n",
    "1-Lembrar de excluir cabeçalho\n",
    " data_list = data_list[1:] OK (feito)\n",
    "2-Converter os dados que passaram no column_to_list para float OK (função alterada)\n",
    "3-Fazer o parse dos números para float:\n",
    " trip_duration_list = list(map(float,trip_duration_list))\"\"\"\n",
    " \n",
    "# print(\"Mediana :\", median_trip, \"Total dados e dobro:\", len(trip_duration_list), meio * 2, \"Mediana -, +:\", ordem[meio-1], ordem[meio+1] )\n",
    "# print(\"Min: \", min_trip, \"Max: \", max_trip, \"Média: \", mean_trip, \"Mediana: \", median_trip)\n",
    "# median_trip = 670 #apenas para passar para próximo exercício. Estava dando defeito e eu precisava disso para prosseguir com os exercícios.\n",
    "\n",
    "# ------------ NÃO MUDE NENHUM CÓDIGO AQUI ------------\n",
    "assert round(min_trip) == 60, \"TAREFA 9: min_trip com resultado errado!\"\n",
    "assert round(max_trip) == 86338, \"TAREFA 9: max_trip com resultado errado!\"\n",
    "assert round(mean_trip) == 940, \"TAREFA 9: mean_trip com resultado errado!\"\n",
    "assert round(median_trip) == 670, \"TAREFA 9: median_trip com resultado errado!\"\n",
    "# -----------------------------------------------------"
   ]
  },
  {
   "cell_type": "markdown",
   "metadata": {},
   "source": [
    "**TAREFA 10:** Verifique quantos tipos de start_stations nós temos, usando set()"
   ]
  },
  {
   "cell_type": "code",
   "execution_count": null,
   "metadata": {},
   "outputs": [],
   "source": [
    "\"\"\"\"Fiz apenas o agrupamento usando a função interna do Python de dicionarização!\n",
    "Como entrada, usei a tripa da tabela, onde haviam tipos de Usuários, já removida é claro, a linha de cabeçalho!\"\"\"\n",
    "user_types = set(column_to_list(data_list, 3))\n",
    "\n",
    "print(\"\\nTAREFA 10: Imprimindo as start stations:\")\n",
    "print(len(user_types))\n",
    "print(user_types)\n",
    "\n",
    "# ------------ NÃO MUDE NENHUM CÓDIGO AQUI ------------\n",
    "assert len(user_types) == 582, \"TAREFA 10: Comprimento errado de start stations.\"\n",
    "# -----------------------------------------------------\n",
    "\n",
    "input(\"Aperte Enter para continuar...\")"
   ]
  },
  {
   "cell_type": "markdown",
   "metadata": {},
   "source": [
    "**TAREFA 11**\n",
    "<br>\n",
    "\n",
    "Volte e tenha certeza que você documenteou suas funções. Explique os parâmetros de entrada, a saída, e o que a função faz. \n",
    "<br>\n",
    "    \n",
    "Exemplo:\n",
    "\n",
    "    def new_function(param1: int, param2: str) -> list:\n",
    "     # Função de exemplo com anotações.\n",
    "     # Argumentos:\n",
    "     #     param1: O primeiro parâmetro.\n",
    "     #     param2: O segundo parâmetro.\n",
    "     # Retorna:\n",
    "     #     Uma lista de valores x.\n"
   ]
  },
  {
   "cell_type": "markdown",
   "metadata": {},
   "source": [
    "**TAREFA 12** - Desafio! (Opcional)\n",
    "<br>\n",
    "\n",
    "TODO: Crie uma função para contar tipos de usuários, sem definir os tipos para que nós possamos usar essa função com outra categoria de dados."
   ]
  },
  {
   "cell_type": "code",
   "execution_count": null,
   "metadata": {},
   "outputs": [],
   "source": [
    "print(\"Você vai encarar o desafio? (yes ou no)\")\n",
    "answer = \"yes\"\n",
    "\n",
    "def count_items(column_list):\n",
    "     # Função de contagem genérica (possibilita uma quantidade de tipos não definida inicialmente.\n",
    "     # Argumentos:\n",
    "     #     column_list: é a tripa de campos que eu desejo contar. String de texto, no caso.\n",
    "     # Retorna:\n",
    "     #     Uma tupla, composta de duas listas. A primeira, em String de texto, contendo os tipos e a segunda, os valores contados para cada tipo.\n",
    "    item_types = [] # Inicializa essa lista\n",
    "    tipos = set(column_list)\n",
    "    for tipo in tipos: # isso aqui será minha saída dos tipos contados. Então eu leio do meu set e gravo na primeira lista de saída.\n",
    "        item_types.append (tipo)\t\n",
    "    #for item in item_types:\n",
    "        #print(\"tipo de item :\", item)\n",
    "    count_items = [] # Inicializa essa lista\n",
    "    contagem = {} # Criar um dicionário dos tipos. Eu uso um dicionário para fazer minhas contagens.\n",
    "    for tipo in item_types: #alimenta o dicionário com os zeros iniciais.\n",
    "        #print (\"tipo :\", tipo) #{\"\", \"Male\", \"Female\"}\n",
    "        contagem[tipo] = 0\n",
    "    for item in column_list:\n",
    "        if item in contagem:\n",
    "            contagem[item] += 1 # Adiciona um na contagem para um tipo do meu dicionário.\n",
    "    for tipo in item_types: # Agora eu preciso devolver os resultados numa lista. Então ela lê do meu dicionário e adiciona na segunda lista de saída.\n",
    "        count_items.append(contagem[tipo])\n",
    "    return item_types, count_items\n",
    "\n",
    "#item_types = [set(column_to_list(data_list, -2))]\n",
    "#for item in item_types: #verificar se saíram os tipos\n",
    "#    print (item)\n",
    "\n",
    "if answer == \"yes\":\n",
    "    # ------------ NÃO MUDE NENHUM CÓDIGO AQUI ------------\n",
    "    column_list = column_to_list(data_list, -2)\n",
    "    types, counts = count_items(column_list)\n",
    "    print(\"\\nTAREFA 11: Imprimindo resultados para count_items()\")\n",
    "    print(\"Tipos:\", types, \"Counts:\", counts)\n",
    "    assert len(types) == 3, \"TAREFA 11: Há 3 tipos de gênero!\"\n",
    "    assert sum(counts) == 1551505, \"TAREFA 11: Resultado de retorno incorreto!\"\n",
    "    # -----------------------------------------------------"
   ]
  },
  {
   "cell_type": "markdown",
   "metadata": {},
   "source": [
    "## Comandos úteis do Jupyter Notebook\n",
    "<br>\n",
    "\n",
    "**Esc** lhe põe em **modo de comando** e você pode navegar pelo bloco de notas com as setas:\n",
    "<br>\n",
    "\n",
    "**A e B** insere uma nova célula acima/abaixo\n",
    "<br>\n",
    "\n",
    "**M e Y** torna a célula *markdown*/código\n",
    "<br>\n",
    "\n",
    "**D + D** mata a célula\n",
    "<br>\n",
    "\n",
    "**Enter** lhe põe em **modo edição**, na própria célula:\n",
    "<br>\n",
    "\n",
    "**Shift + Tab** exibe a *docstring* (documentação) do objeto que você acabou de digitar. Se pressionado outras vezes, mostra outros modos de documentação\n",
    "<br>\n",
    "\n",
    "**Ctrl + Shift + -** irá quebrar a célula em duas, no ponto onde estiver seu cursor\n",
    "<br>\n",
    "\n",
    "**Esc + F** encontra e substitui no seu código, mas não nas saídas da célula\n",
    "<br>\n",
    "\n",
    "**Esc + O** comuta para saída da célula\n",
    "<br>\n",
    "\n",
    "### Selecionando várias células:\n",
    "<br>\n",
    "\n",
    "**Shift + J or Shift + ↓** seleciona a próxima célula abaixo. Você também pode usar **Shift + ↑** para pegar a de cima\n",
    "<br>\n",
    "\n",
    "Uma vez a célula estando selecionada, você então pode apagar/copiar/corta/colar/rodar em lote. Isso é interessante se vocÊ precisa mover partes inteiras do seu bloco de notas.\n",
    "<br>\n",
    "\n",
    "**Shift + M** funde várias células\n",
    "\n",
    "*Crtl + Shift + P exibe a lista completa de atalhos...*\n",
    "<br>\n",
    "\n",
    "[mais dicas](https://www.dataquest.io/blog/jupyter-notebook-tips-tricks-shortcuts/)"
   ]
  },
  {
   "cell_type": "markdown",
   "metadata": {},
   "source": [
    "### Comandos Mágicos:"
   ]
  },
  {
   "cell_type": "code",
   "execution_count": 2,
   "metadata": {},
   "outputs": [
    {
     "data": {
      "application/json": {
       "cell": {
        "!": "OSMagics",
        "HTML": "Other",
        "SVG": "Other",
        "bash": "Other",
        "capture": "ExecutionMagics",
        "cmd": "Other",
        "debug": "ExecutionMagics",
        "file": "Other",
        "html": "DisplayMagics",
        "javascript": "DisplayMagics",
        "js": "DisplayMagics",
        "latex": "DisplayMagics",
        "markdown": "DisplayMagics",
        "perl": "Other",
        "prun": "ExecutionMagics",
        "pypy": "Other",
        "python": "Other",
        "python2": "Other",
        "python3": "Other",
        "ruby": "Other",
        "script": "ScriptMagics",
        "sh": "Other",
        "svg": "DisplayMagics",
        "sx": "OSMagics",
        "system": "OSMagics",
        "time": "ExecutionMagics",
        "timeit": "ExecutionMagics",
        "writefile": "OSMagics"
       },
       "line": {
        "alias": "OSMagics",
        "alias_magic": "BasicMagics",
        "autocall": "AutoMagics",
        "automagic": "AutoMagics",
        "autosave": "KernelMagics",
        "bookmark": "OSMagics",
        "cd": "OSMagics",
        "clear": "KernelMagics",
        "cls": "KernelMagics",
        "colors": "BasicMagics",
        "config": "ConfigMagics",
        "connect_info": "KernelMagics",
        "copy": "Other",
        "ddir": "Other",
        "debug": "ExecutionMagics",
        "dhist": "OSMagics",
        "dirs": "OSMagics",
        "doctest_mode": "BasicMagics",
        "echo": "Other",
        "ed": "Other",
        "edit": "KernelMagics",
        "env": "OSMagics",
        "gui": "BasicMagics",
        "hist": "Other",
        "history": "HistoryMagics",
        "killbgscripts": "ScriptMagics",
        "ldir": "Other",
        "less": "KernelMagics",
        "load": "CodeMagics",
        "load_ext": "ExtensionMagics",
        "loadpy": "CodeMagics",
        "logoff": "LoggingMagics",
        "logon": "LoggingMagics",
        "logstart": "LoggingMagics",
        "logstate": "LoggingMagics",
        "logstop": "LoggingMagics",
        "ls": "Other",
        "lsmagic": "BasicMagics",
        "macro": "ExecutionMagics",
        "magic": "BasicMagics",
        "matplotlib": "PylabMagics",
        "mkdir": "Other",
        "more": "KernelMagics",
        "notebook": "BasicMagics",
        "page": "BasicMagics",
        "pastebin": "CodeMagics",
        "pdb": "ExecutionMagics",
        "pdef": "NamespaceMagics",
        "pdoc": "NamespaceMagics",
        "pfile": "NamespaceMagics",
        "pinfo": "NamespaceMagics",
        "pinfo2": "NamespaceMagics",
        "pip": "BasicMagics",
        "popd": "OSMagics",
        "pprint": "BasicMagics",
        "precision": "BasicMagics",
        "profile": "BasicMagics",
        "prun": "ExecutionMagics",
        "psearch": "NamespaceMagics",
        "psource": "NamespaceMagics",
        "pushd": "OSMagics",
        "pwd": "OSMagics",
        "pycat": "OSMagics",
        "pylab": "PylabMagics",
        "qtconsole": "KernelMagics",
        "quickref": "BasicMagics",
        "recall": "HistoryMagics",
        "rehashx": "OSMagics",
        "reload_ext": "ExtensionMagics",
        "ren": "Other",
        "rep": "Other",
        "rerun": "HistoryMagics",
        "reset": "NamespaceMagics",
        "reset_selective": "NamespaceMagics",
        "rmdir": "Other",
        "run": "ExecutionMagics",
        "save": "CodeMagics",
        "sc": "OSMagics",
        "set_env": "OSMagics",
        "store": "StoreMagics",
        "sx": "OSMagics",
        "system": "OSMagics",
        "tb": "ExecutionMagics",
        "time": "ExecutionMagics",
        "timeit": "ExecutionMagics",
        "unalias": "OSMagics",
        "unload_ext": "ExtensionMagics",
        "who": "NamespaceMagics",
        "who_ls": "NamespaceMagics",
        "whos": "NamespaceMagics",
        "xdel": "NamespaceMagics",
        "xmode": "BasicMagics"
       }
      },
      "text/plain": [
       "Available line magics:\n",
       "%alias  %alias_magic  %autocall  %automagic  %autosave  %bookmark  %cd  %clear  %cls  %colors  %config  %connect_info  %copy  %ddir  %debug  %dhist  %dirs  %doctest_mode  %echo  %ed  %edit  %env  %gui  %hist  %history  %killbgscripts  %ldir  %less  %load  %load_ext  %loadpy  %logoff  %logon  %logstart  %logstate  %logstop  %ls  %lsmagic  %macro  %magic  %matplotlib  %mkdir  %more  %notebook  %page  %pastebin  %pdb  %pdef  %pdoc  %pfile  %pinfo  %pinfo2  %popd  %pprint  %precision  %profile  %prun  %psearch  %psource  %pushd  %pwd  %pycat  %pylab  %qtconsole  %quickref  %recall  %rehashx  %reload_ext  %ren  %rep  %rerun  %reset  %reset_selective  %rmdir  %run  %save  %sc  %set_env  %store  %sx  %system  %tb  %time  %timeit  %unalias  %unload_ext  %who  %who_ls  %whos  %xdel  %xmode\n",
       "\n",
       "Available cell magics:\n",
       "%%!  %%HTML  %%SVG  %%bash  %%capture  %%cmd  %%debug  %%file  %%html  %%javascript  %%js  %%latex  %%markdown  %%perl  %%prun  %%pypy  %%python  %%python2  %%python3  %%ruby  %%script  %%sh  %%svg  %%sx  %%system  %%time  %%timeit  %%writefile\n",
       "\n",
       "Automagic is ON, % prefix IS NOT needed for line magics."
      ]
     },
     "execution_count": 2,
     "metadata": {},
     "output_type": "execute_result"
    }
   ],
   "source": [
    "%lsmagic"
   ]
  },
  {
   "cell_type": "markdown",
   "metadata": {},
   "source": [
    "### Textos LaTeX:\n",
    "<br>\n",
    "\n",
    "Use [MathJax](https://www.mathjax.org/), copie e cole o resultado em uma célula *Markdown*:"
   ]
  },
  {
   "cell_type": "markdown",
   "metadata": {},
   "source": [
    "\\\\( P(A \\mid B) = \\frac{P(B \\mid A) \\, P(A)}{P(B)} \\\\)"
   ]
  },
  {
   "cell_type": "markdown",
   "metadata": {},
   "source": [
    "### Apresentação tipo Powerpoint:\n",
    "<br>\n",
    "\n",
    "Instale o RISE\n",
    "<br>\n",
    "\n",
    "    conda install -c damianavila82 rise\n",
    "    \n",
    "Ou,\n",
    "\n",
    "    pip install RISE\n",
    "\n",
    "E o ative\n",
    "\n",
    "    jupyter-nbextension install rise --py --sys-prefix\n",
    "    jupyter-nbextension enable rise --py --sys-prefix"
   ]
  },
  {
   "cell_type": "markdown",
   "metadata": {},
   "source": [
    "### Processo análise de Big Data:\n",
    "<br>\n",
    "\n",
    "- ipyparallel (ipython cluster) para operações de redução de mapa em Python. É usado para treinar modelos de aprendizado de máquina em paralelo\n",
    "<br>\n",
    "\n",
    "- pyspark\n",
    "<br>\n",
    "\n",
    "- spark-sql magic %%sql"
   ]
  },
  {
   "cell_type": "markdown",
   "metadata": {},
   "source": [
    "### Turtle\n",
    "\n",
    "[aqui](https://pypi.org/project/ipyturtle/)"
   ]
  }
 ],
 "metadata": {
  "kernelspec": {
   "display_name": "Python 3",
   "language": "python",
   "name": "python3"
  },
  "language_info": {
   "codemirror_mode": {
    "name": "ipython",
    "version": 3
   },
   "file_extension": ".py",
   "mimetype": "text/x-python",
   "name": "python",
   "nbconvert_exporter": "python",
   "pygments_lexer": "ipython3",
   "version": "3.6.7"
  }
 },
 "nbformat": 4,
 "nbformat_minor": 2
}
