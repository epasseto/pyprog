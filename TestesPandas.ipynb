{
 "cells": [
  {
   "cell_type": "markdown",
   "metadata": {},
   "source": [
    "## Pandas\n",
    "\n",
    "## Numpy\n",
    "\n",
    "---\n",
    "\n",
    "Para começar com Pandas, é necessário entender conceitos básicos do Numpy\n",
    "\n",
    "Toda a teoria de **Databases** é baseada em um conceito de **Forma Normal**. Isso vem lá dos primórdios das linguagens especiais para **Bancos de Dados**, como **COBOL** e está baseado numa padronização tipo 1FN, 2FN... Todo mundo que opera **Databases** conhece e adora discutir essas formas normais[aqui](https://pt.wikipedia.org/wiki/Normaliza%C3%A7%C3%A3o_de_dados)\n",
    "\n",
    "E a linguagem de programação se fixou para **Databases** foi o SQL\n",
    "\n",
    "Este é um casamento quase perfeito, se não fosse o pequeno detalhe que o que normalmente se faz em Python não é gerir e armazenar bancos de dados, mas sim fazer **Data Science**!\n",
    "\n",
    "---\n",
    "\n",
    "Bom, então teremos que contar esta história toda de novo. Tudo começou com a evolução do Python como linguagem por excelência para Inteligência Artificial. O ramo é extremamente **promissor** e vale a pena entender as regras deste jogo\n",
    "\n",
    "Em **primeiro** lugar, temos dados que originalmente simplesmente foram colocados na maneira mais simples usada pela ciência para armazenar grande volume de dados. Então se usavam **Matrizes** e **Vetores**. Matriz é uma estrutura 2D contendo dados numéricos de **ponto flutuante**. O ideal é que estes dados não sejam muito **esparsos**, ou teremos que lidar com eles de maneiras diferentes. A ciência foi capaz de evoluir várias formulações matemáticas para lidar com **matrizes esparsas**. Vetores são mais simples, são uma matriz com uma única dimensão de dados\n",
    "\n",
    "A maneira de lidar com dados inicial do Python portanto, foi na forma de matrizes e vetores. E matrizes são tratadas por um pacote específico chamado **Numpy**"
   ]
  },
  {
   "cell_type": "markdown",
   "metadata": {},
   "source": [
    "E como diversos pacotes entrelaçam com **Numpy**, esta revisão pode ser útil [aqui](https://www.datacamp.com/community/tutorials/python-numpy-tutorial)\n",
    "\n",
    "Especialmente Pandas. O Pandas não começou da maneira tradicional dos **Databases**. Ele criou sua própria estrutura chamada de **Dataframes**. Um **Dataframe** é portanto um **forking** (derivação) de uma matriz **Numpy** e ultrassofisticada, podendo conter diversos tipos de campos, **Multiíndice**, **Multicoluna** e operações complexas, como **Relacionamentos**, **Empilhamento** e muitas outras\n",
    "\n",
    "Primeiro uma revisão de:\n",
    "\n",
    "**Matrizes**\n",
    "\n",
    "- o apontador **data** indica o endereço de memória do primeiro byte da matriz\n",
    "\n",
    "- **dtype** descreve o tipo de dado\n",
    "\n",
    "- **shape** o formato\n",
    "\n",
    "- **strides** é o número de bytes que serão pulados para o próximo elemento. Se o seu **stride** for (10,1), você precisará prosseguir por um byte para a próxima coluna e 10 bytes para encontrar a próxima linha\n",
    "\n",
    "Funções interessantes:\n",
    "\n",
    "- **np.linspace()** e **np.arange()** para criar matrizes com certos conjuntos de dados\n",
    "\n",
    "- **np.eye()** e **np.identity()** para matriz identidade\n",
    "\n",
    "- **.loadtxt()** e **.genfromtxt()** para carregar matrizes a partir de arquivos texto e **.savetxt()** para gravar\n",
    "\n",
    "- **np.array_equal()** para comparar duas matrizes\n",
    "\n",
    "- **np.logical_or()** (...) operadores lógicos ( e também em comparações, | (OR) e & (AND)\n",
    "\n",
    "      bigger_than_3 = (my_3d_array > 3) | (my_3d_array == 3)\n",
    "\n",
    "\n",
    "- Cortar matrizes"
   ]
  },
  {
   "cell_type": "code",
   "execution_count": null,
   "metadata": {},
   "outputs": [],
   "source": [
    "a[start:end] # items start through the end (but the end is not included!)\n",
    "a[start:]    # items start through the rest of the array\n",
    "a[:end]      # items from the beginning through the end (but the end is not included!)"
   ]
  },
  {
   "cell_type": "markdown",
   "metadata": {},
   "source": [
    "- **np.resize()** e **np.reshape()** para cortar/colar cópias dos dados até preencher a nova matriz (bons para arquivos *raster*) \n",
    "\n",
    "- **.ravel()** para achatar a uma dimensão menor\n",
    "\n",
    "- **np.append()** para colar uma ao final da outra (como SQL **Union**)\n",
    "\n",
    "- **np.insert()** e **np.delete()** para adicionar ou eliminar elementos\n",
    "\n",
    "- **np.concatenate()** ou **np.c_[]**\n",
    "\n",
    "- **np.vstack()** e **np.hstack()** e **np.column_stack()**\n",
    "\n",
    "- **np.hsplit()** e **np.vsplit**\n",
    "\n",
    "- **np.histogram()**\n",
    "\n",
    "- **np.meshgrid()**"
   ]
  },
  {
   "cell_type": "markdown",
   "metadata": {},
   "source": [
    "### Dicionários [aqui](https://www.youtube.com/watch?v=daefaLgNkw0)\n",
    "\n",
    "---\n",
    "\n",
    "Em **segundo** lugar, teremos a estrutura chamada **Dicionário**. Para trabalhar com Data Science e AI em Python é importante conhecer bem esta estrutura. Ela é bastante simples e muito funcional. Dicionários são usados há bastante tempo em programação para otimizar cálculos complexos. Tanto **Matrizes** como **Dicionários** são facilmente convertidos em **Dataframes**\n",
    "\n",
    "Um dicionário trabalha com o conceito de **Key-Value Pairs**. Um **Valor Chave** serve para abrir um segundo valor. A graça é que este segundo valor pode ser algo simples, como uma string de texto, ou uma **sequência de dados**, ou mesmo um segundo dicionário **aninhado**"
   ]
  },
  {
   "cell_type": "code",
   "execution_count": 1,
   "metadata": {},
   "outputs": [
    {
     "name": "stdout",
     "output_type": "stream",
     "text": [
      "John\n"
     ]
    }
   ],
   "source": [
    "student = {'name': 'John', 'age': 25, 'courses': ['Math', 'CompSci']}\n",
    "\n",
    "student.update({'name': 'Jane', 'age': 26, 'phone': '555-555'}) #para múltiplas atualizações\n",
    "\n",
    "student['phone'] = '444-444'\n",
    "student['name'] = 'Jane'\n",
    "\n",
    "del student['age'] #remover\n",
    "age = student.pop('age')\n",
    "\n",
    "print(len(student)) #mostra as chaves\n",
    "print(student.keys)\n",
    "print(student.values) #mostra os valores\n",
    "print(student.items()) #chaves e valores (em tuplas)\n",
    "\n",
    "for key in student:\n",
    "        print(key)\n",
    "\n",
    "for key, value in student.items():\n",
    "        print(key, value)\n",
    "\n",
    "print (student.get('name'))\n",
    "print (student.get('phone'))# <-return None\n",
    "print (student.get('name', 'Not Found'))# <-mensagem customizada"
   ]
  },
  {
   "cell_type": "markdown",
   "metadata": {},
   "source": [
    "---\n",
    "\n",
    "Dica: se eu quiser testar se um objeto está vazio:\n",
    "\n",
    "*Isso vale para qualquer objeto Python. Então eu não preciso testar se aquele objeto contêm um dado, etc.. Eu posso simplesmente chamar por aquele objeto. Esse tipo de teste rápido evita um bocado de erro no meu código!*"
   ]
  },
  {
   "cell_type": "code",
   "execution_count": 2,
   "metadata": {},
   "outputs": [
    {
     "name": "stdout",
     "output_type": "stream",
     "text": [
      "Vazio\n"
     ]
    }
   ],
   "source": [
    "dicionario={}\n",
    "\n",
    "if dicionario:\n",
    "    print('OK')\n",
    "else:\n",
    "    print('Vazio')"
   ]
  },
  {
   "cell_type": "markdown",
   "metadata": {},
   "source": [
    "---\n",
    "\n",
    "Dica: se eu quiser saber se um objeto é ele mesmo ou se é um apontador:\n",
    "\n",
    "*Observe que cada um ocupa um espaço na memória, possui um ID diferente!*"
   ]
  },
  {
   "cell_type": "code",
   "execution_count": 5,
   "metadata": {},
   "outputs": [
    {
     "name": "stdout",
     "output_type": "stream",
     "text": [
      "diferente\n",
      "1796070138936 1796069932920\n"
     ]
    }
   ],
   "source": [
    "dicionario={}\n",
    "diciob={}\n",
    "\n",
    "if dicionario is diciob:\n",
    "    print('Igual')\n",
    "else:\n",
    "    print('diferente')\n",
    "    \n",
    "print(id(dicionario), id(diciob))"
   ]
  },
  {
   "cell_type": "markdown",
   "metadata": {},
   "source": [
    "---\n",
    "\n",
    "Em **Terceiro**, é necessário uma boa revisão em **Estatística**. A Estatística é a base da AI e sem conhecer o seu funcionamento, dificilmente se consegue algo com algum fundamento científico. E mesmo que você esteja pensando em criar apenas um jogo, sem um mínimo de fundamento científico, seu game mostrará inconsistências e se tornará desacreditado!\n",
    "\n",
    "---\n",
    "\n",
    "E por fim, maneiras de exibir isso ao seu cliente, através de **gráficos**. A revisão de **Seaborn** trata apenas disso. Gráficos são usados em Data Science em duas etapas:\n",
    "\n",
    "- exploratória, quando nós queremos entender a **estrutura profunda** dos dados com os quais estamos lidando. Então são gráficos plotados para **nós mesmos**, indicando a localização dos outliers, a dispersão dos pontos, as possíveis falhas na aquisição, possíveis aproximações a uma regressão linear ou não...\n",
    "\n",
    "- explanatória, quando nós iremos apresentar os **resultados** ao nosso cliente. Estes são gráficos bonitos, pouco poluídos e que exibam bastante **Big Data**. É isso o que um administrador e o público em geral gostam de ver"
   ]
  },
  {
   "cell_type": "markdown",
   "metadata": {},
   "source": [
    "## Pandas\n",
    "\n",
    "---"
   ]
  },
  {
   "cell_type": "markdown",
   "metadata": {},
   "source": [
    "Como o **Seaborn** interage muito bem com o sistema de dados **Pandas**, esta revisão foi encontrada [aqui](https://www.datacamp.com/community/tutorials/pandas-tutorial-dataframe-python)\n",
    "\n",
    "Uma colinha [aqui](https://s3.amazonaws.com/assets.datacamp.com/blog_assets/PandasPythonForDataScience.pdf)\n",
    "\n",
    "Um **dataset** Pandas é composto de **dados**, **índice** e **colunas**. A estrutura que pode conter os dados pode ser:\n",
    "\n",
    "- um Pandas **dataframe**\n",
    "\n",
    "- uma **série** Pandas\n",
    "\n",
    "- uma **ndarray** do Numpy de 2D\n",
    "\n",
    "- **dicionários** de **ndarray** de uma dimensão, listas, dicionários de **séries**\n",
    "\n",
    "OS tipos são:\n",
    "\n",
    "- **series** 1D com **índice** e **rótulos**\n",
    "\n",
    "- **dataframes** 2D com **índices 2D** e **rótulos** de **linha** e de **coluna**\n",
    "\n",
    "- **panel** 3D, como os anteriores"
   ]
  },
  {
   "cell_type": "markdown",
   "metadata": {},
   "source": [
    "---\n",
    "\n",
    "Dataframe é uma estrutura de dados 2D, muito parecida com em banco de dados, as **tabelas**\n",
    "\n",
    "Ela possui **colunas**, que em banco de dados são chamados **campos**. Uma coluna pode apresentar estrutura hierarquizada, chamada de **categorias**, ou **multiíndice de coluna**\n",
    "\n",
    "E ela possui **linhas**, que em banco de dados são chamados de **registros**. O **índice** pode apresentar estrutura de árvore, chamada de **multiíndice**\n",
    "\n",
    "O método Pandas para isso é **.set_index()** e para visualizar, **df.index**"
   ]
  },
  {
   "cell_type": "markdown",
   "metadata": {},
   "source": [
    "---"
   ]
  },
  {
   "cell_type": "markdown",
   "metadata": {},
   "source": [
    "Matrizes **estruturadas** permitem a manipulação de dados através de **campos** por nome (coluna) e de registros via **índice** (linha):"
   ]
  },
  {
   "cell_type": "code",
   "execution_count": 90,
   "metadata": {},
   "outputs": [
    {
     "name": "stdout",
     "output_type": "stream",
     "text": [
      "[1 1 1]\n",
      "[1. 1. 1.]\n"
     ]
    }
   ],
   "source": [
    "import numpy as np\n",
    "\n",
    "# A structured array\n",
    "my_array = np.ones(3, dtype=([('foo', int), ('bar', float)]))\n",
    "\n",
    "# Print the structured array\n",
    "#print (my_array.dtype.names)\n",
    "print (my_array['foo'])\n",
    "print (my_array['bar'])"
   ]
  },
  {
   "cell_type": "markdown",
   "metadata": {},
   "source": [
    "---"
   ]
  },
  {
   "cell_type": "markdown",
   "metadata": {},
   "source": [
    "Matrizes **de registro** (record array) aumentam essa possibilidade. Elas permitem que os campos de uma matriz **estruturada** sejam acessados por **atributo**:"
   ]
  },
  {
   "cell_type": "code",
   "execution_count": 91,
   "metadata": {},
   "outputs": [
    {
     "name": "stdout",
     "output_type": "stream",
     "text": [
      "[1 1 1]\n",
      "[1. 1. 1.]\n"
     ]
    }
   ],
   "source": [
    "# A record array\n",
    "my_array2 = my_array.view(np.recarray)\n",
    "\n",
    "# Print the record array\n",
    "print(my_array2.foo)\n",
    "print(my_array2.bar)"
   ]
  },
  {
   "cell_type": "markdown",
   "metadata": {},
   "source": [
    "---"
   ]
  },
  {
   "cell_type": "markdown",
   "metadata": {},
   "source": [
    "Passagem do dataframe do **Numpy** para o **Pandas**"
   ]
  },
  {
   "cell_type": "code",
   "execution_count": 92,
   "metadata": {},
   "outputs": [
    {
     "name": "stdout",
     "output_type": "stream",
     "text": [
      "     Col1 Col2\n",
      "Row1    1    2\n",
      "Row2    3    4\n"
     ]
    }
   ],
   "source": [
    "import numpy as np\n",
    "import pandas as pd\n",
    "\n",
    "data = np.array([['','Col1','Col2'],\n",
    "                ['Row1',1,2],\n",
    "                ['Row2',3,4]])\n",
    "                \n",
    "print(pd.DataFrame(data=data[1:,1:],\n",
    "                  index=data[1:,0],\n",
    "                  columns=data[0,1:]))\n",
    "\n",
    "#print (data[1:,1:])\n",
    "#print (data[1:,0])\n",
    "#print (data[0,1:])"
   ]
  },
  {
   "cell_type": "markdown",
   "metadata": {},
   "source": [
    "---"
   ]
  },
  {
   "cell_type": "markdown",
   "metadata": {},
   "source": [
    "**Matriz 2D**, **dicionário**, **dataframe** e **série** transformadas em Pandas Dataframe:\n",
    "\n",
    "*observe que a série ficou ordenada!*"
   ]
  },
  {
   "cell_type": "code",
   "execution_count": 94,
   "metadata": {},
   "outputs": [
    {
     "name": "stdout",
     "output_type": "stream",
     "text": [
      "   0  1  2\n",
      "0  1  2  3\n",
      "1  4  5  6\n",
      "   1  2  3\n",
      "0  1  1  2\n",
      "1  3  2  4\n",
      "   A\n",
      "0  4\n",
      "1  5\n",
      "2  6\n",
      "3  7\n"
     ]
    },
    {
     "data": {
      "text/html": [
       "<div>\n",
       "<style scoped>\n",
       "    .dataframe tbody tr th:only-of-type {\n",
       "        vertical-align: middle;\n",
       "    }\n",
       "\n",
       "    .dataframe tbody tr th {\n",
       "        vertical-align: top;\n",
       "    }\n",
       "\n",
       "    .dataframe thead th {\n",
       "        text-align: right;\n",
       "    }\n",
       "</style>\n",
       "<table border=\"1\" class=\"dataframe\">\n",
       "  <thead>\n",
       "    <tr style=\"text-align: right;\">\n",
       "      <th></th>\n",
       "      <th>0</th>\n",
       "    </tr>\n",
       "  </thead>\n",
       "  <tbody>\n",
       "    <tr>\n",
       "      <th>Belgium</th>\n",
       "      <td>Brussels</td>\n",
       "    </tr>\n",
       "    <tr>\n",
       "      <th>India</th>\n",
       "      <td>New Delhi</td>\n",
       "    </tr>\n",
       "    <tr>\n",
       "      <th>United Kingdom</th>\n",
       "      <td>London</td>\n",
       "    </tr>\n",
       "    <tr>\n",
       "      <th>United States</th>\n",
       "      <td>Washington</td>\n",
       "    </tr>\n",
       "  </tbody>\n",
       "</table>\n",
       "</div>"
      ],
      "text/plain": [
       "                         0\n",
       "Belgium           Brussels\n",
       "India            New Delhi\n",
       "United Kingdom      London\n",
       "United States   Washington"
      ]
     },
     "execution_count": 94,
     "metadata": {},
     "output_type": "execute_result"
    }
   ],
   "source": [
    "# Take a 2D array as input to your DataFrame \n",
    "my_2darray = np.array([[1, 2, 3], [4, 5, 6]])\n",
    "print(pd.DataFrame(my_2darray))\n",
    "\n",
    "# Take a dictionary as input to your DataFrame \n",
    "my_dict = {1: ['1', '3'], 2: ['1', '2'], 3: ['2', '4']}\n",
    "print(pd.DataFrame(my_dict))\n",
    "\n",
    "# Take a DataFrame as input to your DataFrame \n",
    "my_df = pd.DataFrame(data=[4,5,6,7], index=range(0,4), columns=['A'])\n",
    "print(pd.DataFrame(my_df))\n",
    "\n",
    "# Take a Series as input to your DataFrame\n",
    "my_series = pd.Series({\"Belgium\":\"Brussels\", \"India\":\"New Delhi\", \"United Kingdom\":\"London\", \"United States\":\"Washington\"})\n",
    "pd.DataFrame(my_series)"
   ]
  },
  {
   "cell_type": "markdown",
   "metadata": {},
   "source": [
    "---"
   ]
  },
  {
   "cell_type": "markdown",
   "metadata": {},
   "source": [
    "Informações sobre o Dataframe:\n",
    "\n",
    "- propriedade **shape** dá as dimensões\n",
    "- função **len()** em combinação com a propriedade **index**, traz apenas o comprimento\n",
    "- **df[0].count()** exclui os valores **Nan** e pode ser perigoso. Mas dar um **df.count()** pode lhe dizer em quais colunas existem valores nulos!\n",
    "- **list(df.columns.values)** dá mais informações sobre as colunas "
   ]
  },
  {
   "cell_type": "markdown",
   "metadata": {},
   "source": [
    "---"
   ]
  },
  {
   "cell_type": "markdown",
   "metadata": {},
   "source": [
    "Acessando de diversas maneiras o **valor** que se encontra no índice 2, da coluna B\n",
    "\n",
    "Depois, acessando **colunas** e **linhas**\n",
    "\n",
    "Conceito de **indexação**\n",
    "\n",
    "- .loc[] - trabalha sobre **rótulos**, como \"A\"\n",
    "- .iloc[] - trabalha com **posições**"
   ]
  },
  {
   "cell_type": "code",
   "execution_count": 95,
   "metadata": {},
   "outputs": [
    {
     "name": "stdout",
     "output_type": "stream",
     "text": [
      "   A  B  C\n",
      "0  1  4  7\n",
      "1  2  5  8\n",
      "2  3  6  9\n",
      "6\n",
      "6\n",
      "6\n",
      "6\n",
      "A    1\n",
      "B    4\n",
      "C    7\n",
      "Name: 0, dtype: object\n",
      "A    1\n",
      "B    4\n",
      "C    7\n",
      "Name: 0, dtype: object\n",
      "0    1\n",
      "1    2\n",
      "2    3\n",
      "Name: A, dtype: object\n"
     ]
    }
   ],
   "source": [
    "# Take a dictionary as input to your DataFrame\n",
    "my_dict = {'A': ['1', '2', '3'], 'B': ['4', '5', '6'], 'C': ['7', '8', '9']}\n",
    "df = pd.DataFrame(my_dict)\n",
    "print(df)\n",
    "\n",
    "# Using `iloc[]`\n",
    "print(df.iloc[2][1])\n",
    "\n",
    "# Using `loc[]`\n",
    "print(df.loc[2]['B'])\n",
    "\n",
    "# Using `at[]`\n",
    "print(df.at[2,'B'])\n",
    "\n",
    "# Using `iat[]`\n",
    "print(df.iat[2,1])\n",
    "\n",
    "#Colunas e linhas\n",
    "# Use `iloc[]` to select row `0`\n",
    "print(df.iloc[0])\n",
    "print(df.iloc[0, :])\n",
    "\n",
    "# Use `loc[]` to select column `'A'`\n",
    "print(df.loc[:,'A'])"
   ]
  },
  {
   "cell_type": "markdown",
   "metadata": {},
   "source": [
    "---"
   ]
  },
  {
   "cell_type": "markdown",
   "metadata": {},
   "source": [
    "Acrescentar um **índice** a um dataframe:"
   ]
  },
  {
   "cell_type": "code",
   "execution_count": 96,
   "metadata": {},
   "outputs": [
    {
     "name": "stdout",
     "output_type": "stream",
     "text": [
      "   A  B  C\n",
      "0  1  4  7\n",
      "1  2  5  8\n",
      "2  3  6  9\n"
     ]
    },
    {
     "data": {
      "text/html": [
       "<div>\n",
       "<style scoped>\n",
       "    .dataframe tbody tr th:only-of-type {\n",
       "        vertical-align: middle;\n",
       "    }\n",
       "\n",
       "    .dataframe tbody tr th {\n",
       "        vertical-align: top;\n",
       "    }\n",
       "\n",
       "    .dataframe thead th {\n",
       "        text-align: right;\n",
       "    }\n",
       "</style>\n",
       "<table border=\"1\" class=\"dataframe\">\n",
       "  <thead>\n",
       "    <tr style=\"text-align: right;\">\n",
       "      <th></th>\n",
       "      <th>A</th>\n",
       "      <th>B</th>\n",
       "    </tr>\n",
       "    <tr>\n",
       "      <th>C</th>\n",
       "      <th></th>\n",
       "      <th></th>\n",
       "    </tr>\n",
       "  </thead>\n",
       "  <tbody>\n",
       "    <tr>\n",
       "      <th>7</th>\n",
       "      <td>1</td>\n",
       "      <td>4</td>\n",
       "    </tr>\n",
       "    <tr>\n",
       "      <th>8</th>\n",
       "      <td>2</td>\n",
       "      <td>5</td>\n",
       "    </tr>\n",
       "    <tr>\n",
       "      <th>9</th>\n",
       "      <td>3</td>\n",
       "      <td>6</td>\n",
       "    </tr>\n",
       "  </tbody>\n",
       "</table>\n",
       "</div>"
      ],
      "text/plain": [
       "   A  B\n",
       "C      \n",
       "7  1  4\n",
       "8  2  5\n",
       "9  3  6"
      ]
     },
     "execution_count": 96,
     "metadata": {},
     "output_type": "execute_result"
    }
   ],
   "source": [
    "# Print out your DataFrame `df` to check it out\n",
    "print(df)\n",
    "\n",
    "# Set 'C' as the index of your DataFrame\n",
    "# esta é definitiva\n",
    "df.set_index('C')\n",
    "\n",
    "# Outra maneira\n",
    "# esta é volátil - quando você quer usar uma única vez em um comando, prefira ela!\n",
    "#df['C'] = df.index"
   ]
  },
  {
   "cell_type": "markdown",
   "metadata": {},
   "source": [
    "---"
   ]
  },
  {
   "cell_type": "markdown",
   "metadata": {},
   "source": [
    "Acrescentar uma **linha** a um dataframe"
   ]
  },
  {
   "cell_type": "code",
   "execution_count": 97,
   "metadata": {},
   "outputs": [
    {
     "name": "stdout",
     "output_type": "stream",
     "text": [
      "   48  49  50\n",
      "2   1   2   3\n",
      "A   4   5   6\n",
      "4   7   8   9\n",
      "48    1\n",
      "49    2\n",
      "50    3\n",
      "Name: 2, dtype: int32\n",
      "48    7\n",
      "49    8\n",
      "50    9\n",
      "Name: 4, dtype: int32\n"
     ]
    },
    {
     "data": {
      "text/html": [
       "<div>\n",
       "<style scoped>\n",
       "    .dataframe tbody tr th:only-of-type {\n",
       "        vertical-align: middle;\n",
       "    }\n",
       "\n",
       "    .dataframe tbody tr th {\n",
       "        vertical-align: top;\n",
       "    }\n",
       "\n",
       "    .dataframe thead th {\n",
       "        text-align: right;\n",
       "    }\n",
       "</style>\n",
       "<table border=\"1\" class=\"dataframe\">\n",
       "  <thead>\n",
       "    <tr style=\"text-align: right;\">\n",
       "      <th></th>\n",
       "      <th>48</th>\n",
       "      <th>49</th>\n",
       "      <th>50</th>\n",
       "    </tr>\n",
       "  </thead>\n",
       "  <tbody>\n",
       "    <tr>\n",
       "      <th>2</th>\n",
       "      <td>1</td>\n",
       "      <td>2</td>\n",
       "      <td>3</td>\n",
       "    </tr>\n",
       "    <tr>\n",
       "      <th>A</th>\n",
       "      <td>4</td>\n",
       "      <td>5</td>\n",
       "      <td>6</td>\n",
       "    </tr>\n",
       "    <tr>\n",
       "      <th>4</th>\n",
       "      <td>7</td>\n",
       "      <td>8</td>\n",
       "      <td>9</td>\n",
       "    </tr>\n",
       "  </tbody>\n",
       "</table>\n",
       "</div>"
      ],
      "text/plain": [
       "   48  49  50\n",
       "2   1   2   3\n",
       "A   4   5   6\n",
       "4   7   8   9"
      ]
     },
     "execution_count": 97,
     "metadata": {},
     "output_type": "execute_result"
    }
   ],
   "source": [
    "import pandas as pd\n",
    "import numpy as np\n",
    "df = pd.DataFrame(data=np.array([[1, 2, 3], [4, 5, 6], [7, 8, 9]]), \n",
    "                  index= [2, 'A', 4], columns=[48, 49, 50])\n",
    "print(df)\n",
    "\n",
    "# Pass `2` to `loc`\n",
    "print(df.loc[2])\n",
    "\n",
    "# Pass `2` to `iloc`\n",
    "print(df.iloc[2])\n",
    "df"
   ]
  },
  {
   "cell_type": "markdown",
   "metadata": {},
   "source": [
    "---"
   ]
  },
  {
   "cell_type": "markdown",
   "metadata": {},
   "source": [
    "Apenas atribua a nova coluna a um índice particular, usando a função de localização **.loc[]**:"
   ]
  },
  {
   "cell_type": "code",
   "execution_count": 99,
   "metadata": {},
   "outputs": [
    {
     "data": {
      "text/html": [
       "<div>\n",
       "<style scoped>\n",
       "    .dataframe tbody tr th:only-of-type {\n",
       "        vertical-align: middle;\n",
       "    }\n",
       "\n",
       "    .dataframe tbody tr th {\n",
       "        vertical-align: top;\n",
       "    }\n",
       "\n",
       "    .dataframe thead th {\n",
       "        text-align: right;\n",
       "    }\n",
       "</style>\n",
       "<table border=\"1\" class=\"dataframe\">\n",
       "  <thead>\n",
       "    <tr style=\"text-align: right;\">\n",
       "      <th></th>\n",
       "      <th>48</th>\n",
       "      <th>49</th>\n",
       "      <th>50</th>\n",
       "    </tr>\n",
       "  </thead>\n",
       "  <tbody>\n",
       "    <tr>\n",
       "      <th>2</th>\n",
       "      <td>1</td>\n",
       "      <td>2</td>\n",
       "      <td>3</td>\n",
       "    </tr>\n",
       "    <tr>\n",
       "      <th>A</th>\n",
       "      <td>4</td>\n",
       "      <td>5</td>\n",
       "      <td>6</td>\n",
       "    </tr>\n",
       "    <tr>\n",
       "      <th>4</th>\n",
       "      <td>7</td>\n",
       "      <td>8</td>\n",
       "      <td>9</td>\n",
       "    </tr>\n",
       "    <tr>\n",
       "      <th>E</th>\n",
       "      <td>-2</td>\n",
       "      <td>-1</td>\n",
       "      <td>0</td>\n",
       "    </tr>\n",
       "  </tbody>\n",
       "</table>\n",
       "</div>"
      ],
      "text/plain": [
       "   48  49  50\n",
       "2   1   2   3\n",
       "A   4   5   6\n",
       "4   7   8   9\n",
       "E  -2  -1   0"
      ]
     },
     "execution_count": 99,
     "metadata": {},
     "output_type": "execute_result"
    }
   ],
   "source": [
    "df.loc[\"E\"] = [-2, -1, 0]  # adding a row\n",
    "df\n",
    "\n",
    "#df.index = df.index + 1  # shifting index\n",
    "#df = df.sort_index()  # sorting by index"
   ]
  },
  {
   "cell_type": "markdown",
   "metadata": {},
   "source": [
    "---"
   ]
  },
  {
   "cell_type": "markdown",
   "metadata": {},
   "source": [
    "Resetando o **índice**:"
   ]
  },
  {
   "cell_type": "code",
   "execution_count": 100,
   "metadata": {},
   "outputs": [
    {
     "name": "stdout",
     "output_type": "stream",
     "text": [
      "df\n",
      "   48  49  50\n",
      "2   1   2   3\n",
      "A   4   5   6\n",
      "4   7   8   9\n",
      "E  -2  -1   0\n",
      "df_reset\n",
      "   48  49  50\n",
      "0   1   2   3\n",
      "1   4   5   6\n",
      "2   7   8   9\n",
      "3  -2  -1   0\n",
      "df depois\n",
      "   48  49  50\n",
      "2   1   2   3\n",
      "A   4   5   6\n",
      "4   7   8   9\n",
      "E  -2  -1   0\n",
      "df_reset depois\n"
     ]
    },
    {
     "data": {
      "text/html": [
       "<div>\n",
       "<style scoped>\n",
       "    .dataframe tbody tr th:only-of-type {\n",
       "        vertical-align: middle;\n",
       "    }\n",
       "\n",
       "    .dataframe tbody tr th {\n",
       "        vertical-align: top;\n",
       "    }\n",
       "\n",
       "    .dataframe thead th {\n",
       "        text-align: right;\n",
       "    }\n",
       "</style>\n",
       "<table border=\"1\" class=\"dataframe\">\n",
       "  <thead>\n",
       "    <tr style=\"text-align: right;\">\n",
       "      <th></th>\n",
       "      <th>48</th>\n",
       "      <th>49</th>\n",
       "      <th>50</th>\n",
       "    </tr>\n",
       "  </thead>\n",
       "  <tbody>\n",
       "    <tr>\n",
       "      <th>0</th>\n",
       "      <td>1</td>\n",
       "      <td>2</td>\n",
       "      <td>3</td>\n",
       "    </tr>\n",
       "    <tr>\n",
       "      <th>1</th>\n",
       "      <td>9</td>\n",
       "      <td>9</td>\n",
       "      <td>9</td>\n",
       "    </tr>\n",
       "    <tr>\n",
       "      <th>2</th>\n",
       "      <td>7</td>\n",
       "      <td>8</td>\n",
       "      <td>9</td>\n",
       "    </tr>\n",
       "    <tr>\n",
       "      <th>3</th>\n",
       "      <td>-2</td>\n",
       "      <td>-1</td>\n",
       "      <td>0</td>\n",
       "    </tr>\n",
       "  </tbody>\n",
       "</table>\n",
       "</div>"
      ],
      "text/plain": [
       "   48  49  50\n",
       "0   1   2   3\n",
       "1   9   9   9\n",
       "2   7   8   9\n",
       "3  -2  -1   0"
      ]
     },
     "execution_count": 100,
     "metadata": {},
     "output_type": "execute_result"
    }
   ],
   "source": [
    "# Use `reset_index()` to reset the values\n",
    "df_reset = df.reset_index(level=0, drop=True)\n",
    "\n",
    "# Observe que o índice anterior é preservado no nome original do dataframe\n",
    "print(\"df\")\n",
    "print(df)\n",
    "print(\"df_reset\")\n",
    "print(df_reset)\n",
    "\n",
    "## Observe que um NOVO dataframe foi criado na memória (não é apenas um apontador!)\n",
    "df_reset.loc[1] = [9,9,9]\n",
    "print(\"df depois\")\n",
    "print(df)\n",
    "print(\"df_reset depois\")\n",
    "df_reset"
   ]
  },
  {
   "cell_type": "markdown",
   "metadata": {},
   "source": [
    "---"
   ]
  },
  {
   "cell_type": "markdown",
   "metadata": {},
   "source": [
    "Agora ao invés do argumento **drop**, eu uso o argumento **inplace**:\n",
    "\n",
    "*Obs: apesar de eu ter mandado criar uma tabela chamada df_reset, esta de fato não foi criada, pois eu usei o argumento **inplace**, que se sobrepôs*\n",
    "\n",
    "*Obs2: quando eu uso o argumento **inplace**, o índice anterior não é eliminado. Ele ganhou o nome index e continuou existindo na tabela, sendo que o atual índice agora é esse campo numerado de 0 a 3 na primeira coluna de visualização.*\n",
    "\n",
    "*Tudo isso pode ser bastante exótico, mas cada comando destes tem uma utilidade. Então sempre que for lidar com dataframes grandes, é bom fazer **antes** alguns testes elementares com dataframes de amostra. É realmente chato encontrar erros de programação quando manipulamos dados realmente grandes!*"
   ]
  },
  {
   "cell_type": "markdown",
   "metadata": {},
   "source": [
    "---"
   ]
  },
  {
   "cell_type": "markdown",
   "metadata": {},
   "source": [
    "Acrescentar uma **coluna** a um dataframe"
   ]
  },
  {
   "cell_type": "code",
   "execution_count": 105,
   "metadata": {},
   "outputs": [
    {
     "data": {
      "text/html": [
       "<div>\n",
       "<style scoped>\n",
       "    .dataframe tbody tr th:only-of-type {\n",
       "        vertical-align: middle;\n",
       "    }\n",
       "\n",
       "    .dataframe tbody tr th {\n",
       "        vertical-align: top;\n",
       "    }\n",
       "\n",
       "    .dataframe thead th {\n",
       "        text-align: right;\n",
       "    }\n",
       "</style>\n",
       "<table border=\"1\" class=\"dataframe\">\n",
       "  <thead>\n",
       "    <tr style=\"text-align: right;\">\n",
       "      <th></th>\n",
       "      <th>A</th>\n",
       "      <th>B</th>\n",
       "      <th>C</th>\n",
       "      <th>D</th>\n",
       "    </tr>\n",
       "  </thead>\n",
       "  <tbody>\n",
       "    <tr>\n",
       "      <th>0</th>\n",
       "      <td>1</td>\n",
       "      <td>2</td>\n",
       "      <td>3</td>\n",
       "      <td>0</td>\n",
       "    </tr>\n",
       "    <tr>\n",
       "      <th>1</th>\n",
       "      <td>4</td>\n",
       "      <td>5</td>\n",
       "      <td>6</td>\n",
       "      <td>1</td>\n",
       "    </tr>\n",
       "    <tr>\n",
       "      <th>2</th>\n",
       "      <td>7</td>\n",
       "      <td>8</td>\n",
       "      <td>9</td>\n",
       "      <td>2</td>\n",
       "    </tr>\n",
       "  </tbody>\n",
       "</table>\n",
       "</div>"
      ],
      "text/plain": [
       "   A  B  C  D\n",
       "0  1  2  3  0\n",
       "1  4  5  6  1\n",
       "2  7  8  9  2"
      ]
     },
     "execution_count": 105,
     "metadata": {},
     "output_type": "execute_result"
    }
   ],
   "source": [
    "df = pd.DataFrame(data=np.array([[1, 2, 3], [4, 5, 6], [7, 8, 9]]), columns=['A', 'B', 'C'])\n",
    "\n",
    "# Use `.index`\n",
    "df['D'] = df.index\n",
    "\n",
    "# Print `df`\n",
    "df"
   ]
  },
  {
   "cell_type": "code",
   "execution_count": 106,
   "metadata": {},
   "outputs": [
    {
     "data": {
      "text/html": [
       "<div>\n",
       "<style scoped>\n",
       "    .dataframe tbody tr th:only-of-type {\n",
       "        vertical-align: middle;\n",
       "    }\n",
       "\n",
       "    .dataframe tbody tr th {\n",
       "        vertical-align: top;\n",
       "    }\n",
       "\n",
       "    .dataframe thead th {\n",
       "        text-align: right;\n",
       "    }\n",
       "</style>\n",
       "<table border=\"1\" class=\"dataframe\">\n",
       "  <thead>\n",
       "    <tr style=\"text-align: right;\">\n",
       "      <th></th>\n",
       "      <th>A</th>\n",
       "      <th>B</th>\n",
       "      <th>C</th>\n",
       "      <th>D</th>\n",
       "      <th>4</th>\n",
       "    </tr>\n",
       "  </thead>\n",
       "  <tbody>\n",
       "    <tr>\n",
       "      <th>0</th>\n",
       "      <td>1</td>\n",
       "      <td>2</td>\n",
       "      <td>3</td>\n",
       "      <td>0</td>\n",
       "      <td>5</td>\n",
       "    </tr>\n",
       "    <tr>\n",
       "      <th>1</th>\n",
       "      <td>4</td>\n",
       "      <td>5</td>\n",
       "      <td>6</td>\n",
       "      <td>1</td>\n",
       "      <td>6</td>\n",
       "    </tr>\n",
       "    <tr>\n",
       "      <th>2</th>\n",
       "      <td>7</td>\n",
       "      <td>8</td>\n",
       "      <td>9</td>\n",
       "      <td>2</td>\n",
       "      <td>7</td>\n",
       "    </tr>\n",
       "  </tbody>\n",
       "</table>\n",
       "</div>"
      ],
      "text/plain": [
       "   A  B  C  D  4\n",
       "0  1  2  3  0  5\n",
       "1  4  5  6  1  6\n",
       "2  7  8  9  2  7"
      ]
     },
     "execution_count": 106,
     "metadata": {},
     "output_type": "execute_result"
    }
   ],
   "source": [
    "# Append a column to `df`\n",
    "df.loc[:, 4] = pd.Series(['5', '6', '7'], index=df.index)\n",
    "\n",
    "# Print out `df` again to see the changes\n",
    "df"
   ]
  },
  {
   "cell_type": "markdown",
   "metadata": {},
   "source": [
    "---"
   ]
  },
  {
   "cell_type": "markdown",
   "metadata": {},
   "source": [
    "Apagar **índice**, **linhas** ou **colunas**\n",
    "\n",
    "*Obs: os dataframes do Pandas **sempre** possuem um índice!*\n",
    "\n",
    "Portanto o que você pode fazer:\n",
    "\n",
    "- **resetar** o índice\n",
    "\n",
    "- remover o **nome** do índice\n",
    "\n",
    "- remover valores **duplicados** com...\n",
    "\n",
    " - resetando o índice\n",
    " \n",
    " - eliminando a coluna com duplicações\n",
    " \n",
    " - reinstalando a coluna sem duplicatas como novo índice"
   ]
  },
  {
   "cell_type": "markdown",
   "metadata": {},
   "source": [
    "### Eliminando Duplicatas\n",
    "\n",
    "---\n",
    "\n",
    "*Obs: esta é apenas **uma** estratégia para lidar com índices duplicados. Cada estratégia se aplica a um caso e uma das coisas que distingue um bom cientista de dados é ter **bom senso** ao desenhar a estratégia para o caso em foco!*\n",
    "\n",
    "Uma **duplicação** é como se fossem duas fichas de registro descrevendo aparentemente a mesma coisa. \n",
    "\n",
    "Mas é preciso ter a máxima atenção!\n",
    "\n",
    "Duplicações possuem várias origens\n",
    "\n",
    "1. Duas fichas **idênticas**. Você pega dois dataframes, de datasources diferentes. Às vezes a mesma ficha está reproduzida em um lugar e em outro. Problemas de backup de segurança. Nesses casos, você pode eliminar todas as linhas duplicadas através da função *.drop_duplicates()* e com o parâmetro *inplace=True*\n",
    "\n",
    "2. Duas fichas **análogas**, mas com alguns dados divergentes. Imagine uma rede de videolocadoras. Você fez o cadastro do mesmo cliente em duas lojas, mas há informações diferentes em um registro e em outro. Uma estratégia **automática** seria excluir todas e manter apenas a mais recente. Se eu não preciso conhecer o histórico de endereços do meu cliente, basta o último. É o que o exemplo a seguir mostra. E se temos dúvidas, podemos usar uma estratégia **manual** e colocar numa tela registro ao lado de registro para alguém comparar. Às vezes isso é necessário. A Inteligência Artificial têm procurado espelhar este trabalho manual em ferramentas automáticas de mais alto grau de evolução\n",
    "\n",
    "3. Atenção para esta! Duas fichas referindo o **mesmo** registro, ambas atualizadas, criando uma relação 1:n. Então por exemplo, eu tenho uma livraria. Minha estrutura de banco de dados é de 1800 e bolinha e eu não quero mudá-la. Então eu vou cadastrar um livro e para cada livro, existe um **único** campo para Nome do Autor. O problema é existem diversos livros com dois ou mais autores. Quando meus clientes entram na loja e me pedem todos os livros do autor X, eu preciso ter no meu banco uma referência daquela sua obra em coautoria com o autor Y, cadastrada por inteiro. Então eu tenho um livro chamado *Memórias de um sargento de Milícias*, cadastrado como Autor: *Monteiro Lobato* e um outro registro de livro com o mesmo nome cadastrado como Autor: *Manoel Antônio de Almeida*\n",
    "\n",
    "    a. Nem sempre a vida de um analista de dados é simples! Nestes casos, eu devo começar a mapear a **estrutura de dados** do meu cliente. Se eu encontro ambos cadastrados sob o mesmo número de **índice**, exemplo: *34*, então eles podem ser considerados **subtabelas** em uma relação 1:n. Neste caso não é recomendável **zerar o índice**! Eu devo manter os agrupamentos (é o **mesmo** livro com **dois** autores) e criar um outro campo para servir de índice principal. Uma estratégia legal é criar um novo índice e do índice original, manter apenas os registros que forem **duplicados**. Quando um livro possui apenas um autor, que é o caso típico, deixe meu segundo índice **em branco**. Quando representar uma relação 1:n, mantenha todos os índices. Se eu precisar reagrupar e recriar meus índices numa **nova estrutura de dados**, com relações 1:n completas, fica fácil e eu não perdi informação!\n",
    "    \n",
    "    b. Caso estejam registrados com **números de índice** diferentes, então a estratégia anterior não será válida. Nestes casos, eu posso realmente recriar minha estrutura de índices (os números estavam corrompidos) e partir para uma **nova estratégia** para reagrupar esses livros em um só (eu nunca desisto!). Então eu posso escolher algum ou um grupo de campos que seja significativo e tento fazer uma nova consulta, agrupando por aqueles campos. Por exemplo, no caso do livro citado, eu poderia tentar agrupar por **Título** combinado com **Ano de Edição** e assim recriar uma estrutura de índices mais inteligente. E combinar só por **Título**? Às vezes o nome do segundo autor desaparece em edições posteriores! (quem sabe que o *Memórias* tinha coautoria de Monteiro Lobato?). Esta é uma das razões pelas quais o cientista de dados gosta muito de trabalhar com bancos **bem povoados**, ou seja, que não foi digitado por preguiçosos que deixaram de incluir diversas informações e que mais tarde podem vir a ser de alta relevância!"
   ]
  },
  {
   "cell_type": "markdown",
   "metadata": {},
   "source": [
    "---"
   ]
  },
  {
   "cell_type": "markdown",
   "metadata": {},
   "source": [
    "Eliminando linhas duplicatas de um banco **atualizado**, mantendo apenas o **último** registro:"
   ]
  },
  {
   "cell_type": "code",
   "execution_count": 108,
   "metadata": {},
   "outputs": [
    {
     "name": "stdout",
     "output_type": "stream",
     "text": [
      "      48  49  50\n",
      "2.5    1   2   3\n",
      "12.6   4   5   6\n",
      "4.8    7   8   9\n",
      "4.8   40  50  60\n",
      "2.5   23  35  37\n"
     ]
    },
    {
     "data": {
      "text/html": [
       "<div>\n",
       "<style scoped>\n",
       "    .dataframe tbody tr th:only-of-type {\n",
       "        vertical-align: middle;\n",
       "    }\n",
       "\n",
       "    .dataframe tbody tr th {\n",
       "        vertical-align: top;\n",
       "    }\n",
       "\n",
       "    .dataframe thead th {\n",
       "        text-align: right;\n",
       "    }\n",
       "</style>\n",
       "<table border=\"1\" class=\"dataframe\">\n",
       "  <thead>\n",
       "    <tr style=\"text-align: right;\">\n",
       "      <th></th>\n",
       "      <th>48</th>\n",
       "      <th>49</th>\n",
       "      <th>50</th>\n",
       "    </tr>\n",
       "    <tr>\n",
       "      <th>index</th>\n",
       "      <th></th>\n",
       "      <th></th>\n",
       "      <th></th>\n",
       "    </tr>\n",
       "  </thead>\n",
       "  <tbody>\n",
       "    <tr>\n",
       "      <th>12.6</th>\n",
       "      <td>4</td>\n",
       "      <td>5</td>\n",
       "      <td>6</td>\n",
       "    </tr>\n",
       "    <tr>\n",
       "      <th>4.8</th>\n",
       "      <td>40</td>\n",
       "      <td>50</td>\n",
       "      <td>60</td>\n",
       "    </tr>\n",
       "    <tr>\n",
       "      <th>2.5</th>\n",
       "      <td>23</td>\n",
       "      <td>35</td>\n",
       "      <td>37</td>\n",
       "    </tr>\n",
       "  </tbody>\n",
       "</table>\n",
       "</div>"
      ],
      "text/plain": [
       "       48  49  50\n",
       "index            \n",
       "12.6    4   5   6\n",
       "4.8    40  50  60\n",
       "2.5    23  35  37"
      ]
     },
     "execution_count": 108,
     "metadata": {},
     "output_type": "execute_result"
    }
   ],
   "source": [
    "df = pd.DataFrame(data=np.array([[1, 2, 3], [4, 5, 6], [7, 8, 9], [40, 50, 60], [23, 35, 37]]), \n",
    "                  index= [2.5, 12.6, 4.8, 4.8, 2.5], \n",
    "                  columns=[48, 49, 50])\n",
    "print (df)\n",
    "                  \n",
    "df_limpo = df.reset_index().drop_duplicates(subset='index', keep='last').set_index('index')\n",
    "df_limpo"
   ]
  },
  {
   "cell_type": "markdown",
   "metadata": {},
   "source": [
    "Para dar cabo de um conjunto de **registros**, ou seja de **linhas**, a função **.drop()** é bem interessante\n",
    "\n",
    "Para eliminar um ou mais **campos**, ou seja, **colunas**, a mesma função é utilizada\n",
    "\n",
    "O que varia é o **eixo** de atuação:\n",
    "\n",
    "- **axis=0** você está lidando com **linhas**\n",
    "\n",
    "- **axis=1** você está lidando com **colunas**\n",
    "\n",
    "Se eu não quero criar um novo dataframe para o meu conjunto de dados com a remoção, eu posso usar o parâmetro **inplace=True**. Ou seja, eu gravo as mudanças em cima do meu próprio dataframe. Isso é interessante se eu realmente não tenho chance nenhuma de voltar atrás na minha decisão e especialmente, se eu estou lidando com um conjunto de dados muito grande. Se em cada alteração eu for copiando todo o meu dataframe, logo eu esgotarei até a memória do computador mais poderoso do mundo!\n",
    "\n",
    "Outra coisa, depois de deletar **linhas**, as pessoas têm uma mania de **resetar o índice** para deixá-lo bonitinho. Esta é uma prática **espúria**. Não se deve ficar resetando índices, a menos que isso seja absolutamente necessário. O problema é que quando eu reseto índices, eu redefino o rótulo de cada registro. Agora suponha que na minha videolocadora, depois eu descubra uma segunda tabela que continha os registros de usuários **em débito** com a loja. E a tabela começa assim: 1231 DEVE DEVOLUÇÃO DA FITA CORAÇÃO SELVAGEM, EM 1978... E agora? Quem é o nosso Usuário 1231? Se eu resetei o índice, nunca mais poderei refazer as ligações com dados de **subtabelas**, se elas existirem!"
   ]
  },
  {
   "cell_type": "markdown",
   "metadata": {},
   "source": [
    "---"
   ]
  },
  {
   "cell_type": "markdown",
   "metadata": {},
   "source": [
    "Eliminando algumas colunas de um banco de dados, usando **dois métodos** diferentes:\n",
    "\n",
    "*Obs: a escolha do **método** não é feita ao acaso. Para cada equipamento, há uma ferramenta adequada. É como tentar usar um martelo para fixar parafusos! Para isso deve existir **bom senso** e **planejamento**. O ideal é deixar escrito no código tudo o que desejávamos fazer. Assim se der algum problema, alguém pode mapear depois e verificar mais fácil onde foi o erro*"
   ]
  },
  {
   "cell_type": "code",
   "execution_count": 109,
   "metadata": {},
   "outputs": [
    {
     "name": "stdout",
     "output_type": "stream",
     "text": [
      "   A  B  C\n",
      "0  1  2  3\n",
      "1  4  5  6\n",
      "2  7  8  9\n"
     ]
    },
    {
     "data": {
      "text/html": [
       "<div>\n",
       "<style scoped>\n",
       "    .dataframe tbody tr th:only-of-type {\n",
       "        vertical-align: middle;\n",
       "    }\n",
       "\n",
       "    .dataframe tbody tr th {\n",
       "        vertical-align: top;\n",
       "    }\n",
       "\n",
       "    .dataframe thead th {\n",
       "        text-align: right;\n",
       "    }\n",
       "</style>\n",
       "<table border=\"1\" class=\"dataframe\">\n",
       "  <thead>\n",
       "    <tr style=\"text-align: right;\">\n",
       "      <th></th>\n",
       "      <th>B</th>\n",
       "    </tr>\n",
       "  </thead>\n",
       "  <tbody>\n",
       "    <tr>\n",
       "      <th>0</th>\n",
       "      <td>2</td>\n",
       "    </tr>\n",
       "    <tr>\n",
       "      <th>1</th>\n",
       "      <td>5</td>\n",
       "    </tr>\n",
       "    <tr>\n",
       "      <th>2</th>\n",
       "      <td>8</td>\n",
       "    </tr>\n",
       "  </tbody>\n",
       "</table>\n",
       "</div>"
      ],
      "text/plain": [
       "   B\n",
       "0  2\n",
       "1  5\n",
       "2  8"
      ]
     },
     "execution_count": 109,
     "metadata": {},
     "output_type": "execute_result"
    }
   ],
   "source": [
    "df = pd.DataFrame(data=np.array([[1, 2, 3], [4, 5, 6], [7, 8, 9]]), \n",
    "                  index= [0, 1, 2], \n",
    "                  columns=[\"A\", \"B\", \"C\"])\n",
    "print (df)\n",
    "\n",
    "# Drop the column with label 'A'                  \n",
    "df.drop('A', axis=1, inplace=True)\n",
    "\n",
    "# Drop the column at position 1\n",
    "df.drop(df.columns[[1]], axis=1)"
   ]
  },
  {
   "cell_type": "markdown",
   "metadata": {},
   "source": [
    "---"
   ]
  },
  {
   "cell_type": "markdown",
   "metadata": {},
   "source": [
    "Mudando os **nomes** das colunas:\n",
    "\n",
    "*Obs: já escrevi mais para cima que às vezes eu de fato não quero renomear as colunas do banco de dados, mas apenas apresentar um resultado com nomes mais bonitos. Isso é usual, pois para tornar as coisas mais claras e o sistema mais livre de erros, eu costumo usar nomes padronizados, dando dicas do **tipo** de dado como **txClienteNome** e **dtInicioOperacao**. Então eu crio uma série de colunas com meus nomes elegantes, por exemplo **NomesCol** e ao invés de dar um **inplace**, eu simplesmente coloco na consulta específica o parâmetro **labels=NomesCol**. A **NomesCol** seria algo assim: \n",
    "\n",
    "    NomesCol = [\"Nome do Cliente\", \"Data de Início da Operação\"]\n",
    "    \n",
    "*E nesse caso, os nomes apareceriam bonitinhos no cabeçalho, mas sem eu bagunçar com os nomes das colunas do meu dataset!*"
   ]
  },
  {
   "cell_type": "markdown",
   "metadata": {},
   "source": [
    "Nomes mudados com parâmetro **inplace**:"
   ]
  },
  {
   "cell_type": "code",
   "execution_count": 5,
   "metadata": {
    "scrolled": true
   },
   "outputs": [
    {
     "name": "stdout",
     "output_type": "stream",
     "text": [
      "   A  B  C\n",
      "0  1  2  3\n",
      "1  4  5  6\n",
      "2  7  8  9\n"
     ]
    },
    {
     "data": {
      "text/html": [
       "<div>\n",
       "<style scoped>\n",
       "    .dataframe tbody tr th:only-of-type {\n",
       "        vertical-align: middle;\n",
       "    }\n",
       "\n",
       "    .dataframe tbody tr th {\n",
       "        vertical-align: top;\n",
       "    }\n",
       "\n",
       "    .dataframe thead th {\n",
       "        text-align: right;\n",
       "    }\n",
       "</style>\n",
       "<table border=\"1\" class=\"dataframe\">\n",
       "  <thead>\n",
       "    <tr style=\"text-align: right;\">\n",
       "      <th></th>\n",
       "      <th>new_column_1</th>\n",
       "      <th>new_column_2</th>\n",
       "      <th>new_column_3</th>\n",
       "    </tr>\n",
       "  </thead>\n",
       "  <tbody>\n",
       "    <tr>\n",
       "      <th>0</th>\n",
       "      <td>1</td>\n",
       "      <td>2</td>\n",
       "      <td>3</td>\n",
       "    </tr>\n",
       "    <tr>\n",
       "      <th>1</th>\n",
       "      <td>4</td>\n",
       "      <td>5</td>\n",
       "      <td>6</td>\n",
       "    </tr>\n",
       "    <tr>\n",
       "      <th>2</th>\n",
       "      <td>7</td>\n",
       "      <td>8</td>\n",
       "      <td>9</td>\n",
       "    </tr>\n",
       "  </tbody>\n",
       "</table>\n",
       "</div>"
      ],
      "text/plain": [
       "   new_column_1  new_column_2  new_column_3\n",
       "0             1             2             3\n",
       "1             4             5             6\n",
       "2             7             8             9"
      ]
     },
     "execution_count": 5,
     "metadata": {},
     "output_type": "execute_result"
    }
   ],
   "source": [
    "import pandas as pd\n",
    "import numpy as np\n",
    "\n",
    "df = pd.DataFrame(data=np.array([[1, 2, 3], [4, 5, 6], [7, 8, 9]]), \n",
    "                  index= [0, 1, 2], \n",
    "                  columns=[\"A\", \"B\", \"C\"])\n",
    "\n",
    "# Check out your DataFrame `df`\n",
    "print(df)\n",
    "\n",
    "# Define the new names of your columns\n",
    "newcols = {\n",
    "    'A': 'new_column_1', \n",
    "    'B': 'new_column_2', \n",
    "    'C': 'new_column_3'\n",
    "}\n",
    "\n",
    "# Use `rename()` to rename your columns\n",
    "df.rename(columns=newcols, inplace=True)\n",
    "\n",
    "# Rename your index\n",
    "df.rename(index={1: 'a'})\n",
    "df"
   ]
  },
  {
   "cell_type": "markdown",
   "metadata": {},
   "source": [
    "### Além do Básico no Pandas\n",
    "\n",
    "---\n",
    "\n",
    "#### Mecanismo de busca e substituição\n",
    "\n",
    "Nem sempre nosso dataset possui nomes legais. E às vezes é preciso condensar coisas, como a informação Reino Unido, Inglaterra e Reino Unido da Grã Bretanha com Irlanda..."
   ]
  },
  {
   "cell_type": "code",
   "execution_count": 113,
   "metadata": {},
   "outputs": [
    {
     "name": "stdout",
     "output_type": "stream",
     "text": [
      "   A  B  C\n",
      "0  1  2  3\n",
      "1  4  2  1\n",
      "2  1  1  3\n"
     ]
    },
    {
     "data": {
      "text/html": [
       "<div>\n",
       "<style scoped>\n",
       "    .dataframe tbody tr th:only-of-type {\n",
       "        vertical-align: middle;\n",
       "    }\n",
       "\n",
       "    .dataframe tbody tr th {\n",
       "        vertical-align: top;\n",
       "    }\n",
       "\n",
       "    .dataframe thead th {\n",
       "        text-align: right;\n",
       "    }\n",
       "</style>\n",
       "<table border=\"1\" class=\"dataframe\">\n",
       "  <thead>\n",
       "    <tr style=\"text-align: right;\">\n",
       "      <th></th>\n",
       "      <th>A</th>\n",
       "      <th>B</th>\n",
       "      <th>C</th>\n",
       "    </tr>\n",
       "  </thead>\n",
       "  <tbody>\n",
       "    <tr>\n",
       "      <th>0</th>\n",
       "      <td>Poor</td>\n",
       "      <td>OK</td>\n",
       "      <td>Acceptable</td>\n",
       "    </tr>\n",
       "    <tr>\n",
       "      <th>1</th>\n",
       "      <td>Perfect</td>\n",
       "      <td>OK</td>\n",
       "      <td>Poor</td>\n",
       "    </tr>\n",
       "    <tr>\n",
       "      <th>2</th>\n",
       "      <td>Poor</td>\n",
       "      <td>Poor</td>\n",
       "      <td>Acceptable</td>\n",
       "    </tr>\n",
       "  </tbody>\n",
       "</table>\n",
       "</div>"
      ],
      "text/plain": [
       "         A     B           C\n",
       "0     Poor    OK  Acceptable\n",
       "1  Perfect    OK        Poor\n",
       "2     Poor  Poor  Acceptable"
      ]
     },
     "execution_count": 113,
     "metadata": {},
     "output_type": "execute_result"
    }
   ],
   "source": [
    "df = pd.DataFrame(data=np.array([[1, 2, 3], [4, 2, 1], [1, 1, 3]]), \n",
    "                  index= [0, 1, 2], \n",
    "                  columns=[\"A\", \"B\", \"C\"])\n",
    "\n",
    "# Study the DataFrame `df` first\n",
    "print(df)\n",
    "\n",
    "# Replace the strings by numerical values (0-4)\n",
    "df.replace([0, 1, 2, 3, 4], ['Awful', 'Poor', 'OK', 'Acceptable', 'Perfect'], inplace=True)\n",
    "df"
   ]
  },
  {
   "cell_type": "markdown",
   "metadata": {},
   "source": [
    "O Parâmetro **regex** pode ser usado quando estou lidando com combinações estranhas em **strings**:\n",
    "\n",
    "*A ideia é criar um dicionário de substituições. Isso pode ser útil quando estou passando por exemplo, um texto de uma formatação para outra*"
   ]
  },
  {
   "cell_type": "code",
   "execution_count": 114,
   "metadata": {},
   "outputs": [
    {
     "name": "stdout",
     "output_type": "stream",
     "text": [
      "     A    B  C\n",
      "0    1    2  3\n",
      "1  4\\n    2  1\n",
      "2  1\\n  1\\n  3\n"
     ]
    },
    {
     "data": {
      "text/html": [
       "<div>\n",
       "<style scoped>\n",
       "    .dataframe tbody tr th:only-of-type {\n",
       "        vertical-align: middle;\n",
       "    }\n",
       "\n",
       "    .dataframe tbody tr th {\n",
       "        vertical-align: top;\n",
       "    }\n",
       "\n",
       "    .dataframe thead th {\n",
       "        text-align: right;\n",
       "    }\n",
       "</style>\n",
       "<table border=\"1\" class=\"dataframe\">\n",
       "  <thead>\n",
       "    <tr style=\"text-align: right;\">\n",
       "      <th></th>\n",
       "      <th>A</th>\n",
       "      <th>B</th>\n",
       "      <th>C</th>\n",
       "    </tr>\n",
       "  </thead>\n",
       "  <tbody>\n",
       "    <tr>\n",
       "      <th>0</th>\n",
       "      <td>1</td>\n",
       "      <td>2</td>\n",
       "      <td>3</td>\n",
       "    </tr>\n",
       "    <tr>\n",
       "      <th>1</th>\n",
       "      <td>4&lt;br&gt;</td>\n",
       "      <td>2</td>\n",
       "      <td>1</td>\n",
       "    </tr>\n",
       "    <tr>\n",
       "      <th>2</th>\n",
       "      <td>1&lt;br&gt;</td>\n",
       "      <td>1&lt;br&gt;</td>\n",
       "      <td>3</td>\n",
       "    </tr>\n",
       "  </tbody>\n",
       "</table>\n",
       "</div>"
      ],
      "text/plain": [
       "       A      B  C\n",
       "0      1      2  3\n",
       "1  4<br>      2  1\n",
       "2  1<br>  1<br>  3"
      ]
     },
     "execution_count": 114,
     "metadata": {},
     "output_type": "execute_result"
    }
   ],
   "source": [
    "df = pd.DataFrame(data=np.array([[1, 2, 3], [\"4\\n\", 2, 1], [\"1\\n\", \"1\\n\", 3]]), \n",
    "                  index= [0, 1, 2], \n",
    "                  columns=[\"A\", \"B\", \"C\"])\n",
    "\n",
    "# Study the DataFrame `df` first\n",
    "print(df)\n",
    "\n",
    "# Replace strings by others with `regex`\n",
    "df.replace({\"\\n\": \"<br>\"}, regex=True, inplace=True)\n",
    "df"
   ]
  },
  {
   "cell_type": "markdown",
   "metadata": {},
   "source": [
    "Posso usar diversas **cláusulas de busca**, como ^ ou .* no regex, o que me dá grande flexibilidade:"
   ]
  },
  {
   "cell_type": "code",
   "execution_count": 115,
   "metadata": {},
   "outputs": [
    {
     "name": "stdout",
     "output_type": "stream",
     "text": [
      "                                     country  value\n",
      "0            United Kingdom of Great Britain     12\n",
      "1                                    Ireland     31\n",
      "2  United Kingdom of Great Britain & Ireland     43\n"
     ]
    },
    {
     "data": {
      "text/html": [
       "<div>\n",
       "<style scoped>\n",
       "    .dataframe tbody tr th:only-of-type {\n",
       "        vertical-align: middle;\n",
       "    }\n",
       "\n",
       "    .dataframe tbody tr th {\n",
       "        vertical-align: top;\n",
       "    }\n",
       "\n",
       "    .dataframe thead th {\n",
       "        text-align: right;\n",
       "    }\n",
       "</style>\n",
       "<table border=\"1\" class=\"dataframe\">\n",
       "  <thead>\n",
       "    <tr style=\"text-align: right;\">\n",
       "      <th></th>\n",
       "      <th>country</th>\n",
       "      <th>value</th>\n",
       "    </tr>\n",
       "  </thead>\n",
       "  <tbody>\n",
       "    <tr>\n",
       "      <th>0</th>\n",
       "      <td>United Kingdom</td>\n",
       "      <td>12</td>\n",
       "    </tr>\n",
       "    <tr>\n",
       "      <th>1</th>\n",
       "      <td>Ireland</td>\n",
       "      <td>31</td>\n",
       "    </tr>\n",
       "    <tr>\n",
       "      <th>2</th>\n",
       "      <td>United Kingdom</td>\n",
       "      <td>43</td>\n",
       "    </tr>\n",
       "  </tbody>\n",
       "</table>\n",
       "</div>"
      ],
      "text/plain": [
       "          country  value\n",
       "0  United Kingdom     12\n",
       "1         Ireland     31\n",
       "2  United Kingdom     43"
      ]
     },
     "execution_count": 115,
     "metadata": {},
     "output_type": "execute_result"
    }
   ],
   "source": [
    "df = pd.DataFrame({\"country\":[\"United Kingdom of Great Britain\", \"Ireland\", \n",
    "                              \"United Kingdom of Great Britain & Ireland\"], \"value\":[12,31, 43]})\n",
    "print (df)\n",
    "\n",
    "df.country.replace(\"^United Kingdom of Great Britain.*\", \"United Kingdom\", regex=True, inplace=True)\n",
    "df"
   ]
  },
  {
   "cell_type": "markdown",
   "metadata": {},
   "source": [
    "---"
   ]
  },
  {
   "cell_type": "markdown",
   "metadata": {},
   "source": [
    "**Invocando funções Lambda com uso da função .map()**\n",
    "\n",
    "Isso é ótimo para limpar dados poluídos. Além de apagar coisas, posso substituir por outras mais compreensíveis, eliminar detalhes em excesso, etc.\n",
    "\n",
    "Outro uso é fazer um pouco de cálculo, ou conversão de formato em algumas células. Com o uso de uma **função**, o limite é apenas a criatividade humana!\n",
    "\n",
    "*Uma **função Lambda** nada mais é do que uma função sem nome. O nome é substituído pela palavra **Lambda**. Esta função é criada como um objeto na memória do computador. Depois, toda vez que for invocada, ela faz as funções contidas nela. É possível acrescentar **If** e **Else** em uma função **Lambda**, apenas deve-se observar uma sintaxe especial, para caber na tripa*\n",
    "\n",
    "Se fosse uma função comum ficaria mais ou menos assim:"
   ]
  },
  {
   "cell_type": "code",
   "execution_count": 116,
   "metadata": {},
   "outputs": [
    {
     "name": "stdout",
     "output_type": "stream",
     "text": [
      "célula: +3b célula limpa: 3\n"
     ]
    }
   ],
   "source": [
    "def limpa(x): \n",
    "    a = x.lstrip('+-')\n",
    "    b = a.rstrip('aAbBcC')\n",
    "    return b\n",
    "\n",
    "celula = \"+3b\"\n",
    "\n",
    "print(\"célula: {} célula limpa: {}\".format(celula, limpa(celula)))"
   ]
  },
  {
   "cell_type": "markdown",
   "metadata": {},
   "source": [
    "Daí ela é enxugada para:\n",
    "    \n",
    "    lambda x: x.lstrip('+-').rstrip('aAbBcC')\n",
    "    \n",
    "*Obs: na Udacity é recomendado não se pythonizar demais, se não souber exatamente o que está fazendo. Às vezes você enxuga um loop pesado em uma única linha e torna a compreensão difícil. E às vezes você está enxugando um loop totalmente **ineficiente**! Então, se estiver em dúvida, primeiro experimente e teste a função escrita no modo tradicional e se ela estiver OK, então poderá pythonizar (ou não!)*\n",
    "\n",
    "*Pythonizar é o termo usado para o modo de escrita do Python no qual o código fica absurdamente enxuto. Isso em alguns casos é ótimo e em outros, bastante **traiçoeiro**. Nem sempre uma função super magra dá o melhor tempo computacional! Isso precisa ser testado usando **.time()** e outras funções* "
   ]
  },
  {
   "cell_type": "code",
   "execution_count": 117,
   "metadata": {},
   "outputs": [
    {
     "name": "stdout",
     "output_type": "stream",
     "text": [
      "  Class test result\n",
      "0     1    2    +3b\n",
      "1     4    5    -6B\n",
      "2     7    8    +9A\n"
     ]
    },
    {
     "data": {
      "text/html": [
       "<div>\n",
       "<style scoped>\n",
       "    .dataframe tbody tr th:only-of-type {\n",
       "        vertical-align: middle;\n",
       "    }\n",
       "\n",
       "    .dataframe tbody tr th {\n",
       "        vertical-align: top;\n",
       "    }\n",
       "\n",
       "    .dataframe thead th {\n",
       "        text-align: right;\n",
       "    }\n",
       "</style>\n",
       "<table border=\"1\" class=\"dataframe\">\n",
       "  <thead>\n",
       "    <tr style=\"text-align: right;\">\n",
       "      <th></th>\n",
       "      <th>Class</th>\n",
       "      <th>test</th>\n",
       "      <th>result</th>\n",
       "    </tr>\n",
       "  </thead>\n",
       "  <tbody>\n",
       "    <tr>\n",
       "      <th>0</th>\n",
       "      <td>1</td>\n",
       "      <td>2</td>\n",
       "      <td>3</td>\n",
       "    </tr>\n",
       "    <tr>\n",
       "      <th>1</th>\n",
       "      <td>4</td>\n",
       "      <td>5</td>\n",
       "      <td>6</td>\n",
       "    </tr>\n",
       "    <tr>\n",
       "      <th>2</th>\n",
       "      <td>7</td>\n",
       "      <td>8</td>\n",
       "      <td>9</td>\n",
       "    </tr>\n",
       "  </tbody>\n",
       "</table>\n",
       "</div>"
      ],
      "text/plain": [
       "  Class test result\n",
       "0     1    2      3\n",
       "1     4    5      6\n",
       "2     7    8      9"
      ]
     },
     "execution_count": 117,
     "metadata": {},
     "output_type": "execute_result"
    }
   ],
   "source": [
    "df = pd.DataFrame(data=np.array([[1, 2, \"+3b\"], [4, 5, \"-6B\"], [7, 8, \"+9A\"]]), \n",
    "                  index= [0, 1, 2], \n",
    "                  columns=[\"Class\", \"test\", \"result\"])\n",
    "\n",
    "# Check out your DataFrame\n",
    "print(df)\n",
    "\n",
    "# Delete unwanted parts from the strings in the `result` column\n",
    "df['result'] = df['result'].map(lambda x: x.lstrip('+-').rstrip('aAbBcC'))\n",
    "\n",
    "# Check out the result again\n",
    "df"
   ]
  },
  {
   "cell_type": "markdown",
   "metadata": {},
   "source": [
    "**Quebrando texto em uma coluna para várias linha no dataset**\n",
    "\n",
    "---\n",
    "\n",
    "Parece uma proposta excêntrica, mas **não é**! Em muitos casos, bancos de dados são preenchidos de uma maneira meio acochambrada. Chamar um programador para mudar toda a estrutura de um banco gera custos. Então as pessoas operam o banco do melhor jeito que conseguem\n",
    "\n",
    "Às vezes os resultados são catastróficos. Acumulamos grande quantidade de dados e que irão representar mal a realidade. A razão: há coisas que a estrutura de dados não suportou, então foram preenchidas manualmente e de qualquer jeito\n",
    "\n",
    "Um exemplo é na nossa videolocadora. Nosso cadastro é simples, então ele não permite relações 1:n. Para piorar, o programador esqueceu que um cliente não loca apenas uma fita, então ele não criou diversas colunas para cadastrar um filme em cada coluna\n",
    "\n",
    "O que a balconista fez? Simplesmente listou, entre vírgulas, os filmes locados, no campo Filme. Então eu tenho uma ficha de locação do tipo:\n",
    "\n",
    "    ID:221; Nome:Pedro da Silva; Data:21 de outubro 1972; Filme:2001-Uma Odisséia no espaço, Tempos Modernos, Macunaíma\n",
    "    \n",
    "E eu preferia ter algo assim:\n",
    "\n",
    "    ID:221; Nome:Pedro da Silva; Data:21 de outubro 1972; Filme:2001-Uma Odisséia no espaço\n",
    "    ID:221; Nome:Pedro da Silva; Data:21 de outubro 1972; Filme:Tempos Modernos\n",
    "    ID:221; Nome:Pedro da Silva; Data:21 de outubro 1972; Filme:Macunaíma\n",
    "    \n",
    "Isso é um caso **muito usual** em banco de dados e a rotina maluca a seguir faz isso para mim!\n",
    "\n",
    "*No caso em pauta, são os bilhetes de embarque de uma empresa de estrada de ferro. As duas primeiras pessoas comparam bilhetes para um trecho e a terceira comprou um trecho adicional. Como o sistema de registros possuía o mesmo defeito do sistema da videolocadora, todos os horários dos trechos foram gravados em um único campo chamado Ticket. Isso não é bom para o analista de dados: como eu vou traçar por exemplo, um gráfico de custos x entradas para cada trecho da minha ferrovia?*"
   ]
  },
  {
   "cell_type": "code",
   "execution_count": 118,
   "metadata": {},
   "outputs": [
    {
     "name": "stdout",
     "output_type": "stream",
     "text": [
      "  Age PlusOne             Ticket\n",
      "0  34       0           23:44:55\n",
      "1  22       0           66:77:88\n",
      "2  19       1  43:68:05 56:34:12\n",
      "          0\n",
      "0  23:44:55\n",
      "1  66:77:88\n",
      "2  43:68:05\n",
      "2  56:34:12\n"
     ]
    },
    {
     "data": {
      "text/html": [
       "<div>\n",
       "<style scoped>\n",
       "    .dataframe tbody tr th:only-of-type {\n",
       "        vertical-align: middle;\n",
       "    }\n",
       "\n",
       "    .dataframe tbody tr th {\n",
       "        vertical-align: top;\n",
       "    }\n",
       "\n",
       "    .dataframe thead th {\n",
       "        text-align: right;\n",
       "    }\n",
       "</style>\n",
       "<table border=\"1\" class=\"dataframe\">\n",
       "  <thead>\n",
       "    <tr style=\"text-align: right;\">\n",
       "      <th></th>\n",
       "      <th>Age</th>\n",
       "      <th>PlusOne</th>\n",
       "      <th>0</th>\n",
       "    </tr>\n",
       "  </thead>\n",
       "  <tbody>\n",
       "    <tr>\n",
       "      <th>0</th>\n",
       "      <td>34</td>\n",
       "      <td>0</td>\n",
       "      <td>23:44:55</td>\n",
       "    </tr>\n",
       "    <tr>\n",
       "      <th>1</th>\n",
       "      <td>22</td>\n",
       "      <td>0</td>\n",
       "      <td>66:77:88</td>\n",
       "    </tr>\n",
       "    <tr>\n",
       "      <th>2</th>\n",
       "      <td>19</td>\n",
       "      <td>1</td>\n",
       "      <td>43:68:05</td>\n",
       "    </tr>\n",
       "    <tr>\n",
       "      <th>2</th>\n",
       "      <td>19</td>\n",
       "      <td>1</td>\n",
       "      <td>56:34:12</td>\n",
       "    </tr>\n",
       "  </tbody>\n",
       "</table>\n",
       "</div>"
      ],
      "text/plain": [
       "  Age PlusOne         0\n",
       "0  34       0  23:44:55\n",
       "1  22       0  66:77:88\n",
       "2  19       1  43:68:05\n",
       "2  19       1  56:34:12"
      ]
     },
     "execution_count": 118,
     "metadata": {},
     "output_type": "execute_result"
    }
   ],
   "source": [
    "import pandas as pd\n",
    "import numpy as np\n",
    "\n",
    "df = pd.DataFrame(data=np.array([[34, 0, \"23:44:55\"], \n",
    "                                 [22, 0, \"66:77:88\"], \n",
    "                                 [19, 1, \"43:68:05 56:34:12\"]]), \n",
    "                  index= [0, 1, 2], \n",
    "                  columns=[\"Age\", \"PlusOne\", \"Ticket\"]) \n",
    "    \n",
    "# Inspect your DataFrame `df`\n",
    "print(df)\n",
    "\n",
    "# Split out the two values in the third row\n",
    "# Make it a Series\n",
    "# Stack the values\n",
    "ticket_series = df['Ticket'].str.split(' ').apply(pd.Series, 1).stack()\n",
    "\n",
    "# Get rid of the stack:\n",
    "# Drop the level to line up with the DataFrame\n",
    "ticket_series.index = ticket_series.index.droplevel(-1)\n",
    "\n",
    "# Make your series a dataframe \n",
    "ticketdf = pd.DataFrame(ticket_series)\n",
    "print (ticketdf)\n",
    "\n",
    "# Delete the `Ticket` column from your DataFrame\n",
    "del df['Ticket']\n",
    "\n",
    "# Join the ticket DataFrame to `df`\n",
    "new_df = df.join(ticketdf)\n",
    "\n",
    "# Check out the new `df`\n",
    "new_df"
   ]
  },
  {
   "cell_type": "markdown",
   "metadata": {},
   "source": [
    "#### Detalhando as Operações do Exercício Anterior\n",
    "\n",
    "---"
   ]
  },
  {
   "cell_type": "markdown",
   "metadata": {},
   "source": [
    "Primeira operação, com a função **.split()** tendo separador o **espaço simples**, é criada uma lista, contendo os objetos separados:"
   ]
  },
  {
   "cell_type": "code",
   "execution_count": 119,
   "metadata": {},
   "outputs": [
    {
     "name": "stdout",
     "output_type": "stream",
     "text": [
      "43:68:05 56:34:12\n"
     ]
    }
   ],
   "source": [
    "a = \"43:68:05 56:34:12\"\n",
    "\n",
    "b = a.split(\" \")\n",
    "print (b[0], b[1])"
   ]
  },
  {
   "cell_type": "markdown",
   "metadata": {},
   "source": [
    "No nosso caso, um objeto é criado contendo listas dos tickets já separados:"
   ]
  },
  {
   "cell_type": "code",
   "execution_count": 120,
   "metadata": {},
   "outputs": [
    {
     "name": "stdout",
     "output_type": "stream",
     "text": [
      "0              [23:44:55]\n",
      "1              [66:77:88]\n",
      "2    [43:68:05, 56:34:12]\n",
      "Name: Ticket, dtype: object\n"
     ]
    }
   ],
   "source": [
    "df = pd.DataFrame(data=np.array([[34, 0, \"23:44:55\"], \n",
    "                                 [22, 0, \"66:77:88\"], \n",
    "                                 [19, 1, \"43:68:05 56:34:12\"]]), \n",
    "                  index= [0, 1, 2], \n",
    "                  columns=[\"Age\", \"PlusOne\", \"Ticket\"])\n",
    "\n",
    "b = df['Ticket'].str.split(' ')\n",
    "\n",
    "print (b)"
   ]
  },
  {
   "cell_type": "markdown",
   "metadata": {},
   "source": [
    "E com isso, eu crio um novo dataset, utilizando a função **apply(pd.Series)**:\n",
    "\n",
    "*Observe que isso está quase bom... o problema é que existem dois objetos **nulos** que nos atrapalham um pouco...*"
   ]
  },
  {
   "cell_type": "code",
   "execution_count": 121,
   "metadata": {},
   "outputs": [
    {
     "name": "stdout",
     "output_type": "stream",
     "text": [
      "          0         1\n",
      "0  23:44:55       NaN\n",
      "1  66:77:88       NaN\n",
      "2  43:68:05  56:34:12\n"
     ]
    }
   ],
   "source": [
    "df = pd.DataFrame(data=np.array([[34, 0, \"23:44:55\"], \n",
    "                                 [22, 0, \"66:77:88\"], \n",
    "                                 [19, 1, \"43:68:05 56:34:12\"]]), \n",
    "                  index= [0, 1, 2], \n",
    "                  columns=[\"Age\", \"PlusOne\", \"Ticket\"]) \n",
    "\n",
    "b = df['Ticket'].str.split(' ').apply(pd.Series)\n",
    "\n",
    "print(b)"
   ]
  },
  {
   "cell_type": "markdown",
   "metadata": {},
   "source": [
    "A função **.apply()** passa todos os objetos delimitados de um dataframe por um método ou função. No caso esta função é **Series**\n",
    "\n",
    "*A única coisa que não descobri é porque a função é chamada **apply(... ,1)**. Este 1 aparentemente não desempenha nenhuma tarefa*"
   ]
  },
  {
   "cell_type": "markdown",
   "metadata": {},
   "source": [
    "---\n",
    "\n",
    "O método **Series** gera um enumerador. Ele pega uma lista de ítens como entrada e cria um objeto tipo **série** para aquela lista:"
   ]
  },
  {
   "cell_type": "code",
   "execution_count": 122,
   "metadata": {},
   "outputs": [
    {
     "data": {
      "text/plain": [
       "0    6\n",
       "1    3\n",
       "2    4\n",
       "3    6\n",
       "dtype: int64"
      ]
     },
     "execution_count": 122,
     "metadata": {},
     "output_type": "execute_result"
    }
   ],
   "source": [
    "a = [6,3,4,6]\n",
    "\n",
    "x = pd.Series(a)\n",
    "x"
   ]
  },
  {
   "cell_type": "markdown",
   "metadata": {},
   "source": [
    "No nosso caso:"
   ]
  },
  {
   "cell_type": "code",
   "execution_count": 124,
   "metadata": {},
   "outputs": [
    {
     "data": {
      "text/html": [
       "<div>\n",
       "<style scoped>\n",
       "    .dataframe tbody tr th:only-of-type {\n",
       "        vertical-align: middle;\n",
       "    }\n",
       "\n",
       "    .dataframe tbody tr th {\n",
       "        vertical-align: top;\n",
       "    }\n",
       "\n",
       "    .dataframe thead th {\n",
       "        text-align: right;\n",
       "    }\n",
       "</style>\n",
       "<table border=\"1\" class=\"dataframe\">\n",
       "  <thead>\n",
       "    <tr style=\"text-align: right;\">\n",
       "      <th></th>\n",
       "      <th>0</th>\n",
       "    </tr>\n",
       "  </thead>\n",
       "  <tbody>\n",
       "    <tr>\n",
       "      <th>0</th>\n",
       "      <td>34</td>\n",
       "    </tr>\n",
       "    <tr>\n",
       "      <th>1</th>\n",
       "      <td>22</td>\n",
       "    </tr>\n",
       "    <tr>\n",
       "      <th>2</th>\n",
       "      <td>19</td>\n",
       "    </tr>\n",
       "  </tbody>\n",
       "</table>\n",
       "</div>"
      ],
      "text/plain": [
       "    0\n",
       "0  34\n",
       "1  22\n",
       "2  19"
      ]
     },
     "execution_count": 124,
     "metadata": {},
     "output_type": "execute_result"
    }
   ],
   "source": [
    "df = pd.DataFrame(data=np.array([[34, 0, \"23:44:55\"], \n",
    "                                 [22, 0, \"66:77:88\"], \n",
    "                                 [19, 1, \"43:68:05 56:34:12\"]]), \n",
    "                  index= [0, 1, 2], \n",
    "                  columns=[\"Age\", \"PlusOne\", \"Ticket\"]) \n",
    "\n",
    "b = df[\"Age\"].apply(pd.Series)\n",
    "b"
   ]
  },
  {
   "cell_type": "markdown",
   "metadata": {},
   "source": [
    "---"
   ]
  },
  {
   "cell_type": "markdown",
   "metadata": {},
   "source": [
    "E por fim **Stack**. Esta é uma função de pilha. Isso significa que ela empilha objetos. No caso de objetos vazios, estes sendo inexistentes, não irão para a pilha!"
   ]
  },
  {
   "cell_type": "code",
   "execution_count": 125,
   "metadata": {},
   "outputs": [
    {
     "data": {
      "text/plain": [
       "0  0    23:44:55\n",
       "1  0    66:77:88\n",
       "2  0    43:68:05\n",
       "   1    56:34:12\n",
       "dtype: object"
      ]
     },
     "execution_count": 125,
     "metadata": {},
     "output_type": "execute_result"
    }
   ],
   "source": [
    "df = pd.DataFrame(data=np.array([[34, 0, \"23:44:55\"], \n",
    "                                 [22, 0, \"66:77:88\"], \n",
    "                                 [19, 1, \"43:68:05 56:34:12\"]]), \n",
    "                  index= [0, 1, 2], \n",
    "                  columns=[\"Age\", \"PlusOne\", \"Ticket\"]) \n",
    "    \n",
    "b = df['Ticket'].str.split(' ').apply(pd.Series).stack()\n",
    "b"
   ]
  },
  {
   "cell_type": "markdown",
   "metadata": {},
   "source": [
    "O **.stack()** trabalha com diversos níveis de dados, transformando para níveis em árvore. No nosso caso, ele está ao final da série de funções para poder **empilhar** os resultados da operação\n",
    "\n",
    "Colunas de nível **simples**:"
   ]
  },
  {
   "cell_type": "code",
   "execution_count": 126,
   "metadata": {},
   "outputs": [
    {
     "name": "stdout",
     "output_type": "stream",
     "text": [
      "     weight  height\n",
      "cat       0       1\n",
      "dog       2       3\n"
     ]
    },
    {
     "data": {
      "text/plain": [
       "cat  weight    0\n",
       "     height    1\n",
       "dog  weight    2\n",
       "     height    3\n",
       "dtype: int64"
      ]
     },
     "execution_count": 126,
     "metadata": {},
     "output_type": "execute_result"
    }
   ],
   "source": [
    "df = pd.DataFrame([[0, 1], [2, 3]],\n",
    "                index=['cat', 'dog'],\n",
    "                columns=['weight', 'height'])\n",
    "print(df)\n",
    "\n",
    "df_novo = df.stack()\n",
    "df_novo"
   ]
  },
  {
   "cell_type": "markdown",
   "metadata": {},
   "source": [
    "Colunas de nível **composto**:"
   ]
  },
  {
   "cell_type": "code",
   "execution_count": 127,
   "metadata": {},
   "outputs": [
    {
     "data": {
      "text/plain": [
       "MultiIndex(levels=[['weight'], ['kg', 'pounds']],\n",
       "           labels=[[0, 0], [0, 1]])"
      ]
     },
     "execution_count": 127,
     "metadata": {},
     "output_type": "execute_result"
    }
   ],
   "source": [
    "multicol1 = pd.MultiIndex.from_tuples([('weight', 'kg'), ('weight', 'pounds')])\n",
    "multicol1"
   ]
  },
  {
   "cell_type": "code",
   "execution_count": 128,
   "metadata": {},
   "outputs": [
    {
     "data": {
      "text/html": [
       "<div>\n",
       "<style scoped>\n",
       "    .dataframe tbody tr th:only-of-type {\n",
       "        vertical-align: middle;\n",
       "    }\n",
       "\n",
       "    .dataframe tbody tr th {\n",
       "        vertical-align: top;\n",
       "    }\n",
       "\n",
       "    .dataframe thead tr th {\n",
       "        text-align: left;\n",
       "    }\n",
       "</style>\n",
       "<table border=\"1\" class=\"dataframe\">\n",
       "  <thead>\n",
       "    <tr>\n",
       "      <th></th>\n",
       "      <th colspan=\"2\" halign=\"left\">weight</th>\n",
       "    </tr>\n",
       "    <tr>\n",
       "      <th></th>\n",
       "      <th>kg</th>\n",
       "      <th>pounds</th>\n",
       "    </tr>\n",
       "  </thead>\n",
       "  <tbody>\n",
       "    <tr>\n",
       "      <th>cat</th>\n",
       "      <td>1</td>\n",
       "      <td>2</td>\n",
       "    </tr>\n",
       "    <tr>\n",
       "      <th>dog</th>\n",
       "      <td>2</td>\n",
       "      <td>4</td>\n",
       "    </tr>\n",
       "  </tbody>\n",
       "</table>\n",
       "</div>"
      ],
      "text/plain": [
       "    weight       \n",
       "        kg pounds\n",
       "cat      1      2\n",
       "dog      2      4"
      ]
     },
     "execution_count": 128,
     "metadata": {},
     "output_type": "execute_result"
    }
   ],
   "source": [
    "df_multi_level_cols1 = pd.DataFrame([[1, 2], [2, 4]],\n",
    "                                index=['cat', 'dog'],\n",
    "                                columns=multicol1)\n",
    "df_multi_level_cols1"
   ]
  },
  {
   "cell_type": "code",
   "execution_count": 129,
   "metadata": {},
   "outputs": [
    {
     "data": {
      "text/html": [
       "<div>\n",
       "<style scoped>\n",
       "    .dataframe tbody tr th:only-of-type {\n",
       "        vertical-align: middle;\n",
       "    }\n",
       "\n",
       "    .dataframe tbody tr th {\n",
       "        vertical-align: top;\n",
       "    }\n",
       "\n",
       "    .dataframe thead th {\n",
       "        text-align: right;\n",
       "    }\n",
       "</style>\n",
       "<table border=\"1\" class=\"dataframe\">\n",
       "  <thead>\n",
       "    <tr style=\"text-align: right;\">\n",
       "      <th></th>\n",
       "      <th></th>\n",
       "      <th>weight</th>\n",
       "    </tr>\n",
       "  </thead>\n",
       "  <tbody>\n",
       "    <tr>\n",
       "      <th rowspan=\"2\" valign=\"top\">cat</th>\n",
       "      <th>kg</th>\n",
       "      <td>1</td>\n",
       "    </tr>\n",
       "    <tr>\n",
       "      <th>pounds</th>\n",
       "      <td>2</td>\n",
       "    </tr>\n",
       "    <tr>\n",
       "      <th rowspan=\"2\" valign=\"top\">dog</th>\n",
       "      <th>kg</th>\n",
       "      <td>2</td>\n",
       "    </tr>\n",
       "    <tr>\n",
       "      <th>pounds</th>\n",
       "      <td>4</td>\n",
       "    </tr>\n",
       "  </tbody>\n",
       "</table>\n",
       "</div>"
      ],
      "text/plain": [
       "            weight\n",
       "cat kg           1\n",
       "    pounds       2\n",
       "dog kg           2\n",
       "    pounds       4"
      ]
     },
     "execution_count": 129,
     "metadata": {},
     "output_type": "execute_result"
    }
   ],
   "source": [
    "df_multi_level_cols1.stack()"
   ]
  },
  {
   "cell_type": "markdown",
   "metadata": {},
   "source": [
    "Aplicando uma **Função** (Método)para colunas ou linhas do seu dataframe\n",
    "\n",
    "---\n",
    "\n",
    "*Observação: diferença básica entre Função e Método é a orientação a objeto do último. Isso não faz diferença neste momento. Uma explicação detalhada encontra-se no documento Testes Seaborn*"
   ]
  },
  {
   "cell_type": "markdown",
   "metadata": {},
   "source": [
    "Exemplos genéricos de **Apply**:"
   ]
  },
  {
   "cell_type": "code",
   "execution_count": null,
   "metadata": {},
   "outputs": [],
   "source": [
    "df['A'].apply(doubler)"
   ]
  },
  {
   "cell_type": "code",
   "execution_count": null,
   "metadata": {},
   "outputs": [],
   "source": [
    "df.loc[0].apply(doubler)"
   ]
  },
  {
   "cell_type": "markdown",
   "metadata": {},
   "source": [
    "Aplicando a função **.apply()** para dobrar valores num dataframe:\n",
    "\n",
    "*Obs: ele me retornou a coluna de Assentos, com a alteração feita. Não era exatamente o que eu queria, eu pensava numa alteração no **próprio** dataframe!*\n",
    "\n",
    "*Consegui resolver isso acrescentando o comando:*\n",
    "\n",
    "    df[\"Seats\"] = b"
   ]
  },
  {
   "cell_type": "code",
   "execution_count": 131,
   "metadata": {},
   "outputs": [
    {
     "name": "stdout",
     "output_type": "stream",
     "text": [
      "   Age  Seats  Tickets\n",
      "0   34      1        2\n",
      "1   22      3        3\n",
      "2   19      2        4\n",
      "0    2\n",
      "1    6\n",
      "2    4\n",
      "Name: Seats, dtype: int64\n"
     ]
    },
    {
     "data": {
      "text/html": [
       "<div>\n",
       "<style scoped>\n",
       "    .dataframe tbody tr th:only-of-type {\n",
       "        vertical-align: middle;\n",
       "    }\n",
       "\n",
       "    .dataframe tbody tr th {\n",
       "        vertical-align: top;\n",
       "    }\n",
       "\n",
       "    .dataframe thead th {\n",
       "        text-align: right;\n",
       "    }\n",
       "</style>\n",
       "<table border=\"1\" class=\"dataframe\">\n",
       "  <thead>\n",
       "    <tr style=\"text-align: right;\">\n",
       "      <th></th>\n",
       "      <th>Age</th>\n",
       "      <th>Seats</th>\n",
       "      <th>Tickets</th>\n",
       "    </tr>\n",
       "  </thead>\n",
       "  <tbody>\n",
       "    <tr>\n",
       "      <th>0</th>\n",
       "      <td>34</td>\n",
       "      <td>2</td>\n",
       "      <td>2</td>\n",
       "    </tr>\n",
       "    <tr>\n",
       "      <th>1</th>\n",
       "      <td>22</td>\n",
       "      <td>6</td>\n",
       "      <td>3</td>\n",
       "    </tr>\n",
       "    <tr>\n",
       "      <th>2</th>\n",
       "      <td>19</td>\n",
       "      <td>4</td>\n",
       "      <td>4</td>\n",
       "    </tr>\n",
       "  </tbody>\n",
       "</table>\n",
       "</div>"
      ],
      "text/plain": [
       "   Age  Seats  Tickets\n",
       "0   34      2        2\n",
       "1   22      6        3\n",
       "2   19      4        4"
      ]
     },
     "execution_count": 131,
     "metadata": {},
     "output_type": "execute_result"
    }
   ],
   "source": [
    "df = pd.DataFrame(data=np.array([[34, 1, 2], \n",
    "                                 [22, 3, 3], \n",
    "                                 [19, 2, 4]]), \n",
    "                  index= [0, 1, 2], \n",
    "                  columns=[\"Age\", \"Seats\", \"Tickets\"]) \n",
    "print(df)\n",
    "\n",
    "b = df[\"Seats\"].apply(lambda x: x*2)\n",
    "print(b)\n",
    "\n",
    "df[\"Seats\"] = b\n",
    "df"
   ]
  },
  {
   "cell_type": "markdown",
   "metadata": {},
   "source": [
    "Mesma coisa, com o uso da função **.map()**:\n",
    "\n",
    "*Achei este exemplo infeliz. Às vezes conseguimos a mesma coisa usando comandos diferentes. O problema é que cada um é especializado numa tarefa. Então quando dominamos completamente o uso do comando, os resultados podem servir apenas com um deles!*\n",
    "\n",
    "*Uma explicação das diferenças das funções **.map()**, **.applymap()** e **.apply()** encontra-se [aqui](https://stackoverflow.com/questions/19798153/difference-between-map-applymap-and-apply-methods-in-pandas)*"
   ]
  },
  {
   "cell_type": "code",
   "execution_count": 132,
   "metadata": {},
   "outputs": [
    {
     "name": "stdout",
     "output_type": "stream",
     "text": [
      "   Age  Seats  Tickets\n",
      "0   34      1        2\n",
      "1   22      3        3\n",
      "2   19      2        4\n",
      "0    2\n",
      "1    6\n",
      "2    4\n",
      "Name: Seats, dtype: int64\n"
     ]
    },
    {
     "data": {
      "text/html": [
       "<div>\n",
       "<style scoped>\n",
       "    .dataframe tbody tr th:only-of-type {\n",
       "        vertical-align: middle;\n",
       "    }\n",
       "\n",
       "    .dataframe tbody tr th {\n",
       "        vertical-align: top;\n",
       "    }\n",
       "\n",
       "    .dataframe thead th {\n",
       "        text-align: right;\n",
       "    }\n",
       "</style>\n",
       "<table border=\"1\" class=\"dataframe\">\n",
       "  <thead>\n",
       "    <tr style=\"text-align: right;\">\n",
       "      <th></th>\n",
       "      <th>Age</th>\n",
       "      <th>Seats</th>\n",
       "      <th>Tickets</th>\n",
       "    </tr>\n",
       "  </thead>\n",
       "  <tbody>\n",
       "    <tr>\n",
       "      <th>0</th>\n",
       "      <td>34</td>\n",
       "      <td>2</td>\n",
       "      <td>2</td>\n",
       "    </tr>\n",
       "    <tr>\n",
       "      <th>1</th>\n",
       "      <td>22</td>\n",
       "      <td>6</td>\n",
       "      <td>3</td>\n",
       "    </tr>\n",
       "    <tr>\n",
       "      <th>2</th>\n",
       "      <td>19</td>\n",
       "      <td>4</td>\n",
       "      <td>4</td>\n",
       "    </tr>\n",
       "  </tbody>\n",
       "</table>\n",
       "</div>"
      ],
      "text/plain": [
       "   Age  Seats  Tickets\n",
       "0   34      2        2\n",
       "1   22      6        3\n",
       "2   19      4        4"
      ]
     },
     "execution_count": 132,
     "metadata": {},
     "output_type": "execute_result"
    }
   ],
   "source": [
    "df = pd.DataFrame(data=np.array([[34, 1, 2], \n",
    "                                 [22, 3, 3], \n",
    "                                 [19, 2, 4]]), \n",
    "                  index= [0, 1, 2], \n",
    "                  columns=[\"Age\", \"Seats\", \"Tickets\"]) \n",
    "print(df)\n",
    "\n",
    "b = df[\"Seats\"].map(lambda x: x*2)\n",
    "print(b)\n",
    "\n",
    "df[\"Seats\"] = b\n",
    "df"
   ]
  },
  {
   "cell_type": "markdown",
   "metadata": {},
   "source": [
    "Aplicando para todas as células do dataframe, com a função **.applymap()**:"
   ]
  },
  {
   "cell_type": "code",
   "execution_count": 133,
   "metadata": {},
   "outputs": [
    {
     "name": "stdout",
     "output_type": "stream",
     "text": [
      "   Age  Seats  Tickets\n",
      "0   34      1        2\n",
      "1   22      3        3\n",
      "2   19      2        4\n"
     ]
    },
    {
     "data": {
      "text/html": [
       "<div>\n",
       "<style scoped>\n",
       "    .dataframe tbody tr th:only-of-type {\n",
       "        vertical-align: middle;\n",
       "    }\n",
       "\n",
       "    .dataframe tbody tr th {\n",
       "        vertical-align: top;\n",
       "    }\n",
       "\n",
       "    .dataframe thead th {\n",
       "        text-align: right;\n",
       "    }\n",
       "</style>\n",
       "<table border=\"1\" class=\"dataframe\">\n",
       "  <thead>\n",
       "    <tr style=\"text-align: right;\">\n",
       "      <th></th>\n",
       "      <th>Age</th>\n",
       "      <th>Seats</th>\n",
       "      <th>Tickets</th>\n",
       "    </tr>\n",
       "  </thead>\n",
       "  <tbody>\n",
       "    <tr>\n",
       "      <th>0</th>\n",
       "      <td>68</td>\n",
       "      <td>2</td>\n",
       "      <td>4</td>\n",
       "    </tr>\n",
       "    <tr>\n",
       "      <th>1</th>\n",
       "      <td>44</td>\n",
       "      <td>6</td>\n",
       "      <td>6</td>\n",
       "    </tr>\n",
       "    <tr>\n",
       "      <th>2</th>\n",
       "      <td>38</td>\n",
       "      <td>4</td>\n",
       "      <td>8</td>\n",
       "    </tr>\n",
       "  </tbody>\n",
       "</table>\n",
       "</div>"
      ],
      "text/plain": [
       "   Age  Seats  Tickets\n",
       "0   68      2        4\n",
       "1   44      6        6\n",
       "2   38      4        8"
      ]
     },
     "execution_count": 133,
     "metadata": {},
     "output_type": "execute_result"
    }
   ],
   "source": [
    "df = pd.DataFrame(data=np.array([[34, 1, 2], \n",
    "                                 [22, 3, 3], \n",
    "                                 [19, 2, 4]]), \n",
    "                  index= [0, 1, 2], \n",
    "                  columns=[\"Age\", \"Seats\", \"Tickets\"]) \n",
    "print(df)\n",
    "\n",
    "b = df.applymap(lambda x: x*2)\n",
    "b"
   ]
  },
  {
   "cell_type": "markdown",
   "metadata": {},
   "source": [
    "#### Explicação sobre Apply\n",
    "\n",
    "---\n",
    "\n",
    "A diferença é que:\n",
    "\n",
    "- **Apply** trabalha sobre uma **série** (coluna ou linha) de um **dataframe**\n",
    "\n",
    "- **Applymap** sobre **elementos** de um **dataframe**\n",
    "\n",
    "- **Map**, sobre **elementos** de uma **série**\n",
    "\n",
    "O método **.apply()** aplica uma função em matrizes 2D para cada linha ou coluna\n",
    "\n",
    "Aqui pegamos uma matriz aleatória e para cada uma das **colunas**, determinamos a variação, ou seja, a diferença entre o valor **máximo** e o **mínimo**:\n",
    "\n",
    "*Obs: normalmente o que foi feito aqui não é necessário. A maioria dos tratamentos estatísticos  (como soma e média) possuem métodos prontos para dataframe!"
   ]
  },
  {
   "cell_type": "code",
   "execution_count": 136,
   "metadata": {},
   "outputs": [
    {
     "name": "stdout",
     "output_type": "stream",
     "text": [
      "               b         d         e\n",
      "Utah    0.004135  1.480745  0.719668\n",
      "Ohio    1.082657  0.590198 -0.603353\n",
      "Texas   1.778640  0.879334  0.045757\n",
      "Oregon -0.126959 -1.231449 -1.190028\n"
     ]
    },
    {
     "data": {
      "text/plain": [
       "b    1.905599\n",
       "d    2.712195\n",
       "e    1.909696\n",
       "dtype: float64"
      ]
     },
     "execution_count": 136,
     "metadata": {},
     "output_type": "execute_result"
    }
   ],
   "source": [
    "df = pd.DataFrame(np.random.randn(4, 3), columns=list('bde'), \n",
    "                    index=['Utah', 'Ohio', 'Texas', 'Oregon'])\n",
    "\n",
    "f = lambda x: x.max() - x.min()\n",
    "\n",
    "print(df)\n",
    "df.apply(f)"
   ]
  },
  {
   "cell_type": "markdown",
   "metadata": {},
   "source": [
    "#### Explicação sobre ApplyMap\n",
    "\n",
    "---\n",
    "\n",
    "Suponha que você queira aplicar uma formatação especial para cada **elemento** de um **dataframe**:\n",
    "\n",
    "*A razão para este nome estranho é que as **Séries** já possuem um método **Map** para cada um de seus elementos!*"
   ]
  },
  {
   "cell_type": "code",
   "execution_count": 137,
   "metadata": {},
   "outputs": [
    {
     "name": "stdout",
     "output_type": "stream",
     "text": [
      "               b         d         e\n",
      "Utah    0.966960  0.160812  0.907248\n",
      "Ohio   -0.428441  1.296903 -0.850858\n",
      "Texas   0.714402 -0.905583 -0.707652\n",
      "Oregon  0.679997 -0.558362 -1.549683\n"
     ]
    },
    {
     "data": {
      "text/html": [
       "<div>\n",
       "<style scoped>\n",
       "    .dataframe tbody tr th:only-of-type {\n",
       "        vertical-align: middle;\n",
       "    }\n",
       "\n",
       "    .dataframe tbody tr th {\n",
       "        vertical-align: top;\n",
       "    }\n",
       "\n",
       "    .dataframe thead th {\n",
       "        text-align: right;\n",
       "    }\n",
       "</style>\n",
       "<table border=\"1\" class=\"dataframe\">\n",
       "  <thead>\n",
       "    <tr style=\"text-align: right;\">\n",
       "      <th></th>\n",
       "      <th>b</th>\n",
       "      <th>d</th>\n",
       "      <th>e</th>\n",
       "    </tr>\n",
       "  </thead>\n",
       "  <tbody>\n",
       "    <tr>\n",
       "      <th>Utah</th>\n",
       "      <td>0.97</td>\n",
       "      <td>0.16</td>\n",
       "      <td>0.91</td>\n",
       "    </tr>\n",
       "    <tr>\n",
       "      <th>Ohio</th>\n",
       "      <td>-0.43</td>\n",
       "      <td>1.30</td>\n",
       "      <td>-0.85</td>\n",
       "    </tr>\n",
       "    <tr>\n",
       "      <th>Texas</th>\n",
       "      <td>0.71</td>\n",
       "      <td>-0.91</td>\n",
       "      <td>-0.71</td>\n",
       "    </tr>\n",
       "    <tr>\n",
       "      <th>Oregon</th>\n",
       "      <td>0.68</td>\n",
       "      <td>-0.56</td>\n",
       "      <td>-1.55</td>\n",
       "    </tr>\n",
       "  </tbody>\n",
       "</table>\n",
       "</div>"
      ],
      "text/plain": [
       "            b      d      e\n",
       "Utah     0.97   0.16   0.91\n",
       "Ohio    -0.43   1.30  -0.85\n",
       "Texas    0.71  -0.91  -0.71\n",
       "Oregon   0.68  -0.56  -1.55"
      ]
     },
     "execution_count": 137,
     "metadata": {},
     "output_type": "execute_result"
    }
   ],
   "source": [
    "df = pd.DataFrame(np.random.randn(4, 3), columns=list('bde'), \n",
    "                    index=['Utah', 'Ohio', 'Texas', 'Oregon'])\n",
    "print(df)\n",
    "\n",
    "format = lambda x: '%.2f' % x\n",
    "\n",
    "df.applymap(format)"
   ]
  },
  {
   "cell_type": "markdown",
   "metadata": {},
   "source": [
    "**Explicação sobre Map**\n",
    "\n",
    "---\n",
    "\n",
    "É a mesma coisa que o anterior. Só que aplicado para cada **elemento** de uma **série**:"
   ]
  },
  {
   "cell_type": "code",
   "execution_count": 138,
   "metadata": {},
   "outputs": [
    {
     "name": "stdout",
     "output_type": "stream",
     "text": [
      "Utah      2.324277\n",
      "Ohio     -0.044960\n",
      "Texas     0.383831\n",
      "Oregon   -0.008279\n",
      "Name: e, dtype: float64\n"
     ]
    },
    {
     "data": {
      "text/plain": [
       "Utah       2.32\n",
       "Ohio      -0.04\n",
       "Texas      0.38\n",
       "Oregon    -0.01\n",
       "Name: e, dtype: object"
      ]
     },
     "execution_count": 138,
     "metadata": {},
     "output_type": "execute_result"
    }
   ],
   "source": [
    "df = pd.DataFrame(np.random.randn(4, 3), columns=list('bde'), \n",
    "                    index=['Utah', 'Ohio', 'Texas', 'Oregon'])\n",
    "print(df['e'])\n",
    "\n",
    "df['e'].map(format)"
   ]
  },
  {
   "cell_type": "markdown",
   "metadata": {},
   "source": [
    "#### O que Não Fazer com Apply\n",
    "\n",
    "---\n",
    "\n",
    "Documentação de **Apply** [aqui](http://pandas.pydata.org/pandas-docs/stable/generated/pandas.DataFrame.apply.html)\n",
    "\n",
    "Por fim, um esclarecimento do que **não** fazer no Pandas **Apply**, [aqui](https://ys-l.github.io/posts/2015/08/28/how-not-to-use-pandas-apply/)\n",
    "\n",
    "Sobre estratégias para aumentar a performance computacional do Pandas, [aqui](http://pandas.pydata.org/pandas-docs/stable/enhancingperf.html)\n",
    "\n",
    "Suponha que você vá redefinir um dataframe com aproximadamente 1 milhão de linhas e uma dúzia de colunas, processando algumas operações vetorias de alguma complexidade:"
   ]
  },
  {
   "cell_type": "code",
   "execution_count": 139,
   "metadata": {},
   "outputs": [],
   "source": [
    "def complex_computation(a):\n",
    "    # do lots of work here...\n",
    "    # ...\n",
    "    # and finally it's done.\n",
    "    return value1, value2, value3"
   ]
  },
  {
   "cell_type": "markdown",
   "metadata": {},
   "source": [
    "Os resultados serão agrupados nesse novo dataframe. Uma solução natural é o uso da função **Apply**:"
   ]
  },
  {
   "cell_type": "code",
   "execution_count": null,
   "metadata": {},
   "outputs": [],
   "source": [
    "def func(row):\n",
    "    v1, v2, v3 = complex_computation(row[['some', 'columns']].values)\n",
    "    return pd.Series({'NewColumn1': v1,\n",
    "                      'NewColumn2': v2,\n",
    "                      'NewColumn3': v3})\n",
    "df_result = df.apply(func, axis=1)"
   ]
  },
  {
   "cell_type": "markdown",
   "metadata": {},
   "source": [
    "O resultado de **Apply** depende do que a **func** retorna. se passamos uma **func** retornando uma **Série** ao invés de um valor **singular**, o resultado será uma dataframe contendo três colunas como os nomes dados\n",
    "\n",
    "Expressada de uma maneira mais carregada de **loops**, o resultado equivalente seria dado por:"
   ]
  },
  {
   "cell_type": "code",
   "execution_count": null,
   "metadata": {},
   "outputs": [],
   "source": [
    "v1s, v2s, v3s = [], [], []\n",
    "for _, row in df.iterrows():\n",
    "    v1, v2, v3 = complex_computation(row[['some', 'columns']].values)\n",
    "    v1s.append(v1)\n",
    "    v2s.append(v2)\n",
    "    v3s.append(v3)\n",
    "df_result = pd.DataFrame({'NewColumn1': v1s,\n",
    "                          'NewColumn2': v2s,\n",
    "                          'NewColumn3': v3s})"
   ]
  },
  {
   "cell_type": "markdown",
   "metadata": {},
   "source": [
    "A solução usando **Apply** parece bem mais elegante, não? Bom, nem sempre **elegância** significa código **eficiente**!\n",
    "\n",
    "E ainda mais, somos tentados a fazer o Pandas juntar todas as tripas para nós e ainda fazer toda a operação de alguma maneira **otimizada**, certo? Mas não é assim que as coisas ocorrem. O que construímos, ao colocar todas as operações juntas, foi um **monstro silencioso comedor de memória** com o uso de **Apply**\n",
    "\n",
    "Segue um exemplo reprodutível desse efeito:\n",
    "\n",
    "*Obs: o mesmo pode ocorrer com **excesso de pythonização**, como já descrevi! Às vezes uma pequena linha condensada aparenta ter uma enorme elegância de codificação, se mostrando depois altamente **ineficiente**!*\n",
    "\n",
    "Para instalar o memory_profiler, com dicas de uso, [aqui](https://pypi.org/project/memory_profiler/)\n",
    "\n",
    "    pip install -U memory_profiler"
   ]
  },
  {
   "cell_type": "code",
   "execution_count": 142,
   "metadata": {},
   "outputs": [],
   "source": [
    "import pandas as pd\n",
    "import numpy as np\n",
    "%load_ext memory_profiler\n",
    "\n",
    "def complex_computation(a):\n",
    "    # Okay, this is not really complex, but this is just for illustration.\n",
    "    # To keep reproducibility, we can't make it order a pizza here.\n",
    "    # Anyway, pretend that there is no way to vectorize this operation.\n",
    "    return a[0]-a[1], a[0]+a[1], a[0]*a[1]\n",
    "\n",
    "def func(row):\n",
    "    v1, v2, v3 = complex_computation(row.values)\n",
    "    return pd.Series({'NewColumn1': v1,\n",
    "                      'NewColumn2': v2,\n",
    "                      'NewColumn3': v3})\n",
    "\n",
    "def run_apply(df):\n",
    "    df_result = df.apply(func, axis=1)\n",
    "    return df_result\n",
    "\n",
    "def run_loopy(df):\n",
    "    v1s, v2s, v3s = [], [], []\n",
    "    for _, row in df.iterrows():\n",
    "        v1, v2, v3 = complex_computation(row.values)\n",
    "        v1s.append(v1)\n",
    "        v2s.append(v2)\n",
    "        v3s.append(v3)\n",
    "    df_result = pd.DataFrame({'NewColumn1': v1s,\n",
    "                              'NewColumn2': v2s,\n",
    "                              'NewColumn3': v3s})\n",
    "    return df_result\n",
    "\n",
    "def make_dataset(N):\n",
    "    np.random.seed(0)\n",
    "    df = pd.DataFrame({\n",
    "            'a': np.random.randint(0, 100, N),\n",
    "            'b': np.random.randint(0, 100, N)\n",
    "         })\n",
    "    return df\n",
    "\n",
    "def test():\n",
    "    from pandas.util.testing import assert_frame_equal\n",
    "    df = make_dataset(100)\n",
    "    df_res1 = run_loopy(df)\n",
    "    df_res2 = run_apply(df)\n",
    "    assert_frame_equal(df_res1, df_res2)\n",
    "    print ('OK')\n",
    "\n",
    "df = make_dataset(1000000)"
   ]
  },
  {
   "cell_type": "markdown",
   "metadata": {},
   "source": [
    "Checando se ambas as implementações resultam em resultados idênticos (**correctedness**):"
   ]
  },
  {
   "cell_type": "code",
   "execution_count": 143,
   "metadata": {},
   "outputs": [
    {
     "name": "stdout",
     "output_type": "stream",
     "text": [
      "OK\n"
     ]
    }
   ],
   "source": [
    "test()"
   ]
  },
  {
   "cell_type": "markdown",
   "metadata": {},
   "source": [
    "Usando **Memit** para aquela função feia, cheia de loops:"
   ]
  },
  {
   "cell_type": "code",
   "execution_count": 144,
   "metadata": {},
   "outputs": [
    {
     "name": "stdout",
     "output_type": "stream",
     "text": [
      "peak memory: 326.91 MiB, increment: 160.68 MiB\n"
     ]
    }
   ],
   "source": [
    "%memit run_loopy(df)"
   ]
  },
  {
   "cell_type": "markdown",
   "metadata": {},
   "source": [
    "Agora o **Memit** na função elegante, escrita com **Apply**:"
   ]
  },
  {
   "cell_type": "code",
   "execution_count": 145,
   "metadata": {},
   "outputs": [
    {
     "name": "stdout",
     "output_type": "stream",
     "text": [
      "peak memory: 2754.70 MiB, increment: 2581.15 MiB\n"
     ]
    }
   ],
   "source": [
    "%memit run_apply(df)"
   ]
  },
  {
   "cell_type": "markdown",
   "metadata": {},
   "source": [
    "Então... a nossa função elegante consumiu **10 vezes** mais memória!\n",
    "\n",
    "Aparentemente, para atingir sua **flexibilidade**, a função **Apply** parece precisar armazenar **séries intermediárias**, comendo memória"
   ]
  },
  {
   "cell_type": "markdown",
   "metadata": {},
   "source": [
    "Agora vamos ver em termos de uso do processador:"
   ]
  },
  {
   "cell_type": "code",
   "execution_count": 146,
   "metadata": {},
   "outputs": [
    {
     "name": "stdout",
     "output_type": "stream",
     "text": [
      "42.8 s ± 670 ms per loop (mean ± std. dev. of 7 runs, 1 loop each)\n"
     ]
    }
   ],
   "source": [
    "%timeit run_loopy(df)"
   ]
  },
  {
   "cell_type": "code",
   "execution_count": 147,
   "metadata": {},
   "outputs": [
    {
     "name": "stdout",
     "output_type": "stream",
     "text": [
      "4min 15s ± 4.4 s per loop (mean ± std. dev. of 7 runs, 1 loop each)\n"
     ]
    }
   ],
   "source": [
    "%timeit run_apply(df)"
   ]
  },
  {
   "cell_type": "markdown",
   "metadata": {},
   "source": [
    "A sobrecarga na **Apply** de criar uma **série** para cada linha de entrada é demasiada!\n",
    "\n",
    "A aparente elegância causou ineficiência em **processamento** e **memória**\n",
    "\n",
    "*Quando aplicar uma função em um dataframe usando **DF.apply** por linha, tome muito cuidado com o que a função retorna. Fazendo com que ela retorne uma **série** de maneira que **Apply** resulte em um novo dataframe pode ser muito ineficiente...*"
   ]
  },
  {
   "cell_type": "markdown",
   "metadata": {},
   "source": [
    "#### Como criar um dataframe vazio\n",
    "\n",
    "---"
   ]
  },
  {
   "cell_type": "markdown",
   "metadata": {},
   "source": [
    "Com o uso do método Numpy **nan**:"
   ]
  },
  {
   "cell_type": "code",
   "execution_count": 151,
   "metadata": {},
   "outputs": [
    {
     "data": {
      "text/html": [
       "<div>\n",
       "<style scoped>\n",
       "    .dataframe tbody tr th:only-of-type {\n",
       "        vertical-align: middle;\n",
       "    }\n",
       "\n",
       "    .dataframe tbody tr th {\n",
       "        vertical-align: top;\n",
       "    }\n",
       "\n",
       "    .dataframe thead th {\n",
       "        text-align: right;\n",
       "    }\n",
       "</style>\n",
       "<table border=\"1\" class=\"dataframe\">\n",
       "  <thead>\n",
       "    <tr style=\"text-align: right;\">\n",
       "      <th></th>\n",
       "      <th>A</th>\n",
       "    </tr>\n",
       "  </thead>\n",
       "  <tbody>\n",
       "    <tr>\n",
       "      <th>0</th>\n",
       "      <td>NaN</td>\n",
       "    </tr>\n",
       "    <tr>\n",
       "      <th>1</th>\n",
       "      <td>NaN</td>\n",
       "    </tr>\n",
       "    <tr>\n",
       "      <th>2</th>\n",
       "      <td>NaN</td>\n",
       "    </tr>\n",
       "    <tr>\n",
       "      <th>3</th>\n",
       "      <td>NaN</td>\n",
       "    </tr>\n",
       "  </tbody>\n",
       "</table>\n",
       "</div>"
      ],
      "text/plain": [
       "    A\n",
       "0 NaN\n",
       "1 NaN\n",
       "2 NaN\n",
       "3 NaN"
      ]
     },
     "execution_count": 151,
     "metadata": {},
     "output_type": "execute_result"
    }
   ],
   "source": [
    "df = pd.DataFrame(np.nan, index=[0,1,2,3], columns=['A'])\n",
    "df"
   ]
  },
  {
   "cell_type": "markdown",
   "metadata": {},
   "source": [
    "O Numpy gera o NaN em float64, mas eu posso fazer isso determinando o formato:"
   ]
  },
  {
   "cell_type": "code",
   "execution_count": 152,
   "metadata": {},
   "outputs": [
    {
     "data": {
      "text/html": [
       "<div>\n",
       "<style scoped>\n",
       "    .dataframe tbody tr th:only-of-type {\n",
       "        vertical-align: middle;\n",
       "    }\n",
       "\n",
       "    .dataframe tbody tr th {\n",
       "        vertical-align: top;\n",
       "    }\n",
       "\n",
       "    .dataframe thead th {\n",
       "        text-align: right;\n",
       "    }\n",
       "</style>\n",
       "<table border=\"1\" class=\"dataframe\">\n",
       "  <thead>\n",
       "    <tr style=\"text-align: right;\">\n",
       "      <th></th>\n",
       "      <th>A</th>\n",
       "    </tr>\n",
       "  </thead>\n",
       "  <tbody>\n",
       "    <tr>\n",
       "      <th>0</th>\n",
       "      <td>NaT</td>\n",
       "    </tr>\n",
       "    <tr>\n",
       "      <th>1</th>\n",
       "      <td>NaT</td>\n",
       "    </tr>\n",
       "    <tr>\n",
       "      <th>2</th>\n",
       "      <td>NaT</td>\n",
       "    </tr>\n",
       "    <tr>\n",
       "      <th>3</th>\n",
       "      <td>NaT</td>\n",
       "    </tr>\n",
       "  </tbody>\n",
       "</table>\n",
       "</div>"
      ],
      "text/plain": [
       "    A\n",
       "0 NaT\n",
       "1 NaT\n",
       "2 NaT\n",
       "3 NaT"
      ]
     },
     "execution_count": 152,
     "metadata": {},
     "output_type": "execute_result"
    }
   ],
   "source": [
    "df = pd.DataFrame(index=range(0,4),columns=['A'], dtype='datetime64[ns]')\n",
    "df"
   ]
  },
  {
   "cell_type": "markdown",
   "metadata": {},
   "source": [
    "#### O Pandas reconhece Datas quando está importando dados?\n",
    "\n",
    "---"
   ]
  },
  {
   "cell_type": "markdown",
   "metadata": {},
   "source": [
    "Formas genéricas:"
   ]
  },
  {
   "cell_type": "code",
   "execution_count": null,
   "metadata": {},
   "outputs": [],
   "source": [
    "import pandas as pd\n",
    "pd.read_csv('yourFile', parse_dates=True)\n",
    "\n",
    "# or this option:\n",
    "pd.read_csv('yourFile', parse_dates=['columnName'])"
   ]
  },
  {
   "cell_type": "markdown",
   "metadata": {},
   "source": [
    "Para formas malucas de data, eu posso criar uma função **lambda**:"
   ]
  },
  {
   "cell_type": "code",
   "execution_count": null,
   "metadata": {},
   "outputs": [],
   "source": [
    "import pandas as pd\n",
    "interpData = lambda x: pd.datetime.strptime(x, '%Y-%m-%d %H:%M:%S')\n",
    "\n",
    "# Which makes your read command:\n",
    "pd.read_csv(infile, parse_dates=['columnName'], date_parser=interpData)\n",
    "\n",
    "# Or combine two columns into a single DateTime column\n",
    "pd.read_csv(infile, parse_dates={'datetime': ['date', 'time']}, date_parser=interpData)"
   ]
  },
  {
   "cell_type": "markdown",
   "metadata": {},
   "source": [
    "## Combinando Dataframes - Parte 1\n",
    "\n",
    "---\n",
    "\n",
    "#### Quando, por que e como remodelar seu dataframe\n",
    "\n",
    "Outras maneiras de remodelar seu data frame [aqui](http://pandas.pydata.org/pandas-docs/stable/reshaping.html)\n",
    "\n",
    "Às vezes o formato no qual eu recebo meu dataframe não está muito adequado ao meu trabalho\n",
    "\n",
    "Especialmente se eu pretendo fazer gráficos com **Seaborn**, que reconhece o dataframe por inteiro, eu gostaria de mudar a forma dos meus dados\n",
    "\n",
    "Existem diversas maneiras de se remodelar um dataframe:\n",
    "\n",
    "- pivotear\n",
    "- empilhar\n",
    "- desempilhar\n",
    "- fundir\n",
    "\n",
    "Uma explicação mais detalhada sobre pivotear, empilhar e desempilhar um dataframe encontra-se [aqui](https://nikgrozev.com/2015/07/01/reshaping-in-pandas-pivot-pivot-table-stack-and-unstack-explained-with-pictures/)"
   ]
  },
  {
   "cell_type": "markdown",
   "metadata": {},
   "source": [
    "**Pivoteando** um dataframe\n",
    "\n",
    "É costumeiro se chamar em SQL isso de **Consulta de Referência Cruzada**. Quando você usa a função **.pivot()** você precisa passar três argumentos:\n",
    "\n",
    "- **valores** onde voce irá especificar quais os valores do seu dataframe original que você irá quer ter na sua tabela pivô\n",
    "\n",
    "- **colunas** tudo o que você passar neste argumento se tornará uma coluna da sua tabela de resultado\n",
    "\n",
    "- **índice** o que você passar neste argumento irá ser o índice da sua tabela de resultado"
   ]
  },
  {
   "cell_type": "markdown",
   "metadata": {},
   "source": [
    "Na minha tabela original, eu tenho uma lista de diversas categorias de produtos (Higiene, Diversão, etc.), informando qual a loja operadora (Walmart, Fnac, etc.) e o preço médio e uma nota de testes. É um formato típico dessas listas de entrevistas. Eu dou na mão de um entrevistador um bloquinho com os seguintes campos a serem preenchidos:\n",
    "\n",
    "- **Categoria**\n",
    "\n",
    "- **Loja em que Foi Encontrado**\n",
    "\n",
    "- **Preço Média de Aquisição**\n",
    "\n",
    "- **Nota** (um valor encontrado por exemplo, em um site como **ReclameAqui**)\n",
    "\n",
    "Depois de ter listas e listas de entradas desse tipo, eu quero contar, por categoria, qual o preço médio praticado cada loja. Essa nova organização é legal para eu informar ao consumidor, num site tipo **PeixeUrbano**, quem está em primeiro lugar em matéria de menor preço na categoria por exemplo **Diversão**. O campo Nota não me interessa\n",
    "\n",
    "Como **linhas** em uma se tornam **colunas** na outra, uma operação de **referência cruzada** tem que ser executada. Note que **nem todas** as lojas trabalham com todos os departamentos. Então por exemplo, a FNAC no momento da pesquisa não operava com produtos de higiene\n",
    "\n",
    "Observe também a importância do **índice**. Se houver operações de **agrupamento**, é sobre esta nova coluna que a operação irá ocorrer!\n",
    "\n",
    "As **colunas** são uma operação automática da função e ela pegou toda a diversidade existente nos dados de **loja** e criou uma coluna para cada ítem. Observe que os nomes precisam estar **idênticos**, ou por exemplo, eu terei duas colunas, **Fnac** e **FNAC**\n",
    "\n",
    "Os **valores** nesse caso são únicos. Mas isso não é usual neste tipo de operação. Normalmente nós queremos **contar**. Mas às vezes **somar**, ou pegar o **maior** ou o **menor** valor encontrado"
   ]
  },
  {
   "cell_type": "code",
   "execution_count": 154,
   "metadata": {},
   "outputs": [
    {
     "name": "stdout",
     "output_type": "stream",
     "text": [
      "        category    store   price  testscore\n",
      "0       Cleaning  Walmart   11.42          4\n",
      "1       Cleaning      Dia   23.50          3\n",
      "2  Entertainment  Walmart   19.99          5\n",
      "3  Entertainment     Fnac   15.95          7\n",
      "4           Tech      Dia   55.75          5\n",
      "5           Tech  Walmart  111.55          8\n"
     ]
    },
    {
     "data": {
      "text/html": [
       "<div>\n",
       "<style scoped>\n",
       "    .dataframe tbody tr th:only-of-type {\n",
       "        vertical-align: middle;\n",
       "    }\n",
       "\n",
       "    .dataframe tbody tr th {\n",
       "        vertical-align: top;\n",
       "    }\n",
       "\n",
       "    .dataframe thead th {\n",
       "        text-align: right;\n",
       "    }\n",
       "</style>\n",
       "<table border=\"1\" class=\"dataframe\">\n",
       "  <thead>\n",
       "    <tr style=\"text-align: right;\">\n",
       "      <th>store</th>\n",
       "      <th>Dia</th>\n",
       "      <th>Fnac</th>\n",
       "      <th>Walmart</th>\n",
       "    </tr>\n",
       "    <tr>\n",
       "      <th>category</th>\n",
       "      <th></th>\n",
       "      <th></th>\n",
       "      <th></th>\n",
       "    </tr>\n",
       "  </thead>\n",
       "  <tbody>\n",
       "    <tr>\n",
       "      <th>Cleaning</th>\n",
       "      <td>23.50</td>\n",
       "      <td>NaN</td>\n",
       "      <td>11.42</td>\n",
       "    </tr>\n",
       "    <tr>\n",
       "      <th>Entertainment</th>\n",
       "      <td>NaN</td>\n",
       "      <td>15.95</td>\n",
       "      <td>19.99</td>\n",
       "    </tr>\n",
       "    <tr>\n",
       "      <th>Tech</th>\n",
       "      <td>55.75</td>\n",
       "      <td>NaN</td>\n",
       "      <td>111.55</td>\n",
       "    </tr>\n",
       "  </tbody>\n",
       "</table>\n",
       "</div>"
      ],
      "text/plain": [
       "store            Dia   Fnac  Walmart\n",
       "category                            \n",
       "Cleaning       23.50    NaN    11.42\n",
       "Entertainment    NaN  15.95    19.99\n",
       "Tech           55.75    NaN   111.55"
      ]
     },
     "execution_count": 154,
     "metadata": {},
     "output_type": "execute_result"
    }
   ],
   "source": [
    "# Import pandas\n",
    "import pandas as pd\n",
    "\n",
    "# Create your DataFrame\n",
    "products = pd.DataFrame({'category': ['Cleaning', 'Cleaning', 'Entertainment', 'Entertainment', 'Tech', 'Tech'],\n",
    "        'store': ['Walmart', 'Dia', 'Walmart', 'Fnac', 'Dia','Walmart'],\n",
    "        'price':[11.42, 23.50, 19.99, 15.95, 55.75, 111.55],\n",
    "        'testscore': [4, 3, 5, 7, 5, 8]})\n",
    "\n",
    "print (products)\n",
    "\n",
    "# Use `pivot()` to pivot the DataFrame\n",
    "pivot_products = products.pivot(index='category', columns='store', values='price')\n",
    "\n",
    "# Check out the result\n",
    "pivot_products"
   ]
  },
  {
   "cell_type": "markdown",
   "metadata": {},
   "source": [
    "### Pivoteando para múltiplas colunas\n",
    "\n",
    "---\n",
    "\n",
    "Quando você não especifica quais valores que você espera estarem presentes na sua tabela de resutado, você irá pivotear para **múltiplas colunas**\n",
    "\n",
    "*Observe que o terceiro parâmetro, **Values** está ausente!*\n",
    "\n",
    "Como nada está apontador para **o quê** que você quer pivotear, o sistema pivoteia para toda célula de valor que ele encontrar. No caso há duas, **price** e **testscore**. Então ele gera um relatório para cada valor. É como se fossem supercolunas de relatórios, seguidas cada uma de suas respectivas colunas de **lojas**\n",
    "\n",
    "O gráfico abaixo ilustra um caso assim:"
   ]
  },
  {
   "cell_type": "markdown",
   "metadata": {},
   "source": [
    "![Figura: pivoteamento para múltiplas colunas](pivoting_simple_multicolumn.png)"
   ]
  },
  {
   "cell_type": "markdown",
   "metadata": {},
   "source": [
    "---\n",
    "\n",
    "E mais, para uma célula usando o método **.pivot()**, existem  apenas **dois** casos possíveis:\n",
    "\n",
    "- **nenhum valor** encontrado para aquele caso - célula é preenchida com NaN (valor nulo)\n",
    "\n",
    "- **um valor** encontrado - célula recebe o valor do dado\n",
    "\n",
    "*Observe que eu tenho uma tabela Products2, exatamente como a do exemplo **abaixo**. Ela está comentada, mas se eu a ativar, eu resulto numa mensagem de erro*\n",
    "\n",
    "*O que ocorre neste caso? Bom, são **métodos** diferentes e o método **.pivot()** não permite duplicatas. Ele simplesmente não foi feito para lidar com **mais de um valor** para uma célula... Resultado? Se houver, **erro**!*"
   ]
  },
  {
   "cell_type": "code",
   "execution_count": 155,
   "metadata": {},
   "outputs": [
    {
     "name": "stdout",
     "output_type": "stream",
     "text": [
      "        category    store   price  testscore\n",
      "0       Cleaning  Walmart   11.42          4\n",
      "1       Cleaning      Dia   23.50          3\n",
      "2  Entertainment  Walmart   19.99          5\n",
      "3  Entertainment     Fnac   15.95          7\n",
      "4           Tech      Dia   55.75          5\n",
      "5           Tech  Walmart  111.55          8\n"
     ]
    },
    {
     "data": {
      "text/html": [
       "<div>\n",
       "<style scoped>\n",
       "    .dataframe tbody tr th:only-of-type {\n",
       "        vertical-align: middle;\n",
       "    }\n",
       "\n",
       "    .dataframe tbody tr th {\n",
       "        vertical-align: top;\n",
       "    }\n",
       "\n",
       "    .dataframe thead tr th {\n",
       "        text-align: left;\n",
       "    }\n",
       "\n",
       "    .dataframe thead tr:last-of-type th {\n",
       "        text-align: right;\n",
       "    }\n",
       "</style>\n",
       "<table border=\"1\" class=\"dataframe\">\n",
       "  <thead>\n",
       "    <tr>\n",
       "      <th></th>\n",
       "      <th colspan=\"3\" halign=\"left\">price</th>\n",
       "      <th colspan=\"3\" halign=\"left\">testscore</th>\n",
       "    </tr>\n",
       "    <tr>\n",
       "      <th>store</th>\n",
       "      <th>Dia</th>\n",
       "      <th>Fnac</th>\n",
       "      <th>Walmart</th>\n",
       "      <th>Dia</th>\n",
       "      <th>Fnac</th>\n",
       "      <th>Walmart</th>\n",
       "    </tr>\n",
       "    <tr>\n",
       "      <th>category</th>\n",
       "      <th></th>\n",
       "      <th></th>\n",
       "      <th></th>\n",
       "      <th></th>\n",
       "      <th></th>\n",
       "      <th></th>\n",
       "    </tr>\n",
       "  </thead>\n",
       "  <tbody>\n",
       "    <tr>\n",
       "      <th>Cleaning</th>\n",
       "      <td>23.50</td>\n",
       "      <td>NaN</td>\n",
       "      <td>11.42</td>\n",
       "      <td>3.0</td>\n",
       "      <td>NaN</td>\n",
       "      <td>4.0</td>\n",
       "    </tr>\n",
       "    <tr>\n",
       "      <th>Entertainment</th>\n",
       "      <td>NaN</td>\n",
       "      <td>15.95</td>\n",
       "      <td>19.99</td>\n",
       "      <td>NaN</td>\n",
       "      <td>7.0</td>\n",
       "      <td>5.0</td>\n",
       "    </tr>\n",
       "    <tr>\n",
       "      <th>Tech</th>\n",
       "      <td>55.75</td>\n",
       "      <td>NaN</td>\n",
       "      <td>111.55</td>\n",
       "      <td>5.0</td>\n",
       "      <td>NaN</td>\n",
       "      <td>8.0</td>\n",
       "    </tr>\n",
       "  </tbody>\n",
       "</table>\n",
       "</div>"
      ],
      "text/plain": [
       "               price                testscore             \n",
       "store            Dia   Fnac Walmart       Dia Fnac Walmart\n",
       "category                                                  \n",
       "Cleaning       23.50    NaN   11.42       3.0  NaN     4.0\n",
       "Entertainment    NaN  15.95   19.99       NaN  7.0     5.0\n",
       "Tech           55.75    NaN  111.55       5.0  NaN     8.0"
      ]
     },
     "execution_count": 155,
     "metadata": {},
     "output_type": "execute_result"
    }
   ],
   "source": [
    "# Import the Pandas library\n",
    "import pandas as pd\n",
    "\n",
    "# Construct the DataFrame\n",
    "products = pd.DataFrame({'category': ['Cleaning', 'Cleaning', 'Entertainment', 'Entertainment', 'Tech', 'Tech'],\n",
    "                        'store': ['Walmart', 'Dia', 'Walmart', 'Fnac', 'Dia','Walmart'],\n",
    "                        'price':[11.42, 23.50, 19.99, 15.95, 55.75, 111.55],\n",
    "                        'testscore': [4, 3, 5, 7, 5, 8]})\n",
    "print(products)\n",
    "\n",
    "'''products2 = pd.DataFrame({'category': ['Cleaning', 'Cleaning', 'Entertainment', 'Entertainment', 'Tech', 'Tech', 'Tech'],\n",
    "                        'store': ['Walmart', 'Dia', 'Walmart', 'Fnac', 'Dia','Walmart', 'Walmart'],\n",
    "                        'price':[11.42, 23.50, 19.99, 15.95, 19.99, 111.55, 11.99],\n",
    "                        'testscore': [4, 3, 5, 7, 5, 8, 3]})\n",
    "print(products2)'''\n",
    "\n",
    "# Use `pivot()` to pivot your DataFrame\n",
    "pivot_products = products.pivot(index='category', columns='store')\n",
    "#pivot_products2 = products2.pivot(index='category', columns='store')\n",
    "\n",
    "# Check out the results\n",
    "pivot_products"
   ]
  },
  {
   "cell_type": "markdown",
   "metadata": {},
   "source": [
    "### Tabela Pivô - parte 1\n",
    "\n",
    "---\n",
    "\n",
    "Observe que para o tipo de pivoteamento que estou fazendo, este não permite que existam valores duplicados para uma **coluna**. Neste caso eu obteria uma **mensagem de erro**\n",
    "\n",
    "Aqui surgiu um **parâmetro** a mais no método, que é **aggfunc='mean'**. O que isso quer dizer? quer dizer que quando houver **agrupamento**, eu devo aplicar a função **Média** para resolver o problema. \n",
    "\n",
    "Então, para uma célula, agora existem **três** casos possíveis:\n",
    "\n",
    "- **nenhum valor** encontrado para aquele caso - célula é preenchida com NaN (valor nulo)\n",
    "\n",
    "- **um valor** encontrado - célula recebe o valor do dado\n",
    "\n",
    "- **dois ou mais valores** encontrados - aplicada a fórmula presente no parâmetro **aggfunc**\n",
    "\n",
    "Você pode se certificar da unicidade dos seus dados usando agora o método **.pivot_table()**:\n",
    "\n",
    "*Observe que eu criei uma **nova** tabela chamada Products2, contendo mais um ítem para Walmart, ao final das linhas*\n",
    "\n",
    "*O que acontece quando eu processo a Products2 neste caso? Ele tira uma **média** das notas encontradas, no caso de **repetição**. Então minha nota para Walmart, em Tech, passou de 111,55 para 61,77*\n",
    "\n",
    "*Esta operação em bancos de dados SQL é chamada de **agrupamento** ou **agregação**. No caso não houve exatamente um agrupamento, mas algo da família dele... Este é o **único** critério de agrupamento possível? Não. Eu posso pegar a **soma**, o **maior valor**, o **menor valor** e assim por diante*\n",
    "\n",
    "*O quê me diz o que eu devo instruir a máquina para o caso de **agrupamento**? Duas palavras: **bom senso**. Depende do caso. Essa é a arte do Cientista de Dados...*\n",
    "\n",
    "*Obs: é que a cláusula SQL para isso é **Group By**. Daí o nome*"
   ]
  },
  {
   "cell_type": "code",
   "execution_count": 156,
   "metadata": {},
   "outputs": [
    {
     "name": "stdout",
     "output_type": "stream",
     "text": [
      "        category    store   price  testscore\n",
      "0       Cleaning  Walmart   11.42          4\n",
      "1       Cleaning      Dia   23.50          3\n",
      "2  Entertainment  Walmart   19.99          5\n",
      "3  Entertainment     Fnac   15.95          7\n",
      "4           Tech      Dia   19.99          5\n",
      "5           Tech  Walmart  111.55          8\n",
      "        category    store   price  testscore\n",
      "0       Cleaning  Walmart   11.42          4\n",
      "1       Cleaning      Dia   23.50          3\n",
      "2  Entertainment  Walmart   19.99          5\n",
      "3  Entertainment     Fnac   15.95          7\n",
      "4           Tech      Dia   19.99          5\n",
      "5           Tech  Walmart  111.55          8\n",
      "6           Tech  Walmart   11.99          3\n",
      "store            Dia   Fnac  Walmart\n",
      "category                            \n",
      "Cleaning       23.50    NaN    11.42\n",
      "Entertainment    NaN  15.95    19.99\n",
      "Tech           19.99    NaN   111.55\n"
     ]
    },
    {
     "data": {
      "text/html": [
       "<div>\n",
       "<style scoped>\n",
       "    .dataframe tbody tr th:only-of-type {\n",
       "        vertical-align: middle;\n",
       "    }\n",
       "\n",
       "    .dataframe tbody tr th {\n",
       "        vertical-align: top;\n",
       "    }\n",
       "\n",
       "    .dataframe thead th {\n",
       "        text-align: right;\n",
       "    }\n",
       "</style>\n",
       "<table border=\"1\" class=\"dataframe\">\n",
       "  <thead>\n",
       "    <tr style=\"text-align: right;\">\n",
       "      <th>store</th>\n",
       "      <th>Dia</th>\n",
       "      <th>Fnac</th>\n",
       "      <th>Walmart</th>\n",
       "    </tr>\n",
       "    <tr>\n",
       "      <th>category</th>\n",
       "      <th></th>\n",
       "      <th></th>\n",
       "      <th></th>\n",
       "    </tr>\n",
       "  </thead>\n",
       "  <tbody>\n",
       "    <tr>\n",
       "      <th>Cleaning</th>\n",
       "      <td>23.50</td>\n",
       "      <td>NaN</td>\n",
       "      <td>11.42</td>\n",
       "    </tr>\n",
       "    <tr>\n",
       "      <th>Entertainment</th>\n",
       "      <td>NaN</td>\n",
       "      <td>15.95</td>\n",
       "      <td>19.99</td>\n",
       "    </tr>\n",
       "    <tr>\n",
       "      <th>Tech</th>\n",
       "      <td>19.99</td>\n",
       "      <td>NaN</td>\n",
       "      <td>61.77</td>\n",
       "    </tr>\n",
       "  </tbody>\n",
       "</table>\n",
       "</div>"
      ],
      "text/plain": [
       "store            Dia   Fnac  Walmart\n",
       "category                            \n",
       "Cleaning       23.50    NaN    11.42\n",
       "Entertainment    NaN  15.95    19.99\n",
       "Tech           19.99    NaN    61.77"
      ]
     },
     "execution_count": 156,
     "metadata": {},
     "output_type": "execute_result"
    }
   ],
   "source": [
    "# Import the Pandas library\n",
    "import pandas as pd\n",
    "\n",
    "# Your DataFrame\n",
    "products= pd.DataFrame({'category': ['Cleaning', 'Cleaning', 'Entertainment', 'Entertainment', 'Tech', 'Tech'],\n",
    "                        'store': ['Walmart', 'Dia', 'Walmart', 'Fnac', 'Dia','Walmart'],\n",
    "                        'price':[11.42, 23.50, 19.99, 15.95, 19.99, 111.55],\n",
    "                        'testscore': [4, 3, 5, 7, 5, 8]})\n",
    "print(products)\n",
    "\n",
    "products2 = pd.DataFrame({'category': ['Cleaning', 'Cleaning', 'Entertainment', 'Entertainment', 'Tech', 'Tech', 'Tech'],\n",
    "                        'store': ['Walmart', 'Dia', 'Walmart', 'Fnac', 'Dia','Walmart', 'Walmart'],\n",
    "                        'price':[11.42, 23.50, 19.99, 15.95, 19.99, 111.55, 11.99],\n",
    "                        'testscore': [4, 3, 5, 7, 5, 8, 3]})\n",
    "print(products2)\n",
    "\n",
    "# Pivot your `products` DataFrame with `pivot_table()`\n",
    "pivot_products = products.pivot_table(index='category', columns='store', values='price', aggfunc='mean')\n",
    "pivot_products2 = products2.pivot_table(index='category', columns='store', values='price', aggfunc='mean')\n",
    "\n",
    "# Check out the results\n",
    "print(pivot_products)\n",
    "pivot_products2"
   ]
  },
  {
   "cell_type": "markdown",
   "metadata": {},
   "source": [
    "### Um engano comum em pivoteamento\n",
    "\n",
    "---\n",
    "\n",
    "Observe a figura:"
   ]
  },
  {
   "cell_type": "markdown",
   "metadata": {},
   "source": [
    "![Figura: engano comum em pivoteamento](pivoting_simple_error.png)"
   ]
  },
  {
   "cell_type": "markdown",
   "metadata": {},
   "source": [
    "Ao rodar isso dá a **mensagem de erro**:\n",
    "    \n",
    "    ValueError: Index contains duplicate entries, cannot reshape"
   ]
  },
  {
   "cell_type": "code",
   "execution_count": null,
   "metadata": {},
   "outputs": [],
   "source": [
    "table = OrderedDict((\n",
    "    (\"Item\", ['Item0', 'Item0', 'Item0', 'Item1']),\n",
    "    ('CType',['Gold', 'Bronze', 'Gold', 'Silver']),\n",
    "    ('USD',  ['1',  '2',  '3',  '4']),\n",
    "    ('EU',   ['1€', '2€', '3€', '4€'])\n",
    "))\n",
    "d = DataFrame(table)\n",
    "p = d.pivot(index='Item', columns='CType', values='USD')"
   ]
  },
  {
   "cell_type": "markdown",
   "metadata": {},
   "source": [
    "Para evitar isso, antes de fazer a chamada do método **.pivot()** eu preciso me certificar de que os nossos dados não possuem linhas com valores duplicados, para as colunas especificadas\n",
    "\n",
    "### Tabela Pivô - Parte 2\n",
    "\n",
    "---\n",
    "\n",
    "Ela trabalha como **pivô**, mas agrega valores das linhas com entradas duplicadas para as colunas especificadas. Em outras palavras, nós podemos usar uma **função de agregação**"
   ]
  },
  {
   "cell_type": "markdown",
   "metadata": {},
   "source": [
    "![Figura: tabela pivô](pivoting_table_simple1.png)"
   ]
  },
  {
   "cell_type": "code",
   "execution_count": 167,
   "metadata": {},
   "outputs": [
    {
     "name": "stdout",
     "output_type": "stream",
     "text": [
      "OrderedDict([('Item', ['Item0', 'Item0', 'Item0', 'Item1']), ('CType', ['Gold', 'Bronze', 'Gold', 'Silver']), ('USD', [1, 2, 3, 4]), ('EU', [1.1, 2.2, 3.3, 4.4])])\n"
     ]
    },
    {
     "data": {
      "text/html": [
       "<div>\n",
       "<style scoped>\n",
       "    .dataframe tbody tr th:only-of-type {\n",
       "        vertical-align: middle;\n",
       "    }\n",
       "\n",
       "    .dataframe tbody tr th {\n",
       "        vertical-align: top;\n",
       "    }\n",
       "\n",
       "    .dataframe thead th {\n",
       "        text-align: right;\n",
       "    }\n",
       "</style>\n",
       "<table border=\"1\" class=\"dataframe\">\n",
       "  <thead>\n",
       "    <tr style=\"text-align: right;\">\n",
       "      <th>CType</th>\n",
       "      <th>Bronze</th>\n",
       "      <th>Gold</th>\n",
       "      <th>Silver</th>\n",
       "    </tr>\n",
       "    <tr>\n",
       "      <th>Item</th>\n",
       "      <th></th>\n",
       "      <th></th>\n",
       "      <th></th>\n",
       "    </tr>\n",
       "  </thead>\n",
       "  <tbody>\n",
       "    <tr>\n",
       "      <th>Item0</th>\n",
       "      <td>2.0</td>\n",
       "      <td>1.0</td>\n",
       "      <td>NaN</td>\n",
       "    </tr>\n",
       "    <tr>\n",
       "      <th>Item1</th>\n",
       "      <td>NaN</td>\n",
       "      <td>NaN</td>\n",
       "      <td>4.0</td>\n",
       "    </tr>\n",
       "  </tbody>\n",
       "</table>\n",
       "</div>"
      ],
      "text/plain": [
       "CType  Bronze  Gold  Silver\n",
       "Item                       \n",
       "Item0     2.0   1.0     NaN\n",
       "Item1     NaN   NaN     4.0"
      ]
     },
     "execution_count": 167,
     "metadata": {},
     "output_type": "execute_result"
    }
   ],
   "source": [
    "from pandas import DataFrame\n",
    "from collections import OrderedDict\n",
    "\n",
    "table = OrderedDict((\n",
    "    (\"Item\", ['Item0', 'Item0', 'Item0', 'Item1']),\n",
    "    ('CType',['Gold', 'Bronze', 'Gold', 'Silver']),\n",
    "    ('USD',  [1, 2, 3, 4]),\n",
    "    ('EU',   [1.1, 2.2, 3.3, 4.4])\n",
    "))\n",
    "print (table)\n",
    "\n",
    "d = DataFrame(table)\n",
    "p = d.pivot_table(index='Item', columns='CType', values='USD', aggfunc=np.min)\n",
    "p"
   ]
  },
  {
   "cell_type": "markdown",
   "metadata": {},
   "source": [
    "### Stacking e Unstacking\n",
    "\n",
    "---\n",
    "\n",
    "**Empilhando** e **Desempilhando** um dataframe\n",
    "\n",
    "Isso tudo parece meio confuso, pois nos acostumamos com o **paradigma Excel**. De fato, a ferramenta **Excel** não é uma ferramenta de dataframe. É uma ótima ferramenta de **cálculo celular**. O conceito de **cálculo celular** é muito antigo e remonta os temos da antiga URSS. É mais fácil você proceder cálculos a partir de células quando você tem computadores precários e parte do serviço é feito à mão, a partir de **réguas de cálculo**\n",
    "\n",
    "Mas ao que parece, apenas 1 em cada 10 usuários de **Excel** realmente lida com matemática. Então ele, com suas limitações inerentes, foi apropriado para outra função.\n",
    "\n",
    "Ocorre que em **Excel** somos acostumados a lidar com dataframes contendo **coluna** x **linha**. Isso é um pouco mais complexo\n",
    "\n",
    "Eu posso ter dataframes tendo uma **coluna**, ou campo principal, ou **externa**, como por exemplo: Loja. E Loja é um campo de **índice primário de coluna** neste meu dataframe\n",
    "\n",
    "Mas uma Loja possui vários Departamentos. Então Departamento é um **índice secundário de coluna** no meu dataframe.\n",
    "\n",
    "E o mesmo para **linhas**, ou registros do meu dataframe. Então em uma linha eu tenho a entrada **Furadeira de Impacto** e que por um lado está relacionada ao nível de **linha** a uma categoria maior de **índice de linha**, de **Utilidades do Lar**\n",
    "\n",
    "E a uma determinada **furadeira de impacto** (Utilidades do Lar), a uma operação de venda em particular e por outro lado, está relacionada à coluna **Eletrodoméstico** (Departamento), sendo na coluna maior **Mappin** (Loja)\n",
    "\n",
    "---\n",
    "\n",
    "**Empilhamento**\n",
    "\n",
    "Se eu trouxer **Furadeira** para ser subcoluna de **Eletrodomésticos**, eu estarei tornando meu dataframe mais estreito, numa operação de **desempilhamento**, restando como **índice de linha** apenas **Furadeira de Impacto**. Como **índice de coluna** agora eu terei como primário **Loja**, depois **Departamento** depois **Eletrodomésticos**\n",
    "\n",
    "Quando você **empilha** um dataframe, ele fica **mais alto**\n",
    "\n",
    "E isso acontece quando move a **coluna** de índice mais interna para se tornar a **linha** de índice mais interna (ou **rodando**, ou **pivoteando**)\n",
    "\n",
    "Assim o **pivoteamento** nada mais é do que um caso especial de **empilhamento**\n",
    "\n",
    "E então você retorna o dataframe com um índice com um novo nível de rótulos de **coluna** mais internos\n",
    "\n",
    "---\n",
    "\n",
    "**Desempilhamento**\n",
    "\n",
    "E quando você **desempilha**, você está movendo o índice da **linha** mais interna para se tornar o índice da **coluna** mais interna\n",
    "\n",
    "Agora, se eu resolver baixar a subcoluna **Departamento** para minhas linhas, eu ficarei no meu dataframe como **índice de coluna** apenas **Loja**. E como índices de linha agora eu terei como índice primário de **linha**, **Departamento**, seguido de **Utilidades do Lar**\n",
    "\n",
    "A **figura** a a seguir ilustra essas operações"
   ]
  },
  {
   "cell_type": "markdown",
   "metadata": {},
   "source": [
    "![Figura: desempilhando um dataframe](stack_unstack1.png)"
   ]
  },
  {
   "cell_type": "markdown",
   "metadata": {},
   "source": [
    "### Melting\n",
    "\n",
    "---\n",
    "\n",
    "Redesenhando um dataframe com **Melt** (SQL **UNION**)"
   ]
  },
  {
   "cell_type": "markdown",
   "metadata": {},
   "source": [
    "A **Fusão** é considerada útil nos casos em que você tem dados que possuem uma ou mais colunas que são **variáveis de identificação**, enquanto as outras colunas são consideras **variáveis de medição**\n",
    "\n",
    "Estas **variáveis de medição** estão todas **não pivotadas** para o eixo das linhas\n",
    "\n",
    "E então, enquanto as variáveis de medição estão dispersas por toda a **largura** do dataframe, a operação de **Fusão** irá assegurar de que elas serão postas na sua **altura**\n",
    "\n",
    "Em outras palavas, o novo dataframe se tornará mais **longo** ao invés de **largo**\n",
    "\n",
    "Como resultado, você terá duas colunas **não identificadoras**, sendo elas **Variável** e **Valor**"
   ]
  },
  {
   "cell_type": "markdown",
   "metadata": {},
   "source": [
    "![Figura: redesenhando um dataframe com melt](reshaping_melt.png)"
   ]
  },
  {
   "cell_type": "code",
   "execution_count": 170,
   "metadata": {},
   "outputs": [
    {
     "name": "stdout",
     "output_type": "stream",
     "text": [
      "  FirstName LastName BloodType  Weight\n",
      "0      John      Doe        A-      90\n",
      "1      Jane   Austen        B+      64\n"
     ]
    },
    {
     "data": {
      "text/html": [
       "<div>\n",
       "<style scoped>\n",
       "    .dataframe tbody tr th:only-of-type {\n",
       "        vertical-align: middle;\n",
       "    }\n",
       "\n",
       "    .dataframe tbody tr th {\n",
       "        vertical-align: top;\n",
       "    }\n",
       "\n",
       "    .dataframe thead th {\n",
       "        text-align: right;\n",
       "    }\n",
       "</style>\n",
       "<table border=\"1\" class=\"dataframe\">\n",
       "  <thead>\n",
       "    <tr style=\"text-align: right;\">\n",
       "      <th></th>\n",
       "      <th>FirstName</th>\n",
       "      <th>LastName</th>\n",
       "      <th>measurements</th>\n",
       "      <th>value</th>\n",
       "    </tr>\n",
       "  </thead>\n",
       "  <tbody>\n",
       "    <tr>\n",
       "      <th>0</th>\n",
       "      <td>John</td>\n",
       "      <td>Doe</td>\n",
       "      <td>BloodType</td>\n",
       "      <td>A-</td>\n",
       "    </tr>\n",
       "    <tr>\n",
       "      <th>1</th>\n",
       "      <td>Jane</td>\n",
       "      <td>Austen</td>\n",
       "      <td>BloodType</td>\n",
       "      <td>B+</td>\n",
       "    </tr>\n",
       "    <tr>\n",
       "      <th>2</th>\n",
       "      <td>John</td>\n",
       "      <td>Doe</td>\n",
       "      <td>Weight</td>\n",
       "      <td>90</td>\n",
       "    </tr>\n",
       "    <tr>\n",
       "      <th>3</th>\n",
       "      <td>Jane</td>\n",
       "      <td>Austen</td>\n",
       "      <td>Weight</td>\n",
       "      <td>64</td>\n",
       "    </tr>\n",
       "  </tbody>\n",
       "</table>\n",
       "</div>"
      ],
      "text/plain": [
       "  FirstName LastName measurements value\n",
       "0      John      Doe    BloodType    A-\n",
       "1      Jane   Austen    BloodType    B+\n",
       "2      John      Doe       Weight    90\n",
       "3      Jane   Austen       Weight    64"
      ]
     },
     "execution_count": 170,
     "metadata": {},
     "output_type": "execute_result"
    }
   ],
   "source": [
    "# The `people` DataFrame\n",
    "people = pd.DataFrame({'FirstName' : ['John', 'Jane'],\n",
    "                       'LastName' : ['Doe', 'Austen'],\n",
    "                       'BloodType' : ['A-', 'B+'],\n",
    "                       'Weight' : [90, 64]})\n",
    "print(people)\n",
    "\n",
    "# Use `melt()` on the `people` DataFrame\n",
    "a = pd.melt(people, id_vars=['FirstName', 'LastName'], var_name='measurements')\n",
    "a"
   ]
  },
  {
   "cell_type": "markdown",
   "metadata": {},
   "source": [
    "## Combinando Dataframes - Parte 2\n",
    "\n",
    "---\n",
    "\n",
    "Para continuar com as técnicas de combinação de dataframes, é bom relembrar aquelas regras de **Teoria de Conjuntos**. Encontrado [aqui](https://stackoverflow.com/questions/50543326/how-to-do-left-outer-join-exclusion-in-pandas)\n",
    "\n",
    "Isso é aplicado para banco de dados, com muito sucesso. Como o padrão básico para lidar com banco de dados é o **SQL**, uma linguagem padronizada para realizar buscas em bancos de dados, seguem os agrupamentos possíveis:"
   ]
  },
  {
   "cell_type": "markdown",
   "metadata": {},
   "source": [
    "![Figura: joins em SQL](pxUO3.png)"
   ]
  },
  {
   "cell_type": "markdown",
   "metadata": {},
   "source": [
    "#### Explicação\n",
    "\n",
    "Isso parece complicado, mas de fato **não é**\n",
    "\n",
    "Em **primeiro** lugar, eu escolho dois dataframes que irão se interligar. O resultado será dado num terceiro dataframe, que será o **resultado** da minha ligação\n",
    "\n",
    "Em **segundo**, em cada dataframe eu escolho uma coluna que será o **elemento de ligação** entre os conjuntos de dados. Ela precisa ser um dos meus **índices**? Não, nem sempre! Às vezes o que eu quero e fazer ligações entre dados de **Hortaliças** do dataframe1 com de **Hortaliças** do dataframe2. O que realmente é importante:\n",
    "\n",
    "- que as duas colunas apresentem o **mesmo tipo** de dado. Ou seja, se uma for **int64**, a outra deverá necessariamente ser **int64**\n",
    "\n",
    "- que as duas colunas apresentem dados **compatíveis** e sem dubiedades. Assim, se uma delas possui uma entrada como **Melão**, na outra a entrada deverá ter exatamente a mesma grafia **Melão**. Se for **melão** ou **Melao**, a ligação não dará certo, então é bom se assegurar disso! E também que numa mesma tabela a entrada não use grafias diferentes para indicar a mesma coisa, como **Melão**, **Melao**, **Melão redondo**...\n",
    "\n",
    "Em **terceiro** eu escolho qual o **tipo de relacionamento** que eu desejo. Isso depende do que eu desejo obter como resultado e da minha criatividade. Basicamente funciona assim:\n",
    "\n",
    "- se eu quero **Todos** os registros do dataframe1 e apenas os registros que coincidirem no dataframe2, eu uso Um **Left Join**. Se isso for invertido e eu quiser todos os do dataframe2, então eu uso um **Right Join**\n",
    " \n",
    " - Quando eu usaria isso? Suponha que eu tenha no meu dataframe1 uma listagem de automóveis de uma empresa, com data de 2010. E no dataframe2, uma listagem de automóveis que passaram pela funilaria do Zezinho, em 2018, entre eles, alguns da minha empresa. Bom, eu sei que alguns dos meus carros foram reformados lá e **modernizados**, mas quais? Eu faço um **Left Join** e seguido de uma colagem **lateral** e eu terei agora uma listagem dos veículos, com suas características de 2010 e aqueles que foram reformados em 2018 pelo Zezinho, com suas novas características, para eu poder comparar. Isso é muito útil!\n",
    " \n",
    " - Outro uso disso é se existir uma relação entre dois dataframes de **1:n (um para muitos)**. Então no primeiro dataframe eu tenho registros dos meus **Clientes** da videolocadora e no segundo, das **Fitas Alugadas**. Com uma ligação dessas eu consigo constituir um novo dataframe contendo **Todos** os meus clientes e para aqueles que alugaram filmes, os filmes que eles alugaram\n",
    "\n",
    "- se eu quero **Apenas** os registros que existirem no dataframe1 e também no dataframe2, eu uso um **Inner Join** (observe que esses nomes são estranhos, mas altamente **intuitivos**)\n",
    "\n",
    " - É uma cláusula super restritiva. Quando eu usaria isso? Suponha que no caso da minha videolocadora eu queria a listagem apenas dos **Clientes** que constem **Fitas Alugadas**. Então agora o registro de João da Silva, que não alugou **nenhum** filme não me interessa!  \n",
    "\n",
    "- se eu quero um **misturão**, ou seja **Todos** os registros do dataframe1 e também **Todos** do dataframe2, eu uso um **Outer Join**. É usado também, mas se for mal usado, é uma das maiores causas de confusão em bancos de dados! \n",
    "\n",
    "- no gráfico **acima** se pode observar mais três maneiras, pouco usuais de relacionar dataframes. Mas se for o caso, devem ser usadas **sim**!\n",
    "\n",
    "- e uma que não aparece no gráfico acima é **Union**. Mas ela é fácil de entender. Eu simplesmente  pego dois dataframes **idênticos**, mas com dados **diferentes** e colo um em série com o outro. Se eles fossem impressos formulários contínuos, bastaria colar uma listagem depois do fim da outra!\n",
    "\n",
    " - Para quê isso serve? Se eu tenho dados idênticos, mas de origens diferentes, eu posso juntar tudo isso num só dataframe comuma colagem **de comprido**, com **Union**, e simplificar minha vida!\n",
    "\n",
    "Em **quarto**, sabendo a estratégia que eu desejo, procurar o comando Pandas que faça a tarefa para mim. Como Pandas não usa cláusulas **SQL**, eu preciso verificar, para cada caso, como proceder. Por sorte o Pandas é fácil de operar, então isso costuma ser bem **pouco** trabalhoso\n",
    "\n",
    "Uma **estratégia geral**:\n",
    "\n",
    "- primeiro simular a operação em **dataframes mais simples** e depois passar para o seu objetivo\n",
    "\n",
    "- depois começar extraindo um **resultado simplificado** e depois ir aprimorando sua consulta\n",
    "\n",
    "- e finalmente, **fazer isso em etapas**. Ou seja, uma consulta básica, depois outra que puxa daquela primeira e assim por diante. Isso torna mais fácil auditar o código, se algo der errado!\n",
    "\n",
    "---\n",
    "\n",
    "Para combinação de dataframes em **múltiplas colunas**, [aqui](https://stackoverflow.com/questions/21786490/pandas-left-outer-join-multiple-dataframes-on-multiple-columns)"
   ]
  },
  {
   "cell_type": "markdown",
   "metadata": {},
   "source": [
    "É importante saber:\n",
    "\n",
    "- key - se irá ser usada uma ou mais **chaves** para as ligações\n",
    "\n",
    "- how - o padrão é **inner**. Outros tipos são **left**, **right** e **outer**\n",
    "\n",
    "*Observação: a escolha do tipo de **ligação** tem a ver com o que eu espero como **resultado**. Basta ter bom senso e tudo corre bem. Em alguns casos, nenhuma ligação é necessária. Há uma descrição detalhada mais **acima**\n",
    "\n",
    "Com relação a **chave**, nem sempre ela é necessária. Alguns tipos de merge não necessita da passagem da chave. Da mesma maneira, o que mais importa é o **bom senso**. A regra é criada pelo usuário\n",
    "\n",
    "Sobre uso de coisas **por default**, eu prefiro sempre declarar. É mais fácil ver no código e **opa, esta ligação está estranha!** do que ficar confiando nos padrões e acabar me ferrando. Então mesmo no caso **inner**, por favor, declare!\n",
    "\n",
    "Ligações n:m... bom, esse é um caso à parte. Uma ligação típica n:m é o de uma livraria que vende vários livros de um autor, que por sua vez possuem vários autores... autores:obras... n:m. E aí?\n",
    "\n",
    "E aí é fácil. Existem apenas dois tipos possíveis desse negócio:\n",
    "\n",
    "- reificadas - você encontra um dataframe específico no seu database que faz a tal ligação. Para que serve reificar? É que às vezes eu quero acrescentear, na própria ligação, campos de comentários específicos, tipo, *foi muito feliz o trabalho conjunto de Oswald de Andrade com Mário de Andrade* ou coisas do tipo. Neste caso eu terei sempre **três** dataframes, um ligando 1:n, uma intermediária de reificação n:m e um terceiro fazendo m:1\n",
    "\n",
    "- não reificadas - eu simplesmente percebo que há duplicatas 1:n e m:1 nos meus **dois** dataframes. Por exemplo, a minha tabela da locadora de filmes, no campo Ator cadastra o Ator replicadamente para vários filmes e filmes para vários atores! Às vezes isso se encontra em **dois** dataframes, mas atenção, às vezes eles se condensam em apenas **um dataframe**! Observe as **replicações** no índice ou nas colunas!\n",
    "\n",
    "Sempre que eu tiver o **diagrama de projeto** do meu database, melhor será! Caso eu não tenha, se o nome dos campos e dos dataframes for amigável, muitas vezes dá para ser reconstruído\n",
    "\n",
    "O que eu faço na minha relação 1:n? Simples, não importa o caso (reificado ou não), eu apenas crio uma primeira consulta, depois outra e depois outra até chegar ao meu resultado!\n",
    "\n",
    "Embora para obter views isso seja possível, na hora de implementar Dataframes, normalmente **não é boa estratégia** resolver relações n:m de uma só vez!\n",
    "\n",
    "Então por exemplo, no caso dos meus livros eu vou ajustando, uma cláusula por vez, até obter meu resultado final! Simples assim!"
   ]
  },
  {
   "cell_type": "markdown",
   "metadata": {},
   "source": [
    "## Exemplos de ligações\n",
    "\n",
    "---\n",
    "\n",
    "*Obs: isso não é **exaustivo**, existem muitas outras coisas que se pode fazer durante uma combinação de dois dataframes. Uma coisa que eu sempre gosto de fazer é, se eu tenho que trabalhar com **mais de dois** dataframes, eu faço consultas em série, uma e depois outra e assim por diante. O único caso em que não faço isso é quando eu tenho certeza que todos eles são estruturalmente **idênticos**, como no caso abaixo do **Union**. Isso facilita auditar o código, se algo der errado*\n",
    "\n",
    "*Antes de sair criando relacionamentos, eu costumo pegar uma folha de papel e lápis e começo a **rascunhar** o que eu tenho e o que eu quero tirar. Então é uma boa ideia desenhar os dataframes, tentar enxergar os relacionamentos, se eles forem **1:n**, eu desenho isso também e depois uma seta grande e mais ou menos o meu formato de saída. Isso costuma me evitar muita dor de cabeça na hora de codificar!*\n",
    "\n",
    "### Left Join\n",
    "\n",
    "---\n",
    "\n",
    "Como no caso dos **carros modernizados**, acima:\n",
    "\n",
    "    result = left.join(right)"
   ]
  },
  {
   "cell_type": "markdown",
   "metadata": {},
   "source": [
    "![Figura: visão do Left Join](merging_join.png)"
   ]
  },
  {
   "cell_type": "markdown",
   "metadata": {},
   "source": [
    "### Union\n",
    "\n",
    "---\n",
    "\n",
    "Use a estratégia **melt** descrita acima\n",
    "\n",
    "Estratégia **append** também funciona\n",
    "\n",
    "    In [12]: result = df1.append(df2)\n",
    "\n",
    "Ou a estratégia **concat** de topo [aqui](https://pandas.pydata.org/pandas-docs/stable/merging.html) (muitos exemplos de uso de várias estratégias de combinação de dados)\n",
    "\n",
    "    frames = [df1, df2, df3]\n",
    "    result = pd.concat(frames)\n",
    "\n",
    "Lembre-se de que os dataframes precisam ser estruturalmente **idênticos**, contendo apenas **dados** diferentes!"
   ]
  },
  {
   "cell_type": "markdown",
   "metadata": {},
   "source": [
    "![Figura: visão do Union](merging_concat_keys.png)"
   ]
  },
  {
   "cell_type": "markdown",
   "metadata": {},
   "source": [
    "### Outer Join com colagem lateral\n",
    "\n",
    "---\n",
    "\n",
    "Repare que agora eu tenho que setar o eixo com **axis=1**!\n",
    "\n",
    "    result = pd.concat([df1, df4], axis=1, sort=False)"
   ]
  },
  {
   "cell_type": "markdown",
   "metadata": {},
   "source": [
    "![Figura: visão do Outer Join](junta_con_eixo1.png)"
   ]
  },
  {
   "cell_type": "markdown",
   "metadata": {},
   "source": [
    "### Inner Join com colagem lateral\n",
    "\n",
    "---\n",
    "\n",
    "    result = pd.concat([df1, df4], axis=1, join='inner')"
   ]
  },
  {
   "cell_type": "markdown",
   "metadata": {},
   "source": [
    "![Figura: visão do Inner Join](merging_concat_axis1_inner.png)"
   ]
  },
  {
   "cell_type": "markdown",
   "metadata": {},
   "source": [
    "### Mais coisas legais com colagens\n",
    "\n",
    "----\n",
    "\n",
    "#### Ignorando os índices nos eixos de concatenação [aqui](https://pandas.pydata.org/pandas-docs/stable/merging.html)\n",
    "\n",
    "Às vezes no nosso novo arranjo, as estruturas de índice dos dataframes originais não é relevante\n",
    "\n",
    "O parâmetro **Ignore Index** pode ser passado"
   ]
  },
  {
   "cell_type": "code",
   "execution_count": null,
   "metadata": {},
   "outputs": [],
   "source": [
    "result = pd.concat([df1, df4], ignore_index=True)"
   ]
  },
  {
   "cell_type": "markdown",
   "metadata": {},
   "source": [
    "![Figura: visão de ignorar índice](merging_concat_ignore_index.png)"
   ]
  },
  {
   "cell_type": "markdown",
   "metadata": {},
   "source": [
    "---\n",
    "\n",
    "#### Concatenando com ndims misturados\n",
    "\n",
    "Dataframes com dimensões diferentes podem ser concatenados, por exemplo, uma tripa de um servindo de linha ou coluna em outro. Uma coluna adicional, ou uma série de colunas, representando as linhas do menor serão apensadas, conforme o caso. O interessante é sempre **desenhar** o que esperamos como resultado!\n",
    "\n",
    "*Observe que como no anterior, o índice foi **ignorado**. Mas não é só isso. O segundo dataset se transformou em **colunas** ao ser apensado ao primeiro!*"
   ]
  },
  {
   "cell_type": "markdown",
   "metadata": {},
   "source": [
    "![Figura: concatetar ignorando índice](merging_concat_series_ignore_index.png)"
   ]
  },
  {
   "cell_type": "markdown",
   "metadata": {},
   "source": [
    "![Figura: outra visão de concatenação](merging_concat_unnamed_series.png)"
   ]
  },
  {
   "cell_type": "markdown",
   "metadata": {},
   "source": [
    "*Observe também que no **segundo** exemplo, o segundo dataset também se transformou em **colunas**... mas de uma maneira diferente! Quem diz como a operação deve ser feita é o programador. Apenas a **criatividade**, unida à **necessidade** podem lhe dizer o que deve ser feito para cada caso...* "
   ]
  },
  {
   "cell_type": "markdown",
   "metadata": {},
   "source": [
    "---\n",
    "\n",
    "#### Concatenando com chaves de agrupamento\n",
    "\n",
    "É comum sobrescrever os nomes das colunas ao fazer uma concatenação. Isso é feito passando o argumento **Keys**:\n",
    "\n",
    "    pd.concat([s3, s4, s5], axis=1, keys=['red','blue','yellow'])\n",
    "    \n",
    "Uma **variante** disso passa o argumento Keys como **Categorias**:\n",
    "\n",
    "    frames = ['df1', 'df2', 'df3']\n",
    "\n",
    "    result = pd.concat(frames, keys=['x', 'y', 'z'])\n",
    "    \n",
    "Outra maneira de atingir este **mesmo** resultado é passando um argumento na forma de **dicionário**\n",
    "\n",
    "\n",
    "    pieces = {'x': df1, 'y': df2, 'z': df3}\n",
    "\n",
    "    result = pd.concat(pieces)"
   ]
  },
  {
   "cell_type": "markdown",
   "metadata": {},
   "source": [
    "![Figura: keys como categorias](merging_concat_group_keys2.png)"
   ]
  },
  {
   "cell_type": "markdown",
   "metadata": {},
   "source": [
    "---\n",
    "\n",
    "#### Apensando linhas a um dataframe\n",
    "\n",
    "Normalmente o argumento **Ignore Index = True** será passado:\n",
    "\n",
    "    s2 = pd.Series(['X0', 'X1', 'X2', 'X3'], index=['A', 'B', 'C', 'D'])\n",
    "\n",
    "    result = df1.append(s2, ignore_index=True)\n",
    "    \n",
    "E para reconstruir as colunas, eu posso passar um **dicionário**:\n",
    "\n",
    "    dicts = [{'A': 1, 'B': 2, 'C': 3, 'X': 4},\n",
    "             {'A': 5, 'B': 6, 'C': 7, 'Y': 8}]\n",
    " \n",
    "    result = df1.append(dicts, ignore_index=True)"
   ]
  },
  {
   "cell_type": "markdown",
   "metadata": {},
   "source": [
    "---\n",
    "\n",
    "#### Fazendo Join e Merge ao estilo de Databases\n",
    "\n",
    "Pandas foi modelado de tal maneira que há muitos métodos replicando o funcionamento da manutenção de um database **SQL**\n",
    "\n",
    "    pd.merge(left, right, how='inner', on=None, left_on=None, right_on=None,\n",
    "         left_index=False, right_index=False, sort=True,\n",
    "         suffixes=('_x', '_y'), copy=True, indicator=False,\n",
    "         validate=None)"
   ]
  },
  {
   "cell_type": "markdown",
   "metadata": {},
   "source": [
    "---\n",
    "\n",
    "#### A Álgebra Relacional envolvida em métodos de concatenação\n",
    "\n",
    "São as relações possíveis entre dois dataframes:\n",
    "\n",
    "- 1:1 (inner join)\n",
    "\n",
    "- 1:n (outer join - left ou right)\n",
    "\n",
    "- n:m (full outer join - produto cartesiano)\n",
    "\n",
    "Lembrando que quando apensamos colunas a colunas, qualquer índice passado será **descartado**!"
   ]
  },
  {
   "cell_type": "markdown",
   "metadata": {},
   "source": [
    "---\n",
    "\n",
    "##### Checando por chaves duplicadas\n",
    "\n",
    "O parâmetro **validate** faz isso para mim:\n",
    "\n",
    "    pd.merge(left, right, on='B', how='outer', validate=\"one_to_many\")"
   ]
  },
  {
   "cell_type": "markdown",
   "metadata": {},
   "source": [
    "---\n",
    "\n",
    "#### O indicador Merge\n",
    "\n",
    "Este parâmetro me dá uma indicação de se o valor existia em um, ou nos dois dataframes:\n",
    "\n",
    "    pd.merge(df1, df2, on='col1', how='outer', indicator='indicator_column')"
   ]
  },
  {
   "cell_type": "markdown",
   "metadata": {},
   "source": [
    "---\n",
    "\n",
    "#### Dtypes em operações de Merge\n",
    "\n",
    "Sempre que possível, eles tendem a ser preservados! (uma excessão é quando em um campo Inteiro se gera no caminho várias entradas NaN, neste caso eles são passados para Ponto Flutuante)"
   ]
  },
  {
   "cell_type": "markdown",
   "metadata": {},
   "source": [
    "---\n",
    "\n",
    "#### Join em índices\n",
    "\n",
    "O mais comum para juntar bancos de dados é fazer um join por índices. Desta maneira ele não precisa ser invocado no Pandas. Linhas são adicionadas ao Dataset, os critérios dependendo apenas do tipo de join realizado:\n",
    "\n",
    "    result = left.join(right, how='inner')\n",
    "    \n",
    "Lembrando que o alinhamento do índice é de **linha**! Como linhas podem ser transformadas em **colunas** pela ação de desempilhamento, basta passar o argumento certo e as colunas também será adicionadas ao novo Dataset:\n",
    "    \n",
    "    result = pd.merge(left, right, left_index=True, right_index=True, how='outer') "
   ]
  },
  {
   "cell_type": "markdown",
   "metadata": {},
   "source": [
    "---\n",
    "\n",
    "#### Join em índices em chave por coluna\n",
    "\n",
    "Estas duas funções são equivalentes:\n",
    "\n",
    "    left.join(right, on=key_or_keys)\n",
    "    \n",
    "    pd.merge(left, right, left_on=key_or_keys, right_index=True, how='left', sort=False)\n",
    "    \n",
    "Isso corresponde a uma colagem **lateral**. Em alguns casos, dependo das cláusulas, linhas também podem ser adicionadas ao novo Dataset\n",
    "\n",
    "*Observe que o segredo do Pandas é a **simplicidade**. Então se alguma coisa está começando a se tornar realmente complexa, é bom às vezes recomeçar do zero, revisando nossos conceitos. Provavelmente você tomou o caminho mais difícil!*"
   ]
  },
  {
   "cell_type": "markdown",
   "metadata": {},
   "source": [
    "---\n",
    "\n",
    "#### Join em um Índice Simples a um Muitiíndice\n",
    "\n",
    "O Pandas reconhece automaticamente a estrutura de multindexação e reconstrói toda a estrutura da árvore, sem que você tenha que fazer nada. Essas funções são equivamentes:\n",
    "\n",
    "    result = left.join(right, how='inner')\n",
    "    \n",
    "    result = pd.merge(left.reset_index(), right.reset_index(),\n",
    "                      on=['key'], how='inner').set_index(['key','Y'])\n",
    "                      \n",
    "*Observe que os dados, ao acessar a estrutura de árvore, quando há uma ramificação, são gravados em **todos** os ramos encontrados. Isso é meo intuitivo, pois se temos **K2** como ramo e **Y2** e **Y3** como folhas, é normal que um dado pertencente ao ramo vá ser herdado por suas folhas!*\n",
    "\n",
    "*Uma observação geral é que uma linguagem de programação não é feita para ter pegadinhas. Então, dentro das limitações da lógica de passagem de instruções para a máquina e para evitar **ambiguidades** às vezes algumas coisas ficam confusas. Mesmo assim, são raros estes casos. Então use sua própria lógica para **entender** o que está implementando! Colar e copiar códigos pode ser bom para iniciantes, mas o legal é saber o que cada detalhe está fazendo, ou as coisas podem sair do controle!*\n",
    "\n",
    "*Outra coisa, ninguém joga o **jogo de contas de vidro** quando se desenvolve uma linguagem de programação. Em outras palavras, uma linguagem não comporta comandos ou funções **inúteis**, implementadas simplesmente pela beleza ou pelo desafio. Então se vocÊ esbarrar uma hora com algo que lhe pareça inútil, tenha **certeza** que aquilo foi colocado lá para resolver um problema fundamental para algum tipo de necessidade. Tenha sempre isso em mente*"
   ]
  },
  {
   "cell_type": "markdown",
   "metadata": {},
   "source": [
    "![Figura: join em multiíndice](merging_join_multiindex_inner.png)"
   ]
  },
  {
   "cell_type": "markdown",
   "metadata": {},
   "source": [
    "---\n",
    "\n",
    "#### Join em dois Multiíndices\n",
    "\n",
    "Isso ainda não foi implementado, mas pode ser feito pelo seguinte código (método da época da vovó!):\n",
    "\n",
    "    result = pd.merge(left.reset_index(), right.reset_index(),\n",
    "                      on=['key'], how='inner').set_index(['key','X','Y'])"
   ]
  },
  {
   "cell_type": "markdown",
   "metadata": {},
   "source": [
    "---\n",
    "\n",
    "#### Merge em uma combinação de colunas e níveis de índice\n",
    "\n",
    "Os parâmetros **On**, **left_on** e **right_on** podem referir:\n",
    "\n",
    "- nomes de colunas\n",
    "\n",
    "- nomes de níveis de índice\n",
    "\n",
    "Então é possível dar um **Merge** combinando níveis de índice e colunas, sem ter que resetar os índices:\n",
    "\n",
    "    result = left.merge(right, on=['key1', 'key2'])\n",
    "\n",
    "*Nota: quando Dataframes são fundidos em uma sequência que casa os **níveis de índice** nos dois dataframes, o nível de índice é preservado como um índice de nível do Dataframe de resultado. Em outras palavras, quando os níveis forem consistentes, essa consistência será preservada!*\n",
    "\n",
    "*Nota: se uma sequência casa tanto um nome de coluna e um nome de nível de índice, então uma mensagem de aviso aparece e a coluna têm prioridade. Isso irá resultar em um erro de ambiguidade numa versão futura*"
   ]
  },
  {
   "cell_type": "markdown",
   "metadata": {},
   "source": [
    "![Figura: merge em índice e coluna](merge_on_index_and_column.png)"
   ]
  },
  {
   "cell_type": "markdown",
   "metadata": {},
   "source": [
    "---\n",
    "\n",
    "#### Colunas de valor com sobreposição\n",
    "\n",
    "O comando direto é aceito e o Pandas atribui sufixos padronizados _x e _y. O ideal é sempre você evitar o uso de coisas padronizadas e colocar seus próprios parâmetros. O argumento **merge** pega uma tupla de lista de strings para criar os sufixos\n",
    "\n",
    "Há quem prefira usar os argumentos da seguinte maneira, o resultado é o mesmo:\n",
    "\n",
    "    result = left.join(right, lsuffix='_esq', rsuffix='_dir')\n",
    "    \n",
    "*Observação: esse traço _baixo é bastante útil em operações que transformam nomes complexos de colunas em colunas multiindexadas. O Python tem funções que fazem isso. Então prefira usar sufixos ou prefixos (quando for o caso) com esta sintaxe para facilitar sua vida!*"
   ]
  },
  {
   "cell_type": "code",
   "execution_count": 6,
   "metadata": {},
   "outputs": [
    {
     "data": {
      "text/html": [
       "<div>\n",
       "<style scoped>\n",
       "    .dataframe tbody tr th:only-of-type {\n",
       "        vertical-align: middle;\n",
       "    }\n",
       "\n",
       "    .dataframe tbody tr th {\n",
       "        vertical-align: top;\n",
       "    }\n",
       "\n",
       "    .dataframe thead th {\n",
       "        text-align: right;\n",
       "    }\n",
       "</style>\n",
       "<table border=\"1\" class=\"dataframe\">\n",
       "  <thead>\n",
       "    <tr style=\"text-align: right;\">\n",
       "      <th></th>\n",
       "      <th>k</th>\n",
       "      <th>v_esq</th>\n",
       "      <th>v_dir</th>\n",
       "    </tr>\n",
       "  </thead>\n",
       "  <tbody>\n",
       "    <tr>\n",
       "      <th>0</th>\n",
       "      <td>K0</td>\n",
       "      <td>1</td>\n",
       "      <td>4</td>\n",
       "    </tr>\n",
       "    <tr>\n",
       "      <th>1</th>\n",
       "      <td>K0</td>\n",
       "      <td>1</td>\n",
       "      <td>5</td>\n",
       "    </tr>\n",
       "  </tbody>\n",
       "</table>\n",
       "</div>"
      ],
      "text/plain": [
       "    k  v_esq  v_dir\n",
       "0  K0      1      4\n",
       "1  K0      1      5"
      ]
     },
     "execution_count": 6,
     "metadata": {},
     "output_type": "execute_result"
    }
   ],
   "source": [
    "import pandas as pd\n",
    "\n",
    "left = pd.DataFrame({'k': ['K0', 'K1', 'K2'], 'v': [1, 2, 3]})\n",
    "right = pd.DataFrame({'k': ['K0', 'K0', 'K3'], 'v': [4, 5, 6]})\n",
    "\n",
    "pd.merge(left, right, on='k', suffixes=['_esq', '_dir'])"
   ]
  },
  {
   "cell_type": "markdown",
   "metadata": {},
   "source": [
    "---\n",
    "\n",
    "#### Join em múltiplos Dataframes ou Painéis\n",
    "\n",
    "Uma lista ou tupla de Dataframes pode ser passada para serem **juntados**\n",
    "\n",
    "*Observe que algumas colunas mudaram para **ponto flutuante**. Por que? Porque no dataframe final, elas apresentam algumas entradas NaN. Então a regra do Pandas para estes casos é que eles sejam modificados para **PF**, pois **inteiro** não aceita valor nulo!*\n",
    "\n",
    "*Observe também que como **right** e **right2** foram adicionadas a **left** (estes nomes são arbitrários), o nome da coluna foi preservado para **left** e para as demais, foi adicionado um sufixo x e y automaticamente para as diferenciar*"
   ]
  },
  {
   "cell_type": "code",
   "execution_count": 3,
   "metadata": {},
   "outputs": [
    {
     "data": {
      "text/html": [
       "<div>\n",
       "<style scoped>\n",
       "    .dataframe tbody tr th:only-of-type {\n",
       "        vertical-align: middle;\n",
       "    }\n",
       "\n",
       "    .dataframe tbody tr th {\n",
       "        vertical-align: top;\n",
       "    }\n",
       "\n",
       "    .dataframe thead th {\n",
       "        text-align: right;\n",
       "    }\n",
       "</style>\n",
       "<table border=\"1\" class=\"dataframe\">\n",
       "  <thead>\n",
       "    <tr style=\"text-align: right;\">\n",
       "      <th></th>\n",
       "      <th>v_x</th>\n",
       "      <th>v_y</th>\n",
       "      <th>v</th>\n",
       "    </tr>\n",
       "  </thead>\n",
       "  <tbody>\n",
       "    <tr>\n",
       "      <th>K0</th>\n",
       "      <td>1</td>\n",
       "      <td>4.0</td>\n",
       "      <td>NaN</td>\n",
       "    </tr>\n",
       "    <tr>\n",
       "      <th>K0</th>\n",
       "      <td>1</td>\n",
       "      <td>5.0</td>\n",
       "      <td>NaN</td>\n",
       "    </tr>\n",
       "    <tr>\n",
       "      <th>K1</th>\n",
       "      <td>2</td>\n",
       "      <td>NaN</td>\n",
       "      <td>7.0</td>\n",
       "    </tr>\n",
       "    <tr>\n",
       "      <th>K1</th>\n",
       "      <td>2</td>\n",
       "      <td>NaN</td>\n",
       "      <td>8.0</td>\n",
       "    </tr>\n",
       "    <tr>\n",
       "      <th>K2</th>\n",
       "      <td>3</td>\n",
       "      <td>NaN</td>\n",
       "      <td>9.0</td>\n",
       "    </tr>\n",
       "  </tbody>\n",
       "</table>\n",
       "</div>"
      ],
      "text/plain": [
       "    v_x  v_y    v\n",
       "K0    1  4.0  NaN\n",
       "K0    1  5.0  NaN\n",
       "K1    2  NaN  7.0\n",
       "K1    2  NaN  8.0\n",
       "K2    3  NaN  9.0"
      ]
     },
     "execution_count": 3,
     "metadata": {},
     "output_type": "execute_result"
    }
   ],
   "source": [
    "import pandas as pd\n",
    "\n",
    "left = pd.DataFrame({'k': ['K0', 'K1', 'K2'], 'v': [1, 2, 3]})\n",
    "left = left.set_index('k')\n",
    "\n",
    "right = pd.DataFrame({'k': ['K0', 'K0', 'K3'], 'v': [4, 5, 6]})\n",
    "right = right.set_index('k')\n",
    "\n",
    "right2 = pd.DataFrame({'v': [7, 8, 9]}, index=['K1', 'K1', 'K2'])\n",
    "\n",
    "result = left.join([right, right2])\n",
    "result"
   ]
  },
  {
   "cell_type": "markdown",
   "metadata": {},
   "source": [
    "![Figura: join de múltiplos Dataframes](merging_join_multi_df.png)"
   ]
  },
  {
   "cell_type": "markdown",
   "metadata": {},
   "source": [
    "---\n",
    "\n",
    "#### Merge de valores em Séries ou Colunas de Dataframes\n",
    "\n",
    "Esse é um caso especial de **Merge**, pois alguns valores serão **destruídos**. Observe que o Dataframe **dominante** é DF1. Então no resultado, apenas os valores e registos ausentes serão completados por DF2\n",
    "\n",
    "*Observe que não é tão **exótico** assim. Imagine que eu tenha um controle de estoque, mantido o mais autualizado como possível, de um comércio. Tudo isso está gravado no meu **DF1**. De repente eu descubro que tenho mais alguns produtos não perecíveis e em boas condições em um outro depósito que eu desconhecia. É claro que eu quero incorporar estes também ao meu estoque, mas eu não quero destruir as informações existentes. Eles acompanham um registro. E este registro está desatualizado. Então eu confio nas informações do meu **DF1**. Mas no caso de haver produtos novos a incorporar, eu puxo de **DF2**. O resultado será basicamente um **DF1** adicionado de mais alguns produtos minerados em **DF2** e que constavam como **NaN** em **DF1**. É o que este merge faz*"
   ]
  },
  {
   "cell_type": "code",
   "execution_count": 6,
   "metadata": {},
   "outputs": [],
   "source": [
    "import pandas as pd\n",
    "import numpy as np\n",
    "\n",
    "df1 = pd.DataFrame([[np.nan, 3., 5.], [-4.6, np.nan, np.nan], [np.nan, 7., np.nan]])\n",
    "df2 = pd.DataFrame([[-42.6, np.nan, -8.2], [-5., 1.6, 4]], index=[1, 2])\n",
    "\n",
    "result = df1.combine_first(df2)"
   ]
  },
  {
   "cell_type": "markdown",
   "metadata": {},
   "source": [
    "![Figura: merge com Combine First](merging_combine_first.png)"
   ]
  },
  {
   "cell_type": "markdown",
   "metadata": {},
   "source": [
    "Este é um outro caso especial de **Merge** e alguns valores também serão **destruídos**, mas de outra maneira. DF1 agora será **atualizado** com as informações de DF2\n",
    "\n",
    "*Observe que este também é um método extremamente útil. Suponha que eu tenha um depósito de máquinas, relativamente complexas, como **empilhadeiras**. Eu mantenho um registo do estado das peças de cada uma, número de horas para serem trocadas, estado geral do equipamento, dados de capacidade de carga, consumo, valor da locação por hora, etc.. De repente, eu recebo uma atualização das condições gerais de um lote de máquinas que acabou de retornar da revisão. Qual é minha informação melhor? Agora é o dataframe **novo**, ou seja, **df2**. Então **df1** passará por uma **atualização geral** baseado nas informações de **df2**. É claro que ela não é tão geral assim, pois a maioria dos meus equipamentos não foi submetido à revisão. Este tipo de prática em Dataframes é muito comum e muitas vezes o critério de quem atualiza quem são campos de **data** e **hora**. Meu **df1** será sobrescrito com informações de **df2**. Um procedimento usual em gestão de dados* "
   ]
  },
  {
   "cell_type": "code",
   "execution_count": 9,
   "metadata": {},
   "outputs": [],
   "source": [
    "df1.update(df2)"
   ]
  },
  {
   "cell_type": "markdown",
   "metadata": {},
   "source": [
    "![Figura: Merge com Update](merging_update.png)"
   ]
  },
  {
   "cell_type": "markdown",
   "metadata": {},
   "source": [
    "### Merge amigável de Timeseries\n",
    "\n",
    "---\n",
    "\n",
    "#### Merge de dados ordenados\n",
    "\n",
    "O método **Merge Ordered** possibilita combinar séries temporais e dados ordenados. Ele possui uma palavra chave **Fill** opcional, que permite preencher ou interpolar dados ausentes"
   ]
  },
  {
   "cell_type": "code",
   "execution_count": 15,
   "metadata": {},
   "outputs": [
    {
     "data": {
      "text/html": [
       "<div>\n",
       "<style scoped>\n",
       "    .dataframe tbody tr th:only-of-type {\n",
       "        vertical-align: middle;\n",
       "    }\n",
       "\n",
       "    .dataframe tbody tr th {\n",
       "        vertical-align: top;\n",
       "    }\n",
       "\n",
       "    .dataframe thead th {\n",
       "        text-align: right;\n",
       "    }\n",
       "</style>\n",
       "<table border=\"1\" class=\"dataframe\">\n",
       "  <thead>\n",
       "    <tr style=\"text-align: right;\">\n",
       "      <th></th>\n",
       "      <th>k</th>\n",
       "      <th>lv</th>\n",
       "      <th>s</th>\n",
       "    </tr>\n",
       "  </thead>\n",
       "  <tbody>\n",
       "    <tr>\n",
       "      <th>0</th>\n",
       "      <td>K0</td>\n",
       "      <td>1</td>\n",
       "      <td>a</td>\n",
       "    </tr>\n",
       "    <tr>\n",
       "      <th>1</th>\n",
       "      <td>K1</td>\n",
       "      <td>2</td>\n",
       "      <td>b</td>\n",
       "    </tr>\n",
       "    <tr>\n",
       "      <th>2</th>\n",
       "      <td>K1</td>\n",
       "      <td>3</td>\n",
       "      <td>c</td>\n",
       "    </tr>\n",
       "    <tr>\n",
       "      <th>3</th>\n",
       "      <td>K2</td>\n",
       "      <td>4</td>\n",
       "      <td>d</td>\n",
       "    </tr>\n",
       "  </tbody>\n",
       "</table>\n",
       "</div>"
      ],
      "text/plain": [
       "    k  lv  s\n",
       "0  K0   1  a\n",
       "1  K1   2  b\n",
       "2  K1   3  c\n",
       "3  K2   4  d"
      ]
     },
     "execution_count": 15,
     "metadata": {},
     "output_type": "execute_result"
    }
   ],
   "source": [
    "left = pd.DataFrame({'k': ['K0', 'K1', 'K1', 'K2'], 'lv': [1, 2, 3, 4],\n",
    "                     's': ['a', 'b', 'c', 'd']})\n",
    "left"
   ]
  },
  {
   "cell_type": "code",
   "execution_count": 16,
   "metadata": {},
   "outputs": [
    {
     "data": {
      "text/html": [
       "<div>\n",
       "<style scoped>\n",
       "    .dataframe tbody tr th:only-of-type {\n",
       "        vertical-align: middle;\n",
       "    }\n",
       "\n",
       "    .dataframe tbody tr th {\n",
       "        vertical-align: top;\n",
       "    }\n",
       "\n",
       "    .dataframe thead th {\n",
       "        text-align: right;\n",
       "    }\n",
       "</style>\n",
       "<table border=\"1\" class=\"dataframe\">\n",
       "  <thead>\n",
       "    <tr style=\"text-align: right;\">\n",
       "      <th></th>\n",
       "      <th>k</th>\n",
       "      <th>rv</th>\n",
       "    </tr>\n",
       "  </thead>\n",
       "  <tbody>\n",
       "    <tr>\n",
       "      <th>0</th>\n",
       "      <td>K1</td>\n",
       "      <td>19</td>\n",
       "    </tr>\n",
       "    <tr>\n",
       "      <th>1</th>\n",
       "      <td>K2</td>\n",
       "      <td>21</td>\n",
       "    </tr>\n",
       "    <tr>\n",
       "      <th>2</th>\n",
       "      <td>K4</td>\n",
       "      <td>33</td>\n",
       "    </tr>\n",
       "  </tbody>\n",
       "</table>\n",
       "</div>"
      ],
      "text/plain": [
       "    k  rv\n",
       "0  K1  19\n",
       "1  K2  21\n",
       "2  K4  33"
      ]
     },
     "execution_count": 16,
     "metadata": {},
     "output_type": "execute_result"
    }
   ],
   "source": [
    "right = pd.DataFrame({'k': ['K1', 'K2', 'K4'], 'rv': [19, 21, 33]})\n",
    "right"
   ]
  },
  {
   "cell_type": "markdown",
   "metadata": {},
   "source": [
    "Até aqui eu simplesmente completei uma tabela, usando elementos de **left** e de **right**:"
   ]
  },
  {
   "cell_type": "code",
   "execution_count": 18,
   "metadata": {},
   "outputs": [
    {
     "data": {
      "text/html": [
       "<div>\n",
       "<style scoped>\n",
       "    .dataframe tbody tr th:only-of-type {\n",
       "        vertical-align: middle;\n",
       "    }\n",
       "\n",
       "    .dataframe tbody tr th {\n",
       "        vertical-align: top;\n",
       "    }\n",
       "\n",
       "    .dataframe thead th {\n",
       "        text-align: right;\n",
       "    }\n",
       "</style>\n",
       "<table border=\"1\" class=\"dataframe\">\n",
       "  <thead>\n",
       "    <tr style=\"text-align: right;\">\n",
       "      <th></th>\n",
       "      <th>k</th>\n",
       "      <th>lv</th>\n",
       "      <th>s</th>\n",
       "      <th>rv</th>\n",
       "    </tr>\n",
       "  </thead>\n",
       "  <tbody>\n",
       "    <tr>\n",
       "      <th>0</th>\n",
       "      <td>K0</td>\n",
       "      <td>1.0</td>\n",
       "      <td>a</td>\n",
       "      <td>NaN</td>\n",
       "    </tr>\n",
       "    <tr>\n",
       "      <th>1</th>\n",
       "      <td>K1</td>\n",
       "      <td>2.0</td>\n",
       "      <td>b</td>\n",
       "      <td>19.0</td>\n",
       "    </tr>\n",
       "    <tr>\n",
       "      <th>2</th>\n",
       "      <td>K1</td>\n",
       "      <td>3.0</td>\n",
       "      <td>c</td>\n",
       "      <td>19.0</td>\n",
       "    </tr>\n",
       "    <tr>\n",
       "      <th>3</th>\n",
       "      <td>K2</td>\n",
       "      <td>4.0</td>\n",
       "      <td>d</td>\n",
       "      <td>21.0</td>\n",
       "    </tr>\n",
       "    <tr>\n",
       "      <th>4</th>\n",
       "      <td>K4</td>\n",
       "      <td>NaN</td>\n",
       "      <td>NaN</td>\n",
       "      <td>33.0</td>\n",
       "    </tr>\n",
       "  </tbody>\n",
       "</table>\n",
       "</div>"
      ],
      "text/plain": [
       "    k   lv    s    rv\n",
       "0  K0  1.0    a   NaN\n",
       "1  K1  2.0    b  19.0\n",
       "2  K1  3.0    c  19.0\n",
       "3  K2  4.0    d  21.0\n",
       "4  K4  NaN  NaN  33.0"
      ]
     },
     "execution_count": 18,
     "metadata": {},
     "output_type": "execute_result"
    }
   ],
   "source": [
    "result = pd.merge_ordered(left, right, )\n",
    "result"
   ]
  },
  {
   "cell_type": "markdown",
   "metadata": {},
   "source": [
    "Eu sei que estes dados são uma **evolução** um do outro. Portanto, não é errado eu completar os valores ausentes com os anteriores\n",
    "\n",
    "Eu uso o parâmetro **ffill** para isso. Observe que a última linha agora ficou completa\n",
    "\n",
    "*Como eu sei quando coisas devem ser completadas? Simples: usando o **bom senso**. Se eu sei que isso aqui é tipo uma caderneta de notas de algo que está evoluindo no tempo, não é errado usar o **ffill**! Não preciso pensar duas vezes antes de completar*\n",
    "\n",
    "*Observe também que a coluna **lv** voltou a se tornar inteira, pois agora ela está completa. Ela havia se tornado floating apenas para comportar o **NaN** da última linha!*"
   ]
  },
  {
   "cell_type": "code",
   "execution_count": 20,
   "metadata": {},
   "outputs": [
    {
     "data": {
      "text/html": [
       "<div>\n",
       "<style scoped>\n",
       "    .dataframe tbody tr th:only-of-type {\n",
       "        vertical-align: middle;\n",
       "    }\n",
       "\n",
       "    .dataframe tbody tr th {\n",
       "        vertical-align: top;\n",
       "    }\n",
       "\n",
       "    .dataframe thead th {\n",
       "        text-align: right;\n",
       "    }\n",
       "</style>\n",
       "<table border=\"1\" class=\"dataframe\">\n",
       "  <thead>\n",
       "    <tr style=\"text-align: right;\">\n",
       "      <th></th>\n",
       "      <th>k</th>\n",
       "      <th>lv</th>\n",
       "      <th>s</th>\n",
       "      <th>rv</th>\n",
       "    </tr>\n",
       "  </thead>\n",
       "  <tbody>\n",
       "    <tr>\n",
       "      <th>0</th>\n",
       "      <td>K0</td>\n",
       "      <td>1</td>\n",
       "      <td>a</td>\n",
       "      <td>NaN</td>\n",
       "    </tr>\n",
       "    <tr>\n",
       "      <th>1</th>\n",
       "      <td>K1</td>\n",
       "      <td>2</td>\n",
       "      <td>b</td>\n",
       "      <td>19.0</td>\n",
       "    </tr>\n",
       "    <tr>\n",
       "      <th>2</th>\n",
       "      <td>K1</td>\n",
       "      <td>3</td>\n",
       "      <td>c</td>\n",
       "      <td>19.0</td>\n",
       "    </tr>\n",
       "    <tr>\n",
       "      <th>3</th>\n",
       "      <td>K2</td>\n",
       "      <td>4</td>\n",
       "      <td>d</td>\n",
       "      <td>21.0</td>\n",
       "    </tr>\n",
       "    <tr>\n",
       "      <th>4</th>\n",
       "      <td>K4</td>\n",
       "      <td>4</td>\n",
       "      <td>d</td>\n",
       "      <td>33.0</td>\n",
       "    </tr>\n",
       "  </tbody>\n",
       "</table>\n",
       "</div>"
      ],
      "text/plain": [
       "    k  lv  s    rv\n",
       "0  K0   1  a   NaN\n",
       "1  K1   2  b  19.0\n",
       "2  K1   3  c  19.0\n",
       "3  K2   4  d  21.0\n",
       "4  K4   4  d  33.0"
      ]
     },
     "execution_count": 20,
     "metadata": {},
     "output_type": "execute_result"
    }
   ],
   "source": [
    "result = pd.merge_ordered(left, right, fill_method='ffill')\n",
    "result"
   ]
  },
  {
   "cell_type": "markdown",
   "metadata": {},
   "source": [
    "Mas o que eu quero de verdade é associar **séries temporais** a **dados ordenados**\n",
    "\n",
    "---\n",
    "\n",
    "**Séries temporais** são comuns em ciências. Eu inicio um experimento e há cada intervalo de tempo eu faço uma nova medição, ou um conjunto de novas medições. Isso me ajuda a entender por exemplo, processos catalíticos, ou o crescimento de uma planta...\n",
    "\n",
    "Então queremos agora partindo da série temporal **left**, fundir mais um parâmetro, vindo de **right**. Isso poderia ser uma segunda medição, por exemplo de um outro sensor instalado na câmara onde ocorre o experimento. O elemento de ligação (onde eu sei que eu tenho uma medição) é o valor **k**. Provavelmente ele significa um disparo de um gatilho, que liga diversos sensores há cada período de por exemplo, duas horas. E os valores da minha nova leitura estão gravados em **rv** \n",
    "\n",
    "---\n",
    "\n",
    "Existe um truque para se usar em coisas que **emendam** em outras, que é o parâmetro **ffill**. Essa é uma variável auxiliar, que grava o último parâmetro usado. Caso o próximo esteja em branco, ele usa o anterior. Imagine uma película de cinema que precisa de emendas. Se eu não tenho um dado logo após, eu perderia também o pedaço da minha trilha de som. Mas se eu ainda tenho a quadrícula anterior, eu a exibo, é melhor do que nada... O que o meu expectador verá? O filme sofrendo um ligeiro congelamento e depois prosseguindo:\n",
    "\n",
    "|Método|Ação|\n",
    "|-----|------|\n",
    "|pad/ffill|preenche valores avante|\n",
    "|bfill/backfill|preenche valores em ré|\n",
    "\n",
    "Para gerar tabelas em Markdown [aqui](http://tablesgenerator.com/markdown_tables)\n",
    "\n",
    "*Observação: uso do **pad** é comum, uma vez que o último valor conhecido está disponível para cada ponto temporal*\n",
    "\n",
    "---\n",
    "\n",
    "Meu novo parâmetro:\n",
    "\n",
    "    left_by='s'\n",
    "    \n",
    "    k é minha referência de ligação\n",
    "    lv e rv são leituras\n",
    "    s é o elemento indicador da série temporal [a...d]\n",
    "    \n",
    "Eu agrupo o Dataframe **left** por grupos de colunas e junto, peça a peça, com o Dataframe **right**\n",
    "\n",
    "*Escrito de outra maneira:\n",
    "\n",
    "- primeiro eu crio **fatias**, espessas como o Dataframe **right**\n",
    "\n",
    "- essas fatias ao invés de **condensar** os dados, irão abrir espaço suficiente para eu abarcar em **left**, o novo detalhe contido em **right**\n",
    "\n",
    "- lembrando que eu tenho em **right** apenas três leituras: K1=19, K2=21 e K4=33, esta será a **espessura** das minhas fatias\n",
    "\n",
    "- depois eu junto tudo isso numa tripa só, como se fosse um salame:"
   ]
  },
  {
   "cell_type": "code",
   "execution_count": 19,
   "metadata": {},
   "outputs": [
    {
     "data": {
      "text/html": [
       "<div>\n",
       "<style scoped>\n",
       "    .dataframe tbody tr th:only-of-type {\n",
       "        vertical-align: middle;\n",
       "    }\n",
       "\n",
       "    .dataframe tbody tr th {\n",
       "        vertical-align: top;\n",
       "    }\n",
       "\n",
       "    .dataframe thead th {\n",
       "        text-align: right;\n",
       "    }\n",
       "</style>\n",
       "<table border=\"1\" class=\"dataframe\">\n",
       "  <thead>\n",
       "    <tr style=\"text-align: right;\">\n",
       "      <th></th>\n",
       "      <th>k</th>\n",
       "      <th>lv</th>\n",
       "      <th>s</th>\n",
       "      <th>rv</th>\n",
       "    </tr>\n",
       "  </thead>\n",
       "  <tbody>\n",
       "    <tr>\n",
       "      <th>0</th>\n",
       "      <td>K0</td>\n",
       "      <td>1.0</td>\n",
       "      <td>a</td>\n",
       "      <td>NaN</td>\n",
       "    </tr>\n",
       "    <tr>\n",
       "      <th>1</th>\n",
       "      <td>K1</td>\n",
       "      <td>NaN</td>\n",
       "      <td>a</td>\n",
       "      <td>19.0</td>\n",
       "    </tr>\n",
       "    <tr>\n",
       "      <th>2</th>\n",
       "      <td>K2</td>\n",
       "      <td>NaN</td>\n",
       "      <td>a</td>\n",
       "      <td>21.0</td>\n",
       "    </tr>\n",
       "    <tr>\n",
       "      <th>3</th>\n",
       "      <td>K4</td>\n",
       "      <td>NaN</td>\n",
       "      <td>a</td>\n",
       "      <td>33.0</td>\n",
       "    </tr>\n",
       "    <tr>\n",
       "      <th>4</th>\n",
       "      <td>K1</td>\n",
       "      <td>2.0</td>\n",
       "      <td>b</td>\n",
       "      <td>19.0</td>\n",
       "    </tr>\n",
       "    <tr>\n",
       "      <th>5</th>\n",
       "      <td>K2</td>\n",
       "      <td>NaN</td>\n",
       "      <td>b</td>\n",
       "      <td>21.0</td>\n",
       "    </tr>\n",
       "    <tr>\n",
       "      <th>6</th>\n",
       "      <td>K4</td>\n",
       "      <td>NaN</td>\n",
       "      <td>b</td>\n",
       "      <td>33.0</td>\n",
       "    </tr>\n",
       "    <tr>\n",
       "      <th>7</th>\n",
       "      <td>K1</td>\n",
       "      <td>3.0</td>\n",
       "      <td>c</td>\n",
       "      <td>19.0</td>\n",
       "    </tr>\n",
       "    <tr>\n",
       "      <th>8</th>\n",
       "      <td>K2</td>\n",
       "      <td>NaN</td>\n",
       "      <td>c</td>\n",
       "      <td>21.0</td>\n",
       "    </tr>\n",
       "    <tr>\n",
       "      <th>9</th>\n",
       "      <td>K4</td>\n",
       "      <td>NaN</td>\n",
       "      <td>c</td>\n",
       "      <td>33.0</td>\n",
       "    </tr>\n",
       "    <tr>\n",
       "      <th>10</th>\n",
       "      <td>K1</td>\n",
       "      <td>NaN</td>\n",
       "      <td>d</td>\n",
       "      <td>19.0</td>\n",
       "    </tr>\n",
       "    <tr>\n",
       "      <th>11</th>\n",
       "      <td>K2</td>\n",
       "      <td>4.0</td>\n",
       "      <td>d</td>\n",
       "      <td>21.0</td>\n",
       "    </tr>\n",
       "    <tr>\n",
       "      <th>12</th>\n",
       "      <td>K4</td>\n",
       "      <td>NaN</td>\n",
       "      <td>d</td>\n",
       "      <td>33.0</td>\n",
       "    </tr>\n",
       "  </tbody>\n",
       "</table>\n",
       "</div>"
      ],
      "text/plain": [
       "     k   lv  s    rv\n",
       "0   K0  1.0  a   NaN\n",
       "1   K1  NaN  a  19.0\n",
       "2   K2  NaN  a  21.0\n",
       "3   K4  NaN  a  33.0\n",
       "4   K1  2.0  b  19.0\n",
       "5   K2  NaN  b  21.0\n",
       "6   K4  NaN  b  33.0\n",
       "7   K1  3.0  c  19.0\n",
       "8   K2  NaN  c  21.0\n",
       "9   K4  NaN  c  33.0\n",
       "10  K1  NaN  d  19.0\n",
       "11  K2  4.0  d  21.0\n",
       "12  K4  NaN  d  33.0"
      ]
     },
     "execution_count": 19,
     "metadata": {},
     "output_type": "execute_result"
    }
   ],
   "source": [
    "result = pd.merge_ordered(left, right, left_by='s')\n",
    "result"
   ]
  },
  {
   "cell_type": "markdown",
   "metadata": {},
   "source": [
    "E agora eu junto os dois parâmetros, preenchendo dados evolutivos numa série temporal. O elemento de ligação e que me dá a dica de **qual** valor colocar é simplesmente pensar que isso nada mais é do que segmentos unidos pela linha do **tempo**\n",
    "\n",
    "Bom, agora observe, continuo com dois valores **NaN**, um no início e outro na minha linha 10. Explicação:\n",
    "\n",
    "- **NaN** em rv na linha O: eu inicio minha leitura de rv a partir de K1. Não tenho dica nenhuma do que aconteceu antes disso. Quais valores eu poderia colocar para rv em K0?\n",
    "\n",
    "- **Nan** em lv na linha 10: observe que eu venho evoluindo lv em 1, 2, 3... o problema é que na última fatia, o parâmetro lv 4 aparece apenas em K2. E **K1** Será que ele pegaria 3 ou 4 nessa tripa? Isso fica **indeterminado** e portanto, o campo permanece em branco"
   ]
  },
  {
   "cell_type": "code",
   "execution_count": 21,
   "metadata": {},
   "outputs": [
    {
     "data": {
      "text/html": [
       "<div>\n",
       "<style scoped>\n",
       "    .dataframe tbody tr th:only-of-type {\n",
       "        vertical-align: middle;\n",
       "    }\n",
       "\n",
       "    .dataframe tbody tr th {\n",
       "        vertical-align: top;\n",
       "    }\n",
       "\n",
       "    .dataframe thead th {\n",
       "        text-align: right;\n",
       "    }\n",
       "</style>\n",
       "<table border=\"1\" class=\"dataframe\">\n",
       "  <thead>\n",
       "    <tr style=\"text-align: right;\">\n",
       "      <th></th>\n",
       "      <th>k</th>\n",
       "      <th>lv</th>\n",
       "      <th>s</th>\n",
       "      <th>rv</th>\n",
       "    </tr>\n",
       "  </thead>\n",
       "  <tbody>\n",
       "    <tr>\n",
       "      <th>0</th>\n",
       "      <td>K0</td>\n",
       "      <td>1.0</td>\n",
       "      <td>a</td>\n",
       "      <td>NaN</td>\n",
       "    </tr>\n",
       "    <tr>\n",
       "      <th>1</th>\n",
       "      <td>K1</td>\n",
       "      <td>1.0</td>\n",
       "      <td>a</td>\n",
       "      <td>19.0</td>\n",
       "    </tr>\n",
       "    <tr>\n",
       "      <th>2</th>\n",
       "      <td>K2</td>\n",
       "      <td>1.0</td>\n",
       "      <td>a</td>\n",
       "      <td>21.0</td>\n",
       "    </tr>\n",
       "    <tr>\n",
       "      <th>3</th>\n",
       "      <td>K4</td>\n",
       "      <td>1.0</td>\n",
       "      <td>a</td>\n",
       "      <td>33.0</td>\n",
       "    </tr>\n",
       "    <tr>\n",
       "      <th>4</th>\n",
       "      <td>K1</td>\n",
       "      <td>2.0</td>\n",
       "      <td>b</td>\n",
       "      <td>19.0</td>\n",
       "    </tr>\n",
       "    <tr>\n",
       "      <th>5</th>\n",
       "      <td>K2</td>\n",
       "      <td>2.0</td>\n",
       "      <td>b</td>\n",
       "      <td>21.0</td>\n",
       "    </tr>\n",
       "    <tr>\n",
       "      <th>6</th>\n",
       "      <td>K4</td>\n",
       "      <td>2.0</td>\n",
       "      <td>b</td>\n",
       "      <td>33.0</td>\n",
       "    </tr>\n",
       "    <tr>\n",
       "      <th>7</th>\n",
       "      <td>K1</td>\n",
       "      <td>3.0</td>\n",
       "      <td>c</td>\n",
       "      <td>19.0</td>\n",
       "    </tr>\n",
       "    <tr>\n",
       "      <th>8</th>\n",
       "      <td>K2</td>\n",
       "      <td>3.0</td>\n",
       "      <td>c</td>\n",
       "      <td>21.0</td>\n",
       "    </tr>\n",
       "    <tr>\n",
       "      <th>9</th>\n",
       "      <td>K4</td>\n",
       "      <td>3.0</td>\n",
       "      <td>c</td>\n",
       "      <td>33.0</td>\n",
       "    </tr>\n",
       "    <tr>\n",
       "      <th>10</th>\n",
       "      <td>K1</td>\n",
       "      <td>NaN</td>\n",
       "      <td>d</td>\n",
       "      <td>19.0</td>\n",
       "    </tr>\n",
       "    <tr>\n",
       "      <th>11</th>\n",
       "      <td>K2</td>\n",
       "      <td>4.0</td>\n",
       "      <td>d</td>\n",
       "      <td>21.0</td>\n",
       "    </tr>\n",
       "    <tr>\n",
       "      <th>12</th>\n",
       "      <td>K4</td>\n",
       "      <td>4.0</td>\n",
       "      <td>d</td>\n",
       "      <td>33.0</td>\n",
       "    </tr>\n",
       "  </tbody>\n",
       "</table>\n",
       "</div>"
      ],
      "text/plain": [
       "     k   lv  s    rv\n",
       "0   K0  1.0  a   NaN\n",
       "1   K1  1.0  a  19.0\n",
       "2   K2  1.0  a  21.0\n",
       "3   K4  1.0  a  33.0\n",
       "4   K1  2.0  b  19.0\n",
       "5   K2  2.0  b  21.0\n",
       "6   K4  2.0  b  33.0\n",
       "7   K1  3.0  c  19.0\n",
       "8   K2  3.0  c  21.0\n",
       "9   K4  3.0  c  33.0\n",
       "10  K1  NaN  d  19.0\n",
       "11  K2  4.0  d  21.0\n",
       "12  K4  4.0  d  33.0"
      ]
     },
     "execution_count": 21,
     "metadata": {},
     "output_type": "execute_result"
    }
   ],
   "source": [
    "result = pd.merge_ordered(left, right, fill_method='ffill', left_by='s' )\n",
    "result"
   ]
  },
  {
   "cell_type": "markdown",
   "metadata": {},
   "source": [
    "---\n",
    "\n",
    "#### Merge AsOf\n",
    "\n",
    "Isso é similar a uma ligação **esquerda** ordenada, exceto que:\n",
    "\n",
    "- nós casamos em chaves **próximas** ao invés de chaves **iguais**\n",
    "\n",
    "Por exemplo, nós podemos ter em um leilão, **vendas** e **lances** em dataframes diferentes\n",
    "\n",
    "Uma vez que alguns **lances** se tornam **vendas**, nós queremos unir os dois. O problema é que embora nós tenhamos uma régua temporal **precisa** nos dois dataframes, os dados não casam exatamente. Quando eu dou um lance e esse meu lance foi vencedor, meu sistema demora alguns segundos (tem um **lag**) para processar **arrematou, venda completa!**. Então o **Left Join** não irá funcionar! Eu preciso de algo com uma certa **flexibilidade**\n",
    "\n",
    "Aqui está o Dataframe das minhas **vendas**, numa série ordenada de **datas**:"
   ]
  },
  {
   "cell_type": "code",
   "execution_count": 22,
   "metadata": {},
   "outputs": [
    {
     "data": {
      "text/html": [
       "<div>\n",
       "<style scoped>\n",
       "    .dataframe tbody tr th:only-of-type {\n",
       "        vertical-align: middle;\n",
       "    }\n",
       "\n",
       "    .dataframe tbody tr th {\n",
       "        vertical-align: top;\n",
       "    }\n",
       "\n",
       "    .dataframe thead th {\n",
       "        text-align: right;\n",
       "    }\n",
       "</style>\n",
       "<table border=\"1\" class=\"dataframe\">\n",
       "  <thead>\n",
       "    <tr style=\"text-align: right;\">\n",
       "      <th></th>\n",
       "      <th>time</th>\n",
       "      <th>ticker</th>\n",
       "      <th>price</th>\n",
       "      <th>quantity</th>\n",
       "    </tr>\n",
       "  </thead>\n",
       "  <tbody>\n",
       "    <tr>\n",
       "      <th>0</th>\n",
       "      <td>2016-05-25 13:30:00.023</td>\n",
       "      <td>MSFT</td>\n",
       "      <td>51.95</td>\n",
       "      <td>75</td>\n",
       "    </tr>\n",
       "    <tr>\n",
       "      <th>1</th>\n",
       "      <td>2016-05-25 13:30:00.038</td>\n",
       "      <td>MSFT</td>\n",
       "      <td>51.95</td>\n",
       "      <td>155</td>\n",
       "    </tr>\n",
       "    <tr>\n",
       "      <th>2</th>\n",
       "      <td>2016-05-25 13:30:00.048</td>\n",
       "      <td>GOOG</td>\n",
       "      <td>720.77</td>\n",
       "      <td>100</td>\n",
       "    </tr>\n",
       "    <tr>\n",
       "      <th>3</th>\n",
       "      <td>2016-05-25 13:30:00.048</td>\n",
       "      <td>GOOG</td>\n",
       "      <td>720.92</td>\n",
       "      <td>100</td>\n",
       "    </tr>\n",
       "    <tr>\n",
       "      <th>4</th>\n",
       "      <td>2016-05-25 13:30:00.048</td>\n",
       "      <td>AAPL</td>\n",
       "      <td>98.00</td>\n",
       "      <td>100</td>\n",
       "    </tr>\n",
       "  </tbody>\n",
       "</table>\n",
       "</div>"
      ],
      "text/plain": [
       "                     time ticker   price  quantity\n",
       "0 2016-05-25 13:30:00.023   MSFT   51.95        75\n",
       "1 2016-05-25 13:30:00.038   MSFT   51.95       155\n",
       "2 2016-05-25 13:30:00.048   GOOG  720.77       100\n",
       "3 2016-05-25 13:30:00.048   GOOG  720.92       100\n",
       "4 2016-05-25 13:30:00.048   AAPL   98.00       100"
      ]
     },
     "execution_count": 22,
     "metadata": {},
     "output_type": "execute_result"
    }
   ],
   "source": [
    "trades = pd.DataFrame({\n",
    "     'time': pd.to_datetime(['20160525 13:30:00.023',\n",
    "                             '20160525 13:30:00.038',\n",
    "                             '20160525 13:30:00.048',\n",
    "                             '20160525 13:30:00.048',\n",
    "                             '20160525 13:30:00.048']),\n",
    "     'ticker': ['MSFT', 'MSFT', 'GOOG', 'GOOG', 'AAPL'],\n",
    "     'price': [51.95, 51.95, 720.77, 720.92, 98.00],\n",
    "     'quantity': [75, 155, 100, 100, 100]},\n",
    "     columns=['time', 'ticker', 'price', 'quantity']) \n",
    "trades"
   ]
  },
  {
   "cell_type": "markdown",
   "metadata": {},
   "source": [
    "Para cada linha do Dataframe da **esquerda**, nós selecionamos a última linha do Dataframe da **direita** no qual a sua chave seja **menor** do que a chave da **esquerda**\n",
    "\n",
    "Observe que ambos os Dataframes devem estar ordenados pela chave (pois são **séries** numa régua do tempo!)\n",
    "\n",
    "Esse é o meu dataframe dos **lances**. Nem todos resultaram em **vendas**:"
   ]
  },
  {
   "cell_type": "code",
   "execution_count": 23,
   "metadata": {},
   "outputs": [
    {
     "data": {
      "text/html": [
       "<div>\n",
       "<style scoped>\n",
       "    .dataframe tbody tr th:only-of-type {\n",
       "        vertical-align: middle;\n",
       "    }\n",
       "\n",
       "    .dataframe tbody tr th {\n",
       "        vertical-align: top;\n",
       "    }\n",
       "\n",
       "    .dataframe thead th {\n",
       "        text-align: right;\n",
       "    }\n",
       "</style>\n",
       "<table border=\"1\" class=\"dataframe\">\n",
       "  <thead>\n",
       "    <tr style=\"text-align: right;\">\n",
       "      <th></th>\n",
       "      <th>time</th>\n",
       "      <th>ticker</th>\n",
       "      <th>bid</th>\n",
       "      <th>ask</th>\n",
       "    </tr>\n",
       "  </thead>\n",
       "  <tbody>\n",
       "    <tr>\n",
       "      <th>0</th>\n",
       "      <td>2016-05-25 13:30:00.023</td>\n",
       "      <td>GOOG</td>\n",
       "      <td>720.50</td>\n",
       "      <td>720.93</td>\n",
       "    </tr>\n",
       "    <tr>\n",
       "      <th>1</th>\n",
       "      <td>2016-05-25 13:30:00.023</td>\n",
       "      <td>MSFT</td>\n",
       "      <td>51.95</td>\n",
       "      <td>51.96</td>\n",
       "    </tr>\n",
       "    <tr>\n",
       "      <th>2</th>\n",
       "      <td>2016-05-25 13:30:00.030</td>\n",
       "      <td>MSFT</td>\n",
       "      <td>51.97</td>\n",
       "      <td>51.98</td>\n",
       "    </tr>\n",
       "    <tr>\n",
       "      <th>3</th>\n",
       "      <td>2016-05-25 13:30:00.041</td>\n",
       "      <td>MSFT</td>\n",
       "      <td>51.99</td>\n",
       "      <td>52.00</td>\n",
       "    </tr>\n",
       "    <tr>\n",
       "      <th>4</th>\n",
       "      <td>2016-05-25 13:30:00.048</td>\n",
       "      <td>GOOG</td>\n",
       "      <td>720.50</td>\n",
       "      <td>720.93</td>\n",
       "    </tr>\n",
       "    <tr>\n",
       "      <th>5</th>\n",
       "      <td>2016-05-25 13:30:00.049</td>\n",
       "      <td>AAPL</td>\n",
       "      <td>97.99</td>\n",
       "      <td>98.01</td>\n",
       "    </tr>\n",
       "    <tr>\n",
       "      <th>6</th>\n",
       "      <td>2016-05-25 13:30:00.072</td>\n",
       "      <td>GOOG</td>\n",
       "      <td>720.50</td>\n",
       "      <td>720.88</td>\n",
       "    </tr>\n",
       "    <tr>\n",
       "      <th>7</th>\n",
       "      <td>2016-05-25 13:30:00.075</td>\n",
       "      <td>MSFT</td>\n",
       "      <td>52.01</td>\n",
       "      <td>52.03</td>\n",
       "    </tr>\n",
       "  </tbody>\n",
       "</table>\n",
       "</div>"
      ],
      "text/plain": [
       "                     time ticker     bid     ask\n",
       "0 2016-05-25 13:30:00.023   GOOG  720.50  720.93\n",
       "1 2016-05-25 13:30:00.023   MSFT   51.95   51.96\n",
       "2 2016-05-25 13:30:00.030   MSFT   51.97   51.98\n",
       "3 2016-05-25 13:30:00.041   MSFT   51.99   52.00\n",
       "4 2016-05-25 13:30:00.048   GOOG  720.50  720.93\n",
       "5 2016-05-25 13:30:00.049   AAPL   97.99   98.01\n",
       "6 2016-05-25 13:30:00.072   GOOG  720.50  720.88\n",
       "7 2016-05-25 13:30:00.075   MSFT   52.01   52.03"
      ]
     },
     "execution_count": 23,
     "metadata": {},
     "output_type": "execute_result"
    }
   ],
   "source": [
    "quotes = pd.DataFrame({\n",
    "     'time': pd.to_datetime(['20160525 13:30:00.023',\n",
    "                             '20160525 13:30:00.023',\n",
    "                             '20160525 13:30:00.030',\n",
    "                             '20160525 13:30:00.041',\n",
    "                             '20160525 13:30:00.048',\n",
    "                             '20160525 13:30:00.049',\n",
    "                             '20160525 13:30:00.072',\n",
    "                             '20160525 13:30:00.075']),\n",
    "     'ticker': ['GOOG', 'MSFT', 'MSFT', 'MSFT', 'GOOG', 'AAPL', 'GOOG', 'MSFT'],\n",
    "     'bid': [720.50, 51.95, 51.97, 51.99, 720.50, 97.99, 720.50, 52.01],\n",
    "     'ask': [720.93, 51.96, 51.98, 52.00, 720.93, 98.01, 720.88, 52.03]},\n",
    "     columns=['time', 'ticker', 'bid', 'ask'])\n",
    "quotes"
   ]
  },
  {
   "cell_type": "markdown",
   "metadata": {},
   "source": [
    "Como opcional, um merge asof pode realizar uma merge com inteligência de grupo\n",
    "\n",
    "O casamento é feito:\n",
    "\n",
    "- primeiro com a chave igual\n",
    "\n",
    "- segundo com o valor próximo (asof dos lances)"
   ]
  },
  {
   "cell_type": "code",
   "execution_count": 24,
   "metadata": {},
   "outputs": [
    {
     "data": {
      "text/html": [
       "<div>\n",
       "<style scoped>\n",
       "    .dataframe tbody tr th:only-of-type {\n",
       "        vertical-align: middle;\n",
       "    }\n",
       "\n",
       "    .dataframe tbody tr th {\n",
       "        vertical-align: top;\n",
       "    }\n",
       "\n",
       "    .dataframe thead th {\n",
       "        text-align: right;\n",
       "    }\n",
       "</style>\n",
       "<table border=\"1\" class=\"dataframe\">\n",
       "  <thead>\n",
       "    <tr style=\"text-align: right;\">\n",
       "      <th></th>\n",
       "      <th>time</th>\n",
       "      <th>ticker</th>\n",
       "      <th>price</th>\n",
       "      <th>quantity</th>\n",
       "      <th>bid</th>\n",
       "      <th>ask</th>\n",
       "    </tr>\n",
       "  </thead>\n",
       "  <tbody>\n",
       "    <tr>\n",
       "      <th>0</th>\n",
       "      <td>2016-05-25 13:30:00.023</td>\n",
       "      <td>MSFT</td>\n",
       "      <td>51.95</td>\n",
       "      <td>75</td>\n",
       "      <td>51.95</td>\n",
       "      <td>51.96</td>\n",
       "    </tr>\n",
       "    <tr>\n",
       "      <th>1</th>\n",
       "      <td>2016-05-25 13:30:00.038</td>\n",
       "      <td>MSFT</td>\n",
       "      <td>51.95</td>\n",
       "      <td>155</td>\n",
       "      <td>51.97</td>\n",
       "      <td>51.98</td>\n",
       "    </tr>\n",
       "    <tr>\n",
       "      <th>2</th>\n",
       "      <td>2016-05-25 13:30:00.048</td>\n",
       "      <td>GOOG</td>\n",
       "      <td>720.77</td>\n",
       "      <td>100</td>\n",
       "      <td>720.50</td>\n",
       "      <td>720.93</td>\n",
       "    </tr>\n",
       "    <tr>\n",
       "      <th>3</th>\n",
       "      <td>2016-05-25 13:30:00.048</td>\n",
       "      <td>GOOG</td>\n",
       "      <td>720.92</td>\n",
       "      <td>100</td>\n",
       "      <td>720.50</td>\n",
       "      <td>720.93</td>\n",
       "    </tr>\n",
       "    <tr>\n",
       "      <th>4</th>\n",
       "      <td>2016-05-25 13:30:00.048</td>\n",
       "      <td>AAPL</td>\n",
       "      <td>98.00</td>\n",
       "      <td>100</td>\n",
       "      <td>NaN</td>\n",
       "      <td>NaN</td>\n",
       "    </tr>\n",
       "  </tbody>\n",
       "</table>\n",
       "</div>"
      ],
      "text/plain": [
       "                     time ticker   price  quantity     bid     ask\n",
       "0 2016-05-25 13:30:00.023   MSFT   51.95        75   51.95   51.96\n",
       "1 2016-05-25 13:30:00.038   MSFT   51.95       155   51.97   51.98\n",
       "2 2016-05-25 13:30:00.048   GOOG  720.77       100  720.50  720.93\n",
       "3 2016-05-25 13:30:00.048   GOOG  720.92       100  720.50  720.93\n",
       "4 2016-05-25 13:30:00.048   AAPL   98.00       100     NaN     NaN"
      ]
     },
     "execution_count": 24,
     "metadata": {},
     "output_type": "execute_result"
    }
   ],
   "source": [
    "result = pd.merge_asof(trades, quotes, on='time', by='ticker')\n",
    "result"
   ]
  },
  {
   "cell_type": "markdown",
   "metadata": {},
   "source": [
    "Margem de 2ms entre o lance e a hora da transação:"
   ]
  },
  {
   "cell_type": "code",
   "execution_count": 25,
   "metadata": {},
   "outputs": [
    {
     "data": {
      "text/html": [
       "<div>\n",
       "<style scoped>\n",
       "    .dataframe tbody tr th:only-of-type {\n",
       "        vertical-align: middle;\n",
       "    }\n",
       "\n",
       "    .dataframe tbody tr th {\n",
       "        vertical-align: top;\n",
       "    }\n",
       "\n",
       "    .dataframe thead th {\n",
       "        text-align: right;\n",
       "    }\n",
       "</style>\n",
       "<table border=\"1\" class=\"dataframe\">\n",
       "  <thead>\n",
       "    <tr style=\"text-align: right;\">\n",
       "      <th></th>\n",
       "      <th>time</th>\n",
       "      <th>ticker</th>\n",
       "      <th>price</th>\n",
       "      <th>quantity</th>\n",
       "      <th>bid</th>\n",
       "      <th>ask</th>\n",
       "    </tr>\n",
       "  </thead>\n",
       "  <tbody>\n",
       "    <tr>\n",
       "      <th>0</th>\n",
       "      <td>2016-05-25 13:30:00.023</td>\n",
       "      <td>MSFT</td>\n",
       "      <td>51.95</td>\n",
       "      <td>75</td>\n",
       "      <td>51.95</td>\n",
       "      <td>51.96</td>\n",
       "    </tr>\n",
       "    <tr>\n",
       "      <th>1</th>\n",
       "      <td>2016-05-25 13:30:00.038</td>\n",
       "      <td>MSFT</td>\n",
       "      <td>51.95</td>\n",
       "      <td>155</td>\n",
       "      <td>51.97</td>\n",
       "      <td>51.98</td>\n",
       "    </tr>\n",
       "    <tr>\n",
       "      <th>2</th>\n",
       "      <td>2016-05-25 13:30:00.048</td>\n",
       "      <td>GOOG</td>\n",
       "      <td>720.77</td>\n",
       "      <td>100</td>\n",
       "      <td>720.50</td>\n",
       "      <td>720.93</td>\n",
       "    </tr>\n",
       "    <tr>\n",
       "      <th>3</th>\n",
       "      <td>2016-05-25 13:30:00.048</td>\n",
       "      <td>GOOG</td>\n",
       "      <td>720.92</td>\n",
       "      <td>100</td>\n",
       "      <td>720.50</td>\n",
       "      <td>720.93</td>\n",
       "    </tr>\n",
       "    <tr>\n",
       "      <th>4</th>\n",
       "      <td>2016-05-25 13:30:00.048</td>\n",
       "      <td>AAPL</td>\n",
       "      <td>98.00</td>\n",
       "      <td>100</td>\n",
       "      <td>NaN</td>\n",
       "      <td>NaN</td>\n",
       "    </tr>\n",
       "  </tbody>\n",
       "</table>\n",
       "</div>"
      ],
      "text/plain": [
       "                     time ticker   price  quantity     bid     ask\n",
       "0 2016-05-25 13:30:00.023   MSFT   51.95        75   51.95   51.96\n",
       "1 2016-05-25 13:30:00.038   MSFT   51.95       155   51.97   51.98\n",
       "2 2016-05-25 13:30:00.048   GOOG  720.77       100  720.50  720.93\n",
       "3 2016-05-25 13:30:00.048   GOOG  720.92       100  720.50  720.93\n",
       "4 2016-05-25 13:30:00.048   AAPL   98.00       100     NaN     NaN"
      ]
     },
     "execution_count": 25,
     "metadata": {},
     "output_type": "execute_result"
    }
   ],
   "source": [
    "pd.merge_asof(trades, quotes, on='time', by='ticker', tolerance=pd.Timedelta('2ms'))\n",
    "result"
   ]
  },
  {
   "cell_type": "markdown",
   "metadata": {},
   "source": [
    "Tolerância de 10ms entre o lance e a hora da transação. Também foram excluídos os casamentos perfeitos no tempo\n",
    "\n",
    "*Observe que quando nós excluídos o casamento perfeito (nos lançces), os lances anteriores se propagam a partir daquele ponto, no tempo*"
   ]
  },
  {
   "cell_type": "code",
   "execution_count": 26,
   "metadata": {},
   "outputs": [
    {
     "data": {
      "text/html": [
       "<div>\n",
       "<style scoped>\n",
       "    .dataframe tbody tr th:only-of-type {\n",
       "        vertical-align: middle;\n",
       "    }\n",
       "\n",
       "    .dataframe tbody tr th {\n",
       "        vertical-align: top;\n",
       "    }\n",
       "\n",
       "    .dataframe thead th {\n",
       "        text-align: right;\n",
       "    }\n",
       "</style>\n",
       "<table border=\"1\" class=\"dataframe\">\n",
       "  <thead>\n",
       "    <tr style=\"text-align: right;\">\n",
       "      <th></th>\n",
       "      <th>time</th>\n",
       "      <th>ticker</th>\n",
       "      <th>price</th>\n",
       "      <th>quantity</th>\n",
       "      <th>bid</th>\n",
       "      <th>ask</th>\n",
       "    </tr>\n",
       "  </thead>\n",
       "  <tbody>\n",
       "    <tr>\n",
       "      <th>0</th>\n",
       "      <td>2016-05-25 13:30:00.023</td>\n",
       "      <td>MSFT</td>\n",
       "      <td>51.95</td>\n",
       "      <td>75</td>\n",
       "      <td>51.95</td>\n",
       "      <td>51.96</td>\n",
       "    </tr>\n",
       "    <tr>\n",
       "      <th>1</th>\n",
       "      <td>2016-05-25 13:30:00.038</td>\n",
       "      <td>MSFT</td>\n",
       "      <td>51.95</td>\n",
       "      <td>155</td>\n",
       "      <td>51.97</td>\n",
       "      <td>51.98</td>\n",
       "    </tr>\n",
       "    <tr>\n",
       "      <th>2</th>\n",
       "      <td>2016-05-25 13:30:00.048</td>\n",
       "      <td>GOOG</td>\n",
       "      <td>720.77</td>\n",
       "      <td>100</td>\n",
       "      <td>720.50</td>\n",
       "      <td>720.93</td>\n",
       "    </tr>\n",
       "    <tr>\n",
       "      <th>3</th>\n",
       "      <td>2016-05-25 13:30:00.048</td>\n",
       "      <td>GOOG</td>\n",
       "      <td>720.92</td>\n",
       "      <td>100</td>\n",
       "      <td>720.50</td>\n",
       "      <td>720.93</td>\n",
       "    </tr>\n",
       "    <tr>\n",
       "      <th>4</th>\n",
       "      <td>2016-05-25 13:30:00.048</td>\n",
       "      <td>AAPL</td>\n",
       "      <td>98.00</td>\n",
       "      <td>100</td>\n",
       "      <td>NaN</td>\n",
       "      <td>NaN</td>\n",
       "    </tr>\n",
       "  </tbody>\n",
       "</table>\n",
       "</div>"
      ],
      "text/plain": [
       "                     time ticker   price  quantity     bid     ask\n",
       "0 2016-05-25 13:30:00.023   MSFT   51.95        75   51.95   51.96\n",
       "1 2016-05-25 13:30:00.038   MSFT   51.95       155   51.97   51.98\n",
       "2 2016-05-25 13:30:00.048   GOOG  720.77       100  720.50  720.93\n",
       "3 2016-05-25 13:30:00.048   GOOG  720.92       100  720.50  720.93\n",
       "4 2016-05-25 13:30:00.048   AAPL   98.00       100     NaN     NaN"
      ]
     },
     "execution_count": 26,
     "metadata": {},
     "output_type": "execute_result"
    }
   ],
   "source": [
    "pd.merge_asof(trades, quotes, on='time', by='ticker', tolerance=pd.Timedelta('10ms'), allow_exact_matches=False)\n",
    "result"
   ]
  },
  {
   "cell_type": "markdown",
   "metadata": {},
   "source": [
    "### Usos gerais envolvendo combinação de Dataframes\n",
    "\n",
    "---\n",
    "\n",
    "**Combinando** dois dataframes iguais em **multinível** com **Concat** [aqui](https://stackoverflow.com/questions/40820017/how-to-create-a-multilevel-dataframe-in-pandas)\n",
    "\n",
    "*Eu só mostro o que ocorreu no dataframe A, pois os dois são idênticos!*\n",
    "\n",
    "*Observação: eu introduzi no dataframe B alguns campos **em branco**, pois eu queria ver como ele lidava com isso. Assim mesmo o processo correu bem e provavelmente o caso do meu dataframe de **carros reformados** também daria certo!*"
   ]
  },
  {
   "cell_type": "code",
   "execution_count": 47,
   "metadata": {},
   "outputs": [
    {
     "data": {
      "text/html": [
       "<div>\n",
       "<style scoped>\n",
       "    .dataframe tbody tr th:only-of-type {\n",
       "        vertical-align: middle;\n",
       "    }\n",
       "\n",
       "    .dataframe tbody tr th {\n",
       "        vertical-align: top;\n",
       "    }\n",
       "\n",
       "    .dataframe thead th {\n",
       "        text-align: right;\n",
       "    }\n",
       "</style>\n",
       "<table border=\"1\" class=\"dataframe\">\n",
       "  <thead>\n",
       "    <tr style=\"text-align: right;\">\n",
       "      <th></th>\n",
       "      <th>a</th>\n",
       "      <th>b</th>\n",
       "    </tr>\n",
       "  </thead>\n",
       "  <tbody>\n",
       "    <tr>\n",
       "      <th>2016-11-21</th>\n",
       "      <td>2</td>\n",
       "      <td>1</td>\n",
       "    </tr>\n",
       "    <tr>\n",
       "      <th>2016-11-22</th>\n",
       "      <td>3</td>\n",
       "      <td>4</td>\n",
       "    </tr>\n",
       "    <tr>\n",
       "      <th>2016-11-23</th>\n",
       "      <td>5</td>\n",
       "      <td>2</td>\n",
       "    </tr>\n",
       "    <tr>\n",
       "      <th>2016-11-24</th>\n",
       "      <td>6</td>\n",
       "      <td>3</td>\n",
       "    </tr>\n",
       "    <tr>\n",
       "      <th>2016-11-25</th>\n",
       "      <td>6</td>\n",
       "      <td>3</td>\n",
       "    </tr>\n",
       "  </tbody>\n",
       "</table>\n",
       "</div>"
      ],
      "text/plain": [
       "            a  b\n",
       "2016-11-21  2  1\n",
       "2016-11-22  3  4\n",
       "2016-11-23  5  2\n",
       "2016-11-24  6  3\n",
       "2016-11-25  6  3"
      ]
     },
     "execution_count": 47,
     "metadata": {},
     "output_type": "execute_result"
    }
   ],
   "source": [
    "import pandas as pd\n",
    "\n",
    "A = pd.DataFrame(data=[[2, 1], [3, 4], [5, 2], [6, 3], [6, 3]],\n",
    "                  index= ['2016-11-21', '2016-11-22', '2016-11-23', '2016-11-24', '2016-11-25'],\n",
    "                  columns=['a', 'b'])\n",
    "B = pd.DataFrame(data=[[3, 0], [1, 0], [1, 6], ['', ''], ['', '']],\n",
    "                  index= ['2016-11-21', '2016-11-22', '2016-11-23', '2016-11-24', '2016-11-25'],\n",
    "                  columns=['a', 'b'])\n",
    "A"
   ]
  },
  {
   "cell_type": "markdown",
   "metadata": {},
   "source": [
    "Esse método **From Product** usa o **Produto Cartesiano** dos dois elementos para criar a multiindexação\n",
    "\n",
    "E a partir dele o método **Multi Index** pode construir minha nova indexação"
   ]
  },
  {
   "cell_type": "code",
   "execution_count": 48,
   "metadata": {},
   "outputs": [
    {
     "data": {
      "text/html": [
       "<div>\n",
       "<style scoped>\n",
       "    .dataframe tbody tr th:only-of-type {\n",
       "        vertical-align: middle;\n",
       "    }\n",
       "\n",
       "    .dataframe tbody tr th {\n",
       "        vertical-align: top;\n",
       "    }\n",
       "\n",
       "    .dataframe thead tr th {\n",
       "        text-align: left;\n",
       "    }\n",
       "</style>\n",
       "<table border=\"1\" class=\"dataframe\">\n",
       "  <thead>\n",
       "    <tr>\n",
       "      <th></th>\n",
       "      <th colspan=\"2\" halign=\"left\">A</th>\n",
       "    </tr>\n",
       "    <tr>\n",
       "      <th></th>\n",
       "      <th>a</th>\n",
       "      <th>b</th>\n",
       "    </tr>\n",
       "  </thead>\n",
       "  <tbody>\n",
       "    <tr>\n",
       "      <th>2016-11-21</th>\n",
       "      <td>2</td>\n",
       "      <td>1</td>\n",
       "    </tr>\n",
       "    <tr>\n",
       "      <th>2016-11-22</th>\n",
       "      <td>3</td>\n",
       "      <td>4</td>\n",
       "    </tr>\n",
       "    <tr>\n",
       "      <th>2016-11-23</th>\n",
       "      <td>5</td>\n",
       "      <td>2</td>\n",
       "    </tr>\n",
       "    <tr>\n",
       "      <th>2016-11-24</th>\n",
       "      <td>6</td>\n",
       "      <td>3</td>\n",
       "    </tr>\n",
       "    <tr>\n",
       "      <th>2016-11-25</th>\n",
       "      <td>6</td>\n",
       "      <td>3</td>\n",
       "    </tr>\n",
       "  </tbody>\n",
       "</table>\n",
       "</div>"
      ],
      "text/plain": [
       "            A   \n",
       "            a  b\n",
       "2016-11-21  2  1\n",
       "2016-11-22  3  4\n",
       "2016-11-23  5  2\n",
       "2016-11-24  6  3\n",
       "2016-11-25  6  3"
      ]
     },
     "execution_count": 48,
     "metadata": {},
     "output_type": "execute_result"
    }
   ],
   "source": [
    "A.columns = pd.MultiIndex.from_product([['A'], A.columns])\n",
    "A"
   ]
  },
  {
   "cell_type": "markdown",
   "metadata": {},
   "source": [
    "O **Produto Cartesiano** é a multiplicação entre pares ordenados, envolvendo conjuntos distintos\n",
    "\n",
    "No caso, temos o produto da nova **chave de índice A** pelos elementos em cada coluna da **tabela A**\n",
    "\n",
    "É um pouco estranho, mas é uma ótima maneira de criar as tuplas, ideal para reformatar um dataframe para mais um nível **primário**\n",
    "\n",
    "Abaixo como fica uma dessas tuplas:"
   ]
  },
  {
   "cell_type": "code",
   "execution_count": 41,
   "metadata": {},
   "outputs": [
    {
     "name": "stdout",
     "output_type": "stream",
     "text": [
      "('A', 2)\n",
      "('A', 3)\n",
      "('A', 5)\n",
      "('A', 6)\n",
      "('A', 6)\n"
     ]
    }
   ],
   "source": [
    "import itertools\n",
    "for element in itertools.product(['A'], [2, 3, 5, 6, 6]):\n",
    "    print(element)"
   ]
  },
  {
   "cell_type": "code",
   "execution_count": 49,
   "metadata": {},
   "outputs": [
    {
     "data": {
      "text/html": [
       "<div>\n",
       "<style scoped>\n",
       "    .dataframe tbody tr th:only-of-type {\n",
       "        vertical-align: middle;\n",
       "    }\n",
       "\n",
       "    .dataframe tbody tr th {\n",
       "        vertical-align: top;\n",
       "    }\n",
       "\n",
       "    .dataframe thead tr th {\n",
       "        text-align: left;\n",
       "    }\n",
       "</style>\n",
       "<table border=\"1\" class=\"dataframe\">\n",
       "  <thead>\n",
       "    <tr>\n",
       "      <th></th>\n",
       "      <th colspan=\"2\" halign=\"left\">A</th>\n",
       "      <th colspan=\"2\" halign=\"left\">B</th>\n",
       "    </tr>\n",
       "    <tr>\n",
       "      <th></th>\n",
       "      <th>a</th>\n",
       "      <th>b</th>\n",
       "      <th>a</th>\n",
       "      <th>b</th>\n",
       "    </tr>\n",
       "  </thead>\n",
       "  <tbody>\n",
       "    <tr>\n",
       "      <th>2016-11-21</th>\n",
       "      <td>2</td>\n",
       "      <td>1</td>\n",
       "      <td>3</td>\n",
       "      <td>0</td>\n",
       "    </tr>\n",
       "    <tr>\n",
       "      <th>2016-11-22</th>\n",
       "      <td>3</td>\n",
       "      <td>4</td>\n",
       "      <td>1</td>\n",
       "      <td>0</td>\n",
       "    </tr>\n",
       "    <tr>\n",
       "      <th>2016-11-23</th>\n",
       "      <td>5</td>\n",
       "      <td>2</td>\n",
       "      <td>1</td>\n",
       "      <td>6</td>\n",
       "    </tr>\n",
       "    <tr>\n",
       "      <th>2016-11-24</th>\n",
       "      <td>6</td>\n",
       "      <td>3</td>\n",
       "      <td></td>\n",
       "      <td></td>\n",
       "    </tr>\n",
       "    <tr>\n",
       "      <th>2016-11-25</th>\n",
       "      <td>6</td>\n",
       "      <td>3</td>\n",
       "      <td></td>\n",
       "      <td></td>\n",
       "    </tr>\n",
       "  </tbody>\n",
       "</table>\n",
       "</div>"
      ],
      "text/plain": [
       "            A     B   \n",
       "            a  b  a  b\n",
       "2016-11-21  2  1  3  0\n",
       "2016-11-22  3  4  1  0\n",
       "2016-11-23  5  2  1  6\n",
       "2016-11-24  6  3      \n",
       "2016-11-25  6  3      "
      ]
     },
     "execution_count": 49,
     "metadata": {},
     "output_type": "execute_result"
    }
   ],
   "source": [
    "B.columns = pd.MultiIndex.from_product([['B'], B.columns])\n",
    "pd.concat([A, B], axis = 1)"
   ]
  },
  {
   "cell_type": "markdown",
   "metadata": {},
   "source": [
    "### Redefinindo dataframes usando estatísticas\n",
    "\n",
    "---\n",
    "\n",
    "**Combinando** um dataframe com **Stats** e **Groupby** [aqui](https://pandas.pydata.org/pandas-docs/stable/reshaping.html)\n",
    "\n"
   ]
  },
  {
   "cell_type": "markdown",
   "metadata": {},
   "source": [
    "Isso aqui é um dataframe vindo de um laboratório. Vários experimentos foram feitos em vários animais por duas semanas. Isso gera um dataframe em múltiplos níveis. Observer a complexidade deste dataframe. Essa informação pode ser demasiada:"
   ]
  },
  {
   "cell_type": "code",
   "execution_count": 47,
   "metadata": {},
   "outputs": [
    {
     "data": {
      "text/html": [
       "<div>\n",
       "<style scoped>\n",
       "    .dataframe tbody tr th:only-of-type {\n",
       "        vertical-align: middle;\n",
       "    }\n",
       "\n",
       "    .dataframe tbody tr th {\n",
       "        vertical-align: top;\n",
       "    }\n",
       "\n",
       "    .dataframe thead tr th {\n",
       "        text-align: left;\n",
       "    }\n",
       "\n",
       "    .dataframe thead tr:last-of-type th {\n",
       "        text-align: right;\n",
       "    }\n",
       "</style>\n",
       "<table border=\"1\" class=\"dataframe\">\n",
       "  <thead>\n",
       "    <tr>\n",
       "      <th></th>\n",
       "      <th>exp</th>\n",
       "      <th>A</th>\n",
       "      <th>B</th>\n",
       "      <th></th>\n",
       "      <th>A</th>\n",
       "    </tr>\n",
       "    <tr>\n",
       "      <th></th>\n",
       "      <th>animal</th>\n",
       "      <th>cat</th>\n",
       "      <th>dog</th>\n",
       "      <th>cat</th>\n",
       "      <th>dog</th>\n",
       "    </tr>\n",
       "    <tr>\n",
       "      <th>first</th>\n",
       "      <th>second</th>\n",
       "      <th></th>\n",
       "      <th></th>\n",
       "      <th></th>\n",
       "      <th></th>\n",
       "    </tr>\n",
       "  </thead>\n",
       "  <tbody>\n",
       "    <tr>\n",
       "      <th rowspan=\"2\" valign=\"top\">bar</th>\n",
       "      <th>one</th>\n",
       "      <td>1.632754</td>\n",
       "      <td>-0.551827</td>\n",
       "      <td>-2.574443</td>\n",
       "      <td>-0.432358</td>\n",
       "    </tr>\n",
       "    <tr>\n",
       "      <th>two</th>\n",
       "      <td>-0.471698</td>\n",
       "      <td>-1.243520</td>\n",
       "      <td>0.742335</td>\n",
       "      <td>0.342478</td>\n",
       "    </tr>\n",
       "    <tr>\n",
       "      <th rowspan=\"2\" valign=\"top\">baz</th>\n",
       "      <th>one</th>\n",
       "      <td>1.936691</td>\n",
       "      <td>-0.030853</td>\n",
       "      <td>1.504171</td>\n",
       "      <td>-0.779984</td>\n",
       "    </tr>\n",
       "    <tr>\n",
       "      <th>two</th>\n",
       "      <td>0.759899</td>\n",
       "      <td>-0.428439</td>\n",
       "      <td>-0.292747</td>\n",
       "      <td>-0.603547</td>\n",
       "    </tr>\n",
       "    <tr>\n",
       "      <th rowspan=\"2\" valign=\"top\">foo</th>\n",
       "      <th>one</th>\n",
       "      <td>1.722871</td>\n",
       "      <td>-1.120541</td>\n",
       "      <td>0.321965</td>\n",
       "      <td>-1.630697</td>\n",
       "    </tr>\n",
       "    <tr>\n",
       "      <th>two</th>\n",
       "      <td>-0.600571</td>\n",
       "      <td>0.234530</td>\n",
       "      <td>0.855710</td>\n",
       "      <td>-0.443203</td>\n",
       "    </tr>\n",
       "    <tr>\n",
       "      <th rowspan=\"2\" valign=\"top\">qux</th>\n",
       "      <th>one</th>\n",
       "      <td>-0.003694</td>\n",
       "      <td>1.664536</td>\n",
       "      <td>-0.919551</td>\n",
       "      <td>-0.042198</td>\n",
       "    </tr>\n",
       "    <tr>\n",
       "      <th>two</th>\n",
       "      <td>0.262598</td>\n",
       "      <td>-0.606351</td>\n",
       "      <td>-1.458344</td>\n",
       "      <td>-0.472203</td>\n",
       "    </tr>\n",
       "  </tbody>\n",
       "</table>\n",
       "</div>"
      ],
      "text/plain": [
       "exp                  A         B                   A\n",
       "animal             cat       dog       cat       dog\n",
       "first second                                        \n",
       "bar   one     1.632754 -0.551827 -2.574443 -0.432358\n",
       "      two    -0.471698 -1.243520  0.742335  0.342478\n",
       "baz   one     1.936691 -0.030853  1.504171 -0.779984\n",
       "      two     0.759899 -0.428439 -0.292747 -0.603547\n",
       "foo   one     1.722871 -1.120541  0.321965 -1.630697\n",
       "      two    -0.600571  0.234530  0.855710 -0.443203\n",
       "qux   one    -0.003694  1.664536 -0.919551 -0.042198\n",
       "      two     0.262598 -0.606351 -1.458344 -0.472203"
      ]
     },
     "execution_count": 47,
     "metadata": {},
     "output_type": "execute_result"
    }
   ],
   "source": [
    "import pandas as pd\n",
    "import numpy as np\n",
    "\n",
    "H = pd.DataFrame(np.random.randn(8, 4), columns=('cat_A', 'dog_B', 'cat_', 'dog_A'))\n",
    "H.columns = H.columns.str.split('_', expand=True)\n",
    "H.columns = H.columns.swaplevel(1,0)\n",
    "H.columns.names = ['exp', 'animal']\n",
    "H.index=pd.MultiIndex.from_product([['bar', 'baz', 'foo', 'qux'], ['one', 'two']])\n",
    "H.index.names = ['first', 'second']\n",
    "H"
   ]
  },
  {
   "cell_type": "markdown",
   "metadata": {},
   "source": [
    "Aqui eu **sumarizo** pela média dos experimentos:"
   ]
  },
  {
   "cell_type": "code",
   "execution_count": 49,
   "metadata": {},
   "outputs": [
    {
     "data": {
      "text/html": [
       "<div>\n",
       "<style scoped>\n",
       "    .dataframe tbody tr th:only-of-type {\n",
       "        vertical-align: middle;\n",
       "    }\n",
       "\n",
       "    .dataframe tbody tr th {\n",
       "        vertical-align: top;\n",
       "    }\n",
       "\n",
       "    .dataframe thead th {\n",
       "        text-align: right;\n",
       "    }\n",
       "</style>\n",
       "<table border=\"1\" class=\"dataframe\">\n",
       "  <thead>\n",
       "    <tr style=\"text-align: right;\">\n",
       "      <th></th>\n",
       "      <th>animal</th>\n",
       "      <th>cat</th>\n",
       "      <th>dog</th>\n",
       "    </tr>\n",
       "    <tr>\n",
       "      <th>first</th>\n",
       "      <th>second</th>\n",
       "      <th></th>\n",
       "      <th></th>\n",
       "    </tr>\n",
       "  </thead>\n",
       "  <tbody>\n",
       "    <tr>\n",
       "      <th rowspan=\"2\" valign=\"top\">bar</th>\n",
       "      <th>one</th>\n",
       "      <td>-0.470844</td>\n",
       "      <td>-0.492093</td>\n",
       "    </tr>\n",
       "    <tr>\n",
       "      <th>two</th>\n",
       "      <td>0.135319</td>\n",
       "      <td>-0.450521</td>\n",
       "    </tr>\n",
       "    <tr>\n",
       "      <th rowspan=\"2\" valign=\"top\">baz</th>\n",
       "      <th>one</th>\n",
       "      <td>1.720431</td>\n",
       "      <td>-0.405418</td>\n",
       "    </tr>\n",
       "    <tr>\n",
       "      <th>two</th>\n",
       "      <td>0.233576</td>\n",
       "      <td>-0.515993</td>\n",
       "    </tr>\n",
       "    <tr>\n",
       "      <th rowspan=\"2\" valign=\"top\">foo</th>\n",
       "      <th>one</th>\n",
       "      <td>1.022418</td>\n",
       "      <td>-1.375619</td>\n",
       "    </tr>\n",
       "    <tr>\n",
       "      <th>two</th>\n",
       "      <td>0.127569</td>\n",
       "      <td>-0.104336</td>\n",
       "    </tr>\n",
       "    <tr>\n",
       "      <th rowspan=\"2\" valign=\"top\">qux</th>\n",
       "      <th>one</th>\n",
       "      <td>-0.461622</td>\n",
       "      <td>0.811169</td>\n",
       "    </tr>\n",
       "    <tr>\n",
       "      <th>two</th>\n",
       "      <td>-0.597873</td>\n",
       "      <td>-0.539277</td>\n",
       "    </tr>\n",
       "  </tbody>\n",
       "</table>\n",
       "</div>"
      ],
      "text/plain": [
       "animal             cat       dog\n",
       "first second                    \n",
       "bar   one    -0.470844 -0.492093\n",
       "      two     0.135319 -0.450521\n",
       "baz   one     1.720431 -0.405418\n",
       "      two     0.233576 -0.515993\n",
       "foo   one     1.022418 -1.375619\n",
       "      two     0.127569 -0.104336\n",
       "qux   one    -0.461622  0.811169\n",
       "      two    -0.597873 -0.539277"
      ]
     },
     "execution_count": 49,
     "metadata": {},
     "output_type": "execute_result"
    }
   ],
   "source": [
    "H.stack().mean(1).unstack()"
   ]
  },
  {
   "cell_type": "markdown",
   "metadata": {},
   "source": [
    "Outra maneira, com mesmo resultado:"
   ]
  },
  {
   "cell_type": "code",
   "execution_count": 51,
   "metadata": {},
   "outputs": [
    {
     "data": {
      "text/html": [
       "<div>\n",
       "<style scoped>\n",
       "    .dataframe tbody tr th:only-of-type {\n",
       "        vertical-align: middle;\n",
       "    }\n",
       "\n",
       "    .dataframe tbody tr th {\n",
       "        vertical-align: top;\n",
       "    }\n",
       "\n",
       "    .dataframe thead th {\n",
       "        text-align: right;\n",
       "    }\n",
       "</style>\n",
       "<table border=\"1\" class=\"dataframe\">\n",
       "  <thead>\n",
       "    <tr style=\"text-align: right;\">\n",
       "      <th></th>\n",
       "      <th>animal</th>\n",
       "      <th>cat</th>\n",
       "      <th>dog</th>\n",
       "    </tr>\n",
       "    <tr>\n",
       "      <th>first</th>\n",
       "      <th>second</th>\n",
       "      <th></th>\n",
       "      <th></th>\n",
       "    </tr>\n",
       "  </thead>\n",
       "  <tbody>\n",
       "    <tr>\n",
       "      <th rowspan=\"2\" valign=\"top\">bar</th>\n",
       "      <th>one</th>\n",
       "      <td>-0.470844</td>\n",
       "      <td>-0.492093</td>\n",
       "    </tr>\n",
       "    <tr>\n",
       "      <th>two</th>\n",
       "      <td>0.135319</td>\n",
       "      <td>-0.450521</td>\n",
       "    </tr>\n",
       "    <tr>\n",
       "      <th rowspan=\"2\" valign=\"top\">baz</th>\n",
       "      <th>one</th>\n",
       "      <td>1.720431</td>\n",
       "      <td>-0.405418</td>\n",
       "    </tr>\n",
       "    <tr>\n",
       "      <th>two</th>\n",
       "      <td>0.233576</td>\n",
       "      <td>-0.515993</td>\n",
       "    </tr>\n",
       "    <tr>\n",
       "      <th rowspan=\"2\" valign=\"top\">foo</th>\n",
       "      <th>one</th>\n",
       "      <td>1.022418</td>\n",
       "      <td>-1.375619</td>\n",
       "    </tr>\n",
       "    <tr>\n",
       "      <th>two</th>\n",
       "      <td>0.127569</td>\n",
       "      <td>-0.104336</td>\n",
       "    </tr>\n",
       "    <tr>\n",
       "      <th rowspan=\"2\" valign=\"top\">qux</th>\n",
       "      <th>one</th>\n",
       "      <td>-0.461622</td>\n",
       "      <td>0.811169</td>\n",
       "    </tr>\n",
       "    <tr>\n",
       "      <th>two</th>\n",
       "      <td>-0.597873</td>\n",
       "      <td>-0.539277</td>\n",
       "    </tr>\n",
       "  </tbody>\n",
       "</table>\n",
       "</div>"
      ],
      "text/plain": [
       "animal             cat       dog\n",
       "first second                    \n",
       "bar   one    -0.470844 -0.492093\n",
       "      two     0.135319 -0.450521\n",
       "baz   one     1.720431 -0.405418\n",
       "      two     0.233576 -0.515993\n",
       "foo   one     1.022418 -1.375619\n",
       "      two     0.127569 -0.104336\n",
       "qux   one    -0.461622  0.811169\n",
       "      two    -0.597873 -0.539277"
      ]
     },
     "execution_count": 51,
     "metadata": {},
     "output_type": "execute_result"
    }
   ],
   "source": [
    "H.groupby(level=1, axis=1).mean()"
   ]
  },
  {
   "cell_type": "markdown",
   "metadata": {},
   "source": [
    "Aqui o experimento aparece, mas eu **sumarizo** pela média dos indivíduos e condensando pela **raça**:"
   ]
  },
  {
   "cell_type": "code",
   "execution_count": 53,
   "metadata": {},
   "outputs": [
    {
     "data": {
      "text/html": [
       "<div>\n",
       "<style scoped>\n",
       "    .dataframe tbody tr th:only-of-type {\n",
       "        vertical-align: middle;\n",
       "    }\n",
       "\n",
       "    .dataframe tbody tr th {\n",
       "        vertical-align: top;\n",
       "    }\n",
       "\n",
       "    .dataframe thead th {\n",
       "        text-align: right;\n",
       "    }\n",
       "</style>\n",
       "<table border=\"1\" class=\"dataframe\">\n",
       "  <thead>\n",
       "    <tr style=\"text-align: right;\">\n",
       "      <th>exp</th>\n",
       "      <th></th>\n",
       "      <th>A</th>\n",
       "      <th>B</th>\n",
       "    </tr>\n",
       "    <tr>\n",
       "      <th>second</th>\n",
       "      <th></th>\n",
       "      <th></th>\n",
       "      <th></th>\n",
       "    </tr>\n",
       "  </thead>\n",
       "  <tbody>\n",
       "    <tr>\n",
       "      <th>one</th>\n",
       "      <td>-0.416964</td>\n",
       "      <td>0.300423</td>\n",
       "      <td>-0.009671</td>\n",
       "    </tr>\n",
       "    <tr>\n",
       "      <th>two</th>\n",
       "      <td>-0.038262</td>\n",
       "      <td>-0.153281</td>\n",
       "      <td>-0.510945</td>\n",
       "    </tr>\n",
       "  </tbody>\n",
       "</table>\n",
       "</div>"
      ],
      "text/plain": [
       "exp                      A         B\n",
       "second                              \n",
       "one    -0.416964  0.300423 -0.009671\n",
       "two    -0.038262 -0.153281 -0.510945"
      ]
     },
     "execution_count": 53,
     "metadata": {},
     "output_type": "execute_result"
    }
   ],
   "source": [
    "H.stack().groupby(level=1).mean()"
   ]
  },
  {
   "cell_type": "markdown",
   "metadata": {},
   "source": [
    "Aqui o experimento também aparece, mas eu **sumarizo** pela média dos indivíduos, condensando se foi o primeiro ou o segundo lote:"
   ]
  },
  {
   "cell_type": "code",
   "execution_count": 55,
   "metadata": {},
   "outputs": [
    {
     "data": {
      "text/html": [
       "<div>\n",
       "<style scoped>\n",
       "    .dataframe tbody tr th:only-of-type {\n",
       "        vertical-align: middle;\n",
       "    }\n",
       "\n",
       "    .dataframe tbody tr th {\n",
       "        vertical-align: top;\n",
       "    }\n",
       "\n",
       "    .dataframe thead th {\n",
       "        text-align: right;\n",
       "    }\n",
       "</style>\n",
       "<table border=\"1\" class=\"dataframe\">\n",
       "  <thead>\n",
       "    <tr style=\"text-align: right;\">\n",
       "      <th>exp</th>\n",
       "      <th></th>\n",
       "      <th>A</th>\n",
       "      <th>B</th>\n",
       "    </tr>\n",
       "    <tr>\n",
       "      <th>animal</th>\n",
       "      <th></th>\n",
       "      <th></th>\n",
       "      <th></th>\n",
       "    </tr>\n",
       "  </thead>\n",
       "  <tbody>\n",
       "    <tr>\n",
       "      <th>cat</th>\n",
       "      <td>-0.227613</td>\n",
       "      <td>0.654856</td>\n",
       "      <td>NaN</td>\n",
       "    </tr>\n",
       "    <tr>\n",
       "      <th>dog</th>\n",
       "      <td>NaN</td>\n",
       "      <td>-0.507714</td>\n",
       "      <td>-0.260308</td>\n",
       "    </tr>\n",
       "  </tbody>\n",
       "</table>\n",
       "</div>"
      ],
      "text/plain": [
       "exp                      A         B\n",
       "animal                              \n",
       "cat    -0.227613  0.654856       NaN\n",
       "dog          NaN -0.507714 -0.260308"
      ]
     },
     "execution_count": 55,
     "metadata": {},
     "output_type": "execute_result"
    }
   ],
   "source": [
    "H.mean().unstack(0)"
   ]
  },
  {
   "cell_type": "markdown",
   "metadata": {},
   "source": [
    "### Uma palavra sobre experimentos com animais e inferências estatísticas\n",
    "\n",
    "*No passado, tínhamos múltiplas limitações técnicas. Então quando recebíamos um lote por exemplo de ratos para trabalhar em um laboratório, focávamos fortemente no **problema que queríamos resolver**\n",
    "\n",
    "*Era a única maneira de se proceder: não tínhamos chips identificadores do indivíduo, o espaço para preenchimento de uma caderneta de papel era pequena e o laboratorista estava sempre cansado de preencher dados, não tínhamos câmeras infravermelho e nem dispositivos que nos coletassem dados automaticamente. Nossos arquivos em papel eram limitados em espaço*\n",
    "\n",
    "*Então como procedíamos? Bom, **condensávamos** previamente ao máximo nossos dados, ao mínimo suficiente para ter nossa inferência validada ou falsificada. Isso era feito **antes** de experimento começar. Então nossos ratos eram pesados e a temperatura deles medida e outras variáveis ambientes controladas e medidas várias vezes. A partir daí inferíamos que todo o experimento se passou numa temperatura ambiente de 28 graus Celsius, que nossos ratos tinham massa corpórea média de 128+/-13g ao início do experimento e temperatura corporal média de 37,5+/-0,4 graus Celsius. E então começávamos o experimento e fazíamos nossas leituras*\n",
    "\n",
    "*Ocorre que um mesmo experimento poderia nos fornecer dicas para outros. E tudo isso era perdido no nosso reducionismo. Hoje não precisamos proceder extamente da mesma maneira. Por exemplo, eu posso ter os chips implantandos nos ratos que os identificam. E câmeras infravermelho podem tirar fotos dos ratos e através de programas de tratamento de imagens, eu posso inferir por exemplo, mudanças **atípicas** na temperatura dos indivíduos **foo** e **baz**, mas nunca no indivíduo  **bar**... seria isso uma pista para algo relacionado à droga injetada?*\n",
    "\n",
    "*A variação do ambiente, monitorada eletronicamente ao longo das horas, dias e semanas... Será que aquela tripa enorme de leituras teve alguma coisa a ver com a morte súbita de todos os indivíduos do **exp A** ao fina da terceira semana?*\n",
    "\n",
    "*Essas e muitas outras perguntas podem ser investigadas, manualmente ou automaticamente, através de ferramentas de **machine learning**. Então agora sim, não necessariamente eu preciso tratar um **mar de ratos** como um grande número, mas sim por indivíduo, como cada um se comportou e por quê em cada experimento e em cada período... Como agora meus resultados não vêm mais na forma de um **grande número**, faz sentido essa parte da **condensação de dados via estatística** "
   ]
  },
  {
   "cell_type": "markdown",
   "metadata": {},
   "source": [
    "### Tabulação Cruzada [aqui](http://pandas.pydata.org/pandas-docs/stable/reshaping.html)\n",
    "\n",
    "---\n",
    "\n",
    "Por padrão, o método **.crosstab()** calcula a tabela de frequências dos fatores, a não ser que uma matriz de valores **values** e uma função de agregação **aggfunc** forem passadas\n",
    "\n",
    "Ele necessita como argumentos:\n",
    "\n",
    "- **index**, como matriz, valores para serem agrupados nas linhas\n",
    "- **columns**, como matriz, valores a serem agrupados nas colunas\n",
    "- **values**, matriz **opcional** de valores para agregar de acordo com os fatores e **aggfunc**, é uma função **opcional**\n",
    "- **rownames** e **colnames** como sequências, **margins** para acabamento\n",
    "- **normalize** para normalizar o resultado. Para alguns gráficos, isso pode ser interessante!"
   ]
  },
  {
   "cell_type": "code",
   "execution_count": 92,
   "metadata": {},
   "outputs": [
    {
     "data": {
      "text/html": [
       "<div>\n",
       "<style scoped>\n",
       "    .dataframe tbody tr th:only-of-type {\n",
       "        vertical-align: middle;\n",
       "    }\n",
       "\n",
       "    .dataframe tbody tr th {\n",
       "        vertical-align: top;\n",
       "    }\n",
       "\n",
       "    .dataframe thead tr th {\n",
       "        text-align: left;\n",
       "    }\n",
       "\n",
       "    .dataframe thead tr:last-of-type th {\n",
       "        text-align: right;\n",
       "    }\n",
       "</style>\n",
       "<table border=\"1\" class=\"dataframe\">\n",
       "  <thead>\n",
       "    <tr>\n",
       "      <th>b</th>\n",
       "      <th colspan=\"2\" halign=\"left\">one</th>\n",
       "      <th colspan=\"2\" halign=\"left\">two</th>\n",
       "    </tr>\n",
       "    <tr>\n",
       "      <th>c</th>\n",
       "      <th>dull</th>\n",
       "      <th>shiny</th>\n",
       "      <th>dull</th>\n",
       "      <th>shiny</th>\n",
       "    </tr>\n",
       "    <tr>\n",
       "      <th>a</th>\n",
       "      <th></th>\n",
       "      <th></th>\n",
       "      <th></th>\n",
       "      <th></th>\n",
       "    </tr>\n",
       "  </thead>\n",
       "  <tbody>\n",
       "    <tr>\n",
       "      <th>bar</th>\n",
       "      <td>1</td>\n",
       "      <td>0</td>\n",
       "      <td>0</td>\n",
       "      <td>1</td>\n",
       "    </tr>\n",
       "    <tr>\n",
       "      <th>foo</th>\n",
       "      <td>2</td>\n",
       "      <td>1</td>\n",
       "      <td>1</td>\n",
       "      <td>0</td>\n",
       "    </tr>\n",
       "  </tbody>\n",
       "</table>\n",
       "</div>"
      ],
      "text/plain": [
       "b    one        two      \n",
       "c   dull shiny dull shiny\n",
       "a                        \n",
       "bar    1     0    0     1\n",
       "foo    2     1    1     0"
      ]
     },
     "execution_count": 92,
     "metadata": {},
     "output_type": "execute_result"
    }
   ],
   "source": [
    "import pandas as pd\n",
    "import numpy as np\n",
    "\n",
    "foo, bar, dull, shiny, one, two = 'foo', 'bar', 'dull', 'shiny', 'one', 'two'\n",
    "a = np.array([foo, foo, bar, bar, foo, foo], dtype=object)\n",
    "b = np.array([one, one, two, one, two, one], dtype=object)\n",
    "c = np.array([dull, dull, shiny, dull, dull, shiny], dtype=object)\n",
    "\n",
    "pd.crosstab(a, [b, c], rownames=['a'], colnames=['b', 'c'])"
   ]
  },
  {
   "cell_type": "markdown",
   "metadata": {},
   "source": [
    "Quando são passadas duas séries, ele devolve uma **tabela de frequências**:"
   ]
  },
  {
   "cell_type": "code",
   "execution_count": 93,
   "metadata": {},
   "outputs": [
    {
     "data": {
      "text/html": [
       "<div>\n",
       "<style scoped>\n",
       "    .dataframe tbody tr th:only-of-type {\n",
       "        vertical-align: middle;\n",
       "    }\n",
       "\n",
       "    .dataframe tbody tr th {\n",
       "        vertical-align: top;\n",
       "    }\n",
       "\n",
       "    .dataframe thead th {\n",
       "        text-align: right;\n",
       "    }\n",
       "</style>\n",
       "<table border=\"1\" class=\"dataframe\">\n",
       "  <thead>\n",
       "    <tr style=\"text-align: right;\">\n",
       "      <th>B</th>\n",
       "      <th>3</th>\n",
       "      <th>4</th>\n",
       "    </tr>\n",
       "    <tr>\n",
       "      <th>A</th>\n",
       "      <th></th>\n",
       "      <th></th>\n",
       "    </tr>\n",
       "  </thead>\n",
       "  <tbody>\n",
       "    <tr>\n",
       "      <th>1</th>\n",
       "      <td>1</td>\n",
       "      <td>0</td>\n",
       "    </tr>\n",
       "    <tr>\n",
       "      <th>2</th>\n",
       "      <td>1</td>\n",
       "      <td>3</td>\n",
       "    </tr>\n",
       "  </tbody>\n",
       "</table>\n",
       "</div>"
      ],
      "text/plain": [
       "B  3  4\n",
       "A      \n",
       "1  1  0\n",
       "2  1  3"
      ]
     },
     "execution_count": 93,
     "metadata": {},
     "output_type": "execute_result"
    }
   ],
   "source": [
    "df = pd.DataFrame({'A': [1, 2, 2, 2, 2], 'B': [3, 3, 4, 4, 4],\n",
    "                    'C': [1, 1, np.nan, 1, 1]})\n",
    "df\n",
    "pd.crosstab(df.A, df.B)"
   ]
  },
  {
   "cell_type": "markdown",
   "metadata": {},
   "source": [
    "No caso de dados **categorizados**, mesmo as categorias **vazias** serão vasculhadas:"
   ]
  },
  {
   "cell_type": "code",
   "execution_count": 94,
   "metadata": {},
   "outputs": [
    {
     "data": {
      "text/html": [
       "<div>\n",
       "<style scoped>\n",
       "    .dataframe tbody tr th:only-of-type {\n",
       "        vertical-align: middle;\n",
       "    }\n",
       "\n",
       "    .dataframe tbody tr th {\n",
       "        vertical-align: top;\n",
       "    }\n",
       "\n",
       "    .dataframe thead th {\n",
       "        text-align: right;\n",
       "    }\n",
       "</style>\n",
       "<table border=\"1\" class=\"dataframe\">\n",
       "  <thead>\n",
       "    <tr style=\"text-align: right;\">\n",
       "      <th>col_0</th>\n",
       "      <th>d</th>\n",
       "      <th>e</th>\n",
       "    </tr>\n",
       "    <tr>\n",
       "      <th>row_0</th>\n",
       "      <th></th>\n",
       "      <th></th>\n",
       "    </tr>\n",
       "  </thead>\n",
       "  <tbody>\n",
       "    <tr>\n",
       "      <th>a</th>\n",
       "      <td>1</td>\n",
       "      <td>0</td>\n",
       "    </tr>\n",
       "    <tr>\n",
       "      <th>b</th>\n",
       "      <td>0</td>\n",
       "      <td>1</td>\n",
       "    </tr>\n",
       "  </tbody>\n",
       "</table>\n",
       "</div>"
      ],
      "text/plain": [
       "col_0  d  e\n",
       "row_0      \n",
       "a      1  0\n",
       "b      0  1"
      ]
     },
     "execution_count": 94,
     "metadata": {},
     "output_type": "execute_result"
    }
   ],
   "source": [
    "foo = pd.Categorical(['a', 'b'], categories=['a', 'b', 'c'])\n",
    "bar = pd.Categorical(['d', 'e'], categories=['d', 'e', 'f'])\n",
    "\n",
    "pd.crosstab(foo, bar)"
   ]
  },
  {
   "cell_type": "markdown",
   "metadata": {},
   "source": [
    "---"
   ]
  },
  {
   "cell_type": "markdown",
   "metadata": {},
   "source": [
    "**Normalização**\n",
    "\n",
    "Repare como isso fica bom para gráficos de **porcentagens**:"
   ]
  },
  {
   "cell_type": "code",
   "execution_count": 5,
   "metadata": {},
   "outputs": [
    {
     "data": {
      "text/html": [
       "<div>\n",
       "<style scoped>\n",
       "    .dataframe tbody tr th:only-of-type {\n",
       "        vertical-align: middle;\n",
       "    }\n",
       "\n",
       "    .dataframe tbody tr th {\n",
       "        vertical-align: top;\n",
       "    }\n",
       "\n",
       "    .dataframe thead th {\n",
       "        text-align: right;\n",
       "    }\n",
       "</style>\n",
       "<table border=\"1\" class=\"dataframe\">\n",
       "  <thead>\n",
       "    <tr style=\"text-align: right;\">\n",
       "      <th>B</th>\n",
       "      <th>3</th>\n",
       "      <th>4</th>\n",
       "    </tr>\n",
       "    <tr>\n",
       "      <th>A</th>\n",
       "      <th></th>\n",
       "      <th></th>\n",
       "    </tr>\n",
       "  </thead>\n",
       "  <tbody>\n",
       "    <tr>\n",
       "      <th>1</th>\n",
       "      <td>0.2</td>\n",
       "      <td>0.0</td>\n",
       "    </tr>\n",
       "    <tr>\n",
       "      <th>2</th>\n",
       "      <td>0.2</td>\n",
       "      <td>0.6</td>\n",
       "    </tr>\n",
       "  </tbody>\n",
       "</table>\n",
       "</div>"
      ],
      "text/plain": [
       "B    3    4\n",
       "A          \n",
       "1  0.2  0.0\n",
       "2  0.2  0.6"
      ]
     },
     "execution_count": 5,
     "metadata": {},
     "output_type": "execute_result"
    }
   ],
   "source": [
    "pd.crosstab(df.A, df.B, normalize=True)"
   ]
  },
  {
   "cell_type": "code",
   "execution_count": 6,
   "metadata": {},
   "outputs": [
    {
     "data": {
      "text/html": [
       "<div>\n",
       "<style scoped>\n",
       "    .dataframe tbody tr th:only-of-type {\n",
       "        vertical-align: middle;\n",
       "    }\n",
       "\n",
       "    .dataframe tbody tr th {\n",
       "        vertical-align: top;\n",
       "    }\n",
       "\n",
       "    .dataframe thead th {\n",
       "        text-align: right;\n",
       "    }\n",
       "</style>\n",
       "<table border=\"1\" class=\"dataframe\">\n",
       "  <thead>\n",
       "    <tr style=\"text-align: right;\">\n",
       "      <th>B</th>\n",
       "      <th>3</th>\n",
       "      <th>4</th>\n",
       "    </tr>\n",
       "    <tr>\n",
       "      <th>A</th>\n",
       "      <th></th>\n",
       "      <th></th>\n",
       "    </tr>\n",
       "  </thead>\n",
       "  <tbody>\n",
       "    <tr>\n",
       "      <th>1</th>\n",
       "      <td>0.5</td>\n",
       "      <td>0.0</td>\n",
       "    </tr>\n",
       "    <tr>\n",
       "      <th>2</th>\n",
       "      <td>0.5</td>\n",
       "      <td>1.0</td>\n",
       "    </tr>\n",
       "  </tbody>\n",
       "</table>\n",
       "</div>"
      ],
      "text/plain": [
       "B    3    4\n",
       "A          \n",
       "1  0.5  0.0\n",
       "2  0.5  1.0"
      ]
     },
     "execution_count": 6,
     "metadata": {},
     "output_type": "execute_result"
    }
   ],
   "source": [
    "pd.crosstab(df.A, df.B, normalize='columns')"
   ]
  },
  {
   "cell_type": "markdown",
   "metadata": {},
   "source": [
    "---"
   ]
  },
  {
   "cell_type": "markdown",
   "metadata": {},
   "source": [
    "#### Função de agregação"
   ]
  },
  {
   "cell_type": "code",
   "execution_count": 7,
   "metadata": {},
   "outputs": [
    {
     "data": {
      "text/html": [
       "<div>\n",
       "<style scoped>\n",
       "    .dataframe tbody tr th:only-of-type {\n",
       "        vertical-align: middle;\n",
       "    }\n",
       "\n",
       "    .dataframe tbody tr th {\n",
       "        vertical-align: top;\n",
       "    }\n",
       "\n",
       "    .dataframe thead th {\n",
       "        text-align: right;\n",
       "    }\n",
       "</style>\n",
       "<table border=\"1\" class=\"dataframe\">\n",
       "  <thead>\n",
       "    <tr style=\"text-align: right;\">\n",
       "      <th>B</th>\n",
       "      <th>3</th>\n",
       "      <th>4</th>\n",
       "    </tr>\n",
       "    <tr>\n",
       "      <th>A</th>\n",
       "      <th></th>\n",
       "      <th></th>\n",
       "    </tr>\n",
       "  </thead>\n",
       "  <tbody>\n",
       "    <tr>\n",
       "      <th>1</th>\n",
       "      <td>1.0</td>\n",
       "      <td>NaN</td>\n",
       "    </tr>\n",
       "    <tr>\n",
       "      <th>2</th>\n",
       "      <td>1.0</td>\n",
       "      <td>2.0</td>\n",
       "    </tr>\n",
       "  </tbody>\n",
       "</table>\n",
       "</div>"
      ],
      "text/plain": [
       "B    3    4\n",
       "A          \n",
       "1  1.0  NaN\n",
       "2  1.0  2.0"
      ]
     },
     "execution_count": 7,
     "metadata": {},
     "output_type": "execute_result"
    }
   ],
   "source": [
    "pd.crosstab(df.A, df.B, values=df.C, aggfunc=np.sum)"
   ]
  },
  {
   "cell_type": "markdown",
   "metadata": {},
   "source": [
    "---"
   ]
  },
  {
   "cell_type": "markdown",
   "metadata": {},
   "source": [
    "**Adicionando Margens**"
   ]
  },
  {
   "cell_type": "code",
   "execution_count": 9,
   "metadata": {},
   "outputs": [
    {
     "data": {
      "text/html": [
       "<div>\n",
       "<style scoped>\n",
       "    .dataframe tbody tr th:only-of-type {\n",
       "        vertical-align: middle;\n",
       "    }\n",
       "\n",
       "    .dataframe tbody tr th {\n",
       "        vertical-align: top;\n",
       "    }\n",
       "\n",
       "    .dataframe thead th {\n",
       "        text-align: right;\n",
       "    }\n",
       "</style>\n",
       "<table border=\"1\" class=\"dataframe\">\n",
       "  <thead>\n",
       "    <tr style=\"text-align: right;\">\n",
       "      <th>B</th>\n",
       "      <th>3</th>\n",
       "      <th>4</th>\n",
       "    </tr>\n",
       "    <tr>\n",
       "      <th>A</th>\n",
       "      <th></th>\n",
       "      <th></th>\n",
       "    </tr>\n",
       "  </thead>\n",
       "  <tbody>\n",
       "    <tr>\n",
       "      <th>1</th>\n",
       "      <td>0.25</td>\n",
       "      <td>0.0</td>\n",
       "    </tr>\n",
       "    <tr>\n",
       "      <th>2</th>\n",
       "      <td>0.25</td>\n",
       "      <td>0.5</td>\n",
       "    </tr>\n",
       "  </tbody>\n",
       "</table>\n",
       "</div>"
      ],
      "text/plain": [
       "B     3    4\n",
       "A           \n",
       "1  0.25  0.0\n",
       "2  0.25  0.5"
      ]
     },
     "execution_count": 9,
     "metadata": {},
     "output_type": "execute_result"
    }
   ],
   "source": [
    "pd.crosstab(df.A, df.B, values=df.C, aggfunc=np.sum, normalize=True)"
   ]
  },
  {
   "cell_type": "code",
   "execution_count": 95,
   "metadata": {},
   "outputs": [
    {
     "data": {
      "text/html": [
       "<div>\n",
       "<style scoped>\n",
       "    .dataframe tbody tr th:only-of-type {\n",
       "        vertical-align: middle;\n",
       "    }\n",
       "\n",
       "    .dataframe tbody tr th {\n",
       "        vertical-align: top;\n",
       "    }\n",
       "\n",
       "    .dataframe thead th {\n",
       "        text-align: right;\n",
       "    }\n",
       "</style>\n",
       "<table border=\"1\" class=\"dataframe\">\n",
       "  <thead>\n",
       "    <tr style=\"text-align: right;\">\n",
       "      <th>B</th>\n",
       "      <th>3</th>\n",
       "      <th>4</th>\n",
       "      <th>All</th>\n",
       "    </tr>\n",
       "    <tr>\n",
       "      <th>A</th>\n",
       "      <th></th>\n",
       "      <th></th>\n",
       "      <th></th>\n",
       "    </tr>\n",
       "  </thead>\n",
       "  <tbody>\n",
       "    <tr>\n",
       "      <th>1</th>\n",
       "      <td>0.25</td>\n",
       "      <td>0.0</td>\n",
       "      <td>0.25</td>\n",
       "    </tr>\n",
       "    <tr>\n",
       "      <th>2</th>\n",
       "      <td>0.25</td>\n",
       "      <td>0.5</td>\n",
       "      <td>0.75</td>\n",
       "    </tr>\n",
       "    <tr>\n",
       "      <th>All</th>\n",
       "      <td>0.50</td>\n",
       "      <td>0.5</td>\n",
       "      <td>1.00</td>\n",
       "    </tr>\n",
       "  </tbody>\n",
       "</table>\n",
       "</div>"
      ],
      "text/plain": [
       "B       3    4   All\n",
       "A                   \n",
       "1    0.25  0.0  0.25\n",
       "2    0.25  0.5  0.75\n",
       "All  0.50  0.5  1.00"
      ]
     },
     "execution_count": 95,
     "metadata": {},
     "output_type": "execute_result"
    }
   ],
   "source": [
    "pd.crosstab(df.A, df.B, values=df.C, aggfunc=np.sum, normalize=True,\n",
    "            margins=True)"
   ]
  },
  {
   "cell_type": "markdown",
   "metadata": {},
   "source": [
    "### Ladrilhando\n",
    "\n",
    "---\n",
    "\n",
    "Isso é usado para transformar variáveis **contínuas** em **discretas** ou de **categoria**\n",
    "\n",
    "Imagine que eu queira traçar um gráfico complexo, envolvendo **vinho tinto** e **vinho branco**, com **notas**, **teor de açúcar** e **teor alcoólico**. O que é mais fácil de se ler e comparar: uma nota **7.3** para o Cabernet Sauvignon de Tarapacá - Chile, ou a classificação: **Bom**?\n",
    "\n",
    "**bins** é o número de fatias"
   ]
  },
  {
   "cell_type": "code",
   "execution_count": 10,
   "metadata": {},
   "outputs": [
    {
     "data": {
      "text/plain": [
       "[(9.95, 26.667], (9.95, 26.667], (9.95, 26.667], (9.95, 26.667], (9.95, 26.667], (9.95, 26.667], (26.667, 43.333], (43.333, 60.0], (43.333, 60.0]]\n",
       "Categories (3, interval[float64]): [(9.95, 26.667] < (26.667, 43.333] < (43.333, 60.0]]"
      ]
     },
     "execution_count": 10,
     "metadata": {},
     "output_type": "execute_result"
    }
   ],
   "source": [
    "ages = np.array([10, 15, 13, 12, 23, 25, 28, 59, 60])\n",
    "pd.cut(ages, bins=3)"
   ]
  },
  {
   "cell_type": "markdown",
   "metadata": {},
   "source": [
    "Aqui eu passei os **limites** das minhas fatias já definidas:"
   ]
  },
  {
   "cell_type": "code",
   "execution_count": 11,
   "metadata": {},
   "outputs": [
    {
     "data": {
      "text/plain": [
       "[(0, 18], (0, 18], (0, 18], (0, 18], (18, 35], (18, 35], (18, 35], (35, 70], (35, 70]]\n",
       "Categories (3, interval[int64]): [(0, 18] < (18, 35] < (35, 70]]"
      ]
     },
     "execution_count": 11,
     "metadata": {},
     "output_type": "execute_result"
    }
   ],
   "source": [
    "c = pd.cut(ages, bins=[0, 18, 35, 70])\n",
    "c"
   ]
  },
  {
   "cell_type": "markdown",
   "metadata": {},
   "source": [
    "Se bins for um **IntervalIndex**, então elas serão usadas para fatiar os dados:"
   ]
  },
  {
   "cell_type": "code",
   "execution_count": 15,
   "metadata": {},
   "outputs": [
    {
     "data": {
      "text/plain": [
       "IntervalIndex([(0, 18], (18, 35], (35, 70]]\n",
       "              closed='right',\n",
       "              dtype='interval[int64]')"
      ]
     },
     "execution_count": 15,
     "metadata": {},
     "output_type": "execute_result"
    }
   ],
   "source": [
    "c.categories"
   ]
  },
  {
   "cell_type": "code",
   "execution_count": 12,
   "metadata": {},
   "outputs": [
    {
     "data": {
      "text/plain": [
       "[(18, 35], (18, 35], (35, 70]]\n",
       "Categories (3, interval[int64]): [(0, 18] < (18, 35] < (35, 70]]"
      ]
     },
     "execution_count": 12,
     "metadata": {},
     "output_type": "execute_result"
    }
   ],
   "source": [
    "pd.cut([25, 20, 50], bins=c.categories)"
   ]
  },
  {
   "cell_type": "markdown",
   "metadata": {},
   "source": [
    "### Indicador Computacional / Variáveis Dummy\n",
    "\n",
    "---\n",
    "\n",
    "Variável **Dummy** é uma variável de categoria que foi transformada em numérica. Ela passa a pegar valores 0 (ausência de) ou 1 (presença de)"
   ]
  },
  {
   "cell_type": "code",
   "execution_count": 46,
   "metadata": {},
   "outputs": [
    {
     "data": {
      "text/html": [
       "<div>\n",
       "<style scoped>\n",
       "    .dataframe tbody tr th:only-of-type {\n",
       "        vertical-align: middle;\n",
       "    }\n",
       "\n",
       "    .dataframe tbody tr th {\n",
       "        vertical-align: top;\n",
       "    }\n",
       "\n",
       "    .dataframe thead th {\n",
       "        text-align: right;\n",
       "    }\n",
       "</style>\n",
       "<table border=\"1\" class=\"dataframe\">\n",
       "  <thead>\n",
       "    <tr style=\"text-align: right;\">\n",
       "      <th></th>\n",
       "      <th>key</th>\n",
       "      <th>data1</th>\n",
       "    </tr>\n",
       "  </thead>\n",
       "  <tbody>\n",
       "    <tr>\n",
       "      <th>0</th>\n",
       "      <td>b</td>\n",
       "      <td>0</td>\n",
       "    </tr>\n",
       "    <tr>\n",
       "      <th>1</th>\n",
       "      <td>b</td>\n",
       "      <td>1</td>\n",
       "    </tr>\n",
       "    <tr>\n",
       "      <th>2</th>\n",
       "      <td>a</td>\n",
       "      <td>2</td>\n",
       "    </tr>\n",
       "    <tr>\n",
       "      <th>3</th>\n",
       "      <td>c</td>\n",
       "      <td>3</td>\n",
       "    </tr>\n",
       "    <tr>\n",
       "      <th>4</th>\n",
       "      <td>a</td>\n",
       "      <td>4</td>\n",
       "    </tr>\n",
       "    <tr>\n",
       "      <th>5</th>\n",
       "      <td>b</td>\n",
       "      <td>5</td>\n",
       "    </tr>\n",
       "  </tbody>\n",
       "</table>\n",
       "</div>"
      ],
      "text/plain": [
       "  key  data1\n",
       "0   b      0\n",
       "1   b      1\n",
       "2   a      2\n",
       "3   c      3\n",
       "4   a      4\n",
       "5   b      5"
      ]
     },
     "execution_count": 46,
     "metadata": {},
     "output_type": "execute_result"
    }
   ],
   "source": [
    "df = pd.DataFrame({'key': list('bbacab'), 'data1': range(6)})\n",
    "df"
   ]
  },
  {
   "cell_type": "code",
   "execution_count": 28,
   "metadata": {},
   "outputs": [
    {
     "data": {
      "text/html": [
       "<div>\n",
       "<style scoped>\n",
       "    .dataframe tbody tr th:only-of-type {\n",
       "        vertical-align: middle;\n",
       "    }\n",
       "\n",
       "    .dataframe tbody tr th {\n",
       "        vertical-align: top;\n",
       "    }\n",
       "\n",
       "    .dataframe thead th {\n",
       "        text-align: right;\n",
       "    }\n",
       "</style>\n",
       "<table border=\"1\" class=\"dataframe\">\n",
       "  <thead>\n",
       "    <tr style=\"text-align: right;\">\n",
       "      <th></th>\n",
       "      <th>a</th>\n",
       "      <th>b</th>\n",
       "      <th>c</th>\n",
       "    </tr>\n",
       "  </thead>\n",
       "  <tbody>\n",
       "    <tr>\n",
       "      <th>0</th>\n",
       "      <td>0</td>\n",
       "      <td>1</td>\n",
       "      <td>0</td>\n",
       "    </tr>\n",
       "    <tr>\n",
       "      <th>1</th>\n",
       "      <td>0</td>\n",
       "      <td>1</td>\n",
       "      <td>0</td>\n",
       "    </tr>\n",
       "    <tr>\n",
       "      <th>2</th>\n",
       "      <td>1</td>\n",
       "      <td>0</td>\n",
       "      <td>0</td>\n",
       "    </tr>\n",
       "    <tr>\n",
       "      <th>3</th>\n",
       "      <td>0</td>\n",
       "      <td>0</td>\n",
       "      <td>1</td>\n",
       "    </tr>\n",
       "    <tr>\n",
       "      <th>4</th>\n",
       "      <td>1</td>\n",
       "      <td>0</td>\n",
       "      <td>0</td>\n",
       "    </tr>\n",
       "    <tr>\n",
       "      <th>5</th>\n",
       "      <td>0</td>\n",
       "      <td>1</td>\n",
       "      <td>0</td>\n",
       "    </tr>\n",
       "  </tbody>\n",
       "</table>\n",
       "</div>"
      ],
      "text/plain": [
       "   a  b  c\n",
       "0  0  1  0\n",
       "1  0  1  0\n",
       "2  1  0  0\n",
       "3  0  0  1\n",
       "4  1  0  0\n",
       "5  0  1  0"
      ]
     },
     "execution_count": 28,
     "metadata": {},
     "output_type": "execute_result"
    }
   ],
   "source": [
    "pd.get_dummies(df['key'])"
   ]
  },
  {
   "cell_type": "markdown",
   "metadata": {},
   "source": [
    "Passando um nome de **prefixo** para facilitar identificar:"
   ]
  },
  {
   "cell_type": "code",
   "execution_count": 29,
   "metadata": {},
   "outputs": [
    {
     "data": {
      "text/html": [
       "<div>\n",
       "<style scoped>\n",
       "    .dataframe tbody tr th:only-of-type {\n",
       "        vertical-align: middle;\n",
       "    }\n",
       "\n",
       "    .dataframe tbody tr th {\n",
       "        vertical-align: top;\n",
       "    }\n",
       "\n",
       "    .dataframe thead th {\n",
       "        text-align: right;\n",
       "    }\n",
       "</style>\n",
       "<table border=\"1\" class=\"dataframe\">\n",
       "  <thead>\n",
       "    <tr style=\"text-align: right;\">\n",
       "      <th></th>\n",
       "      <th>key_a</th>\n",
       "      <th>key_b</th>\n",
       "      <th>key_c</th>\n",
       "    </tr>\n",
       "  </thead>\n",
       "  <tbody>\n",
       "    <tr>\n",
       "      <th>0</th>\n",
       "      <td>0</td>\n",
       "      <td>1</td>\n",
       "      <td>0</td>\n",
       "    </tr>\n",
       "    <tr>\n",
       "      <th>1</th>\n",
       "      <td>0</td>\n",
       "      <td>1</td>\n",
       "      <td>0</td>\n",
       "    </tr>\n",
       "    <tr>\n",
       "      <th>2</th>\n",
       "      <td>1</td>\n",
       "      <td>0</td>\n",
       "      <td>0</td>\n",
       "    </tr>\n",
       "    <tr>\n",
       "      <th>3</th>\n",
       "      <td>0</td>\n",
       "      <td>0</td>\n",
       "      <td>1</td>\n",
       "    </tr>\n",
       "    <tr>\n",
       "      <th>4</th>\n",
       "      <td>1</td>\n",
       "      <td>0</td>\n",
       "      <td>0</td>\n",
       "    </tr>\n",
       "    <tr>\n",
       "      <th>5</th>\n",
       "      <td>0</td>\n",
       "      <td>1</td>\n",
       "      <td>0</td>\n",
       "    </tr>\n",
       "  </tbody>\n",
       "</table>\n",
       "</div>"
      ],
      "text/plain": [
       "   key_a  key_b  key_c\n",
       "0      0      1      0\n",
       "1      0      1      0\n",
       "2      1      0      0\n",
       "3      0      0      1\n",
       "4      1      0      0\n",
       "5      0      1      0"
      ]
     },
     "execution_count": 29,
     "metadata": {},
     "output_type": "execute_result"
    }
   ],
   "source": [
    "dummies = pd.get_dummies(df['key'], prefix='key')\n",
    "dummies"
   ]
  },
  {
   "cell_type": "code",
   "execution_count": 30,
   "metadata": {},
   "outputs": [
    {
     "data": {
      "text/html": [
       "<div>\n",
       "<style scoped>\n",
       "    .dataframe tbody tr th:only-of-type {\n",
       "        vertical-align: middle;\n",
       "    }\n",
       "\n",
       "    .dataframe tbody tr th {\n",
       "        vertical-align: top;\n",
       "    }\n",
       "\n",
       "    .dataframe thead th {\n",
       "        text-align: right;\n",
       "    }\n",
       "</style>\n",
       "<table border=\"1\" class=\"dataframe\">\n",
       "  <thead>\n",
       "    <tr style=\"text-align: right;\">\n",
       "      <th></th>\n",
       "      <th>data1</th>\n",
       "      <th>key_a</th>\n",
       "      <th>key_b</th>\n",
       "      <th>key_c</th>\n",
       "    </tr>\n",
       "  </thead>\n",
       "  <tbody>\n",
       "    <tr>\n",
       "      <th>0</th>\n",
       "      <td>0</td>\n",
       "      <td>0</td>\n",
       "      <td>1</td>\n",
       "      <td>0</td>\n",
       "    </tr>\n",
       "    <tr>\n",
       "      <th>1</th>\n",
       "      <td>1</td>\n",
       "      <td>0</td>\n",
       "      <td>1</td>\n",
       "      <td>0</td>\n",
       "    </tr>\n",
       "    <tr>\n",
       "      <th>2</th>\n",
       "      <td>2</td>\n",
       "      <td>1</td>\n",
       "      <td>0</td>\n",
       "      <td>0</td>\n",
       "    </tr>\n",
       "    <tr>\n",
       "      <th>3</th>\n",
       "      <td>3</td>\n",
       "      <td>0</td>\n",
       "      <td>0</td>\n",
       "      <td>1</td>\n",
       "    </tr>\n",
       "    <tr>\n",
       "      <th>4</th>\n",
       "      <td>4</td>\n",
       "      <td>1</td>\n",
       "      <td>0</td>\n",
       "      <td>0</td>\n",
       "    </tr>\n",
       "    <tr>\n",
       "      <th>5</th>\n",
       "      <td>5</td>\n",
       "      <td>0</td>\n",
       "      <td>1</td>\n",
       "      <td>0</td>\n",
       "    </tr>\n",
       "  </tbody>\n",
       "</table>\n",
       "</div>"
      ],
      "text/plain": [
       "   data1  key_a  key_b  key_c\n",
       "0      0      0      1      0\n",
       "1      1      0      1      0\n",
       "2      2      1      0      0\n",
       "3      3      0      0      1\n",
       "4      4      1      0      0\n",
       "5      5      0      1      0"
      ]
     },
     "execution_count": 30,
     "metadata": {},
     "output_type": "execute_result"
    }
   ],
   "source": [
    "df[['data1']].join(dummies)"
   ]
  },
  {
   "cell_type": "markdown",
   "metadata": {},
   "source": [
    "---\n",
    "\n",
    "Uso de **Dummies** para transformar valores flutuantes em categorias binárias, com **fatiamento**:"
   ]
  },
  {
   "cell_type": "code",
   "execution_count": 31,
   "metadata": {},
   "outputs": [
    {
     "data": {
      "text/plain": [
       "array([-0.21481769, -1.85545031, -0.26206971,  0.77753025,  1.28482469,\n",
       "       -1.15334782, -0.76410304,  1.10719509, -0.68436061,  0.50548142])"
      ]
     },
     "execution_count": 31,
     "metadata": {},
     "output_type": "execute_result"
    }
   ],
   "source": [
    "values = np.random.randn(10)\n",
    "values"
   ]
  },
  {
   "cell_type": "code",
   "execution_count": 32,
   "metadata": {},
   "outputs": [
    {
     "data": {
      "text/html": [
       "<div>\n",
       "<style scoped>\n",
       "    .dataframe tbody tr th:only-of-type {\n",
       "        vertical-align: middle;\n",
       "    }\n",
       "\n",
       "    .dataframe tbody tr th {\n",
       "        vertical-align: top;\n",
       "    }\n",
       "\n",
       "    .dataframe thead th {\n",
       "        text-align: right;\n",
       "    }\n",
       "</style>\n",
       "<table border=\"1\" class=\"dataframe\">\n",
       "  <thead>\n",
       "    <tr style=\"text-align: right;\">\n",
       "      <th></th>\n",
       "      <th>(0.0, 0.2]</th>\n",
       "      <th>(0.2, 0.4]</th>\n",
       "      <th>(0.4, 0.6]</th>\n",
       "      <th>(0.6, 0.8]</th>\n",
       "      <th>(0.8, 1.0]</th>\n",
       "    </tr>\n",
       "  </thead>\n",
       "  <tbody>\n",
       "    <tr>\n",
       "      <th>0</th>\n",
       "      <td>0</td>\n",
       "      <td>0</td>\n",
       "      <td>0</td>\n",
       "      <td>0</td>\n",
       "      <td>0</td>\n",
       "    </tr>\n",
       "    <tr>\n",
       "      <th>1</th>\n",
       "      <td>0</td>\n",
       "      <td>0</td>\n",
       "      <td>0</td>\n",
       "      <td>0</td>\n",
       "      <td>0</td>\n",
       "    </tr>\n",
       "    <tr>\n",
       "      <th>2</th>\n",
       "      <td>0</td>\n",
       "      <td>0</td>\n",
       "      <td>0</td>\n",
       "      <td>0</td>\n",
       "      <td>0</td>\n",
       "    </tr>\n",
       "    <tr>\n",
       "      <th>3</th>\n",
       "      <td>0</td>\n",
       "      <td>0</td>\n",
       "      <td>0</td>\n",
       "      <td>1</td>\n",
       "      <td>0</td>\n",
       "    </tr>\n",
       "    <tr>\n",
       "      <th>4</th>\n",
       "      <td>0</td>\n",
       "      <td>0</td>\n",
       "      <td>0</td>\n",
       "      <td>0</td>\n",
       "      <td>0</td>\n",
       "    </tr>\n",
       "    <tr>\n",
       "      <th>5</th>\n",
       "      <td>0</td>\n",
       "      <td>0</td>\n",
       "      <td>0</td>\n",
       "      <td>0</td>\n",
       "      <td>0</td>\n",
       "    </tr>\n",
       "    <tr>\n",
       "      <th>6</th>\n",
       "      <td>0</td>\n",
       "      <td>0</td>\n",
       "      <td>0</td>\n",
       "      <td>0</td>\n",
       "      <td>0</td>\n",
       "    </tr>\n",
       "    <tr>\n",
       "      <th>7</th>\n",
       "      <td>0</td>\n",
       "      <td>0</td>\n",
       "      <td>0</td>\n",
       "      <td>0</td>\n",
       "      <td>0</td>\n",
       "    </tr>\n",
       "    <tr>\n",
       "      <th>8</th>\n",
       "      <td>0</td>\n",
       "      <td>0</td>\n",
       "      <td>0</td>\n",
       "      <td>0</td>\n",
       "      <td>0</td>\n",
       "    </tr>\n",
       "    <tr>\n",
       "      <th>9</th>\n",
       "      <td>0</td>\n",
       "      <td>0</td>\n",
       "      <td>1</td>\n",
       "      <td>0</td>\n",
       "      <td>0</td>\n",
       "    </tr>\n",
       "  </tbody>\n",
       "</table>\n",
       "</div>"
      ],
      "text/plain": [
       "   (0.0, 0.2]  (0.2, 0.4]  (0.4, 0.6]  (0.6, 0.8]  (0.8, 1.0]\n",
       "0           0           0           0           0           0\n",
       "1           0           0           0           0           0\n",
       "2           0           0           0           0           0\n",
       "3           0           0           0           1           0\n",
       "4           0           0           0           0           0\n",
       "5           0           0           0           0           0\n",
       "6           0           0           0           0           0\n",
       "7           0           0           0           0           0\n",
       "8           0           0           0           0           0\n",
       "9           0           0           1           0           0"
      ]
     },
     "execution_count": 32,
     "metadata": {},
     "output_type": "execute_result"
    }
   ],
   "source": [
    "bins = [0, 0.2, 0.4, 0.6, 0.8, 1]\n",
    "pd.get_dummies(pd.cut(values, bins))"
   ]
  },
  {
   "cell_type": "markdown",
   "metadata": {},
   "source": [
    "---\n",
    "\n",
    "Como **Dummies** pegam todo um dataframe, qualquer variável **categórica** pode ser transformada em uma matriz **Dummie**"
   ]
  },
  {
   "cell_type": "code",
   "execution_count": 47,
   "metadata": {},
   "outputs": [
    {
     "data": {
      "text/html": [
       "<div>\n",
       "<style scoped>\n",
       "    .dataframe tbody tr th:only-of-type {\n",
       "        vertical-align: middle;\n",
       "    }\n",
       "\n",
       "    .dataframe tbody tr th {\n",
       "        vertical-align: top;\n",
       "    }\n",
       "\n",
       "    .dataframe thead th {\n",
       "        text-align: right;\n",
       "    }\n",
       "</style>\n",
       "<table border=\"1\" class=\"dataframe\">\n",
       "  <thead>\n",
       "    <tr style=\"text-align: right;\">\n",
       "      <th></th>\n",
       "      <th>A</th>\n",
       "      <th>B</th>\n",
       "      <th>C</th>\n",
       "    </tr>\n",
       "  </thead>\n",
       "  <tbody>\n",
       "    <tr>\n",
       "      <th>0</th>\n",
       "      <td>a</td>\n",
       "      <td>c</td>\n",
       "      <td>1</td>\n",
       "    </tr>\n",
       "    <tr>\n",
       "      <th>1</th>\n",
       "      <td>b</td>\n",
       "      <td>c</td>\n",
       "      <td>2</td>\n",
       "    </tr>\n",
       "    <tr>\n",
       "      <th>2</th>\n",
       "      <td>a</td>\n",
       "      <td>b</td>\n",
       "      <td>3</td>\n",
       "    </tr>\n",
       "  </tbody>\n",
       "</table>\n",
       "</div>"
      ],
      "text/plain": [
       "   A  B  C\n",
       "0  a  c  1\n",
       "1  b  c  2\n",
       "2  a  b  3"
      ]
     },
     "execution_count": 47,
     "metadata": {},
     "output_type": "execute_result"
    }
   ],
   "source": [
    "df = pd.DataFrame({'A': ['a', 'b', 'a'], 'B': ['c', 'c', 'b'],\n",
    "                    'C': [1, 2, 3]})\n",
    "df"
   ]
  },
  {
   "cell_type": "code",
   "execution_count": 48,
   "metadata": {},
   "outputs": [
    {
     "data": {
      "text/html": [
       "<div>\n",
       "<style scoped>\n",
       "    .dataframe tbody tr th:only-of-type {\n",
       "        vertical-align: middle;\n",
       "    }\n",
       "\n",
       "    .dataframe tbody tr th {\n",
       "        vertical-align: top;\n",
       "    }\n",
       "\n",
       "    .dataframe thead th {\n",
       "        text-align: right;\n",
       "    }\n",
       "</style>\n",
       "<table border=\"1\" class=\"dataframe\">\n",
       "  <thead>\n",
       "    <tr style=\"text-align: right;\">\n",
       "      <th></th>\n",
       "      <th>C</th>\n",
       "      <th>A_a</th>\n",
       "      <th>A_b</th>\n",
       "      <th>B_b</th>\n",
       "      <th>B_c</th>\n",
       "    </tr>\n",
       "  </thead>\n",
       "  <tbody>\n",
       "    <tr>\n",
       "      <th>0</th>\n",
       "      <td>1</td>\n",
       "      <td>1</td>\n",
       "      <td>0</td>\n",
       "      <td>0</td>\n",
       "      <td>1</td>\n",
       "    </tr>\n",
       "    <tr>\n",
       "      <th>1</th>\n",
       "      <td>2</td>\n",
       "      <td>0</td>\n",
       "      <td>1</td>\n",
       "      <td>0</td>\n",
       "      <td>1</td>\n",
       "    </tr>\n",
       "    <tr>\n",
       "      <th>2</th>\n",
       "      <td>3</td>\n",
       "      <td>1</td>\n",
       "      <td>0</td>\n",
       "      <td>1</td>\n",
       "      <td>0</td>\n",
       "    </tr>\n",
       "  </tbody>\n",
       "</table>\n",
       "</div>"
      ],
      "text/plain": [
       "   C  A_a  A_b  B_b  B_c\n",
       "0  1    1    0    0    1\n",
       "1  2    0    1    0    1\n",
       "2  3    1    0    1    0"
      ]
     },
     "execution_count": 48,
     "metadata": {},
     "output_type": "execute_result"
    }
   ],
   "source": [
    "pd.get_dummies(df)"
   ]
  },
  {
   "cell_type": "markdown",
   "metadata": {},
   "source": [
    "Aqui eu transformo **apenas** a coluna A em **Dummie**\n",
    "\n",
    "O método **Drop** também pode ser usado para não incluir por exemplo a coluna B"
   ]
  },
  {
   "cell_type": "code",
   "execution_count": 34,
   "metadata": {},
   "outputs": [
    {
     "data": {
      "text/html": [
       "<div>\n",
       "<style scoped>\n",
       "    .dataframe tbody tr th:only-of-type {\n",
       "        vertical-align: middle;\n",
       "    }\n",
       "\n",
       "    .dataframe tbody tr th {\n",
       "        vertical-align: top;\n",
       "    }\n",
       "\n",
       "    .dataframe thead th {\n",
       "        text-align: right;\n",
       "    }\n",
       "</style>\n",
       "<table border=\"1\" class=\"dataframe\">\n",
       "  <thead>\n",
       "    <tr style=\"text-align: right;\">\n",
       "      <th></th>\n",
       "      <th>B</th>\n",
       "      <th>C</th>\n",
       "      <th>A_a</th>\n",
       "      <th>A_b</th>\n",
       "    </tr>\n",
       "  </thead>\n",
       "  <tbody>\n",
       "    <tr>\n",
       "      <th>0</th>\n",
       "      <td>c</td>\n",
       "      <td>1</td>\n",
       "      <td>1</td>\n",
       "      <td>0</td>\n",
       "    </tr>\n",
       "    <tr>\n",
       "      <th>1</th>\n",
       "      <td>c</td>\n",
       "      <td>2</td>\n",
       "      <td>0</td>\n",
       "      <td>1</td>\n",
       "    </tr>\n",
       "    <tr>\n",
       "      <th>2</th>\n",
       "      <td>b</td>\n",
       "      <td>3</td>\n",
       "      <td>1</td>\n",
       "      <td>0</td>\n",
       "    </tr>\n",
       "  </tbody>\n",
       "</table>\n",
       "</div>"
      ],
      "text/plain": [
       "   B  C  A_a  A_b\n",
       "0  c  1    1    0\n",
       "1  c  2    0    1\n",
       "2  b  3    1    0"
      ]
     },
     "execution_count": 34,
     "metadata": {},
     "output_type": "execute_result"
    }
   ],
   "source": [
    "pd.get_dummies(df, columns=['A'])"
   ]
  },
  {
   "cell_type": "markdown",
   "metadata": {},
   "source": [
    "---\n",
    "Como nas **Series** eu posso passar valores para **prefix** e **prefix_sep**:\n",
    "\n",
    "- caso **string**, o mesmo valor para **prefix** e **prefix_sep** para cada coluna codificada\n",
    "\n",
    "- **lista**, mesmo comprimento, pois o número de colunas será codificado\n",
    "\n",
    "- **dict**, mapeia o **nome da coluna** ao prefixo"
   ]
  },
  {
   "cell_type": "code",
   "execution_count": 35,
   "metadata": {},
   "outputs": [
    {
     "data": {
      "text/html": [
       "<div>\n",
       "<style scoped>\n",
       "    .dataframe tbody tr th:only-of-type {\n",
       "        vertical-align: middle;\n",
       "    }\n",
       "\n",
       "    .dataframe tbody tr th {\n",
       "        vertical-align: top;\n",
       "    }\n",
       "\n",
       "    .dataframe thead th {\n",
       "        text-align: right;\n",
       "    }\n",
       "</style>\n",
       "<table border=\"1\" class=\"dataframe\">\n",
       "  <thead>\n",
       "    <tr style=\"text-align: right;\">\n",
       "      <th></th>\n",
       "      <th>C</th>\n",
       "      <th>new_prefix_a</th>\n",
       "      <th>new_prefix_b</th>\n",
       "      <th>new_prefix_b</th>\n",
       "      <th>new_prefix_c</th>\n",
       "    </tr>\n",
       "  </thead>\n",
       "  <tbody>\n",
       "    <tr>\n",
       "      <th>0</th>\n",
       "      <td>1</td>\n",
       "      <td>1</td>\n",
       "      <td>0</td>\n",
       "      <td>0</td>\n",
       "      <td>1</td>\n",
       "    </tr>\n",
       "    <tr>\n",
       "      <th>1</th>\n",
       "      <td>2</td>\n",
       "      <td>0</td>\n",
       "      <td>1</td>\n",
       "      <td>0</td>\n",
       "      <td>1</td>\n",
       "    </tr>\n",
       "    <tr>\n",
       "      <th>2</th>\n",
       "      <td>3</td>\n",
       "      <td>1</td>\n",
       "      <td>0</td>\n",
       "      <td>1</td>\n",
       "      <td>0</td>\n",
       "    </tr>\n",
       "  </tbody>\n",
       "</table>\n",
       "</div>"
      ],
      "text/plain": [
       "   C  new_prefix_a  new_prefix_b  new_prefix_b  new_prefix_c\n",
       "0  1             1             0             0             1\n",
       "1  2             0             1             0             1\n",
       "2  3             1             0             1             0"
      ]
     },
     "execution_count": 35,
     "metadata": {},
     "output_type": "execute_result"
    }
   ],
   "source": [
    "simple = pd.get_dummies(df, prefix='new_prefix')\n",
    "simple"
   ]
  },
  {
   "cell_type": "code",
   "execution_count": 37,
   "metadata": {},
   "outputs": [
    {
     "data": {
      "text/html": [
       "<div>\n",
       "<style scoped>\n",
       "    .dataframe tbody tr th:only-of-type {\n",
       "        vertical-align: middle;\n",
       "    }\n",
       "\n",
       "    .dataframe tbody tr th {\n",
       "        vertical-align: top;\n",
       "    }\n",
       "\n",
       "    .dataframe thead th {\n",
       "        text-align: right;\n",
       "    }\n",
       "</style>\n",
       "<table border=\"1\" class=\"dataframe\">\n",
       "  <thead>\n",
       "    <tr style=\"text-align: right;\">\n",
       "      <th></th>\n",
       "      <th>C</th>\n",
       "      <th>from_A_a</th>\n",
       "      <th>from_A_b</th>\n",
       "      <th>from_B_b</th>\n",
       "      <th>from_B_c</th>\n",
       "    </tr>\n",
       "  </thead>\n",
       "  <tbody>\n",
       "    <tr>\n",
       "      <th>0</th>\n",
       "      <td>1</td>\n",
       "      <td>1</td>\n",
       "      <td>0</td>\n",
       "      <td>0</td>\n",
       "      <td>1</td>\n",
       "    </tr>\n",
       "    <tr>\n",
       "      <th>1</th>\n",
       "      <td>2</td>\n",
       "      <td>0</td>\n",
       "      <td>1</td>\n",
       "      <td>0</td>\n",
       "      <td>1</td>\n",
       "    </tr>\n",
       "    <tr>\n",
       "      <th>2</th>\n",
       "      <td>3</td>\n",
       "      <td>1</td>\n",
       "      <td>0</td>\n",
       "      <td>1</td>\n",
       "      <td>0</td>\n",
       "    </tr>\n",
       "  </tbody>\n",
       "</table>\n",
       "</div>"
      ],
      "text/plain": [
       "   C  from_A_a  from_A_b  from_B_b  from_B_c\n",
       "0  1         1         0         0         1\n",
       "1  2         0         1         0         1\n",
       "2  3         1         0         1         0"
      ]
     },
     "execution_count": 37,
     "metadata": {},
     "output_type": "execute_result"
    }
   ],
   "source": [
    "from_list = pd.get_dummies(df, prefix=['from_A', 'from_B'])\n",
    "from_list"
   ]
  },
  {
   "cell_type": "code",
   "execution_count": 38,
   "metadata": {},
   "outputs": [
    {
     "data": {
      "text/html": [
       "<div>\n",
       "<style scoped>\n",
       "    .dataframe tbody tr th:only-of-type {\n",
       "        vertical-align: middle;\n",
       "    }\n",
       "\n",
       "    .dataframe tbody tr th {\n",
       "        vertical-align: top;\n",
       "    }\n",
       "\n",
       "    .dataframe thead th {\n",
       "        text-align: right;\n",
       "    }\n",
       "</style>\n",
       "<table border=\"1\" class=\"dataframe\">\n",
       "  <thead>\n",
       "    <tr style=\"text-align: right;\">\n",
       "      <th></th>\n",
       "      <th>C</th>\n",
       "      <th>from_A_a</th>\n",
       "      <th>from_A_b</th>\n",
       "      <th>from_B_b</th>\n",
       "      <th>from_B_c</th>\n",
       "    </tr>\n",
       "  </thead>\n",
       "  <tbody>\n",
       "    <tr>\n",
       "      <th>0</th>\n",
       "      <td>1</td>\n",
       "      <td>1</td>\n",
       "      <td>0</td>\n",
       "      <td>0</td>\n",
       "      <td>1</td>\n",
       "    </tr>\n",
       "    <tr>\n",
       "      <th>1</th>\n",
       "      <td>2</td>\n",
       "      <td>0</td>\n",
       "      <td>1</td>\n",
       "      <td>0</td>\n",
       "      <td>1</td>\n",
       "    </tr>\n",
       "    <tr>\n",
       "      <th>2</th>\n",
       "      <td>3</td>\n",
       "      <td>1</td>\n",
       "      <td>0</td>\n",
       "      <td>1</td>\n",
       "      <td>0</td>\n",
       "    </tr>\n",
       "  </tbody>\n",
       "</table>\n",
       "</div>"
      ],
      "text/plain": [
       "   C  from_A_a  from_A_b  from_B_b  from_B_c\n",
       "0  1         1         0         0         1\n",
       "1  2         0         1         0         1\n",
       "2  3         1         0         1         0"
      ]
     },
     "execution_count": 38,
     "metadata": {},
     "output_type": "execute_result"
    }
   ],
   "source": [
    "from_dict = pd.get_dummies(df, prefix={'B': 'from_B', 'A': 'from_A'})\n",
    "from_dict"
   ]
  },
  {
   "cell_type": "markdown",
   "metadata": {},
   "source": [
    "---\n",
    "\n",
    "Às vezes você precisa evitar **colinearidade** quando for alimentar modelos estatísticos\n",
    "\n",
    "Então você quer manter níveis de uma variável categórica em **k-1**"
   ]
  },
  {
   "cell_type": "code",
   "execution_count": 39,
   "metadata": {},
   "outputs": [
    {
     "data": {
      "text/html": [
       "<div>\n",
       "<style scoped>\n",
       "    .dataframe tbody tr th:only-of-type {\n",
       "        vertical-align: middle;\n",
       "    }\n",
       "\n",
       "    .dataframe tbody tr th {\n",
       "        vertical-align: top;\n",
       "    }\n",
       "\n",
       "    .dataframe thead th {\n",
       "        text-align: right;\n",
       "    }\n",
       "</style>\n",
       "<table border=\"1\" class=\"dataframe\">\n",
       "  <thead>\n",
       "    <tr style=\"text-align: right;\">\n",
       "      <th></th>\n",
       "      <th>a</th>\n",
       "      <th>b</th>\n",
       "      <th>c</th>\n",
       "    </tr>\n",
       "  </thead>\n",
       "  <tbody>\n",
       "    <tr>\n",
       "      <th>0</th>\n",
       "      <td>1</td>\n",
       "      <td>0</td>\n",
       "      <td>0</td>\n",
       "    </tr>\n",
       "    <tr>\n",
       "      <th>1</th>\n",
       "      <td>0</td>\n",
       "      <td>1</td>\n",
       "      <td>0</td>\n",
       "    </tr>\n",
       "    <tr>\n",
       "      <th>2</th>\n",
       "      <td>0</td>\n",
       "      <td>0</td>\n",
       "      <td>1</td>\n",
       "    </tr>\n",
       "    <tr>\n",
       "      <th>3</th>\n",
       "      <td>1</td>\n",
       "      <td>0</td>\n",
       "      <td>0</td>\n",
       "    </tr>\n",
       "    <tr>\n",
       "      <th>4</th>\n",
       "      <td>1</td>\n",
       "      <td>0</td>\n",
       "      <td>0</td>\n",
       "    </tr>\n",
       "  </tbody>\n",
       "</table>\n",
       "</div>"
      ],
      "text/plain": [
       "   a  b  c\n",
       "0  1  0  0\n",
       "1  0  1  0\n",
       "2  0  0  1\n",
       "3  1  0  0\n",
       "4  1  0  0"
      ]
     },
     "execution_count": 39,
     "metadata": {},
     "output_type": "execute_result"
    }
   ],
   "source": [
    "s = pd.Series(list('abcaa'))\n",
    "pd.get_dummies(s)"
   ]
  },
  {
   "cell_type": "code",
   "execution_count": 40,
   "metadata": {},
   "outputs": [
    {
     "data": {
      "text/html": [
       "<div>\n",
       "<style scoped>\n",
       "    .dataframe tbody tr th:only-of-type {\n",
       "        vertical-align: middle;\n",
       "    }\n",
       "\n",
       "    .dataframe tbody tr th {\n",
       "        vertical-align: top;\n",
       "    }\n",
       "\n",
       "    .dataframe thead th {\n",
       "        text-align: right;\n",
       "    }\n",
       "</style>\n",
       "<table border=\"1\" class=\"dataframe\">\n",
       "  <thead>\n",
       "    <tr style=\"text-align: right;\">\n",
       "      <th></th>\n",
       "      <th>b</th>\n",
       "      <th>c</th>\n",
       "    </tr>\n",
       "  </thead>\n",
       "  <tbody>\n",
       "    <tr>\n",
       "      <th>0</th>\n",
       "      <td>0</td>\n",
       "      <td>0</td>\n",
       "    </tr>\n",
       "    <tr>\n",
       "      <th>1</th>\n",
       "      <td>1</td>\n",
       "      <td>0</td>\n",
       "    </tr>\n",
       "    <tr>\n",
       "      <th>2</th>\n",
       "      <td>0</td>\n",
       "      <td>1</td>\n",
       "    </tr>\n",
       "    <tr>\n",
       "      <th>3</th>\n",
       "      <td>0</td>\n",
       "      <td>0</td>\n",
       "    </tr>\n",
       "    <tr>\n",
       "      <th>4</th>\n",
       "      <td>0</td>\n",
       "      <td>0</td>\n",
       "    </tr>\n",
       "  </tbody>\n",
       "</table>\n",
       "</div>"
      ],
      "text/plain": [
       "   b  c\n",
       "0  0  0\n",
       "1  1  0\n",
       "2  0  1\n",
       "3  0  0\n",
       "4  0  0"
      ]
     },
     "execution_count": 40,
     "metadata": {},
     "output_type": "execute_result"
    }
   ],
   "source": [
    "pd.get_dummies(s, drop_first=True)"
   ]
  },
  {
   "cell_type": "markdown",
   "metadata": {},
   "source": [
    "E ainda, uma coluna que contiver apenas **um nível** será omitida do resultado"
   ]
  },
  {
   "cell_type": "code",
   "execution_count": 41,
   "metadata": {},
   "outputs": [
    {
     "data": {
      "text/html": [
       "<div>\n",
       "<style scoped>\n",
       "    .dataframe tbody tr th:only-of-type {\n",
       "        vertical-align: middle;\n",
       "    }\n",
       "\n",
       "    .dataframe tbody tr th {\n",
       "        vertical-align: top;\n",
       "    }\n",
       "\n",
       "    .dataframe thead th {\n",
       "        text-align: right;\n",
       "    }\n",
       "</style>\n",
       "<table border=\"1\" class=\"dataframe\">\n",
       "  <thead>\n",
       "    <tr style=\"text-align: right;\">\n",
       "      <th></th>\n",
       "      <th>A_a</th>\n",
       "      <th>B_a</th>\n",
       "      <th>B_b</th>\n",
       "      <th>B_c</th>\n",
       "    </tr>\n",
       "  </thead>\n",
       "  <tbody>\n",
       "    <tr>\n",
       "      <th>0</th>\n",
       "      <td>1</td>\n",
       "      <td>1</td>\n",
       "      <td>0</td>\n",
       "      <td>0</td>\n",
       "    </tr>\n",
       "    <tr>\n",
       "      <th>1</th>\n",
       "      <td>1</td>\n",
       "      <td>0</td>\n",
       "      <td>1</td>\n",
       "      <td>0</td>\n",
       "    </tr>\n",
       "    <tr>\n",
       "      <th>2</th>\n",
       "      <td>1</td>\n",
       "      <td>1</td>\n",
       "      <td>0</td>\n",
       "      <td>0</td>\n",
       "    </tr>\n",
       "    <tr>\n",
       "      <th>3</th>\n",
       "      <td>1</td>\n",
       "      <td>0</td>\n",
       "      <td>1</td>\n",
       "      <td>0</td>\n",
       "    </tr>\n",
       "    <tr>\n",
       "      <th>4</th>\n",
       "      <td>1</td>\n",
       "      <td>0</td>\n",
       "      <td>0</td>\n",
       "      <td>1</td>\n",
       "    </tr>\n",
       "  </tbody>\n",
       "</table>\n",
       "</div>"
      ],
      "text/plain": [
       "   A_a  B_a  B_b  B_c\n",
       "0    1    1    0    0\n",
       "1    1    0    1    0\n",
       "2    1    1    0    0\n",
       "3    1    0    1    0\n",
       "4    1    0    0    1"
      ]
     },
     "execution_count": 41,
     "metadata": {},
     "output_type": "execute_result"
    }
   ],
   "source": [
    "df = pd.DataFrame({'A':list('aaaaa'),'B':list('ababc')})\n",
    "pd.get_dummies(df)"
   ]
  },
  {
   "cell_type": "code",
   "execution_count": 42,
   "metadata": {},
   "outputs": [
    {
     "data": {
      "text/html": [
       "<div>\n",
       "<style scoped>\n",
       "    .dataframe tbody tr th:only-of-type {\n",
       "        vertical-align: middle;\n",
       "    }\n",
       "\n",
       "    .dataframe tbody tr th {\n",
       "        vertical-align: top;\n",
       "    }\n",
       "\n",
       "    .dataframe thead th {\n",
       "        text-align: right;\n",
       "    }\n",
       "</style>\n",
       "<table border=\"1\" class=\"dataframe\">\n",
       "  <thead>\n",
       "    <tr style=\"text-align: right;\">\n",
       "      <th></th>\n",
       "      <th>B_b</th>\n",
       "      <th>B_c</th>\n",
       "    </tr>\n",
       "  </thead>\n",
       "  <tbody>\n",
       "    <tr>\n",
       "      <th>0</th>\n",
       "      <td>0</td>\n",
       "      <td>0</td>\n",
       "    </tr>\n",
       "    <tr>\n",
       "      <th>1</th>\n",
       "      <td>1</td>\n",
       "      <td>0</td>\n",
       "    </tr>\n",
       "    <tr>\n",
       "      <th>2</th>\n",
       "      <td>0</td>\n",
       "      <td>0</td>\n",
       "    </tr>\n",
       "    <tr>\n",
       "      <th>3</th>\n",
       "      <td>1</td>\n",
       "      <td>0</td>\n",
       "    </tr>\n",
       "    <tr>\n",
       "      <th>4</th>\n",
       "      <td>0</td>\n",
       "      <td>1</td>\n",
       "    </tr>\n",
       "  </tbody>\n",
       "</table>\n",
       "</div>"
      ],
      "text/plain": [
       "   B_b  B_c\n",
       "0    0    0\n",
       "1    1    0\n",
       "2    0    0\n",
       "3    1    0\n",
       "4    0    1"
      ]
     },
     "execution_count": 42,
     "metadata": {},
     "output_type": "execute_result"
    }
   ],
   "source": [
    "pd.get_dummies(df, drop_first=True)"
   ]
  },
  {
   "cell_type": "markdown",
   "metadata": {},
   "source": [
    "---\n",
    "\n",
    "O padrão de saída é **np.uint8**, mas isso pode ser mudado com o argumento **dtype**"
   ]
  },
  {
   "cell_type": "code",
   "execution_count": 43,
   "metadata": {},
   "outputs": [
    {
     "data": {
      "text/plain": [
       "B      float64\n",
       "A_a       bool\n",
       "A_b       bool\n",
       "A_c       bool\n",
       "dtype: object"
      ]
     },
     "execution_count": 43,
     "metadata": {},
     "output_type": "execute_result"
    }
   ],
   "source": [
    "df = pd.DataFrame({'A': list('abc'), 'B': [1.1, 2.2, 3.3]})\n",
    "pd.get_dummies(df, dtype=bool).dtypes"
   ]
  },
  {
   "cell_type": "markdown",
   "metadata": {},
   "source": [
    "### Fatorando Valores\n",
    "\n",
    "---\n",
    "\n",
    "Isso codifica o objeto como um **tipo enumerado**, ou uma **variável de categoria**\n",
    "\n",
    "Se eu quero identificar valores **distintos**, ele me dá uma representação numérica deles\n",
    "\n",
    "Note que o método **.factorize()** é similar ao **numpy.unique**, mas ele lida de modo diferente com valores **nulos**:\n",
    "\n",
    "- o valor nulo sempre será representado por **-1**\n",
    "\n",
    "- quando eu peço os valores **únicos**, o **NaN** não virá na lista"
   ]
  },
  {
   "cell_type": "code",
   "execution_count": 23,
   "metadata": {},
   "outputs": [
    {
     "data": {
      "text/plain": [
       "0       A\n",
       "1       A\n",
       "2     NaN\n",
       "3       B\n",
       "4    3.14\n",
       "5     inf\n",
       "dtype: object"
      ]
     },
     "execution_count": 23,
     "metadata": {},
     "output_type": "execute_result"
    }
   ],
   "source": [
    "x = pd.Series(['A', 'A', np.nan, 'B', 3.14, np.inf])\n",
    "x"
   ]
  },
  {
   "cell_type": "code",
   "execution_count": 24,
   "metadata": {},
   "outputs": [
    {
     "data": {
      "text/plain": [
       "array([ 0,  0, -1,  1,  2,  3], dtype=int64)"
      ]
     },
     "execution_count": 24,
     "metadata": {},
     "output_type": "execute_result"
    }
   ],
   "source": [
    "labels, uniques = pd.factorize(x)\n",
    "labels"
   ]
  },
  {
   "cell_type": "code",
   "execution_count": 25,
   "metadata": {},
   "outputs": [
    {
     "data": {
      "text/plain": [
       "Index(['A', 'B', 3.14, inf], dtype='object')"
      ]
     },
     "execution_count": 25,
     "metadata": {},
     "output_type": "execute_result"
    }
   ],
   "source": [
    "uniques"
   ]
  },
  {
   "cell_type": "markdown",
   "metadata": {},
   "source": [
    "## Tentativas de geração de dataframes com subníveis\n",
    "\n",
    "---"
   ]
  },
  {
   "cell_type": "markdown",
   "metadata": {},
   "source": [
    "![Figura: visão geral de um dataframe](base_01_pandas_5_0.png)"
   ]
  },
  {
   "cell_type": "markdown",
   "metadata": {},
   "source": [
    "*Subníveis são chamados de multiindex!*\n",
    "\n",
    "Quando eu faço como abaixo, eu não obtenho, a partir de um dicionário **aninhado** (nested), um dataframe **multiindex**:"
   ]
  },
  {
   "cell_type": "code",
   "execution_count": 64,
   "metadata": {},
   "outputs": [
    {
     "name": "stdout",
     "output_type": "stream",
     "text": [
      "{'A': [['1', '1b'], ['2', '2b'], ['3', '3b']], 'B': [['4', '4b'], ['5', '5b'], ['6', '6b']], 'C': [['7', '7b'], ['8', '8b'], ['9', '9b']]}\n"
     ]
    },
    {
     "data": {
      "text/html": [
       "<div>\n",
       "<style scoped>\n",
       "    .dataframe tbody tr th:only-of-type {\n",
       "        vertical-align: middle;\n",
       "    }\n",
       "\n",
       "    .dataframe tbody tr th {\n",
       "        vertical-align: top;\n",
       "    }\n",
       "\n",
       "    .dataframe thead th {\n",
       "        text-align: right;\n",
       "    }\n",
       "</style>\n",
       "<table border=\"1\" class=\"dataframe\">\n",
       "  <thead>\n",
       "    <tr style=\"text-align: right;\">\n",
       "      <th></th>\n",
       "      <th>A</th>\n",
       "      <th>B</th>\n",
       "      <th>C</th>\n",
       "    </tr>\n",
       "  </thead>\n",
       "  <tbody>\n",
       "    <tr>\n",
       "      <th>0</th>\n",
       "      <td>[1, 1b]</td>\n",
       "      <td>[4, 4b]</td>\n",
       "      <td>[7, 7b]</td>\n",
       "    </tr>\n",
       "    <tr>\n",
       "      <th>1</th>\n",
       "      <td>[2, 2b]</td>\n",
       "      <td>[5, 5b]</td>\n",
       "      <td>[8, 8b]</td>\n",
       "    </tr>\n",
       "    <tr>\n",
       "      <th>2</th>\n",
       "      <td>[3, 3b]</td>\n",
       "      <td>[6, 6b]</td>\n",
       "      <td>[9, 9b]</td>\n",
       "    </tr>\n",
       "  </tbody>\n",
       "</table>\n",
       "</div>"
      ],
      "text/plain": [
       "         A        B        C\n",
       "0  [1, 1b]  [4, 4b]  [7, 7b]\n",
       "1  [2, 2b]  [5, 5b]  [8, 8b]\n",
       "2  [3, 3b]  [6, 6b]  [9, 9b]"
      ]
     },
     "execution_count": 64,
     "metadata": {},
     "output_type": "execute_result"
    }
   ],
   "source": [
    "import pandas as pd\n",
    "# Take a dictionary as input to your DataFrame\n",
    "my_dict = {'A': [['1','1b'], ['2','2b'], ['3','3b']],\n",
    "           'B': [['4', '4b'], ['5','5b'], ['6','6b']], \n",
    "           'C': [['7','7b'], ['8','8b'], ['9','9b']]}\n",
    "print(my_dict)\n",
    "\n",
    "pd.DataFrame(my_dict)"
   ]
  },
  {
   "cell_type": "markdown",
   "metadata": {},
   "source": [
    "Outra tentativa, sem sucesso:"
   ]
  },
  {
   "cell_type": "code",
   "execution_count": 80,
   "metadata": {},
   "outputs": [
    {
     "name": "stdout",
     "output_type": "stream",
     "text": [
      "{'A': {'a': [1, 2, 3, 4, 5], 'b': [6, 7, 8, 9, 1]}, 'B': {'a': [2, 3, 4, 5, 6], 'b': [7, 8, 9, 1, 2]}}\n"
     ]
    },
    {
     "data": {
      "text/html": [
       "<div>\n",
       "<style scoped>\n",
       "    .dataframe tbody tr th:only-of-type {\n",
       "        vertical-align: middle;\n",
       "    }\n",
       "\n",
       "    .dataframe tbody tr th {\n",
       "        vertical-align: top;\n",
       "    }\n",
       "\n",
       "    .dataframe thead th {\n",
       "        text-align: right;\n",
       "    }\n",
       "</style>\n",
       "<table border=\"1\" class=\"dataframe\">\n",
       "  <thead>\n",
       "    <tr style=\"text-align: right;\">\n",
       "      <th></th>\n",
       "      <th>A</th>\n",
       "      <th>B</th>\n",
       "    </tr>\n",
       "  </thead>\n",
       "  <tbody>\n",
       "    <tr>\n",
       "      <th>a</th>\n",
       "      <td>[1, 2, 3, 4, 5]</td>\n",
       "      <td>[2, 3, 4, 5, 6]</td>\n",
       "    </tr>\n",
       "    <tr>\n",
       "      <th>b</th>\n",
       "      <td>[6, 7, 8, 9, 1]</td>\n",
       "      <td>[7, 8, 9, 1, 2]</td>\n",
       "    </tr>\n",
       "  </tbody>\n",
       "</table>\n",
       "</div>"
      ],
      "text/plain": [
       "                 A                B\n",
       "a  [1, 2, 3, 4, 5]  [2, 3, 4, 5, 6]\n",
       "b  [6, 7, 8, 9, 1]  [7, 8, 9, 1, 2]"
      ]
     },
     "execution_count": 80,
     "metadata": {},
     "output_type": "execute_result"
    }
   ],
   "source": [
    "dict = {'A' : {'a': [1,2,3,4,5],\n",
    "                     'b': [6,7,8,9,1]},\n",
    "              'B' : {'a': [2,3,4,5,6],\n",
    "                     'b': [7,8,9,1,2]}}\n",
    "print(dict)\n",
    "\n",
    "pd.DataFrame(dict)"
   ]
  },
  {
   "cell_type": "markdown",
   "metadata": {},
   "source": [
    "O problema é que o Pandas trabalha forma de **tuplas**\n",
    "\n",
    "         {('A', 'a'): [1, 2, 3, 4, 5],\n",
    "          ('A', 'b'): [6, 7, 8, 9, 1],\n",
    "          ('B', 'a'): [2, 3, 4, 5, 6],\n",
    "          ('B', 'b'): [7, 8, 9, 1, 2]}\n",
    "\n",
    "Ele não aceita valores para multiindexação como **dicionários aninhados**\n",
    "\n",
    "A maneira mais fácil é converter seu dicionário para o formato correto:"
   ]
  },
  {
   "cell_type": "code",
   "execution_count": 93,
   "metadata": {},
   "outputs": [
    {
     "name": "stdout",
     "output_type": "stream",
     "text": [
      "{('A', 'a'): [1, 2, 3, 4, 5], ('A', 'b'): [6, 7, 8, 9, 1], ('B', 'a'): [2, 3, 4, 5, 6], ('B', 'b'): [7, 8, 9, 1, 2]}\n"
     ]
    },
    {
     "data": {
      "text/html": [
       "<div>\n",
       "<style scoped>\n",
       "    .dataframe tbody tr th:only-of-type {\n",
       "        vertical-align: middle;\n",
       "    }\n",
       "\n",
       "    .dataframe tbody tr th {\n",
       "        vertical-align: top;\n",
       "    }\n",
       "\n",
       "    .dataframe thead tr th {\n",
       "        text-align: left;\n",
       "    }\n",
       "</style>\n",
       "<table border=\"1\" class=\"dataframe\">\n",
       "  <thead>\n",
       "    <tr>\n",
       "      <th></th>\n",
       "      <th colspan=\"2\" halign=\"left\">A</th>\n",
       "      <th colspan=\"2\" halign=\"left\">B</th>\n",
       "    </tr>\n",
       "    <tr>\n",
       "      <th></th>\n",
       "      <th>a</th>\n",
       "      <th>b</th>\n",
       "      <th>a</th>\n",
       "      <th>b</th>\n",
       "    </tr>\n",
       "  </thead>\n",
       "  <tbody>\n",
       "    <tr>\n",
       "      <th>0</th>\n",
       "      <td>1</td>\n",
       "      <td>6</td>\n",
       "      <td>2</td>\n",
       "      <td>7</td>\n",
       "    </tr>\n",
       "    <tr>\n",
       "      <th>1</th>\n",
       "      <td>2</td>\n",
       "      <td>7</td>\n",
       "      <td>3</td>\n",
       "      <td>8</td>\n",
       "    </tr>\n",
       "    <tr>\n",
       "      <th>2</th>\n",
       "      <td>3</td>\n",
       "      <td>8</td>\n",
       "      <td>4</td>\n",
       "      <td>9</td>\n",
       "    </tr>\n",
       "    <tr>\n",
       "      <th>3</th>\n",
       "      <td>4</td>\n",
       "      <td>9</td>\n",
       "      <td>5</td>\n",
       "      <td>1</td>\n",
       "    </tr>\n",
       "    <tr>\n",
       "      <th>4</th>\n",
       "      <td>5</td>\n",
       "      <td>1</td>\n",
       "      <td>6</td>\n",
       "      <td>2</td>\n",
       "    </tr>\n",
       "  </tbody>\n",
       "</table>\n",
       "</div>"
      ],
      "text/plain": [
       "   A     B   \n",
       "   a  b  a  b\n",
       "0  1  6  2  7\n",
       "1  2  7  3  8\n",
       "2  3  8  4  9\n",
       "3  4  9  5  1\n",
       "4  5  1  6  2"
      ]
     },
     "execution_count": 93,
     "metadata": {},
     "output_type": "execute_result"
    }
   ],
   "source": [
    "reforma = {(chaveExterna, chaveInterna): valores \n",
    "          for chaveExterna, dictInterno in dict.items() \n",
    "          for chaveInterna, valores in dictInterno.items()}\n",
    "print(reforma)\n",
    "pd.DataFrame(reforma)"
   ]
  },
  {
   "cell_type": "markdown",
   "metadata": {},
   "source": [
    "---"
   ]
  },
  {
   "cell_type": "markdown",
   "metadata": {},
   "source": [
    "### Passo a passo\n",
    "\n",
    "O loop parece complicado, pois é **duplo**\n",
    "\n",
    "A primeira parte o que faz é recuperar a chave **externa**\n",
    "\n",
    "É claro que isso não fará nada, pois a chave **externa** já está explícita\n",
    "\n",
    "**Primeiro Loop** (mais externo):\n"
   ]
  },
  {
   "cell_type": "code",
   "execution_count": 95,
   "metadata": {},
   "outputs": [
    {
     "name": "stdout",
     "output_type": "stream",
     "text": [
      "{'A': {'a': [1, 2, 3, 4, 5], 'b': [6, 7, 8, 9, 1]}, 'B': {'a': [2, 3, 4, 5, 6], 'b': [7, 8, 9, 1, 2]}}\n",
      "{'A': {'a': [1, 2, 3, 4, 5], 'b': [6, 7, 8, 9, 1]}, 'B': {'a': [2, 3, 4, 5, 6], 'b': [7, 8, 9, 1, 2]}}\n"
     ]
    },
    {
     "data": {
      "text/html": [
       "<div>\n",
       "<style scoped>\n",
       "    .dataframe tbody tr th:only-of-type {\n",
       "        vertical-align: middle;\n",
       "    }\n",
       "\n",
       "    .dataframe tbody tr th {\n",
       "        vertical-align: top;\n",
       "    }\n",
       "\n",
       "    .dataframe thead th {\n",
       "        text-align: right;\n",
       "    }\n",
       "</style>\n",
       "<table border=\"1\" class=\"dataframe\">\n",
       "  <thead>\n",
       "    <tr style=\"text-align: right;\">\n",
       "      <th></th>\n",
       "      <th>A</th>\n",
       "      <th>B</th>\n",
       "    </tr>\n",
       "  </thead>\n",
       "  <tbody>\n",
       "    <tr>\n",
       "      <th>a</th>\n",
       "      <td>[1, 2, 3, 4, 5]</td>\n",
       "      <td>[2, 3, 4, 5, 6]</td>\n",
       "    </tr>\n",
       "    <tr>\n",
       "      <th>b</th>\n",
       "      <td>[6, 7, 8, 9, 1]</td>\n",
       "      <td>[7, 8, 9, 1, 2]</td>\n",
       "    </tr>\n",
       "  </tbody>\n",
       "</table>\n",
       "</div>"
      ],
      "text/plain": [
       "                 A                B\n",
       "a  [1, 2, 3, 4, 5]  [2, 3, 4, 5, 6]\n",
       "b  [6, 7, 8, 9, 1]  [7, 8, 9, 1, 2]"
      ]
     },
     "execution_count": 95,
     "metadata": {},
     "output_type": "execute_result"
    }
   ],
   "source": [
    "print(dict)\n",
    "reforma = {(chaveExterna): valores \n",
    "          for chaveExterna, valores in dict.items() \n",
    "          }\n",
    "print(reforma)\n",
    "pd.DataFrame(reforma)"
   ]
  },
  {
   "cell_type": "markdown",
   "metadata": {},
   "source": [
    "O método **.items()** do Python quebra o dicionário\n",
    "\n",
    "Ele retorna tuplas de dois elementos:\n",
    "\n",
    "- o primeiro é a **chave**\n",
    "\n",
    "- o segundo é o **conteúdo**, que pode ser um elemento, uma lista ou até um outro dicionário aninhado \n",
    "\n",
    "O exemplo ilustra isso:"
   ]
  },
  {
   "cell_type": "code",
   "execution_count": 100,
   "metadata": {},
   "outputs": [
    {
     "data": {
      "text/plain": [
       "dict_items([('a', [1, 2, 3, 4, 5]), ('b', [6, 7, 8, 9, 1]), ('c', [6, 5, 4, 2, 1])])"
      ]
     },
     "execution_count": 100,
     "metadata": {},
     "output_type": "execute_result"
    }
   ],
   "source": [
    "dic = {'a': [1,2,3,4,5], 'b': [6,7,8,9,1], 'c': [6,5,4,2,1]}\n",
    "dic.items()"
   ]
  },
  {
   "cell_type": "markdown",
   "metadata": {},
   "source": [
    "Então, o Loop de extração da chave **externa** e do seu **conteúdo**:"
   ]
  },
  {
   "cell_type": "code",
   "execution_count": 98,
   "metadata": {},
   "outputs": [
    {
     "name": "stdout",
     "output_type": "stream",
     "text": [
      "Chave Externa :A, valores :{'a': [1, 2, 3, 4, 5], 'b': [6, 7, 8, 9, 1]}\n",
      "Chave Externa :B, valores :{'a': [2, 3, 4, 5, 6], 'b': [7, 8, 9, 1, 2]}\n"
     ]
    }
   ],
   "source": [
    "for chaveExterna, valores in dict.items():\n",
    "    print ('Chave Externa :{}, valores :{}'.format(chaveExterna, valores))"
   ]
  },
  {
   "cell_type": "markdown",
   "metadata": {},
   "source": [
    "Aprimorando, o Loop de extração da chave **externa** e depois o Loop da chave **interna** e seu **conteúdo**:\n",
    "    "
   ]
  },
  {
   "cell_type": "code",
   "execution_count": 139,
   "metadata": {},
   "outputs": [
    {
     "name": "stdout",
     "output_type": "stream",
     "text": [
      "Chave Externa :A, valores :{'a': [1, 2, 3, 4, 5], 'b': [6, 7, 8, 9, 1]}\n",
      "    Chave Interna :a, valores :[1, 2, 3, 4, 5]\n",
      "1\n",
      "    Chave Interna :b, valores :[6, 7, 8, 9, 1]\n",
      "6\n",
      "Chave Externa :B, valores :{'a': [2, 3, 4, 5, 6], 'b': [7, 8, 9, 1, 2]}\n",
      "    Chave Interna :a, valores :[2, 3, 4, 5, 6]\n",
      "2\n",
      "    Chave Interna :b, valores :[7, 8, 9, 1, 2]\n",
      "7\n"
     ]
    }
   ],
   "source": [
    "for chaveExterna, valores in dict.items():\n",
    "    print ('Chave Externa :{}, valores :{}'.format(chaveExterna, valores))\n",
    "    dictInterno = valores\n",
    "    for chaveInterna, valores in dictInterno.items():\n",
    "        print('    Chave Interna :{}, valores :{}'.format(chaveInterna, valores))"
   ]
  },
  {
   "cell_type": "markdown",
   "metadata": {},
   "source": [
    "Sintaxe **básica** do dicionário:"
   ]
  },
  {
   "cell_type": "code",
   "execution_count": 3,
   "metadata": {},
   "outputs": [
    {
     "name": "stdout",
     "output_type": "stream",
     "text": [
      "{'a': 'teste'}\n"
     ]
    },
    {
     "data": {
      "text/plain": [
       "'teste'"
      ]
     },
     "execution_count": 3,
     "metadata": {},
     "output_type": "execute_result"
    }
   ],
   "source": [
    "reforma = {}\n",
    "reforma [\"a\"] = \"teste\"\n",
    "print(reforma)\n",
    "reforma[\"a\"]"
   ]
  },
  {
   "cell_type": "markdown",
   "metadata": {},
   "source": [
    "A sintaxe como a desejamos (chave **dupla**)\n",
    "\n",
    "Note que para chamar uma entrada no meu dicionário, eu preciso passar a chave dupla!"
   ]
  },
  {
   "cell_type": "code",
   "execution_count": 7,
   "metadata": {},
   "outputs": [
    {
     "name": "stdout",
     "output_type": "stream",
     "text": [
      "{('A', 'a'): [1, 2, 3, 4, 5]}\n"
     ]
    },
    {
     "data": {
      "text/plain": [
       "[1, 2, 3, 4, 5]"
      ]
     },
     "execution_count": 7,
     "metadata": {},
     "output_type": "execute_result"
    }
   ],
   "source": [
    "reforma = {}\n",
    "# [(chaveExterna, chaveInterna)] = valores\n",
    "reforma [('A', 'a')] = [1, 2, 3, 4, 5]\n",
    "print(reforma)\n",
    "reforma['A','a']"
   ]
  },
  {
   "cell_type": "markdown",
   "metadata": {},
   "source": [
    "Nosso loop da forma **aberta**"
   ]
  },
  {
   "cell_type": "code",
   "execution_count": 134,
   "metadata": {},
   "outputs": [
    {
     "data": {
      "text/plain": [
       "{('A', 'a'): [1, 2, 3, 4, 5],\n",
       " ('A', 'b'): [6, 7, 8, 9, 1],\n",
       " ('B', 'a'): [2, 3, 4, 5, 6],\n",
       " ('B', 'b'): [7, 8, 9, 1, 2]}"
      ]
     },
     "execution_count": 134,
     "metadata": {},
     "output_type": "execute_result"
    }
   ],
   "source": [
    "reforma = {}\n",
    "\n",
    "for chaveExterna, valores in dict.items():\n",
    "    dictInterno = valores\n",
    "    for chaveInterna, valores in dictInterno.items():\n",
    "        reforma [(chaveExterna, chaveInterna)] = valores\n",
    "reforma"
   ]
  },
  {
   "cell_type": "markdown",
   "metadata": {},
   "source": [
    "Agora na forma **pythonizada**\n",
    "\n",
    "O que muda é que **primeiro** vem o resultado da função, **depois** os dois loops aninhados\n",
    "\n",
    "As duas maneiras de programar são adequadas. O importante é **endender** o que cada função faz!\n",
    "\n",
    "Se eu tiver que acrescentar muitos e muitos laços, basta uma alteração no algoritmo e *voilà*!"
   ]
  },
  {
   "cell_type": "code",
   "execution_count": 105,
   "metadata": {},
   "outputs": [
    {
     "data": {
      "text/plain": [
       "{('A', 'a'): [1, 2, 3, 4, 5],\n",
       " ('A', 'b'): [6, 7, 8, 9, 1],\n",
       " ('B', 'a'): [2, 3, 4, 5, 6],\n",
       " ('B', 'b'): [7, 8, 9, 1, 2]}"
      ]
     },
     "execution_count": 105,
     "metadata": {},
     "output_type": "execute_result"
    }
   ],
   "source": [
    "reforma = {(chaveExterna, chaveInterna): valores \n",
    "          for chaveExterna, dictInterno in dict.items() \n",
    "          for chaveInterna, valores in dictInterno.items()}\n",
    "reforma"
   ]
  },
  {
   "cell_type": "markdown",
   "metadata": {},
   "source": [
    "### Testes mais difíceis envolvendo dataframe multinível\n",
    "\n",
    "---\n",
    "\n",
    "Este aqui é um dicionário **monstrossauro**\n",
    "\n",
    "Por que treinar com **dicionários**?\n",
    "\n",
    "Porque para dados científicos, existem diversas maneiras de armazenar dados... a tradicional, que vem lá do **FORTRAN** são **Tuplas**, **Pilhas** e **Listas**\n",
    "\n",
    "Depois vieram **Matrizes** e algumas Listas passaram a ser **Indexadas**\n",
    "\n",
    "Mas nada supera, para uma boa cata de dados, um **Dicionário**\n",
    "\n",
    "Em cálculos matemáticos, é comum criar um **Cache** na forma de **Dicionário**. Funciona assim, antes de se tentar resolver uma função, procura-se no dicionário se aquela função para aqueles parâmetros já foi resolvida. Se já foi resolvida, simplesmente se pega o resultado já calculado. Se ainda não foi resolvida, se calcula e se grava no dicionário. Em alguns casos, isso pode diminuir tremendamente o esforço computacional"
   ]
  },
  {
   "cell_type": "code",
   "execution_count": 117,
   "metadata": {},
   "outputs": [
    {
     "data": {
      "text/plain": [
       "{'A1': {'B1': {'C1': ['1'], 'C2': ['2'], 'C3': ['3']},\n",
       "  'B2': {'C1': ['4'], 'C2': ['5'], 'C3': ['6']},\n",
       "  'B3': {'C1': ['7'], 'C2': ['8'], 'C3': ['9']}},\n",
       " 'A2': {'B1': {'C1': ['10'], 'C2': ['11'], 'C3': ['12']},\n",
       "  'B2': {'C1': ['13'], 'C2': ['14'], 'C3': ['15']},\n",
       "  'B3': {'C1': ['16'], 'C2': ['17'], 'C3': ['18']}}}"
      ]
     },
     "execution_count": 117,
     "metadata": {},
     "output_type": "execute_result"
    }
   ],
   "source": [
    "Monstrossauro1 = {\n",
    "    'A1':{\n",
    "        'B1':{'C1':['1'],'C2':['2'],'C3':['3']},\n",
    "        'B2':{'C1':['4'],'C2':['5'],'C3':['6']},\n",
    "        'B3':{'C1':['7'],'C2':['8'],'C3':['9'] }\n",
    "         },\n",
    "    'A2':{\n",
    "        'B1':{'C1':['10'],'C2':['11'],'C3':['12']},\n",
    "        'B2':{'C1':['13'],'C2':['14'],'C3':['15']},\n",
    "        'B3':{'C1':['16'],'C2':['17'],'C3':['18']}\n",
    "         }\n",
    "    }\n",
    "H"
   ]
  },
  {
   "cell_type": "code",
   "execution_count": 133,
   "metadata": {},
   "outputs": [
    {
     "name": "stdout",
     "output_type": "stream",
     "text": [
      "{('A1', 'B1'): {'C1': ['1'], 'C2': ['2'], 'C3': ['3']}, ('A1', 'B2'): {'C1': ['4'], 'C2': ['5'], 'C3': ['6']}, ('A1', 'B3'): {'C1': ['7'], 'C2': ['8'], 'C3': ['9']}, ('A2', 'B1'): {'C1': ['10'], 'C2': ['11'], 'C3': ['12']}, ('A2', 'B2'): {'C1': ['13'], 'C2': ['14'], 'C3': ['15']}, ('A2', 'B3'): {'C1': ['16'], 'C2': ['17'], 'C3': ['18']}}\n"
     ]
    },
    {
     "data": {
      "text/html": [
       "<div>\n",
       "<style scoped>\n",
       "    .dataframe tbody tr th:only-of-type {\n",
       "        vertical-align: middle;\n",
       "    }\n",
       "\n",
       "    .dataframe tbody tr th {\n",
       "        vertical-align: top;\n",
       "    }\n",
       "\n",
       "    .dataframe thead tr th {\n",
       "        text-align: left;\n",
       "    }\n",
       "</style>\n",
       "<table border=\"1\" class=\"dataframe\">\n",
       "  <thead>\n",
       "    <tr>\n",
       "      <th></th>\n",
       "      <th colspan=\"3\" halign=\"left\">A1</th>\n",
       "      <th colspan=\"3\" halign=\"left\">A2</th>\n",
       "    </tr>\n",
       "    <tr>\n",
       "      <th></th>\n",
       "      <th>B1</th>\n",
       "      <th>B2</th>\n",
       "      <th>B3</th>\n",
       "      <th>B1</th>\n",
       "      <th>B2</th>\n",
       "      <th>B3</th>\n",
       "    </tr>\n",
       "  </thead>\n",
       "  <tbody>\n",
       "    <tr>\n",
       "      <th>C1</th>\n",
       "      <td>[1]</td>\n",
       "      <td>[4]</td>\n",
       "      <td>[7]</td>\n",
       "      <td>[10]</td>\n",
       "      <td>[13]</td>\n",
       "      <td>[16]</td>\n",
       "    </tr>\n",
       "    <tr>\n",
       "      <th>C2</th>\n",
       "      <td>[2]</td>\n",
       "      <td>[5]</td>\n",
       "      <td>[8]</td>\n",
       "      <td>[11]</td>\n",
       "      <td>[14]</td>\n",
       "      <td>[17]</td>\n",
       "    </tr>\n",
       "    <tr>\n",
       "      <th>C3</th>\n",
       "      <td>[3]</td>\n",
       "      <td>[6]</td>\n",
       "      <td>[9]</td>\n",
       "      <td>[12]</td>\n",
       "      <td>[15]</td>\n",
       "      <td>[18]</td>\n",
       "    </tr>\n",
       "  </tbody>\n",
       "</table>\n",
       "</div>"
      ],
      "text/plain": [
       "     A1              A2            \n",
       "     B1   B2   B3    B1    B2    B3\n",
       "C1  [1]  [4]  [7]  [10]  [13]  [16]\n",
       "C2  [2]  [5]  [8]  [11]  [14]  [17]\n",
       "C3  [3]  [6]  [9]  [12]  [15]  [18]"
      ]
     },
     "execution_count": 133,
     "metadata": {},
     "output_type": "execute_result"
    }
   ],
   "source": [
    "reforma = {(chaveExterna, chaveInterna): valores\n",
    "          for chaveExterna, dictInterno in Monstrossauro1.items() \n",
    "          for chaveInterna, valores in dictInterno.items()}\n",
    "print(reforma)\n",
    "pd.DataFrame(reforma)"
   ]
  },
  {
   "cell_type": "markdown",
   "metadata": {},
   "source": [
    "O Loop **não está** completo!\n",
    "\n",
    "Como eu só tenho um valor na série, OK, eu até poderia ficar por aqui...\n",
    "\n",
    "Qual o **problema**? É que se eu for usar bibliotecas de desenhar **gráficos**, como Matplotlib ou Seaborn, ele se depara com uma série e encrencará\n",
    "\n",
    "Observe aqui que na minha série, o **valor** ainda é um **dicionário**:"
   ]
  },
  {
   "cell_type": "code",
   "execution_count": 165,
   "metadata": {},
   "outputs": [
    {
     "name": "stdout",
     "output_type": "stream",
     "text": [
      "Chave Interna :B1 Valores : {'C1': ['1'], 'C2': ['2'], 'C3': ['3']}\n",
      "Chave Interna :B2 Valores : {'C1': ['4'], 'C2': ['5'], 'C3': ['6']}\n",
      "Chave Interna :B3 Valores : {'C1': ['7'], 'C2': ['8'], 'C3': ['9']}\n",
      "Chave Interna :B1 Valores : {'C1': ['10'], 'C2': ['11'], 'C3': ['12']}\n",
      "Chave Interna :B2 Valores : {'C1': ['13'], 'C2': ['14'], 'C3': ['15']}\n",
      "Chave Interna :B3 Valores : {'C1': ['16'], 'C2': ['17'], 'C3': ['18']}\n"
     ]
    },
    {
     "data": {
      "text/html": [
       "<div>\n",
       "<style scoped>\n",
       "    .dataframe tbody tr th:only-of-type {\n",
       "        vertical-align: middle;\n",
       "    }\n",
       "\n",
       "    .dataframe tbody tr th {\n",
       "        vertical-align: top;\n",
       "    }\n",
       "\n",
       "    .dataframe thead tr th {\n",
       "        text-align: left;\n",
       "    }\n",
       "</style>\n",
       "<table border=\"1\" class=\"dataframe\">\n",
       "  <thead>\n",
       "    <tr>\n",
       "      <th></th>\n",
       "      <th colspan=\"3\" halign=\"left\">A1</th>\n",
       "      <th colspan=\"3\" halign=\"left\">A2</th>\n",
       "    </tr>\n",
       "    <tr>\n",
       "      <th></th>\n",
       "      <th>B1</th>\n",
       "      <th>B2</th>\n",
       "      <th>B3</th>\n",
       "      <th>B1</th>\n",
       "      <th>B2</th>\n",
       "      <th>B3</th>\n",
       "    </tr>\n",
       "  </thead>\n",
       "  <tbody>\n",
       "    <tr>\n",
       "      <th>C1</th>\n",
       "      <td>[1]</td>\n",
       "      <td>[4]</td>\n",
       "      <td>[7]</td>\n",
       "      <td>[10]</td>\n",
       "      <td>[13]</td>\n",
       "      <td>[16]</td>\n",
       "    </tr>\n",
       "    <tr>\n",
       "      <th>C2</th>\n",
       "      <td>[2]</td>\n",
       "      <td>[5]</td>\n",
       "      <td>[8]</td>\n",
       "      <td>[11]</td>\n",
       "      <td>[14]</td>\n",
       "      <td>[17]</td>\n",
       "    </tr>\n",
       "    <tr>\n",
       "      <th>C3</th>\n",
       "      <td>[3]</td>\n",
       "      <td>[6]</td>\n",
       "      <td>[9]</td>\n",
       "      <td>[12]</td>\n",
       "      <td>[15]</td>\n",
       "      <td>[18]</td>\n",
       "    </tr>\n",
       "  </tbody>\n",
       "</table>\n",
       "</div>"
      ],
      "text/plain": [
       "     A1              A2            \n",
       "     B1   B2   B3    B1    B2    B3\n",
       "C1  [1]  [4]  [7]  [10]  [13]  [16]\n",
       "C2  [2]  [5]  [8]  [11]  [14]  [17]\n",
       "C3  [3]  [6]  [9]  [12]  [15]  [18]"
      ]
     },
     "execution_count": 165,
     "metadata": {},
     "output_type": "execute_result"
    }
   ],
   "source": [
    "reforma = {}\n",
    "\n",
    "for chaveExterna, valores in Monstrossauro1.items():\n",
    "    dictInterno = valores\n",
    "    for chaveInterna, valores in dictInterno.items():\n",
    "        print ('Chave Interna :{} Valores : {}'.format(chaveInterna,valores))\n",
    "        reforma [(chaveExterna, chaveInterna)] = valores\n",
    "reforma\n",
    "pd.DataFrame(reforma)"
   ]
  },
  {
   "cell_type": "markdown",
   "metadata": {},
   "source": [
    "Agora sim, tecnicamente o dataframe está **correto**!"
   ]
  },
  {
   "cell_type": "code",
   "execution_count": 167,
   "metadata": {},
   "outputs": [
    {
     "name": "stdout",
     "output_type": "stream",
     "text": [
      "{('A1', 'B1', 'C1'): ['1'], ('A1', 'B1', 'C2'): ['2'], ('A1', 'B1', 'C3'): ['3'], ('A1', 'B2', 'C1'): ['4'], ('A1', 'B2', 'C2'): ['5'], ('A1', 'B2', 'C3'): ['6'], ('A1', 'B3', 'C1'): ['7'], ('A1', 'B3', 'C2'): ['8'], ('A1', 'B3', 'C3'): ['9'], ('A2', 'B1', 'C1'): ['10'], ('A2', 'B1', 'C2'): ['11'], ('A2', 'B1', 'C3'): ['12'], ('A2', 'B2', 'C1'): ['13'], ('A2', 'B2', 'C2'): ['14'], ('A2', 'B2', 'C3'): ['15'], ('A2', 'B3', 'C1'): ['16'], ('A2', 'B3', 'C2'): ['17'], ('A2', 'B3', 'C3'): ['18']}\n"
     ]
    },
    {
     "data": {
      "text/html": [
       "<div>\n",
       "<style scoped>\n",
       "    .dataframe tbody tr th:only-of-type {\n",
       "        vertical-align: middle;\n",
       "    }\n",
       "\n",
       "    .dataframe tbody tr th {\n",
       "        vertical-align: top;\n",
       "    }\n",
       "\n",
       "    .dataframe thead tr th {\n",
       "        text-align: left;\n",
       "    }\n",
       "</style>\n",
       "<table border=\"1\" class=\"dataframe\">\n",
       "  <thead>\n",
       "    <tr>\n",
       "      <th></th>\n",
       "      <th colspan=\"9\" halign=\"left\">A1</th>\n",
       "      <th colspan=\"9\" halign=\"left\">A2</th>\n",
       "    </tr>\n",
       "    <tr>\n",
       "      <th></th>\n",
       "      <th colspan=\"3\" halign=\"left\">B1</th>\n",
       "      <th colspan=\"3\" halign=\"left\">B2</th>\n",
       "      <th colspan=\"3\" halign=\"left\">B3</th>\n",
       "      <th colspan=\"3\" halign=\"left\">B1</th>\n",
       "      <th colspan=\"3\" halign=\"left\">B2</th>\n",
       "      <th colspan=\"3\" halign=\"left\">B3</th>\n",
       "    </tr>\n",
       "    <tr>\n",
       "      <th></th>\n",
       "      <th>C1</th>\n",
       "      <th>C2</th>\n",
       "      <th>C3</th>\n",
       "      <th>C1</th>\n",
       "      <th>C2</th>\n",
       "      <th>C3</th>\n",
       "      <th>C1</th>\n",
       "      <th>C2</th>\n",
       "      <th>C3</th>\n",
       "      <th>C1</th>\n",
       "      <th>C2</th>\n",
       "      <th>C3</th>\n",
       "      <th>C1</th>\n",
       "      <th>C2</th>\n",
       "      <th>C3</th>\n",
       "      <th>C1</th>\n",
       "      <th>C2</th>\n",
       "      <th>C3</th>\n",
       "    </tr>\n",
       "  </thead>\n",
       "  <tbody>\n",
       "    <tr>\n",
       "      <th>0</th>\n",
       "      <td>1</td>\n",
       "      <td>2</td>\n",
       "      <td>3</td>\n",
       "      <td>4</td>\n",
       "      <td>5</td>\n",
       "      <td>6</td>\n",
       "      <td>7</td>\n",
       "      <td>8</td>\n",
       "      <td>9</td>\n",
       "      <td>10</td>\n",
       "      <td>11</td>\n",
       "      <td>12</td>\n",
       "      <td>13</td>\n",
       "      <td>14</td>\n",
       "      <td>15</td>\n",
       "      <td>16</td>\n",
       "      <td>17</td>\n",
       "      <td>18</td>\n",
       "    </tr>\n",
       "  </tbody>\n",
       "</table>\n",
       "</div>"
      ],
      "text/plain": [
       "  A1                          A2                                \n",
       "  B1       B2       B3        B1          B2          B3        \n",
       "  C1 C2 C3 C1 C2 C3 C1 C2 C3  C1  C2  C3  C1  C2  C3  C1  C2  C3\n",
       "0  1  2  3  4  5  6  7  8  9  10  11  12  13  14  15  16  17  18"
      ]
     },
     "execution_count": 167,
     "metadata": {},
     "output_type": "execute_result"
    }
   ],
   "source": [
    "reforma = {(chaveExterna, chaveInterna1, chaveInterna2): valores \n",
    "          for chaveExterna, dictInterno1 in Monstrossauro1.items() \n",
    "          for chaveInterna1, dictInterno2 in dictInterno1.items() \n",
    "          for chaveInterna2, valores in dictInterno2.items()}\n",
    "print(reforma)\n",
    "a = pd.DataFrame(reforma)\n",
    "a"
   ]
  },
  {
   "cell_type": "markdown",
   "metadata": {},
   "source": [
    "Ah, espere! Não gostei deste **formato** do dataframe, o que eu faço?\n",
    "\n",
    "Bom, você usa os métodos Pandas **.stack()** ou **.unstack()** conforme o caso e coloca isso no seu jeito!"
   ]
  },
  {
   "cell_type": "code",
   "execution_count": 171,
   "metadata": {},
   "outputs": [
    {
     "data": {
      "text/html": [
       "<div>\n",
       "<style scoped>\n",
       "    .dataframe tbody tr th:only-of-type {\n",
       "        vertical-align: middle;\n",
       "    }\n",
       "\n",
       "    .dataframe tbody tr th {\n",
       "        vertical-align: top;\n",
       "    }\n",
       "\n",
       "    .dataframe thead tr th {\n",
       "        text-align: left;\n",
       "    }\n",
       "</style>\n",
       "<table border=\"1\" class=\"dataframe\">\n",
       "  <thead>\n",
       "    <tr>\n",
       "      <th></th>\n",
       "      <th></th>\n",
       "      <th colspan=\"3\" halign=\"left\">A1</th>\n",
       "      <th colspan=\"3\" halign=\"left\">A2</th>\n",
       "    </tr>\n",
       "    <tr>\n",
       "      <th></th>\n",
       "      <th></th>\n",
       "      <th>B1</th>\n",
       "      <th>B2</th>\n",
       "      <th>B3</th>\n",
       "      <th>B1</th>\n",
       "      <th>B2</th>\n",
       "      <th>B3</th>\n",
       "    </tr>\n",
       "  </thead>\n",
       "  <tbody>\n",
       "    <tr>\n",
       "      <th rowspan=\"3\" valign=\"top\">0</th>\n",
       "      <th>C1</th>\n",
       "      <td>1</td>\n",
       "      <td>4</td>\n",
       "      <td>7</td>\n",
       "      <td>10</td>\n",
       "      <td>13</td>\n",
       "      <td>16</td>\n",
       "    </tr>\n",
       "    <tr>\n",
       "      <th>C2</th>\n",
       "      <td>2</td>\n",
       "      <td>5</td>\n",
       "      <td>8</td>\n",
       "      <td>11</td>\n",
       "      <td>14</td>\n",
       "      <td>17</td>\n",
       "    </tr>\n",
       "    <tr>\n",
       "      <th>C3</th>\n",
       "      <td>3</td>\n",
       "      <td>6</td>\n",
       "      <td>9</td>\n",
       "      <td>12</td>\n",
       "      <td>15</td>\n",
       "      <td>18</td>\n",
       "    </tr>\n",
       "  </tbody>\n",
       "</table>\n",
       "</div>"
      ],
      "text/plain": [
       "     A1        A2        \n",
       "     B1 B2 B3  B1  B2  B3\n",
       "0 C1  1  4  7  10  13  16\n",
       "  C2  2  5  8  11  14  17\n",
       "  C3  3  6  9  12  15  18"
      ]
     },
     "execution_count": 171,
     "metadata": {},
     "output_type": "execute_result"
    }
   ],
   "source": [
    "b = a.stack()\n",
    "b"
   ]
  },
  {
   "cell_type": "code",
   "execution_count": 173,
   "metadata": {},
   "outputs": [
    {
     "data": {
      "text/html": [
       "<div>\n",
       "<style scoped>\n",
       "    .dataframe tbody tr th:only-of-type {\n",
       "        vertical-align: middle;\n",
       "    }\n",
       "\n",
       "    .dataframe tbody tr th {\n",
       "        vertical-align: top;\n",
       "    }\n",
       "\n",
       "    .dataframe thead th {\n",
       "        text-align: right;\n",
       "    }\n",
       "</style>\n",
       "<table border=\"1\" class=\"dataframe\">\n",
       "  <thead>\n",
       "    <tr style=\"text-align: right;\">\n",
       "      <th></th>\n",
       "      <th></th>\n",
       "      <th></th>\n",
       "      <th>A1</th>\n",
       "      <th>A2</th>\n",
       "    </tr>\n",
       "  </thead>\n",
       "  <tbody>\n",
       "    <tr>\n",
       "      <th rowspan=\"9\" valign=\"top\">0</th>\n",
       "      <th rowspan=\"3\" valign=\"top\">C1</th>\n",
       "      <th>B1</th>\n",
       "      <td>1</td>\n",
       "      <td>10</td>\n",
       "    </tr>\n",
       "    <tr>\n",
       "      <th>B2</th>\n",
       "      <td>4</td>\n",
       "      <td>13</td>\n",
       "    </tr>\n",
       "    <tr>\n",
       "      <th>B3</th>\n",
       "      <td>7</td>\n",
       "      <td>16</td>\n",
       "    </tr>\n",
       "    <tr>\n",
       "      <th rowspan=\"3\" valign=\"top\">C2</th>\n",
       "      <th>B1</th>\n",
       "      <td>2</td>\n",
       "      <td>11</td>\n",
       "    </tr>\n",
       "    <tr>\n",
       "      <th>B2</th>\n",
       "      <td>5</td>\n",
       "      <td>14</td>\n",
       "    </tr>\n",
       "    <tr>\n",
       "      <th>B3</th>\n",
       "      <td>8</td>\n",
       "      <td>17</td>\n",
       "    </tr>\n",
       "    <tr>\n",
       "      <th rowspan=\"3\" valign=\"top\">C3</th>\n",
       "      <th>B1</th>\n",
       "      <td>3</td>\n",
       "      <td>12</td>\n",
       "    </tr>\n",
       "    <tr>\n",
       "      <th>B2</th>\n",
       "      <td>6</td>\n",
       "      <td>15</td>\n",
       "    </tr>\n",
       "    <tr>\n",
       "      <th>B3</th>\n",
       "      <td>9</td>\n",
       "      <td>18</td>\n",
       "    </tr>\n",
       "  </tbody>\n",
       "</table>\n",
       "</div>"
      ],
      "text/plain": [
       "        A1  A2\n",
       "0 C1 B1  1  10\n",
       "     B2  4  13\n",
       "     B3  7  16\n",
       "  C2 B1  2  11\n",
       "     B2  5  14\n",
       "     B3  8  17\n",
       "  C3 B1  3  12\n",
       "     B2  6  15\n",
       "     B3  9  18"
      ]
     },
     "execution_count": 173,
     "metadata": {},
     "output_type": "execute_result"
    }
   ],
   "source": [
    "b.stack()"
   ]
  },
  {
   "cell_type": "markdown",
   "metadata": {},
   "source": [
    "---"
   ]
  },
  {
   "cell_type": "markdown",
   "metadata": {},
   "source": [
    "Novo teste, agora com **Monstrossauro2**:"
   ]
  },
  {
   "cell_type": "code",
   "execution_count": 120,
   "metadata": {},
   "outputs": [
    {
     "data": {
      "text/plain": [
       "{'A1': {'B1': {'C1': ['1'], 'C2': ['2'], 'C3': ['3']},\n",
       "  'B2': {'C1': ['4'], 'C2': ['5'], 'C3': ['6']},\n",
       "  'B3': {'C1': ['7'], 'C2': ['8'], 'C3': ['9']}},\n",
       " 'A2': {'B1': {'C1': ['10'], 'C2': ['11'], 'C3': ['12']},\n",
       "  'B2': {'C1': ['13'], 'C2': ['14'], 'C3': ['15']},\n",
       "  'B3': {'C1': ['16'], 'C2': ['17'], 'C3': ['18']}}}"
      ]
     },
     "execution_count": 120,
     "metadata": {},
     "output_type": "execute_result"
    }
   ],
   "source": [
    "Monstrossauro2 = {\n",
    "    'A1':{\n",
    "        'B1':{'C1':['1','2'],'C2':['3','4'],'C3':['5','6']},\n",
    "        'B2':{'C1':['7','8'],'C2':['9','10'],'C3':['11','12']},\n",
    "        'B3':{'C1':['13','14'],'C2':['15','16'],'C3':['17','18'] }\n",
    "         },\n",
    "    'A2':{\n",
    "        'B1':{'C1':['19','20'],'C2':['21','22'],'C3':['23','24']},\n",
    "        'B2':{'C1':['25','26'],'C2':['27','28'],'C3':['29','30']},\n",
    "        'B3':{'C1':['31','32'],'C2':['33','34'],'C3':['35','36']}\n",
    "         }\n",
    "    }\n",
    "H"
   ]
  },
  {
   "cell_type": "markdown",
   "metadata": {},
   "source": [
    "Ainda não está bom, eu preciso adicionar **um nível** de compreensão à minha estrutura!"
   ]
  },
  {
   "cell_type": "code",
   "execution_count": 121,
   "metadata": {},
   "outputs": [
    {
     "name": "stdout",
     "output_type": "stream",
     "text": [
      "{('A1', 'B1'): {'C1': ['1', '2'], 'C2': ['3', '4'], 'C3': ['5', '6']}, ('A1', 'B2'): {'C1': ['7', '8'], 'C2': ['9', '10'], 'C3': ['11', '12']}, ('A1', 'B3'): {'C1': ['13', '14'], 'C2': ['15', '16'], 'C3': ['17', '18']}, ('A2', 'B1'): {'C1': ['19', '20'], 'C2': ['21', '22'], 'C3': ['23', '24']}, ('A2', 'B2'): {'C1': ['25', '26'], 'C2': ['27', '28'], 'C3': ['29', '30']}, ('A2', 'B3'): {'C1': ['31', '32'], 'C2': ['33', '34'], 'C3': ['35', '36']}}\n"
     ]
    },
    {
     "data": {
      "text/html": [
       "<div>\n",
       "<style scoped>\n",
       "    .dataframe tbody tr th:only-of-type {\n",
       "        vertical-align: middle;\n",
       "    }\n",
       "\n",
       "    .dataframe tbody tr th {\n",
       "        vertical-align: top;\n",
       "    }\n",
       "\n",
       "    .dataframe thead tr th {\n",
       "        text-align: left;\n",
       "    }\n",
       "</style>\n",
       "<table border=\"1\" class=\"dataframe\">\n",
       "  <thead>\n",
       "    <tr>\n",
       "      <th></th>\n",
       "      <th colspan=\"3\" halign=\"left\">A1</th>\n",
       "      <th colspan=\"3\" halign=\"left\">A2</th>\n",
       "    </tr>\n",
       "    <tr>\n",
       "      <th></th>\n",
       "      <th>B1</th>\n",
       "      <th>B2</th>\n",
       "      <th>B3</th>\n",
       "      <th>B1</th>\n",
       "      <th>B2</th>\n",
       "      <th>B3</th>\n",
       "    </tr>\n",
       "  </thead>\n",
       "  <tbody>\n",
       "    <tr>\n",
       "      <th>C1</th>\n",
       "      <td>[1, 2]</td>\n",
       "      <td>[7, 8]</td>\n",
       "      <td>[13, 14]</td>\n",
       "      <td>[19, 20]</td>\n",
       "      <td>[25, 26]</td>\n",
       "      <td>[31, 32]</td>\n",
       "    </tr>\n",
       "    <tr>\n",
       "      <th>C2</th>\n",
       "      <td>[3, 4]</td>\n",
       "      <td>[9, 10]</td>\n",
       "      <td>[15, 16]</td>\n",
       "      <td>[21, 22]</td>\n",
       "      <td>[27, 28]</td>\n",
       "      <td>[33, 34]</td>\n",
       "    </tr>\n",
       "    <tr>\n",
       "      <th>C3</th>\n",
       "      <td>[5, 6]</td>\n",
       "      <td>[11, 12]</td>\n",
       "      <td>[17, 18]</td>\n",
       "      <td>[23, 24]</td>\n",
       "      <td>[29, 30]</td>\n",
       "      <td>[35, 36]</td>\n",
       "    </tr>\n",
       "  </tbody>\n",
       "</table>\n",
       "</div>"
      ],
      "text/plain": [
       "        A1                            A2                    \n",
       "        B1        B2        B3        B1        B2        B3\n",
       "C1  [1, 2]    [7, 8]  [13, 14]  [19, 20]  [25, 26]  [31, 32]\n",
       "C2  [3, 4]   [9, 10]  [15, 16]  [21, 22]  [27, 28]  [33, 34]\n",
       "C3  [5, 6]  [11, 12]  [17, 18]  [23, 24]  [29, 30]  [35, 36]"
      ]
     },
     "execution_count": 121,
     "metadata": {},
     "output_type": "execute_result"
    }
   ],
   "source": [
    "reforma = {(chaveExterna, chaveInterna): valores \n",
    "          for chaveExterna, dictInterno in Monstrossauro2.items() \n",
    "          for chaveInterna, valores in dictInterno.items()}\n",
    "print(reforma)\n",
    "pd.DataFrame(reforma)"
   ]
  },
  {
   "cell_type": "markdown",
   "metadata": {},
   "source": [
    "Reparou o **zero** e o **1** nas linhas? Sabe de onde eles surgiram?\n",
    "\n",
    "Sim, isso mesmo, do **fatiamento** do nosso último nível de dicionários **aninhados**, transformado em **linhas** do meu dataframe!"
   ]
  },
  {
   "cell_type": "code",
   "execution_count": 176,
   "metadata": {},
   "outputs": [
    {
     "name": "stdout",
     "output_type": "stream",
     "text": [
      "{('A1', 'B1', 'C1'): ['1', '2'], ('A1', 'B1', 'C2'): ['3', '4'], ('A1', 'B1', 'C3'): ['5', '6'], ('A1', 'B2', 'C1'): ['7', '8'], ('A1', 'B2', 'C2'): ['9', '10'], ('A1', 'B2', 'C3'): ['11', '12'], ('A1', 'B3', 'C1'): ['13', '14'], ('A1', 'B3', 'C2'): ['15', '16'], ('A1', 'B3', 'C3'): ['17', '18'], ('A2', 'B1', 'C1'): ['19', '20'], ('A2', 'B1', 'C2'): ['21', '22'], ('A2', 'B1', 'C3'): ['23', '24'], ('A2', 'B2', 'C1'): ['25', '26'], ('A2', 'B2', 'C2'): ['27', '28'], ('A2', 'B2', 'C3'): ['29', '30'], ('A2', 'B3', 'C1'): ['31', '32'], ('A2', 'B3', 'C2'): ['33', '34'], ('A2', 'B3', 'C3'): ['35', '36']}\n"
     ]
    },
    {
     "data": {
      "text/html": [
       "<div>\n",
       "<style scoped>\n",
       "    .dataframe tbody tr th:only-of-type {\n",
       "        vertical-align: middle;\n",
       "    }\n",
       "\n",
       "    .dataframe tbody tr th {\n",
       "        vertical-align: top;\n",
       "    }\n",
       "\n",
       "    .dataframe thead tr th {\n",
       "        text-align: left;\n",
       "    }\n",
       "</style>\n",
       "<table border=\"1\" class=\"dataframe\">\n",
       "  <thead>\n",
       "    <tr>\n",
       "      <th></th>\n",
       "      <th colspan=\"9\" halign=\"left\">A1</th>\n",
       "      <th colspan=\"9\" halign=\"left\">A2</th>\n",
       "    </tr>\n",
       "    <tr>\n",
       "      <th></th>\n",
       "      <th colspan=\"3\" halign=\"left\">B1</th>\n",
       "      <th colspan=\"3\" halign=\"left\">B2</th>\n",
       "      <th colspan=\"3\" halign=\"left\">B3</th>\n",
       "      <th colspan=\"3\" halign=\"left\">B1</th>\n",
       "      <th colspan=\"3\" halign=\"left\">B2</th>\n",
       "      <th colspan=\"3\" halign=\"left\">B3</th>\n",
       "    </tr>\n",
       "    <tr>\n",
       "      <th></th>\n",
       "      <th>C1</th>\n",
       "      <th>C2</th>\n",
       "      <th>C3</th>\n",
       "      <th>C1</th>\n",
       "      <th>C2</th>\n",
       "      <th>C3</th>\n",
       "      <th>C1</th>\n",
       "      <th>C2</th>\n",
       "      <th>C3</th>\n",
       "      <th>C1</th>\n",
       "      <th>C2</th>\n",
       "      <th>C3</th>\n",
       "      <th>C1</th>\n",
       "      <th>C2</th>\n",
       "      <th>C3</th>\n",
       "      <th>C1</th>\n",
       "      <th>C2</th>\n",
       "      <th>C3</th>\n",
       "    </tr>\n",
       "  </thead>\n",
       "  <tbody>\n",
       "    <tr>\n",
       "      <th>0</th>\n",
       "      <td>1</td>\n",
       "      <td>3</td>\n",
       "      <td>5</td>\n",
       "      <td>7</td>\n",
       "      <td>9</td>\n",
       "      <td>11</td>\n",
       "      <td>13</td>\n",
       "      <td>15</td>\n",
       "      <td>17</td>\n",
       "      <td>19</td>\n",
       "      <td>21</td>\n",
       "      <td>23</td>\n",
       "      <td>25</td>\n",
       "      <td>27</td>\n",
       "      <td>29</td>\n",
       "      <td>31</td>\n",
       "      <td>33</td>\n",
       "      <td>35</td>\n",
       "    </tr>\n",
       "    <tr>\n",
       "      <th>1</th>\n",
       "      <td>2</td>\n",
       "      <td>4</td>\n",
       "      <td>6</td>\n",
       "      <td>8</td>\n",
       "      <td>10</td>\n",
       "      <td>12</td>\n",
       "      <td>14</td>\n",
       "      <td>16</td>\n",
       "      <td>18</td>\n",
       "      <td>20</td>\n",
       "      <td>22</td>\n",
       "      <td>24</td>\n",
       "      <td>26</td>\n",
       "      <td>28</td>\n",
       "      <td>30</td>\n",
       "      <td>32</td>\n",
       "      <td>34</td>\n",
       "      <td>36</td>\n",
       "    </tr>\n",
       "  </tbody>\n",
       "</table>\n",
       "</div>"
      ],
      "text/plain": [
       "  A1                               A2                                \n",
       "  B1       B2          B3          B1          B2          B3        \n",
       "  C1 C2 C3 C1  C2  C3  C1  C2  C3  C1  C2  C3  C1  C2  C3  C1  C2  C3\n",
       "0  1  3  5  7   9  11  13  15  17  19  21  23  25  27  29  31  33  35\n",
       "1  2  4  6  8  10  12  14  16  18  20  22  24  26  28  30  32  34  36"
      ]
     },
     "execution_count": 176,
     "metadata": {},
     "output_type": "execute_result"
    }
   ],
   "source": [
    "reforma = {(chaveExterna, chaveInterna1, chaveInterna2): valores \n",
    "          for chaveExterna, dictInterno1 in Monstrossauro2.items() \n",
    "          for chaveInterna1, dictInterno2 in dictInterno1.items() \n",
    "          for chaveInterna2, valores in dictInterno2.items()}\n",
    "print(reforma)\n",
    "x1 = pd.DataFrame(reforma)\n",
    "x1"
   ]
  },
  {
   "cell_type": "code",
   "execution_count": 178,
   "metadata": {},
   "outputs": [
    {
     "data": {
      "text/html": [
       "<div>\n",
       "<style scoped>\n",
       "    .dataframe tbody tr th:only-of-type {\n",
       "        vertical-align: middle;\n",
       "    }\n",
       "\n",
       "    .dataframe tbody tr th {\n",
       "        vertical-align: top;\n",
       "    }\n",
       "\n",
       "    .dataframe thead th {\n",
       "        text-align: right;\n",
       "    }\n",
       "</style>\n",
       "<table border=\"1\" class=\"dataframe\">\n",
       "  <thead>\n",
       "    <tr style=\"text-align: right;\">\n",
       "      <th></th>\n",
       "      <th></th>\n",
       "      <th></th>\n",
       "      <th>A1</th>\n",
       "      <th>A2</th>\n",
       "    </tr>\n",
       "  </thead>\n",
       "  <tbody>\n",
       "    <tr>\n",
       "      <th rowspan=\"9\" valign=\"top\">0</th>\n",
       "      <th rowspan=\"3\" valign=\"top\">C1</th>\n",
       "      <th>B1</th>\n",
       "      <td>1</td>\n",
       "      <td>19</td>\n",
       "    </tr>\n",
       "    <tr>\n",
       "      <th>B2</th>\n",
       "      <td>7</td>\n",
       "      <td>25</td>\n",
       "    </tr>\n",
       "    <tr>\n",
       "      <th>B3</th>\n",
       "      <td>13</td>\n",
       "      <td>31</td>\n",
       "    </tr>\n",
       "    <tr>\n",
       "      <th rowspan=\"3\" valign=\"top\">C2</th>\n",
       "      <th>B1</th>\n",
       "      <td>3</td>\n",
       "      <td>21</td>\n",
       "    </tr>\n",
       "    <tr>\n",
       "      <th>B2</th>\n",
       "      <td>9</td>\n",
       "      <td>27</td>\n",
       "    </tr>\n",
       "    <tr>\n",
       "      <th>B3</th>\n",
       "      <td>15</td>\n",
       "      <td>33</td>\n",
       "    </tr>\n",
       "    <tr>\n",
       "      <th rowspan=\"3\" valign=\"top\">C3</th>\n",
       "      <th>B1</th>\n",
       "      <td>5</td>\n",
       "      <td>23</td>\n",
       "    </tr>\n",
       "    <tr>\n",
       "      <th>B2</th>\n",
       "      <td>11</td>\n",
       "      <td>29</td>\n",
       "    </tr>\n",
       "    <tr>\n",
       "      <th>B3</th>\n",
       "      <td>17</td>\n",
       "      <td>35</td>\n",
       "    </tr>\n",
       "    <tr>\n",
       "      <th rowspan=\"9\" valign=\"top\">1</th>\n",
       "      <th rowspan=\"3\" valign=\"top\">C1</th>\n",
       "      <th>B1</th>\n",
       "      <td>2</td>\n",
       "      <td>20</td>\n",
       "    </tr>\n",
       "    <tr>\n",
       "      <th>B2</th>\n",
       "      <td>8</td>\n",
       "      <td>26</td>\n",
       "    </tr>\n",
       "    <tr>\n",
       "      <th>B3</th>\n",
       "      <td>14</td>\n",
       "      <td>32</td>\n",
       "    </tr>\n",
       "    <tr>\n",
       "      <th rowspan=\"3\" valign=\"top\">C2</th>\n",
       "      <th>B1</th>\n",
       "      <td>4</td>\n",
       "      <td>22</td>\n",
       "    </tr>\n",
       "    <tr>\n",
       "      <th>B2</th>\n",
       "      <td>10</td>\n",
       "      <td>28</td>\n",
       "    </tr>\n",
       "    <tr>\n",
       "      <th>B3</th>\n",
       "      <td>16</td>\n",
       "      <td>34</td>\n",
       "    </tr>\n",
       "    <tr>\n",
       "      <th rowspan=\"3\" valign=\"top\">C3</th>\n",
       "      <th>B1</th>\n",
       "      <td>6</td>\n",
       "      <td>24</td>\n",
       "    </tr>\n",
       "    <tr>\n",
       "      <th>B2</th>\n",
       "      <td>12</td>\n",
       "      <td>30</td>\n",
       "    </tr>\n",
       "    <tr>\n",
       "      <th>B3</th>\n",
       "      <td>18</td>\n",
       "      <td>36</td>\n",
       "    </tr>\n",
       "  </tbody>\n",
       "</table>\n",
       "</div>"
      ],
      "text/plain": [
       "         A1  A2\n",
       "0 C1 B1   1  19\n",
       "     B2   7  25\n",
       "     B3  13  31\n",
       "  C2 B1   3  21\n",
       "     B2   9  27\n",
       "     B3  15  33\n",
       "  C3 B1   5  23\n",
       "     B2  11  29\n",
       "     B3  17  35\n",
       "1 C1 B1   2  20\n",
       "     B2   8  26\n",
       "     B3  14  32\n",
       "  C2 B1   4  22\n",
       "     B2  10  28\n",
       "     B3  16  34\n",
       "  C3 B1   6  24\n",
       "     B2  12  30\n",
       "     B3  18  36"
      ]
     },
     "execution_count": 178,
     "metadata": {},
     "output_type": "execute_result"
    }
   ],
   "source": [
    "x1.stack().stack()"
   ]
  },
  {
   "cell_type": "markdown",
   "metadata": {},
   "source": [
    "---"
   ]
  },
  {
   "cell_type": "markdown",
   "metadata": {},
   "source": [
    "Uma maneira bem **elegante** de criar um dataframe com múltiplos níveis no Pandas:"
   ]
  },
  {
   "cell_type": "code",
   "execution_count": 40,
   "metadata": {},
   "outputs": [
    {
     "name": "stdout",
     "output_type": "stream",
     "text": [
      "        0_n       1_n       0_p       1_p         x\n",
      "0 -1.893374  0.784087 -1.069758 -1.206069 -0.328646\n",
      "1  0.494655  0.937990  0.368235  1.636666  1.363144\n",
      "2 -0.228642  0.495364 -0.610093  2.481030  1.458161\n",
      "3 -1.111355  0.815561  1.079841  1.270487  0.000218\n",
      "4 -0.659275 -0.240184 -0.737870 -1.149624  0.039710\n",
      "5 -0.052706 -1.444082  0.500829  2.792043 -1.917434\n",
      "6  1.943367 -0.381340  0.171346  1.216241  2.505286\n",
      "7 -0.547478  1.836949  2.010731 -0.337613  0.461066\n",
      "8  0.098479  1.808016  1.767726  0.170918 -0.475948\n",
      "9  0.807474  0.097755 -0.234575 -0.194491  1.538407\n"
     ]
    },
    {
     "data": {
      "text/html": [
       "<div>\n",
       "<style scoped>\n",
       "    .dataframe tbody tr th:only-of-type {\n",
       "        vertical-align: middle;\n",
       "    }\n",
       "\n",
       "    .dataframe tbody tr th {\n",
       "        vertical-align: top;\n",
       "    }\n",
       "\n",
       "    .dataframe thead tr th {\n",
       "        text-align: left;\n",
       "    }\n",
       "</style>\n",
       "<table border=\"1\" class=\"dataframe\">\n",
       "  <thead>\n",
       "    <tr>\n",
       "      <th></th>\n",
       "      <th colspan=\"2\" halign=\"left\">n</th>\n",
       "      <th colspan=\"2\" halign=\"left\">p</th>\n",
       "      <th>NaN</th>\n",
       "    </tr>\n",
       "    <tr>\n",
       "      <th></th>\n",
       "      <th>0</th>\n",
       "      <th>1</th>\n",
       "      <th>0</th>\n",
       "      <th>1</th>\n",
       "      <th>x</th>\n",
       "    </tr>\n",
       "  </thead>\n",
       "  <tbody>\n",
       "    <tr>\n",
       "      <th>0</th>\n",
       "      <td>-1.893374</td>\n",
       "      <td>0.784087</td>\n",
       "      <td>-1.069758</td>\n",
       "      <td>-1.206069</td>\n",
       "      <td>-0.328646</td>\n",
       "    </tr>\n",
       "    <tr>\n",
       "      <th>1</th>\n",
       "      <td>0.494655</td>\n",
       "      <td>0.937990</td>\n",
       "      <td>0.368235</td>\n",
       "      <td>1.636666</td>\n",
       "      <td>1.363144</td>\n",
       "    </tr>\n",
       "    <tr>\n",
       "      <th>2</th>\n",
       "      <td>-0.228642</td>\n",
       "      <td>0.495364</td>\n",
       "      <td>-0.610093</td>\n",
       "      <td>2.481030</td>\n",
       "      <td>1.458161</td>\n",
       "    </tr>\n",
       "    <tr>\n",
       "      <th>3</th>\n",
       "      <td>-1.111355</td>\n",
       "      <td>0.815561</td>\n",
       "      <td>1.079841</td>\n",
       "      <td>1.270487</td>\n",
       "      <td>0.000218</td>\n",
       "    </tr>\n",
       "    <tr>\n",
       "      <th>4</th>\n",
       "      <td>-0.659275</td>\n",
       "      <td>-0.240184</td>\n",
       "      <td>-0.737870</td>\n",
       "      <td>-1.149624</td>\n",
       "      <td>0.039710</td>\n",
       "    </tr>\n",
       "    <tr>\n",
       "      <th>5</th>\n",
       "      <td>-0.052706</td>\n",
       "      <td>-1.444082</td>\n",
       "      <td>0.500829</td>\n",
       "      <td>2.792043</td>\n",
       "      <td>-1.917434</td>\n",
       "    </tr>\n",
       "    <tr>\n",
       "      <th>6</th>\n",
       "      <td>1.943367</td>\n",
       "      <td>-0.381340</td>\n",
       "      <td>0.171346</td>\n",
       "      <td>1.216241</td>\n",
       "      <td>2.505286</td>\n",
       "    </tr>\n",
       "    <tr>\n",
       "      <th>7</th>\n",
       "      <td>-0.547478</td>\n",
       "      <td>1.836949</td>\n",
       "      <td>2.010731</td>\n",
       "      <td>-0.337613</td>\n",
       "      <td>0.461066</td>\n",
       "    </tr>\n",
       "    <tr>\n",
       "      <th>8</th>\n",
       "      <td>0.098479</td>\n",
       "      <td>1.808016</td>\n",
       "      <td>1.767726</td>\n",
       "      <td>0.170918</td>\n",
       "      <td>-0.475948</td>\n",
       "    </tr>\n",
       "    <tr>\n",
       "      <th>9</th>\n",
       "      <td>0.807474</td>\n",
       "      <td>0.097755</td>\n",
       "      <td>-0.234575</td>\n",
       "      <td>-0.194491</td>\n",
       "      <td>1.538407</td>\n",
       "    </tr>\n",
       "  </tbody>\n",
       "</table>\n",
       "</div>"
      ],
      "text/plain": [
       "          n                   p                 NaN\n",
       "          0         1         0         1         x\n",
       "0 -1.893374  0.784087 -1.069758 -1.206069 -0.328646\n",
       "1  0.494655  0.937990  0.368235  1.636666  1.363144\n",
       "2 -0.228642  0.495364 -0.610093  2.481030  1.458161\n",
       "3 -1.111355  0.815561  1.079841  1.270487  0.000218\n",
       "4 -0.659275 -0.240184 -0.737870 -1.149624  0.039710\n",
       "5 -0.052706 -1.444082  0.500829  2.792043 -1.917434\n",
       "6  1.943367 -0.381340  0.171346  1.216241  2.505286\n",
       "7 -0.547478  1.836949  2.010731 -0.337613  0.461066\n",
       "8  0.098479  1.808016  1.767726  0.170918 -0.475948\n",
       "9  0.807474  0.097755 -0.234575 -0.194491  1.538407"
      ]
     },
     "execution_count": 40,
     "metadata": {},
     "output_type": "execute_result"
    }
   ],
   "source": [
    "import pandas as pd\n",
    "import numpy as np\n",
    "\n",
    "H = pd.DataFrame(np.random.randn(10, 5), columns=('0_n', '1_n', '0_p', '1_p', 'x'))\n",
    "print(H)\n",
    "\n",
    "H.columns = H.columns.str.split('_', expand=True)\n",
    "H.columns = H.columns.swaplevel(1,0)\n",
    "H"
   ]
  },
  {
   "cell_type": "markdown",
   "metadata": {},
   "source": [
    "Uma aplicação disso com um dataframe simples, de **bilhetes de arquibancada** para uma competição esportiva:"
   ]
  },
  {
   "cell_type": "code",
   "execution_count": 271,
   "metadata": {},
   "outputs": [
    {
     "name": "stdout",
     "output_type": "stream",
     "text": [
      "          Idade_Tipo A  Poltronas_Tipo B  Bilhetes_Tipo A\n",
      "Homero              34                 1                2\n",
      "Ana                 22                 3                3\n",
      "Ifigênia            19                 2                4\n",
      "Tipo A  Idade        int64\n",
      "Tipo B  Poltronas    int64\n",
      "Tipo A  Bilhetes     int64\n",
      "dtype: object\n"
     ]
    },
    {
     "data": {
      "text/html": [
       "<div>\n",
       "<style scoped>\n",
       "    .dataframe tbody tr th:only-of-type {\n",
       "        vertical-align: middle;\n",
       "    }\n",
       "\n",
       "    .dataframe tbody tr th {\n",
       "        vertical-align: top;\n",
       "    }\n",
       "\n",
       "    .dataframe thead tr th {\n",
       "        text-align: left;\n",
       "    }\n",
       "</style>\n",
       "<table border=\"1\" class=\"dataframe\">\n",
       "  <thead>\n",
       "    <tr>\n",
       "      <th></th>\n",
       "      <th>Tipo A</th>\n",
       "      <th>Tipo B</th>\n",
       "      <th>Tipo A</th>\n",
       "    </tr>\n",
       "    <tr>\n",
       "      <th></th>\n",
       "      <th>Idade</th>\n",
       "      <th>Poltronas</th>\n",
       "      <th>Bilhetes</th>\n",
       "    </tr>\n",
       "  </thead>\n",
       "  <tbody>\n",
       "    <tr>\n",
       "      <th>Homero</th>\n",
       "      <td>34</td>\n",
       "      <td>1</td>\n",
       "      <td>2</td>\n",
       "    </tr>\n",
       "    <tr>\n",
       "      <th>Ana</th>\n",
       "      <td>22</td>\n",
       "      <td>3</td>\n",
       "      <td>3</td>\n",
       "    </tr>\n",
       "    <tr>\n",
       "      <th>Ifigênia</th>\n",
       "      <td>19</td>\n",
       "      <td>2</td>\n",
       "      <td>4</td>\n",
       "    </tr>\n",
       "  </tbody>\n",
       "</table>\n",
       "</div>"
      ],
      "text/plain": [
       "         Tipo A    Tipo B   Tipo A\n",
       "          Idade Poltronas Bilhetes\n",
       "Homero       34         1        2\n",
       "Ana          22         3        3\n",
       "Ifigênia     19         2        4"
      ]
     },
     "execution_count": 271,
     "metadata": {},
     "output_type": "execute_result"
    }
   ],
   "source": [
    "import pandas as pd\n",
    "df = pd.DataFrame(data=[[34, 1, 2], \n",
    "                        [22, 3, 3], \n",
    "                        [19, 2, 4]],\n",
    "                  index= ['Homero', 'Ana', 'Ifigênia'], \n",
    "                  columns=['Idade_Tipo A', 'Poltronas_Tipo B', 'Bilhetes_Tipo A'])\n",
    "print(df)\n",
    "\n",
    "df.columns = df.columns.str.split('_', expand=True)\n",
    "df.columns = df.columns.swaplevel(1,0)\n",
    "print(df.dtypes)\n",
    "\n",
    "df"
   ]
  },
  {
   "cell_type": "markdown",
   "metadata": {},
   "source": [
    "Isso é consistente, mas a visualização não ficou legal! Eu tenho dois tipos de bilhetes, os do tipo **A** e os de tipo **B**\n",
    "\n",
    "Primeiro vamos **empilhar** isso\n",
    "\n",
    "*Observe que há mais código aqui! A razão é que quando fazemos alguma operação em dataframe que produza valores **NaN** (células vazias), estas não são suportadas por determinados formatos. Como células **int64** (números inteiros de 64 Bits) não suportam **NaN**, o dataframe teve que ter as células vazias preenchidas por zero e depois reconvertido ao formato original!*"
   ]
  },
  {
   "cell_type": "code",
   "execution_count": 272,
   "metadata": {},
   "outputs": [
    {
     "data": {
      "text/html": [
       "<div>\n",
       "<style scoped>\n",
       "    .dataframe tbody tr th:only-of-type {\n",
       "        vertical-align: middle;\n",
       "    }\n",
       "\n",
       "    .dataframe tbody tr th {\n",
       "        vertical-align: top;\n",
       "    }\n",
       "\n",
       "    .dataframe thead th {\n",
       "        text-align: right;\n",
       "    }\n",
       "</style>\n",
       "<table border=\"1\" class=\"dataframe\">\n",
       "  <thead>\n",
       "    <tr style=\"text-align: right;\">\n",
       "      <th></th>\n",
       "      <th></th>\n",
       "      <th>Tipo A</th>\n",
       "      <th>Tipo B</th>\n",
       "    </tr>\n",
       "  </thead>\n",
       "  <tbody>\n",
       "    <tr>\n",
       "      <th rowspan=\"3\" valign=\"top\">Homero</th>\n",
       "      <th>Bilhetes</th>\n",
       "      <td>2</td>\n",
       "      <td>0</td>\n",
       "    </tr>\n",
       "    <tr>\n",
       "      <th>Idade</th>\n",
       "      <td>34</td>\n",
       "      <td>0</td>\n",
       "    </tr>\n",
       "    <tr>\n",
       "      <th>Poltronas</th>\n",
       "      <td>0</td>\n",
       "      <td>1</td>\n",
       "    </tr>\n",
       "    <tr>\n",
       "      <th rowspan=\"3\" valign=\"top\">Ana</th>\n",
       "      <th>Bilhetes</th>\n",
       "      <td>3</td>\n",
       "      <td>0</td>\n",
       "    </tr>\n",
       "    <tr>\n",
       "      <th>Idade</th>\n",
       "      <td>22</td>\n",
       "      <td>0</td>\n",
       "    </tr>\n",
       "    <tr>\n",
       "      <th>Poltronas</th>\n",
       "      <td>0</td>\n",
       "      <td>3</td>\n",
       "    </tr>\n",
       "    <tr>\n",
       "      <th rowspan=\"3\" valign=\"top\">Ifigênia</th>\n",
       "      <th>Bilhetes</th>\n",
       "      <td>4</td>\n",
       "      <td>0</td>\n",
       "    </tr>\n",
       "    <tr>\n",
       "      <th>Idade</th>\n",
       "      <td>19</td>\n",
       "      <td>0</td>\n",
       "    </tr>\n",
       "    <tr>\n",
       "      <th>Poltronas</th>\n",
       "      <td>0</td>\n",
       "      <td>2</td>\n",
       "    </tr>\n",
       "  </tbody>\n",
       "</table>\n",
       "</div>"
      ],
      "text/plain": [
       "                    Tipo A  Tipo B\n",
       "Homero   Bilhetes        2       0\n",
       "         Idade          34       0\n",
       "         Poltronas       0       1\n",
       "Ana      Bilhetes        3       0\n",
       "         Idade          22       0\n",
       "         Poltronas       0       3\n",
       "Ifigênia Bilhetes        4       0\n",
       "         Idade          19       0\n",
       "         Poltronas       0       2"
      ]
     },
     "execution_count": 272,
     "metadata": {},
     "output_type": "execute_result"
    }
   ],
   "source": [
    "import numpy as np\n",
    "\n",
    "a = df.stack().fillna(0).astype(np.int64)\n",
    "a"
   ]
  },
  {
   "cell_type": "markdown",
   "metadata": {},
   "source": [
    "E agora **desempilhar**\n",
    "\n",
    "*Observe que a informação ficou meio **desconexa**. Por quê Homero, que comprou 2 bilhetes do **Tipo A** teria duas poltronas, do **Tipo B** ?*\n",
    "\n",
    "*Bom, isso é apenas um exemplo ilustrativo! Se fosse um dataframe real, teríamos que averiguar todas essas coisas com muito **critério**!*"
   ]
  },
  {
   "cell_type": "code",
   "execution_count": 273,
   "metadata": {},
   "outputs": [
    {
     "data": {
      "text/html": [
       "<div>\n",
       "<style scoped>\n",
       "    .dataframe tbody tr th:only-of-type {\n",
       "        vertical-align: middle;\n",
       "    }\n",
       "\n",
       "    .dataframe tbody tr th {\n",
       "        vertical-align: top;\n",
       "    }\n",
       "\n",
       "    .dataframe thead tr th {\n",
       "        text-align: left;\n",
       "    }\n",
       "</style>\n",
       "<table border=\"1\" class=\"dataframe\">\n",
       "  <thead>\n",
       "    <tr>\n",
       "      <th></th>\n",
       "      <th colspan=\"3\" halign=\"left\">Tipo A</th>\n",
       "      <th colspan=\"3\" halign=\"left\">Tipo B</th>\n",
       "    </tr>\n",
       "    <tr>\n",
       "      <th></th>\n",
       "      <th>Bilhetes</th>\n",
       "      <th>Idade</th>\n",
       "      <th>Poltronas</th>\n",
       "      <th>Bilhetes</th>\n",
       "      <th>Idade</th>\n",
       "      <th>Poltronas</th>\n",
       "    </tr>\n",
       "  </thead>\n",
       "  <tbody>\n",
       "    <tr>\n",
       "      <th>Homero</th>\n",
       "      <td>2</td>\n",
       "      <td>34</td>\n",
       "      <td>0</td>\n",
       "      <td>0</td>\n",
       "      <td>0</td>\n",
       "      <td>1</td>\n",
       "    </tr>\n",
       "    <tr>\n",
       "      <th>Ana</th>\n",
       "      <td>3</td>\n",
       "      <td>22</td>\n",
       "      <td>0</td>\n",
       "      <td>0</td>\n",
       "      <td>0</td>\n",
       "      <td>3</td>\n",
       "    </tr>\n",
       "    <tr>\n",
       "      <th>Ifigênia</th>\n",
       "      <td>4</td>\n",
       "      <td>19</td>\n",
       "      <td>0</td>\n",
       "      <td>0</td>\n",
       "      <td>0</td>\n",
       "      <td>2</td>\n",
       "    </tr>\n",
       "  </tbody>\n",
       "</table>\n",
       "</div>"
      ],
      "text/plain": [
       "           Tipo A                   Tipo B                \n",
       "         Bilhetes Idade Poltronas Bilhetes Idade Poltronas\n",
       "Homero          2    34         0        0     0         1\n",
       "Ana             3    22         0        0     0         3\n",
       "Ifigênia        4    19         0        0     0         2"
      ]
     },
     "execution_count": 273,
     "metadata": {},
     "output_type": "execute_result"
    }
   ],
   "source": [
    "a.unstack().fillna(0).astype(np.int64)"
   ]
  },
  {
   "cell_type": "markdown",
   "metadata": {},
   "source": [
    "## Multiindexação\n",
    "\n",
    "---\n",
    "\n",
    "*Obsevação: alguns desses métodos retornam uma **Cópia** do dataframe, outros retornam uma **View**. Cópias ocupam um novo **espaço na memória**, enquanto Views são como se fossem apontadores com novos filtros (uma nova **visão** daquele dataframe!). Material encontrado [aqui](http://pandas.pydata.org/pandas-docs/stable/advanced.html)*\n",
    "\n",
    "*Técnicas mais avançadas no [cookbook](http://pandas.pydata.org/pandas-docs/stable/cookbook.html#cookbook-multi-index)"
   ]
  },
  {
   "cell_type": "markdown",
   "metadata": {},
   "source": [
    "### Construção de Multi Índices - Parte 1\n",
    "\n",
    "---\n",
    "\n",
    "Um **MultiIndex** é uma matriz de tuplas, na qual cada tupla é única\n",
    "\n",
    "    [ [ ('bar','foo'), (1,2),         ('A','B')          ],\n",
    "      [ ('a','b'),     ('one','two'), ('Alpha', 'Omega') ] ]\n",
    "\n",
    "Ele pode ser criado a partir de:\n",
    "\n",
    "- uma lista de **matrizes** com **MultiIndex.from_arrays()**\n",
    "\n",
    "- uma matriz de **tuplas** com **MultiIndex.from_tuples()**\n",
    "\n",
    "- um conjunto cruzado de **iteráveis** com **MultiIndex.from_product()** (Produto Cartesiano) \n",
    "    \n",
    "Então o **construtor de índice** irá retornar um **MultiIndex** a partir da entrada fornecida\n",
    "\n",
    "Aqui o método foi construir **tuplas** com o uso do método **.zip()**:"
   ]
  },
  {
   "cell_type": "code",
   "execution_count": 9,
   "metadata": {},
   "outputs": [
    {
     "name": "stdout",
     "output_type": "stream",
     "text": [
      "tuplas : [('bar', 'one'), ('bar', 'two'), ('baz', 'one'), ('baz', 'two'), ('foo', 'one'), ('foo', 'two'), ('qux', 'one'), ('qux', 'two')]\n",
      "MultiIndex(levels=[['bar', 'baz', 'foo', 'qux'], ['one', 'two']],\n",
      "           labels=[[0, 0, 1, 1, 2, 2, 3, 3], [0, 1, 0, 1, 0, 1, 0, 1]],\n",
      "           names=['first', 'second'])\n"
     ]
    },
    {
     "data": {
      "text/plain": [
       "first  second\n",
       "bar    one      -0.415328\n",
       "       two      -1.821592\n",
       "baz    one       0.417119\n",
       "       two       1.393763\n",
       "foo    one       2.986441\n",
       "       two       1.114001\n",
       "qux    one       1.148784\n",
       "       two       2.411758\n",
       "dtype: float64"
      ]
     },
     "execution_count": 9,
     "metadata": {},
     "output_type": "execute_result"
    }
   ],
   "source": [
    "import pandas as pd\n",
    "import numpy as np\n",
    "\n",
    "#Essa parte pega duas séries e a transforma em tuplas\n",
    "arrays = [['bar', 'bar', 'baz', 'baz', 'foo', 'foo', 'qux', 'qux'],\n",
    "         ['one', 'two', 'one', 'two', 'one', 'two', 'one', 'two']]\n",
    "tuples = list(zip(*arrays))\n",
    "print(\"tuplas :\", tuples)\n",
    "\n",
    "#Aqui eu crio o meu objeto MultiIndex\n",
    "index = pd.MultiIndex.from_tuples(tuples, names=['first', 'second'])\n",
    "print(index)\n",
    "\n",
    "#Isso aqui é só para ilustrar e eu crio uma série aleatório, indexada pelo meu MultiIndex\n",
    "s = pd.Series(np.random.randn(8), index=index)\n",
    "s"
   ]
  },
  {
   "cell_type": "markdown",
   "metadata": {},
   "source": [
    "Usando o **Produto Cartesiano**:\n",
    "\n",
    "*Observe que o objeto produzido, MultiIndex é idêntico!*"
   ]
  },
  {
   "cell_type": "code",
   "execution_count": 10,
   "metadata": {},
   "outputs": [
    {
     "data": {
      "text/plain": [
       "MultiIndex(levels=[['bar', 'baz', 'foo', 'qux'], ['one', 'two']],\n",
       "           labels=[[0, 0, 1, 1, 2, 2, 3, 3], [0, 1, 0, 1, 0, 1, 0, 1]],\n",
       "           names=['first', 'second'])"
      ]
     },
     "execution_count": 10,
     "metadata": {},
     "output_type": "execute_result"
    }
   ],
   "source": [
    "iterables = [['bar', 'baz', 'foo', 'qux'], ['one', 'two']]\n",
    "\n",
    "pd.MultiIndex.from_product(iterables, names=['first', 'second'])"
   ]
  },
  {
   "cell_type": "markdown",
   "metadata": {},
   "source": [
    "Aqui a **Matriz** foi passada diretamente:"
   ]
  },
  {
   "cell_type": "code",
   "execution_count": 23,
   "metadata": {},
   "outputs": [
    {
     "name": "stdout",
     "output_type": "stream",
     "text": [
      "bar  one   -0.795296\n",
      "     two   -0.792742\n",
      "baz  one    0.139205\n",
      "     two    0.165114\n",
      "foo  one    0.300704\n",
      "     two    0.289664\n",
      "qux  one    0.932942\n",
      "     two    0.310368\n",
      "dtype: float64\n"
     ]
    },
    {
     "data": {
      "text/html": [
       "<div>\n",
       "<style scoped>\n",
       "    .dataframe tbody tr th:only-of-type {\n",
       "        vertical-align: middle;\n",
       "    }\n",
       "\n",
       "    .dataframe tbody tr th {\n",
       "        vertical-align: top;\n",
       "    }\n",
       "\n",
       "    .dataframe thead th {\n",
       "        text-align: right;\n",
       "    }\n",
       "</style>\n",
       "<table border=\"1\" class=\"dataframe\">\n",
       "  <thead>\n",
       "    <tr style=\"text-align: right;\">\n",
       "      <th></th>\n",
       "      <th></th>\n",
       "      <th>0</th>\n",
       "      <th>1</th>\n",
       "      <th>2</th>\n",
       "      <th>3</th>\n",
       "    </tr>\n",
       "  </thead>\n",
       "  <tbody>\n",
       "    <tr>\n",
       "      <th rowspan=\"2\" valign=\"top\">bar</th>\n",
       "      <th>one</th>\n",
       "      <td>-2.310297</td>\n",
       "      <td>-0.188318</td>\n",
       "      <td>-1.475343</td>\n",
       "      <td>0.383571</td>\n",
       "    </tr>\n",
       "    <tr>\n",
       "      <th>two</th>\n",
       "      <td>-1.935992</td>\n",
       "      <td>1.179070</td>\n",
       "      <td>-0.534750</td>\n",
       "      <td>-0.278248</td>\n",
       "    </tr>\n",
       "    <tr>\n",
       "      <th rowspan=\"2\" valign=\"top\">baz</th>\n",
       "      <th>one</th>\n",
       "      <td>0.026262</td>\n",
       "      <td>1.014572</td>\n",
       "      <td>-0.101596</td>\n",
       "      <td>-0.791485</td>\n",
       "    </tr>\n",
       "    <tr>\n",
       "      <th>two</th>\n",
       "      <td>-0.255073</td>\n",
       "      <td>-0.399517</td>\n",
       "      <td>-0.261882</td>\n",
       "      <td>1.348614</td>\n",
       "    </tr>\n",
       "    <tr>\n",
       "      <th rowspan=\"2\" valign=\"top\">foo</th>\n",
       "      <th>one</th>\n",
       "      <td>-0.201388</td>\n",
       "      <td>-0.691666</td>\n",
       "      <td>0.835763</td>\n",
       "      <td>1.016092</td>\n",
       "    </tr>\n",
       "    <tr>\n",
       "      <th>two</th>\n",
       "      <td>-0.576034</td>\n",
       "      <td>1.127168</td>\n",
       "      <td>-0.563360</td>\n",
       "      <td>-0.695545</td>\n",
       "    </tr>\n",
       "    <tr>\n",
       "      <th rowspan=\"2\" valign=\"top\">qux</th>\n",
       "      <th>one</th>\n",
       "      <td>0.959934</td>\n",
       "      <td>-0.774126</td>\n",
       "      <td>0.894986</td>\n",
       "      <td>-0.760023</td>\n",
       "    </tr>\n",
       "    <tr>\n",
       "      <th>two</th>\n",
       "      <td>0.544336</td>\n",
       "      <td>-1.132537</td>\n",
       "      <td>-0.031095</td>\n",
       "      <td>-1.458948</td>\n",
       "    </tr>\n",
       "  </tbody>\n",
       "</table>\n",
       "</div>"
      ],
      "text/plain": [
       "                0         1         2         3\n",
       "bar one -2.310297 -0.188318 -1.475343  0.383571\n",
       "    two -1.935992  1.179070 -0.534750 -0.278248\n",
       "baz one  0.026262  1.014572 -0.101596 -0.791485\n",
       "    two -0.255073 -0.399517 -0.261882  1.348614\n",
       "foo one -0.201388 -0.691666  0.835763  1.016092\n",
       "    two -0.576034  1.127168 -0.563360 -0.695545\n",
       "qux one  0.959934 -0.774126  0.894986 -0.760023\n",
       "    two  0.544336 -1.132537 -0.031095 -1.458948"
      ]
     },
     "execution_count": 23,
     "metadata": {},
     "output_type": "execute_result"
    }
   ],
   "source": [
    "import numpy as np\n",
    "import pandas as pd\n",
    "\n",
    "arrays = [np.array(['bar', 'bar', 'baz', 'baz', 'foo', 'foo', 'qux', 'qux']),\n",
    "          np.array(['one', 'two', 'one', 'two', 'one', 'two', 'one', 'two'])] \n",
    "\n",
    "s = pd.Series(np.random.randn(8), index=arrays)\n",
    "print(s)\n",
    "\n",
    "df = pd.DataFrame(np.random.randn(8, 4), index=arrays)\n",
    "df"
   ]
  },
  {
   "cell_type": "markdown",
   "metadata": {},
   "source": [
    "O construtor **MultiIndice** pega um argumento **names**, uma String com os nomes dos próprios níveis\n",
    "\n",
    "Se os nomes não forem fornecidos, o resultado: "
   ]
  },
  {
   "cell_type": "code",
   "execution_count": 24,
   "metadata": {},
   "outputs": [
    {
     "data": {
      "text/plain": [
       "FrozenList([None, None])"
      ]
     },
     "execution_count": 24,
     "metadata": {},
     "output_type": "execute_result"
    }
   ],
   "source": [
    "df.index.names"
   ]
  },
  {
   "cell_type": "markdown",
   "metadata": {},
   "source": [
    "O índice serve nos **dois eixos** e pode ter tantos **níveis** quantos você precisar:"
   ]
  },
  {
   "cell_type": "code",
   "execution_count": 25,
   "metadata": {},
   "outputs": [],
   "source": [
    "with pd.option_context('display.multi_sparse', False):\n",
    "    df"
   ]
  },
  {
   "cell_type": "code",
   "execution_count": 26,
   "metadata": {},
   "outputs": [
    {
     "data": {
      "text/plain": [
       "(bar, one)   -0.666806\n",
       "(bar, two)   -0.484042\n",
       "(baz, one)    1.700535\n",
       "(baz, two)    0.795902\n",
       "(foo, one)    1.375651\n",
       "(foo, two)   -0.735380\n",
       "(qux, one)    1.255736\n",
       "(qux, two)    0.513604\n",
       "dtype: float64"
      ]
     },
     "execution_count": 26,
     "metadata": {},
     "output_type": "execute_result"
    }
   ],
   "source": [
    "pd.Series(np.random.randn(8), index=tuples)"
   ]
  },
  {
   "cell_type": "code",
   "execution_count": 27,
   "metadata": {},
   "outputs": [
    {
     "name": "stdout",
     "output_type": "stream",
     "text": [
      "Animal       bar                 baz                 foo                 qux  \\\n",
      "Ordem        one       two       one       two       one       two       one   \n",
      "A       0.486469  0.856955 -3.141083  0.335996 -1.324319  0.644449  0.533992   \n",
      "B      -0.670015 -0.453107 -1.497053 -0.864832  0.300417  1.892226 -0.401932   \n",
      "C       0.864679 -0.134688  0.378430  0.256251 -0.458580 -0.402177 -0.274435   \n",
      "\n",
      "Animal            \n",
      "Ordem        two  \n",
      "A      -0.364926  \n",
      "B       1.083283  \n",
      "C      -0.592052  \n"
     ]
    },
    {
     "data": {
      "text/html": [
       "<div>\n",
       "<style scoped>\n",
       "    .dataframe tbody tr th:only-of-type {\n",
       "        vertical-align: middle;\n",
       "    }\n",
       "\n",
       "    .dataframe tbody tr th {\n",
       "        vertical-align: top;\n",
       "    }\n",
       "\n",
       "    .dataframe thead tr th {\n",
       "        text-align: left;\n",
       "    }\n",
       "\n",
       "    .dataframe thead tr:last-of-type th {\n",
       "        text-align: right;\n",
       "    }\n",
       "</style>\n",
       "<table border=\"1\" class=\"dataframe\">\n",
       "  <thead>\n",
       "    <tr>\n",
       "      <th></th>\n",
       "      <th>Animal</th>\n",
       "      <th colspan=\"2\" halign=\"left\">bar</th>\n",
       "      <th colspan=\"2\" halign=\"left\">baz</th>\n",
       "      <th colspan=\"2\" halign=\"left\">foo</th>\n",
       "    </tr>\n",
       "    <tr>\n",
       "      <th></th>\n",
       "      <th>Ordem</th>\n",
       "      <th>one</th>\n",
       "      <th>two</th>\n",
       "      <th>one</th>\n",
       "      <th>two</th>\n",
       "      <th>one</th>\n",
       "      <th>two</th>\n",
       "    </tr>\n",
       "    <tr>\n",
       "      <th>Animal</th>\n",
       "      <th>Ordem</th>\n",
       "      <th></th>\n",
       "      <th></th>\n",
       "      <th></th>\n",
       "      <th></th>\n",
       "      <th></th>\n",
       "      <th></th>\n",
       "    </tr>\n",
       "  </thead>\n",
       "  <tbody>\n",
       "    <tr>\n",
       "      <th rowspan=\"2\" valign=\"top\">bar</th>\n",
       "      <th>one</th>\n",
       "      <td>0.292904</td>\n",
       "      <td>-0.174137</td>\n",
       "      <td>1.004233</td>\n",
       "      <td>-0.482495</td>\n",
       "      <td>-0.842582</td>\n",
       "      <td>-1.489835</td>\n",
       "    </tr>\n",
       "    <tr>\n",
       "      <th>two</th>\n",
       "      <td>-0.876983</td>\n",
       "      <td>0.857151</td>\n",
       "      <td>-0.974872</td>\n",
       "      <td>0.930391</td>\n",
       "      <td>1.087497</td>\n",
       "      <td>0.298290</td>\n",
       "    </tr>\n",
       "    <tr>\n",
       "      <th rowspan=\"2\" valign=\"top\">baz</th>\n",
       "      <th>one</th>\n",
       "      <td>0.640238</td>\n",
       "      <td>-1.952362</td>\n",
       "      <td>0.550437</td>\n",
       "      <td>-0.055878</td>\n",
       "      <td>0.235115</td>\n",
       "      <td>1.568694</td>\n",
       "    </tr>\n",
       "    <tr>\n",
       "      <th>two</th>\n",
       "      <td>0.059844</td>\n",
       "      <td>-0.067780</td>\n",
       "      <td>0.374379</td>\n",
       "      <td>-1.259136</td>\n",
       "      <td>1.287125</td>\n",
       "      <td>0.111130</td>\n",
       "    </tr>\n",
       "    <tr>\n",
       "      <th rowspan=\"2\" valign=\"top\">foo</th>\n",
       "      <th>one</th>\n",
       "      <td>1.001695</td>\n",
       "      <td>-0.324250</td>\n",
       "      <td>0.111346</td>\n",
       "      <td>0.191908</td>\n",
       "      <td>-0.970032</td>\n",
       "      <td>0.747889</td>\n",
       "    </tr>\n",
       "    <tr>\n",
       "      <th>two</th>\n",
       "      <td>-1.199552</td>\n",
       "      <td>0.548644</td>\n",
       "      <td>1.793226</td>\n",
       "      <td>-2.390180</td>\n",
       "      <td>0.459096</td>\n",
       "      <td>1.601819</td>\n",
       "    </tr>\n",
       "  </tbody>\n",
       "</table>\n",
       "</div>"
      ],
      "text/plain": [
       "Animal             bar                 baz                 foo          \n",
       "Ordem              one       two       one       two       one       two\n",
       "Animal Ordem                                                            \n",
       "bar    one    0.292904 -0.174137  1.004233 -0.482495 -0.842582 -1.489835\n",
       "       two   -0.876983  0.857151 -0.974872  0.930391  1.087497  0.298290\n",
       "baz    one    0.640238 -1.952362  0.550437 -0.055878  0.235115  1.568694\n",
       "       two    0.059844 -0.067780  0.374379 -1.259136  1.287125  0.111130\n",
       "foo    one    1.001695 -0.324250  0.111346  0.191908 -0.970032  0.747889\n",
       "       two   -1.199552  0.548644  1.793226 -2.390180  0.459096  1.601819"
      ]
     },
     "execution_count": 27,
     "metadata": {},
     "output_type": "execute_result"
    }
   ],
   "source": [
    "index.names = ['Animal','Ordem']\n",
    "\n",
    "df = pd.DataFrame(np.random.randn(3, 8), index=['A', 'B', 'C'], columns=index)\n",
    "print(df)\n",
    "\n",
    "pd.DataFrame(np.random.randn(6, 6), index=index[:6], columns=index[:6])"
   ]
  },
  {
   "cell_type": "markdown",
   "metadata": {},
   "source": [
    "#### Truques visuais\n",
    "\n",
    "---\n",
    "\n",
    "Existe um método Pandas chamado **.set_options()**\n",
    "\n",
    "Ele serve para diversas funções, inclusive mudar a maneira de vizualizar seu dataframe\n",
    "\n",
    "Estávamos na maneira **esparsa** que normalmente torna as coisas mais fáceis de ler, mas podemos mudar isso:"
   ]
  },
  {
   "cell_type": "code",
   "execution_count": 28,
   "metadata": {},
   "outputs": [
    {
     "data": {
      "text/html": [
       "<div>\n",
       "<style scoped>\n",
       "    .dataframe tbody tr th:only-of-type {\n",
       "        vertical-align: middle;\n",
       "    }\n",
       "\n",
       "    .dataframe tbody tr th {\n",
       "        vertical-align: top;\n",
       "    }\n",
       "\n",
       "    .dataframe thead tr th {\n",
       "        text-align: left;\n",
       "    }\n",
       "</style>\n",
       "<table border=\"1\" class=\"dataframe\">\n",
       "  <thead>\n",
       "    <tr>\n",
       "      <th>Animal</th>\n",
       "      <th colspan=\"2\" halign=\"left\">bar</th>\n",
       "      <th colspan=\"2\" halign=\"left\">baz</th>\n",
       "      <th colspan=\"2\" halign=\"left\">foo</th>\n",
       "      <th colspan=\"2\" halign=\"left\">qux</th>\n",
       "    </tr>\n",
       "    <tr>\n",
       "      <th>Ordem</th>\n",
       "      <th>one</th>\n",
       "      <th>two</th>\n",
       "      <th>one</th>\n",
       "      <th>two</th>\n",
       "      <th>one</th>\n",
       "      <th>two</th>\n",
       "      <th>one</th>\n",
       "      <th>two</th>\n",
       "    </tr>\n",
       "  </thead>\n",
       "  <tbody>\n",
       "    <tr>\n",
       "      <th>A</th>\n",
       "      <td>0.486469</td>\n",
       "      <td>0.856955</td>\n",
       "      <td>-3.141083</td>\n",
       "      <td>0.335996</td>\n",
       "      <td>-1.324319</td>\n",
       "      <td>0.644449</td>\n",
       "      <td>0.533992</td>\n",
       "      <td>-0.364926</td>\n",
       "    </tr>\n",
       "    <tr>\n",
       "      <th>B</th>\n",
       "      <td>-0.670015</td>\n",
       "      <td>-0.453107</td>\n",
       "      <td>-1.497053</td>\n",
       "      <td>-0.864832</td>\n",
       "      <td>0.300417</td>\n",
       "      <td>1.892226</td>\n",
       "      <td>-0.401932</td>\n",
       "      <td>1.083283</td>\n",
       "    </tr>\n",
       "    <tr>\n",
       "      <th>C</th>\n",
       "      <td>0.864679</td>\n",
       "      <td>-0.134688</td>\n",
       "      <td>0.378430</td>\n",
       "      <td>0.256251</td>\n",
       "      <td>-0.458580</td>\n",
       "      <td>-0.402177</td>\n",
       "      <td>-0.274435</td>\n",
       "      <td>-0.592052</td>\n",
       "    </tr>\n",
       "  </tbody>\n",
       "</table>\n",
       "</div>"
      ],
      "text/plain": [
       "Animal       bar                 baz                 foo                 qux  \\\n",
       "Ordem        one       two       one       two       one       two       one   \n",
       "A       0.486469  0.856955 -3.141083  0.335996 -1.324319  0.644449  0.533992   \n",
       "B      -0.670015 -0.453107 -1.497053 -0.864832  0.300417  1.892226 -0.401932   \n",
       "C       0.864679 -0.134688  0.378430  0.256251 -0.458580 -0.402177 -0.274435   \n",
       "\n",
       "Animal            \n",
       "Ordem        two  \n",
       "A      -0.364926  \n",
       "B       1.083283  \n",
       "C      -0.592052  "
      ]
     },
     "execution_count": 28,
     "metadata": {},
     "output_type": "execute_result"
    }
   ],
   "source": [
    "with pd.option_context('display.multi_sparse', False):\n",
    "    df\n",
    "df"
   ]
  },
  {
   "cell_type": "markdown",
   "metadata": {},
   "source": [
    "A **Multiindexação** permite operações bastante úteis de:\n",
    "\n",
    "- agrupar (grouping)\n",
    "\n",
    "- selecionar (selection)\n",
    "\n",
    "- redimensionar (reshaping)\n",
    "\n",
    "Em alguns casos, eu nem chego a criar um **Multiindex**. Mesmo assim, sabendo o **ordenamento hierárquico** adequado, eu consigo trabalhar muito melhor com meus dados\n",
    "\n",
    "Uma estratégia legal é, logo à **importação** dos dados, já criar seu **Muiltiindex**. Como o **Seaborn** trabalha com dataframes inteiros, isso ajuda todas as minhas operações de visualização dos dados\n",
    "\n",
    "E eu sempre posso visualizar meus dados, indexados com as velhas e boas **tuplas**:"
   ]
  },
  {
   "cell_type": "code",
   "execution_count": 29,
   "metadata": {},
   "outputs": [
    {
     "data": {
      "text/plain": [
       "(bar, one)   -1.063637\n",
       "(bar, two)    0.003435\n",
       "(baz, one)    0.749566\n",
       "(baz, two)   -0.387872\n",
       "(foo, one)   -1.135378\n",
       "(foo, two)    0.409375\n",
       "(qux, one)   -0.649240\n",
       "(qux, two)    0.047979\n",
       "dtype: float64"
      ]
     },
     "execution_count": 29,
     "metadata": {},
     "output_type": "execute_result"
    }
   ],
   "source": [
    "pd.Series(np.random.randn(8), index=tuples)"
   ]
  },
  {
   "cell_type": "markdown",
   "metadata": {},
   "source": [
    "### Construção de Multi Índices - Parte 2\n",
    "\n",
    "---"
   ]
  },
  {
   "cell_type": "markdown",
   "metadata": {},
   "source": [
    "#### Reconstruindo os rótulos de níveis\n",
    "\n",
    "O método **.get_level_values()** irá retornar um vetor com os rótulos em cada nível específico\n",
    "\n",
    "Do mesmo modo, eu posso **redefinir** rótulos para um nível específico. É uma ferramenta bastante útil para manutenção"
   ]
  },
  {
   "cell_type": "code",
   "execution_count": 30,
   "metadata": {},
   "outputs": [
    {
     "data": {
      "text/plain": [
       "Index(['bar', 'bar', 'baz', 'baz', 'foo', 'foo', 'qux', 'qux'], dtype='object', name='Animal')"
      ]
     },
     "execution_count": 30,
     "metadata": {},
     "output_type": "execute_result"
    }
   ],
   "source": [
    "index.get_level_values(0)"
   ]
  },
  {
   "cell_type": "code",
   "execution_count": 32,
   "metadata": {},
   "outputs": [
    {
     "data": {
      "text/plain": [
       "Index(['one', 'two', 'one', 'two', 'one', 'two', 'one', 'two'], dtype='object', name='Ordem')"
      ]
     },
     "execution_count": 32,
     "metadata": {},
     "output_type": "execute_result"
    }
   ],
   "source": [
    "index.get_level_values('Ordem')"
   ]
  },
  {
   "cell_type": "markdown",
   "metadata": {},
   "source": [
    "#### Indexação básica em um eixo com Multiíndice\n",
    "\n",
    "---\n",
    "\n",
    "Um rótulo **parcial** identifica um **subgrupo** de dados no seu dataframe!\n",
    "\n",
    "Assim, da mesa maneira como selecionávamos **colunas** em um dataframe básico, agora podemos selecionar níveis hierárquicos de dados. Isso pode ser **extremamente útil** se bem usado, especialmente combinado com **Seaborn**"
   ]
  },
  {
   "cell_type": "code",
   "execution_count": 37,
   "metadata": {},
   "outputs": [
    {
     "data": {
      "text/html": [
       "<div>\n",
       "<style scoped>\n",
       "    .dataframe tbody tr th:only-of-type {\n",
       "        vertical-align: middle;\n",
       "    }\n",
       "\n",
       "    .dataframe tbody tr th {\n",
       "        vertical-align: top;\n",
       "    }\n",
       "\n",
       "    .dataframe thead tr th {\n",
       "        text-align: left;\n",
       "    }\n",
       "</style>\n",
       "<table border=\"1\" class=\"dataframe\">\n",
       "  <thead>\n",
       "    <tr>\n",
       "      <th>Animal</th>\n",
       "      <th colspan=\"2\" halign=\"left\">bar</th>\n",
       "      <th colspan=\"2\" halign=\"left\">baz</th>\n",
       "      <th colspan=\"2\" halign=\"left\">foo</th>\n",
       "      <th colspan=\"2\" halign=\"left\">qux</th>\n",
       "    </tr>\n",
       "    <tr>\n",
       "      <th>Ordem</th>\n",
       "      <th>one</th>\n",
       "      <th>two</th>\n",
       "      <th>one</th>\n",
       "      <th>two</th>\n",
       "      <th>one</th>\n",
       "      <th>two</th>\n",
       "      <th>one</th>\n",
       "      <th>two</th>\n",
       "    </tr>\n",
       "  </thead>\n",
       "  <tbody>\n",
       "    <tr>\n",
       "      <th>A</th>\n",
       "      <td>0.486469</td>\n",
       "      <td>0.856955</td>\n",
       "      <td>-3.141083</td>\n",
       "      <td>0.335996</td>\n",
       "      <td>-1.324319</td>\n",
       "      <td>0.644449</td>\n",
       "      <td>0.533992</td>\n",
       "      <td>-0.364926</td>\n",
       "    </tr>\n",
       "    <tr>\n",
       "      <th>B</th>\n",
       "      <td>-0.670015</td>\n",
       "      <td>-0.453107</td>\n",
       "      <td>-1.497053</td>\n",
       "      <td>-0.864832</td>\n",
       "      <td>0.300417</td>\n",
       "      <td>1.892226</td>\n",
       "      <td>-0.401932</td>\n",
       "      <td>1.083283</td>\n",
       "    </tr>\n",
       "    <tr>\n",
       "      <th>C</th>\n",
       "      <td>0.864679</td>\n",
       "      <td>-0.134688</td>\n",
       "      <td>0.378430</td>\n",
       "      <td>0.256251</td>\n",
       "      <td>-0.458580</td>\n",
       "      <td>-0.402177</td>\n",
       "      <td>-0.274435</td>\n",
       "      <td>-0.592052</td>\n",
       "    </tr>\n",
       "  </tbody>\n",
       "</table>\n",
       "</div>"
      ],
      "text/plain": [
       "Animal       bar                 baz                 foo                 qux  \\\n",
       "Ordem        one       two       one       two       one       two       one   \n",
       "A       0.486469  0.856955 -3.141083  0.335996 -1.324319  0.644449  0.533992   \n",
       "B      -0.670015 -0.453107 -1.497053 -0.864832  0.300417  1.892226 -0.401932   \n",
       "C       0.864679 -0.134688  0.378430  0.256251 -0.458580 -0.402177 -0.274435   \n",
       "\n",
       "Animal            \n",
       "Ordem        two  \n",
       "A      -0.364926  \n",
       "B       1.083283  \n",
       "C      -0.592052  "
      ]
     },
     "execution_count": 37,
     "metadata": {},
     "output_type": "execute_result"
    }
   ],
   "source": [
    "df"
   ]
  },
  {
   "cell_type": "code",
   "execution_count": 36,
   "metadata": {},
   "outputs": [
    {
     "data": {
      "text/html": [
       "<div>\n",
       "<style scoped>\n",
       "    .dataframe tbody tr th:only-of-type {\n",
       "        vertical-align: middle;\n",
       "    }\n",
       "\n",
       "    .dataframe tbody tr th {\n",
       "        vertical-align: top;\n",
       "    }\n",
       "\n",
       "    .dataframe thead th {\n",
       "        text-align: right;\n",
       "    }\n",
       "</style>\n",
       "<table border=\"1\" class=\"dataframe\">\n",
       "  <thead>\n",
       "    <tr style=\"text-align: right;\">\n",
       "      <th>Ordem</th>\n",
       "      <th>one</th>\n",
       "      <th>two</th>\n",
       "    </tr>\n",
       "  </thead>\n",
       "  <tbody>\n",
       "    <tr>\n",
       "      <th>A</th>\n",
       "      <td>0.486469</td>\n",
       "      <td>0.856955</td>\n",
       "    </tr>\n",
       "    <tr>\n",
       "      <th>B</th>\n",
       "      <td>-0.670015</td>\n",
       "      <td>-0.453107</td>\n",
       "    </tr>\n",
       "    <tr>\n",
       "      <th>C</th>\n",
       "      <td>0.864679</td>\n",
       "      <td>-0.134688</td>\n",
       "    </tr>\n",
       "  </tbody>\n",
       "</table>\n",
       "</div>"
      ],
      "text/plain": [
       "Ordem       one       two\n",
       "A      0.486469  0.856955\n",
       "B     -0.670015 -0.453107\n",
       "C      0.864679 -0.134688"
      ]
     },
     "execution_count": 36,
     "metadata": {},
     "output_type": "execute_result"
    }
   ],
   "source": [
    "df['bar']"
   ]
  },
  {
   "cell_type": "code",
   "execution_count": 38,
   "metadata": {},
   "outputs": [
    {
     "data": {
      "text/plain": [
       "A    0.486469\n",
       "B   -0.670015\n",
       "C    0.864679\n",
       "Name: (bar, one), dtype: float64"
      ]
     },
     "execution_count": 38,
     "metadata": {},
     "output_type": "execute_result"
    }
   ],
   "source": [
    "df['bar', 'one']"
   ]
  },
  {
   "cell_type": "code",
   "execution_count": 39,
   "metadata": {},
   "outputs": [
    {
     "data": {
      "text/plain": [
       "A    0.486469\n",
       "B   -0.670015\n",
       "C    0.864679\n",
       "Name: one, dtype: float64"
      ]
     },
     "execution_count": 39,
     "metadata": {},
     "output_type": "execute_result"
    }
   ],
   "source": [
    "df['bar']['one']"
   ]
  },
  {
   "cell_type": "code",
   "execution_count": 41,
   "metadata": {},
   "outputs": [
    {
     "data": {
      "text/plain": [
       "bar  one   -0.795296\n",
       "     two   -0.792742\n",
       "baz  one    0.139205\n",
       "     two    0.165114\n",
       "foo  one    0.300704\n",
       "     two    0.289664\n",
       "qux  one    0.932942\n",
       "     two    0.310368\n",
       "dtype: float64"
      ]
     },
     "execution_count": 41,
     "metadata": {},
     "output_type": "execute_result"
    }
   ],
   "source": [
    "s"
   ]
  },
  {
   "cell_type": "code",
   "execution_count": 40,
   "metadata": {},
   "outputs": [
    {
     "data": {
      "text/plain": [
       "one    0.932942\n",
       "two    0.310368\n",
       "dtype: float64"
      ]
     },
     "execution_count": 40,
     "metadata": {},
     "output_type": "execute_result"
    }
   ],
   "source": [
    "s['qux']"
   ]
  },
  {
   "cell_type": "markdown",
   "metadata": {},
   "source": [
    "#### Níveis definidos\n",
    "\n",
    "---\n",
    "\n",
    "A representação de um **Multiíndice** irá mostrar todos os níveis definidos para aquele índice. Em alguns casos isso fica um pouco confuso: "
   ]
  },
  {
   "cell_type": "code",
   "execution_count": 42,
   "metadata": {},
   "outputs": [
    {
     "data": {
      "text/plain": [
       "MultiIndex(levels=[['bar', 'baz', 'foo', 'qux'], ['one', 'two']],\n",
       "           labels=[[0, 0, 1, 1, 2, 2, 3, 3], [0, 1, 0, 1, 0, 1, 0, 1]],\n",
       "           names=['Animal', 'Ordem'])"
      ]
     },
     "execution_count": 42,
     "metadata": {},
     "output_type": "execute_result"
    }
   ],
   "source": [
    "df.columns  # original MultiIndex"
   ]
  },
  {
   "cell_type": "markdown",
   "metadata": {},
   "source": [
    "Agora eu estou trabalhando apenas com **dois** animais, usando uma operação de  **fatiamento**:"
   ]
  },
  {
   "cell_type": "code",
   "execution_count": 45,
   "metadata": {},
   "outputs": [
    {
     "data": {
      "text/plain": [
       "MultiIndex(levels=[['bar', 'baz', 'foo', 'qux'], ['one', 'two']],\n",
       "           labels=[[2, 2, 3, 3], [0, 1, 0, 1]],\n",
       "           names=['Animal', 'Ordem'])"
      ]
     },
     "execution_count": 45,
     "metadata": {},
     "output_type": "execute_result"
    }
   ],
   "source": [
    "df[['foo','qux']].columns  # sliced"
   ]
  },
  {
   "cell_type": "markdown",
   "metadata": {},
   "source": [
    "Isso é usado normalmente para acelerar a performance de operações de **fatiamento**. Ela evita o recálculo dos níveis\n",
    "\n",
    "*Observação: existem duas maneiras básicas de desenvolver*\n",
    "\n",
    "*- a **primeira** é a tradicional e é usada na nossa civilização desde o **Renascimento**. Funciona assim. Inicialmente você bota a coisa para funcionar. Então você tem uma ideia inicial de como resolver um problema, por exemplo como criar uma ponte a partir de troncos roliços e corda, a fim de atravessar um rio. Essa ideia inicial normalmente vem na forma de um **insight** na cabeça de um lunático. Então pessoas são convencidas a construir a ponte e se ela cai, o inventor é ridicularizado e sua ideia cai no abandono, até que apareça um outro doido com alguma ideia corretiva sobre o modelo (**paradigma**) inicial. Se ela perdura, então as pessoas vão tentar **entender** o que fez ela parar em pé. Nessa etapa, parte-se para a **astração** que pode envolver **geometria** e algum **modelamento matemático**. Então se padroniza o processo de fabricação e se produz aquele negócio por décadas, às vezes séculos, sem a mínima preocupação com **Otimização**. Até que algum infeliz, percebendo que o mercado está saturado, resolve entrar mesmo assim, introduzindo otimizações naquele paradigma. Ou em alguns casos o Governo, percebendo que a falta de **madeira roliça** está afetando a produção nacional de pontes (ou que a produção nacional de **alumínio** poderia ser estrategicamente escoada para o setor de construções), introduz **inovação funcional**, sem afetar o **paradigma**. Até que um dia um outro lunático introduz um modelo de **ponte autoconstruída** a partir de dois robôs 3D e argamassa de secagem rápida, formando um novo **paradigma** e assim em diante. (Para conhecer melhor esta estória, é bom ler os livros de T.S.Kuhn e de Imre Lakatos)*\n",
    "\n",
    "*Qual o problema de usarmos a abordagem **tradicional** em **Ciência da Computação**? É um problema meio básico. A tecnologia de 1600 era **tosca**, mas possuía uma qualidade positiva: ao olhar para aquele grupo de troncos roliços (o exemplo da ponte eu tirei do modelo de **Leonardo da Vinci**), você poderia entender o porquê a bagaça não deu certo. A visualização do erro, de onde se poderia otimizar e as possíveis correções é bastante óbvia*\n",
    "\n",
    "*Em **Ciência da Computação**, à medida que o código avança, ele se torna um **monstro**. Revisar 15 mil linhas de código é uma tarefa diabólica. Nenhum ser humano seria capaz de fazer isso. E programas tendem a **crescer** à medida que são operadas. Ou seja, o seu cliente, a partir do momento que começa a operar a ferramenta, começa a pedir mais e mais pontos de função e aquele bicho vai crescendo... com uma equipe razoável de digamos **meia dúzia** de programadores trabalhando **um ano**, você tem um monstro que quando começa a apresentar defeitos, se tornou irremediável. O novo iluminado **jamais** aparecerá!*\n",
    "\n",
    "*E então existe uma **metaciência** chamada **Epistemologia**. Às vezes a Epistemologia é tratada como a **Filosofia da Ciência** e às vezes como a **Ciência da Ciência**. Essa discussão é um pouco inútil, mas podemos entender que existem outras **maneiras** de encarar cientificamente um desafio. Então temos a nossa:*\n",
    "\n",
    "*- a **segunda** maneira de desenvolver foi criada inicialmente para lidar com **reatores nucleares**. O problema de um reator nuclear é que se você fizer qualquer besteira, mas qualquer **besteirinha** o nível do estrago é tão grande que esse seu acidente poderia comprometer por exemplo, a civilização humana em todo um **continente**! (Para quem achar que estou inventando, por favor pesquise sobre o acidente de Chernobyl. Se a segunda explosão tivesse ocorrido, a Europa hoje seria uma região inabitável!). Outro problema, agora na **operação** de um reator é que tudo tem que ser **preditivo**. Se você está entrando num **caminho sem volta**, você precisa começar imediatamente a enfiar **varetas moderadoras** no seu núcleo. Uma vez moderador você ainda tem que resfriar **ativamente** o seu núcleo por 24 horas, ou ele irá derreter e produzir um fenômeno chamado **Síndrome da China**. Se isso encontrar o lençol freático, os Prótons desaeleram, catalizando a fissão nuclear e... adeus Europa!\n",
    "\n",
    "*O mesmo vale para a **Ciência da Computação**. Então antes de começar a ter a sua **ideia genial** e começar a **prototipar**, primeiro passe um bom tempo pesquisando as **tecnologias existentes**. Nem sempre a melhor tecnologia é a **gratuita**. Assim como normalmente os grandes fabricantes de software não implementaram naquela sua mais recente versão do **Visual Studio** a tecnologia mais de ponta! (Se você duvida disso, por favor observe um automóvel do ano. E agora reflita: ele se parece com o **último avanço** da indústria automobilística mundial, ou a **materialização** de um projeto que foi dado início em meados da década de 1980, com introdução de uma ou outra tecnologia mais atual e testada da década de 1990 e com um design **realmente inovador** produzido por especialistas em disfarçar tecnologia inferior e ultrapassada para enganar trouxas como você?)*\n",
    "\n",
    "*Bom, na **abordagem preditiva**, antes do nosso **insight**, nós gastamos um bom tempo pesquisando e aprendendo sobre as mais novas abordagens de construção de software. Depois de nos adaptarmos a uma determinada tecnologia e a **incorporarmos** organicamente, partimos para a etapa do **insight**. Onde essa nova tecnologia nos levará, dado o desafio posto? Ou em alguns casos: qual o tipo de cliente que irá se interessar pela nossa nova ideia inovadora? (O que ocorre é mais um processo de **fusão** entre vários **paradigmas tecnológicos**, ou seja, avançamos em termos de **interciências** e não propriamente numa inovação de **base**)*\n",
    "\n",
    "*Em seguida, já com nosso **insight**, partimos para nossa **elaboração estratégica**. São todas as etapas de predição de todos os **caminhos críticos**, seleção de ferramentas, da técnica ou técnicas adotadas, instrumentos... Um pouco como o planejamento de uma **cirurgia**. Se você errar, seu paciente **morre**. Ou o tiro de um **Sniper**. É nessa etapa que eu crio um tipo de documentação, não aquela de implementação, mas a dos **caminhos**, o **resultado esperado** e como agir em cada **caso de caminho sem volta**. E para cada um desses casos de caminhos de risco, as pessoas envolvidas são **adestradas** para lidar com a **identificação precoce** da situação fora do comum e buscar proativamente **soluções antecipadoras** (não **soluções reparadoras**!) **antes** da coisa desvirtuar. E isso adentra as etapas mais operativas do desenvolvimento*\n",
    "\n",
    "*Por que escrevi essas linhas tão chatas? Por uma única palavra: **otimização**. Somos viciados pela técnica do **Renascimento** e nos prontificamos a **resolver a bagaça**. Depois que o programa ficou um **monstro**, daí tentamos implantar, a um custo **elevadísismo** métodos de otimização. É assim em quase toda empresa!*\n",
    "\n",
    "*Então anote na sua caderneta: **Otimização vem em primeiro lugar**. Lá naquela etapa da **abordagem preditiva**, já vá pensando na sua otimização. Então essa técnica bobinha ensiada neste tópico porcaria pode ser **fundamental** para um bom desenvolvimento. Esteja atento!*\n",
    "\n",
    "\n",
    "E se você quiser visualizar apenas os níveis utilizados, você pode usar o método **.get_level_values()**:"
   ]
  },
  {
   "cell_type": "code",
   "execution_count": 46,
   "metadata": {},
   "outputs": [
    {
     "data": {
      "text/plain": [
       "array([('foo', 'one'), ('foo', 'two'), ('qux', 'one'), ('qux', 'two')],\n",
       "      dtype=object)"
      ]
     },
     "execution_count": 46,
     "metadata": {},
     "output_type": "execute_result"
    }
   ],
   "source": [
    "df[['foo','qux']].columns.values"
   ]
  },
  {
   "cell_type": "code",
   "execution_count": 47,
   "metadata": {},
   "outputs": [
    {
     "data": {
      "text/plain": [
       "Index(['foo', 'foo', 'qux', 'qux'], dtype='object', name='Animal')"
      ]
     },
     "execution_count": 47,
     "metadata": {},
     "output_type": "execute_result"
    }
   ],
   "source": [
    "# for a specific level\n",
    "df[['foo','qux']].columns.get_level_values(0)"
   ]
  },
  {
   "cell_type": "markdown",
   "metadata": {},
   "source": [
    "Reconstruir o **Multiindex**, removendo níves não utilizados, com o método **.remove_unused_levels()**:"
   ]
  },
  {
   "cell_type": "code",
   "execution_count": 48,
   "metadata": {},
   "outputs": [
    {
     "data": {
      "text/plain": [
       "MultiIndex(levels=[['foo', 'qux'], ['one', 'two']],\n",
       "           labels=[[0, 0, 1, 1], [0, 1, 0, 1]],\n",
       "           names=['Animal', 'Ordem'])"
      ]
     },
     "execution_count": 48,
     "metadata": {},
     "output_type": "execute_result"
    }
   ],
   "source": [
    "df[['foo','qux']].columns.remove_unused_levels()"
   ]
  },
  {
   "cell_type": "markdown",
   "metadata": {},
   "source": [
    "#### Alinhamento e o uso de Reindex\n",
    "\n",
    "---\n",
    "\n",
    "Operações entre objetos indexados de maneiras diferentes funcionam da mesma maneira do que **índices em tuplas**"
   ]
  },
  {
   "cell_type": "code",
   "execution_count": 53,
   "metadata": {},
   "outputs": [
    {
     "data": {
      "text/plain": [
       "bar  one   -0.795296\n",
       "     two   -0.792742\n",
       "baz  one    0.139205\n",
       "     two    0.165114\n",
       "foo  one    0.300704\n",
       "     two    0.289664\n",
       "qux  one    0.932942\n",
       "     two    0.310368\n",
       "dtype: float64"
      ]
     },
     "execution_count": 53,
     "metadata": {},
     "output_type": "execute_result"
    }
   ],
   "source": [
    "s"
   ]
  },
  {
   "cell_type": "markdown",
   "metadata": {},
   "source": [
    "Corte no **eixo x**, note que o último elemento não existe no segundo dataframe"
   ]
  },
  {
   "cell_type": "code",
   "execution_count": 59,
   "metadata": {},
   "outputs": [
    {
     "data": {
      "text/plain": [
       "bar  one   -0.795296\n",
       "     two   -0.792742\n",
       "baz  one    0.139205\n",
       "     two    0.165114\n",
       "foo  one    0.300704\n",
       "     two    0.289664\n",
       "dtype: float64"
      ]
     },
     "execution_count": 59,
     "metadata": {},
     "output_type": "execute_result"
    }
   ],
   "source": [
    "s[:-2]"
   ]
  },
  {
   "cell_type": "code",
   "execution_count": 57,
   "metadata": {},
   "outputs": [
    {
     "data": {
      "text/plain": [
       "bar  one   -1.590591\n",
       "     two   -1.585484\n",
       "baz  one    0.278410\n",
       "     two    0.330228\n",
       "foo  one    0.601409\n",
       "     two    0.579327\n",
       "qux  one         NaN\n",
       "     two         NaN\n",
       "dtype: float64"
      ]
     },
     "execution_count": 57,
     "metadata": {},
     "output_type": "execute_result"
    }
   ],
   "source": [
    "s + s[:-2]"
   ]
  },
  {
   "cell_type": "markdown",
   "metadata": {},
   "source": [
    "---"
   ]
  },
  {
   "cell_type": "markdown",
   "metadata": {},
   "source": [
    "Outro exemplo, agora com corte no **eixo y**"
   ]
  },
  {
   "cell_type": "code",
   "execution_count": 60,
   "metadata": {},
   "outputs": [
    {
     "data": {
      "text/plain": [
       "bar  one   -0.795296\n",
       "baz  one    0.139205\n",
       "foo  one    0.300704\n",
       "qux  one    0.932942\n",
       "dtype: float64"
      ]
     },
     "execution_count": 60,
     "metadata": {},
     "output_type": "execute_result"
    }
   ],
   "source": [
    "s[::2]"
   ]
  },
  {
   "cell_type": "code",
   "execution_count": 51,
   "metadata": {},
   "outputs": [
    {
     "data": {
      "text/plain": [
       "bar  one   -1.590591\n",
       "     two         NaN\n",
       "baz  one    0.278410\n",
       "     two         NaN\n",
       "foo  one    0.601409\n",
       "     two         NaN\n",
       "qux  one    1.865883\n",
       "     two         NaN\n",
       "dtype: float64"
      ]
     },
     "execution_count": 51,
     "metadata": {},
     "output_type": "execute_result"
    }
   ],
   "source": [
    "s + s[::2]"
   ]
  },
  {
   "cell_type": "markdown",
   "metadata": {},
   "source": [
    "---\n",
    "\n",
    "Uso do método **.reindex()** pode se dar com outro **Muitiindex**, ou mesmo uma **lista**, ou **matriz de tuplas**"
   ]
  },
  {
   "cell_type": "code",
   "execution_count": 61,
   "metadata": {},
   "outputs": [
    {
     "data": {
      "text/plain": [
       "Animal  Ordem\n",
       "bar     one     -0.795296\n",
       "        two     -0.792742\n",
       "baz     one      0.139205\n",
       "dtype: float64"
      ]
     },
     "execution_count": 61,
     "metadata": {},
     "output_type": "execute_result"
    }
   ],
   "source": [
    "s.reindex(index[:3])"
   ]
  },
  {
   "cell_type": "markdown",
   "metadata": {},
   "source": [
    "*Observe que apenas os animais chamados nas tuplas constam na view do dataframe*"
   ]
  },
  {
   "cell_type": "code",
   "execution_count": 63,
   "metadata": {},
   "outputs": [
    {
     "data": {
      "text/plain": [
       "foo  two    0.289664\n",
       "bar  one   -0.795296\n",
       "qux  one    0.932942\n",
       "baz  one    0.139205\n",
       "dtype: float64"
      ]
     },
     "execution_count": 63,
     "metadata": {},
     "output_type": "execute_result"
    }
   ],
   "source": [
    "s.reindex([('foo', 'two'), ('bar', 'one'), ('qux', 'one'), ('baz', 'one')])"
   ]
  },
  {
   "cell_type": "markdown",
   "metadata": {},
   "source": [
    "### Indexação avançada com hierarquização\n",
    "\n",
    "---"
   ]
  },
  {
   "cell_type": "code",
   "execution_count": 67,
   "metadata": {},
   "outputs": [
    {
     "data": {
      "text/html": [
       "<div>\n",
       "<style scoped>\n",
       "    .dataframe tbody tr th:only-of-type {\n",
       "        vertical-align: middle;\n",
       "    }\n",
       "\n",
       "    .dataframe tbody tr th {\n",
       "        vertical-align: top;\n",
       "    }\n",
       "\n",
       "    .dataframe thead tr th {\n",
       "        text-align: left;\n",
       "    }\n",
       "</style>\n",
       "<table border=\"1\" class=\"dataframe\">\n",
       "  <thead>\n",
       "    <tr>\n",
       "      <th>Animal</th>\n",
       "      <th colspan=\"2\" halign=\"left\">bar</th>\n",
       "      <th colspan=\"2\" halign=\"left\">baz</th>\n",
       "      <th colspan=\"2\" halign=\"left\">foo</th>\n",
       "      <th colspan=\"2\" halign=\"left\">qux</th>\n",
       "    </tr>\n",
       "    <tr>\n",
       "      <th>Ordem</th>\n",
       "      <th>one</th>\n",
       "      <th>two</th>\n",
       "      <th>one</th>\n",
       "      <th>two</th>\n",
       "      <th>one</th>\n",
       "      <th>two</th>\n",
       "      <th>one</th>\n",
       "      <th>two</th>\n",
       "    </tr>\n",
       "  </thead>\n",
       "  <tbody>\n",
       "    <tr>\n",
       "      <th>A</th>\n",
       "      <td>0.486469</td>\n",
       "      <td>0.856955</td>\n",
       "      <td>-3.141083</td>\n",
       "      <td>0.335996</td>\n",
       "      <td>-1.324319</td>\n",
       "      <td>0.644449</td>\n",
       "      <td>0.533992</td>\n",
       "      <td>-0.364926</td>\n",
       "    </tr>\n",
       "    <tr>\n",
       "      <th>B</th>\n",
       "      <td>-0.670015</td>\n",
       "      <td>-0.453107</td>\n",
       "      <td>-1.497053</td>\n",
       "      <td>-0.864832</td>\n",
       "      <td>0.300417</td>\n",
       "      <td>1.892226</td>\n",
       "      <td>-0.401932</td>\n",
       "      <td>1.083283</td>\n",
       "    </tr>\n",
       "    <tr>\n",
       "      <th>C</th>\n",
       "      <td>0.864679</td>\n",
       "      <td>-0.134688</td>\n",
       "      <td>0.378430</td>\n",
       "      <td>0.256251</td>\n",
       "      <td>-0.458580</td>\n",
       "      <td>-0.402177</td>\n",
       "      <td>-0.274435</td>\n",
       "      <td>-0.592052</td>\n",
       "    </tr>\n",
       "  </tbody>\n",
       "</table>\n",
       "</div>"
      ],
      "text/plain": [
       "Animal       bar                 baz                 foo                 qux  \\\n",
       "Ordem        one       two       one       two       one       two       one   \n",
       "A       0.486469  0.856955 -3.141083  0.335996 -1.324319  0.644449  0.533992   \n",
       "B      -0.670015 -0.453107 -1.497053 -0.864832  0.300417  1.892226 -0.401932   \n",
       "C       0.864679 -0.134688  0.378430  0.256251 -0.458580 -0.402177 -0.274435   \n",
       "\n",
       "Animal            \n",
       "Ordem        two  \n",
       "A      -0.364926  \n",
       "B       1.083283  \n",
       "C      -0.592052  "
      ]
     },
     "execution_count": 67,
     "metadata": {},
     "output_type": "execute_result"
    }
   ],
   "source": [
    "df"
   ]
  },
  {
   "cell_type": "markdown",
   "metadata": {},
   "source": [
    "Fazendo a **Transposta** de df"
   ]
  },
  {
   "cell_type": "code",
   "execution_count": 68,
   "metadata": {},
   "outputs": [
    {
     "data": {
      "text/html": [
       "<div>\n",
       "<style scoped>\n",
       "    .dataframe tbody tr th:only-of-type {\n",
       "        vertical-align: middle;\n",
       "    }\n",
       "\n",
       "    .dataframe tbody tr th {\n",
       "        vertical-align: top;\n",
       "    }\n",
       "\n",
       "    .dataframe thead th {\n",
       "        text-align: right;\n",
       "    }\n",
       "</style>\n",
       "<table border=\"1\" class=\"dataframe\">\n",
       "  <thead>\n",
       "    <tr style=\"text-align: right;\">\n",
       "      <th></th>\n",
       "      <th></th>\n",
       "      <th>A</th>\n",
       "      <th>B</th>\n",
       "      <th>C</th>\n",
       "    </tr>\n",
       "    <tr>\n",
       "      <th>Animal</th>\n",
       "      <th>Ordem</th>\n",
       "      <th></th>\n",
       "      <th></th>\n",
       "      <th></th>\n",
       "    </tr>\n",
       "  </thead>\n",
       "  <tbody>\n",
       "    <tr>\n",
       "      <th rowspan=\"2\" valign=\"top\">bar</th>\n",
       "      <th>one</th>\n",
       "      <td>0.486469</td>\n",
       "      <td>-0.670015</td>\n",
       "      <td>0.864679</td>\n",
       "    </tr>\n",
       "    <tr>\n",
       "      <th>two</th>\n",
       "      <td>0.856955</td>\n",
       "      <td>-0.453107</td>\n",
       "      <td>-0.134688</td>\n",
       "    </tr>\n",
       "    <tr>\n",
       "      <th rowspan=\"2\" valign=\"top\">baz</th>\n",
       "      <th>one</th>\n",
       "      <td>-3.141083</td>\n",
       "      <td>-1.497053</td>\n",
       "      <td>0.378430</td>\n",
       "    </tr>\n",
       "    <tr>\n",
       "      <th>two</th>\n",
       "      <td>0.335996</td>\n",
       "      <td>-0.864832</td>\n",
       "      <td>0.256251</td>\n",
       "    </tr>\n",
       "    <tr>\n",
       "      <th rowspan=\"2\" valign=\"top\">foo</th>\n",
       "      <th>one</th>\n",
       "      <td>-1.324319</td>\n",
       "      <td>0.300417</td>\n",
       "      <td>-0.458580</td>\n",
       "    </tr>\n",
       "    <tr>\n",
       "      <th>two</th>\n",
       "      <td>0.644449</td>\n",
       "      <td>1.892226</td>\n",
       "      <td>-0.402177</td>\n",
       "    </tr>\n",
       "    <tr>\n",
       "      <th rowspan=\"2\" valign=\"top\">qux</th>\n",
       "      <th>one</th>\n",
       "      <td>0.533992</td>\n",
       "      <td>-0.401932</td>\n",
       "      <td>-0.274435</td>\n",
       "    </tr>\n",
       "    <tr>\n",
       "      <th>two</th>\n",
       "      <td>-0.364926</td>\n",
       "      <td>1.083283</td>\n",
       "      <td>-0.592052</td>\n",
       "    </tr>\n",
       "  </tbody>\n",
       "</table>\n",
       "</div>"
      ],
      "text/plain": [
       "                     A         B         C\n",
       "Animal Ordem                              \n",
       "bar    one    0.486469 -0.670015  0.864679\n",
       "       two    0.856955 -0.453107 -0.134688\n",
       "baz    one   -3.141083 -1.497053  0.378430\n",
       "       two    0.335996 -0.864832  0.256251\n",
       "foo    one   -1.324319  0.300417 -0.458580\n",
       "       two    0.644449  1.892226 -0.402177\n",
       "qux    one    0.533992 -0.401932 -0.274435\n",
       "       two   -0.364926  1.083283 -0.592052"
      ]
     },
     "execution_count": 68,
     "metadata": {},
     "output_type": "execute_result"
    }
   ],
   "source": [
    "df = df.T\n",
    "df"
   ]
  },
  {
   "cell_type": "markdown",
   "metadata": {},
   "source": [
    "O material a seguir usa o método **\".loc\"**"
   ]
  },
  {
   "cell_type": "code",
   "execution_count": 70,
   "metadata": {},
   "outputs": [
    {
     "data": {
      "text/plain": [
       "A    0.856955\n",
       "B   -0.453107\n",
       "C   -0.134688\n",
       "Name: (bar, two), dtype: float64"
      ]
     },
     "execution_count": 70,
     "metadata": {},
     "output_type": "execute_result"
    }
   ],
   "source": [
    "df.loc[('bar', 'two'),]"
   ]
  },
  {
   "cell_type": "markdown",
   "metadata": {},
   "source": [
    "Evite esta forma mais **aberta** de notação. Ela pode ocasionar ambiguidade!"
   ]
  },
  {
   "cell_type": "code",
   "execution_count": 71,
   "metadata": {},
   "outputs": [
    {
     "data": {
      "text/plain": [
       "A    0.856955\n",
       "B   -0.453107\n",
       "C   -0.134688\n",
       "Name: (bar, two), dtype: float64"
      ]
     },
     "execution_count": 71,
     "metadata": {},
     "output_type": "execute_result"
    }
   ],
   "source": [
    "df.loc['bar', 'two']"
   ]
  },
  {
   "cell_type": "markdown",
   "metadata": {},
   "source": [
    "Aqui é tipo **Batalha Naval**, linha x coluna:"
   ]
  },
  {
   "cell_type": "code",
   "execution_count": 73,
   "metadata": {},
   "outputs": [
    {
     "data": {
      "text/plain": [
       "0.8569549960905171"
      ]
     },
     "execution_count": 73,
     "metadata": {},
     "output_type": "execute_result"
    }
   ],
   "source": [
    "df.loc[('bar', 'two'), 'A']"
   ]
  },
  {
   "cell_type": "markdown",
   "metadata": {},
   "source": [
    "Eu não preciso dar o caminho completo. Agora eu quero apenas o animal **bar**:"
   ]
  },
  {
   "cell_type": "code",
   "execution_count": 76,
   "metadata": {},
   "outputs": [
    {
     "data": {
      "text/html": [
       "<div>\n",
       "<style scoped>\n",
       "    .dataframe tbody tr th:only-of-type {\n",
       "        vertical-align: middle;\n",
       "    }\n",
       "\n",
       "    .dataframe tbody tr th {\n",
       "        vertical-align: top;\n",
       "    }\n",
       "\n",
       "    .dataframe thead th {\n",
       "        text-align: right;\n",
       "    }\n",
       "</style>\n",
       "<table border=\"1\" class=\"dataframe\">\n",
       "  <thead>\n",
       "    <tr style=\"text-align: right;\">\n",
       "      <th></th>\n",
       "      <th>A</th>\n",
       "      <th>B</th>\n",
       "      <th>C</th>\n",
       "    </tr>\n",
       "    <tr>\n",
       "      <th>Ordem</th>\n",
       "      <th></th>\n",
       "      <th></th>\n",
       "      <th></th>\n",
       "    </tr>\n",
       "  </thead>\n",
       "  <tbody>\n",
       "    <tr>\n",
       "      <th>one</th>\n",
       "      <td>0.486469</td>\n",
       "      <td>-0.670015</td>\n",
       "      <td>0.864679</td>\n",
       "    </tr>\n",
       "    <tr>\n",
       "      <th>two</th>\n",
       "      <td>0.856955</td>\n",
       "      <td>-0.453107</td>\n",
       "      <td>-0.134688</td>\n",
       "    </tr>\n",
       "  </tbody>\n",
       "</table>\n",
       "</div>"
      ],
      "text/plain": [
       "              A         B         C\n",
       "Ordem                              \n",
       "one    0.486469 -0.670015  0.864679\n",
       "two    0.856955 -0.453107 -0.134688"
      ]
     },
     "execution_count": 76,
     "metadata": {},
     "output_type": "execute_result"
    }
   ],
   "source": [
    "df.loc['bar']"
   ]
  },
  {
   "cell_type": "markdown",
   "metadata": {},
   "source": [
    "Fatiamento parcial:"
   ]
  },
  {
   "cell_type": "code",
   "execution_count": 106,
   "metadata": {},
   "outputs": [
    {
     "data": {
      "text/html": [
       "<div>\n",
       "<style scoped>\n",
       "    .dataframe tbody tr th:only-of-type {\n",
       "        vertical-align: middle;\n",
       "    }\n",
       "\n",
       "    .dataframe tbody tr th {\n",
       "        vertical-align: top;\n",
       "    }\n",
       "\n",
       "    .dataframe thead th {\n",
       "        text-align: right;\n",
       "    }\n",
       "</style>\n",
       "<table border=\"1\" class=\"dataframe\">\n",
       "  <thead>\n",
       "    <tr style=\"text-align: right;\">\n",
       "      <th></th>\n",
       "      <th></th>\n",
       "      <th>A</th>\n",
       "      <th>B</th>\n",
       "      <th>C</th>\n",
       "    </tr>\n",
       "    <tr>\n",
       "      <th>Animal</th>\n",
       "      <th>Ordem</th>\n",
       "      <th></th>\n",
       "      <th></th>\n",
       "      <th></th>\n",
       "    </tr>\n",
       "  </thead>\n",
       "  <tbody>\n",
       "    <tr>\n",
       "      <th rowspan=\"2\" valign=\"top\">baz</th>\n",
       "      <th>one</th>\n",
       "      <td>0.675852</td>\n",
       "      <td>-1.191671</td>\n",
       "      <td>-1.839097</td>\n",
       "    </tr>\n",
       "    <tr>\n",
       "      <th>two</th>\n",
       "      <td>-0.454042</td>\n",
       "      <td>0.150590</td>\n",
       "      <td>-0.085514</td>\n",
       "    </tr>\n",
       "    <tr>\n",
       "      <th rowspan=\"2\" valign=\"top\">foo</th>\n",
       "      <th>one</th>\n",
       "      <td>-0.028927</td>\n",
       "      <td>1.579148</td>\n",
       "      <td>-0.288390</td>\n",
       "    </tr>\n",
       "    <tr>\n",
       "      <th>two</th>\n",
       "      <td>-0.527151</td>\n",
       "      <td>0.081402</td>\n",
       "      <td>0.036511</td>\n",
       "    </tr>\n",
       "  </tbody>\n",
       "</table>\n",
       "</div>"
      ],
      "text/plain": [
       "                     A         B         C\n",
       "Animal Ordem                              \n",
       "baz    one    0.675852 -1.191671 -1.839097\n",
       "       two   -0.454042  0.150590 -0.085514\n",
       "foo    one   -0.028927  1.579148 -0.288390\n",
       "       two   -0.527151  0.081402  0.036511"
      ]
     },
     "execution_count": 106,
     "metadata": {},
     "output_type": "execute_result"
    }
   ],
   "source": [
    "df.loc['baz':'foo']"
   ]
  },
  {
   "cell_type": "code",
   "execution_count": 107,
   "metadata": {},
   "outputs": [
    {
     "data": {
      "text/html": [
       "<div>\n",
       "<style scoped>\n",
       "    .dataframe tbody tr th:only-of-type {\n",
       "        vertical-align: middle;\n",
       "    }\n",
       "\n",
       "    .dataframe tbody tr th {\n",
       "        vertical-align: top;\n",
       "    }\n",
       "\n",
       "    .dataframe thead th {\n",
       "        text-align: right;\n",
       "    }\n",
       "</style>\n",
       "<table border=\"1\" class=\"dataframe\">\n",
       "  <thead>\n",
       "    <tr style=\"text-align: right;\">\n",
       "      <th></th>\n",
       "      <th></th>\n",
       "      <th>A</th>\n",
       "      <th>B</th>\n",
       "      <th>C</th>\n",
       "    </tr>\n",
       "    <tr>\n",
       "      <th>Animal</th>\n",
       "      <th>Ordem</th>\n",
       "      <th></th>\n",
       "      <th></th>\n",
       "      <th></th>\n",
       "    </tr>\n",
       "  </thead>\n",
       "  <tbody>\n",
       "    <tr>\n",
       "      <th>baz</th>\n",
       "      <th>two</th>\n",
       "      <td>-0.454042</td>\n",
       "      <td>0.150590</td>\n",
       "      <td>-0.085514</td>\n",
       "    </tr>\n",
       "    <tr>\n",
       "      <th rowspan=\"2\" valign=\"top\">foo</th>\n",
       "      <th>one</th>\n",
       "      <td>-0.028927</td>\n",
       "      <td>1.579148</td>\n",
       "      <td>-0.288390</td>\n",
       "    </tr>\n",
       "    <tr>\n",
       "      <th>two</th>\n",
       "      <td>-0.527151</td>\n",
       "      <td>0.081402</td>\n",
       "      <td>0.036511</td>\n",
       "    </tr>\n",
       "  </tbody>\n",
       "</table>\n",
       "</div>"
      ],
      "text/plain": [
       "                     A         B         C\n",
       "Animal Ordem                              \n",
       "baz    two   -0.454042  0.150590 -0.085514\n",
       "foo    one   -0.028927  1.579148 -0.288390\n",
       "       two   -0.527151  0.081402  0.036511"
      ]
     },
     "execution_count": 107,
     "metadata": {},
     "output_type": "execute_result"
    }
   ],
   "source": [
    "df.loc[('baz', 'two'):('qux', 'one')]"
   ]
  },
  {
   "cell_type": "markdown",
   "metadata": {},
   "source": [
    "---"
   ]
  },
  {
   "cell_type": "markdown",
   "metadata": {},
   "source": [
    "Fatiamento de uma **banda** (range) de valores, fornecendo uma fatia de tuplas:"
   ]
  },
  {
   "cell_type": "code",
   "execution_count": 78,
   "metadata": {},
   "outputs": [
    {
     "data": {
      "text/html": [
       "<div>\n",
       "<style scoped>\n",
       "    .dataframe tbody tr th:only-of-type {\n",
       "        vertical-align: middle;\n",
       "    }\n",
       "\n",
       "    .dataframe tbody tr th {\n",
       "        vertical-align: top;\n",
       "    }\n",
       "\n",
       "    .dataframe thead th {\n",
       "        text-align: right;\n",
       "    }\n",
       "</style>\n",
       "<table border=\"1\" class=\"dataframe\">\n",
       "  <thead>\n",
       "    <tr style=\"text-align: right;\">\n",
       "      <th></th>\n",
       "      <th></th>\n",
       "      <th>A</th>\n",
       "      <th>B</th>\n",
       "      <th>C</th>\n",
       "    </tr>\n",
       "    <tr>\n",
       "      <th>Animal</th>\n",
       "      <th>Ordem</th>\n",
       "      <th></th>\n",
       "      <th></th>\n",
       "      <th></th>\n",
       "    </tr>\n",
       "  </thead>\n",
       "  <tbody>\n",
       "    <tr>\n",
       "      <th>bar</th>\n",
       "      <th>two</th>\n",
       "      <td>0.856955</td>\n",
       "      <td>-0.453107</td>\n",
       "      <td>-0.134688</td>\n",
       "    </tr>\n",
       "    <tr>\n",
       "      <th>qux</th>\n",
       "      <th>one</th>\n",
       "      <td>0.533992</td>\n",
       "      <td>-0.401932</td>\n",
       "      <td>-0.274435</td>\n",
       "    </tr>\n",
       "  </tbody>\n",
       "</table>\n",
       "</div>"
      ],
      "text/plain": [
       "                     A         B         C\n",
       "Animal Ordem                              \n",
       "bar    two    0.856955 -0.453107 -0.134688\n",
       "qux    one    0.533992 -0.401932 -0.274435"
      ]
     },
     "execution_count": 78,
     "metadata": {},
     "output_type": "execute_result"
    }
   ],
   "source": [
    "df.loc[[('bar', 'two'), ('qux', 'one')]]"
   ]
  },
  {
   "cell_type": "markdown",
   "metadata": {},
   "source": [
    "Observe que a escrita é bastante flexível"
   ]
  },
  {
   "cell_type": "code",
   "execution_count": 79,
   "metadata": {},
   "outputs": [
    {
     "data": {
      "text/html": [
       "<div>\n",
       "<style scoped>\n",
       "    .dataframe tbody tr th:only-of-type {\n",
       "        vertical-align: middle;\n",
       "    }\n",
       "\n",
       "    .dataframe tbody tr th {\n",
       "        vertical-align: top;\n",
       "    }\n",
       "\n",
       "    .dataframe thead th {\n",
       "        text-align: right;\n",
       "    }\n",
       "</style>\n",
       "<table border=\"1\" class=\"dataframe\">\n",
       "  <thead>\n",
       "    <tr style=\"text-align: right;\">\n",
       "      <th></th>\n",
       "      <th></th>\n",
       "      <th>A</th>\n",
       "      <th>B</th>\n",
       "      <th>C</th>\n",
       "    </tr>\n",
       "    <tr>\n",
       "      <th>Animal</th>\n",
       "      <th>Ordem</th>\n",
       "      <th></th>\n",
       "      <th></th>\n",
       "      <th></th>\n",
       "    </tr>\n",
       "  </thead>\n",
       "  <tbody>\n",
       "    <tr>\n",
       "      <th>baz</th>\n",
       "      <th>two</th>\n",
       "      <td>0.335996</td>\n",
       "      <td>-0.864832</td>\n",
       "      <td>0.256251</td>\n",
       "    </tr>\n",
       "    <tr>\n",
       "      <th rowspan=\"2\" valign=\"top\">foo</th>\n",
       "      <th>one</th>\n",
       "      <td>-1.324319</td>\n",
       "      <td>0.300417</td>\n",
       "      <td>-0.458580</td>\n",
       "    </tr>\n",
       "    <tr>\n",
       "      <th>two</th>\n",
       "      <td>0.644449</td>\n",
       "      <td>1.892226</td>\n",
       "      <td>-0.402177</td>\n",
       "    </tr>\n",
       "  </tbody>\n",
       "</table>\n",
       "</div>"
      ],
      "text/plain": [
       "                     A         B         C\n",
       "Animal Ordem                              \n",
       "baz    two    0.335996 -0.864832  0.256251\n",
       "foo    one   -1.324319  0.300417 -0.458580\n",
       "       two    0.644449  1.892226 -0.402177"
      ]
     },
     "execution_count": 79,
     "metadata": {},
     "output_type": "execute_result"
    }
   ],
   "source": [
    "df.loc[('baz', 'two'):'foo']"
   ]
  },
  {
   "cell_type": "markdown",
   "metadata": {},
   "source": [
    "---"
   ]
  },
  {
   "cell_type": "markdown",
   "metadata": {},
   "source": [
    "Fornecer uma lista de **Rótulos** ou **Tuplas** funciona de maneira similar a **Reindexar**:"
   ]
  },
  {
   "cell_type": "code",
   "execution_count": 81,
   "metadata": {},
   "outputs": [
    {
     "data": {
      "text/html": [
       "<div>\n",
       "<style scoped>\n",
       "    .dataframe tbody tr th:only-of-type {\n",
       "        vertical-align: middle;\n",
       "    }\n",
       "\n",
       "    .dataframe tbody tr th {\n",
       "        vertical-align: top;\n",
       "    }\n",
       "\n",
       "    .dataframe thead th {\n",
       "        text-align: right;\n",
       "    }\n",
       "</style>\n",
       "<table border=\"1\" class=\"dataframe\">\n",
       "  <thead>\n",
       "    <tr style=\"text-align: right;\">\n",
       "      <th></th>\n",
       "      <th></th>\n",
       "      <th>A</th>\n",
       "      <th>B</th>\n",
       "      <th>C</th>\n",
       "    </tr>\n",
       "    <tr>\n",
       "      <th>Animal</th>\n",
       "      <th>Ordem</th>\n",
       "      <th></th>\n",
       "      <th></th>\n",
       "      <th></th>\n",
       "    </tr>\n",
       "  </thead>\n",
       "  <tbody>\n",
       "    <tr>\n",
       "      <th>bar</th>\n",
       "      <th>two</th>\n",
       "      <td>0.856955</td>\n",
       "      <td>-0.453107</td>\n",
       "      <td>-0.134688</td>\n",
       "    </tr>\n",
       "    <tr>\n",
       "      <th>qux</th>\n",
       "      <th>one</th>\n",
       "      <td>0.533992</td>\n",
       "      <td>-0.401932</td>\n",
       "      <td>-0.274435</td>\n",
       "    </tr>\n",
       "  </tbody>\n",
       "</table>\n",
       "</div>"
      ],
      "text/plain": [
       "                     A         B         C\n",
       "Animal Ordem                              \n",
       "bar    two    0.856955 -0.453107 -0.134688\n",
       "qux    one    0.533992 -0.401932 -0.274435"
      ]
     },
     "execution_count": 81,
     "metadata": {},
     "output_type": "execute_result"
    }
   ],
   "source": [
    "df.loc[[('bar', 'two'), ('qux', 'one')]]"
   ]
  },
  {
   "cell_type": "code",
   "execution_count": 82,
   "metadata": {},
   "outputs": [
    {
     "data": {
      "text/plain": [
       "A  c    1\n",
       "   d    2\n",
       "   e    3\n",
       "B  c    4\n",
       "   d    5\n",
       "   e    6\n",
       "dtype: int64"
      ]
     },
     "execution_count": 82,
     "metadata": {},
     "output_type": "execute_result"
    }
   ],
   "source": [
    "s = pd.Series([1, 2, 3, 4, 5, 6],\n",
    "   index=pd.MultiIndex.from_product([[\"A\", \"B\"], [\"c\", \"d\", \"e\"]]))\n",
    "s"
   ]
  },
  {
   "cell_type": "markdown",
   "metadata": {},
   "source": [
    "Posso passar uma **Lista de Tuplas** que eu desejo como resposta:\n",
    "\n",
    "    [minha lista... (I,i), (I,i)...] <-- os (I,i) são endereços, como na lista de Schindler!"
   ]
  },
  {
   "cell_type": "code",
   "execution_count": 86,
   "metadata": {},
   "outputs": [
    {
     "data": {
      "text/plain": [
       "A  c    1\n",
       "B  d    5\n",
       "A  e    3\n",
       "dtype: int64"
      ]
     },
     "execution_count": 86,
     "metadata": {},
     "output_type": "execute_result"
    }
   ],
   "source": [
    "s.loc[[(\"A\", \"c\"), (\"B\", \"d\"), (\"A\", \"e\")]]  # list of tuples"
   ]
  },
  {
   "cell_type": "markdown",
   "metadata": {},
   "source": [
    "Ou uma **Tupla de Listas**:\n",
    "\n",
    "    [minha lista... (I,i)] <-- nesse caso eu passei uma única Tupla, mas poderia ter passado mais!\n",
    "    \n",
    "    (I,i) <-- só que minha tupla é complexa: (I=\"A\" ou \"B\", i=\"c\" ou \"d\")\n",
    "    \n",
    "*Apenas a criatividade limita o que pode ser feito com isso...*"
   ]
  },
  {
   "cell_type": "code",
   "execution_count": 84,
   "metadata": {},
   "outputs": [
    {
     "data": {
      "text/plain": [
       "A  c    1\n",
       "   d    2\n",
       "B  c    4\n",
       "   d    5\n",
       "dtype: int64"
      ]
     },
     "execution_count": 84,
     "metadata": {},
     "output_type": "execute_result"
    }
   ],
   "source": [
    "s.loc[([\"A\", \"B\"], [\"c\", \"d\"])]  # tuple of lists"
   ]
  },
  {
   "cell_type": "markdown",
   "metadata": {},
   "source": [
    "---"
   ]
  },
  {
   "cell_type": "markdown",
   "metadata": {},
   "source": [
    "#### Usando fatiadores"
   ]
  },
  {
   "cell_type": "markdown",
   "metadata": {},
   "source": [
    "O Python traz várias maneiras simplificadas para escrever as coisas. Como o padrão é que você esteja usando o **eixo X**, ele permite que você escreva o código assim:\n",
    "\n",
    "    df.loc[(slice('A1','A3'),.....)]\n",
    "    \n",
    "Mas **não** faça isso! Escreva seus códigos sempre com **capricho** e evitando ambiguidades. Isso pode ser mal interpretado como uma indexação de **ambos os eixos**. Encontrar e corrigir esses erros bestas pode lhe custar muito caro. Escreva assim:\n",
    "\n",
    "    df.loc[(slice('A1','A3'),.....), :]\n",
    "    \n",
    "*Observação: o elegante não é o curto! O elegante é aquilo que traz toda informação, sem dar margem a dubiedade. Muitas vezes quem **corrige** e **aprimora** um código não é aquele que o escreveu. Portanto, use sempre variáveis claras, funções bem definidas, objetos bem documentados e outras coisas que façam valer o seu **nome** como profissional. Pessoas **malditas** que escrevem código da maneira mais obscura possível para que sejam depois chamados para consertar, normalmente ficam com a carreira **manchada** e uma hora têm que mudar de profissão!*\n",
    "\n",
    "*Outra coisa: tornar sistemas **obscuros** não lhe garante que você vá continuar sendo chamado para trabalhar nele. Uma hora quem o contratou irá se encher de você e perceber a sua má fé e irá contratar um profissional para **hackear** todas as coisas que você deixou escondidas e fazer uma **engenharia reversa** no seu produto e reescrever tudo de novo de uma maneira simples e clara. No mundo da computação todo mundo se conhece. Os trapaceiros ficam marcados* "
   ]
  },
  {
   "cell_type": "code",
   "execution_count": 103,
   "metadata": {},
   "outputs": [
    {
     "name": "stdout",
     "output_type": "stream",
     "text": [
      "MultiIndex(levels=[['a', 'b'], ['bah', 'bar', 'foo']],\n",
      "           labels=[[0, 0, 1, 1], [2, 1, 2, 0]],\n",
      "           names=['lvl0', 'lvl1'])\n",
      "lvl0           a         b     \n",
      "lvl1         bar  foo  bah  foo\n",
      "A0 B0 C0 D0    1    0    3    2\n",
      "         D1    5    4    7    6\n",
      "      C1 D0    9    8   11   10\n",
      "         D1   13   12   15   14\n",
      "      C2 D0   17   16   19   18\n",
      "...          ...  ...  ...  ...\n",
      "A3 B1 C1 D1  237  236  239  238\n",
      "      C2 D0  241  240  243  242\n",
      "         D1  245  244  247  246\n",
      "      C3 D0  249  248  251  250\n",
      "         D1  253  252  255  254\n",
      "\n",
      "[64 rows x 4 columns]\n"
     ]
    }
   ],
   "source": [
    "def mklbl(prefix,n):\n",
    "    return [\"%s%s\" % (prefix,i)  for i in range(n)] \n",
    "\n",
    "miindex = pd.MultiIndex.from_product([mklbl('A',4),\n",
    "                                      mklbl('B',2),\n",
    "                                      mklbl('C',4),\n",
    "                                      mklbl('D',2)]) \n",
    "\n",
    "micolumns = pd.MultiIndex.from_tuples([('a','foo'),('a','bar'),\n",
    "                                       ('b','foo'),('b','bah')],\n",
    "                                       names=['lvl0', 'lvl1'])\n",
    "print(micolumns)\n",
    "\n",
    "dfmi = pd.DataFrame(np.arange(len(miindex)*len(micolumns)).reshape((len(miindex),len(micolumns))),\n",
    "                     index=miindex,\n",
    "                     columns=micolumns).sort_index().sort_index(axis=1)\n",
    "\n",
    "with pd.option_context('display.max_rows',10): #apenas um pedaço do meu dataframe é exibido\n",
    "    print(dfmi)"
   ]
  },
  {
   "cell_type": "code",
   "execution_count": 105,
   "metadata": {},
   "outputs": [
    {
     "data": {
      "text/html": [
       "<div>\n",
       "<style scoped>\n",
       "    .dataframe tbody tr th:only-of-type {\n",
       "        vertical-align: middle;\n",
       "    }\n",
       "\n",
       "    .dataframe tbody tr th {\n",
       "        vertical-align: top;\n",
       "    }\n",
       "\n",
       "    .dataframe thead tr th {\n",
       "        text-align: left;\n",
       "    }\n",
       "</style>\n",
       "<table border=\"1\" class=\"dataframe\">\n",
       "  <thead>\n",
       "    <tr>\n",
       "      <th></th>\n",
       "      <th></th>\n",
       "      <th></th>\n",
       "      <th>lvl0</th>\n",
       "      <th colspan=\"2\" halign=\"left\">a</th>\n",
       "      <th colspan=\"2\" halign=\"left\">b</th>\n",
       "    </tr>\n",
       "    <tr>\n",
       "      <th></th>\n",
       "      <th></th>\n",
       "      <th></th>\n",
       "      <th>lvl1</th>\n",
       "      <th>bar</th>\n",
       "      <th>foo</th>\n",
       "      <th>bah</th>\n",
       "      <th>foo</th>\n",
       "    </tr>\n",
       "  </thead>\n",
       "  <tbody>\n",
       "    <tr>\n",
       "      <th rowspan=\"8\" valign=\"top\">A1</th>\n",
       "      <th rowspan=\"4\" valign=\"top\">B0</th>\n",
       "      <th rowspan=\"2\" valign=\"top\">C1</th>\n",
       "      <th>D0</th>\n",
       "      <td>73</td>\n",
       "      <td>72</td>\n",
       "      <td>75</td>\n",
       "      <td>74</td>\n",
       "    </tr>\n",
       "    <tr>\n",
       "      <th>D1</th>\n",
       "      <td>77</td>\n",
       "      <td>76</td>\n",
       "      <td>79</td>\n",
       "      <td>78</td>\n",
       "    </tr>\n",
       "    <tr>\n",
       "      <th rowspan=\"2\" valign=\"top\">C3</th>\n",
       "      <th>D0</th>\n",
       "      <td>89</td>\n",
       "      <td>88</td>\n",
       "      <td>91</td>\n",
       "      <td>90</td>\n",
       "    </tr>\n",
       "    <tr>\n",
       "      <th>D1</th>\n",
       "      <td>93</td>\n",
       "      <td>92</td>\n",
       "      <td>95</td>\n",
       "      <td>94</td>\n",
       "    </tr>\n",
       "    <tr>\n",
       "      <th rowspan=\"4\" valign=\"top\">B1</th>\n",
       "      <th rowspan=\"2\" valign=\"top\">C1</th>\n",
       "      <th>D0</th>\n",
       "      <td>105</td>\n",
       "      <td>104</td>\n",
       "      <td>107</td>\n",
       "      <td>106</td>\n",
       "    </tr>\n",
       "    <tr>\n",
       "      <th>D1</th>\n",
       "      <td>109</td>\n",
       "      <td>108</td>\n",
       "      <td>111</td>\n",
       "      <td>110</td>\n",
       "    </tr>\n",
       "    <tr>\n",
       "      <th rowspan=\"2\" valign=\"top\">C3</th>\n",
       "      <th>D0</th>\n",
       "      <td>121</td>\n",
       "      <td>120</td>\n",
       "      <td>123</td>\n",
       "      <td>122</td>\n",
       "    </tr>\n",
       "    <tr>\n",
       "      <th>D1</th>\n",
       "      <td>125</td>\n",
       "      <td>124</td>\n",
       "      <td>127</td>\n",
       "      <td>126</td>\n",
       "    </tr>\n",
       "    <tr>\n",
       "      <th rowspan=\"8\" valign=\"top\">A2</th>\n",
       "      <th rowspan=\"4\" valign=\"top\">B0</th>\n",
       "      <th rowspan=\"2\" valign=\"top\">C1</th>\n",
       "      <th>D0</th>\n",
       "      <td>137</td>\n",
       "      <td>136</td>\n",
       "      <td>139</td>\n",
       "      <td>138</td>\n",
       "    </tr>\n",
       "    <tr>\n",
       "      <th>D1</th>\n",
       "      <td>141</td>\n",
       "      <td>140</td>\n",
       "      <td>143</td>\n",
       "      <td>142</td>\n",
       "    </tr>\n",
       "    <tr>\n",
       "      <th rowspan=\"2\" valign=\"top\">C3</th>\n",
       "      <th>D0</th>\n",
       "      <td>153</td>\n",
       "      <td>152</td>\n",
       "      <td>155</td>\n",
       "      <td>154</td>\n",
       "    </tr>\n",
       "    <tr>\n",
       "      <th>D1</th>\n",
       "      <td>157</td>\n",
       "      <td>156</td>\n",
       "      <td>159</td>\n",
       "      <td>158</td>\n",
       "    </tr>\n",
       "    <tr>\n",
       "      <th rowspan=\"4\" valign=\"top\">B1</th>\n",
       "      <th rowspan=\"2\" valign=\"top\">C1</th>\n",
       "      <th>D0</th>\n",
       "      <td>169</td>\n",
       "      <td>168</td>\n",
       "      <td>171</td>\n",
       "      <td>170</td>\n",
       "    </tr>\n",
       "    <tr>\n",
       "      <th>D1</th>\n",
       "      <td>173</td>\n",
       "      <td>172</td>\n",
       "      <td>175</td>\n",
       "      <td>174</td>\n",
       "    </tr>\n",
       "    <tr>\n",
       "      <th rowspan=\"2\" valign=\"top\">C3</th>\n",
       "      <th>D0</th>\n",
       "      <td>185</td>\n",
       "      <td>184</td>\n",
       "      <td>187</td>\n",
       "      <td>186</td>\n",
       "    </tr>\n",
       "    <tr>\n",
       "      <th>D1</th>\n",
       "      <td>189</td>\n",
       "      <td>188</td>\n",
       "      <td>191</td>\n",
       "      <td>190</td>\n",
       "    </tr>\n",
       "    <tr>\n",
       "      <th rowspan=\"8\" valign=\"top\">A3</th>\n",
       "      <th rowspan=\"4\" valign=\"top\">B0</th>\n",
       "      <th rowspan=\"2\" valign=\"top\">C1</th>\n",
       "      <th>D0</th>\n",
       "      <td>201</td>\n",
       "      <td>200</td>\n",
       "      <td>203</td>\n",
       "      <td>202</td>\n",
       "    </tr>\n",
       "    <tr>\n",
       "      <th>D1</th>\n",
       "      <td>205</td>\n",
       "      <td>204</td>\n",
       "      <td>207</td>\n",
       "      <td>206</td>\n",
       "    </tr>\n",
       "    <tr>\n",
       "      <th rowspan=\"2\" valign=\"top\">C3</th>\n",
       "      <th>D0</th>\n",
       "      <td>217</td>\n",
       "      <td>216</td>\n",
       "      <td>219</td>\n",
       "      <td>218</td>\n",
       "    </tr>\n",
       "    <tr>\n",
       "      <th>D1</th>\n",
       "      <td>221</td>\n",
       "      <td>220</td>\n",
       "      <td>223</td>\n",
       "      <td>222</td>\n",
       "    </tr>\n",
       "    <tr>\n",
       "      <th rowspan=\"4\" valign=\"top\">B1</th>\n",
       "      <th rowspan=\"2\" valign=\"top\">C1</th>\n",
       "      <th>D0</th>\n",
       "      <td>233</td>\n",
       "      <td>232</td>\n",
       "      <td>235</td>\n",
       "      <td>234</td>\n",
       "    </tr>\n",
       "    <tr>\n",
       "      <th>D1</th>\n",
       "      <td>237</td>\n",
       "      <td>236</td>\n",
       "      <td>239</td>\n",
       "      <td>238</td>\n",
       "    </tr>\n",
       "    <tr>\n",
       "      <th rowspan=\"2\" valign=\"top\">C3</th>\n",
       "      <th>D0</th>\n",
       "      <td>249</td>\n",
       "      <td>248</td>\n",
       "      <td>251</td>\n",
       "      <td>250</td>\n",
       "    </tr>\n",
       "    <tr>\n",
       "      <th>D1</th>\n",
       "      <td>253</td>\n",
       "      <td>252</td>\n",
       "      <td>255</td>\n",
       "      <td>254</td>\n",
       "    </tr>\n",
       "  </tbody>\n",
       "</table>\n",
       "</div>"
      ],
      "text/plain": [
       "lvl0           a         b     \n",
       "lvl1         bar  foo  bah  foo\n",
       "A1 B0 C1 D0   73   72   75   74\n",
       "         D1   77   76   79   78\n",
       "      C3 D0   89   88   91   90\n",
       "         D1   93   92   95   94\n",
       "   B1 C1 D0  105  104  107  106\n",
       "         D1  109  108  111  110\n",
       "      C3 D0  121  120  123  122\n",
       "         D1  125  124  127  126\n",
       "A2 B0 C1 D0  137  136  139  138\n",
       "         D1  141  140  143  142\n",
       "      C3 D0  153  152  155  154\n",
       "         D1  157  156  159  158\n",
       "   B1 C1 D0  169  168  171  170\n",
       "         D1  173  172  175  174\n",
       "      C3 D0  185  184  187  186\n",
       "         D1  189  188  191  190\n",
       "A3 B0 C1 D0  201  200  203  202\n",
       "         D1  205  204  207  206\n",
       "      C3 D0  217  216  219  218\n",
       "         D1  221  220  223  222\n",
       "   B1 C1 D0  233  232  235  234\n",
       "         D1  237  236  239  238\n",
       "      C3 D0  249  248  251  250\n",
       "         D1  253  252  255  254"
      ]
     },
     "execution_count": 105,
     "metadata": {},
     "output_type": "execute_result"
    }
   ],
   "source": [
    "dfmi.loc[(slice('A1','A3'), slice(None), ['C1', 'C3']), :]"
   ]
  },
  {
   "cell_type": "markdown",
   "metadata": {},
   "source": [
    "Para não ter que usar o **slice(None)**, dá para usar o método **.IndexSlice**"
   ]
  },
  {
   "cell_type": "code",
   "execution_count": 107,
   "metadata": {},
   "outputs": [
    {
     "data": {
      "text/html": [
       "<div>\n",
       "<style scoped>\n",
       "    .dataframe tbody tr th:only-of-type {\n",
       "        vertical-align: middle;\n",
       "    }\n",
       "\n",
       "    .dataframe tbody tr th {\n",
       "        vertical-align: top;\n",
       "    }\n",
       "\n",
       "    .dataframe thead tr th {\n",
       "        text-align: left;\n",
       "    }\n",
       "</style>\n",
       "<table border=\"1\" class=\"dataframe\">\n",
       "  <thead>\n",
       "    <tr>\n",
       "      <th></th>\n",
       "      <th></th>\n",
       "      <th></th>\n",
       "      <th>lvl0</th>\n",
       "      <th>a</th>\n",
       "      <th>b</th>\n",
       "    </tr>\n",
       "    <tr>\n",
       "      <th></th>\n",
       "      <th></th>\n",
       "      <th></th>\n",
       "      <th>lvl1</th>\n",
       "      <th>foo</th>\n",
       "      <th>foo</th>\n",
       "    </tr>\n",
       "  </thead>\n",
       "  <tbody>\n",
       "    <tr>\n",
       "      <th rowspan=\"8\" valign=\"top\">A0</th>\n",
       "      <th rowspan=\"4\" valign=\"top\">B0</th>\n",
       "      <th rowspan=\"2\" valign=\"top\">C1</th>\n",
       "      <th>D0</th>\n",
       "      <td>8</td>\n",
       "      <td>10</td>\n",
       "    </tr>\n",
       "    <tr>\n",
       "      <th>D1</th>\n",
       "      <td>12</td>\n",
       "      <td>14</td>\n",
       "    </tr>\n",
       "    <tr>\n",
       "      <th rowspan=\"2\" valign=\"top\">C3</th>\n",
       "      <th>D0</th>\n",
       "      <td>24</td>\n",
       "      <td>26</td>\n",
       "    </tr>\n",
       "    <tr>\n",
       "      <th>D1</th>\n",
       "      <td>28</td>\n",
       "      <td>30</td>\n",
       "    </tr>\n",
       "    <tr>\n",
       "      <th rowspan=\"4\" valign=\"top\">B1</th>\n",
       "      <th rowspan=\"2\" valign=\"top\">C1</th>\n",
       "      <th>D0</th>\n",
       "      <td>40</td>\n",
       "      <td>42</td>\n",
       "    </tr>\n",
       "    <tr>\n",
       "      <th>D1</th>\n",
       "      <td>44</td>\n",
       "      <td>46</td>\n",
       "    </tr>\n",
       "    <tr>\n",
       "      <th rowspan=\"2\" valign=\"top\">C3</th>\n",
       "      <th>D0</th>\n",
       "      <td>56</td>\n",
       "      <td>58</td>\n",
       "    </tr>\n",
       "    <tr>\n",
       "      <th>D1</th>\n",
       "      <td>60</td>\n",
       "      <td>62</td>\n",
       "    </tr>\n",
       "    <tr>\n",
       "      <th rowspan=\"8\" valign=\"top\">A1</th>\n",
       "      <th rowspan=\"4\" valign=\"top\">B0</th>\n",
       "      <th rowspan=\"2\" valign=\"top\">C1</th>\n",
       "      <th>D0</th>\n",
       "      <td>72</td>\n",
       "      <td>74</td>\n",
       "    </tr>\n",
       "    <tr>\n",
       "      <th>D1</th>\n",
       "      <td>76</td>\n",
       "      <td>78</td>\n",
       "    </tr>\n",
       "    <tr>\n",
       "      <th rowspan=\"2\" valign=\"top\">C3</th>\n",
       "      <th>D0</th>\n",
       "      <td>88</td>\n",
       "      <td>90</td>\n",
       "    </tr>\n",
       "    <tr>\n",
       "      <th>D1</th>\n",
       "      <td>92</td>\n",
       "      <td>94</td>\n",
       "    </tr>\n",
       "    <tr>\n",
       "      <th rowspan=\"4\" valign=\"top\">B1</th>\n",
       "      <th rowspan=\"2\" valign=\"top\">C1</th>\n",
       "      <th>D0</th>\n",
       "      <td>104</td>\n",
       "      <td>106</td>\n",
       "    </tr>\n",
       "    <tr>\n",
       "      <th>D1</th>\n",
       "      <td>108</td>\n",
       "      <td>110</td>\n",
       "    </tr>\n",
       "    <tr>\n",
       "      <th rowspan=\"2\" valign=\"top\">C3</th>\n",
       "      <th>D0</th>\n",
       "      <td>120</td>\n",
       "      <td>122</td>\n",
       "    </tr>\n",
       "    <tr>\n",
       "      <th>D1</th>\n",
       "      <td>124</td>\n",
       "      <td>126</td>\n",
       "    </tr>\n",
       "    <tr>\n",
       "      <th rowspan=\"8\" valign=\"top\">A2</th>\n",
       "      <th rowspan=\"4\" valign=\"top\">B0</th>\n",
       "      <th rowspan=\"2\" valign=\"top\">C1</th>\n",
       "      <th>D0</th>\n",
       "      <td>136</td>\n",
       "      <td>138</td>\n",
       "    </tr>\n",
       "    <tr>\n",
       "      <th>D1</th>\n",
       "      <td>140</td>\n",
       "      <td>142</td>\n",
       "    </tr>\n",
       "    <tr>\n",
       "      <th rowspan=\"2\" valign=\"top\">C3</th>\n",
       "      <th>D0</th>\n",
       "      <td>152</td>\n",
       "      <td>154</td>\n",
       "    </tr>\n",
       "    <tr>\n",
       "      <th>D1</th>\n",
       "      <td>156</td>\n",
       "      <td>158</td>\n",
       "    </tr>\n",
       "    <tr>\n",
       "      <th rowspan=\"4\" valign=\"top\">B1</th>\n",
       "      <th rowspan=\"2\" valign=\"top\">C1</th>\n",
       "      <th>D0</th>\n",
       "      <td>168</td>\n",
       "      <td>170</td>\n",
       "    </tr>\n",
       "    <tr>\n",
       "      <th>D1</th>\n",
       "      <td>172</td>\n",
       "      <td>174</td>\n",
       "    </tr>\n",
       "    <tr>\n",
       "      <th rowspan=\"2\" valign=\"top\">C3</th>\n",
       "      <th>D0</th>\n",
       "      <td>184</td>\n",
       "      <td>186</td>\n",
       "    </tr>\n",
       "    <tr>\n",
       "      <th>D1</th>\n",
       "      <td>188</td>\n",
       "      <td>190</td>\n",
       "    </tr>\n",
       "    <tr>\n",
       "      <th rowspan=\"8\" valign=\"top\">A3</th>\n",
       "      <th rowspan=\"4\" valign=\"top\">B0</th>\n",
       "      <th rowspan=\"2\" valign=\"top\">C1</th>\n",
       "      <th>D0</th>\n",
       "      <td>200</td>\n",
       "      <td>202</td>\n",
       "    </tr>\n",
       "    <tr>\n",
       "      <th>D1</th>\n",
       "      <td>204</td>\n",
       "      <td>206</td>\n",
       "    </tr>\n",
       "    <tr>\n",
       "      <th rowspan=\"2\" valign=\"top\">C3</th>\n",
       "      <th>D0</th>\n",
       "      <td>216</td>\n",
       "      <td>218</td>\n",
       "    </tr>\n",
       "    <tr>\n",
       "      <th>D1</th>\n",
       "      <td>220</td>\n",
       "      <td>222</td>\n",
       "    </tr>\n",
       "    <tr>\n",
       "      <th rowspan=\"4\" valign=\"top\">B1</th>\n",
       "      <th rowspan=\"2\" valign=\"top\">C1</th>\n",
       "      <th>D0</th>\n",
       "      <td>232</td>\n",
       "      <td>234</td>\n",
       "    </tr>\n",
       "    <tr>\n",
       "      <th>D1</th>\n",
       "      <td>236</td>\n",
       "      <td>238</td>\n",
       "    </tr>\n",
       "    <tr>\n",
       "      <th rowspan=\"2\" valign=\"top\">C3</th>\n",
       "      <th>D0</th>\n",
       "      <td>248</td>\n",
       "      <td>250</td>\n",
       "    </tr>\n",
       "    <tr>\n",
       "      <th>D1</th>\n",
       "      <td>252</td>\n",
       "      <td>254</td>\n",
       "    </tr>\n",
       "  </tbody>\n",
       "</table>\n",
       "</div>"
      ],
      "text/plain": [
       "lvl0           a    b\n",
       "lvl1         foo  foo\n",
       "A0 B0 C1 D0    8   10\n",
       "         D1   12   14\n",
       "      C3 D0   24   26\n",
       "         D1   28   30\n",
       "   B1 C1 D0   40   42\n",
       "         D1   44   46\n",
       "      C3 D0   56   58\n",
       "         D1   60   62\n",
       "A1 B0 C1 D0   72   74\n",
       "         D1   76   78\n",
       "      C3 D0   88   90\n",
       "         D1   92   94\n",
       "   B1 C1 D0  104  106\n",
       "         D1  108  110\n",
       "      C3 D0  120  122\n",
       "         D1  124  126\n",
       "A2 B0 C1 D0  136  138\n",
       "         D1  140  142\n",
       "      C3 D0  152  154\n",
       "         D1  156  158\n",
       "   B1 C1 D0  168  170\n",
       "         D1  172  174\n",
       "      C3 D0  184  186\n",
       "         D1  188  190\n",
       "A3 B0 C1 D0  200  202\n",
       "         D1  204  206\n",
       "      C3 D0  216  218\n",
       "         D1  220  222\n",
       "   B1 C1 D0  232  234\n",
       "         D1  236  238\n",
       "      C3 D0  248  250\n",
       "         D1  252  254"
      ]
     },
     "execution_count": 107,
     "metadata": {},
     "output_type": "execute_result"
    }
   ],
   "source": [
    "idx = pd.IndexSlice\n",
    "dfmi.loc[idx[:, :, ['C1', 'C3']], idx[:, 'foo']]"
   ]
  },
  {
   "cell_type": "markdown",
   "metadata": {},
   "source": [
    "Fatiamento simultâneo no **Eixo X** e no **Eixo Y**\n",
    "\n",
    "- no **Eixo X** eu quero apenas o conjunto de dados existentes na categoria **A1**\n",
    "\n",
    " - isso é resolvindo com 'A1' <-categoria de linhas: 'A1'\n",
    "\n",
    "- no **Eixo Y** eu quero as fitas cujas **colunas** sejam **foo**\n",
    "\n",
    " - isso é resolvido com uma tupla (slice(None), 'foo') <-linhas: Todas, colunas: 'foo'"
   ]
  },
  {
   "cell_type": "code",
   "execution_count": 115,
   "metadata": {},
   "outputs": [
    {
     "data": {
      "text/html": [
       "<div>\n",
       "<style scoped>\n",
       "    .dataframe tbody tr th:only-of-type {\n",
       "        vertical-align: middle;\n",
       "    }\n",
       "\n",
       "    .dataframe tbody tr th {\n",
       "        vertical-align: top;\n",
       "    }\n",
       "\n",
       "    .dataframe thead tr th {\n",
       "        text-align: left;\n",
       "    }\n",
       "</style>\n",
       "<table border=\"1\" class=\"dataframe\">\n",
       "  <thead>\n",
       "    <tr>\n",
       "      <th></th>\n",
       "      <th></th>\n",
       "      <th>lvl0</th>\n",
       "      <th>a</th>\n",
       "      <th>b</th>\n",
       "    </tr>\n",
       "    <tr>\n",
       "      <th></th>\n",
       "      <th></th>\n",
       "      <th>lvl1</th>\n",
       "      <th>foo</th>\n",
       "      <th>foo</th>\n",
       "    </tr>\n",
       "  </thead>\n",
       "  <tbody>\n",
       "    <tr>\n",
       "      <th rowspan=\"8\" valign=\"top\">B0</th>\n",
       "      <th rowspan=\"2\" valign=\"top\">C0</th>\n",
       "      <th>D0</th>\n",
       "      <td>64</td>\n",
       "      <td>66</td>\n",
       "    </tr>\n",
       "    <tr>\n",
       "      <th>D1</th>\n",
       "      <td>68</td>\n",
       "      <td>70</td>\n",
       "    </tr>\n",
       "    <tr>\n",
       "      <th rowspan=\"2\" valign=\"top\">C1</th>\n",
       "      <th>D0</th>\n",
       "      <td>72</td>\n",
       "      <td>74</td>\n",
       "    </tr>\n",
       "    <tr>\n",
       "      <th>D1</th>\n",
       "      <td>76</td>\n",
       "      <td>78</td>\n",
       "    </tr>\n",
       "    <tr>\n",
       "      <th rowspan=\"2\" valign=\"top\">C2</th>\n",
       "      <th>D0</th>\n",
       "      <td>80</td>\n",
       "      <td>82</td>\n",
       "    </tr>\n",
       "    <tr>\n",
       "      <th>D1</th>\n",
       "      <td>84</td>\n",
       "      <td>86</td>\n",
       "    </tr>\n",
       "    <tr>\n",
       "      <th rowspan=\"2\" valign=\"top\">C3</th>\n",
       "      <th>D0</th>\n",
       "      <td>88</td>\n",
       "      <td>90</td>\n",
       "    </tr>\n",
       "    <tr>\n",
       "      <th>D1</th>\n",
       "      <td>92</td>\n",
       "      <td>94</td>\n",
       "    </tr>\n",
       "    <tr>\n",
       "      <th rowspan=\"8\" valign=\"top\">B1</th>\n",
       "      <th rowspan=\"2\" valign=\"top\">C0</th>\n",
       "      <th>D0</th>\n",
       "      <td>96</td>\n",
       "      <td>98</td>\n",
       "    </tr>\n",
       "    <tr>\n",
       "      <th>D1</th>\n",
       "      <td>100</td>\n",
       "      <td>102</td>\n",
       "    </tr>\n",
       "    <tr>\n",
       "      <th rowspan=\"2\" valign=\"top\">C1</th>\n",
       "      <th>D0</th>\n",
       "      <td>104</td>\n",
       "      <td>106</td>\n",
       "    </tr>\n",
       "    <tr>\n",
       "      <th>D1</th>\n",
       "      <td>108</td>\n",
       "      <td>110</td>\n",
       "    </tr>\n",
       "    <tr>\n",
       "      <th rowspan=\"2\" valign=\"top\">C2</th>\n",
       "      <th>D0</th>\n",
       "      <td>112</td>\n",
       "      <td>114</td>\n",
       "    </tr>\n",
       "    <tr>\n",
       "      <th>D1</th>\n",
       "      <td>116</td>\n",
       "      <td>118</td>\n",
       "    </tr>\n",
       "    <tr>\n",
       "      <th rowspan=\"2\" valign=\"top\">C3</th>\n",
       "      <th>D0</th>\n",
       "      <td>120</td>\n",
       "      <td>122</td>\n",
       "    </tr>\n",
       "    <tr>\n",
       "      <th>D1</th>\n",
       "      <td>124</td>\n",
       "      <td>126</td>\n",
       "    </tr>\n",
       "  </tbody>\n",
       "</table>\n",
       "</div>"
      ],
      "text/plain": [
       "lvl0        a    b\n",
       "lvl1      foo  foo\n",
       "B0 C0 D0   64   66\n",
       "      D1   68   70\n",
       "   C1 D0   72   74\n",
       "      D1   76   78\n",
       "   C2 D0   80   82\n",
       "      D1   84   86\n",
       "   C3 D0   88   90\n",
       "      D1   92   94\n",
       "B1 C0 D0   96   98\n",
       "      D1  100  102\n",
       "   C1 D0  104  106\n",
       "      D1  108  110\n",
       "   C2 D0  112  114\n",
       "      D1  116  118\n",
       "   C3 D0  120  122\n",
       "      D1  124  126"
      ]
     },
     "execution_count": 115,
     "metadata": {},
     "output_type": "execute_result"
    }
   ],
   "source": [
    "dfmi.loc['A1', (slice(None), 'foo')]"
   ]
  },
  {
   "cell_type": "code",
   "execution_count": 110,
   "metadata": {},
   "outputs": [
    {
     "data": {
      "text/html": [
       "<div>\n",
       "<style scoped>\n",
       "    .dataframe tbody tr th:only-of-type {\n",
       "        vertical-align: middle;\n",
       "    }\n",
       "\n",
       "    .dataframe tbody tr th {\n",
       "        vertical-align: top;\n",
       "    }\n",
       "\n",
       "    .dataframe thead tr th {\n",
       "        text-align: left;\n",
       "    }\n",
       "</style>\n",
       "<table border=\"1\" class=\"dataframe\">\n",
       "  <thead>\n",
       "    <tr>\n",
       "      <th></th>\n",
       "      <th></th>\n",
       "      <th></th>\n",
       "      <th>lvl0</th>\n",
       "      <th>a</th>\n",
       "      <th>b</th>\n",
       "    </tr>\n",
       "    <tr>\n",
       "      <th></th>\n",
       "      <th></th>\n",
       "      <th></th>\n",
       "      <th>lvl1</th>\n",
       "      <th>foo</th>\n",
       "      <th>foo</th>\n",
       "    </tr>\n",
       "  </thead>\n",
       "  <tbody>\n",
       "    <tr>\n",
       "      <th rowspan=\"8\" valign=\"top\">A0</th>\n",
       "      <th rowspan=\"4\" valign=\"top\">B0</th>\n",
       "      <th rowspan=\"2\" valign=\"top\">C1</th>\n",
       "      <th>D0</th>\n",
       "      <td>8</td>\n",
       "      <td>10</td>\n",
       "    </tr>\n",
       "    <tr>\n",
       "      <th>D1</th>\n",
       "      <td>12</td>\n",
       "      <td>14</td>\n",
       "    </tr>\n",
       "    <tr>\n",
       "      <th rowspan=\"2\" valign=\"top\">C3</th>\n",
       "      <th>D0</th>\n",
       "      <td>24</td>\n",
       "      <td>26</td>\n",
       "    </tr>\n",
       "    <tr>\n",
       "      <th>D1</th>\n",
       "      <td>28</td>\n",
       "      <td>30</td>\n",
       "    </tr>\n",
       "    <tr>\n",
       "      <th rowspan=\"4\" valign=\"top\">B1</th>\n",
       "      <th rowspan=\"2\" valign=\"top\">C1</th>\n",
       "      <th>D0</th>\n",
       "      <td>40</td>\n",
       "      <td>42</td>\n",
       "    </tr>\n",
       "    <tr>\n",
       "      <th>D1</th>\n",
       "      <td>44</td>\n",
       "      <td>46</td>\n",
       "    </tr>\n",
       "    <tr>\n",
       "      <th rowspan=\"2\" valign=\"top\">C3</th>\n",
       "      <th>D0</th>\n",
       "      <td>56</td>\n",
       "      <td>58</td>\n",
       "    </tr>\n",
       "    <tr>\n",
       "      <th>D1</th>\n",
       "      <td>60</td>\n",
       "      <td>62</td>\n",
       "    </tr>\n",
       "    <tr>\n",
       "      <th rowspan=\"8\" valign=\"top\">A1</th>\n",
       "      <th rowspan=\"4\" valign=\"top\">B0</th>\n",
       "      <th rowspan=\"2\" valign=\"top\">C1</th>\n",
       "      <th>D0</th>\n",
       "      <td>72</td>\n",
       "      <td>74</td>\n",
       "    </tr>\n",
       "    <tr>\n",
       "      <th>D1</th>\n",
       "      <td>76</td>\n",
       "      <td>78</td>\n",
       "    </tr>\n",
       "    <tr>\n",
       "      <th rowspan=\"2\" valign=\"top\">C3</th>\n",
       "      <th>D0</th>\n",
       "      <td>88</td>\n",
       "      <td>90</td>\n",
       "    </tr>\n",
       "    <tr>\n",
       "      <th>D1</th>\n",
       "      <td>92</td>\n",
       "      <td>94</td>\n",
       "    </tr>\n",
       "    <tr>\n",
       "      <th rowspan=\"4\" valign=\"top\">B1</th>\n",
       "      <th rowspan=\"2\" valign=\"top\">C1</th>\n",
       "      <th>D0</th>\n",
       "      <td>104</td>\n",
       "      <td>106</td>\n",
       "    </tr>\n",
       "    <tr>\n",
       "      <th>D1</th>\n",
       "      <td>108</td>\n",
       "      <td>110</td>\n",
       "    </tr>\n",
       "    <tr>\n",
       "      <th rowspan=\"2\" valign=\"top\">C3</th>\n",
       "      <th>D0</th>\n",
       "      <td>120</td>\n",
       "      <td>122</td>\n",
       "    </tr>\n",
       "    <tr>\n",
       "      <th>D1</th>\n",
       "      <td>124</td>\n",
       "      <td>126</td>\n",
       "    </tr>\n",
       "    <tr>\n",
       "      <th rowspan=\"8\" valign=\"top\">A2</th>\n",
       "      <th rowspan=\"4\" valign=\"top\">B0</th>\n",
       "      <th rowspan=\"2\" valign=\"top\">C1</th>\n",
       "      <th>D0</th>\n",
       "      <td>136</td>\n",
       "      <td>138</td>\n",
       "    </tr>\n",
       "    <tr>\n",
       "      <th>D1</th>\n",
       "      <td>140</td>\n",
       "      <td>142</td>\n",
       "    </tr>\n",
       "    <tr>\n",
       "      <th rowspan=\"2\" valign=\"top\">C3</th>\n",
       "      <th>D0</th>\n",
       "      <td>152</td>\n",
       "      <td>154</td>\n",
       "    </tr>\n",
       "    <tr>\n",
       "      <th>D1</th>\n",
       "      <td>156</td>\n",
       "      <td>158</td>\n",
       "    </tr>\n",
       "    <tr>\n",
       "      <th rowspan=\"4\" valign=\"top\">B1</th>\n",
       "      <th rowspan=\"2\" valign=\"top\">C1</th>\n",
       "      <th>D0</th>\n",
       "      <td>168</td>\n",
       "      <td>170</td>\n",
       "    </tr>\n",
       "    <tr>\n",
       "      <th>D1</th>\n",
       "      <td>172</td>\n",
       "      <td>174</td>\n",
       "    </tr>\n",
       "    <tr>\n",
       "      <th rowspan=\"2\" valign=\"top\">C3</th>\n",
       "      <th>D0</th>\n",
       "      <td>184</td>\n",
       "      <td>186</td>\n",
       "    </tr>\n",
       "    <tr>\n",
       "      <th>D1</th>\n",
       "      <td>188</td>\n",
       "      <td>190</td>\n",
       "    </tr>\n",
       "    <tr>\n",
       "      <th rowspan=\"8\" valign=\"top\">A3</th>\n",
       "      <th rowspan=\"4\" valign=\"top\">B0</th>\n",
       "      <th rowspan=\"2\" valign=\"top\">C1</th>\n",
       "      <th>D0</th>\n",
       "      <td>200</td>\n",
       "      <td>202</td>\n",
       "    </tr>\n",
       "    <tr>\n",
       "      <th>D1</th>\n",
       "      <td>204</td>\n",
       "      <td>206</td>\n",
       "    </tr>\n",
       "    <tr>\n",
       "      <th rowspan=\"2\" valign=\"top\">C3</th>\n",
       "      <th>D0</th>\n",
       "      <td>216</td>\n",
       "      <td>218</td>\n",
       "    </tr>\n",
       "    <tr>\n",
       "      <th>D1</th>\n",
       "      <td>220</td>\n",
       "      <td>222</td>\n",
       "    </tr>\n",
       "    <tr>\n",
       "      <th rowspan=\"4\" valign=\"top\">B1</th>\n",
       "      <th rowspan=\"2\" valign=\"top\">C1</th>\n",
       "      <th>D0</th>\n",
       "      <td>232</td>\n",
       "      <td>234</td>\n",
       "    </tr>\n",
       "    <tr>\n",
       "      <th>D1</th>\n",
       "      <td>236</td>\n",
       "      <td>238</td>\n",
       "    </tr>\n",
       "    <tr>\n",
       "      <th rowspan=\"2\" valign=\"top\">C3</th>\n",
       "      <th>D0</th>\n",
       "      <td>248</td>\n",
       "      <td>250</td>\n",
       "    </tr>\n",
       "    <tr>\n",
       "      <th>D1</th>\n",
       "      <td>252</td>\n",
       "      <td>254</td>\n",
       "    </tr>\n",
       "  </tbody>\n",
       "</table>\n",
       "</div>"
      ],
      "text/plain": [
       "lvl0           a    b\n",
       "lvl1         foo  foo\n",
       "A0 B0 C1 D0    8   10\n",
       "         D1   12   14\n",
       "      C3 D0   24   26\n",
       "         D1   28   30\n",
       "   B1 C1 D0   40   42\n",
       "         D1   44   46\n",
       "      C3 D0   56   58\n",
       "         D1   60   62\n",
       "A1 B0 C1 D0   72   74\n",
       "         D1   76   78\n",
       "      C3 D0   88   90\n",
       "         D1   92   94\n",
       "   B1 C1 D0  104  106\n",
       "         D1  108  110\n",
       "      C3 D0  120  122\n",
       "         D1  124  126\n",
       "A2 B0 C1 D0  136  138\n",
       "         D1  140  142\n",
       "      C3 D0  152  154\n",
       "         D1  156  158\n",
       "   B1 C1 D0  168  170\n",
       "         D1  172  174\n",
       "      C3 D0  184  186\n",
       "         D1  188  190\n",
       "A3 B0 C1 D0  200  202\n",
       "         D1  204  206\n",
       "      C3 D0  216  218\n",
       "         D1  220  222\n",
       "   B1 C1 D0  232  234\n",
       "         D1  236  238\n",
       "      C3 D0  248  250\n",
       "         D1  252  254"
      ]
     },
     "execution_count": 110,
     "metadata": {},
     "output_type": "execute_result"
    }
   ],
   "source": [
    "idx = pd.IndexSlice\n",
    "dfmi.loc[idx[:, :, ['C1', 'C3']], idx[:, 'foo']]"
   ]
  },
  {
   "cell_type": "markdown",
   "metadata": {},
   "source": [
    "**Indexador booleano** provendo a seleção relacionada aos valores"
   ]
  },
  {
   "cell_type": "code",
   "execution_count": 111,
   "metadata": {},
   "outputs": [
    {
     "data": {
      "text/html": [
       "<div>\n",
       "<style scoped>\n",
       "    .dataframe tbody tr th:only-of-type {\n",
       "        vertical-align: middle;\n",
       "    }\n",
       "\n",
       "    .dataframe tbody tr th {\n",
       "        vertical-align: top;\n",
       "    }\n",
       "\n",
       "    .dataframe thead tr th {\n",
       "        text-align: left;\n",
       "    }\n",
       "</style>\n",
       "<table border=\"1\" class=\"dataframe\">\n",
       "  <thead>\n",
       "    <tr>\n",
       "      <th></th>\n",
       "      <th></th>\n",
       "      <th></th>\n",
       "      <th>lvl0</th>\n",
       "      <th>a</th>\n",
       "      <th>b</th>\n",
       "    </tr>\n",
       "    <tr>\n",
       "      <th></th>\n",
       "      <th></th>\n",
       "      <th></th>\n",
       "      <th>lvl1</th>\n",
       "      <th>foo</th>\n",
       "      <th>foo</th>\n",
       "    </tr>\n",
       "  </thead>\n",
       "  <tbody>\n",
       "    <tr>\n",
       "      <th rowspan=\"7\" valign=\"top\">A3</th>\n",
       "      <th rowspan=\"3\" valign=\"top\">B0</th>\n",
       "      <th>C1</th>\n",
       "      <th>D1</th>\n",
       "      <td>204</td>\n",
       "      <td>206</td>\n",
       "    </tr>\n",
       "    <tr>\n",
       "      <th rowspan=\"2\" valign=\"top\">C3</th>\n",
       "      <th>D0</th>\n",
       "      <td>216</td>\n",
       "      <td>218</td>\n",
       "    </tr>\n",
       "    <tr>\n",
       "      <th>D1</th>\n",
       "      <td>220</td>\n",
       "      <td>222</td>\n",
       "    </tr>\n",
       "    <tr>\n",
       "      <th rowspan=\"4\" valign=\"top\">B1</th>\n",
       "      <th rowspan=\"2\" valign=\"top\">C1</th>\n",
       "      <th>D0</th>\n",
       "      <td>232</td>\n",
       "      <td>234</td>\n",
       "    </tr>\n",
       "    <tr>\n",
       "      <th>D1</th>\n",
       "      <td>236</td>\n",
       "      <td>238</td>\n",
       "    </tr>\n",
       "    <tr>\n",
       "      <th rowspan=\"2\" valign=\"top\">C3</th>\n",
       "      <th>D0</th>\n",
       "      <td>248</td>\n",
       "      <td>250</td>\n",
       "    </tr>\n",
       "    <tr>\n",
       "      <th>D1</th>\n",
       "      <td>252</td>\n",
       "      <td>254</td>\n",
       "    </tr>\n",
       "  </tbody>\n",
       "</table>\n",
       "</div>"
      ],
      "text/plain": [
       "lvl0           a    b\n",
       "lvl1         foo  foo\n",
       "A3 B0 C1 D1  204  206\n",
       "      C3 D0  216  218\n",
       "         D1  220  222\n",
       "   B1 C1 D0  232  234\n",
       "         D1  236  238\n",
       "      C3 D0  248  250\n",
       "         D1  252  254"
      ]
     },
     "execution_count": 111,
     "metadata": {},
     "output_type": "execute_result"
    }
   ],
   "source": [
    "idx = pd.IndexSlice\n",
    "mask = dfmi[('a', 'foo')] > 200\n",
    "dfmi.loc[idx[mask, :, ['C1', 'C3']], idx[:, 'foo']]"
   ]
  },
  {
   "cell_type": "code",
   "execution_count": 115,
   "metadata": {},
   "outputs": [
    {
     "data": {
      "text/html": [
       "<div>\n",
       "<style scoped>\n",
       "    .dataframe tbody tr th:only-of-type {\n",
       "        vertical-align: middle;\n",
       "    }\n",
       "\n",
       "    .dataframe tbody tr th {\n",
       "        vertical-align: top;\n",
       "    }\n",
       "\n",
       "    .dataframe thead tr th {\n",
       "        text-align: left;\n",
       "    }\n",
       "</style>\n",
       "<table border=\"1\" class=\"dataframe\">\n",
       "  <thead>\n",
       "    <tr>\n",
       "      <th></th>\n",
       "      <th></th>\n",
       "      <th></th>\n",
       "      <th>lvl0</th>\n",
       "      <th colspan=\"2\" halign=\"left\">a</th>\n",
       "      <th colspan=\"2\" halign=\"left\">b</th>\n",
       "    </tr>\n",
       "    <tr>\n",
       "      <th></th>\n",
       "      <th></th>\n",
       "      <th></th>\n",
       "      <th>lvl1</th>\n",
       "      <th>bar</th>\n",
       "      <th>foo</th>\n",
       "      <th>bah</th>\n",
       "      <th>foo</th>\n",
       "    </tr>\n",
       "  </thead>\n",
       "  <tbody>\n",
       "    <tr>\n",
       "      <th rowspan=\"8\" valign=\"top\">A0</th>\n",
       "      <th rowspan=\"4\" valign=\"top\">B0</th>\n",
       "      <th rowspan=\"2\" valign=\"top\">C1</th>\n",
       "      <th>D0</th>\n",
       "      <td>9</td>\n",
       "      <td>8</td>\n",
       "      <td>11</td>\n",
       "      <td>10</td>\n",
       "    </tr>\n",
       "    <tr>\n",
       "      <th>D1</th>\n",
       "      <td>13</td>\n",
       "      <td>12</td>\n",
       "      <td>15</td>\n",
       "      <td>14</td>\n",
       "    </tr>\n",
       "    <tr>\n",
       "      <th rowspan=\"2\" valign=\"top\">C3</th>\n",
       "      <th>D0</th>\n",
       "      <td>25</td>\n",
       "      <td>24</td>\n",
       "      <td>27</td>\n",
       "      <td>26</td>\n",
       "    </tr>\n",
       "    <tr>\n",
       "      <th>D1</th>\n",
       "      <td>29</td>\n",
       "      <td>28</td>\n",
       "      <td>31</td>\n",
       "      <td>30</td>\n",
       "    </tr>\n",
       "    <tr>\n",
       "      <th rowspan=\"4\" valign=\"top\">B1</th>\n",
       "      <th rowspan=\"2\" valign=\"top\">C1</th>\n",
       "      <th>D0</th>\n",
       "      <td>41</td>\n",
       "      <td>40</td>\n",
       "      <td>43</td>\n",
       "      <td>42</td>\n",
       "    </tr>\n",
       "    <tr>\n",
       "      <th>D1</th>\n",
       "      <td>45</td>\n",
       "      <td>44</td>\n",
       "      <td>47</td>\n",
       "      <td>46</td>\n",
       "    </tr>\n",
       "    <tr>\n",
       "      <th rowspan=\"2\" valign=\"top\">C3</th>\n",
       "      <th>D0</th>\n",
       "      <td>57</td>\n",
       "      <td>56</td>\n",
       "      <td>59</td>\n",
       "      <td>58</td>\n",
       "    </tr>\n",
       "    <tr>\n",
       "      <th>D1</th>\n",
       "      <td>61</td>\n",
       "      <td>60</td>\n",
       "      <td>63</td>\n",
       "      <td>62</td>\n",
       "    </tr>\n",
       "    <tr>\n",
       "      <th rowspan=\"8\" valign=\"top\">A1</th>\n",
       "      <th rowspan=\"4\" valign=\"top\">B0</th>\n",
       "      <th rowspan=\"2\" valign=\"top\">C1</th>\n",
       "      <th>D0</th>\n",
       "      <td>73</td>\n",
       "      <td>72</td>\n",
       "      <td>75</td>\n",
       "      <td>74</td>\n",
       "    </tr>\n",
       "    <tr>\n",
       "      <th>D1</th>\n",
       "      <td>77</td>\n",
       "      <td>76</td>\n",
       "      <td>79</td>\n",
       "      <td>78</td>\n",
       "    </tr>\n",
       "    <tr>\n",
       "      <th rowspan=\"2\" valign=\"top\">C3</th>\n",
       "      <th>D0</th>\n",
       "      <td>89</td>\n",
       "      <td>88</td>\n",
       "      <td>91</td>\n",
       "      <td>90</td>\n",
       "    </tr>\n",
       "    <tr>\n",
       "      <th>D1</th>\n",
       "      <td>93</td>\n",
       "      <td>92</td>\n",
       "      <td>95</td>\n",
       "      <td>94</td>\n",
       "    </tr>\n",
       "    <tr>\n",
       "      <th rowspan=\"4\" valign=\"top\">B1</th>\n",
       "      <th rowspan=\"2\" valign=\"top\">C1</th>\n",
       "      <th>D0</th>\n",
       "      <td>105</td>\n",
       "      <td>104</td>\n",
       "      <td>107</td>\n",
       "      <td>106</td>\n",
       "    </tr>\n",
       "    <tr>\n",
       "      <th>D1</th>\n",
       "      <td>109</td>\n",
       "      <td>108</td>\n",
       "      <td>111</td>\n",
       "      <td>110</td>\n",
       "    </tr>\n",
       "    <tr>\n",
       "      <th rowspan=\"2\" valign=\"top\">C3</th>\n",
       "      <th>D0</th>\n",
       "      <td>121</td>\n",
       "      <td>120</td>\n",
       "      <td>123</td>\n",
       "      <td>122</td>\n",
       "    </tr>\n",
       "    <tr>\n",
       "      <th>D1</th>\n",
       "      <td>125</td>\n",
       "      <td>124</td>\n",
       "      <td>127</td>\n",
       "      <td>126</td>\n",
       "    </tr>\n",
       "    <tr>\n",
       "      <th rowspan=\"8\" valign=\"top\">A2</th>\n",
       "      <th rowspan=\"4\" valign=\"top\">B0</th>\n",
       "      <th rowspan=\"2\" valign=\"top\">C1</th>\n",
       "      <th>D0</th>\n",
       "      <td>137</td>\n",
       "      <td>136</td>\n",
       "      <td>139</td>\n",
       "      <td>138</td>\n",
       "    </tr>\n",
       "    <tr>\n",
       "      <th>D1</th>\n",
       "      <td>141</td>\n",
       "      <td>140</td>\n",
       "      <td>143</td>\n",
       "      <td>142</td>\n",
       "    </tr>\n",
       "    <tr>\n",
       "      <th rowspan=\"2\" valign=\"top\">C3</th>\n",
       "      <th>D0</th>\n",
       "      <td>153</td>\n",
       "      <td>152</td>\n",
       "      <td>155</td>\n",
       "      <td>154</td>\n",
       "    </tr>\n",
       "    <tr>\n",
       "      <th>D1</th>\n",
       "      <td>157</td>\n",
       "      <td>156</td>\n",
       "      <td>159</td>\n",
       "      <td>158</td>\n",
       "    </tr>\n",
       "    <tr>\n",
       "      <th rowspan=\"4\" valign=\"top\">B1</th>\n",
       "      <th rowspan=\"2\" valign=\"top\">C1</th>\n",
       "      <th>D0</th>\n",
       "      <td>169</td>\n",
       "      <td>168</td>\n",
       "      <td>171</td>\n",
       "      <td>170</td>\n",
       "    </tr>\n",
       "    <tr>\n",
       "      <th>D1</th>\n",
       "      <td>173</td>\n",
       "      <td>172</td>\n",
       "      <td>175</td>\n",
       "      <td>174</td>\n",
       "    </tr>\n",
       "    <tr>\n",
       "      <th rowspan=\"2\" valign=\"top\">C3</th>\n",
       "      <th>D0</th>\n",
       "      <td>185</td>\n",
       "      <td>184</td>\n",
       "      <td>187</td>\n",
       "      <td>186</td>\n",
       "    </tr>\n",
       "    <tr>\n",
       "      <th>D1</th>\n",
       "      <td>189</td>\n",
       "      <td>188</td>\n",
       "      <td>191</td>\n",
       "      <td>190</td>\n",
       "    </tr>\n",
       "    <tr>\n",
       "      <th rowspan=\"8\" valign=\"top\">A3</th>\n",
       "      <th rowspan=\"4\" valign=\"top\">B0</th>\n",
       "      <th rowspan=\"2\" valign=\"top\">C1</th>\n",
       "      <th>D0</th>\n",
       "      <td>201</td>\n",
       "      <td>200</td>\n",
       "      <td>203</td>\n",
       "      <td>202</td>\n",
       "    </tr>\n",
       "    <tr>\n",
       "      <th>D1</th>\n",
       "      <td>205</td>\n",
       "      <td>204</td>\n",
       "      <td>207</td>\n",
       "      <td>206</td>\n",
       "    </tr>\n",
       "    <tr>\n",
       "      <th rowspan=\"2\" valign=\"top\">C3</th>\n",
       "      <th>D0</th>\n",
       "      <td>217</td>\n",
       "      <td>216</td>\n",
       "      <td>219</td>\n",
       "      <td>218</td>\n",
       "    </tr>\n",
       "    <tr>\n",
       "      <th>D1</th>\n",
       "      <td>221</td>\n",
       "      <td>220</td>\n",
       "      <td>223</td>\n",
       "      <td>222</td>\n",
       "    </tr>\n",
       "    <tr>\n",
       "      <th rowspan=\"4\" valign=\"top\">B1</th>\n",
       "      <th rowspan=\"2\" valign=\"top\">C1</th>\n",
       "      <th>D0</th>\n",
       "      <td>233</td>\n",
       "      <td>232</td>\n",
       "      <td>235</td>\n",
       "      <td>234</td>\n",
       "    </tr>\n",
       "    <tr>\n",
       "      <th>D1</th>\n",
       "      <td>237</td>\n",
       "      <td>236</td>\n",
       "      <td>239</td>\n",
       "      <td>238</td>\n",
       "    </tr>\n",
       "    <tr>\n",
       "      <th rowspan=\"2\" valign=\"top\">C3</th>\n",
       "      <th>D0</th>\n",
       "      <td>249</td>\n",
       "      <td>248</td>\n",
       "      <td>251</td>\n",
       "      <td>250</td>\n",
       "    </tr>\n",
       "    <tr>\n",
       "      <th>D1</th>\n",
       "      <td>253</td>\n",
       "      <td>252</td>\n",
       "      <td>255</td>\n",
       "      <td>254</td>\n",
       "    </tr>\n",
       "  </tbody>\n",
       "</table>\n",
       "</div>"
      ],
      "text/plain": [
       "lvl0           a         b     \n",
       "lvl1         bar  foo  bah  foo\n",
       "A0 B0 C1 D0    9    8   11   10\n",
       "         D1   13   12   15   14\n",
       "      C3 D0   25   24   27   26\n",
       "         D1   29   28   31   30\n",
       "   B1 C1 D0   41   40   43   42\n",
       "         D1   45   44   47   46\n",
       "      C3 D0   57   56   59   58\n",
       "         D1   61   60   63   62\n",
       "A1 B0 C1 D0   73   72   75   74\n",
       "         D1   77   76   79   78\n",
       "      C3 D0   89   88   91   90\n",
       "         D1   93   92   95   94\n",
       "   B1 C1 D0  105  104  107  106\n",
       "         D1  109  108  111  110\n",
       "      C3 D0  121  120  123  122\n",
       "         D1  125  124  127  126\n",
       "A2 B0 C1 D0  137  136  139  138\n",
       "         D1  141  140  143  142\n",
       "      C3 D0  153  152  155  154\n",
       "         D1  157  156  159  158\n",
       "   B1 C1 D0  169  168  171  170\n",
       "         D1  173  172  175  174\n",
       "      C3 D0  185  184  187  186\n",
       "         D1  189  188  191  190\n",
       "A3 B0 C1 D0  201  200  203  202\n",
       "         D1  205  204  207  206\n",
       "      C3 D0  217  216  219  218\n",
       "         D1  221  220  223  222\n",
       "   B1 C1 D0  233  232  235  234\n",
       "         D1  237  236  239  238\n",
       "      C3 D0  249  248  251  250\n",
       "         D1  253  252  255  254"
      ]
     },
     "execution_count": 115,
     "metadata": {},
     "output_type": "execute_result"
    }
   ],
   "source": [
    "dfmi.loc(axis=0)[:, :, ['C1', 'C3']]"
   ]
  },
  {
   "cell_type": "code",
   "execution_count": 116,
   "metadata": {},
   "outputs": [
    {
     "data": {
      "text/html": [
       "<div>\n",
       "<style scoped>\n",
       "    .dataframe tbody tr th:only-of-type {\n",
       "        vertical-align: middle;\n",
       "    }\n",
       "\n",
       "    .dataframe tbody tr th {\n",
       "        vertical-align: top;\n",
       "    }\n",
       "\n",
       "    .dataframe thead tr th {\n",
       "        text-align: left;\n",
       "    }\n",
       "</style>\n",
       "<table border=\"1\" class=\"dataframe\">\n",
       "  <thead>\n",
       "    <tr>\n",
       "      <th></th>\n",
       "      <th></th>\n",
       "      <th></th>\n",
       "      <th>lvl0</th>\n",
       "      <th colspan=\"2\" halign=\"left\">a</th>\n",
       "      <th colspan=\"2\" halign=\"left\">b</th>\n",
       "    </tr>\n",
       "    <tr>\n",
       "      <th></th>\n",
       "      <th></th>\n",
       "      <th></th>\n",
       "      <th>lvl1</th>\n",
       "      <th>bar</th>\n",
       "      <th>foo</th>\n",
       "      <th>bah</th>\n",
       "      <th>foo</th>\n",
       "    </tr>\n",
       "  </thead>\n",
       "  <tbody>\n",
       "    <tr>\n",
       "      <th rowspan=\"16\" valign=\"top\">A0</th>\n",
       "      <th rowspan=\"8\" valign=\"top\">B0</th>\n",
       "      <th rowspan=\"2\" valign=\"top\">C0</th>\n",
       "      <th>D0</th>\n",
       "      <td>1</td>\n",
       "      <td>0</td>\n",
       "      <td>3</td>\n",
       "      <td>2</td>\n",
       "    </tr>\n",
       "    <tr>\n",
       "      <th>D1</th>\n",
       "      <td>5</td>\n",
       "      <td>4</td>\n",
       "      <td>7</td>\n",
       "      <td>6</td>\n",
       "    </tr>\n",
       "    <tr>\n",
       "      <th rowspan=\"2\" valign=\"top\">C1</th>\n",
       "      <th>D0</th>\n",
       "      <td>-10</td>\n",
       "      <td>-10</td>\n",
       "      <td>-10</td>\n",
       "      <td>-10</td>\n",
       "    </tr>\n",
       "    <tr>\n",
       "      <th>D1</th>\n",
       "      <td>-10</td>\n",
       "      <td>-10</td>\n",
       "      <td>-10</td>\n",
       "      <td>-10</td>\n",
       "    </tr>\n",
       "    <tr>\n",
       "      <th rowspan=\"2\" valign=\"top\">C2</th>\n",
       "      <th>D0</th>\n",
       "      <td>17</td>\n",
       "      <td>16</td>\n",
       "      <td>19</td>\n",
       "      <td>18</td>\n",
       "    </tr>\n",
       "    <tr>\n",
       "      <th>D1</th>\n",
       "      <td>21</td>\n",
       "      <td>20</td>\n",
       "      <td>23</td>\n",
       "      <td>22</td>\n",
       "    </tr>\n",
       "    <tr>\n",
       "      <th rowspan=\"2\" valign=\"top\">C3</th>\n",
       "      <th>D0</th>\n",
       "      <td>-10</td>\n",
       "      <td>-10</td>\n",
       "      <td>-10</td>\n",
       "      <td>-10</td>\n",
       "    </tr>\n",
       "    <tr>\n",
       "      <th>D1</th>\n",
       "      <td>-10</td>\n",
       "      <td>-10</td>\n",
       "      <td>-10</td>\n",
       "      <td>-10</td>\n",
       "    </tr>\n",
       "    <tr>\n",
       "      <th rowspan=\"8\" valign=\"top\">B1</th>\n",
       "      <th rowspan=\"2\" valign=\"top\">C0</th>\n",
       "      <th>D0</th>\n",
       "      <td>33</td>\n",
       "      <td>32</td>\n",
       "      <td>35</td>\n",
       "      <td>34</td>\n",
       "    </tr>\n",
       "    <tr>\n",
       "      <th>D1</th>\n",
       "      <td>37</td>\n",
       "      <td>36</td>\n",
       "      <td>39</td>\n",
       "      <td>38</td>\n",
       "    </tr>\n",
       "    <tr>\n",
       "      <th rowspan=\"2\" valign=\"top\">C1</th>\n",
       "      <th>D0</th>\n",
       "      <td>-10</td>\n",
       "      <td>-10</td>\n",
       "      <td>-10</td>\n",
       "      <td>-10</td>\n",
       "    </tr>\n",
       "    <tr>\n",
       "      <th>D1</th>\n",
       "      <td>-10</td>\n",
       "      <td>-10</td>\n",
       "      <td>-10</td>\n",
       "      <td>-10</td>\n",
       "    </tr>\n",
       "    <tr>\n",
       "      <th rowspan=\"2\" valign=\"top\">C2</th>\n",
       "      <th>D0</th>\n",
       "      <td>49</td>\n",
       "      <td>48</td>\n",
       "      <td>51</td>\n",
       "      <td>50</td>\n",
       "    </tr>\n",
       "    <tr>\n",
       "      <th>D1</th>\n",
       "      <td>53</td>\n",
       "      <td>52</td>\n",
       "      <td>55</td>\n",
       "      <td>54</td>\n",
       "    </tr>\n",
       "    <tr>\n",
       "      <th rowspan=\"2\" valign=\"top\">C3</th>\n",
       "      <th>D0</th>\n",
       "      <td>-10</td>\n",
       "      <td>-10</td>\n",
       "      <td>-10</td>\n",
       "      <td>-10</td>\n",
       "    </tr>\n",
       "    <tr>\n",
       "      <th>D1</th>\n",
       "      <td>-10</td>\n",
       "      <td>-10</td>\n",
       "      <td>-10</td>\n",
       "      <td>-10</td>\n",
       "    </tr>\n",
       "    <tr>\n",
       "      <th rowspan=\"14\" valign=\"top\">A1</th>\n",
       "      <th rowspan=\"8\" valign=\"top\">B0</th>\n",
       "      <th rowspan=\"2\" valign=\"top\">C0</th>\n",
       "      <th>D0</th>\n",
       "      <td>65</td>\n",
       "      <td>64</td>\n",
       "      <td>67</td>\n",
       "      <td>66</td>\n",
       "    </tr>\n",
       "    <tr>\n",
       "      <th>D1</th>\n",
       "      <td>69</td>\n",
       "      <td>68</td>\n",
       "      <td>71</td>\n",
       "      <td>70</td>\n",
       "    </tr>\n",
       "    <tr>\n",
       "      <th rowspan=\"2\" valign=\"top\">C1</th>\n",
       "      <th>D0</th>\n",
       "      <td>-10</td>\n",
       "      <td>-10</td>\n",
       "      <td>-10</td>\n",
       "      <td>-10</td>\n",
       "    </tr>\n",
       "    <tr>\n",
       "      <th>D1</th>\n",
       "      <td>-10</td>\n",
       "      <td>-10</td>\n",
       "      <td>-10</td>\n",
       "      <td>-10</td>\n",
       "    </tr>\n",
       "    <tr>\n",
       "      <th rowspan=\"2\" valign=\"top\">C2</th>\n",
       "      <th>D0</th>\n",
       "      <td>81</td>\n",
       "      <td>80</td>\n",
       "      <td>83</td>\n",
       "      <td>82</td>\n",
       "    </tr>\n",
       "    <tr>\n",
       "      <th>D1</th>\n",
       "      <td>85</td>\n",
       "      <td>84</td>\n",
       "      <td>87</td>\n",
       "      <td>86</td>\n",
       "    </tr>\n",
       "    <tr>\n",
       "      <th rowspan=\"2\" valign=\"top\">C3</th>\n",
       "      <th>D0</th>\n",
       "      <td>-10</td>\n",
       "      <td>-10</td>\n",
       "      <td>-10</td>\n",
       "      <td>-10</td>\n",
       "    </tr>\n",
       "    <tr>\n",
       "      <th>D1</th>\n",
       "      <td>-10</td>\n",
       "      <td>-10</td>\n",
       "      <td>-10</td>\n",
       "      <td>-10</td>\n",
       "    </tr>\n",
       "    <tr>\n",
       "      <th rowspan=\"6\" valign=\"top\">B1</th>\n",
       "      <th rowspan=\"2\" valign=\"top\">C0</th>\n",
       "      <th>D0</th>\n",
       "      <td>97</td>\n",
       "      <td>96</td>\n",
       "      <td>99</td>\n",
       "      <td>98</td>\n",
       "    </tr>\n",
       "    <tr>\n",
       "      <th>D1</th>\n",
       "      <td>101</td>\n",
       "      <td>100</td>\n",
       "      <td>103</td>\n",
       "      <td>102</td>\n",
       "    </tr>\n",
       "    <tr>\n",
       "      <th rowspan=\"2\" valign=\"top\">C1</th>\n",
       "      <th>D0</th>\n",
       "      <td>-10</td>\n",
       "      <td>-10</td>\n",
       "      <td>-10</td>\n",
       "      <td>-10</td>\n",
       "    </tr>\n",
       "    <tr>\n",
       "      <th>D1</th>\n",
       "      <td>-10</td>\n",
       "      <td>-10</td>\n",
       "      <td>-10</td>\n",
       "      <td>-10</td>\n",
       "    </tr>\n",
       "    <tr>\n",
       "      <th rowspan=\"2\" valign=\"top\">C2</th>\n",
       "      <th>D0</th>\n",
       "      <td>113</td>\n",
       "      <td>112</td>\n",
       "      <td>115</td>\n",
       "      <td>114</td>\n",
       "    </tr>\n",
       "    <tr>\n",
       "      <th>D1</th>\n",
       "      <td>117</td>\n",
       "      <td>116</td>\n",
       "      <td>119</td>\n",
       "      <td>118</td>\n",
       "    </tr>\n",
       "    <tr>\n",
       "      <th>...</th>\n",
       "      <th>...</th>\n",
       "      <th>...</th>\n",
       "      <th>...</th>\n",
       "      <td>...</td>\n",
       "      <td>...</td>\n",
       "      <td>...</td>\n",
       "      <td>...</td>\n",
       "    </tr>\n",
       "    <tr>\n",
       "      <th rowspan=\"14\" valign=\"top\">A2</th>\n",
       "      <th rowspan=\"6\" valign=\"top\">B0</th>\n",
       "      <th rowspan=\"2\" valign=\"top\">C1</th>\n",
       "      <th>D0</th>\n",
       "      <td>-10</td>\n",
       "      <td>-10</td>\n",
       "      <td>-10</td>\n",
       "      <td>-10</td>\n",
       "    </tr>\n",
       "    <tr>\n",
       "      <th>D1</th>\n",
       "      <td>-10</td>\n",
       "      <td>-10</td>\n",
       "      <td>-10</td>\n",
       "      <td>-10</td>\n",
       "    </tr>\n",
       "    <tr>\n",
       "      <th rowspan=\"2\" valign=\"top\">C2</th>\n",
       "      <th>D0</th>\n",
       "      <td>145</td>\n",
       "      <td>144</td>\n",
       "      <td>147</td>\n",
       "      <td>146</td>\n",
       "    </tr>\n",
       "    <tr>\n",
       "      <th>D1</th>\n",
       "      <td>149</td>\n",
       "      <td>148</td>\n",
       "      <td>151</td>\n",
       "      <td>150</td>\n",
       "    </tr>\n",
       "    <tr>\n",
       "      <th rowspan=\"2\" valign=\"top\">C3</th>\n",
       "      <th>D0</th>\n",
       "      <td>-10</td>\n",
       "      <td>-10</td>\n",
       "      <td>-10</td>\n",
       "      <td>-10</td>\n",
       "    </tr>\n",
       "    <tr>\n",
       "      <th>D1</th>\n",
       "      <td>-10</td>\n",
       "      <td>-10</td>\n",
       "      <td>-10</td>\n",
       "      <td>-10</td>\n",
       "    </tr>\n",
       "    <tr>\n",
       "      <th rowspan=\"8\" valign=\"top\">B1</th>\n",
       "      <th rowspan=\"2\" valign=\"top\">C0</th>\n",
       "      <th>D0</th>\n",
       "      <td>161</td>\n",
       "      <td>160</td>\n",
       "      <td>163</td>\n",
       "      <td>162</td>\n",
       "    </tr>\n",
       "    <tr>\n",
       "      <th>D1</th>\n",
       "      <td>165</td>\n",
       "      <td>164</td>\n",
       "      <td>167</td>\n",
       "      <td>166</td>\n",
       "    </tr>\n",
       "    <tr>\n",
       "      <th rowspan=\"2\" valign=\"top\">C1</th>\n",
       "      <th>D0</th>\n",
       "      <td>-10</td>\n",
       "      <td>-10</td>\n",
       "      <td>-10</td>\n",
       "      <td>-10</td>\n",
       "    </tr>\n",
       "    <tr>\n",
       "      <th>D1</th>\n",
       "      <td>-10</td>\n",
       "      <td>-10</td>\n",
       "      <td>-10</td>\n",
       "      <td>-10</td>\n",
       "    </tr>\n",
       "    <tr>\n",
       "      <th rowspan=\"2\" valign=\"top\">C2</th>\n",
       "      <th>D0</th>\n",
       "      <td>177</td>\n",
       "      <td>176</td>\n",
       "      <td>179</td>\n",
       "      <td>178</td>\n",
       "    </tr>\n",
       "    <tr>\n",
       "      <th>D1</th>\n",
       "      <td>181</td>\n",
       "      <td>180</td>\n",
       "      <td>183</td>\n",
       "      <td>182</td>\n",
       "    </tr>\n",
       "    <tr>\n",
       "      <th rowspan=\"2\" valign=\"top\">C3</th>\n",
       "      <th>D0</th>\n",
       "      <td>-10</td>\n",
       "      <td>-10</td>\n",
       "      <td>-10</td>\n",
       "      <td>-10</td>\n",
       "    </tr>\n",
       "    <tr>\n",
       "      <th>D1</th>\n",
       "      <td>-10</td>\n",
       "      <td>-10</td>\n",
       "      <td>-10</td>\n",
       "      <td>-10</td>\n",
       "    </tr>\n",
       "    <tr>\n",
       "      <th rowspan=\"16\" valign=\"top\">A3</th>\n",
       "      <th rowspan=\"8\" valign=\"top\">B0</th>\n",
       "      <th rowspan=\"2\" valign=\"top\">C0</th>\n",
       "      <th>D0</th>\n",
       "      <td>193</td>\n",
       "      <td>192</td>\n",
       "      <td>195</td>\n",
       "      <td>194</td>\n",
       "    </tr>\n",
       "    <tr>\n",
       "      <th>D1</th>\n",
       "      <td>197</td>\n",
       "      <td>196</td>\n",
       "      <td>199</td>\n",
       "      <td>198</td>\n",
       "    </tr>\n",
       "    <tr>\n",
       "      <th rowspan=\"2\" valign=\"top\">C1</th>\n",
       "      <th>D0</th>\n",
       "      <td>-10</td>\n",
       "      <td>-10</td>\n",
       "      <td>-10</td>\n",
       "      <td>-10</td>\n",
       "    </tr>\n",
       "    <tr>\n",
       "      <th>D1</th>\n",
       "      <td>-10</td>\n",
       "      <td>-10</td>\n",
       "      <td>-10</td>\n",
       "      <td>-10</td>\n",
       "    </tr>\n",
       "    <tr>\n",
       "      <th rowspan=\"2\" valign=\"top\">C2</th>\n",
       "      <th>D0</th>\n",
       "      <td>209</td>\n",
       "      <td>208</td>\n",
       "      <td>211</td>\n",
       "      <td>210</td>\n",
       "    </tr>\n",
       "    <tr>\n",
       "      <th>D1</th>\n",
       "      <td>213</td>\n",
       "      <td>212</td>\n",
       "      <td>215</td>\n",
       "      <td>214</td>\n",
       "    </tr>\n",
       "    <tr>\n",
       "      <th rowspan=\"2\" valign=\"top\">C3</th>\n",
       "      <th>D0</th>\n",
       "      <td>-10</td>\n",
       "      <td>-10</td>\n",
       "      <td>-10</td>\n",
       "      <td>-10</td>\n",
       "    </tr>\n",
       "    <tr>\n",
       "      <th>D1</th>\n",
       "      <td>-10</td>\n",
       "      <td>-10</td>\n",
       "      <td>-10</td>\n",
       "      <td>-10</td>\n",
       "    </tr>\n",
       "    <tr>\n",
       "      <th rowspan=\"8\" valign=\"top\">B1</th>\n",
       "      <th rowspan=\"2\" valign=\"top\">C0</th>\n",
       "      <th>D0</th>\n",
       "      <td>225</td>\n",
       "      <td>224</td>\n",
       "      <td>227</td>\n",
       "      <td>226</td>\n",
       "    </tr>\n",
       "    <tr>\n",
       "      <th>D1</th>\n",
       "      <td>229</td>\n",
       "      <td>228</td>\n",
       "      <td>231</td>\n",
       "      <td>230</td>\n",
       "    </tr>\n",
       "    <tr>\n",
       "      <th rowspan=\"2\" valign=\"top\">C1</th>\n",
       "      <th>D0</th>\n",
       "      <td>-10</td>\n",
       "      <td>-10</td>\n",
       "      <td>-10</td>\n",
       "      <td>-10</td>\n",
       "    </tr>\n",
       "    <tr>\n",
       "      <th>D1</th>\n",
       "      <td>-10</td>\n",
       "      <td>-10</td>\n",
       "      <td>-10</td>\n",
       "      <td>-10</td>\n",
       "    </tr>\n",
       "    <tr>\n",
       "      <th rowspan=\"2\" valign=\"top\">C2</th>\n",
       "      <th>D0</th>\n",
       "      <td>241</td>\n",
       "      <td>240</td>\n",
       "      <td>243</td>\n",
       "      <td>242</td>\n",
       "    </tr>\n",
       "    <tr>\n",
       "      <th>D1</th>\n",
       "      <td>245</td>\n",
       "      <td>244</td>\n",
       "      <td>247</td>\n",
       "      <td>246</td>\n",
       "    </tr>\n",
       "    <tr>\n",
       "      <th rowspan=\"2\" valign=\"top\">C3</th>\n",
       "      <th>D0</th>\n",
       "      <td>-10</td>\n",
       "      <td>-10</td>\n",
       "      <td>-10</td>\n",
       "      <td>-10</td>\n",
       "    </tr>\n",
       "    <tr>\n",
       "      <th>D1</th>\n",
       "      <td>-10</td>\n",
       "      <td>-10</td>\n",
       "      <td>-10</td>\n",
       "      <td>-10</td>\n",
       "    </tr>\n",
       "  </tbody>\n",
       "</table>\n",
       "<p>64 rows × 4 columns</p>\n",
       "</div>"
      ],
      "text/plain": [
       "lvl0           a         b     \n",
       "lvl1         bar  foo  bah  foo\n",
       "A0 B0 C0 D0    1    0    3    2\n",
       "         D1    5    4    7    6\n",
       "      C1 D0  -10  -10  -10  -10\n",
       "         D1  -10  -10  -10  -10\n",
       "      C2 D0   17   16   19   18\n",
       "         D1   21   20   23   22\n",
       "      C3 D0  -10  -10  -10  -10\n",
       "         D1  -10  -10  -10  -10\n",
       "   B1 C0 D0   33   32   35   34\n",
       "         D1   37   36   39   38\n",
       "      C1 D0  -10  -10  -10  -10\n",
       "         D1  -10  -10  -10  -10\n",
       "      C2 D0   49   48   51   50\n",
       "         D1   53   52   55   54\n",
       "      C3 D0  -10  -10  -10  -10\n",
       "         D1  -10  -10  -10  -10\n",
       "A1 B0 C0 D0   65   64   67   66\n",
       "         D1   69   68   71   70\n",
       "      C1 D0  -10  -10  -10  -10\n",
       "         D1  -10  -10  -10  -10\n",
       "      C2 D0   81   80   83   82\n",
       "         D1   85   84   87   86\n",
       "      C3 D0  -10  -10  -10  -10\n",
       "         D1  -10  -10  -10  -10\n",
       "   B1 C0 D0   97   96   99   98\n",
       "         D1  101  100  103  102\n",
       "      C1 D0  -10  -10  -10  -10\n",
       "         D1  -10  -10  -10  -10\n",
       "      C2 D0  113  112  115  114\n",
       "         D1  117  116  119  118\n",
       "...          ...  ...  ...  ...\n",
       "A2 B0 C1 D0  -10  -10  -10  -10\n",
       "         D1  -10  -10  -10  -10\n",
       "      C2 D0  145  144  147  146\n",
       "         D1  149  148  151  150\n",
       "      C3 D0  -10  -10  -10  -10\n",
       "         D1  -10  -10  -10  -10\n",
       "   B1 C0 D0  161  160  163  162\n",
       "         D1  165  164  167  166\n",
       "      C1 D0  -10  -10  -10  -10\n",
       "         D1  -10  -10  -10  -10\n",
       "      C2 D0  177  176  179  178\n",
       "         D1  181  180  183  182\n",
       "      C3 D0  -10  -10  -10  -10\n",
       "         D1  -10  -10  -10  -10\n",
       "A3 B0 C0 D0  193  192  195  194\n",
       "         D1  197  196  199  198\n",
       "      C1 D0  -10  -10  -10  -10\n",
       "         D1  -10  -10  -10  -10\n",
       "      C2 D0  209  208  211  210\n",
       "         D1  213  212  215  214\n",
       "      C3 D0  -10  -10  -10  -10\n",
       "         D1  -10  -10  -10  -10\n",
       "   B1 C0 D0  225  224  227  226\n",
       "         D1  229  228  231  230\n",
       "      C1 D0  -10  -10  -10  -10\n",
       "         D1  -10  -10  -10  -10\n",
       "      C2 D0  241  240  243  242\n",
       "         D1  245  244  247  246\n",
       "      C3 D0  -10  -10  -10  -10\n",
       "         D1  -10  -10  -10  -10\n",
       "\n",
       "[64 rows x 4 columns]"
      ]
     },
     "execution_count": 116,
     "metadata": {},
     "output_type": "execute_result"
    }
   ],
   "source": [
    "df2 = dfmi.copy()\n",
    "df2.loc(axis=0)[:, :, ['C1', 'C3']] = -10\n",
    "df2"
   ]
  },
  {
   "cell_type": "code",
   "execution_count": 117,
   "metadata": {},
   "outputs": [
    {
     "data": {
      "text/html": [
       "<div>\n",
       "<style scoped>\n",
       "    .dataframe tbody tr th:only-of-type {\n",
       "        vertical-align: middle;\n",
       "    }\n",
       "\n",
       "    .dataframe tbody tr th {\n",
       "        vertical-align: top;\n",
       "    }\n",
       "\n",
       "    .dataframe thead tr th {\n",
       "        text-align: left;\n",
       "    }\n",
       "</style>\n",
       "<table border=\"1\" class=\"dataframe\">\n",
       "  <thead>\n",
       "    <tr>\n",
       "      <th></th>\n",
       "      <th></th>\n",
       "      <th></th>\n",
       "      <th>lvl0</th>\n",
       "      <th colspan=\"2\" halign=\"left\">a</th>\n",
       "      <th colspan=\"2\" halign=\"left\">b</th>\n",
       "    </tr>\n",
       "    <tr>\n",
       "      <th></th>\n",
       "      <th></th>\n",
       "      <th></th>\n",
       "      <th>lvl1</th>\n",
       "      <th>bar</th>\n",
       "      <th>foo</th>\n",
       "      <th>bah</th>\n",
       "      <th>foo</th>\n",
       "    </tr>\n",
       "  </thead>\n",
       "  <tbody>\n",
       "    <tr>\n",
       "      <th rowspan=\"16\" valign=\"top\">A0</th>\n",
       "      <th rowspan=\"8\" valign=\"top\">B0</th>\n",
       "      <th rowspan=\"2\" valign=\"top\">C0</th>\n",
       "      <th>D0</th>\n",
       "      <td>1</td>\n",
       "      <td>0</td>\n",
       "      <td>3</td>\n",
       "      <td>2</td>\n",
       "    </tr>\n",
       "    <tr>\n",
       "      <th>D1</th>\n",
       "      <td>5</td>\n",
       "      <td>4</td>\n",
       "      <td>7</td>\n",
       "      <td>6</td>\n",
       "    </tr>\n",
       "    <tr>\n",
       "      <th rowspan=\"2\" valign=\"top\">C1</th>\n",
       "      <th>D0</th>\n",
       "      <td>9000</td>\n",
       "      <td>8000</td>\n",
       "      <td>11000</td>\n",
       "      <td>10000</td>\n",
       "    </tr>\n",
       "    <tr>\n",
       "      <th>D1</th>\n",
       "      <td>13000</td>\n",
       "      <td>12000</td>\n",
       "      <td>15000</td>\n",
       "      <td>14000</td>\n",
       "    </tr>\n",
       "    <tr>\n",
       "      <th rowspan=\"2\" valign=\"top\">C2</th>\n",
       "      <th>D0</th>\n",
       "      <td>17</td>\n",
       "      <td>16</td>\n",
       "      <td>19</td>\n",
       "      <td>18</td>\n",
       "    </tr>\n",
       "    <tr>\n",
       "      <th>D1</th>\n",
       "      <td>21</td>\n",
       "      <td>20</td>\n",
       "      <td>23</td>\n",
       "      <td>22</td>\n",
       "    </tr>\n",
       "    <tr>\n",
       "      <th rowspan=\"2\" valign=\"top\">C3</th>\n",
       "      <th>D0</th>\n",
       "      <td>25000</td>\n",
       "      <td>24000</td>\n",
       "      <td>27000</td>\n",
       "      <td>26000</td>\n",
       "    </tr>\n",
       "    <tr>\n",
       "      <th>D1</th>\n",
       "      <td>29000</td>\n",
       "      <td>28000</td>\n",
       "      <td>31000</td>\n",
       "      <td>30000</td>\n",
       "    </tr>\n",
       "    <tr>\n",
       "      <th rowspan=\"8\" valign=\"top\">B1</th>\n",
       "      <th rowspan=\"2\" valign=\"top\">C0</th>\n",
       "      <th>D0</th>\n",
       "      <td>33</td>\n",
       "      <td>32</td>\n",
       "      <td>35</td>\n",
       "      <td>34</td>\n",
       "    </tr>\n",
       "    <tr>\n",
       "      <th>D1</th>\n",
       "      <td>37</td>\n",
       "      <td>36</td>\n",
       "      <td>39</td>\n",
       "      <td>38</td>\n",
       "    </tr>\n",
       "    <tr>\n",
       "      <th rowspan=\"2\" valign=\"top\">C1</th>\n",
       "      <th>D0</th>\n",
       "      <td>41000</td>\n",
       "      <td>40000</td>\n",
       "      <td>43000</td>\n",
       "      <td>42000</td>\n",
       "    </tr>\n",
       "    <tr>\n",
       "      <th>D1</th>\n",
       "      <td>45000</td>\n",
       "      <td>44000</td>\n",
       "      <td>47000</td>\n",
       "      <td>46000</td>\n",
       "    </tr>\n",
       "    <tr>\n",
       "      <th rowspan=\"2\" valign=\"top\">C2</th>\n",
       "      <th>D0</th>\n",
       "      <td>49</td>\n",
       "      <td>48</td>\n",
       "      <td>51</td>\n",
       "      <td>50</td>\n",
       "    </tr>\n",
       "    <tr>\n",
       "      <th>D1</th>\n",
       "      <td>53</td>\n",
       "      <td>52</td>\n",
       "      <td>55</td>\n",
       "      <td>54</td>\n",
       "    </tr>\n",
       "    <tr>\n",
       "      <th rowspan=\"2\" valign=\"top\">C3</th>\n",
       "      <th>D0</th>\n",
       "      <td>57000</td>\n",
       "      <td>56000</td>\n",
       "      <td>59000</td>\n",
       "      <td>58000</td>\n",
       "    </tr>\n",
       "    <tr>\n",
       "      <th>D1</th>\n",
       "      <td>61000</td>\n",
       "      <td>60000</td>\n",
       "      <td>63000</td>\n",
       "      <td>62000</td>\n",
       "    </tr>\n",
       "    <tr>\n",
       "      <th rowspan=\"14\" valign=\"top\">A1</th>\n",
       "      <th rowspan=\"8\" valign=\"top\">B0</th>\n",
       "      <th rowspan=\"2\" valign=\"top\">C0</th>\n",
       "      <th>D0</th>\n",
       "      <td>65</td>\n",
       "      <td>64</td>\n",
       "      <td>67</td>\n",
       "      <td>66</td>\n",
       "    </tr>\n",
       "    <tr>\n",
       "      <th>D1</th>\n",
       "      <td>69</td>\n",
       "      <td>68</td>\n",
       "      <td>71</td>\n",
       "      <td>70</td>\n",
       "    </tr>\n",
       "    <tr>\n",
       "      <th rowspan=\"2\" valign=\"top\">C1</th>\n",
       "      <th>D0</th>\n",
       "      <td>73000</td>\n",
       "      <td>72000</td>\n",
       "      <td>75000</td>\n",
       "      <td>74000</td>\n",
       "    </tr>\n",
       "    <tr>\n",
       "      <th>D1</th>\n",
       "      <td>77000</td>\n",
       "      <td>76000</td>\n",
       "      <td>79000</td>\n",
       "      <td>78000</td>\n",
       "    </tr>\n",
       "    <tr>\n",
       "      <th rowspan=\"2\" valign=\"top\">C2</th>\n",
       "      <th>D0</th>\n",
       "      <td>81</td>\n",
       "      <td>80</td>\n",
       "      <td>83</td>\n",
       "      <td>82</td>\n",
       "    </tr>\n",
       "    <tr>\n",
       "      <th>D1</th>\n",
       "      <td>85</td>\n",
       "      <td>84</td>\n",
       "      <td>87</td>\n",
       "      <td>86</td>\n",
       "    </tr>\n",
       "    <tr>\n",
       "      <th rowspan=\"2\" valign=\"top\">C3</th>\n",
       "      <th>D0</th>\n",
       "      <td>89000</td>\n",
       "      <td>88000</td>\n",
       "      <td>91000</td>\n",
       "      <td>90000</td>\n",
       "    </tr>\n",
       "    <tr>\n",
       "      <th>D1</th>\n",
       "      <td>93000</td>\n",
       "      <td>92000</td>\n",
       "      <td>95000</td>\n",
       "      <td>94000</td>\n",
       "    </tr>\n",
       "    <tr>\n",
       "      <th rowspan=\"6\" valign=\"top\">B1</th>\n",
       "      <th rowspan=\"2\" valign=\"top\">C0</th>\n",
       "      <th>D0</th>\n",
       "      <td>97</td>\n",
       "      <td>96</td>\n",
       "      <td>99</td>\n",
       "      <td>98</td>\n",
       "    </tr>\n",
       "    <tr>\n",
       "      <th>D1</th>\n",
       "      <td>101</td>\n",
       "      <td>100</td>\n",
       "      <td>103</td>\n",
       "      <td>102</td>\n",
       "    </tr>\n",
       "    <tr>\n",
       "      <th rowspan=\"2\" valign=\"top\">C1</th>\n",
       "      <th>D0</th>\n",
       "      <td>105000</td>\n",
       "      <td>104000</td>\n",
       "      <td>107000</td>\n",
       "      <td>106000</td>\n",
       "    </tr>\n",
       "    <tr>\n",
       "      <th>D1</th>\n",
       "      <td>109000</td>\n",
       "      <td>108000</td>\n",
       "      <td>111000</td>\n",
       "      <td>110000</td>\n",
       "    </tr>\n",
       "    <tr>\n",
       "      <th rowspan=\"2\" valign=\"top\">C2</th>\n",
       "      <th>D0</th>\n",
       "      <td>113</td>\n",
       "      <td>112</td>\n",
       "      <td>115</td>\n",
       "      <td>114</td>\n",
       "    </tr>\n",
       "    <tr>\n",
       "      <th>D1</th>\n",
       "      <td>117</td>\n",
       "      <td>116</td>\n",
       "      <td>119</td>\n",
       "      <td>118</td>\n",
       "    </tr>\n",
       "    <tr>\n",
       "      <th>...</th>\n",
       "      <th>...</th>\n",
       "      <th>...</th>\n",
       "      <th>...</th>\n",
       "      <td>...</td>\n",
       "      <td>...</td>\n",
       "      <td>...</td>\n",
       "      <td>...</td>\n",
       "    </tr>\n",
       "    <tr>\n",
       "      <th rowspan=\"14\" valign=\"top\">A2</th>\n",
       "      <th rowspan=\"6\" valign=\"top\">B0</th>\n",
       "      <th rowspan=\"2\" valign=\"top\">C1</th>\n",
       "      <th>D0</th>\n",
       "      <td>137000</td>\n",
       "      <td>136000</td>\n",
       "      <td>139000</td>\n",
       "      <td>138000</td>\n",
       "    </tr>\n",
       "    <tr>\n",
       "      <th>D1</th>\n",
       "      <td>141000</td>\n",
       "      <td>140000</td>\n",
       "      <td>143000</td>\n",
       "      <td>142000</td>\n",
       "    </tr>\n",
       "    <tr>\n",
       "      <th rowspan=\"2\" valign=\"top\">C2</th>\n",
       "      <th>D0</th>\n",
       "      <td>145</td>\n",
       "      <td>144</td>\n",
       "      <td>147</td>\n",
       "      <td>146</td>\n",
       "    </tr>\n",
       "    <tr>\n",
       "      <th>D1</th>\n",
       "      <td>149</td>\n",
       "      <td>148</td>\n",
       "      <td>151</td>\n",
       "      <td>150</td>\n",
       "    </tr>\n",
       "    <tr>\n",
       "      <th rowspan=\"2\" valign=\"top\">C3</th>\n",
       "      <th>D0</th>\n",
       "      <td>153000</td>\n",
       "      <td>152000</td>\n",
       "      <td>155000</td>\n",
       "      <td>154000</td>\n",
       "    </tr>\n",
       "    <tr>\n",
       "      <th>D1</th>\n",
       "      <td>157000</td>\n",
       "      <td>156000</td>\n",
       "      <td>159000</td>\n",
       "      <td>158000</td>\n",
       "    </tr>\n",
       "    <tr>\n",
       "      <th rowspan=\"8\" valign=\"top\">B1</th>\n",
       "      <th rowspan=\"2\" valign=\"top\">C0</th>\n",
       "      <th>D0</th>\n",
       "      <td>161</td>\n",
       "      <td>160</td>\n",
       "      <td>163</td>\n",
       "      <td>162</td>\n",
       "    </tr>\n",
       "    <tr>\n",
       "      <th>D1</th>\n",
       "      <td>165</td>\n",
       "      <td>164</td>\n",
       "      <td>167</td>\n",
       "      <td>166</td>\n",
       "    </tr>\n",
       "    <tr>\n",
       "      <th rowspan=\"2\" valign=\"top\">C1</th>\n",
       "      <th>D0</th>\n",
       "      <td>169000</td>\n",
       "      <td>168000</td>\n",
       "      <td>171000</td>\n",
       "      <td>170000</td>\n",
       "    </tr>\n",
       "    <tr>\n",
       "      <th>D1</th>\n",
       "      <td>173000</td>\n",
       "      <td>172000</td>\n",
       "      <td>175000</td>\n",
       "      <td>174000</td>\n",
       "    </tr>\n",
       "    <tr>\n",
       "      <th rowspan=\"2\" valign=\"top\">C2</th>\n",
       "      <th>D0</th>\n",
       "      <td>177</td>\n",
       "      <td>176</td>\n",
       "      <td>179</td>\n",
       "      <td>178</td>\n",
       "    </tr>\n",
       "    <tr>\n",
       "      <th>D1</th>\n",
       "      <td>181</td>\n",
       "      <td>180</td>\n",
       "      <td>183</td>\n",
       "      <td>182</td>\n",
       "    </tr>\n",
       "    <tr>\n",
       "      <th rowspan=\"2\" valign=\"top\">C3</th>\n",
       "      <th>D0</th>\n",
       "      <td>185000</td>\n",
       "      <td>184000</td>\n",
       "      <td>187000</td>\n",
       "      <td>186000</td>\n",
       "    </tr>\n",
       "    <tr>\n",
       "      <th>D1</th>\n",
       "      <td>189000</td>\n",
       "      <td>188000</td>\n",
       "      <td>191000</td>\n",
       "      <td>190000</td>\n",
       "    </tr>\n",
       "    <tr>\n",
       "      <th rowspan=\"16\" valign=\"top\">A3</th>\n",
       "      <th rowspan=\"8\" valign=\"top\">B0</th>\n",
       "      <th rowspan=\"2\" valign=\"top\">C0</th>\n",
       "      <th>D0</th>\n",
       "      <td>193</td>\n",
       "      <td>192</td>\n",
       "      <td>195</td>\n",
       "      <td>194</td>\n",
       "    </tr>\n",
       "    <tr>\n",
       "      <th>D1</th>\n",
       "      <td>197</td>\n",
       "      <td>196</td>\n",
       "      <td>199</td>\n",
       "      <td>198</td>\n",
       "    </tr>\n",
       "    <tr>\n",
       "      <th rowspan=\"2\" valign=\"top\">C1</th>\n",
       "      <th>D0</th>\n",
       "      <td>201000</td>\n",
       "      <td>200000</td>\n",
       "      <td>203000</td>\n",
       "      <td>202000</td>\n",
       "    </tr>\n",
       "    <tr>\n",
       "      <th>D1</th>\n",
       "      <td>205000</td>\n",
       "      <td>204000</td>\n",
       "      <td>207000</td>\n",
       "      <td>206000</td>\n",
       "    </tr>\n",
       "    <tr>\n",
       "      <th rowspan=\"2\" valign=\"top\">C2</th>\n",
       "      <th>D0</th>\n",
       "      <td>209</td>\n",
       "      <td>208</td>\n",
       "      <td>211</td>\n",
       "      <td>210</td>\n",
       "    </tr>\n",
       "    <tr>\n",
       "      <th>D1</th>\n",
       "      <td>213</td>\n",
       "      <td>212</td>\n",
       "      <td>215</td>\n",
       "      <td>214</td>\n",
       "    </tr>\n",
       "    <tr>\n",
       "      <th rowspan=\"2\" valign=\"top\">C3</th>\n",
       "      <th>D0</th>\n",
       "      <td>217000</td>\n",
       "      <td>216000</td>\n",
       "      <td>219000</td>\n",
       "      <td>218000</td>\n",
       "    </tr>\n",
       "    <tr>\n",
       "      <th>D1</th>\n",
       "      <td>221000</td>\n",
       "      <td>220000</td>\n",
       "      <td>223000</td>\n",
       "      <td>222000</td>\n",
       "    </tr>\n",
       "    <tr>\n",
       "      <th rowspan=\"8\" valign=\"top\">B1</th>\n",
       "      <th rowspan=\"2\" valign=\"top\">C0</th>\n",
       "      <th>D0</th>\n",
       "      <td>225</td>\n",
       "      <td>224</td>\n",
       "      <td>227</td>\n",
       "      <td>226</td>\n",
       "    </tr>\n",
       "    <tr>\n",
       "      <th>D1</th>\n",
       "      <td>229</td>\n",
       "      <td>228</td>\n",
       "      <td>231</td>\n",
       "      <td>230</td>\n",
       "    </tr>\n",
       "    <tr>\n",
       "      <th rowspan=\"2\" valign=\"top\">C1</th>\n",
       "      <th>D0</th>\n",
       "      <td>233000</td>\n",
       "      <td>232000</td>\n",
       "      <td>235000</td>\n",
       "      <td>234000</td>\n",
       "    </tr>\n",
       "    <tr>\n",
       "      <th>D1</th>\n",
       "      <td>237000</td>\n",
       "      <td>236000</td>\n",
       "      <td>239000</td>\n",
       "      <td>238000</td>\n",
       "    </tr>\n",
       "    <tr>\n",
       "      <th rowspan=\"2\" valign=\"top\">C2</th>\n",
       "      <th>D0</th>\n",
       "      <td>241</td>\n",
       "      <td>240</td>\n",
       "      <td>243</td>\n",
       "      <td>242</td>\n",
       "    </tr>\n",
       "    <tr>\n",
       "      <th>D1</th>\n",
       "      <td>245</td>\n",
       "      <td>244</td>\n",
       "      <td>247</td>\n",
       "      <td>246</td>\n",
       "    </tr>\n",
       "    <tr>\n",
       "      <th rowspan=\"2\" valign=\"top\">C3</th>\n",
       "      <th>D0</th>\n",
       "      <td>249000</td>\n",
       "      <td>248000</td>\n",
       "      <td>251000</td>\n",
       "      <td>250000</td>\n",
       "    </tr>\n",
       "    <tr>\n",
       "      <th>D1</th>\n",
       "      <td>253000</td>\n",
       "      <td>252000</td>\n",
       "      <td>255000</td>\n",
       "      <td>254000</td>\n",
       "    </tr>\n",
       "  </tbody>\n",
       "</table>\n",
       "<p>64 rows × 4 columns</p>\n",
       "</div>"
      ],
      "text/plain": [
       "lvl0              a               b        \n",
       "lvl1            bar     foo     bah     foo\n",
       "A0 B0 C0 D0       1       0       3       2\n",
       "         D1       5       4       7       6\n",
       "      C1 D0    9000    8000   11000   10000\n",
       "         D1   13000   12000   15000   14000\n",
       "      C2 D0      17      16      19      18\n",
       "         D1      21      20      23      22\n",
       "      C3 D0   25000   24000   27000   26000\n",
       "         D1   29000   28000   31000   30000\n",
       "   B1 C0 D0      33      32      35      34\n",
       "         D1      37      36      39      38\n",
       "      C1 D0   41000   40000   43000   42000\n",
       "         D1   45000   44000   47000   46000\n",
       "      C2 D0      49      48      51      50\n",
       "         D1      53      52      55      54\n",
       "      C3 D0   57000   56000   59000   58000\n",
       "         D1   61000   60000   63000   62000\n",
       "A1 B0 C0 D0      65      64      67      66\n",
       "         D1      69      68      71      70\n",
       "      C1 D0   73000   72000   75000   74000\n",
       "         D1   77000   76000   79000   78000\n",
       "      C2 D0      81      80      83      82\n",
       "         D1      85      84      87      86\n",
       "      C3 D0   89000   88000   91000   90000\n",
       "         D1   93000   92000   95000   94000\n",
       "   B1 C0 D0      97      96      99      98\n",
       "         D1     101     100     103     102\n",
       "      C1 D0  105000  104000  107000  106000\n",
       "         D1  109000  108000  111000  110000\n",
       "      C2 D0     113     112     115     114\n",
       "         D1     117     116     119     118\n",
       "...             ...     ...     ...     ...\n",
       "A2 B0 C1 D0  137000  136000  139000  138000\n",
       "         D1  141000  140000  143000  142000\n",
       "      C2 D0     145     144     147     146\n",
       "         D1     149     148     151     150\n",
       "      C3 D0  153000  152000  155000  154000\n",
       "         D1  157000  156000  159000  158000\n",
       "   B1 C0 D0     161     160     163     162\n",
       "         D1     165     164     167     166\n",
       "      C1 D0  169000  168000  171000  170000\n",
       "         D1  173000  172000  175000  174000\n",
       "      C2 D0     177     176     179     178\n",
       "         D1     181     180     183     182\n",
       "      C3 D0  185000  184000  187000  186000\n",
       "         D1  189000  188000  191000  190000\n",
       "A3 B0 C0 D0     193     192     195     194\n",
       "         D1     197     196     199     198\n",
       "      C1 D0  201000  200000  203000  202000\n",
       "         D1  205000  204000  207000  206000\n",
       "      C2 D0     209     208     211     210\n",
       "         D1     213     212     215     214\n",
       "      C3 D0  217000  216000  219000  218000\n",
       "         D1  221000  220000  223000  222000\n",
       "   B1 C0 D0     225     224     227     226\n",
       "         D1     229     228     231     230\n",
       "      C1 D0  233000  232000  235000  234000\n",
       "         D1  237000  236000  239000  238000\n",
       "      C2 D0     241     240     243     242\n",
       "         D1     245     244     247     246\n",
       "      C3 D0  249000  248000  251000  250000\n",
       "         D1  253000  252000  255000  254000\n",
       "\n",
       "[64 rows x 4 columns]"
      ]
     },
     "execution_count": 117,
     "metadata": {},
     "output_type": "execute_result"
    }
   ],
   "source": [
    "df2 = dfmi.copy()\n",
    "df2.loc[idx[:, :, ['C1', 'C3']], :] = df2 * 1000\n",
    "df2"
   ]
  },
  {
   "cell_type": "markdown",
   "metadata": {},
   "source": [
    "### Construção de Multi Índices - Parte 3\n",
    "\n",
    "---"
   ]
  },
  {
   "cell_type": "markdown",
   "metadata": {},
   "source": [
    "### Seleção cruzada [aqui](http://pandas.pydata.org/pandas-docs/stable/advanced.html)\n",
    "\n",
    "---\n",
    "\n",
    "O método **.xs()** é usado neste caso"
   ]
  },
  {
   "cell_type": "code",
   "execution_count": 5,
   "metadata": {},
   "outputs": [
    {
     "data": {
      "text/html": [
       "<div>\n",
       "<style scoped>\n",
       "    .dataframe tbody tr th:only-of-type {\n",
       "        vertical-align: middle;\n",
       "    }\n",
       "\n",
       "    .dataframe tbody tr th {\n",
       "        vertical-align: top;\n",
       "    }\n",
       "\n",
       "    .dataframe thead th {\n",
       "        text-align: right;\n",
       "    }\n",
       "</style>\n",
       "<table border=\"1\" class=\"dataframe\">\n",
       "  <thead>\n",
       "    <tr style=\"text-align: right;\">\n",
       "      <th></th>\n",
       "      <th></th>\n",
       "      <th>0</th>\n",
       "      <th>1</th>\n",
       "      <th>2</th>\n",
       "    </tr>\n",
       "    <tr>\n",
       "      <th>first</th>\n",
       "      <th>second</th>\n",
       "      <th></th>\n",
       "      <th></th>\n",
       "      <th></th>\n",
       "    </tr>\n",
       "  </thead>\n",
       "  <tbody>\n",
       "    <tr>\n",
       "      <th rowspan=\"2\" valign=\"top\">bar</th>\n",
       "      <th>one</th>\n",
       "      <td>0.471328</td>\n",
       "      <td>-0.723772</td>\n",
       "      <td>0.823373</td>\n",
       "    </tr>\n",
       "    <tr>\n",
       "      <th>two</th>\n",
       "      <td>-0.443791</td>\n",
       "      <td>-0.753098</td>\n",
       "      <td>1.274663</td>\n",
       "    </tr>\n",
       "    <tr>\n",
       "      <th rowspan=\"2\" valign=\"top\">baz</th>\n",
       "      <th>one</th>\n",
       "      <td>-0.077691</td>\n",
       "      <td>-0.226932</td>\n",
       "      <td>-1.350944</td>\n",
       "    </tr>\n",
       "    <tr>\n",
       "      <th>two</th>\n",
       "      <td>0.839814</td>\n",
       "      <td>0.272866</td>\n",
       "      <td>-1.577247</td>\n",
       "    </tr>\n",
       "    <tr>\n",
       "      <th rowspan=\"2\" valign=\"top\">foo</th>\n",
       "      <th>one</th>\n",
       "      <td>0.457253</td>\n",
       "      <td>1.053118</td>\n",
       "      <td>0.466596</td>\n",
       "    </tr>\n",
       "    <tr>\n",
       "      <th>two</th>\n",
       "      <td>0.863698</td>\n",
       "      <td>-0.370364</td>\n",
       "      <td>-1.426475</td>\n",
       "    </tr>\n",
       "    <tr>\n",
       "      <th rowspan=\"2\" valign=\"top\">qux</th>\n",
       "      <th>one</th>\n",
       "      <td>2.267638</td>\n",
       "      <td>-0.248990</td>\n",
       "      <td>1.220212</td>\n",
       "    </tr>\n",
       "    <tr>\n",
       "      <th>two</th>\n",
       "      <td>0.631857</td>\n",
       "      <td>0.947411</td>\n",
       "      <td>-1.226947</td>\n",
       "    </tr>\n",
       "  </tbody>\n",
       "</table>\n",
       "</div>"
      ],
      "text/plain": [
       "                     0         1         2\n",
       "first second                              \n",
       "bar   one     0.471328 -0.723772  0.823373\n",
       "      two    -0.443791 -0.753098  1.274663\n",
       "baz   one    -0.077691 -0.226932 -1.350944\n",
       "      two     0.839814  0.272866 -1.577247\n",
       "foo   one     0.457253  1.053118  0.466596\n",
       "      two     0.863698 -0.370364 -1.426475\n",
       "qux   one     2.267638 -0.248990  1.220212\n",
       "      two     0.631857  0.947411 -1.226947"
      ]
     },
     "execution_count": 5,
     "metadata": {},
     "output_type": "execute_result"
    }
   ],
   "source": [
    "import pandas as pd\n",
    "import numpy as np\n",
    "\n",
    "arrays = [np.array(['bar', 'bar', 'baz', 'baz', 'foo', 'foo', 'qux', 'qux']),\n",
    "          np.array(['one', 'two', 'one', 'two', 'one', 'two', 'one', 'two'])] \n",
    "\n",
    "s = pd.Series(np.random.randn(8), index=arrays)\n",
    "\n",
    "df = pd.DataFrame(np.random.randn(8, 3), index=arrays)\n",
    "df.index.names = ['first', 'second']\n",
    "df"
   ]
  },
  {
   "cell_type": "markdown",
   "metadata": {},
   "source": [
    "O parâmetro **Level** dá conta disso"
   ]
  },
  {
   "cell_type": "code",
   "execution_count": 6,
   "metadata": {},
   "outputs": [
    {
     "data": {
      "text/html": [
       "<div>\n",
       "<style scoped>\n",
       "    .dataframe tbody tr th:only-of-type {\n",
       "        vertical-align: middle;\n",
       "    }\n",
       "\n",
       "    .dataframe tbody tr th {\n",
       "        vertical-align: top;\n",
       "    }\n",
       "\n",
       "    .dataframe thead th {\n",
       "        text-align: right;\n",
       "    }\n",
       "</style>\n",
       "<table border=\"1\" class=\"dataframe\">\n",
       "  <thead>\n",
       "    <tr style=\"text-align: right;\">\n",
       "      <th></th>\n",
       "      <th>0</th>\n",
       "      <th>1</th>\n",
       "      <th>2</th>\n",
       "    </tr>\n",
       "    <tr>\n",
       "      <th>first</th>\n",
       "      <th></th>\n",
       "      <th></th>\n",
       "      <th></th>\n",
       "    </tr>\n",
       "  </thead>\n",
       "  <tbody>\n",
       "    <tr>\n",
       "      <th>bar</th>\n",
       "      <td>0.471328</td>\n",
       "      <td>-0.723772</td>\n",
       "      <td>0.823373</td>\n",
       "    </tr>\n",
       "    <tr>\n",
       "      <th>baz</th>\n",
       "      <td>-0.077691</td>\n",
       "      <td>-0.226932</td>\n",
       "      <td>-1.350944</td>\n",
       "    </tr>\n",
       "    <tr>\n",
       "      <th>foo</th>\n",
       "      <td>0.457253</td>\n",
       "      <td>1.053118</td>\n",
       "      <td>0.466596</td>\n",
       "    </tr>\n",
       "    <tr>\n",
       "      <th>qux</th>\n",
       "      <td>2.267638</td>\n",
       "      <td>-0.248990</td>\n",
       "      <td>1.220212</td>\n",
       "    </tr>\n",
       "  </tbody>\n",
       "</table>\n",
       "</div>"
      ],
      "text/plain": [
       "              0         1         2\n",
       "first                              \n",
       "bar    0.471328 -0.723772  0.823373\n",
       "baz   -0.077691 -0.226932 -1.350944\n",
       "foo    0.457253  1.053118  0.466596\n",
       "qux    2.267638 -0.248990  1.220212"
      ]
     },
     "execution_count": 6,
     "metadata": {},
     "output_type": "execute_result"
    }
   ],
   "source": [
    "df.xs('one', level='second')"
   ]
  },
  {
   "cell_type": "markdown",
   "metadata": {},
   "source": [
    "---\n",
    "\n",
    "Agora usando o método **Fatiador**"
   ]
  },
  {
   "cell_type": "code",
   "execution_count": 8,
   "metadata": {},
   "outputs": [
    {
     "data": {
      "text/html": [
       "<div>\n",
       "<style scoped>\n",
       "    .dataframe tbody tr th:only-of-type {\n",
       "        vertical-align: middle;\n",
       "    }\n",
       "\n",
       "    .dataframe tbody tr th {\n",
       "        vertical-align: top;\n",
       "    }\n",
       "\n",
       "    .dataframe thead th {\n",
       "        text-align: right;\n",
       "    }\n",
       "</style>\n",
       "<table border=\"1\" class=\"dataframe\">\n",
       "  <thead>\n",
       "    <tr style=\"text-align: right;\">\n",
       "      <th></th>\n",
       "      <th></th>\n",
       "      <th>0</th>\n",
       "      <th>1</th>\n",
       "      <th>2</th>\n",
       "    </tr>\n",
       "    <tr>\n",
       "      <th>first</th>\n",
       "      <th>second</th>\n",
       "      <th></th>\n",
       "      <th></th>\n",
       "      <th></th>\n",
       "    </tr>\n",
       "  </thead>\n",
       "  <tbody>\n",
       "    <tr>\n",
       "      <th>bar</th>\n",
       "      <th>one</th>\n",
       "      <td>0.471328</td>\n",
       "      <td>-0.723772</td>\n",
       "      <td>0.823373</td>\n",
       "    </tr>\n",
       "    <tr>\n",
       "      <th>baz</th>\n",
       "      <th>one</th>\n",
       "      <td>-0.077691</td>\n",
       "      <td>-0.226932</td>\n",
       "      <td>-1.350944</td>\n",
       "    </tr>\n",
       "    <tr>\n",
       "      <th>foo</th>\n",
       "      <th>one</th>\n",
       "      <td>0.457253</td>\n",
       "      <td>1.053118</td>\n",
       "      <td>0.466596</td>\n",
       "    </tr>\n",
       "    <tr>\n",
       "      <th>qux</th>\n",
       "      <th>one</th>\n",
       "      <td>2.267638</td>\n",
       "      <td>-0.248990</td>\n",
       "      <td>1.220212</td>\n",
       "    </tr>\n",
       "  </tbody>\n",
       "</table>\n",
       "</div>"
      ],
      "text/plain": [
       "                     0         1         2\n",
       "first second                              \n",
       "bar   one     0.471328 -0.723772  0.823373\n",
       "baz   one    -0.077691 -0.226932 -1.350944\n",
       "foo   one     0.457253  1.053118  0.466596\n",
       "qux   one     2.267638 -0.248990  1.220212"
      ]
     },
     "execution_count": 8,
     "metadata": {},
     "output_type": "execute_result"
    }
   ],
   "source": [
    "df.loc[(slice(None),'one'),:]"
   ]
  },
  {
   "cell_type": "code",
   "execution_count": 10,
   "metadata": {},
   "outputs": [
    {
     "data": {
      "text/html": [
       "<div>\n",
       "<style scoped>\n",
       "    .dataframe tbody tr th:only-of-type {\n",
       "        vertical-align: middle;\n",
       "    }\n",
       "\n",
       "    .dataframe tbody tr th {\n",
       "        vertical-align: top;\n",
       "    }\n",
       "\n",
       "    .dataframe thead tr th {\n",
       "        text-align: left;\n",
       "    }\n",
       "</style>\n",
       "<table border=\"1\" class=\"dataframe\">\n",
       "  <thead>\n",
       "    <tr>\n",
       "      <th>first</th>\n",
       "      <th>bar</th>\n",
       "      <th>baz</th>\n",
       "      <th>foo</th>\n",
       "      <th>qux</th>\n",
       "    </tr>\n",
       "    <tr>\n",
       "      <th>second</th>\n",
       "      <th>one</th>\n",
       "      <th>one</th>\n",
       "      <th>one</th>\n",
       "      <th>one</th>\n",
       "    </tr>\n",
       "  </thead>\n",
       "  <tbody>\n",
       "    <tr>\n",
       "      <th>0</th>\n",
       "      <td>0.471328</td>\n",
       "      <td>-0.077691</td>\n",
       "      <td>0.457253</td>\n",
       "      <td>2.267638</td>\n",
       "    </tr>\n",
       "    <tr>\n",
       "      <th>1</th>\n",
       "      <td>-0.723772</td>\n",
       "      <td>-0.226932</td>\n",
       "      <td>1.053118</td>\n",
       "      <td>-0.248990</td>\n",
       "    </tr>\n",
       "    <tr>\n",
       "      <th>2</th>\n",
       "      <td>0.823373</td>\n",
       "      <td>-1.350944</td>\n",
       "      <td>0.466596</td>\n",
       "      <td>1.220212</td>\n",
       "    </tr>\n",
       "  </tbody>\n",
       "</table>\n",
       "</div>"
      ],
      "text/plain": [
       "first        bar       baz       foo       qux\n",
       "second       one       one       one       one\n",
       "0       0.471328 -0.077691  0.457253  2.267638\n",
       "1      -0.723772 -0.226932  1.053118 -0.248990\n",
       "2       0.823373 -1.350944  0.466596  1.220212"
      ]
     },
     "execution_count": 10,
     "metadata": {},
     "output_type": "execute_result"
    }
   ],
   "source": [
    "df.loc[:,(slice(None),'one')]"
   ]
  },
  {
   "cell_type": "code",
   "execution_count": 12,
   "metadata": {},
   "outputs": [
    {
     "data": {
      "text/plain": [
       "0    0.471328\n",
       "1   -0.723772\n",
       "2    0.823373\n",
       "Name: (bar, one), dtype: float64"
      ]
     },
     "execution_count": 12,
     "metadata": {},
     "output_type": "execute_result"
    }
   ],
   "source": [
    "df.loc[:,('bar','one')]"
   ]
  },
  {
   "cell_type": "markdown",
   "metadata": {},
   "source": [
    "---\n",
    "\n",
    "Uso do parâmetro **Axis**"
   ]
  },
  {
   "cell_type": "code",
   "execution_count": 9,
   "metadata": {},
   "outputs": [
    {
     "data": {
      "text/html": [
       "<div>\n",
       "<style scoped>\n",
       "    .dataframe tbody tr th:only-of-type {\n",
       "        vertical-align: middle;\n",
       "    }\n",
       "\n",
       "    .dataframe tbody tr th {\n",
       "        vertical-align: top;\n",
       "    }\n",
       "\n",
       "    .dataframe thead th {\n",
       "        text-align: right;\n",
       "    }\n",
       "</style>\n",
       "<table border=\"1\" class=\"dataframe\">\n",
       "  <thead>\n",
       "    <tr style=\"text-align: right;\">\n",
       "      <th>first</th>\n",
       "      <th>bar</th>\n",
       "      <th>baz</th>\n",
       "      <th>foo</th>\n",
       "      <th>qux</th>\n",
       "    </tr>\n",
       "  </thead>\n",
       "  <tbody>\n",
       "    <tr>\n",
       "      <th>0</th>\n",
       "      <td>0.471328</td>\n",
       "      <td>-0.077691</td>\n",
       "      <td>0.457253</td>\n",
       "      <td>2.267638</td>\n",
       "    </tr>\n",
       "    <tr>\n",
       "      <th>1</th>\n",
       "      <td>-0.723772</td>\n",
       "      <td>-0.226932</td>\n",
       "      <td>1.053118</td>\n",
       "      <td>-0.248990</td>\n",
       "    </tr>\n",
       "    <tr>\n",
       "      <th>2</th>\n",
       "      <td>0.823373</td>\n",
       "      <td>-1.350944</td>\n",
       "      <td>0.466596</td>\n",
       "      <td>1.220212</td>\n",
       "    </tr>\n",
       "  </tbody>\n",
       "</table>\n",
       "</div>"
      ],
      "text/plain": [
       "first       bar       baz       foo       qux\n",
       "0      0.471328 -0.077691  0.457253  2.267638\n",
       "1     -0.723772 -0.226932  1.053118 -0.248990\n",
       "2      0.823373 -1.350944  0.466596  1.220212"
      ]
     },
     "execution_count": 9,
     "metadata": {},
     "output_type": "execute_result"
    }
   ],
   "source": [
    "df = df.T\n",
    "df.xs('one', level='second', axis=1)"
   ]
  },
  {
   "cell_type": "code",
   "execution_count": 11,
   "metadata": {},
   "outputs": [
    {
     "data": {
      "text/html": [
       "<div>\n",
       "<style scoped>\n",
       "    .dataframe tbody tr th:only-of-type {\n",
       "        vertical-align: middle;\n",
       "    }\n",
       "\n",
       "    .dataframe tbody tr th {\n",
       "        vertical-align: top;\n",
       "    }\n",
       "\n",
       "    .dataframe thead tr th {\n",
       "        text-align: left;\n",
       "    }\n",
       "</style>\n",
       "<table border=\"1\" class=\"dataframe\">\n",
       "  <thead>\n",
       "    <tr>\n",
       "      <th>first</th>\n",
       "      <th>bar</th>\n",
       "    </tr>\n",
       "    <tr>\n",
       "      <th>second</th>\n",
       "      <th>one</th>\n",
       "    </tr>\n",
       "  </thead>\n",
       "  <tbody>\n",
       "    <tr>\n",
       "      <th>0</th>\n",
       "      <td>0.471328</td>\n",
       "    </tr>\n",
       "    <tr>\n",
       "      <th>1</th>\n",
       "      <td>-0.723772</td>\n",
       "    </tr>\n",
       "    <tr>\n",
       "      <th>2</th>\n",
       "      <td>0.823373</td>\n",
       "    </tr>\n",
       "  </tbody>\n",
       "</table>\n",
       "</div>"
      ],
      "text/plain": [
       "first        bar\n",
       "second       one\n",
       "0       0.471328\n",
       "1      -0.723772\n",
       "2       0.823373"
      ]
     },
     "execution_count": 11,
     "metadata": {},
     "output_type": "execute_result"
    }
   ],
   "source": [
    "df.xs(('one', 'bar'), level=('second', 'first'), axis=1)"
   ]
  },
  {
   "cell_type": "markdown",
   "metadata": {},
   "source": [
    "---\n",
    "O método **Drop Level**, para reter o nível selecionado"
   ]
  },
  {
   "cell_type": "code",
   "execution_count": 13,
   "metadata": {},
   "outputs": [
    {
     "data": {
      "text/html": [
       "<div>\n",
       "<style scoped>\n",
       "    .dataframe tbody tr th:only-of-type {\n",
       "        vertical-align: middle;\n",
       "    }\n",
       "\n",
       "    .dataframe tbody tr th {\n",
       "        vertical-align: top;\n",
       "    }\n",
       "\n",
       "    .dataframe thead tr th {\n",
       "        text-align: left;\n",
       "    }\n",
       "</style>\n",
       "<table border=\"1\" class=\"dataframe\">\n",
       "  <thead>\n",
       "    <tr>\n",
       "      <th>first</th>\n",
       "      <th>bar</th>\n",
       "      <th>baz</th>\n",
       "      <th>foo</th>\n",
       "      <th>qux</th>\n",
       "    </tr>\n",
       "    <tr>\n",
       "      <th>second</th>\n",
       "      <th>one</th>\n",
       "      <th>one</th>\n",
       "      <th>one</th>\n",
       "      <th>one</th>\n",
       "    </tr>\n",
       "  </thead>\n",
       "  <tbody>\n",
       "    <tr>\n",
       "      <th>0</th>\n",
       "      <td>0.471328</td>\n",
       "      <td>-0.077691</td>\n",
       "      <td>0.457253</td>\n",
       "      <td>2.267638</td>\n",
       "    </tr>\n",
       "    <tr>\n",
       "      <th>1</th>\n",
       "      <td>-0.723772</td>\n",
       "      <td>-0.226932</td>\n",
       "      <td>1.053118</td>\n",
       "      <td>-0.248990</td>\n",
       "    </tr>\n",
       "    <tr>\n",
       "      <th>2</th>\n",
       "      <td>0.823373</td>\n",
       "      <td>-1.350944</td>\n",
       "      <td>0.466596</td>\n",
       "      <td>1.220212</td>\n",
       "    </tr>\n",
       "  </tbody>\n",
       "</table>\n",
       "</div>"
      ],
      "text/plain": [
       "first        bar       baz       foo       qux\n",
       "second       one       one       one       one\n",
       "0       0.471328 -0.077691  0.457253  2.267638\n",
       "1      -0.723772 -0.226932  1.053118 -0.248990\n",
       "2       0.823373 -1.350944  0.466596  1.220212"
      ]
     },
     "execution_count": 13,
     "metadata": {},
     "output_type": "execute_result"
    }
   ],
   "source": [
    "df.xs('one', level='second', axis=1, drop_level=False)"
   ]
  },
  {
   "cell_type": "code",
   "execution_count": 14,
   "metadata": {},
   "outputs": [
    {
     "data": {
      "text/html": [
       "<div>\n",
       "<style scoped>\n",
       "    .dataframe tbody tr th:only-of-type {\n",
       "        vertical-align: middle;\n",
       "    }\n",
       "\n",
       "    .dataframe tbody tr th {\n",
       "        vertical-align: top;\n",
       "    }\n",
       "\n",
       "    .dataframe thead th {\n",
       "        text-align: right;\n",
       "    }\n",
       "</style>\n",
       "<table border=\"1\" class=\"dataframe\">\n",
       "  <thead>\n",
       "    <tr style=\"text-align: right;\">\n",
       "      <th>first</th>\n",
       "      <th>bar</th>\n",
       "      <th>baz</th>\n",
       "      <th>foo</th>\n",
       "      <th>qux</th>\n",
       "    </tr>\n",
       "  </thead>\n",
       "  <tbody>\n",
       "    <tr>\n",
       "      <th>0</th>\n",
       "      <td>0.471328</td>\n",
       "      <td>-0.077691</td>\n",
       "      <td>0.457253</td>\n",
       "      <td>2.267638</td>\n",
       "    </tr>\n",
       "    <tr>\n",
       "      <th>1</th>\n",
       "      <td>-0.723772</td>\n",
       "      <td>-0.226932</td>\n",
       "      <td>1.053118</td>\n",
       "      <td>-0.248990</td>\n",
       "    </tr>\n",
       "    <tr>\n",
       "      <th>2</th>\n",
       "      <td>0.823373</td>\n",
       "      <td>-1.350944</td>\n",
       "      <td>0.466596</td>\n",
       "      <td>1.220212</td>\n",
       "    </tr>\n",
       "  </tbody>\n",
       "</table>\n",
       "</div>"
      ],
      "text/plain": [
       "first       bar       baz       foo       qux\n",
       "0      0.471328 -0.077691  0.457253  2.267638\n",
       "1     -0.723772 -0.226932  1.053118 -0.248990\n",
       "2      0.823373 -1.350944  0.466596  1.220212"
      ]
     },
     "execution_count": 14,
     "metadata": {},
     "output_type": "execute_result"
    }
   ],
   "source": [
    "df.xs('one', level='second', axis=1, drop_level=True)"
   ]
  },
  {
   "cell_type": "markdown",
   "metadata": {},
   "source": [
    "### Reindexação e alinhamento avançados\n",
    "\n",
    "---\n",
    "\n",
    "Uso do argumento **level**, as operações são feitas nos valores através de um nível\n",
    "\n",
    "Muitas vezes queremos nossos dataframes **alinhados**, ou seja, com a mesma estrutura de índice. Isso facilita diversas funções, como **Merge**. São essas operações que são feitas a seguir"
   ]
  },
  {
   "cell_type": "code",
   "execution_count": 49,
   "metadata": {},
   "outputs": [
    {
     "data": {
      "text/html": [
       "<div>\n",
       "<style scoped>\n",
       "    .dataframe tbody tr th:only-of-type {\n",
       "        vertical-align: middle;\n",
       "    }\n",
       "\n",
       "    .dataframe tbody tr th {\n",
       "        vertical-align: top;\n",
       "    }\n",
       "\n",
       "    .dataframe thead th {\n",
       "        text-align: right;\n",
       "    }\n",
       "</style>\n",
       "<table border=\"1\" class=\"dataframe\">\n",
       "  <thead>\n",
       "    <tr style=\"text-align: right;\">\n",
       "      <th></th>\n",
       "      <th></th>\n",
       "      <th>0</th>\n",
       "      <th>1</th>\n",
       "    </tr>\n",
       "  </thead>\n",
       "  <tbody>\n",
       "    <tr>\n",
       "      <th rowspan=\"2\" valign=\"top\">one</th>\n",
       "      <th>y</th>\n",
       "      <td>-0.532943</td>\n",
       "      <td>-0.477411</td>\n",
       "    </tr>\n",
       "    <tr>\n",
       "      <th>x</th>\n",
       "      <td>0.208747</td>\n",
       "      <td>-0.713661</td>\n",
       "    </tr>\n",
       "    <tr>\n",
       "      <th rowspan=\"2\" valign=\"top\">zero</th>\n",
       "      <th>y</th>\n",
       "      <td>-0.854472</td>\n",
       "      <td>-1.127627</td>\n",
       "    </tr>\n",
       "    <tr>\n",
       "      <th>x</th>\n",
       "      <td>0.811990</td>\n",
       "      <td>-0.023308</td>\n",
       "    </tr>\n",
       "  </tbody>\n",
       "</table>\n",
       "</div>"
      ],
      "text/plain": [
       "               0         1\n",
       "one  y -0.532943 -0.477411\n",
       "     x  0.208747 -0.713661\n",
       "zero y -0.854472 -1.127627\n",
       "     x  0.811990 -0.023308"
      ]
     },
     "execution_count": 49,
     "metadata": {},
     "output_type": "execute_result"
    }
   ],
   "source": [
    "midx = pd.MultiIndex(levels=[['zero', 'one'], ['x','y']],\n",
    "                      labels=[[1,1,0,0],[1,0,1,0]])\n",
    "\n",
    "df = pd.DataFrame(np.random.randn(4,2), index=midx)\n",
    "df"
   ]
  },
  {
   "cell_type": "code",
   "execution_count": 50,
   "metadata": {},
   "outputs": [
    {
     "data": {
      "text/html": [
       "<div>\n",
       "<style scoped>\n",
       "    .dataframe tbody tr th:only-of-type {\n",
       "        vertical-align: middle;\n",
       "    }\n",
       "\n",
       "    .dataframe tbody tr th {\n",
       "        vertical-align: top;\n",
       "    }\n",
       "\n",
       "    .dataframe thead th {\n",
       "        text-align: right;\n",
       "    }\n",
       "</style>\n",
       "<table border=\"1\" class=\"dataframe\">\n",
       "  <thead>\n",
       "    <tr style=\"text-align: right;\">\n",
       "      <th></th>\n",
       "      <th>0</th>\n",
       "      <th>1</th>\n",
       "    </tr>\n",
       "  </thead>\n",
       "  <tbody>\n",
       "    <tr>\n",
       "      <th>one</th>\n",
       "      <td>-0.162098</td>\n",
       "      <td>-0.595536</td>\n",
       "    </tr>\n",
       "    <tr>\n",
       "      <th>zero</th>\n",
       "      <td>-0.021241</td>\n",
       "      <td>-0.575467</td>\n",
       "    </tr>\n",
       "  </tbody>\n",
       "</table>\n",
       "</div>"
      ],
      "text/plain": [
       "             0         1\n",
       "one  -0.162098 -0.595536\n",
       "zero -0.021241 -0.575467"
      ]
     },
     "execution_count": 50,
     "metadata": {},
     "output_type": "execute_result"
    }
   ],
   "source": [
    "df2 = df.mean(level=0)\n",
    "df2"
   ]
  },
  {
   "cell_type": "code",
   "execution_count": 51,
   "metadata": {},
   "outputs": [
    {
     "data": {
      "text/html": [
       "<div>\n",
       "<style scoped>\n",
       "    .dataframe tbody tr th:only-of-type {\n",
       "        vertical-align: middle;\n",
       "    }\n",
       "\n",
       "    .dataframe tbody tr th {\n",
       "        vertical-align: top;\n",
       "    }\n",
       "\n",
       "    .dataframe thead th {\n",
       "        text-align: right;\n",
       "    }\n",
       "</style>\n",
       "<table border=\"1\" class=\"dataframe\">\n",
       "  <thead>\n",
       "    <tr style=\"text-align: right;\">\n",
       "      <th></th>\n",
       "      <th></th>\n",
       "      <th>0</th>\n",
       "      <th>1</th>\n",
       "    </tr>\n",
       "  </thead>\n",
       "  <tbody>\n",
       "    <tr>\n",
       "      <th rowspan=\"2\" valign=\"top\">one</th>\n",
       "      <th>y</th>\n",
       "      <td>-0.162098</td>\n",
       "      <td>-0.595536</td>\n",
       "    </tr>\n",
       "    <tr>\n",
       "      <th>x</th>\n",
       "      <td>-0.162098</td>\n",
       "      <td>-0.595536</td>\n",
       "    </tr>\n",
       "    <tr>\n",
       "      <th rowspan=\"2\" valign=\"top\">zero</th>\n",
       "      <th>y</th>\n",
       "      <td>-0.021241</td>\n",
       "      <td>-0.575467</td>\n",
       "    </tr>\n",
       "    <tr>\n",
       "      <th>x</th>\n",
       "      <td>-0.021241</td>\n",
       "      <td>-0.575467</td>\n",
       "    </tr>\n",
       "  </tbody>\n",
       "</table>\n",
       "</div>"
      ],
      "text/plain": [
       "               0         1\n",
       "one  y -0.162098 -0.595536\n",
       "     x -0.162098 -0.595536\n",
       "zero y -0.021241 -0.575467\n",
       "     x -0.021241 -0.575467"
      ]
     },
     "execution_count": 51,
     "metadata": {},
     "output_type": "execute_result"
    }
   ],
   "source": [
    "df2.reindex(df.index, level=0)"
   ]
  },
  {
   "cell_type": "code",
   "execution_count": 52,
   "metadata": {},
   "outputs": [
    {
     "data": {
      "text/html": [
       "<div>\n",
       "<style scoped>\n",
       "    .dataframe tbody tr th:only-of-type {\n",
       "        vertical-align: middle;\n",
       "    }\n",
       "\n",
       "    .dataframe tbody tr th {\n",
       "        vertical-align: top;\n",
       "    }\n",
       "\n",
       "    .dataframe thead th {\n",
       "        text-align: right;\n",
       "    }\n",
       "</style>\n",
       "<table border=\"1\" class=\"dataframe\">\n",
       "  <thead>\n",
       "    <tr style=\"text-align: right;\">\n",
       "      <th></th>\n",
       "      <th></th>\n",
       "      <th>0</th>\n",
       "      <th>1</th>\n",
       "    </tr>\n",
       "  </thead>\n",
       "  <tbody>\n",
       "    <tr>\n",
       "      <th rowspan=\"2\" valign=\"top\">one</th>\n",
       "      <th>y</th>\n",
       "      <td>-0.532943</td>\n",
       "      <td>-0.477411</td>\n",
       "    </tr>\n",
       "    <tr>\n",
       "      <th>x</th>\n",
       "      <td>0.208747</td>\n",
       "      <td>-0.713661</td>\n",
       "    </tr>\n",
       "    <tr>\n",
       "      <th rowspan=\"2\" valign=\"top\">zero</th>\n",
       "      <th>y</th>\n",
       "      <td>-0.854472</td>\n",
       "      <td>-1.127627</td>\n",
       "    </tr>\n",
       "    <tr>\n",
       "      <th>x</th>\n",
       "      <td>0.811990</td>\n",
       "      <td>-0.023308</td>\n",
       "    </tr>\n",
       "  </tbody>\n",
       "</table>\n",
       "</div>"
      ],
      "text/plain": [
       "               0         1\n",
       "one  y -0.532943 -0.477411\n",
       "     x  0.208747 -0.713661\n",
       "zero y -0.854472 -1.127627\n",
       "     x  0.811990 -0.023308"
      ]
     },
     "execution_count": 52,
     "metadata": {},
     "output_type": "execute_result"
    }
   ],
   "source": [
    "df_aligned, df2_aligned = df.align(df2, level=0)\n",
    "df_aligned"
   ]
  },
  {
   "cell_type": "code",
   "execution_count": 53,
   "metadata": {},
   "outputs": [
    {
     "data": {
      "text/html": [
       "<div>\n",
       "<style scoped>\n",
       "    .dataframe tbody tr th:only-of-type {\n",
       "        vertical-align: middle;\n",
       "    }\n",
       "\n",
       "    .dataframe tbody tr th {\n",
       "        vertical-align: top;\n",
       "    }\n",
       "\n",
       "    .dataframe thead th {\n",
       "        text-align: right;\n",
       "    }\n",
       "</style>\n",
       "<table border=\"1\" class=\"dataframe\">\n",
       "  <thead>\n",
       "    <tr style=\"text-align: right;\">\n",
       "      <th></th>\n",
       "      <th></th>\n",
       "      <th>0</th>\n",
       "      <th>1</th>\n",
       "    </tr>\n",
       "  </thead>\n",
       "  <tbody>\n",
       "    <tr>\n",
       "      <th rowspan=\"2\" valign=\"top\">one</th>\n",
       "      <th>y</th>\n",
       "      <td>-0.162098</td>\n",
       "      <td>-0.595536</td>\n",
       "    </tr>\n",
       "    <tr>\n",
       "      <th>x</th>\n",
       "      <td>-0.162098</td>\n",
       "      <td>-0.595536</td>\n",
       "    </tr>\n",
       "    <tr>\n",
       "      <th rowspan=\"2\" valign=\"top\">zero</th>\n",
       "      <th>y</th>\n",
       "      <td>-0.021241</td>\n",
       "      <td>-0.575467</td>\n",
       "    </tr>\n",
       "    <tr>\n",
       "      <th>x</th>\n",
       "      <td>-0.021241</td>\n",
       "      <td>-0.575467</td>\n",
       "    </tr>\n",
       "  </tbody>\n",
       "</table>\n",
       "</div>"
      ],
      "text/plain": [
       "               0         1\n",
       "one  y -0.162098 -0.595536\n",
       "     x -0.162098 -0.595536\n",
       "zero y -0.021241 -0.575467\n",
       "     x -0.021241 -0.575467"
      ]
     },
     "execution_count": 53,
     "metadata": {},
     "output_type": "execute_result"
    }
   ],
   "source": [
    "df2_aligned"
   ]
  },
  {
   "cell_type": "markdown",
   "metadata": {},
   "source": [
    "#### Comutando níveis com o método .swaplevel()\n",
    "\n",
    "---\n",
    "\n",
    "Você pode trocar a ordem de dois níveis"
   ]
  },
  {
   "cell_type": "code",
   "execution_count": 56,
   "metadata": {},
   "outputs": [
    {
     "data": {
      "text/html": [
       "<div>\n",
       "<style scoped>\n",
       "    .dataframe tbody tr th:only-of-type {\n",
       "        vertical-align: middle;\n",
       "    }\n",
       "\n",
       "    .dataframe tbody tr th {\n",
       "        vertical-align: top;\n",
       "    }\n",
       "\n",
       "    .dataframe thead th {\n",
       "        text-align: right;\n",
       "    }\n",
       "</style>\n",
       "<table border=\"1\" class=\"dataframe\">\n",
       "  <thead>\n",
       "    <tr style=\"text-align: right;\">\n",
       "      <th></th>\n",
       "      <th></th>\n",
       "      <th>0</th>\n",
       "      <th>1</th>\n",
       "    </tr>\n",
       "  </thead>\n",
       "  <tbody>\n",
       "    <tr>\n",
       "      <th rowspan=\"2\" valign=\"top\">one</th>\n",
       "      <th>y</th>\n",
       "      <td>-0.532943</td>\n",
       "      <td>-0.477411</td>\n",
       "    </tr>\n",
       "    <tr>\n",
       "      <th>x</th>\n",
       "      <td>0.208747</td>\n",
       "      <td>-0.713661</td>\n",
       "    </tr>\n",
       "    <tr>\n",
       "      <th rowspan=\"2\" valign=\"top\">zero</th>\n",
       "      <th>y</th>\n",
       "      <td>-0.854472</td>\n",
       "      <td>-1.127627</td>\n",
       "    </tr>\n",
       "    <tr>\n",
       "      <th>x</th>\n",
       "      <td>0.811990</td>\n",
       "      <td>-0.023308</td>\n",
       "    </tr>\n",
       "  </tbody>\n",
       "</table>\n",
       "</div>"
      ],
      "text/plain": [
       "               0         1\n",
       "one  y -0.532943 -0.477411\n",
       "     x  0.208747 -0.713661\n",
       "zero y -0.854472 -1.127627\n",
       "     x  0.811990 -0.023308"
      ]
     },
     "execution_count": 56,
     "metadata": {},
     "output_type": "execute_result"
    }
   ],
   "source": [
    "df[:5]"
   ]
  },
  {
   "cell_type": "code",
   "execution_count": 57,
   "metadata": {},
   "outputs": [
    {
     "data": {
      "text/html": [
       "<div>\n",
       "<style scoped>\n",
       "    .dataframe tbody tr th:only-of-type {\n",
       "        vertical-align: middle;\n",
       "    }\n",
       "\n",
       "    .dataframe tbody tr th {\n",
       "        vertical-align: top;\n",
       "    }\n",
       "\n",
       "    .dataframe thead th {\n",
       "        text-align: right;\n",
       "    }\n",
       "</style>\n",
       "<table border=\"1\" class=\"dataframe\">\n",
       "  <thead>\n",
       "    <tr style=\"text-align: right;\">\n",
       "      <th></th>\n",
       "      <th></th>\n",
       "      <th>0</th>\n",
       "      <th>1</th>\n",
       "    </tr>\n",
       "  </thead>\n",
       "  <tbody>\n",
       "    <tr>\n",
       "      <th>y</th>\n",
       "      <th>one</th>\n",
       "      <td>-0.532943</td>\n",
       "      <td>-0.477411</td>\n",
       "    </tr>\n",
       "    <tr>\n",
       "      <th>x</th>\n",
       "      <th>one</th>\n",
       "      <td>0.208747</td>\n",
       "      <td>-0.713661</td>\n",
       "    </tr>\n",
       "    <tr>\n",
       "      <th>y</th>\n",
       "      <th>zero</th>\n",
       "      <td>-0.854472</td>\n",
       "      <td>-1.127627</td>\n",
       "    </tr>\n",
       "    <tr>\n",
       "      <th>x</th>\n",
       "      <th>zero</th>\n",
       "      <td>0.811990</td>\n",
       "      <td>-0.023308</td>\n",
       "    </tr>\n",
       "  </tbody>\n",
       "</table>\n",
       "</div>"
      ],
      "text/plain": [
       "               0         1\n",
       "y one  -0.532943 -0.477411\n",
       "x one   0.208747 -0.713661\n",
       "y zero -0.854472 -1.127627\n",
       "x zero  0.811990 -0.023308"
      ]
     },
     "execution_count": 57,
     "metadata": {},
     "output_type": "execute_result"
    }
   ],
   "source": [
    "df[:5].swaplevel(0, 1, axis=0)"
   ]
  },
  {
   "cell_type": "markdown",
   "metadata": {},
   "source": [
    "#### Reordenando níveis com o método .reorder_levels()\n",
    "\n",
    "---\n",
    "\n",
    "É uma generalização de **Swap Level** e permite muito mais coisas"
   ]
  },
  {
   "cell_type": "code",
   "execution_count": 58,
   "metadata": {},
   "outputs": [
    {
     "data": {
      "text/html": [
       "<div>\n",
       "<style scoped>\n",
       "    .dataframe tbody tr th:only-of-type {\n",
       "        vertical-align: middle;\n",
       "    }\n",
       "\n",
       "    .dataframe tbody tr th {\n",
       "        vertical-align: top;\n",
       "    }\n",
       "\n",
       "    .dataframe thead th {\n",
       "        text-align: right;\n",
       "    }\n",
       "</style>\n",
       "<table border=\"1\" class=\"dataframe\">\n",
       "  <thead>\n",
       "    <tr style=\"text-align: right;\">\n",
       "      <th></th>\n",
       "      <th></th>\n",
       "      <th>0</th>\n",
       "      <th>1</th>\n",
       "    </tr>\n",
       "  </thead>\n",
       "  <tbody>\n",
       "    <tr>\n",
       "      <th>y</th>\n",
       "      <th>one</th>\n",
       "      <td>-0.532943</td>\n",
       "      <td>-0.477411</td>\n",
       "    </tr>\n",
       "    <tr>\n",
       "      <th>x</th>\n",
       "      <th>one</th>\n",
       "      <td>0.208747</td>\n",
       "      <td>-0.713661</td>\n",
       "    </tr>\n",
       "    <tr>\n",
       "      <th>y</th>\n",
       "      <th>zero</th>\n",
       "      <td>-0.854472</td>\n",
       "      <td>-1.127627</td>\n",
       "    </tr>\n",
       "    <tr>\n",
       "      <th>x</th>\n",
       "      <th>zero</th>\n",
       "      <td>0.811990</td>\n",
       "      <td>-0.023308</td>\n",
       "    </tr>\n",
       "  </tbody>\n",
       "</table>\n",
       "</div>"
      ],
      "text/plain": [
       "               0         1\n",
       "y one  -0.532943 -0.477411\n",
       "x one   0.208747 -0.713661\n",
       "y zero -0.854472 -1.127627\n",
       "x zero  0.811990 -0.023308"
      ]
     },
     "execution_count": 58,
     "metadata": {},
     "output_type": "execute_result"
    }
   ],
   "source": [
    "df[:5].reorder_levels([1,0], axis=0)"
   ]
  },
  {
   "cell_type": "markdown",
   "metadata": {},
   "source": [
    "### Ordenando um Multiíndice\n",
    "\n",
    "---\n",
    "\n",
    "Imagine um dataframe proveniente de fatiamento ou junção e que precise ser organizado"
   ]
  },
  {
   "cell_type": "code",
   "execution_count": 68,
   "metadata": {},
   "outputs": [
    {
     "data": {
      "text/plain": [
       "bar  two    0.044655\n",
       "     one   -0.656834\n",
       "qux  two   -0.328656\n",
       "foo  two   -0.133102\n",
       "baz  two    0.205852\n",
       "foo  one   -1.311489\n",
       "baz  one   -1.668766\n",
       "qux  one    1.211294\n",
       "dtype: float64"
      ]
     },
     "execution_count": 68,
     "metadata": {},
     "output_type": "execute_result"
    }
   ],
   "source": [
    "import random\n",
    "\n",
    "#Essa parte pega duas séries e a transforma em tuplas\n",
    "arrays = [['bar', 'bar', 'baz', 'baz', 'foo', 'foo', 'qux', 'qux'],\n",
    "         ['one', 'two', 'one', 'two', 'one', 'two', 'one', 'two']]\n",
    "tuples = list(zip(*arrays))\n",
    "\n",
    "random.shuffle(tuples)\n",
    "s = pd.Series(np.random.randn(8), index=pd.MultiIndex.from_tuples(tuples))\n",
    "s"
   ]
  },
  {
   "cell_type": "code",
   "execution_count": 69,
   "metadata": {},
   "outputs": [
    {
     "data": {
      "text/plain": [
       "bar  one   -0.656834\n",
       "     two    0.044655\n",
       "baz  one   -1.668766\n",
       "     two    0.205852\n",
       "foo  one   -1.311489\n",
       "     two   -0.133102\n",
       "qux  one    1.211294\n",
       "     two   -0.328656\n",
       "dtype: float64"
      ]
     },
     "execution_count": 69,
     "metadata": {},
     "output_type": "execute_result"
    }
   ],
   "source": [
    "s.sort_index()"
   ]
  },
  {
   "cell_type": "code",
   "execution_count": 70,
   "metadata": {},
   "outputs": [
    {
     "data": {
      "text/plain": [
       "bar  one   -0.656834\n",
       "     two    0.044655\n",
       "baz  one   -1.668766\n",
       "     two    0.205852\n",
       "foo  one   -1.311489\n",
       "     two   -0.133102\n",
       "qux  one    1.211294\n",
       "     two   -0.328656\n",
       "dtype: float64"
      ]
     },
     "execution_count": 70,
     "metadata": {},
     "output_type": "execute_result"
    }
   ],
   "source": [
    "s.sort_index(level=0)"
   ]
  },
  {
   "cell_type": "code",
   "execution_count": 71,
   "metadata": {},
   "outputs": [
    {
     "data": {
      "text/plain": [
       "bar  one   -0.656834\n",
       "baz  one   -1.668766\n",
       "foo  one   -1.311489\n",
       "qux  one    1.211294\n",
       "bar  two    0.044655\n",
       "baz  two    0.205852\n",
       "foo  two   -0.133102\n",
       "qux  two   -0.328656\n",
       "dtype: float64"
      ]
     },
     "execution_count": 71,
     "metadata": {},
     "output_type": "execute_result"
    }
   ],
   "source": [
    "s.sort_index(level=1)"
   ]
  },
  {
   "cell_type": "markdown",
   "metadata": {},
   "source": [
    "---\n",
    "Variante, atribuindo novos nomes"
   ]
  },
  {
   "cell_type": "code",
   "execution_count": 73,
   "metadata": {},
   "outputs": [
    {
     "data": {
      "text/plain": [
       "L1   L2 \n",
       "bar  one   -0.656834\n",
       "     two    0.044655\n",
       "baz  one   -1.668766\n",
       "     two    0.205852\n",
       "foo  one   -1.311489\n",
       "     two   -0.133102\n",
       "qux  one    1.211294\n",
       "     two   -0.328656\n",
       "dtype: float64"
      ]
     },
     "execution_count": 73,
     "metadata": {},
     "output_type": "execute_result"
    }
   ],
   "source": [
    "s.index.set_names(['L1', 'L2'], inplace=True)\n",
    "s.sort_index(level='L1')"
   ]
  },
  {
   "cell_type": "code",
   "execution_count": 74,
   "metadata": {},
   "outputs": [
    {
     "data": {
      "text/plain": [
       "L1   L2 \n",
       "bar  one   -0.656834\n",
       "baz  one   -1.668766\n",
       "foo  one   -1.311489\n",
       "qux  one    1.211294\n",
       "bar  two    0.044655\n",
       "baz  two    0.205852\n",
       "foo  two   -0.133102\n",
       "qux  two   -0.328656\n",
       "dtype: float64"
      ]
     },
     "execution_count": 74,
     "metadata": {},
     "output_type": "execute_result"
    }
   ],
   "source": [
    "s.sort_index(level='L2')"
   ]
  },
  {
   "cell_type": "markdown",
   "metadata": {},
   "source": [
    "---\n",
    "\n",
    "Se eles tiverem um **Multiíndice**, em vários níveis ou eixos"
   ]
  },
  {
   "cell_type": "code",
   "execution_count": 76,
   "metadata": {},
   "outputs": [
    {
     "data": {
      "text/html": [
       "<div>\n",
       "<style scoped>\n",
       "    .dataframe tbody tr th:only-of-type {\n",
       "        vertical-align: middle;\n",
       "    }\n",
       "\n",
       "    .dataframe tbody tr th {\n",
       "        vertical-align: top;\n",
       "    }\n",
       "\n",
       "    .dataframe thead tr th {\n",
       "        text-align: left;\n",
       "    }\n",
       "</style>\n",
       "<table border=\"1\" class=\"dataframe\">\n",
       "  <thead>\n",
       "    <tr>\n",
       "      <th></th>\n",
       "      <th>one</th>\n",
       "      <th>zero</th>\n",
       "      <th>one</th>\n",
       "      <th>zero</th>\n",
       "    </tr>\n",
       "    <tr>\n",
       "      <th></th>\n",
       "      <th>x</th>\n",
       "      <th>x</th>\n",
       "      <th>y</th>\n",
       "      <th>y</th>\n",
       "    </tr>\n",
       "  </thead>\n",
       "  <tbody>\n",
       "    <tr>\n",
       "      <th>0</th>\n",
       "      <td>0.208747</td>\n",
       "      <td>0.811990</td>\n",
       "      <td>-0.532943</td>\n",
       "      <td>-0.854472</td>\n",
       "    </tr>\n",
       "    <tr>\n",
       "      <th>1</th>\n",
       "      <td>-0.713661</td>\n",
       "      <td>-0.023308</td>\n",
       "      <td>-0.477411</td>\n",
       "      <td>-1.127627</td>\n",
       "    </tr>\n",
       "  </tbody>\n",
       "</table>\n",
       "</div>"
      ],
      "text/plain": [
       "        one      zero       one      zero\n",
       "          x         x         y         y\n",
       "0  0.208747  0.811990 -0.532943 -0.854472\n",
       "1 -0.713661 -0.023308 -0.477411 -1.127627"
      ]
     },
     "execution_count": 76,
     "metadata": {},
     "output_type": "execute_result"
    }
   ],
   "source": [
    "df.T.sort_index(level=1, axis=1)"
   ]
  },
  {
   "cell_type": "markdown",
   "metadata": {},
   "source": [
    "---\n",
    "\n",
    "Atente a possíveis erros em reindexação. Às vezes a operação é tão lenta que o que é retornado é um dataframe novo e não uma **view**"
   ]
  },
  {
   "cell_type": "code",
   "execution_count": 77,
   "metadata": {},
   "outputs": [
    {
     "data": {
      "text/html": [
       "<div>\n",
       "<style scoped>\n",
       "    .dataframe tbody tr th:only-of-type {\n",
       "        vertical-align: middle;\n",
       "    }\n",
       "\n",
       "    .dataframe tbody tr th {\n",
       "        vertical-align: top;\n",
       "    }\n",
       "\n",
       "    .dataframe thead th {\n",
       "        text-align: right;\n",
       "    }\n",
       "</style>\n",
       "<table border=\"1\" class=\"dataframe\">\n",
       "  <thead>\n",
       "    <tr style=\"text-align: right;\">\n",
       "      <th></th>\n",
       "      <th></th>\n",
       "      <th>jolie</th>\n",
       "    </tr>\n",
       "    <tr>\n",
       "      <th>jim</th>\n",
       "      <th>joe</th>\n",
       "      <th></th>\n",
       "    </tr>\n",
       "  </thead>\n",
       "  <tbody>\n",
       "    <tr>\n",
       "      <th rowspan=\"2\" valign=\"top\">0</th>\n",
       "      <th>x</th>\n",
       "      <td>0.380293</td>\n",
       "    </tr>\n",
       "    <tr>\n",
       "      <th>x</th>\n",
       "      <td>0.892274</td>\n",
       "    </tr>\n",
       "    <tr>\n",
       "      <th rowspan=\"2\" valign=\"top\">1</th>\n",
       "      <th>z</th>\n",
       "      <td>0.580314</td>\n",
       "    </tr>\n",
       "    <tr>\n",
       "      <th>y</th>\n",
       "      <td>0.997010</td>\n",
       "    </tr>\n",
       "  </tbody>\n",
       "</table>\n",
       "</div>"
      ],
      "text/plain": [
       "            jolie\n",
       "jim joe          \n",
       "0   x    0.380293\n",
       "    x    0.892274\n",
       "1   z    0.580314\n",
       "    y    0.997010"
      ]
     },
     "execution_count": 77,
     "metadata": {},
     "output_type": "execute_result"
    }
   ],
   "source": [
    "dfm = pd.DataFrame({'jim': [0, 0, 1, 1],\n",
    "                     'joe': ['x', 'x', 'z', 'y'],\n",
    "                     'jolie': np.random.rand(4)}) \n",
    "\n",
    "dfm = dfm.set_index(['jim', 'joe'])\n",
    "dfm"
   ]
  },
  {
   "cell_type": "markdown",
   "metadata": {},
   "source": [
    "---\n",
    "\n",
    "E atente a erros de **Lexsort**"
   ]
  },
  {
   "cell_type": "code",
   "execution_count": null,
   "metadata": {},
   "outputs": [],
   "source": [
    "dfm.loc[(1, 'z')]"
   ]
  },
  {
   "cell_type": "code",
   "execution_count": null,
   "metadata": {},
   "outputs": [],
   "source": [
    "dfm.loc[(0,'y'):(1, 'z')]"
   ]
  },
  {
   "cell_type": "markdown",
   "metadata": {},
   "source": [
    "Então faça **Try** antes de cair mantando na operação"
   ]
  },
  {
   "cell_type": "code",
   "execution_count": 81,
   "metadata": {},
   "outputs": [
    {
     "data": {
      "text/plain": [
       "False"
      ]
     },
     "execution_count": 81,
     "metadata": {},
     "output_type": "execute_result"
    }
   ],
   "source": [
    "dfm.index.is_lexsorted()"
   ]
  },
  {
   "cell_type": "code",
   "execution_count": 80,
   "metadata": {},
   "outputs": [
    {
     "data": {
      "text/plain": [
       "1"
      ]
     },
     "execution_count": 80,
     "metadata": {},
     "output_type": "execute_result"
    }
   ],
   "source": [
    "dfm.index.lexsort_depth"
   ]
  },
  {
   "cell_type": "code",
   "execution_count": 82,
   "metadata": {},
   "outputs": [
    {
     "data": {
      "text/html": [
       "<div>\n",
       "<style scoped>\n",
       "    .dataframe tbody tr th:only-of-type {\n",
       "        vertical-align: middle;\n",
       "    }\n",
       "\n",
       "    .dataframe tbody tr th {\n",
       "        vertical-align: top;\n",
       "    }\n",
       "\n",
       "    .dataframe thead th {\n",
       "        text-align: right;\n",
       "    }\n",
       "</style>\n",
       "<table border=\"1\" class=\"dataframe\">\n",
       "  <thead>\n",
       "    <tr style=\"text-align: right;\">\n",
       "      <th></th>\n",
       "      <th></th>\n",
       "      <th>jolie</th>\n",
       "    </tr>\n",
       "    <tr>\n",
       "      <th>jim</th>\n",
       "      <th>joe</th>\n",
       "      <th></th>\n",
       "    </tr>\n",
       "  </thead>\n",
       "  <tbody>\n",
       "    <tr>\n",
       "      <th rowspan=\"2\" valign=\"top\">0</th>\n",
       "      <th>x</th>\n",
       "      <td>0.380293</td>\n",
       "    </tr>\n",
       "    <tr>\n",
       "      <th>x</th>\n",
       "      <td>0.892274</td>\n",
       "    </tr>\n",
       "    <tr>\n",
       "      <th rowspan=\"2\" valign=\"top\">1</th>\n",
       "      <th>y</th>\n",
       "      <td>0.997010</td>\n",
       "    </tr>\n",
       "    <tr>\n",
       "      <th>z</th>\n",
       "      <td>0.580314</td>\n",
       "    </tr>\n",
       "  </tbody>\n",
       "</table>\n",
       "</div>"
      ],
      "text/plain": [
       "            jolie\n",
       "jim joe          \n",
       "0   x    0.380293\n",
       "    x    0.892274\n",
       "1   y    0.997010\n",
       "    z    0.580314"
      ]
     },
     "execution_count": 82,
     "metadata": {},
     "output_type": "execute_result"
    }
   ],
   "source": [
    "dfm = dfm.sort_index()\n",
    "dfm"
   ]
  },
  {
   "cell_type": "markdown",
   "metadata": {},
   "source": [
    "E **confira** se deu tudo certo"
   ]
  },
  {
   "cell_type": "code",
   "execution_count": 83,
   "metadata": {},
   "outputs": [
    {
     "data": {
      "text/plain": [
       "True"
      ]
     },
     "execution_count": 83,
     "metadata": {},
     "output_type": "execute_result"
    }
   ],
   "source": [
    "dfm.index.is_lexsorted()"
   ]
  },
  {
   "cell_type": "code",
   "execution_count": 84,
   "metadata": {},
   "outputs": [
    {
     "data": {
      "text/plain": [
       "2"
      ]
     },
     "execution_count": 84,
     "metadata": {},
     "output_type": "execute_result"
    }
   ],
   "source": [
    "dfm.index.lexsort_depth"
   ]
  },
  {
   "cell_type": "markdown",
   "metadata": {},
   "source": [
    "*Observação: código **bem feito** não é aquele escrito da maneira mais condensada possível e curto. É aquele que apresenta **eficiência**, **testabilidade**, que é **estável** e **bem documentado**. Então quando estiver codificando, crie sempre pontos de teste nas suas funções. E nunca acredite que os seus arquivos de teste resolvem todos os problemas. Às vezes está tudo OK no **caminho feliz** mas se por exemplo, o seu usuário submeteu um .csv cheio de defeitos, os seus problemas estarão apenas começando!*\n",
    "\n",
    "*Então antes de fazer uma função, use **Try**, se o resultado for **True**, daí sim, faça e prossiga. Teste se o seu resultado foi adequado, se não foi, informe o usuário o que aconteceu. Nem sempre as mensagens de erro do interpretador Python são muito claras. Então conte ao usuário melhor o que aconteceu e onde!*"
   ]
  },
  {
   "cell_type": "markdown",
   "metadata": {},
   "source": [
    "### Métodos Take\n",
    "\n",
    "---\n",
    "\n",
    "Funciona mais ou menos do mesmo jeito que o **Take** do Numpy, Series..."
   ]
  },
  {
   "cell_type": "code",
   "execution_count": 85,
   "metadata": {},
   "outputs": [
    {
     "data": {
      "text/plain": [
       "Int64Index([451, 31, 771, 565, 927, 827, 237, 17, 235, 845], dtype='int64')"
      ]
     },
     "execution_count": 85,
     "metadata": {},
     "output_type": "execute_result"
    }
   ],
   "source": [
    "index = pd.Index(np.random.randint(0, 1000, 10))\n",
    "index"
   ]
  },
  {
   "cell_type": "code",
   "execution_count": 86,
   "metadata": {},
   "outputs": [
    {
     "data": {
      "text/plain": [
       "Int64Index([451, 845, 565], dtype='int64')"
      ]
     },
     "execution_count": 86,
     "metadata": {},
     "output_type": "execute_result"
    }
   ],
   "source": [
    "positions = [0, 9, 3]\n",
    "index[positions]"
   ]
  },
  {
   "cell_type": "code",
   "execution_count": 87,
   "metadata": {},
   "outputs": [
    {
     "data": {
      "text/plain": [
       "Int64Index([451, 845, 565], dtype='int64')"
      ]
     },
     "execution_count": 87,
     "metadata": {},
     "output_type": "execute_result"
    }
   ],
   "source": [
    "index.take(positions)"
   ]
  },
  {
   "cell_type": "code",
   "execution_count": 88,
   "metadata": {},
   "outputs": [
    {
     "data": {
      "text/plain": [
       "0   -0.469645\n",
       "9   -0.060358\n",
       "3    0.510808\n",
       "dtype: float64"
      ]
     },
     "execution_count": 88,
     "metadata": {},
     "output_type": "execute_result"
    }
   ],
   "source": [
    "ser = pd.Series(np.random.randn(10))\n",
    "ser.iloc[positions]"
   ]
  },
  {
   "cell_type": "code",
   "execution_count": 89,
   "metadata": {},
   "outputs": [
    {
     "data": {
      "text/plain": [
       "0   -0.469645\n",
       "9   -0.060358\n",
       "3    0.510808\n",
       "dtype: float64"
      ]
     },
     "execution_count": 89,
     "metadata": {},
     "output_type": "execute_result"
    }
   ],
   "source": [
    "ser.take(positions)"
   ]
  },
  {
   "cell_type": "markdown",
   "metadata": {},
   "source": [
    "Em dataframes 2D:"
   ]
  },
  {
   "cell_type": "code",
   "execution_count": 95,
   "metadata": {},
   "outputs": [
    {
     "data": {
      "text/html": [
       "<div>\n",
       "<style scoped>\n",
       "    .dataframe tbody tr th:only-of-type {\n",
       "        vertical-align: middle;\n",
       "    }\n",
       "\n",
       "    .dataframe tbody tr th {\n",
       "        vertical-align: top;\n",
       "    }\n",
       "\n",
       "    .dataframe thead th {\n",
       "        text-align: right;\n",
       "    }\n",
       "</style>\n",
       "<table border=\"1\" class=\"dataframe\">\n",
       "  <thead>\n",
       "    <tr style=\"text-align: right;\">\n",
       "      <th></th>\n",
       "      <th>0</th>\n",
       "      <th>1</th>\n",
       "      <th>2</th>\n",
       "    </tr>\n",
       "  </thead>\n",
       "  <tbody>\n",
       "    <tr>\n",
       "      <th>0</th>\n",
       "      <td>0.961565</td>\n",
       "      <td>-0.859402</td>\n",
       "      <td>-1.286540</td>\n",
       "    </tr>\n",
       "    <tr>\n",
       "      <th>1</th>\n",
       "      <td>2.162406</td>\n",
       "      <td>0.211015</td>\n",
       "      <td>-1.642699</td>\n",
       "    </tr>\n",
       "    <tr>\n",
       "      <th>2</th>\n",
       "      <td>1.285725</td>\n",
       "      <td>0.036576</td>\n",
       "      <td>-0.304463</td>\n",
       "    </tr>\n",
       "    <tr>\n",
       "      <th>3</th>\n",
       "      <td>-0.867685</td>\n",
       "      <td>0.253792</td>\n",
       "      <td>0.717283</td>\n",
       "    </tr>\n",
       "    <tr>\n",
       "      <th>4</th>\n",
       "      <td>0.709224</td>\n",
       "      <td>1.064106</td>\n",
       "      <td>1.607295</td>\n",
       "    </tr>\n",
       "  </tbody>\n",
       "</table>\n",
       "</div>"
      ],
      "text/plain": [
       "          0         1         2\n",
       "0  0.961565 -0.859402 -1.286540\n",
       "1  2.162406  0.211015 -1.642699\n",
       "2  1.285725  0.036576 -0.304463\n",
       "3 -0.867685  0.253792  0.717283\n",
       "4  0.709224  1.064106  1.607295"
      ]
     },
     "execution_count": 95,
     "metadata": {},
     "output_type": "execute_result"
    }
   ],
   "source": [
    "frm = pd.DataFrame(np.random.randn(5, 3))\n",
    "frm"
   ]
  },
  {
   "cell_type": "code",
   "execution_count": 96,
   "metadata": {},
   "outputs": [
    {
     "data": {
      "text/html": [
       "<div>\n",
       "<style scoped>\n",
       "    .dataframe tbody tr th:only-of-type {\n",
       "        vertical-align: middle;\n",
       "    }\n",
       "\n",
       "    .dataframe tbody tr th {\n",
       "        vertical-align: top;\n",
       "    }\n",
       "\n",
       "    .dataframe thead th {\n",
       "        text-align: right;\n",
       "    }\n",
       "</style>\n",
       "<table border=\"1\" class=\"dataframe\">\n",
       "  <thead>\n",
       "    <tr style=\"text-align: right;\">\n",
       "      <th></th>\n",
       "      <th>0</th>\n",
       "      <th>1</th>\n",
       "      <th>2</th>\n",
       "    </tr>\n",
       "  </thead>\n",
       "  <tbody>\n",
       "    <tr>\n",
       "      <th>1</th>\n",
       "      <td>2.162406</td>\n",
       "      <td>0.211015</td>\n",
       "      <td>-1.642699</td>\n",
       "    </tr>\n",
       "    <tr>\n",
       "      <th>4</th>\n",
       "      <td>0.709224</td>\n",
       "      <td>1.064106</td>\n",
       "      <td>1.607295</td>\n",
       "    </tr>\n",
       "    <tr>\n",
       "      <th>3</th>\n",
       "      <td>-0.867685</td>\n",
       "      <td>0.253792</td>\n",
       "      <td>0.717283</td>\n",
       "    </tr>\n",
       "  </tbody>\n",
       "</table>\n",
       "</div>"
      ],
      "text/plain": [
       "          0         1         2\n",
       "1  2.162406  0.211015 -1.642699\n",
       "4  0.709224  1.064106  1.607295\n",
       "3 -0.867685  0.253792  0.717283"
      ]
     },
     "execution_count": 96,
     "metadata": {},
     "output_type": "execute_result"
    }
   ],
   "source": [
    "frm.take([1, 4, 3])"
   ]
  },
  {
   "cell_type": "code",
   "execution_count": 97,
   "metadata": {},
   "outputs": [
    {
     "data": {
      "text/html": [
       "<div>\n",
       "<style scoped>\n",
       "    .dataframe tbody tr th:only-of-type {\n",
       "        vertical-align: middle;\n",
       "    }\n",
       "\n",
       "    .dataframe tbody tr th {\n",
       "        vertical-align: top;\n",
       "    }\n",
       "\n",
       "    .dataframe thead th {\n",
       "        text-align: right;\n",
       "    }\n",
       "</style>\n",
       "<table border=\"1\" class=\"dataframe\">\n",
       "  <thead>\n",
       "    <tr style=\"text-align: right;\">\n",
       "      <th></th>\n",
       "      <th>0</th>\n",
       "      <th>2</th>\n",
       "    </tr>\n",
       "  </thead>\n",
       "  <tbody>\n",
       "    <tr>\n",
       "      <th>0</th>\n",
       "      <td>0.961565</td>\n",
       "      <td>-1.286540</td>\n",
       "    </tr>\n",
       "    <tr>\n",
       "      <th>1</th>\n",
       "      <td>2.162406</td>\n",
       "      <td>-1.642699</td>\n",
       "    </tr>\n",
       "    <tr>\n",
       "      <th>2</th>\n",
       "      <td>1.285725</td>\n",
       "      <td>-0.304463</td>\n",
       "    </tr>\n",
       "    <tr>\n",
       "      <th>3</th>\n",
       "      <td>-0.867685</td>\n",
       "      <td>0.717283</td>\n",
       "    </tr>\n",
       "    <tr>\n",
       "      <th>4</th>\n",
       "      <td>0.709224</td>\n",
       "      <td>1.607295</td>\n",
       "    </tr>\n",
       "  </tbody>\n",
       "</table>\n",
       "</div>"
      ],
      "text/plain": [
       "          0         2\n",
       "0  0.961565 -1.286540\n",
       "1  2.162406 -1.642699\n",
       "2  1.285725 -0.304463\n",
       "3 -0.867685  0.717283\n",
       "4  0.709224  1.607295"
      ]
     },
     "execution_count": 97,
     "metadata": {},
     "output_type": "execute_result"
    }
   ],
   "source": [
    "frm.take([0, 2], axis=1)"
   ]
  },
  {
   "cell_type": "markdown",
   "metadata": {},
   "source": [
    "Observe que isso **não foi** desenhado para índices booleanos e os resultados podem ser estranhos:"
   ]
  },
  {
   "cell_type": "code",
   "execution_count": null,
   "metadata": {},
   "outputs": [],
   "source": [
    "arr = np.random.randn(10)\n",
    "arr.take([False, False, True, True])\n",
    "arr[[0, 1]]\n",
    "ser = pd.Series(np.random.randn(10))\n",
    "ser.take([False, False, True, True])\n",
    "ser.iloc[[0, 1]]"
   ]
  },
  {
   "cell_type": "markdown",
   "metadata": {},
   "source": [
    "### Tipos de Índice\n",
    "\n",
    "---\n",
    "\n",
    "#### Índice categórico\n",
    "\n",
    "Isso é legal para suportar indexação com **duplicatas**\n",
    "\n",
    "Existe um recipiente em torno da categoria que permite a indexação e o armazenamento"
   ]
  },
  {
   "cell_type": "code",
   "execution_count": 98,
   "metadata": {},
   "outputs": [
    {
     "data": {
      "text/html": [
       "<div>\n",
       "<style scoped>\n",
       "    .dataframe tbody tr th:only-of-type {\n",
       "        vertical-align: middle;\n",
       "    }\n",
       "\n",
       "    .dataframe tbody tr th {\n",
       "        vertical-align: top;\n",
       "    }\n",
       "\n",
       "    .dataframe thead th {\n",
       "        text-align: right;\n",
       "    }\n",
       "</style>\n",
       "<table border=\"1\" class=\"dataframe\">\n",
       "  <thead>\n",
       "    <tr style=\"text-align: right;\">\n",
       "      <th></th>\n",
       "      <th>A</th>\n",
       "      <th>B</th>\n",
       "    </tr>\n",
       "  </thead>\n",
       "  <tbody>\n",
       "    <tr>\n",
       "      <th>0</th>\n",
       "      <td>0</td>\n",
       "      <td>a</td>\n",
       "    </tr>\n",
       "    <tr>\n",
       "      <th>1</th>\n",
       "      <td>1</td>\n",
       "      <td>a</td>\n",
       "    </tr>\n",
       "    <tr>\n",
       "      <th>2</th>\n",
       "      <td>2</td>\n",
       "      <td>b</td>\n",
       "    </tr>\n",
       "    <tr>\n",
       "      <th>3</th>\n",
       "      <td>3</td>\n",
       "      <td>b</td>\n",
       "    </tr>\n",
       "    <tr>\n",
       "      <th>4</th>\n",
       "      <td>4</td>\n",
       "      <td>c</td>\n",
       "    </tr>\n",
       "    <tr>\n",
       "      <th>5</th>\n",
       "      <td>5</td>\n",
       "      <td>a</td>\n",
       "    </tr>\n",
       "  </tbody>\n",
       "</table>\n",
       "</div>"
      ],
      "text/plain": [
       "   A  B\n",
       "0  0  a\n",
       "1  1  a\n",
       "2  2  b\n",
       "3  3  b\n",
       "4  4  c\n",
       "5  5  a"
      ]
     },
     "execution_count": 98,
     "metadata": {},
     "output_type": "execute_result"
    }
   ],
   "source": [
    "from pandas.api.types import CategoricalDtype\n",
    "\n",
    "df = pd.DataFrame({'A': np.arange(6),\n",
    "                   'B': list('aabbca')})\n",
    "\n",
    "df['B'] = df['B'].astype(CategoricalDtype(list('cab')))\n",
    "df"
   ]
  },
  {
   "cell_type": "code",
   "execution_count": 99,
   "metadata": {},
   "outputs": [
    {
     "data": {
      "text/plain": [
       "A       int32\n",
       "B    category\n",
       "dtype: object"
      ]
     },
     "execution_count": 99,
     "metadata": {},
     "output_type": "execute_result"
    }
   ],
   "source": [
    "df.dtypes"
   ]
  },
  {
   "cell_type": "code",
   "execution_count": 100,
   "metadata": {},
   "outputs": [
    {
     "data": {
      "text/plain": [
       "Index(['c', 'a', 'b'], dtype='object')"
      ]
     },
     "execution_count": 100,
     "metadata": {},
     "output_type": "execute_result"
    }
   ],
   "source": [
    "df.B.cat.categories"
   ]
  },
  {
   "cell_type": "markdown",
   "metadata": {},
   "source": [
    "Setando quem é o índice, você cria um **Índice Categórico**"
   ]
  },
  {
   "cell_type": "code",
   "execution_count": 101,
   "metadata": {},
   "outputs": [
    {
     "data": {
      "text/plain": [
       "CategoricalIndex(['a', 'a', 'b', 'b', 'c', 'a'], categories=['c', 'a', 'b'], ordered=False, name='B', dtype='category')"
      ]
     },
     "execution_count": 101,
     "metadata": {},
     "output_type": "execute_result"
    }
   ],
   "source": [
    "df2 = df.set_index('B')\n",
    "df2.index"
   ]
  },
  {
   "cell_type": "markdown",
   "metadata": {},
   "source": [
    "*Observe que os indexadores precisam estar contidos na **categoria** ou a coisa irá ficar estranha:*"
   ]
  },
  {
   "cell_type": "code",
   "execution_count": 102,
   "metadata": {},
   "outputs": [
    {
     "data": {
      "text/html": [
       "<div>\n",
       "<style scoped>\n",
       "    .dataframe tbody tr th:only-of-type {\n",
       "        vertical-align: middle;\n",
       "    }\n",
       "\n",
       "    .dataframe tbody tr th {\n",
       "        vertical-align: top;\n",
       "    }\n",
       "\n",
       "    .dataframe thead th {\n",
       "        text-align: right;\n",
       "    }\n",
       "</style>\n",
       "<table border=\"1\" class=\"dataframe\">\n",
       "  <thead>\n",
       "    <tr style=\"text-align: right;\">\n",
       "      <th></th>\n",
       "      <th>A</th>\n",
       "    </tr>\n",
       "    <tr>\n",
       "      <th>B</th>\n",
       "      <th></th>\n",
       "    </tr>\n",
       "  </thead>\n",
       "  <tbody>\n",
       "    <tr>\n",
       "      <th>a</th>\n",
       "      <td>0</td>\n",
       "    </tr>\n",
       "    <tr>\n",
       "      <th>a</th>\n",
       "      <td>1</td>\n",
       "    </tr>\n",
       "    <tr>\n",
       "      <th>a</th>\n",
       "      <td>5</td>\n",
       "    </tr>\n",
       "  </tbody>\n",
       "</table>\n",
       "</div>"
      ],
      "text/plain": [
       "   A\n",
       "B   \n",
       "a  0\n",
       "a  1\n",
       "a  5"
      ]
     },
     "execution_count": 102,
     "metadata": {},
     "output_type": "execute_result"
    }
   ],
   "source": [
    "df2.loc['a']"
   ]
  },
  {
   "cell_type": "markdown",
   "metadata": {},
   "source": [
    "A categorização é **mantida** depois de indexação"
   ]
  },
  {
   "cell_type": "code",
   "execution_count": 103,
   "metadata": {},
   "outputs": [
    {
     "data": {
      "text/plain": [
       "CategoricalIndex(['a', 'a', 'a'], categories=['c', 'a', 'b'], ordered=False, name='B', dtype='category')"
      ]
     },
     "execution_count": 103,
     "metadata": {},
     "output_type": "execute_result"
    }
   ],
   "source": [
    "df2.loc['a'].index"
   ]
  },
  {
   "cell_type": "markdown",
   "metadata": {},
   "source": [
    "Ordenar **mantém** a ordem das categorias (no nosso caso foi cab)"
   ]
  },
  {
   "cell_type": "code",
   "execution_count": 106,
   "metadata": {},
   "outputs": [
    {
     "data": {
      "text/html": [
       "<div>\n",
       "<style scoped>\n",
       "    .dataframe tbody tr th:only-of-type {\n",
       "        vertical-align: middle;\n",
       "    }\n",
       "\n",
       "    .dataframe tbody tr th {\n",
       "        vertical-align: top;\n",
       "    }\n",
       "\n",
       "    .dataframe thead th {\n",
       "        text-align: right;\n",
       "    }\n",
       "</style>\n",
       "<table border=\"1\" class=\"dataframe\">\n",
       "  <thead>\n",
       "    <tr style=\"text-align: right;\">\n",
       "      <th></th>\n",
       "      <th>A</th>\n",
       "    </tr>\n",
       "    <tr>\n",
       "      <th>B</th>\n",
       "      <th></th>\n",
       "    </tr>\n",
       "  </thead>\n",
       "  <tbody>\n",
       "    <tr>\n",
       "      <th>c</th>\n",
       "      <td>4</td>\n",
       "    </tr>\n",
       "    <tr>\n",
       "      <th>a</th>\n",
       "      <td>0</td>\n",
       "    </tr>\n",
       "    <tr>\n",
       "      <th>a</th>\n",
       "      <td>1</td>\n",
       "    </tr>\n",
       "    <tr>\n",
       "      <th>a</th>\n",
       "      <td>5</td>\n",
       "    </tr>\n",
       "    <tr>\n",
       "      <th>b</th>\n",
       "      <td>2</td>\n",
       "    </tr>\n",
       "    <tr>\n",
       "      <th>b</th>\n",
       "      <td>3</td>\n",
       "    </tr>\n",
       "  </tbody>\n",
       "</table>\n",
       "</div>"
      ],
      "text/plain": [
       "   A\n",
       "B   \n",
       "c  4\n",
       "a  0\n",
       "a  1\n",
       "a  5\n",
       "b  2\n",
       "b  3"
      ]
     },
     "execution_count": 106,
     "metadata": {},
     "output_type": "execute_result"
    }
   ],
   "source": [
    "df2.sort_index()"
   ]
  },
  {
   "cell_type": "markdown",
   "metadata": {},
   "source": [
    "**Groupby** preserva a natureza do índice"
   ]
  },
  {
   "cell_type": "code",
   "execution_count": 107,
   "metadata": {},
   "outputs": [
    {
     "data": {
      "text/html": [
       "<div>\n",
       "<style scoped>\n",
       "    .dataframe tbody tr th:only-of-type {\n",
       "        vertical-align: middle;\n",
       "    }\n",
       "\n",
       "    .dataframe tbody tr th {\n",
       "        vertical-align: top;\n",
       "    }\n",
       "\n",
       "    .dataframe thead th {\n",
       "        text-align: right;\n",
       "    }\n",
       "</style>\n",
       "<table border=\"1\" class=\"dataframe\">\n",
       "  <thead>\n",
       "    <tr style=\"text-align: right;\">\n",
       "      <th></th>\n",
       "      <th>A</th>\n",
       "    </tr>\n",
       "    <tr>\n",
       "      <th>B</th>\n",
       "      <th></th>\n",
       "    </tr>\n",
       "  </thead>\n",
       "  <tbody>\n",
       "    <tr>\n",
       "      <th>c</th>\n",
       "      <td>4</td>\n",
       "    </tr>\n",
       "    <tr>\n",
       "      <th>a</th>\n",
       "      <td>6</td>\n",
       "    </tr>\n",
       "    <tr>\n",
       "      <th>b</th>\n",
       "      <td>5</td>\n",
       "    </tr>\n",
       "  </tbody>\n",
       "</table>\n",
       "</div>"
      ],
      "text/plain": [
       "   A\n",
       "B   \n",
       "c  4\n",
       "a  6\n",
       "b  5"
      ]
     },
     "execution_count": 107,
     "metadata": {},
     "output_type": "execute_result"
    }
   ],
   "source": [
    "df2.groupby(level=0).sum()"
   ]
  },
  {
   "cell_type": "markdown",
   "metadata": {},
   "source": [
    "Operações de **Reindexação** se baseiam no tipo do índice original\n",
    "\n",
    "- lista - um índice plano, tipo antigo\n",
    "\n",
    "- categórico - um índice categório mantendo as categorias e dtypes\n",
    "\n",
    "Caso a categoria não exista, ele procede como em qualquer **Reindex** de índice Pandas:"
   ]
  },
  {
   "cell_type": "code",
   "execution_count": 108,
   "metadata": {},
   "outputs": [
    {
     "data": {
      "text/html": [
       "<div>\n",
       "<style scoped>\n",
       "    .dataframe tbody tr th:only-of-type {\n",
       "        vertical-align: middle;\n",
       "    }\n",
       "\n",
       "    .dataframe tbody tr th {\n",
       "        vertical-align: top;\n",
       "    }\n",
       "\n",
       "    .dataframe thead th {\n",
       "        text-align: right;\n",
       "    }\n",
       "</style>\n",
       "<table border=\"1\" class=\"dataframe\">\n",
       "  <thead>\n",
       "    <tr style=\"text-align: right;\">\n",
       "      <th></th>\n",
       "      <th>A</th>\n",
       "    </tr>\n",
       "    <tr>\n",
       "      <th>B</th>\n",
       "      <th></th>\n",
       "    </tr>\n",
       "  </thead>\n",
       "  <tbody>\n",
       "    <tr>\n",
       "      <th>a</th>\n",
       "      <td>0.0</td>\n",
       "    </tr>\n",
       "    <tr>\n",
       "      <th>a</th>\n",
       "      <td>1.0</td>\n",
       "    </tr>\n",
       "    <tr>\n",
       "      <th>a</th>\n",
       "      <td>5.0</td>\n",
       "    </tr>\n",
       "    <tr>\n",
       "      <th>e</th>\n",
       "      <td>NaN</td>\n",
       "    </tr>\n",
       "  </tbody>\n",
       "</table>\n",
       "</div>"
      ],
      "text/plain": [
       "     A\n",
       "B     \n",
       "a  0.0\n",
       "a  1.0\n",
       "a  5.0\n",
       "e  NaN"
      ]
     },
     "execution_count": 108,
     "metadata": {},
     "output_type": "execute_result"
    }
   ],
   "source": [
    "df2.reindex(['a','e'])"
   ]
  },
  {
   "cell_type": "code",
   "execution_count": 109,
   "metadata": {},
   "outputs": [
    {
     "data": {
      "text/plain": [
       "Index(['a', 'a', 'a', 'e'], dtype='object', name='B')"
      ]
     },
     "execution_count": 109,
     "metadata": {},
     "output_type": "execute_result"
    }
   ],
   "source": [
    "df2.reindex(['a','e']).index"
   ]
  },
  {
   "cell_type": "code",
   "execution_count": 110,
   "metadata": {},
   "outputs": [
    {
     "data": {
      "text/html": [
       "<div>\n",
       "<style scoped>\n",
       "    .dataframe tbody tr th:only-of-type {\n",
       "        vertical-align: middle;\n",
       "    }\n",
       "\n",
       "    .dataframe tbody tr th {\n",
       "        vertical-align: top;\n",
       "    }\n",
       "\n",
       "    .dataframe thead th {\n",
       "        text-align: right;\n",
       "    }\n",
       "</style>\n",
       "<table border=\"1\" class=\"dataframe\">\n",
       "  <thead>\n",
       "    <tr style=\"text-align: right;\">\n",
       "      <th></th>\n",
       "      <th>A</th>\n",
       "    </tr>\n",
       "    <tr>\n",
       "      <th>B</th>\n",
       "      <th></th>\n",
       "    </tr>\n",
       "  </thead>\n",
       "  <tbody>\n",
       "    <tr>\n",
       "      <th>a</th>\n",
       "      <td>0.0</td>\n",
       "    </tr>\n",
       "    <tr>\n",
       "      <th>a</th>\n",
       "      <td>1.0</td>\n",
       "    </tr>\n",
       "    <tr>\n",
       "      <th>a</th>\n",
       "      <td>5.0</td>\n",
       "    </tr>\n",
       "    <tr>\n",
       "      <th>e</th>\n",
       "      <td>NaN</td>\n",
       "    </tr>\n",
       "  </tbody>\n",
       "</table>\n",
       "</div>"
      ],
      "text/plain": [
       "     A\n",
       "B     \n",
       "a  0.0\n",
       "a  1.0\n",
       "a  5.0\n",
       "e  NaN"
      ]
     },
     "execution_count": 110,
     "metadata": {},
     "output_type": "execute_result"
    }
   ],
   "source": [
    "df2.reindex(pd.Categorical(['a','e'],categories=list('abcde')))"
   ]
  },
  {
   "cell_type": "code",
   "execution_count": 111,
   "metadata": {},
   "outputs": [
    {
     "data": {
      "text/plain": [
       "CategoricalIndex(['a', 'a', 'a', 'e'], categories=['a', 'b', 'c', 'd', 'e'], ordered=False, name='B', dtype='category')"
      ]
     },
     "execution_count": 111,
     "metadata": {},
     "output_type": "execute_result"
    }
   ],
   "source": [
    "df2.reindex(pd.Categorical(['a','e'],categories=list('abcde'))).index"
   ]
  },
  {
   "cell_type": "markdown",
   "metadata": {},
   "source": [
    "Observe que **Reshape** e operações de **Comparação** devem possuir as mesmas categorias, ou resultará em mensagem de erro"
   ]
  },
  {
   "cell_type": "code",
   "execution_count": null,
   "metadata": {},
   "outputs": [],
   "source": [
    "df3 = pd.DataFrame({'A' : np.arange(6),\n",
    "                            'B' : pd.Series(list('aabbca')).astype('category')})\n",
    "\n",
    "df3 = df3.set_index('B')\n",
    "df3.index\n",
    "\n",
    "pd.concat([df2, df3]"
   ]
  },
  {
   "cell_type": "markdown",
   "metadata": {},
   "source": [
    "#### Índices Int64Index e RangeIndex\n",
    "\n",
    "---\n",
    "\n",
    "#### Índice Float64\n",
    "\n",
    "São básicos e muito velozes. Toda implementação **matemática** usa este tipo de índice"
   ]
  },
  {
   "cell_type": "code",
   "execution_count": 113,
   "metadata": {},
   "outputs": [
    {
     "data": {
      "text/plain": [
       "Float64Index([1.5, 2.0, 3.0, 4.5, 5.0], dtype='float64')"
      ]
     },
     "execution_count": 113,
     "metadata": {},
     "output_type": "execute_result"
    }
   ],
   "source": [
    "indexf = pd.Index([1.5, 2, 3, 4.5, 5])\n",
    "indexf"
   ]
  },
  {
   "cell_type": "code",
   "execution_count": 114,
   "metadata": {},
   "outputs": [
    {
     "data": {
      "text/plain": [
       "1.5    0\n",
       "2.0    1\n",
       "3.0    2\n",
       "4.5    3\n",
       "5.0    4\n",
       "dtype: int64"
      ]
     },
     "execution_count": 114,
     "metadata": {},
     "output_type": "execute_result"
    }
   ],
   "source": [
    "sf = pd.Series(range(5), index=indexf)\n",
    "sf"
   ]
  },
  {
   "cell_type": "code",
   "execution_count": 115,
   "metadata": {},
   "outputs": [
    {
     "data": {
      "text/plain": [
       "2"
      ]
     },
     "execution_count": 115,
     "metadata": {},
     "output_type": "execute_result"
    }
   ],
   "source": [
    "sf[3]"
   ]
  },
  {
   "cell_type": "code",
   "execution_count": 116,
   "metadata": {},
   "outputs": [
    {
     "data": {
      "text/plain": [
       "2"
      ]
     },
     "execution_count": 116,
     "metadata": {},
     "output_type": "execute_result"
    }
   ],
   "source": [
    "sf[3.0]"
   ]
  },
  {
   "cell_type": "code",
   "execution_count": 117,
   "metadata": {},
   "outputs": [
    {
     "data": {
      "text/plain": [
       "2"
      ]
     },
     "execution_count": 117,
     "metadata": {},
     "output_type": "execute_result"
    }
   ],
   "source": [
    "sf.loc[3]"
   ]
  },
  {
   "cell_type": "code",
   "execution_count": 121,
   "metadata": {},
   "outputs": [
    {
     "data": {
      "text/plain": [
       "2.0    1\n",
       "3.0    2\n",
       "dtype: int64"
      ]
     },
     "execution_count": 121,
     "metadata": {},
     "output_type": "execute_result"
    }
   ],
   "source": [
    "sf.loc[2:4]"
   ]
  },
  {
   "cell_type": "code",
   "execution_count": 122,
   "metadata": {},
   "outputs": [
    {
     "data": {
      "text/plain": [
       "3.0    2\n",
       "4.5    3\n",
       "dtype: int64"
      ]
     },
     "execution_count": 122,
     "metadata": {},
     "output_type": "execute_result"
    }
   ],
   "source": [
    "sf.iloc[2:4]"
   ]
  },
  {
   "cell_type": "code",
   "execution_count": 123,
   "metadata": {},
   "outputs": [
    {
     "data": {
      "text/plain": [
       "3.0    2\n",
       "4.5    3\n",
       "dtype: int64"
      ]
     },
     "execution_count": 123,
     "metadata": {},
     "output_type": "execute_result"
    }
   ],
   "source": [
    "sf[2.1:4.6]"
   ]
  },
  {
   "cell_type": "code",
   "execution_count": 112,
   "metadata": {},
   "outputs": [
    {
     "data": {
      "text/html": [
       "<div>\n",
       "<style scoped>\n",
       "    .dataframe tbody tr th:only-of-type {\n",
       "        vertical-align: middle;\n",
       "    }\n",
       "\n",
       "    .dataframe tbody tr th {\n",
       "        vertical-align: top;\n",
       "    }\n",
       "\n",
       "    .dataframe thead th {\n",
       "        text-align: right;\n",
       "    }\n",
       "</style>\n",
       "<table border=\"1\" class=\"dataframe\">\n",
       "  <thead>\n",
       "    <tr style=\"text-align: right;\">\n",
       "      <th></th>\n",
       "      <th>A</th>\n",
       "      <th>B</th>\n",
       "    </tr>\n",
       "  </thead>\n",
       "  <tbody>\n",
       "    <tr>\n",
       "      <th>0.0</th>\n",
       "      <td>-1.464215</td>\n",
       "      <td>-0.154654</td>\n",
       "    </tr>\n",
       "    <tr>\n",
       "      <th>250.0</th>\n",
       "      <td>-1.647758</td>\n",
       "      <td>1.039616</td>\n",
       "    </tr>\n",
       "    <tr>\n",
       "      <th>500.0</th>\n",
       "      <td>-2.036735</td>\n",
       "      <td>0.373181</td>\n",
       "    </tr>\n",
       "    <tr>\n",
       "      <th>750.0</th>\n",
       "      <td>-0.933509</td>\n",
       "      <td>-0.230772</td>\n",
       "    </tr>\n",
       "    <tr>\n",
       "      <th>1000.0</th>\n",
       "      <td>-1.012117</td>\n",
       "      <td>0.366689</td>\n",
       "    </tr>\n",
       "    <tr>\n",
       "      <th>1000.4</th>\n",
       "      <td>-1.082983</td>\n",
       "      <td>1.207367</td>\n",
       "    </tr>\n",
       "    <tr>\n",
       "      <th>1250.5</th>\n",
       "      <td>0.816100</td>\n",
       "      <td>0.238158</td>\n",
       "    </tr>\n",
       "    <tr>\n",
       "      <th>1500.6</th>\n",
       "      <td>0.783960</td>\n",
       "      <td>0.180781</td>\n",
       "    </tr>\n",
       "    <tr>\n",
       "      <th>1750.7</th>\n",
       "      <td>-0.381415</td>\n",
       "      <td>-0.558305</td>\n",
       "    </tr>\n",
       "    <tr>\n",
       "      <th>2000.8</th>\n",
       "      <td>-0.252600</td>\n",
       "      <td>2.251874</td>\n",
       "    </tr>\n",
       "    <tr>\n",
       "      <th>2250.9</th>\n",
       "      <td>-0.044558</td>\n",
       "      <td>1.143475</td>\n",
       "    </tr>\n",
       "  </tbody>\n",
       "</table>\n",
       "</div>"
      ],
      "text/plain": [
       "               A         B\n",
       "0.0    -1.464215 -0.154654\n",
       "250.0  -1.647758  1.039616\n",
       "500.0  -2.036735  0.373181\n",
       "750.0  -0.933509 -0.230772\n",
       "1000.0 -1.012117  0.366689\n",
       "1000.4 -1.082983  1.207367\n",
       "1250.5  0.816100  0.238158\n",
       "1500.6  0.783960  0.180781\n",
       "1750.7 -0.381415 -0.558305\n",
       "2000.8 -0.252600  2.251874\n",
       "2250.9 -0.044558  1.143475"
      ]
     },
     "execution_count": 112,
     "metadata": {},
     "output_type": "execute_result"
    }
   ],
   "source": [
    "dfir = pd.concat([pd.DataFrame(np.random.randn(5,2),\n",
    "                               index=np.arange(5) * 250.0,\n",
    "                                columns=list('AB')),\n",
    "                   pd.DataFrame(np.random.randn(6,2),\n",
    "                                index=np.arange(4,10) * 250.1,\n",
    "                                columns=list('AB'))]) \n",
    "dfir"
   ]
  },
  {
   "cell_type": "markdown",
   "metadata": {},
   "source": [
    "---\n",
    "\n",
    "#### Índice IntervalIndex\n",
    "\n",
    "*Nota: **evite** usar isso. Está prevista reforma neste método e ele pode mudar sua forma de atuação!*"
   ]
  },
  {
   "cell_type": "code",
   "execution_count": null,
   "metadata": {},
   "outputs": [],
   "source": [
    "df = pd.DataFrame({'A': [1, 2, 3, 4]},\n",
    "                    index=pd.IntervalIndex.from_breaks([0, 1, 2, 3, 4]))\n",
    "df"
   ]
  },
  {
   "cell_type": "code",
   "execution_count": null,
   "metadata": {},
   "outputs": [],
   "source": [
    "df.loc[2]\n",
    "df.loc[[2, 3]]"
   ]
  },
  {
   "cell_type": "code",
   "execution_count": null,
   "metadata": {},
   "outputs": [],
   "source": [
    "df.loc[2.5]\n",
    "df.loc[[2.5, 3.5]]"
   ]
  },
  {
   "cell_type": "code",
   "execution_count": null,
   "metadata": {},
   "outputs": [],
   "source": [
    "c = pd.cut(range(4), bins=2)\n",
    "c\n",
    "c.categories"
   ]
  },
  {
   "cell_type": "code",
   "execution_count": null,
   "metadata": {},
   "outputs": [],
   "source": [
    "pd.cut([0, 3, 5, 1], bins=c.categories)"
   ]
  },
  {
   "cell_type": "markdown",
   "metadata": {},
   "source": [
    "---\n",
    "\n",
    "#### Gerando Bandas (Ranges) de intervalos"
   ]
  },
  {
   "cell_type": "code",
   "execution_count": null,
   "metadata": {},
   "outputs": [],
   "source": [
    "pd.interval_range(start=0, end=5)\n",
    "pd.interval_range(start=pd.Timestamp('2017-01-01'), periods=4)\n",
    "pd.interval_range(end=pd.Timedelta('3 days'), periods=3)"
   ]
  },
  {
   "cell_type": "code",
   "execution_count": null,
   "metadata": {},
   "outputs": [],
   "source": [
    "pd.interval_range(start=0, periods=5, freq=1.5)\n",
    "pd.interval_range(start=pd.Timestamp('2017-01-01'), periods=4, freq='W')\n",
    "pd.interval_range(start=pd.Timedelta('0 days'), periods=3, freq='9H')"
   ]
  },
  {
   "cell_type": "code",
   "execution_count": null,
   "metadata": {},
   "outputs": [],
   "source": [
    "pd.interval_range(start=0, end=4, closed='both')\n",
    "pd.interval_range(start=0, end=4, closed='neither')"
   ]
  },
  {
   "cell_type": "code",
   "execution_count": null,
   "metadata": {},
   "outputs": [],
   "source": [
    "pd.interval_range(start=0, end=6, periods=4)\n",
    "pd.interval_range(pd.Timestamp('2018-01-01'), pd.Timestamp('2018-02-28'), periods=3)"
   ]
  },
  {
   "cell_type": "markdown",
   "metadata": {},
   "source": [
    "### Miscelânea em Multiindexação\n",
    "\n",
    "---"
   ]
  },
  {
   "cell_type": "markdown",
   "metadata": {},
   "source": [
    "#### Indexação inteira"
   ]
  },
  {
   "cell_type": "code",
   "execution_count": null,
   "metadata": {},
   "outputs": [],
   "source": [
    "s = pd.Series(range(5))\n",
    "s[-1]\n",
    "df = pd.DataFrame(np.random.randn(5, 4))\n",
    "df\n",
    "df.loc[-2:]"
   ]
  },
  {
   "cell_type": "markdown",
   "metadata": {},
   "source": [
    "#### Índices não-monotônicos requerem correspondências exatas"
   ]
  },
  {
   "cell_type": "code",
   "execution_count": null,
   "metadata": {},
   "outputs": [],
   "source": [
    "df = pd.DataFrame(index=[2,3,3,4,5], columns=['data'], data=list(range(5)))\n",
    "\n",
    "df.index.is_monotonic_increasing\n",
    "\n",
    "# no rows 0 or 1, but still returns rows 2, 3 (both of them), and 4:\n",
    "# slice is are outside the index, so empty DataFrame is returned\n",
    "df.loc[13:15, :]"
   ]
  },
  {
   "cell_type": "code",
   "execution_count": null,
   "metadata": {},
   "outputs": [],
   "source": [
    "df = pd.DataFrame(index=[2,3,1,4,3,5], columns=['data'], data=list(range(6)))\n",
    "\n",
    "df.index.is_monotonic_increasing\n",
    "\n",
    "# OK because 2 and 4 are in the index\n",
    "df.loc[2:4, :]"
   ]
  },
  {
   "cell_type": "code",
   "execution_count": null,
   "metadata": {},
   "outputs": [],
   "source": [
    "# 0 is not in the index\n",
    "df.loc[0:4, :]\n",
    "\n",
    "# 3 is not a unique label\n",
    "df.loc[2:3, :]"
   ]
  },
  {
   "cell_type": "code",
   "execution_count": null,
   "metadata": {},
   "outputs": [],
   "source": [
    "weakly_monotonic = pd.Index(['a', 'b', 'c', 'c'])\n",
    "\n",
    "weakly_monotonic\n",
    "\n",
    "weakly_monotonic.is_monotonic_increasing\n",
    "\n",
    "weakly_monotonic.is_monotonic_increasing & weakly_monotonic.is_unique"
   ]
  },
  {
   "cell_type": "markdown",
   "metadata": {},
   "source": [
    "#### Endpoints são inclusivos!"
   ]
  },
  {
   "cell_type": "code",
   "execution_count": null,
   "metadata": {},
   "outputs": [],
   "source": [
    "s = pd.Series(np.random.randn(6), index=list('abcdef'))\n",
    "s"
   ]
  },
  {
   "cell_type": "code",
   "execution_count": null,
   "metadata": {},
   "outputs": [],
   "source": [
    "s[2:5]"
   ]
  },
  {
   "cell_type": "code",
   "execution_count": null,
   "metadata": {},
   "outputs": [],
   "source": [
    "s.loc['c':'e'+1]"
   ]
  },
  {
   "cell_type": "code",
   "execution_count": null,
   "metadata": {},
   "outputs": [],
   "source": [
    "s.loc['c':'e']"
   ]
  },
  {
   "cell_type": "markdown",
   "metadata": {},
   "source": [
    "#### Indexação em alguns casos modifica os dtypes de base da sua Séries"
   ]
  },
  {
   "cell_type": "code",
   "execution_count": null,
   "metadata": {},
   "outputs": [],
   "source": [
    "series1 = pd.Series([1, 2, 3])\n",
    "\n",
    "series1.dtype\n",
    "\n",
    "res = series1.reindex([0, 4])\n",
    "\n",
    "res.dtype\n",
    "\n",
    "res"
   ]
  },
  {
   "cell_type": "code",
   "execution_count": null,
   "metadata": {},
   "outputs": [],
   "source": [
    "series2 = pd.Series([True])\n",
    "\n",
    "series2.dtype\n",
    "\n",
    "res = series2.reindex_like(series1)\n",
    "\n",
    "res.dtype\n",
    "\n",
    "res"
   ]
  },
  {
   "cell_type": "markdown",
   "metadata": {},
   "source": [
    "## Iterando sobre um dataframe\n",
    "\n",
    "---\n",
    "\n",
    "É possível dar um comando **For** combinado com uma chamada da função **.interffows()**\n",
    "\n",
    "O **Interrows** devolve como resultado uma tupla (índice,linha). Ou se preferir (índice, Série)..."
   ]
  },
  {
   "cell_type": "code",
   "execution_count": 16,
   "metadata": {},
   "outputs": [
    {
     "data": {
      "text/html": [
       "<div>\n",
       "<style scoped>\n",
       "    .dataframe tbody tr th:only-of-type {\n",
       "        vertical-align: middle;\n",
       "    }\n",
       "\n",
       "    .dataframe tbody tr th {\n",
       "        vertical-align: top;\n",
       "    }\n",
       "\n",
       "    .dataframe thead th {\n",
       "        text-align: right;\n",
       "    }\n",
       "</style>\n",
       "<table border=\"1\" class=\"dataframe\">\n",
       "  <thead>\n",
       "    <tr style=\"text-align: right;\">\n",
       "      <th></th>\n",
       "      <th>A</th>\n",
       "      <th>B</th>\n",
       "      <th>C</th>\n",
       "    </tr>\n",
       "  </thead>\n",
       "  <tbody>\n",
       "    <tr>\n",
       "      <th>0</th>\n",
       "      <td>1</td>\n",
       "      <td>2</td>\n",
       "      <td>3</td>\n",
       "    </tr>\n",
       "    <tr>\n",
       "      <th>1</th>\n",
       "      <td>4</td>\n",
       "      <td>5</td>\n",
       "      <td>6</td>\n",
       "    </tr>\n",
       "    <tr>\n",
       "      <th>2</th>\n",
       "      <td>7</td>\n",
       "      <td>8</td>\n",
       "      <td>9</td>\n",
       "    </tr>\n",
       "    <tr>\n",
       "      <th>3</th>\n",
       "      <td>10</td>\n",
       "      <td>11</td>\n",
       "      <td>12</td>\n",
       "    </tr>\n",
       "  </tbody>\n",
       "</table>\n",
       "</div>"
      ],
      "text/plain": [
       "    A   B   C\n",
       "0   1   2   3\n",
       "1   4   5   6\n",
       "2   7   8   9\n",
       "3  10  11  12"
      ]
     },
     "execution_count": 16,
     "metadata": {},
     "output_type": "execute_result"
    }
   ],
   "source": [
    "import pandas as pd\n",
    "import numpy as np\n",
    "\n",
    "df = pd.DataFrame(data=np.array([[1, 2, 3], [4, 5, 6], [7, 8, 9], [10, 11, 12]]),\n",
    "                 columns=['A','B','C'])\n",
    "df                  "
   ]
  },
  {
   "cell_type": "code",
   "execution_count": 19,
   "metadata": {},
   "outputs": [
    {
     "name": "stdout",
     "output_type": "stream",
     "text": [
      "0 Coluna A: 1, Coluna B: 2\n",
      "1 Coluna A: 4, Coluna B: 5\n",
      "2 Coluna A: 7, Coluna B: 8\n",
      "3 Coluna A: 10, Coluna B: 11\n"
     ]
    }
   ],
   "source": [
    "for indice, linha in df.iterrows():\n",
    "    print(indice, \"Coluna A: {}, Coluna B: {}\".format(linha['A'], linha['B']))"
   ]
  },
  {
   "cell_type": "markdown",
   "metadata": {},
   "source": [
    "## Gravando um dataframe em formato Excel\n",
    "\n",
    "---\n",
    "\n",
    "Mais informações sobre a ferramenta de I/O do Pandas [aqui](http://pandas.pydata.org/pandas-docs/stable/io.html)"
   ]
  },
  {
   "cell_type": "code",
   "execution_count": null,
   "metadata": {},
   "outputs": [],
   "source": [
    "import pandas as pd\n",
    "\n",
    "df = pd.DataFrame(data=np.array([[34, 1, 2], \n",
    "                                 [22, 3, 3], \n",
    "                                 [19, 2, 4]]), \n",
    "                  index= [0, 1, 2], \n",
    "                  columns=[\"Age\", \"Seats\", \"Tickets\"]) \n",
    "\n",
    "# O caminho é o padrão e o nome do arqivo será meuDataFrame\n",
    "gravador = pd.ExcelWriter(\"meuDataFrame.xlsx\")\n",
    "\n",
    "# O nome da minha aba no Excel será DataFrame\n",
    "df.to_excel(gravador, \"DataFrame\")\n",
    "gravador.save()"
   ]
  }
 ],
 "metadata": {
  "kernelspec": {
   "display_name": "Python 3",
   "language": "python",
   "name": "python3"
  },
  "language_info": {
   "codemirror_mode": {
    "name": "ipython",
    "version": 3
   },
   "file_extension": ".py",
   "mimetype": "text/x-python",
   "name": "python",
   "nbconvert_exporter": "python",
   "pygments_lexer": "ipython3",
   "version": "3.6.7"
  }
 },
 "nbformat": 4,
 "nbformat_minor": 2
}
