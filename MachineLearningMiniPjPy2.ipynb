{
 "cells": [
  {
   "cell_type": "markdown",
   "metadata": {},
   "source": [
    "## Machine learning - mini projects\n",
    "\n",
    "---\n",
    "\n",
    "Este notebook roda em Python 2!\n",
    "\n",
    "Instalar o Python 2:\n",
    "\n",
    "        conda create -n python2 python=2.7 anaconda\n",
    "        \n",
    "Mudar o ambiente:\n",
    "\n",
    "        source activate python2\n",
    "        \n",
    "*isso não é necessário pois o create cria também um novo terminal de acesso Python2!*"
   ]
  },
  {
   "cell_type": "code",
   "execution_count": 1,
   "metadata": {},
   "outputs": [
    {
     "name": "stdout",
     "output_type": "stream",
     "text": [
      "olá mundo\n"
     ]
    }
   ],
   "source": [
    "print 'olá mundo'"
   ]
  },
  {
   "cell_type": "markdown",
   "metadata": {},
   "source": [
    "#### Mini Projeto 1 - Naïve Bayes\n",
    "\n",
    "---\n",
    "\n",
    "Dizer se o e-mail veio de Sara ou de Cris"
   ]
  },
  {
   "cell_type": "code",
   "execution_count": null,
   "metadata": {},
   "outputs": [],
   "source": []
  }
 ],
 "metadata": {
  "kernelspec": {
   "display_name": "Python 2",
   "language": "python",
   "name": "python2"
  },
  "language_info": {
   "codemirror_mode": {
    "name": "ipython",
    "version": 2
   },
   "file_extension": ".py",
   "mimetype": "text/x-python",
   "name": "python",
   "nbconvert_exporter": "python",
   "pygments_lexer": "ipython2",
   "version": "2.7.15"
  }
 },
 "nbformat": 4,
 "nbformat_minor": 2
}
