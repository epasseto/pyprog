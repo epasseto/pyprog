{
 "cells": [
  {
   "cell_type": "markdown",
   "metadata": {},
   "source": [
    "### Customizar o Jupyter [aqui](https://www.youtube.com/watch?v=FwUcJFSAfQw)\n",
    "\n",
    "[código](https://github.com/deepsense-ai/pydatawarsaw-notebooks)\n",
    "\n",
    "[jupyter-themes](https://github.com/duvonank/jupyter-themes)"
   ]
  },
  {
   "cell_type": "code",
   "execution_count": 3,
   "metadata": {},
   "outputs": [
    {
     "name": "stdout",
     "output_type": "stream",
     "text": [
      "\n",
      "The following command must be run outside of the IPython shell:\n",
      "\n",
      "    $ pip install jupyterthemes\n",
      "\n",
      "The Python package manager (pip) can only be used from outside of IPython.\n",
      "Please reissue the `pip` command in a separate terminal or command prompt.\n",
      "\n",
      "See the Python documentation for more information on how to install packages:\n",
      "\n",
      "    https://docs.python.org/3/installing/\n"
     ]
    }
   ],
   "source": [
    "pip install jupyterthemes\n",
    "\n",
    "pip install --upgrade jupyterthemespip "
   ]
  },
  {
   "cell_type": "code",
   "execution_count": 1,
   "metadata": {},
   "outputs": [
    {
     "data": {
      "application/javascript": [
       "Jupyter.notebook.config.update({\"load_extensions\":{\"codefolding\":true}})\n"
      ],
      "text/plain": [
       "<IPython.core.display.Javascript object>"
      ]
     },
     "metadata": {},
     "output_type": "display_data"
    }
   ],
   "source": [
    "%%javascript\n",
    "Jupyter.notebook.config.update({\"load_extensions\":{\"codefolding\":true}})"
   ]
  },
  {
   "cell_type": "markdown",
   "metadata": {},
   "source": [
    "list themes\n",
    "\n",
    "    jt -l\n",
    "    \n",
    "select themes\n",
    "\n",
    "    jt -t oceans16 -T\n",
    "    \n",
    "reset\n",
    "\n",
    "    jt -r\n",
    "    \n",
    "[temador](https://github.com/transcranial/jupyter-themer)"
   ]
  },
  {
   "cell_type": "markdown",
   "metadata": {},
   "source": [
    "---\n",
    "\n",
    "- styling\n",
    "\n",
    " - packages\n",
    " \n",
    " - DIY\n",
    "\n",
    "- extensions\n",
    "\n",
    " - built-in\n",
    " \n",
    " - config\n",
    " \n",
    "- magics\n",
    "\n",
    " - built-in\n",
    "\n",
    " - packages\n",
    " \n",
    " - DIY\n",
    "\n",
    "- interactive plotting\n",
    "\n",
    " - widgets and interact\n",
    " \n",
    " - qgrid\n",
    " \n",
    " - displays\n",
    " \n",
    " - bokeh\n",
    "\n",
    "- polyglottery"
   ]
  },
  {
   "cell_type": "code",
   "execution_count": null,
   "metadata": {},
   "outputs": [],
   "source": [
    "class CoolClass():\n",
    "    def great_method(self):\n",
    "        return ('happy days')"
   ]
  },
  {
   "cell_type": "markdown",
   "metadata": {},
   "source": [
    "Customizar ainda mais:"
   ]
  },
  {
   "cell_type": "code",
   "execution_count": null,
   "metadata": {},
   "outputs": [],
   "source": [
    "%pycat ~/.jupyter/custom/custom.css\n",
    "\n",
    "!cp resources/deepsensify.css ~/.jupyter/custom/custom.css"
   ]
  },
  {
   "cell_type": "markdown",
   "metadata": {},
   "source": [
    "Extensões"
   ]
  },
  {
   "cell_type": "code",
   "execution_count": null,
   "metadata": {},
   "outputs": [],
   "source": [
    "pip install jupyter_contrib_nbextensions\n",
    "\n",
    "jupyter-contrib nbextension install --sys-prefix"
   ]
  },
  {
   "cell_type": "code",
   "execution_count": null,
   "metadata": {},
   "outputs": [],
   "source": [
    "jupyter contrib nbextension install --user"
   ]
  },
  {
   "cell_type": "code",
   "execution_count": null,
   "metadata": {},
   "outputs": [],
   "source": [
    "conda install -c conda-forge jupyter_nbextensions_configurator"
   ]
  },
  {
   "cell_type": "code",
   "execution_count": null,
   "metadata": {},
   "outputs": [],
   "source": [
    "conda install -c conda-forge jupyter_contrib_nbextensions\n",
    "\n",
    "jupyter nbextension enable <nbextension require path>"
   ]
  },
  {
   "cell_type": "markdown",
   "metadata": {},
   "source": [
    "1. Split Cells <--> Permite duas células num mesmo espaço\n",
    "\n",
    "2. Table of Contents Tábua de conteúdos\n",
    "\n",
    "3. Python 2to3 conversion >>- Converte de um para outro\n",
    "\n",
    "4. Codefolding\n",
    "\n",
    "5. Limit output\n",
    "\n",
    "6. Snippets pedaços de código como colinhas\n",
    "\n",
    "7. Hiding esconde uma função feia\n",
    "\n",
    "8. Tree Filter para muitos arquivos\n",
    "\n",
    "9. Slideshow como Powerpoint\n",
    "\n",
    "10. Magics %lsmagic\n",
    "\n",
    " - line magic\n",
    " \n",
    "        %env CUDA_DEVICE_ORDER=PCI_BUS_ID\n",
    "        \n",
    "        %colors NoColor\n",
    "        \n",
    "        %colors Linux\n",
    "        \n",
    "        %pycat resources/pythoncode.py\n",
    "        \n",
    "        %load resources/pythoncode.py\n",
    "        \n",
    "        %run resources/pythoncode.py\n",
    "        \n",
    "        %load_ext autoreload\n",
    "        %autoreload 2\n",
    "        \n",
    "        from resources.pythoncode import awesome code\n",
    "        \n",
    "        %pdoc awesome_code\n",
    "        ?awesome_code\n",
    "        \n",
    "        %matplotlib --list\n",
    "        %matplotlib inline\n",
    "                \n",
    " - cell magic\n",
    " \n",
    "        %%writefile resources/pythoncode.py\n",
    " \n",
    "        def awesome_code():\n",
    "            \"\"\"Do magic\"\"\"\n",
    "            print('playing with data')\n",
    "            return 'Value'\n",
    "            \n",
    "        %%writefile resources/simple.py\n",
    "        \n",
    "        def great_model():\n",
    "            print('your magic worked')\n",
    "            \n",
    "        if __name__ == '__main__':\n",
    "            great model()\n",
    "            \n",
    "        %%sh\n",
    "        ls\n",
    "        python resources/simple.py\n",
    "        \n",
    "            \n",
    " - debugging\n",
    " \n",
    "         %pdb\n",
    "        awesome_code()\n",
    " \n",
    "        %%prun\n",
    "        awesome_code()\n",
    " \n",
    " - compartilhando dados entre notebooks\n",
    " \n",
    "        import numpy as np\n",
    "        table = np.random.random((10,100))\n",
    "        %store table\n",
    "        \n",
    "        #outro notebook\n",
    "        %store -r table\n",
    "        \n",
    " - timing\n",
    " \n",
    "        %time print('good timing')\n",
    "        \n",
    "        %%time\n",
    "        print('good timing')\n",
    "        \n",
    "        %%timeit -n 5 -r 2\n",
    "        print('good timing')\n",
    "        \n",
    " - polyglottery\n",
    " \n",
    "        %%bash\n",
    "        \n",
    "        %%rpy2\n",
    "        \n",
    "        %%cpp\n",
    "        \n",
    "        %%perl\n",
    "        \n",
    "        %%ruby\n",
    "        \n",
    "        %%fortran\n",
    "        \n",
    "        %%latex\n",
    "\n",
    " - mais mágicas\n",
    " \n",
    "        !pip install watermark\n",
    "        \n",
    "        %reload_ext watermark\n",
    "        %watermark"
   ]
  },
  {
   "cell_type": "code",
   "execution_count": null,
   "metadata": {},
   "outputs": [],
   "source": [
    "# %load resources/plot_dir.py\n",
    "import os, glob\n",
    "import matplotlib.pyplot as plt\n",
    "from IPython.core.magic import Margics, magics_class, line_magic, cell_magic\n",
    "\n",
    "@magics_class\n",
    "class PlotDirMagic(Magics):\n",
    "    @line_magic('snapshot')\n",
    "    def plot_dir(self, line='', cell=''):\n",
    "        path, nr = line,split(' ')\n",
    "        dir_path = os.path.join(os.getcwd(), path)\n",
    "        filepaths = glob.glob('{}/*'.format(dir_path))\n",
    "        \n",
    "        fig, axes = plt.subblotes(1, int(nr), figsize=(16,22));\n",
    "        for ax, filepath in zip(axes, filepaths):\n",
    "            img = plt.imread(filepath)\n",
    "            ax.imshow(img);\n",
    "            ax.get_xaxis().set_visible(False)\n",
    "            ax.get_yaxis().set_visible(False)\n",
    "\n",
    "def load_ipython_extension(ip):\n",
    "    ip.register magics(PlotDirMagic)"
   ]
  },
  {
   "cell_type": "markdown",
   "metadata": {},
   "source": [
    "Retrato de uma pasta"
   ]
  },
  {
   "cell_type": "code",
   "execution_count": null,
   "metadata": {},
   "outputs": [],
   "source": [
    "%load_ext resources.plot_dir\n",
    "\n",
    "%snapshot resources/img_dir 3"
   ]
  },
  {
   "cell_type": "markdown",
   "metadata": {},
   "source": [
    "Interactive vis"
   ]
  },
  {
   "cell_type": "code",
   "execution_count": 1,
   "metadata": {},
   "outputs": [
    {
     "data": {
      "application/vnd.jupyter.widget-view+json": {
       "model_id": "42c0fa4465cd435980e84190f1227f4e",
       "version_major": 2,
       "version_minor": 0
      },
      "text/plain": [
       "IntSlider(value=5, max=20)"
      ]
     },
     "metadata": {},
     "output_type": "display_data"
    }
   ],
   "source": [
    "import ipywidgets\n",
    "\n",
    "int_range_slider = ipywidgets.IntSlider(value=5, min=0, max=20, step=1)\n",
    "int_range_slider"
   ]
  },
  {
   "cell_type": "code",
   "execution_count": 2,
   "metadata": {},
   "outputs": [
    {
     "data": {
      "application/vnd.jupyter.widget-view+json": {
       "model_id": "d782cfe1a2cf4b5e91653ca966db5736",
       "version_major": 2,
       "version_minor": 0
      },
      "text/plain": [
       "FloatRangeSlider(value=(0.0, 1.0), max=1.0, step=0.05)"
      ]
     },
     "metadata": {},
     "output_type": "display_data"
    }
   ],
   "source": [
    "ipywidgets.FloatRangeSlider(value=[0,1], min=0.0, max=1.0, step=0.05)"
   ]
  },
  {
   "cell_type": "code",
   "execution_count": 4,
   "metadata": {},
   "outputs": [
    {
     "data": {
      "application/vnd.jupyter.widget-view+json": {
       "model_id": "e1e1c3c05e2743f892fd30f3e68db122",
       "version_major": 2,
       "version_minor": 0
      },
      "text/plain": [
       "ToggleButtons(options=('Slow', 'Regular', 'Fast'), value='Slow')"
      ]
     },
     "metadata": {},
     "output_type": "display_data"
    }
   ],
   "source": [
    "ipywidgets.ToggleButtons(options=['Slow', 'Regular', 'Fast'])"
   ]
  },
  {
   "cell_type": "code",
   "execution_count": 15,
   "metadata": {},
   "outputs": [
    {
     "data": {
      "application/vnd.jupyter.widget-view+json": {
       "model_id": "a792061d5aa346a5a1b83133437cf6d4",
       "version_major": 2,
       "version_minor": 0
      },
      "text/plain": [
       "SelectMultiple(index=(0, 1, 2, 3, 4), options=('col_0', 'col_1', 'col_2', 'col_3', 'col_4'), value=('col_0', '…"
      ]
     },
     "metadata": {},
     "output_type": "display_data"
    }
   ],
   "source": [
    "multiselect=ipywidgets.SelectMultiple(options=['col_{}'.format(i) for i in range(5)],\n",
    "                                      value=['col_{}'.format(i) for i in range(5)])\n",
    "multiselect"
   ]
  },
  {
   "cell_type": "code",
   "execution_count": 11,
   "metadata": {},
   "outputs": [
    {
     "data": {
      "application/vnd.jupyter.widget-view+json": {
       "model_id": "ad4359309e7443bd8adf354b8cecb98c",
       "version_major": 2,
       "version_minor": 0
      },
      "text/plain": [
       "Text(value='Input text')"
      ]
     },
     "metadata": {},
     "output_type": "display_data"
    }
   ],
   "source": [
    "ipywidgets.Text(value='Input text')"
   ]
  },
  {
   "cell_type": "code",
   "execution_count": 16,
   "metadata": {},
   "outputs": [],
   "source": [
    "from ipywidgets import interact, fixed\n",
    "import pandas as pd\n",
    "import numpy as np\n",
    "\n",
    "def show_df(df, rows, columns):\n",
    "    tmp = df[list(columns)]\n",
    "    display(tmp.head(rows))\n",
    "\n",
    "table = pd.DataFrame(np.random.random((10,5)), columns=['col_{}'.format(i) for i in range(5)])"
   ]
  },
  {
   "cell_type": "code",
   "execution_count": 17,
   "metadata": {},
   "outputs": [
    {
     "data": {
      "application/vnd.jupyter.widget-view+json": {
       "model_id": "23f9b810b93345f2a0687173595c5e11",
       "version_major": 2,
       "version_minor": 0
      },
      "text/plain": [
       "interactive(children=(IntSlider(value=5, description='rows', max=20), SelectMultiple(description='columns', in…"
      ]
     },
     "metadata": {},
     "output_type": "display_data"
    }
   ],
   "source": [
    "interact(show_df, df=fixed(table), rows=int_range_slider, columns=multiselect);"
   ]
  },
  {
   "cell_type": "markdown",
   "metadata": {},
   "source": [
    "### qgrid\n",
    "\n",
    "---\n",
    "\n",
    "Filtragens tipo Excel em dataframes\n",
    "\n",
    "    pip install qgrid"
   ]
  },
  {
   "cell_type": "code",
   "execution_count": null,
   "metadata": {},
   "outputs": [],
   "source": [
    "import qgrid\n",
    "qgrid.show_grid(table)"
   ]
  },
  {
   "cell_type": "markdown",
   "metadata": {},
   "source": [
    "### Tikzmagic [aqui](https://github.com/robjstan/tikzmagic)\n",
    "\n",
    "---"
   ]
  },
  {
   "cell_type": "markdown",
   "metadata": {},
   "source": [
    "### IPython displays\n",
    "\n",
    "---\n",
    "\n",
    "Assistir vídeo\n"
   ]
  },
  {
   "cell_type": "code",
   "execution_count": null,
   "metadata": {},
   "outputs": [],
   "source": [
    "from IPython.display import VimeoVideo\n",
    "VimeoVideo(\"138543647\", width=600,height=400)"
   ]
  },
  {
   "cell_type": "markdown",
   "metadata": {},
   "source": [
    "Lente de aumento"
   ]
  },
  {
   "cell_type": "code",
   "execution_count": null,
   "metadata": {},
   "outputs": [],
   "source": [
    "from IPython.display import HTML\n",
    "HTML(\"resources/microscope.html\")"
   ]
  },
  {
   "cell_type": "markdown",
   "metadata": {},
   "source": [
    "Ler PDF"
   ]
  },
  {
   "cell_type": "code",
   "execution_count": null,
   "metadata": {},
   "outputs": [],
   "source": [
    "from IPython.display import HTML\n",
    "HTML('<iframe src=\"reources/gan_paper.pdf\" width=800 height=400></iframe')"
   ]
  },
  {
   "cell_type": "markdown",
   "metadata": {},
   "source": [
    "Abrir HTML"
   ]
  },
  {
   "cell_type": "code",
   "execution_count": null,
   "metadata": {},
   "outputs": [],
   "source": [
    "from IPython.display import HTML\n",
    "HTML('<iframe src=\"https://cartan.neptune.ml/#dashboard/job/b02900d7-3eeb-434-b4bf-37cb8885f3b1\" width=800 height=400></iframe>')"
   ]
  },
  {
   "cell_type": "code",
   "execution_count": 27,
   "metadata": {},
   "outputs": [
    {
     "ename": "ModuleNotFoundError",
     "evalue": "No module named 'resources'",
     "output_type": "error",
     "traceback": [
      "\u001b[1;31m---------------------------------------------------------------------------\u001b[0m",
      "\u001b[1;31mModuleNotFoundError\u001b[0m                       Traceback (most recent call last)",
      "\u001b[1;32m<ipython-input-27-c4a9981d711d>\u001b[0m in \u001b[0;36m<module>\u001b[1;34m()\u001b[0m\n\u001b[0;32m      1\u001b[0m \u001b[1;32mfrom\u001b[0m \u001b[0mbokeh\u001b[0m\u001b[1;33m.\u001b[0m\u001b[0mio\u001b[0m \u001b[1;32mimport\u001b[0m \u001b[0moutput_notebook\u001b[0m\u001b[1;33m,\u001b[0m \u001b[0mshow\u001b[0m\u001b[1;33m\u001b[0m\u001b[0m\n\u001b[1;32m----> 2\u001b[1;33m \u001b[1;32mfrom\u001b[0m \u001b[0mresources\u001b[0m\u001b[1;33m.\u001b[0m\u001b[0mbokeh_example\u001b[0m \u001b[1;32mimport\u001b[0m \u001b[0mperiodic_table\u001b[0m\u001b[1;33m\u001b[0m\u001b[0m\n\u001b[0m\u001b[0;32m      3\u001b[0m \u001b[0mpt\u001b[0m \u001b[1;33m=\u001b[0m \u001b[0mperiodic_table\u001b[0m\u001b[1;33m\u001b[0m\u001b[0m\n\u001b[0;32m      4\u001b[0m \u001b[0moutput_notebook\u001b[0m\u001b[1;33m(\u001b[0m\u001b[1;33m)\u001b[0m\u001b[1;33m\u001b[0m\u001b[0m\n\u001b[0;32m      5\u001b[0m \u001b[0mshow\u001b[0m\u001b[1;33m(\u001b[0m\u001b[0mpt\u001b[0m\u001b[1;33m,\u001b[0m \u001b[0mnotebook_handle\u001b[0m\u001b[1;33m=\u001b[0m\u001b[1;32mTrue\u001b[0m\u001b[1;33m)\u001b[0m\u001b[1;33m;\u001b[0m\u001b[1;33m\u001b[0m\u001b[0m\n",
      "\u001b[1;31mModuleNotFoundError\u001b[0m: No module named 'resources'"
     ]
    }
   ],
   "source": [
    "from bokeh.io import output_notebook, show\n",
    "from resources.bokeh_example import periodic_table\n",
    "pt = periodic_table\n",
    "output_notebook()\n",
    "show(pt, notebook_handle=True);"
   ]
  },
  {
   "cell_type": "markdown",
   "metadata": {},
   "source": [
    "### Boas práticas em Pandas [aqui](https://www.youtube.com/watch?v=JI1HWUAyJHE)\n",
    "\n",
    "---\n"
   ]
  },
  {
   "cell_type": "markdown",
   "metadata": {},
   "source": [
    "### Guia visual em Pandas [aqui](https://www.youtube.com/watch?v=9d5-Ti6onew)\n",
    "\n",
    "---\n",
    "\n",
    "Pandas é um Numpy baseado em estrutura de dicionário (chave -> valores)\n",
    "\n",
    "- seleção de algumas colunas\n",
    "\n",
    "        df[['A', 'C']]\n",
    "        \n",
    "- seleção com fatiamento\n",
    "\n",
    " - colunas\n",
    "\n",
    "        df.ix[:, 'B':'D']\n",
    " \n",
    " - linhas\n",
    " \n",
    "        df.ix['two':'four']\n",
    "        \n",
    " - combinados\n",
    " \n",
    "        df.ix[['two','three'], ['B','C']]\n",
    "        \n",
    " - start, stop step\n",
    " \n",
    "- merge lateral\n",
    " \n",
    "        pd.DataFrame({'a':s1, 'b':s2}) \n",
    " \n",
    "- merge em sequência\n",
    " \n",
    "        pd.DataFrame([s1, s2])\n",
    "        \n",
    "- passando um índice para seleção\n",
    " \n",
    "        df.reindex(index=['four', 'five', 'six', 'seven'],\n",
    "                   columns=['D', 'E', 'F', 'G'])\n",
    "\n",
    "- multiíndice ou índice hierárquico (Panels)\n",
    "\n",
    " - de matrizes\n",
    "         \n",
    "         m_idx = pd.MultiIndex.from_arrays([['Py', 'Py', 'Rb', 'Rb'],\n",
    "                                            ['Speed, 'Lines', 'Speed', 'Lines']]\n",
    "                                            names=['Lang', 'Cat'])\n",
    "                                    \n",
    "         pd.Series([8, 2, 3, 4], index=m_idx)\n",
    "\n",
    " - de tuplas\n",
    " \n",
    "        m_idx = pd.MultiIndex.from_tuples([('Py', 'Speed'),\n",
    "                                           ('Py', 'Lines'),\n",
    "                                           ('Rb', 'Speed'),\n",
    "                                           ('Rb', 'Lines'),\n",
    "                                           names=['lang', 'Cat')])\n",
    "                                           \n",
    " - de construtor de séries\n",
    " \n",
    "        ser = pd.Series([8, 2, 3, 4],\n",
    "                        index=[['Py', 'Py', 'Rb', 'Rb'],\n",
    "                               ['Speed', 'Lines', 'Speed', 'Lines']])\n",
    "        \n",
    "        ser.index.names=['Lang', 'Cat']\n",
    "        \n",
    "- merge lateral\n",
    "\n",
    " - na mesma coluna\n",
    "    \n",
    "        pd.merge(df1, df2)\n",
    "        \n",
    " - em colunas diferentes\n",
    " \n",
    "        pd.merge(df1, df2, left_on='X', right_on='Y')\n",
    "        \n",
    " - na coluna de índice\n",
    "     \n",
    "        pd.merge(df1, df2, left_index=True, right_index=True)\n",
    "        \n",
    " - em índice e coluna\n",
    " \n",
    "        pd.merge(df1, df2, left_index=True, right_on='Y')\n",
    " \n",
    " - com relacionamento\n",
    " \n",
    "        pd.merge(df1, df2, how='left')\n",
    " \n",
    "- join (lista de dataframes)\n",
    "\n",
    "       df1.join([df2, df3])\n",
    "       \n",
    " - variante simples\n",
    "\n",
    "        df.join(df2, rsuffix='_right')\n",
    "        \n",
    "- concat (colar coisas em topo - tipo Union)\n",
    "\n",
    "        df.concat([df1, df2])    axis=0 (padrão)\n",
    "        \n",
    " - com multiíndice\n",
    "         \n",
    "        pd.concat([df1, df2], keys=['X', 'Y'])\n",
    "\n",
    " - em colunas \n",
    "     \n",
    "        pd.concat([df1, df2], axis=1)\n",
    "\n",
    " *Obs: fillna(0) não irá funcionar, pois colunas são únicas!*\n",
    " \n",
    " - idem, com multiíndice\n",
    " \n",
    "        pd.concat([df1, df2], axis=1, keys=['X', 'Y'], names=['Test', 'Version'])\n",
    "        \n",
    "- seleção\n",
    "\n",
    "        df[ col ]\n",
    "       \n",
    "        df.ix[ lin ]\n",
    "        df.ix[:, col]\n",
    "        df.ix[lin, col]\n",
    "       \n",
    "        df.xs(rótulo)\n",
    "       \n",
    "        df.loc[]\n",
    "       \n",
    "        df.iloc[]\n",
    "\n",
    " - no tronco\n",
    " \n",
    "        df.ix['Py']\n",
    "       \n",
    " - nas folhas (fatias cruzadas)\n",
    " \n",
    "        df.xs('Speed', level='Cat')\n",
    "\n",
    "        df.xs('Speed', level=1)\n",
    "       \n",
    " - por coluna\n",
    " \n",
    "        df.xs('T2', level='Test\", axis=1)\n",
    "        \n",
    "        df.xs('T2', level=1, axis=1)\n",
    "        \n",
    " - eliminar apenas a primeira folha, a partir de um tronco\n",
    "\n",
    "        df['Tue'].ix[1:]\n",
    "        \n",
    "        df['Tue'].ix['T2':]\n",
    "        \n",
    "- stack, unstack (muda a ordem do índice)\n",
    "\n",
    " - stack() roda no sentido horário\n",
    " \n",
    " - unstack(roda) no sentido anti-horário\n",
    " \n",
    " - flip\n",
    " \n",
    "        df.stack().unstack(0)\n",
    "        \n",
    "        df.unstack().unstack()\n",
    "        \n",
    "        "
   ]
  },
  {
   "cell_type": "markdown",
   "metadata": {},
   "source": [
    "### Florestas aleatórias em Python [aqui](https://www.youtube.com/watch?v=E7VLE-U07x0)\n",
    "\n",
    "---\n"
   ]
  },
  {
   "cell_type": "markdown",
   "metadata": {},
   "source": [
    "### Duas Noções de probabilidade [aqui em 47'](https://www.youtube.com/watch?v=8FHBh_OmdsM)\n",
    "\n",
    "---\n",
    "\n",
    "- baseada no número de tentativas (frequentist)\n",
    "\n",
    "- quantificação da incerteza (Bayesiana)\n",
    "\n",
    " - variáveis transitivas e não transitivas"
   ]
  },
  {
   "cell_type": "markdown",
   "metadata": {},
   "source": [
    "### Orientação a Objeto em Python\n",
    "\n",
    "---\n",
    "\n",
    "#### Polimorfismo [aqui](https://www.youtube.com/watch?v=wksc1pfhJ5Q)\n",
    "\n",
    "**Não** sabe a classe da qual ele foi instanciado\n",
    "\n",
    "**Sabe** que o método irá lidar adequadamente com o que foi requerido pelo usuário\n",
    "\n",
    "Nos permite o comportamento adequado mesmo que estejamos lidando com formas diferentes em cada caso\n",
    "\n",
    "Uma estratégia para implementar é **sobrescrever** o método herdado da superclasse"
   ]
  },
  {
   "cell_type": "code",
   "execution_count": 11,
   "metadata": {},
   "outputs": [],
   "source": [
    "class Animal:\n",
    "    def __init__(self, name=''):\n",
    "        self.name = name\n",
    "    def talk(self):\n",
    "        pass\n",
    "    \n",
    "class Cat(Animal):\n",
    "    def __init__(self, name=''):\n",
    "        super().__init__(name)\n",
    "    def talk(self):\n",
    "        print (self.name, \"says, Meow!\")\n",
    "\n",
    "class Dog(Animal):\n",
    "    def __init__(self, name=''):\n",
    "        super().__init__(name)\n",
    "    def talk(self):\n",
    "        print (self.name, \"says, Woof!\")"
   ]
  },
  {
   "cell_type": "code",
   "execution_count": 12,
   "metadata": {},
   "outputs": [],
   "source": [
    "a = Animal()\n",
    "a.talk()"
   ]
  },
  {
   "cell_type": "code",
   "execution_count": 13,
   "metadata": {},
   "outputs": [
    {
     "name": "stdout",
     "output_type": "stream",
     "text": [
      "Issy says, Meow!\n"
     ]
    }
   ],
   "source": [
    "c = Cat(\"Issy\")\n",
    "c.talk()"
   ]
  },
  {
   "cell_type": "code",
   "execution_count": 14,
   "metadata": {},
   "outputs": [
    {
     "name": "stdout",
     "output_type": "stream",
     "text": [
      "Rocky says, Woof!\n"
     ]
    }
   ],
   "source": [
    "d = Dog(\"Rocky\")\n",
    "d.talk()"
   ]
  },
  {
   "cell_type": "code",
   "execution_count": 15,
   "metadata": {},
   "outputs": [
    {
     "name": "stdout",
     "output_type": "stream",
     "text": [
      "a.talk()\n"
     ]
    },
    {
     "data": {
      "text/plain": [
       "'a.talk()'"
      ]
     },
     "execution_count": 15,
     "metadata": {},
     "output_type": "execute_result"
    }
   ],
   "source": [
    "input()"
   ]
  },
  {
   "cell_type": "markdown",
   "metadata": {},
   "source": [
    "---\n",
    "\n",
    "O que faz o **Super()** [aqui](https://rhettinger.wordpress.com/2011/05/26/super-considered-super/)\n",
    "\n",
    "Ele serve pra que a classe derivada se refira explicitamente à classe base"
   ]
  },
  {
   "cell_type": "code",
   "execution_count": 3,
   "metadata": {},
   "outputs": [
    {
     "name": "stdout",
     "output_type": "stream",
     "text": [
      "Construindo a classe Derivada\n"
     ]
    }
   ],
   "source": [
    "class Base(object):\n",
    "    def __init__(self):\n",
    "        print ('Construindo a classe Base')\n",
    "        \n",
    "class Derivada(Base):\n",
    "    def __init__(self):\n",
    "        print ('Construindo a classe Derivada')\n",
    "\n",
    "x = Derivada()"
   ]
  },
  {
   "cell_type": "markdown",
   "metadata": {},
   "source": [
    "Chamando através da classe **Base**"
   ]
  },
  {
   "cell_type": "code",
   "execution_count": 23,
   "metadata": {},
   "outputs": [
    {
     "name": "stdout",
     "output_type": "stream",
     "text": [
      "Construindo a classe Base\n",
      "Construindo a classe Derivada\n"
     ]
    }
   ],
   "source": [
    "class Derivada(Base):\n",
    "    def __init__(self): #o método construtor\n",
    "        Base.__init__(self)\n",
    "        print ('Construindo a classe Derivada')\n",
    "\n",
    "x = Derivada()"
   ]
  },
  {
   "cell_type": "markdown",
   "metadata": {},
   "source": [
    "Chamando através do método **Super()**"
   ]
  },
  {
   "cell_type": "code",
   "execution_count": 25,
   "metadata": {},
   "outputs": [
    {
     "name": "stdout",
     "output_type": "stream",
     "text": [
      "Construindo a classe Base\n",
      "Construindo a classe Derivada\n"
     ]
    }
   ],
   "source": [
    "class Derivada(Base):\n",
    "    def __init__(self):\n",
    "        super().__init__()\n",
    "        print ('Construindo a classe Derivada')\n",
    "\n",
    "x = Derivada()"
   ]
  },
  {
   "cell_type": "markdown",
   "metadata": {},
   "source": [
    "---\n",
    "\n",
    "Se esses dois exemplos acima dão o mesmo resultado, por que então é recomendável usar super()?\n",
    "\n",
    "Bom, existe um princípio básico em programação que é o de utilizar o próprio sistema para mapear a si. Não se deve fornecer caminhos, a menos que isso seja extritamente necessário. Por que?\n",
    "\n",
    "1- O ser humano erra muito. Então se eu aponto que Base é minha superclasse, mas de fato ela não é... na verdade era Fase e eu me confundi... encontrar o erro é uma tarefa maligna. Na maioria das vezes, **corrigir** é fácil... mas **saber** que o sistema tem um erro, depois tentar **reproduzí-lo**, **localizá-lo** ou **isolá-lo**... tudo isso normalmente é terrivel. Não queira passar por isso!\n",
    "\n",
    "2- Universalizar. Isso é um desafio geral em Epistemologia e em especial em programação. Bom, se eu não indico nada, depois eu posso mudar tudo o que vem acima e não terei problemas. Suponha que eu tenha várias equipes de desenvolvimento. Suponha que eu tenha várias versões da mesma coisa sendo testadas simultaneamente e nem todas elas estão redondas... suponha que essas equipes estejam trabalhando em estados diferentes. Então alguns usam como padrão algo com prefixos padronizados como **SuperTaleTal** outras se acostumaram a nomes curtos como **Base**... eu nunca vou poder pegar os meus objetos e trabalhar com confiança em classes diferentes, eles talvez estejam chamando uma outra classe que não está mais no meu sistema..."
   ]
  },
  {
   "cell_type": "code",
   "execution_count": 26,
   "metadata": {},
   "outputs": [],
   "source": [
    "class Derivada(Base):\n",
    "    def foo(self, arg): pass\n",
    "    def bar(self, arg):\n",
    "        super().foo(arg) # Chama o método foo de Base, não de si própria"
   ]
  },
  {
   "cell_type": "code",
   "execution_count": 27,
   "metadata": {},
   "outputs": [],
   "source": [
    "class LoggingDict(dict):\n",
    "    def __setitem__(self, key, value):\n",
    "        logging.info('Setting %r to %r' % (key, value))\n",
    "        super().__setitem__(key, value)"
   ]
  },
  {
   "cell_type": "code",
   "execution_count": null,
   "metadata": {},
   "outputs": [],
   "source": [
    "class LoggingDict(MeuDict):"
   ]
  },
  {
   "cell_type": "markdown",
   "metadata": {},
   "source": [
    "Se eu usar\n",
    "    \n",
    "    Employee.raise_amount\n",
    "    \n",
    "eu obrigo o índice de cálculo de vir da minha classe Employee\n",
    "\n",
    "Agora se eu usar\n",
    "\n",
    "    self.raise_amount\n",
    "    \n",
    "eu digo que o índice de cálculo, se não foi definido localmente, será o herdado!\n",
    "\n",
    "*Obs: **seria**, pois não foi isso que ocorreu!*"
   ]
  },
  {
   "cell_type": "code",
   "execution_count": 90,
   "metadata": {},
   "outputs": [],
   "source": [
    "class Employee:\n",
    "    num_of_emps = 0\n",
    "    raise_amount = 1.04\n",
    "    \n",
    "    def __init__(self, first, last, pay): #roda toda vez que criamos um novo empregado\n",
    "        self.first = first\n",
    "        self.last = last\n",
    "        self.pay = pay\n",
    "        self.email = first + '.' + last + '@fool.com'\n",
    "        Employee.num_of_emps += 1\n",
    "        \n",
    "    def fullname(self):\n",
    "        return '{} {}'.format(self.first, self.last)\n",
    "    \n",
    "    def apply_raise(self):\n",
    "        self.pay = int(self.pay * self.raise_amount) #Employee.raise_amount\n",
    "        \n",
    "    @classmethod\n",
    "    def set_raise_amt(cls, amount):\n",
    "        cls.raise_amt = amount\n",
    "        \n",
    "    @classmethod #construtor alternativo\n",
    "    def from_string(cls, emp_str):\n",
    "        first, last, pay = emp_str.split('-')\n",
    "        return cls(first, last, pay) #cria o novo empregado\n",
    "    \n",
    "    @staticmethod\n",
    "    def is_workday(day):\n",
    "        if day.weekday() == 5 or day.weekday() == 6:\n",
    "            return False\n",
    "        return True"
   ]
  },
  {
   "cell_type": "code",
   "execution_count": 73,
   "metadata": {},
   "outputs": [],
   "source": [
    "emp_1 = Employee('Corey', 'Schafer', 5000)\n",
    "emp_2 = Employee('Test', 'User', 6000)"
   ]
  },
  {
   "cell_type": "code",
   "execution_count": 11,
   "metadata": {},
   "outputs": [
    {
     "data": {
      "text/plain": [
       "'Corey Schafer'"
      ]
     },
     "execution_count": 11,
     "metadata": {},
     "output_type": "execute_result"
    }
   ],
   "source": [
    "emp_1.fullname() #sem os parênteses ele imprime o objeto e não a chamada do método!"
   ]
  },
  {
   "cell_type": "code",
   "execution_count": 14,
   "metadata": {},
   "outputs": [
    {
     "data": {
      "text/plain": [
       "'Corey Schafer'"
      ]
     },
     "execution_count": 14,
     "metadata": {},
     "output_type": "execute_result"
    }
   ],
   "source": [
    "Employee.fullname(emp_1)"
   ]
  },
  {
   "cell_type": "code",
   "execution_count": 33,
   "metadata": {},
   "outputs": [
    {
     "data": {
      "text/plain": [
       "5200"
      ]
     },
     "execution_count": 33,
     "metadata": {},
     "output_type": "execute_result"
    }
   ],
   "source": [
    "emp_1.apply_raise()\n",
    "emp_1.pay"
   ]
  },
  {
   "cell_type": "markdown",
   "metadata": {},
   "source": [
    "Um **atributo** pode ser herdado da classe ou estar definido no próprio objeto:"
   ]
  },
  {
   "cell_type": "code",
   "execution_count": 51,
   "metadata": {},
   "outputs": [
    {
     "name": "stdout",
     "output_type": "stream",
     "text": [
      "1.04\n",
      "1.04\n",
      "1.04\n"
     ]
    }
   ],
   "source": [
    "print(Employee.raise_amount)\n",
    "print(emp_1.raise_amount)\n",
    "print(emp_2.raise_amount)"
   ]
  },
  {
   "cell_type": "markdown",
   "metadata": {},
   "source": [
    "Espaço de nomes de um objeto:"
   ]
  },
  {
   "cell_type": "code",
   "execution_count": 52,
   "metadata": {},
   "outputs": [
    {
     "name": "stdout",
     "output_type": "stream",
     "text": [
      "{'first': 'Corey', 'last': 'Schafer', 'pay': 5000, 'email': 'Corey.Schafer@fool.com'}\n"
     ]
    }
   ],
   "source": [
    "emp_1.__dict__"
   ]
  },
  {
   "cell_type": "code",
   "execution_count": 53,
   "metadata": {},
   "outputs": [
    {
     "name": "stdout",
     "output_type": "stream",
     "text": [
      "{'__module__': '__main__', 'raise_amount': 1.04, '__init__': <function Employee.__init__ at 0x0000020C81F5D2F0>, 'fullname': <function Employee.fullname at 0x0000020C81F5DF28>, 'apply_raise': <function Employee.apply_raise at 0x0000020C81F88268>, '__dict__': <attribute '__dict__' of 'Employee' objects>, '__weakref__': <attribute '__weakref__' of 'Employee' objects>, '__doc__': None}\n"
     ]
    }
   ],
   "source": [
    "Employee.__dict__"
   ]
  },
  {
   "cell_type": "markdown",
   "metadata": {},
   "source": [
    "Atributo definido localmente:"
   ]
  },
  {
   "cell_type": "code",
   "execution_count": 54,
   "metadata": {},
   "outputs": [
    {
     "name": "stdout",
     "output_type": "stream",
     "text": [
      "1.04\n",
      "1.05\n",
      "1.04\n"
     ]
    }
   ],
   "source": [
    "emp_1.raise_amount = 1.05\n",
    "print(Employee.raise_amount)\n",
    "print(emp_1.raise_amount)\n",
    "print(emp_2.raise_amount)"
   ]
  },
  {
   "cell_type": "code",
   "execution_count": 55,
   "metadata": {},
   "outputs": [
    {
     "name": "stdout",
     "output_type": "stream",
     "text": [
      "{'first': 'Corey', 'last': 'Schafer', 'pay': 5000, 'email': 'Corey.Schafer@fool.com', 'raise_amount': 1.05}\n"
     ]
    }
   ],
   "source": [
    "emp_1.__dict__"
   ]
  },
  {
   "cell_type": "code",
   "execution_count": 61,
   "metadata": {},
   "outputs": [
    {
     "data": {
      "text/plain": [
       "2"
      ]
     },
     "execution_count": 61,
     "metadata": {},
     "output_type": "execute_result"
    }
   ],
   "source": [
    "Employee.num_of_emps"
   ]
  },
  {
   "cell_type": "markdown",
   "metadata": {},
   "source": [
    "#### Métodos de Classe\n",
    "\n",
    "---"
   ]
  },
  {
   "cell_type": "code",
   "execution_count": 74,
   "metadata": {},
   "outputs": [
    {
     "name": "stdout",
     "output_type": "stream",
     "text": [
      "1.04\n",
      "1.04\n",
      "1.04\n"
     ]
    }
   ],
   "source": [
    "Employee.set_raise_amt(1.05)\n",
    "emp_1.set_raise_amt(1.05)\n",
    "print(Employee.raise_amount)\n",
    "print(emp_1.raise_amount)\n",
    "print(emp_2.raise_amount)"
   ]
  },
  {
   "cell_type": "markdown",
   "metadata": {},
   "source": [
    "#### Métodos de Classe como construtores alternativos\n",
    "\n",
    "---\n",
    "\n",
    "*Para casos de uso específicos*"
   ]
  },
  {
   "cell_type": "code",
   "execution_count": 78,
   "metadata": {},
   "outputs": [],
   "source": [
    "emp_str_1 = 'Hohn-Doe-7000'\n",
    "emp_str_2 = 'Steve-Smith-3000'\n",
    "emp_str_3 = 'Jane-Doe-9000'"
   ]
  },
  {
   "cell_type": "markdown",
   "metadata": {},
   "source": [
    "Eu quero fazer algo deste tipo, mas dentro da minha própria classe:"
   ]
  },
  {
   "cell_type": "code",
   "execution_count": null,
   "metadata": {},
   "outputs": [],
   "source": [
    "first, last, pay = emp_str_1.split('-')\n",
    "new_emp_1 = Employee(first, last, pay)"
   ]
  },
  {
   "cell_type": "code",
   "execution_count": 83,
   "metadata": {},
   "outputs": [
    {
     "data": {
      "text/plain": [
       "'Hohn Doe'"
      ]
     },
     "execution_count": 83,
     "metadata": {},
     "output_type": "execute_result"
    }
   ],
   "source": [
    "new_emp_1 = Employee.from_string(emp_str_1)\n",
    "new_emp_1.fullname()"
   ]
  },
  {
   "cell_type": "markdown",
   "metadata": {},
   "source": [
    "#### Métodos Estáticos\n",
    "\n",
    "---\n",
    "\n",
    "Métodos de instância normalmente passam o argumento **self** em seu início\n",
    "\n",
    "Métodos de classe passam o argumento **cls** no início\n",
    "\n",
    "Métodos estáticos não passam **nada** (operam simplesmente como uma função!) "
   ]
  },
  {
   "cell_type": "code",
   "execution_count": 91,
   "metadata": {},
   "outputs": [
    {
     "data": {
      "text/plain": [
       "False"
      ]
     },
     "execution_count": 91,
     "metadata": {},
     "output_type": "execute_result"
    }
   ],
   "source": [
    "import datetime\n",
    "my_date = datetime.date(2016, 7, 10)\n",
    "Employee.is_workday(my_date)"
   ]
  },
  {
   "cell_type": "markdown",
   "metadata": {},
   "source": [
    "#### Herança\n",
    "\n",
    "---\n",
    "\n",
    "Python busca na cadeia de heranças até encontrar o que foi chamado"
   ]
  },
  {
   "cell_type": "code",
   "execution_count": 103,
   "metadata": {},
   "outputs": [],
   "source": [
    "class Developer(Employee):\n",
    "    raise_amt = 1.10\n",
    "    \n",
    "    def __init__(self, first, last, pay, prog_lang):\n",
    "        super().__init__(first, last, pay) #Employee.__init__(self, first, last, pay)\n",
    "        self.prog_lang = prog_lang"
   ]
  },
  {
   "cell_type": "code",
   "execution_count": null,
   "metadata": {},
   "outputs": [],
   "source": [
    "class Manager(Employee):\n",
    "    \n",
    "    def __init__(self, first, last, pay, employees=None): #nunca passe dtype mutável como argumento!\n",
    "        super().__init__(first, last, pay)\n",
    "        if employees is None:\n",
    "            self.employees = []\n",
    "        else:\n",
    "            self.employees = employees\n",
    "            \n",
    "    def add_emp(self, emp):\n",
    "        if emp not in self.employees:\n",
    "            self.employees.append(emp)\n",
    "            \n",
    "    def remove_emp(self, emp):\n",
    "        if emp in self.employees:\n",
    "            self.employees.remove(emp)\n",
    "    \n",
    "    def print_emps(self):\n",
    "        for emp in self.employees:\n",
    "            print('-->', emp.fullname())"
   ]
  },
  {
   "cell_type": "code",
   "execution_count": 104,
   "metadata": {},
   "outputs": [
    {
     "data": {
      "text/plain": [
       "'John Smith'"
      ]
     },
     "execution_count": 104,
     "metadata": {},
     "output_type": "execute_result"
    }
   ],
   "source": [
    "dev_1 = Developer('John', 'Smith', 5000, 'Python')\n",
    "dev_2 = Developer('Test', 'User', 6000, 'Java')\n",
    "mgr_1 = Manager('Sue', 'Smith', 9000, [dev_1])\n",
    "\n",
    "print(dev_1.fullname())\n",
    "print (mgr_1.email)\n",
    "mgr_1.print_emps()"
   ]
  },
  {
   "cell_type": "code",
   "execution_count": null,
   "metadata": {},
   "outputs": [],
   "source": [
    "mgr_1.add_emp(dev_2)\n",
    "mgr_1.print_emps()"
   ]
  },
  {
   "cell_type": "code",
   "execution_count": null,
   "metadata": {},
   "outputs": [],
   "source": [
    "mgr_1.remove_emp(dev_1)\n",
    "mgr_1.print_emps()"
   ]
  },
  {
   "cell_type": "markdown",
   "metadata": {},
   "source": [
    "Para saber se um objeto é uma instância de uma classe:"
   ]
  },
  {
   "cell_type": "code",
   "execution_count": null,
   "metadata": {},
   "outputs": [],
   "source": [
    "isinstance(mgr_1, Manager)"
   ]
  },
  {
   "cell_type": "code",
   "execution_count": null,
   "metadata": {},
   "outputs": [],
   "source": [
    "@implements_to_string #exceptions.py\n",
    "class HHTTPException(Exception):"
   ]
  },
  {
   "cell_type": "code",
   "execution_count": null,
   "metadata": {},
   "outputs": [],
   "source": [
    "help(Developer)"
   ]
  },
  {
   "cell_type": "markdown",
   "metadata": {},
   "source": [
    " Pesquisar o que é:\n",
    " \n",
    "     __weakref__"
   ]
  },
  {
   "cell_type": "code",
   "execution_count": 105,
   "metadata": {},
   "outputs": [
    {
     "name": "stdout",
     "output_type": "stream",
     "text": [
      "51\n"
     ]
    },
    {
     "data": {
      "text/plain": [
       "53"
      ]
     },
     "execution_count": 105,
     "metadata": {},
     "output_type": "execute_result"
    }
   ],
   "source": [
    "print(dev_1.pay)\n",
    "dev_1.apply_raise()\n",
    "dev_1.pay"
   ]
  },
  {
   "cell_type": "markdown",
   "metadata": {},
   "source": [
    "#### Métodos Especiais\n",
    "\n",
    "---\n",
    "\n",
    "Magic\n",
    "\n",
    "Dunder\n",
    "\n",
    "    __init__\n",
    "    \n",
    "Para debugagem e logar, eu preciso ter uma representação não ambígua do meu objeto:\n",
    "\n",
    "    __repr__\n",
    "    \n",
    "Para mostrá-lo, eu posso querer uma representação mais bonitinha:\n",
    "\n",
    "    __str__\n",
    "    \n",
    "*sempre usá-los combinados, pois um serve de backup para o outro!*"
   ]
  },
  {
   "cell_type": "code",
   "execution_count": null,
   "metadata": {},
   "outputs": [],
   "source": [
    "def __repr__(self):\n",
    "    return \"Employee('{}', '{}', '{}')\".format(self.first, self.last, self.pay)\n",
    "\n",
    "def __str__(self):\n",
    "    return '{} - {}'.format(self.fullname(), self.email)\n",
    "\n",
    "def __add__(self):\n",
    "    return self.pay + other.pay\n",
    "\n",
    "def __len__(self):\n",
    "    return len(self.fullname())\n",
    "\n",
    "repr(emp_1)\n",
    "str(emp_1)\n",
    "print (emp_1 + emp_2)"
   ]
  },
  {
   "cell_type": "code",
   "execution_count": null,
   "metadata": {},
   "outputs": [],
   "source": [
    "print(emp_1)\n",
    "\n",
    "print(repr(emp_1))\n",
    "print(str(emp_1))\n",
    "\n",
    "print(emp_1.__repr__())\n",
    "print(emp_1.__str__())"
   ]
  },
  {
   "cell_type": "code",
   "execution_count": 106,
   "metadata": {},
   "outputs": [
    {
     "name": "stdout",
     "output_type": "stream",
     "text": [
      "3\n"
     ]
    }
   ],
   "source": [
    "print(int.__add__(1, 2))"
   ]
  },
  {
   "cell_type": "code",
   "execution_count": 107,
   "metadata": {},
   "outputs": [
    {
     "name": "stdout",
     "output_type": "stream",
     "text": [
      "ab\n"
     ]
    }
   ],
   "source": [
    "print(str.__add__('a', 'b'))"
   ]
  },
  {
   "cell_type": "code",
   "execution_count": 108,
   "metadata": {},
   "outputs": [
    {
     "name": "stdout",
     "output_type": "stream",
     "text": [
      "4\n"
     ]
    }
   ],
   "source": [
    "print('test'.__len__())"
   ]
  },
  {
   "cell_type": "markdown",
   "metadata": {},
   "source": [
    "#### Decoradores de Propriedades\n",
    "\n",
    "---\n",
    "\n",
    "Getters, Setters, Deletters"
   ]
  },
  {
   "cell_type": "code",
   "execution_count": 13,
   "metadata": {},
   "outputs": [],
   "source": [
    "class Employee:\n",
    "    num_of_emps = 0\n",
    "    raise_amount = 1.04\n",
    "    \n",
    "    def __init__(self, first, last): #roda toda vez que criamos um novo empregado\n",
    "        self.first = first\n",
    "        self.last = last\n",
    "        #self.email = first + '.' + last + '@vultan.com' #problema: esse cara não atualiza!\n",
    "   \n",
    "    @property #acessado como um atributo email\n",
    "    def email(self):\n",
    "        return '{}.{}@vultan.com'.format(self.first, self.last)\n",
    "     \n",
    "    @property\n",
    "    def fullname(self): #se eu comentar o decorador, acessa como um método .fullname()\n",
    "        return '{} {}'.format(self.first, self.last)\n",
    "    \n",
    "    @fullname.setter\n",
    "    def fullname(self, name):\n",
    "        first, last = name.split(' ')\n",
    "        self.first = first\n",
    "        self.last = last\n",
    "        \n",
    "    @fullname.deleter\n",
    "    def fullname(self):\n",
    "        print('Delete Name!')\n",
    "        self.first = None\n",
    "        self.last = None"
   ]
  },
  {
   "cell_type": "code",
   "execution_count": 14,
   "metadata": {},
   "outputs": [
    {
     "name": "stdout",
     "output_type": "stream",
     "text": [
      "Corey\n",
      "Corey.Schafer@vultan.com\n",
      "Corey Schafer\n",
      "Delete Name!\n"
     ]
    }
   ],
   "source": [
    "emp_1 = Employee('John', 'Smith')\n",
    "#emp_1.first = 'Jim'\n",
    "\n",
    "emp_1.fullname = 'Corey Schafer'\n",
    "\n",
    "print(emp_1.first)\n",
    "print(emp_1.email)\n",
    "print(emp_1.fullname)\n",
    "\n",
    "del emp_1.fullname"
   ]
  },
  {
   "cell_type": "markdown",
   "metadata": {},
   "source": [
    "#### Geradores\n",
    "\n",
    "---"
   ]
  },
  {
   "cell_type": "code",
   "execution_count": 17,
   "metadata": {},
   "outputs": [
    {
     "name": "stdout",
     "output_type": "stream",
     "text": [
      "1\n",
      "4\n",
      "9\n",
      "16\n",
      "25\n"
     ]
    }
   ],
   "source": [
    "def square_numbers(nums):\n",
    "    for i in nums:\n",
    "        yield (i*i)\n",
    "        \n",
    "my_nums = square_numbers([1,2,3,4,5])\n",
    "\n",
    "#print next(my_nums)\n",
    "\n",
    "for num in my_nums:\n",
    "    print (num)"
   ]
  },
  {
   "cell_type": "markdown",
   "metadata": {},
   "source": [
    "#### Compreensão de listas e geradores\n",
    "\n",
    "---"
   ]
  },
  {
   "cell_type": "code",
   "execution_count": 15,
   "metadata": {},
   "outputs": [
    {
     "data": {
      "text/plain": [
       "[1, 4, 9, 16, 25]"
      ]
     },
     "execution_count": 15,
     "metadata": {},
     "output_type": "execute_result"
    }
   ],
   "source": [
    "my_nums = [x*x for x in [1,2,3,4,5]]\n",
    "my_nums"
   ]
  },
  {
   "cell_type": "code",
   "execution_count": 18,
   "metadata": {},
   "outputs": [
    {
     "data": {
      "text/plain": [
       "[1, 4, 9, 16, 25]"
      ]
     },
     "execution_count": 18,
     "metadata": {},
     "output_type": "execute_result"
    }
   ],
   "source": [
    "my_nums = (x*x for x in [1,2,3,4,5])\n",
    "list(my_nums)"
   ]
  },
  {
   "cell_type": "markdown",
   "metadata": {},
   "source": [
    "#### Geradores\n",
    "\n",
    "---\n",
    "\n",
    "*Descreve se o arquivo está rodando diretamente do python ou se está sendo importado*\n",
    "\n",
    "first_module.py"
   ]
  },
  {
   "cell_type": "code",
   "execution_count": 20,
   "metadata": {},
   "outputs": [],
   "source": [
    "def main():\n",
    "    pass\n",
    "\n",
    "if __name__ == '__main__':\n",
    "    main()"
   ]
  },
  {
   "cell_type": "code",
   "execution_count": 22,
   "metadata": {},
   "outputs": [
    {
     "name": "stdout",
     "output_type": "stream",
     "text": [
      "__main__\n"
     ]
    }
   ],
   "source": [
    "print (__name__)"
   ]
  },
  {
   "cell_type": "code",
   "execution_count": 26,
   "metadata": {},
   "outputs": [
    {
     "name": "stdout",
     "output_type": "stream",
     "text": [
      "First Module´s Name: __main__\n"
     ]
    }
   ],
   "source": [
    "print(\"First Module´s Name: {}\".format(__name__))"
   ]
  },
  {
   "cell_type": "markdown",
   "metadata": {},
   "source": [
    "---\n",
    "\n",
    "second_module.py"
   ]
  },
  {
   "cell_type": "code",
   "execution_count": null,
   "metadata": {},
   "outputs": [],
   "source": [
    "import first_module\n",
    "\n",
    "print (\"Second Module´s Name: {}\".format(__name__))"
   ]
  },
  {
   "cell_type": "markdown",
   "metadata": {},
   "source": [
    "    First Module´s Name: first_module\n",
    "\n",
    "    Second Module´s Name: __main__\n",
    "\n",
    "*Essa linha fora da função será rodada assim que o módulo for importado!*"
   ]
  },
  {
   "cell_type": "code",
   "execution_count": 27,
   "metadata": {},
   "outputs": [
    {
     "name": "stdout",
     "output_type": "stream",
     "text": [
      "This will always be run\n",
      "First Module´s Main Method\n"
     ]
    }
   ],
   "source": [
    "print ('This will always be run')\n",
    "\n",
    "def main():\n",
    "    print ('First Module´s Main Method')\n",
    "\n",
    "if __name__ == '__main__':\n",
    "    main()"
   ]
  },
  {
   "cell_type": "code",
   "execution_count": null,
   "metadata": {},
   "outputs": [],
   "source": [
    "import first_module as fm\n",
    "\n",
    "fm.main()"
   ]
  },
  {
   "cell_type": "markdown",
   "metadata": {},
   "source": [
    "#### Simplex [aqui](https://www.youtube.com/watch?v=7yZ5xxdkTb8)\n",
    "\n",
    "---\n",
    "\n",
    "- Variáveis de decisão\n",
    "\n",
    "- Função Objetivo\n",
    "\n",
    "- Constrições\n",
    "\n",
    "\n",
    "1. Solver\n",
    "\n",
    " - GLPK\n",
    "\n",
    " - COIN\n",
    "\n",
    " - CPLEX\n",
    "\n",
    " - GUROBI\n",
    "\n",
    "\n",
    "2. Modeling Framework\n",
    "\n",
    " - SciPy\n",
    "\n",
    " - PyOMO\n",
    "\n",
    " - PuLP"
   ]
  },
  {
   "cell_type": "markdown",
   "metadata": {},
   "source": [
    "#### Mindmap em LaTex [aqui](https://tex.stackexchange.com/questions/254706/draw-arrow-in-a-mind-map)\n",
    "\n",
    "---"
   ]
  },
  {
   "cell_type": "markdown",
   "metadata": {},
   "source": [
    "### PuLP\n",
    "\n",
    "---\n",
    "\n",
    "Programação Linear (PL) é um método para encontrar **máximos** ou **mínimos**. Tecnicamente, é a mesma coisa **maximizar o lucro** ou **minimizar as perdas** de um processo industrial. Escolhe-se aquela via que for mais intuitiva\n",
    "\n",
    "O modelo deve ser **linear**\n",
    "\n",
    "Elementos:\n",
    "    \n",
    "- uma **função objetivo**\n",
    "\n",
    "- algumas **variáveis de decisão** ou **variáveis de controle**\n",
    "\n",
    "- algumas **constrições**\n",
    "\n",
    "O número desses elementos não precisa ser exato. Não é necessário que se restrinjam à regra de solução da matriz de base por exemplo. No entanto, dependendo dos elementos colocados, o modelo **não será factível** ou **não apresentará solução**!\n",
    "\n",
    "Deixar um problema **muito frouxo** dificultará encontrar uma solução **aplicável**. O sistema é burro e se não houverem as constrições adequadas, ele irá otimizar uma cadeira por exemplo, usando **zero** parafusos! (construir uma cadeira apenas com encaixes é um trabalho de marcenaria verdadeiramente complexo, poucos mestres se dedicariam a uma causa dessas!)\n",
    "\n",
    "Deixar um problema **muito constrito** deixará o **espaço de decisão** muito pequeno. Então a função objetivo não irá explorar adequadamente o universo de soluções possíveis e corremos o risco de obter uma solução **subótima**. Um exemplo é restringir cadeiras a 4 pernas (as nossas de escritório atualmente possuem 5 ou 6 pernas!)\n",
    "\n",
    "Resolver o problema inverso ao modelo linear equivale a encontrar os **custos marginais** para cada um dos operadores. Isso me dá um indicador de quais as constrições que mais pegam. Então na maioria dos casos, isso também é legal de se fazer!\n",
    "\n",
    "Resolver um problema de otimização não quer dizer que o resultado seja aplicável. Coisas mal modeladas geram modelos fracos. Lixo na entrada, lixo na saída!"
   ]
  },
  {
   "cell_type": "markdown",
   "metadata": {},
   "source": [
    "#### Exemplo: Gepeto fabricante de mesas e cadeiras [aqui](https://www.youtube.com/watch?v=MmazMos4npE)\n",
    "\n",
    "#### Dados\n",
    "\n",
    "Objetivo: maximizar lucro semanal\n",
    "\n",
    "- obtém-se na venda $20 por cadeira\n",
    "\n",
    "- idem, $30 por mesa\n",
    "\n",
    "- uma cadeira requer \n",
    "\n",
    " - 1 hora de trabalho de acabamento\n",
    " \n",
    " - 2 horas de trabalho de carpintaria\n",
    " \n",
    "- uma mesa requer\n",
    " \n",
    " - 2 horas de trabalho de acabamento\n",
    " \n",
    " - 1 hora de trabalho de carpintaria\n",
    " \n",
    "- a fábrica comporta semanalmente\n",
    "\n",
    " - 100 horas de acabamento\n",
    " \n",
    " - 100 horas de carpintaria\n",
    "\n",
    "---\n",
    "\n",
    "#### Solução\n",
    "\n",
    "Seja:\n",
    "\n",
    "- x1 o número de cadeiras produzidas por semana\n",
    " \n",
    "- x2 o número de mesas produzidas por semana\n",
    " \n",
    "FO (OF):\n",
    "\n",
    "- max z= 20x1 + 30x2 (maximizar o lucro z, dada a venda de x1 unidades de cadeira e x2 unidades de mesa)\n",
    "\n",
    "r.a. (s.t.):\n",
    "\n",
    "- x1 + 2x2 <= 100 (horas disponíveis na unidade de acabamento)\n",
    "\n",
    "- 2x1 + x2 <= 100 (horas disponíveis na carpintaria)\n",
    "\n",
    "- x1 >= 0 (restrição de sinal - não faz sentido unidades negativas!)\n",
    "\n",
    "- x2 >= 0 (restrição de sinal)\n",
    "\n",
    "\n",
    "----\n",
    "\n",
    "PuLP usa solvers de LP (GLPK, COIN CLP/CBC, CPLEX, GUROBI)\n",
    "\n",
    "Para instalar PuLP\n",
    "\n",
    "    pip install pulp\n",
    "    \n",
    "    conda install -c conda-forge pulp"
   ]
  },
  {
   "cell_type": "code",
   "execution_count": 17,
   "metadata": {},
   "outputs": [],
   "source": [
    "from pulp import LpProblem as Lp\n",
    "from pulp import LpVariable as Lv\n",
    "from pulp import LpMaximize, LpStatus, value"
   ]
  },
  {
   "cell_type": "code",
   "execution_count": 20,
   "metadata": {},
   "outputs": [
    {
     "data": {
      "text/plain": [
       "gepetto:\n",
       "MAXIMIZE\n",
       "20*x1 + 30*x2 + 0\n",
       "SUBJECT TO\n",
       "_C1: x1 + 2 x2 <= 100\n",
       "\n",
       "_C2: 2 x1 + x2 <= 100\n",
       "\n",
       "VARIABLES\n",
       "x1 Continuous\n",
       "x2 Continuous"
      ]
     },
     "execution_count": 20,
     "metadata": {},
     "output_type": "execute_result"
    }
   ],
   "source": [
    "prob = Lp(\"gepetto\", LpMaximize) #cria o problema de maximização LP\n",
    "x1 = Lv('x1', lowBound=0) #cria a variável x1 > zero\n",
    "x2 = Lv('x2', lowBound=0) #cria a variável x2 > zero\n",
    "prob += 20*x1 + 30*x2 #função objetivo\n",
    "prob += 1*x1 + 2*x2 <= 100 #restrição horas acabamento\n",
    "prob += 2*x1 + 1*x2 <= 100 #restrição horas carpintaria\n",
    "prob"
   ]
  },
  {
   "cell_type": "code",
   "execution_count": 21,
   "metadata": {},
   "outputs": [
    {
     "data": {
      "text/plain": [
       "'Optimal'"
      ]
     },
     "execution_count": 21,
     "metadata": {},
     "output_type": "execute_result"
    }
   ],
   "source": [
    "status = prob.solve() #resolva com o solver padrão\n",
    "LpStatus[status] #mostre o status da solução"
   ]
  },
  {
   "cell_type": "code",
   "execution_count": 22,
   "metadata": {},
   "outputs": [
    {
     "data": {
      "text/plain": [
       "(33.333333, 33.333333, 1666.6666500000001)"
      ]
     },
     "execution_count": 22,
     "metadata": {},
     "output_type": "execute_result"
    }
   ],
   "source": [
    "value(x1), value(x2), value(prob.objective) #mostre a solução"
   ]
  },
  {
   "cell_type": "code",
   "execution_count": null,
   "metadata": {},
   "outputs": [],
   "source": [
    "%matplotlib notebook\n",
    "%run gepetto_feasible.py"
   ]
  },
  {
   "cell_type": "markdown",
   "metadata": {},
   "source": [
    "### Programação Inteira Linear - PIL (ILP)\n",
    "\n",
    "---\n",
    "\n",
    "x1: número de cadeiras produzidas por semana (inteiro)\n",
    "\n",
    "x2: número de mesas (inteiro)"
   ]
  },
  {
   "cell_type": "code",
   "execution_count": 24,
   "metadata": {},
   "outputs": [
    {
     "data": {
      "text/plain": [
       "gepetto2:\n",
       "MAXIMIZE\n",
       "20*x1 + 30*x2 + 0\n",
       "SUBJECT TO\n",
       "_C1: x1 + 2 x2 <= 100\n",
       "\n",
       "_C2: 2 x1 + x2 <= 100\n",
       "\n",
       "VARIABLES\n",
       "0 <= x1 Integer\n",
       "0 <= x2 Integer"
      ]
     },
     "execution_count": 24,
     "metadata": {},
     "output_type": "execute_result"
    }
   ],
   "source": [
    "prob = Lp(\"gepetto2\", LpMaximize) #cria o problema de maximização LP\n",
    "x1 = Lv('x1', lowBound=0, cat='Integer') #cria a variável x1 > zero\n",
    "x2 = Lv('x2', lowBound=0, cat='Integer') #cria a variável x2 > zero\n",
    "prob += 20*x1 + 30*x2 #função objetivo\n",
    "prob += 1*x1 + 2*x2 <= 100 #restrição horas acabamento\n",
    "prob += 2*x1 + 1*x2 <= 100 #restrição horas carpintaria\n",
    "prob"
   ]
  },
  {
   "cell_type": "code",
   "execution_count": 25,
   "metadata": {},
   "outputs": [
    {
     "data": {
      "text/plain": [
       "'Optimal'"
      ]
     },
     "execution_count": 25,
     "metadata": {},
     "output_type": "execute_result"
    }
   ],
   "source": [
    "status = prob.solve() #resolva com o solver padrão\n",
    "LpStatus[status] #mostre o status da solução"
   ]
  },
  {
   "cell_type": "markdown",
   "metadata": {},
   "source": [
    "*Observe: a solução inteira **não é** simplesmente um arredondamento da solução contínua! Ele agora encontrou uma solução baseada na construção de 32 cadeiras e 34 mesas*"
   ]
  },
  {
   "cell_type": "code",
   "execution_count": 26,
   "metadata": {},
   "outputs": [
    {
     "data": {
      "text/plain": [
       "(32.0, 34.0, 1660.0)"
      ]
     },
     "execution_count": 26,
     "metadata": {},
     "output_type": "execute_result"
    }
   ],
   "source": [
    "value(x1), value(x2), value(prob.objective) #mostre a solução"
   ]
  },
  {
   "cell_type": "markdown",
   "metadata": {},
   "source": [
    "### Classes do PuLP [aqui](https://pythonhosted.org/PuLP/pulp.html)\n",
    "\n",
    "---\n",
    "\n",
    "**.LpProblem(name='Bobos', sense=1)**\n",
    "\n",
    "- name - nome do problema\n",
    "\n",
    "- sense - objetivo do problema LpMinimize (padrão) ou LpMaximize\n",
    "\n",
    "**.LpElement(name)**\n",
    "\n",
    "**.LpVariable(name, lowBound=None, upBound=None, cat='Continous', e=None)**\n",
    "\n",
    "**.LpConstraints(e=None, sense=0, name=None, rhs=None)**\n",
    "\n",
    "**.FixedElasticSubProblem(constraint, penalty=None, proportionFreeBound=None, proportionFreeBoundList=None)\n",
    "\n",
    "**.combination(orgset, k=None)**\n",
    "\n",
    "**.allcombinations(orset, k)**\n",
    "\n",
    "**.permutation(orgset, k=None)**\n",
    "\n",
    "**.allpermutations(orgset, k)**\n",
    "\n",
    "**.value(x)**\n"
   ]
  },
  {
   "cell_type": "markdown",
   "metadata": {},
   "source": [
    "#### Outros tipos de conhecimentos importantes em Pesquisa Operacional (OR):\n",
    "\n",
    "---\n",
    "\n",
    "- Programação Linear e o Método SIMPLEX\n",
    "\n",
    "- Análise de Sensibilidade e Dualidade\n",
    "\n",
    "- Problemas de Transporte, Logística e Designação\n",
    "\n",
    "- Modelos em Rede\n",
    "\n",
    "- Programação Inteira\n",
    "\n",
    "- Programação Não Linear\n",
    "\n",
    "- Tomada de Decisões sob Incerteza\n",
    "\n",
    "- Teoria dos Jogos\n",
    "\n",
    "- Teoria dos Inventários\n",
    "\n",
    "- Cadeias de Markov\n",
    "\n",
    "- Programação Dinâmica\n",
    "\n",
    "- Teoria das Buscas\n",
    "\n",
    "- Programas para AMPL"
   ]
  },
  {
   "cell_type": "markdown",
   "metadata": {},
   "source": [
    "### Problema de Transporte com Programação Linear\n",
    "\n",
    "---\n",
    "\n"
   ]
  },
  {
   "cell_type": "markdown",
   "metadata": {},
   "source": []
  },
  {
   "cell_type": "markdown",
   "metadata": {},
   "source": [
    "### Logging no Python [aqui](https://www.youtube.com/watch?v=-ARI4Cz-awo)\n",
    "\n",
    "---\n",
    "\n",
    "Níveis:\n",
    "\n",
    "- DEBUG\n",
    "\n",
    "- INFO\n",
    "\n",
    "- WARNING <-padrão\n",
    "\n",
    "- ERROR\n",
    "\n",
    "- CRITICAL\n",
    "\n",
    "*Observe que se eu setar o nível para o mais baixo (DEBUG), eu passarei a pegar todos os tipos de mensagem, enquanto em ERROR, eu pegarei apenas as mensagens de ERROR e CRITICAL!*\n",
    "\n",
    "---\n",
    "\n",
    "*Observação: mudar a setagem do logging não funcionou muito bem! A primeira setagem pega, mas se eu tentar mudar o level, ele não foi reconfigurado!*\n",
    "\n",
    "O problema aqui é que eu estou trabalhando em nível **Root**. O Jupyter Notebook cria uma máquina virtual para cada célula tipo code. Então os códigos logo em seguida não irão funcionar muito bem:"
   ]
  },
  {
   "cell_type": "code",
   "execution_count": 58,
   "metadata": {},
   "outputs": [],
   "source": [
    "import logging\n",
    "logging.basicConfig(level=logging.INFO)"
   ]
  },
  {
   "cell_type": "markdown",
   "metadata": {},
   "source": [
    "Para gravar o arquivo de log:"
   ]
  },
  {
   "cell_type": "code",
   "execution_count": null,
   "metadata": {},
   "outputs": [],
   "source": [
    "logging.basicConfig(filename='test.log', level=logging.INFO)"
   ]
  },
  {
   "cell_type": "code",
   "execution_count": null,
   "metadata": {},
   "outputs": [],
   "source": [
    "dir(logging)"
   ]
  },
  {
   "cell_type": "code",
   "execution_count": null,
   "metadata": {},
   "outputs": [],
   "source": [
    "getattr(logging, WARN)"
   ]
  },
  {
   "cell_type": "markdown",
   "metadata": {},
   "source": [
    "Para setar os atributos de LogRecord:"
   ]
  },
  {
   "cell_type": "code",
   "execution_count": 59,
   "metadata": {},
   "outputs": [],
   "source": [
    "logging.basicConfig(format='%(asctime)s:%(levelname)s:%(message)s')"
   ]
  },
  {
   "cell_type": "code",
   "execution_count": 60,
   "metadata": {},
   "outputs": [],
   "source": [
    "def add(x, y):\n",
    "    '''Divide Function'''\n",
    "    return x + y\n",
    "\n",
    "def subtract(x, y):\n",
    "    '''Subtract Function'''\n",
    "    return x - y\n",
    "\n",
    "def multiply(x, y):\n",
    "    '''Multiply Function'''\n",
    "    return x * y\n",
    "\n",
    "def divide(x, y):\n",
    "    '''Divide Function'''\n",
    "    return x / y"
   ]
  },
  {
   "cell_type": "code",
   "execution_count": 61,
   "metadata": {},
   "outputs": [
    {
     "name": "stderr",
     "output_type": "stream",
     "text": [
      "DEBUG:root:Add: 10 + 5 = 15\n",
      "INFO:root:Subtract: 10 - 5 = 5\n",
      "WARNING:root:Multiply: 10 * 5 = 50\n",
      "CRITICAL:root:Divide: 10 / 5 = 2.0\n"
     ]
    }
   ],
   "source": [
    "num_1 = 10\n",
    "num_2 = 5\n",
    "\n",
    "add_result = add(num_1, num_2)\n",
    "logging.debug('Add: {} + {} = {}'.format(num_1, num_2, add_result))\n",
    "\n",
    "sub_result = subtract(num_1, num_2)\n",
    "logging.info('Subtract: {} - {} = {}'.format(num_1, num_2, sub_result))\n",
    "\n",
    "mul_result = multiply(num_1, num_2)\n",
    "logging.warning('Multiply: {} * {} = {}'.format(num_1, num_2, mul_result))\n",
    "\n",
    "div_result = divide(num_1, num_2)\n",
    "logging.critical('Divide: {} / {} = {}'.format(num_1, num_2, div_result))"
   ]
  },
  {
   "cell_type": "markdown",
   "metadata": {},
   "source": [
    "---\n",
    "\n",
    "#### A partir daqui os códigos voltam a funcionar adequadamente\n",
    "\n",
    "Antes eu estava apenas compatilhando o logger *root*. Agora eu adquiri um logger e setei os seus atributos. Observe que eu mudei as exibições de *logging* para *logger*!\n",
    "\n",
    "Mostrando na tela:"
   ]
  },
  {
   "cell_type": "code",
   "execution_count": 99,
   "metadata": {},
   "outputs": [
    {
     "name": "stdout",
     "output_type": "stream",
     "text": [
      "<Logger __main__ (DEBUG)>\n"
     ]
    }
   ],
   "source": [
    "import logging\n",
    "\n",
    "logger = logging.getLogger(__name__)\n",
    "logger.setLevel(logging.DEBUG)\n",
    "print(logger)\n",
    "\n",
    "formatter = logging.Formatter('%(asctime)s:%(levelname)s:%(message)s')\n",
    "file_handler.setFormatter(formatter)"
   ]
  },
  {
   "cell_type": "markdown",
   "metadata": {},
   "source": [
    "Gravando em arquivo:\n",
    "\n",
    "---\n",
    "\n",
    "*Observe que eu modifiquei o nível do meu logging apenas para a gravação em arquivo para (ERROR)!*"
   ]
  },
  {
   "cell_type": "code",
   "execution_count": 103,
   "metadata": {},
   "outputs": [
    {
     "name": "stdout",
     "output_type": "stream",
     "text": [
      "<Logger __main__ (DEBUG)>\n"
     ]
    }
   ],
   "source": [
    "import logging\n",
    "\n",
    "logger = logging.getLogger(__name__) #esse é o nome do módulo\n",
    "logger.setLevel(logging.DEBUG)\n",
    "print(logger)\n",
    "\n",
    "formatter = logging.Formatter('%(asctime)s:%(levelname)s:%(message)s')\n",
    "\n",
    "file_handler = logging.FileHandler('employee.log')\n",
    "file_handler.setLevel(logging.ERROR)\n",
    "file_handler.setFormatter(formatter)\n",
    "\n",
    "logger.addHandler(file_handler)"
   ]
  },
  {
   "cell_type": "markdown",
   "metadata": {},
   "source": [
    "Acrescentando um Streamhandler:\n",
    "\n",
    "---\n",
    "\n",
    "*Existem também logs rotativos e um bocado de outras funcionalidades! Olhar documentação do Python!*"
   ]
  },
  {
   "cell_type": "code",
   "execution_count": 105,
   "metadata": {},
   "outputs": [],
   "source": [
    "stream_handler = logging.StreamHandler()\n",
    "stream_handler.setFormatter(formatter)\n",
    "\n",
    "logger.addHandler(stream_handler)"
   ]
  },
  {
   "cell_type": "markdown",
   "metadata": {},
   "source": [
    "*Observe que eu incluí aqui um logger.exception! Sabe o que isso faz? Além da minha mensagem ERROR, ele também me traz o texto da excessão causada, o que facilita a debugagem*"
   ]
  },
  {
   "cell_type": "code",
   "execution_count": null,
   "metadata": {},
   "outputs": [],
   "source": [
    "def add(x, y):\n",
    "    '''Divide Function'''\n",
    "    return x + y\n",
    "\n",
    "def subtract(x, y):\n",
    "    '''Subtract Function'''\n",
    "    return x - y\n",
    "\n",
    "def multiply(x, y):\n",
    "    '''Multiply Function'''\n",
    "    return x * y\n",
    "\n",
    "def divide(x, y):\n",
    "    '''Divide Function'''\n",
    "    try:\n",
    "        result = x / y\n",
    "    except ZeroDivisionError:\n",
    "        logger.exception('Tried to divide by zero')\n",
    "    else:\n",
    "        return result\n",
    "\n",
    "num_1 = 10\n",
    "num_2 = 0\n",
    "\n",
    "add_result = add(num_1, num_2)\n",
    "logger.debug('Add: {} + {} = {}'.format(num_1, num_2, add_result))\n",
    "\n",
    "sub_result = subtract(num_1, num_2)\n",
    "logger.debug('Subtract: {} - {} = {}'.format(num_1, num_2, sub_result))\n",
    "\n",
    "mul_result = multiply(num_1, num_2)\n",
    "logger.debug('Multiply: {} * {} = {}'.format(num_1, num_2, mul_result))\n",
    "\n",
    "div_result = divide(num_1, num_2)\n",
    "logger.debug('Divide: {} / {} = {}'.format(num_1, num_2, div_result))"
   ]
  },
  {
   "cell_type": "markdown",
   "metadata": {},
   "source": [
    "Na classe eu posso ter a saída:\n",
    "\n",
    "    def __init__(self, first, last):\n",
    "        ...\n",
    "        logging.info('Created..."
   ]
  },
  {
   "cell_type": "markdown",
   "metadata": {},
   "source": [
    "### Exceções\n",
    "\n",
    "---\n",
    "\n",
    "Esqueleto:"
   ]
  },
  {
   "cell_type": "code",
   "execution_count": null,
   "metadata": {},
   "outputs": [],
   "source": [
    "try:\n",
    "    pass\n",
    "except Exception:\n",
    "    pass\n",
    "else:\n",
    "    pass\n",
    "finally:\n",
    "    pass"
   ]
  },
  {
   "cell_type": "markdown",
   "metadata": {},
   "source": [
    "Ao invés de cair matando na operação:"
   ]
  },
  {
   "cell_type": "code",
   "execution_count": null,
   "metadata": {},
   "outputs": [],
   "source": [
    "f= open('testfile.txt')"
   ]
  },
  {
   "cell_type": "markdown",
   "metadata": {},
   "source": [
    "Uma maneira de capturar a exceção certa:"
   ]
  },
  {
   "cell_type": "code",
   "execution_count": 127,
   "metadata": {},
   "outputs": [
    {
     "name": "stdout",
     "output_type": "stream",
     "text": [
      "An exception of type FileNotFoundError occurred. Arguments:\n",
      "(2, 'No such file or directory')\n"
     ]
    }
   ],
   "source": [
    "try:\n",
    "    f= open('testfile.txt')\n",
    "except Exception as e:\n",
    "    template = \"An exception of type {0} occurred. Arguments:\\n{1!r}\"\n",
    "    message = template.format(type(e).__name__, e.args)\n",
    "    print (message)"
   ]
  },
  {
   "cell_type": "markdown",
   "metadata": {},
   "source": [
    "A tentativa montada:"
   ]
  },
  {
   "cell_type": "code",
   "execution_count": null,
   "metadata": {},
   "outputs": [],
   "source": [
    "try:\n",
    "    f= open('testfile.txt')\n",
    "    var = bad_var\n",
    "except FileNotFoundError: #mais específicas primeiro\n",
    "    print('Sorry. This file does not exist')\n",
    "except Exception as e: #gerais depois\n",
    "    print(e) # 'Sorry. Something went wrong'"
   ]
  },
  {
   "cell_type": "markdown",
   "metadata": {},
   "source": [
    "Versão completa:"
   ]
  },
  {
   "cell_type": "code",
   "execution_count": 120,
   "metadata": {},
   "outputs": [
    {
     "name": "stdout",
     "output_type": "stream",
     "text": [
      "[Errno 2] No such file or directory: 'currupt_file.txt'\n",
      "Executing Finally...\n"
     ]
    }
   ],
   "source": [
    "try:\n",
    "    f= open('test_file.txt')\n",
    "    if f.name == 'currupt_file.txt':\n",
    "        raise Exception # causar exceção manualmente\n",
    "except FileNotFoundError as e:\n",
    "    print(e)\n",
    "except Exception as e:\n",
    "    print('Error!')\n",
    "else:\n",
    "    print(f.read()) # roda apenas se não houveram exceções!\n",
    "    f.close()\n",
    "finally: # roda, não interessa o que acontecer!\n",
    "    print('Executing Finally...')"
   ]
  },
  {
   "cell_type": "markdown",
   "metadata": {},
   "source": [
    "### Pythonizando\n",
    "\n",
    "---\n",
    "\n",
    "Duck Typing\n",
    "\n",
    "*Não importa qual o tipo desse objeto, o que importa é que o objeto faça o que lhe é pedido*"
   ]
  },
  {
   "cell_type": "code",
   "execution_count": 129,
   "metadata": {},
   "outputs": [],
   "source": [
    "class Duck:\n",
    "    \n",
    "    def quack(self):\n",
    "        print('Quack, quack')\n",
    "    \n",
    "    def fly(self):\n",
    "        print('Flap, Flap!')\n",
    "        \n",
    "class Person:\n",
    "    \n",
    "    def quack(self):\n",
    "        print(\"I'm Quacking Like a Duck!\")\n",
    "    \n",
    "    def fly(self):\n",
    "        print(\"I'm Flapping my Arms!\")     "
   ]
  },
  {
   "cell_type": "markdown",
   "metadata": {},
   "source": [
    "Not Duck-Typed (Non-Pythonic):"
   ]
  },
  {
   "cell_type": "code",
   "execution_count": 139,
   "metadata": {},
   "outputs": [],
   "source": [
    "def quack_and_fly(thing):\n",
    "    if isinstance(thing, Duck):\n",
    "        thing.quack()\n",
    "        thing.fly()\n",
    "    else:\n",
    "        print('This has to be a Duck!')\n",
    "        \n",
    "    print() "
   ]
  },
  {
   "cell_type": "markdown",
   "metadata": {},
   "source": [
    "Look before you leap - LBYL (non-Pythonic):"
   ]
  },
  {
   "cell_type": "code",
   "execution_count": 140,
   "metadata": {},
   "outputs": [],
   "source": [
    "def quack_and_fly(thing):\n",
    "    if hasattr(thing, 'quack'):\n",
    "        if callable(thing.quack()):\n",
    "            thing.quack()\n",
    "    if hasattr(thing, 'fly'):\n",
    "        if callable(thing.fly()):\n",
    "            thing.fly()\n",
    "        \n",
    "    print() "
   ]
  },
  {
   "cell_type": "markdown",
   "metadata": {},
   "source": [
    "#### Forma Pythônica de fazer as coisas\n",
    "\n",
    "---\n",
    "\n",
    "Easy Asking Forgiveness, not Permission - EAFP (Pythonic):"
   ]
  },
  {
   "cell_type": "code",
   "execution_count": 142,
   "metadata": {},
   "outputs": [],
   "source": [
    "def quack_and_fly(thing):\n",
    "    try:\n",
    "        thing.quack()\n",
    "        thing.fly()\n",
    "    except AttributeError as e:\n",
    "        print(e)\n",
    "    \n",
    "    print() "
   ]
  },
  {
   "cell_type": "code",
   "execution_count": 143,
   "metadata": {},
   "outputs": [
    {
     "name": "stdout",
     "output_type": "stream",
     "text": [
      "Quack, quack\n",
      "Flap, Flap!\n",
      "\n",
      "I'm Quacking Like a Duck!\n",
      "I'm Flapping my Arms!\n",
      "\n"
     ]
    }
   ],
   "source": [
    "d = Duck()\n",
    "quack_and_fly(d)\n",
    "\n",
    "p = Person()\n",
    "quack_and_fly(p)"
   ]
  },
  {
   "cell_type": "markdown",
   "metadata": {},
   "source": [
    "#### Boas razões para fazer as coisas da maneira Pythônica\n",
    "\n",
    "1. Atualidade - o objeto testado pode não estar disponível no instante seguinte. Suponha que você tenha testado um objeto muito mutável e deu tudo OK. Quando você for acessá-lo, seu sistema irá quebrar. Então toda a sua cautela foi inútil\n",
    "\n",
    "2. Economia computacional - quando primeiro eu testo o acesso e depois realizo a operação, eu fiz a conexão duas vezes. E às vezes ela é mais lenta do que a própia ação desejada\n",
    "\n",
    "3. Limpeza do código - eu preciso ler a linha de cima, tente tal e tal. Os métodos para lidar com erro não são tão necessários assim de serem lidos"
   ]
  },
  {
   "cell_type": "markdown",
   "metadata": {},
   "source": [
    "### Módulo OS [aqui](https://www.youtube.com/watch?v=tJxcKyFMTGo)\n",
    "\n",
    "---\n",
    "\n",
    "*Observe que as barras para pastas são no padrão Linux (barra normal)*"
   ]
  },
  {
   "cell_type": "code",
   "execution_count": 1,
   "metadata": {},
   "outputs": [],
   "source": [
    "import os"
   ]
  },
  {
   "cell_type": "code",
   "execution_count": null,
   "metadata": {},
   "outputs": [],
   "source": [
    "dir(os)"
   ]
  },
  {
   "cell_type": "code",
   "execution_count": 9,
   "metadata": {},
   "outputs": [
    {
     "data": {
      "text/plain": [
       "'C:\\\\pyprog\\\\NetBeansPython'"
      ]
     },
     "execution_count": 9,
     "metadata": {},
     "output_type": "execute_result"
    }
   ],
   "source": [
    "os.getcwd()"
   ]
  },
  {
   "cell_type": "code",
   "execution_count": 10,
   "metadata": {},
   "outputs": [
    {
     "data": {
      "text/plain": [
       "'C:\\\\pyprog\\\\NetBeansPython'"
      ]
     },
     "execution_count": 10,
     "metadata": {},
     "output_type": "execute_result"
    }
   ],
   "source": [
    "os.chdir('C:/pyprog/NetBeansPython')\n",
    "\n",
    "os.getcwd()"
   ]
  },
  {
   "cell_type": "code",
   "execution_count": 11,
   "metadata": {},
   "outputs": [
    {
     "data": {
      "text/plain": [
       "['DifferentialEquations',\n",
       " 'NetCrunch',\n",
       " 'NewPythonProject',\n",
       " 'NewPythonProject2',\n",
       " 'NewPythonProject3',\n",
       " 'Statistics',\n",
       " 'Test']"
      ]
     },
     "execution_count": 11,
     "metadata": {},
     "output_type": "execute_result"
    }
   ],
   "source": [
    "os.listdir()"
   ]
  },
  {
   "cell_type": "code",
   "execution_count": null,
   "metadata": {},
   "outputs": [],
   "source": [
    "os.mkdir('Test2')"
   ]
  },
  {
   "cell_type": "code",
   "execution_count": null,
   "metadata": {},
   "outputs": [],
   "source": [
    "os.rmdir('Test2')"
   ]
  },
  {
   "cell_type": "markdown",
   "metadata": {},
   "source": [
    "Este cria todos os diretórios intermediários, se o seu objetivo é um diretório profundo em uma árvore:"
   ]
  },
  {
   "cell_type": "code",
   "execution_count": null,
   "metadata": {},
   "outputs": [],
   "source": [
    "os.makedirs('Test2/Sub1')"
   ]
  },
  {
   "cell_type": "code",
   "execution_count": null,
   "metadata": {},
   "outputs": [],
   "source": [
    "os.removedirs('Test2/Sub1')"
   ]
  },
  {
   "cell_type": "code",
   "execution_count": null,
   "metadata": {},
   "outputs": [],
   "source": [
    "os.rename('test.txt', 'demo.txt')"
   ]
  },
  {
   "cell_type": "markdown",
   "metadata": {},
   "source": [
    "Tamanho do arquivo (Bytes), data da última alteração (st_mtime):"
   ]
  },
  {
   "cell_type": "code",
   "execution_count": null,
   "metadata": {},
   "outputs": [],
   "source": [
    "os.stat('demo.txt')"
   ]
  },
  {
   "cell_type": "code",
   "execution_count": null,
   "metadata": {},
   "outputs": [],
   "source": [
    "os.stat('demo.txt').st_size"
   ]
  },
  {
   "cell_type": "code",
   "execution_count": null,
   "metadata": {},
   "outputs": [],
   "source": [
    "os.stat('demo.txt').st_mtime"
   ]
  },
  {
   "cell_type": "markdown",
   "metadata": {},
   "source": [
    "Data em formato legível:"
   ]
  },
  {
   "cell_type": "code",
   "execution_count": null,
   "metadata": {},
   "outputs": [],
   "source": [
    "from datetime import datetime\n",
    "\n",
    "mod_time = os.stat('demo.txt').st_mtime\n",
    "datetime.fromtimestamp(mod_time)"
   ]
  },
  {
   "cell_type": "markdown",
   "metadata": {},
   "source": [
    "Retorna uma tupla de três valores:"
   ]
  },
  {
   "cell_type": "code",
   "execution_count": null,
   "metadata": {},
   "outputs": [],
   "source": [
    "for dirpath, dirnames, filenames in os.walk('C:/pyprog'):\n",
    "    print('Current Path:', dirpath)\n",
    "    print('Directories:', dirnames)\n",
    "    print('Files:', filenames)\n",
    "    print()"
   ]
  },
  {
   "cell_type": "markdown",
   "metadata": {},
   "source": [
    "#### Por causa do Jupyter, o uso do meu **HOME** não funciona:"
   ]
  },
  {
   "cell_type": "code",
   "execution_count": 20,
   "metadata": {},
   "outputs": [
    {
     "name": "stdout",
     "output_type": "stream",
     "text": [
      "None\n"
     ]
    }
   ],
   "source": [
    "os.chdir('C:/pyprog/NetBeansPython')\n",
    "print(os.environ.get('HOME'))"
   ]
  },
  {
   "cell_type": "markdown",
   "metadata": {},
   "source": [
    "Isso não é uma boa prática, pois às vezes as / ficarão faltando:"
   ]
  },
  {
   "cell_type": "code",
   "execution_count": null,
   "metadata": {},
   "outputs": [],
   "source": [
    "file_path = os.environ.get('HOME') + 'text.txt'"
   ]
  },
  {
   "cell_type": "markdown",
   "metadata": {},
   "source": [
    "Use o método adequado:"
   ]
  },
  {
   "cell_type": "markdown",
   "metadata": {},
   "source": [
    "file_path = os.path.join(os.environ.get('HOME'), 'text.txt')"
   ]
  },
  {
   "cell_type": "code",
   "execution_count": null,
   "metadata": {},
   "outputs": [],
   "source": [
    "with open(file_path, 'w') as f:\n",
    "    f.write()"
   ]
  },
  {
   "cell_type": "code",
   "execution_count": 24,
   "metadata": {},
   "outputs": [
    {
     "data": {
      "text/plain": [
       "'test.txt'"
      ]
     },
     "execution_count": 24,
     "metadata": {},
     "output_type": "execute_result"
    }
   ],
   "source": [
    "os.path.basename('/tmp/test.txt')"
   ]
  },
  {
   "cell_type": "code",
   "execution_count": 25,
   "metadata": {},
   "outputs": [
    {
     "data": {
      "text/plain": [
       "'/tmp'"
      ]
     },
     "execution_count": 25,
     "metadata": {},
     "output_type": "execute_result"
    }
   ],
   "source": [
    "os.path.dirname('/tmp/test.txt')"
   ]
  },
  {
   "cell_type": "code",
   "execution_count": 26,
   "metadata": {},
   "outputs": [
    {
     "data": {
      "text/plain": [
       "('/tmp', 'test.txt')"
      ]
     },
     "execution_count": 26,
     "metadata": {},
     "output_type": "execute_result"
    }
   ],
   "source": [
    "os.path.split('/tmp/test.txt')"
   ]
  },
  {
   "cell_type": "code",
   "execution_count": 27,
   "metadata": {},
   "outputs": [
    {
     "data": {
      "text/plain": [
       "False"
      ]
     },
     "execution_count": 27,
     "metadata": {},
     "output_type": "execute_result"
    }
   ],
   "source": [
    "os.path.exists('/tmp/test.txt')"
   ]
  },
  {
   "cell_type": "code",
   "execution_count": null,
   "metadata": {},
   "outputs": [],
   "source": [
    "os.path.isdir('/tmp/test.txt')"
   ]
  },
  {
   "cell_type": "code",
   "execution_count": null,
   "metadata": {},
   "outputs": [],
   "source": [
    "os.path.isfile('/tmp/test.txt')"
   ]
  },
  {
   "cell_type": "markdown",
   "metadata": {},
   "source": [
    "Separa a raiz da extensão:"
   ]
  },
  {
   "cell_type": "code",
   "execution_count": 30,
   "metadata": {},
   "outputs": [
    {
     "name": "stdout",
     "output_type": "stream",
     "text": [
      "/tmp/test\n",
      ".txt\n"
     ]
    }
   ],
   "source": [
    "a = os.path.splitext('/tmp/test.txt')\n",
    "print (a[0])\n",
    "print (a[1])"
   ]
  },
  {
   "cell_type": "code",
   "execution_count": null,
   "metadata": {},
   "outputs": [],
   "source": [
    "dir(os.path)"
   ]
  },
  {
   "cell_type": "markdown",
   "metadata": {},
   "source": [
    "### Lidar com Arquivos [aqui](https://www.youtube.com/watch?v=Uh2ebFW8OYM)\n",
    "\n",
    "---"
   ]
  },
  {
   "cell_type": "code",
   "execution_count": null,
   "metadata": {},
   "outputs": [],
   "source": [
    "f = open('test.txt', 'r') #o padrão é leitura: r+ a w\n",
    "f.name"
   ]
  },
  {
   "cell_type": "code",
   "execution_count": null,
   "metadata": {},
   "outputs": [],
   "source": [
    "f.mode"
   ]
  },
  {
   "cell_type": "markdown",
   "metadata": {},
   "source": [
    "Sempre fechar o arquivo depois de usar:"
   ]
  },
  {
   "cell_type": "code",
   "execution_count": null,
   "metadata": {},
   "outputs": [],
   "source": [
    "f.close()"
   ]
  },
  {
   "cell_type": "markdown",
   "metadata": {},
   "source": [
    "#### Com gerenciador de conteúdo\n",
    "\n",
    "---"
   ]
  },
  {
   "cell_type": "code",
   "execution_count": null,
   "metadata": {},
   "outputs": [],
   "source": [
    "with open('test.txt', 'r') as f:\n",
    "    f_contents = f.read()\n",
    "    f_contents = f.readlines() #retorna uma lista com as linhas do arquivo\n",
    "    f_contents = f.readline() #retorna a primeira linha do arquivo (cada vez uma nova linha)\n",
    "    print(f_contents)\n",
    "    \n",
    "    for line in f:\n",
    "        print (line, end='') #para não deixar um espaço em branco depois de cada linha lida\n",
    "    \n",
    "f.closed # agora retorna True (o arquivo é fechado após o bloco)"
   ]
  },
  {
   "cell_type": "code",
   "execution_count": null,
   "metadata": {},
   "outputs": [],
   "source": [
    "with open('test.txt', 'r') as f:\n",
    "    f_contents = f.read(100) #lê os primeiros 100 caracteres do arquivo\n",
    "    print(f_contents)"
   ]
  },
  {
   "cell_type": "markdown",
   "metadata": {},
   "source": [
    "Estratégia de fatiar o arquivo:"
   ]
  },
  {
   "cell_type": "code",
   "execution_count": null,
   "metadata": {},
   "outputs": [],
   "source": [
    "with open('test.txt', 'r') as f:\n",
    "    size_to_read = 100\n",
    "    \n",
    "    f_contents = f.read(size_to_read) #lê os primeiros 100 caracteres do arquivo\n",
    "    \n",
    "    while len(f_contents) > 0:\n",
    "        print(f_contents, end='')\n",
    "        f_contents = f.read(size_to_read)"
   ]
  },
  {
   "cell_type": "code",
   "execution_count": null,
   "metadata": {},
   "outputs": [],
   "source": [
    "with open('test.txt', 'r') as f:\n",
    "    size_to_read = 10\n",
    "    \n",
    "    f_contents = f.read(size_to_read)\n",
    "    print(f_contents, end='')\n",
    "    \n",
    "    f.seek(0) #reseta a posição no arquivo para zero, mas não apaga as posições subsequentes\n",
    "    \n",
    "    f_contents = f.read(size_to_read)\n",
    "    print(f_contents)    \n",
    "    \n",
    "    print(f.tell()) #me diz qual a posição que estou no arquivo"
   ]
  },
  {
   "cell_type": "markdown",
   "metadata": {},
   "source": [
    "Operações de escrita:\n",
    "\n",
    "*Cuidado para não sobrescrever arquivos, pois o sistema não pede confirmação!*"
   ]
  },
  {
   "cell_type": "code",
   "execution_count": null,
   "metadata": {},
   "outputs": [],
   "source": [
    "with open('test2.txt', 'w') as f: #apenas de rodar esta linha, o arquivo já é criado\n",
    "    f.write('Test')"
   ]
  },
  {
   "cell_type": "code",
   "execution_count": null,
   "metadata": {},
   "outputs": [],
   "source": [
    "with open('test.txt', 'r') as rf:\n",
    "    with open('test_copy.txt', 'w') as wf:\n",
    "        for line in rf:\n",
    "            wf.write(line)"
   ]
  },
  {
   "cell_type": "markdown",
   "metadata": {},
   "source": [
    "Para arquivos binários:"
   ]
  },
  {
   "cell_type": "code",
   "execution_count": null,
   "metadata": {},
   "outputs": [],
   "source": [
    "with open('bronx.jpg', 'rb') as rf:\n",
    "    with open('bronx_copy.jpg', 'wb') as wf:\n",
    "        for line in rf:\n",
    "            wf.write(line)"
   ]
  },
  {
   "cell_type": "code",
   "execution_count": null,
   "metadata": {},
   "outputs": [],
   "source": [
    "with open('bronx.jpg', 'rb') as rf:\n",
    "    with open('bronx_copy.jpg', 'wb') as wf:\n",
    "        chunk_size = 4096\n",
    "        rf_chunk = rf.read(chunk_size)\n",
    "        while len(rf_chunk) > 0\n",
    "            wf.write(rf_chunk)\n",
    "            rf_chunk = rf.read(chunk_size)"
   ]
  },
  {
   "cell_type": "markdown",
   "metadata": {},
   "source": [
    "### Gerenciadores de Conteúdo [aqui](https://www.youtube.com/watch?v=-aKFBoZpiqA)\n",
    "\n",
    "---\n",
    "\n",
    "*Maneira mais inteligente de lidar com arquivos*\n"
   ]
  },
  {
   "cell_type": "markdown",
   "metadata": {},
   "source": [
    "### Escopo de Variáveis [aqui](https://www.youtube.com/watch?v=QVdf0LgmICw)\n",
    "\n",
    "---\n",
    "\n",
    "LEGB - Local, Enclosing, Global, Built-in\n",
    "\n",
    "O Python primeiro checa as variáveis na seguinte ordem de escopos:\n",
    "\n",
    "- local - inside a function\n",
    "\n",
    "- enclosing -\n",
    "\n",
    "- global - top level of a module\n",
    "\n",
    "- built-in - pre-assigned in Python"
   ]
  },
  {
   "cell_type": "markdown",
   "metadata": {},
   "source": [
    "#### Conceito 1:\n",
    "\n",
    "A variável X existe em contexto global, mas a variável Y é ativada, usada e destruída dentro da função test"
   ]
  },
  {
   "cell_type": "code",
   "execution_count": 3,
   "metadata": {},
   "outputs": [
    {
     "name": "stdout",
     "output_type": "stream",
     "text": [
      "local y\n",
      "global x\n"
     ]
    },
    {
     "data": {
      "text/plain": [
       "'global x'"
      ]
     },
     "execution_count": 3,
     "metadata": {},
     "output_type": "execute_result"
    }
   ],
   "source": [
    "x = 'global x'\n",
    "\n",
    "def test():\n",
    "    y = 'local y'\n",
    "    print(y)\n",
    "    print(x)\n",
    "    \n",
    "test()\n",
    "x\n",
    "# y <- se eu ativar dá erro, y não está definida!"
   ]
  },
  {
   "cell_type": "markdown",
   "metadata": {},
   "source": [
    "#### Conceito 2:\n",
    "\n",
    "A variável X existe em contexto global, é reaproveitada no contexto da função test e depois retorna ao seu estado original assim que a função test cessa"
   ]
  },
  {
   "cell_type": "code",
   "execution_count": 10,
   "metadata": {},
   "outputs": [
    {
     "name": "stdout",
     "output_type": "stream",
     "text": [
      "local x\n"
     ]
    },
    {
     "data": {
      "text/plain": [
       "'global x'"
      ]
     },
     "execution_count": 10,
     "metadata": {},
     "output_type": "execute_result"
    }
   ],
   "source": [
    "x = 'global x'\n",
    "\n",
    "def test():\n",
    "    # print(x) <- se eu ativar, dá erro, pois a linguagem procura a variável local x inexistente!\n",
    "    x = 'local x'\n",
    "    print(x)\n",
    "    \n",
    "test()\n",
    "x"
   ]
  },
  {
   "cell_type": "markdown",
   "metadata": {},
   "source": [
    "#### Conceito 3:\n",
    "\n",
    "Se eu quiser que uma função tenha o poder de alterar o valor de uma variável global, eu posso invocar isso explicitamente\n",
    "\n",
    "*Observação: isso não é considerado boa prática em programação, então tome muito cuidado com o uso. Se acontece frequentemente, provavelmente você está fazendo alguma confusão lógica na hora de programar!*"
   ]
  },
  {
   "cell_type": "code",
   "execution_count": 13,
   "metadata": {},
   "outputs": [
    {
     "name": "stdout",
     "output_type": "stream",
     "text": [
      "global x\n",
      "local x\n"
     ]
    },
    {
     "data": {
      "text/plain": [
       "'local x'"
      ]
     },
     "execution_count": 13,
     "metadata": {},
     "output_type": "execute_result"
    }
   ],
   "source": [
    "x = 'global x'\n",
    "print(x)\n",
    "\n",
    "def test():\n",
    "    global x\n",
    "    x = 'local x' #<-isso só dá certo porque eu invoquei o poder de escrever na variável global!\n",
    "    print(x)\n",
    "    \n",
    "test()\n",
    "x"
   ]
  },
  {
   "cell_type": "markdown",
   "metadata": {},
   "source": [
    "E mesmo que eu ainda não tivesse minha variável global já definida, a invocação prepara ela para ti!\n",
    "\n",
    "*Observe que neste caso eu já tinha uma variável global x criada e com o valor da máquina anterior (local x). O comando neste caso apenas deu poder de escrita à minha função test*"
   ]
  },
  {
   "cell_type": "code",
   "execution_count": 19,
   "metadata": {},
   "outputs": [
    {
     "name": "stdout",
     "output_type": "stream",
     "text": [
      "local xox\n",
      "local xox\n"
     ]
    },
    {
     "data": {
      "text/plain": [
       "'local xox'"
      ]
     },
     "execution_count": 19,
     "metadata": {},
     "output_type": "execute_result"
    }
   ],
   "source": [
    "def test():\n",
    "    global x\n",
    "    print(x)\n",
    "    x = 'local xox' #<-isso só dá certo porque eu invoquei o poder de escrever na variável global!\n",
    "    print(x)\n",
    "    \n",
    "test()\n",
    "x"
   ]
  },
  {
   "cell_type": "markdown",
   "metadata": {},
   "source": [
    "Muito cuidado ao invocar coisas que ainda não foram criadas e que não receberam um conteúdo explícito (como 0.0)"
   ]
  },
  {
   "cell_type": "code",
   "execution_count": 23,
   "metadata": {},
   "outputs": [
    {
     "name": "stdout",
     "output_type": "stream",
     "text": [
      "local xox\n",
      "local xox\n"
     ]
    },
    {
     "data": {
      "text/plain": [
       "'local xox'"
      ]
     },
     "execution_count": 23,
     "metadata": {},
     "output_type": "execute_result"
    }
   ],
   "source": [
    "def test():\n",
    "    global w\n",
    "    #print(w) #<-se eu ativar essa linha, na primeira vez dará erro de variável w inexistente!\n",
    "    w = 'local xox' #<-isso só dá certo porque eu invoquei o poder de escrever na variável global!\n",
    "    print(w)\n",
    "    \n",
    "test()\n",
    "w"
   ]
  },
  {
   "cell_type": "markdown",
   "metadata": {},
   "source": [
    "Z como parâmetro de função:"
   ]
  },
  {
   "cell_type": "code",
   "execution_count": 24,
   "metadata": {},
   "outputs": [
    {
     "name": "stdout",
     "output_type": "stream",
     "text": [
      "local z\n"
     ]
    }
   ],
   "source": [
    "def test(z):\n",
    "    x = 'local x'\n",
    "    print(z)\n",
    "    \n",
    "test('local z')\n",
    "#print(z) <-erro: z está no escopo local!"
   ]
  },
  {
   "cell_type": "markdown",
   "metadata": {},
   "source": [
    "#### Built-in\n",
    "\n",
    "---\n",
    "\n",
    "*Observação: o Python permite que eu sobrescreva uma função interna com uma função minha. Isso pode ter várias utilidades por exemplo, na hora de debugar programas. Mas cuidado para evitar usar nomes reservados, pois você está redefinindo seu funcionamento!*"
   ]
  },
  {
   "cell_type": "code",
   "execution_count": 26,
   "metadata": {},
   "outputs": [
    {
     "data": {
      "text/plain": [
       "['ArithmeticError',\n",
       " 'AssertionError',\n",
       " 'AttributeError',\n",
       " 'BaseException',\n",
       " 'BlockingIOError',\n",
       " 'BrokenPipeError',\n",
       " 'BufferError',\n",
       " 'BytesWarning',\n",
       " 'ChildProcessError',\n",
       " 'ConnectionAbortedError',\n",
       " 'ConnectionError',\n",
       " 'ConnectionRefusedError',\n",
       " 'ConnectionResetError',\n",
       " 'DeprecationWarning',\n",
       " 'EOFError',\n",
       " 'Ellipsis',\n",
       " 'EnvironmentError',\n",
       " 'Exception',\n",
       " 'False',\n",
       " 'FileExistsError',\n",
       " 'FileNotFoundError',\n",
       " 'FloatingPointError',\n",
       " 'FutureWarning',\n",
       " 'GeneratorExit',\n",
       " 'IOError',\n",
       " 'ImportError',\n",
       " 'ImportWarning',\n",
       " 'IndentationError',\n",
       " 'IndexError',\n",
       " 'InterruptedError',\n",
       " 'IsADirectoryError',\n",
       " 'KeyError',\n",
       " 'KeyboardInterrupt',\n",
       " 'LookupError',\n",
       " 'MemoryError',\n",
       " 'ModuleNotFoundError',\n",
       " 'NameError',\n",
       " 'None',\n",
       " 'NotADirectoryError',\n",
       " 'NotImplemented',\n",
       " 'NotImplementedError',\n",
       " 'OSError',\n",
       " 'OverflowError',\n",
       " 'PendingDeprecationWarning',\n",
       " 'PermissionError',\n",
       " 'ProcessLookupError',\n",
       " 'RecursionError',\n",
       " 'ReferenceError',\n",
       " 'ResourceWarning',\n",
       " 'RuntimeError',\n",
       " 'RuntimeWarning',\n",
       " 'StopAsyncIteration',\n",
       " 'StopIteration',\n",
       " 'SyntaxError',\n",
       " 'SyntaxWarning',\n",
       " 'SystemError',\n",
       " 'SystemExit',\n",
       " 'TabError',\n",
       " 'TimeoutError',\n",
       " 'True',\n",
       " 'TypeError',\n",
       " 'UnboundLocalError',\n",
       " 'UnicodeDecodeError',\n",
       " 'UnicodeEncodeError',\n",
       " 'UnicodeError',\n",
       " 'UnicodeTranslateError',\n",
       " 'UnicodeWarning',\n",
       " 'UserWarning',\n",
       " 'ValueError',\n",
       " 'Warning',\n",
       " 'WindowsError',\n",
       " 'ZeroDivisionError',\n",
       " '__IPYTHON__',\n",
       " '__build_class__',\n",
       " '__debug__',\n",
       " '__doc__',\n",
       " '__import__',\n",
       " '__loader__',\n",
       " '__name__',\n",
       " '__package__',\n",
       " '__spec__',\n",
       " 'abs',\n",
       " 'all',\n",
       " 'any',\n",
       " 'ascii',\n",
       " 'bin',\n",
       " 'bool',\n",
       " 'bytearray',\n",
       " 'bytes',\n",
       " 'callable',\n",
       " 'chr',\n",
       " 'classmethod',\n",
       " 'compile',\n",
       " 'complex',\n",
       " 'copyright',\n",
       " 'credits',\n",
       " 'delattr',\n",
       " 'dict',\n",
       " 'dir',\n",
       " 'display',\n",
       " 'divmod',\n",
       " 'enumerate',\n",
       " 'eval',\n",
       " 'exec',\n",
       " 'filter',\n",
       " 'float',\n",
       " 'format',\n",
       " 'frozenset',\n",
       " 'get_ipython',\n",
       " 'getattr',\n",
       " 'globals',\n",
       " 'hasattr',\n",
       " 'hash',\n",
       " 'help',\n",
       " 'hex',\n",
       " 'id',\n",
       " 'input',\n",
       " 'int',\n",
       " 'isinstance',\n",
       " 'issubclass',\n",
       " 'iter',\n",
       " 'len',\n",
       " 'license',\n",
       " 'list',\n",
       " 'locals',\n",
       " 'map',\n",
       " 'max',\n",
       " 'memoryview',\n",
       " 'min',\n",
       " 'next',\n",
       " 'object',\n",
       " 'oct',\n",
       " 'open',\n",
       " 'ord',\n",
       " 'pow',\n",
       " 'print',\n",
       " 'property',\n",
       " 'range',\n",
       " 'repr',\n",
       " 'reversed',\n",
       " 'round',\n",
       " 'set',\n",
       " 'setattr',\n",
       " 'slice',\n",
       " 'sorted',\n",
       " 'staticmethod',\n",
       " 'str',\n",
       " 'sum',\n",
       " 'super',\n",
       " 'tuple',\n",
       " 'type',\n",
       " 'vars',\n",
       " 'zip']"
      ]
     },
     "execution_count": 26,
     "metadata": {},
     "output_type": "execute_result"
    }
   ],
   "source": [
    "import builtins\n",
    "dir(builtins)"
   ]
  },
  {
   "cell_type": "markdown",
   "metadata": {},
   "source": [
    "#### Enclosing\n",
    "\n",
    "---"
   ]
  },
  {
   "cell_type": "code",
   "execution_count": 34,
   "metadata": {},
   "outputs": [
    {
     "name": "stdout",
     "output_type": "stream",
     "text": [
      "I- inner x\n",
      "II- outer x\n"
     ]
    }
   ],
   "source": [
    "def outer():\n",
    "    x = 'outer x'\n",
    "    \n",
    "    def inner():\n",
    "        x = 'inner x' #<-se eu comentar isso, ele vai manter o x do contexto externo!\n",
    "        print ('I-',x)\n",
    "        \n",
    "    inner()\n",
    "    print('II-',x)\n",
    "\n",
    "outer()"
   ]
  },
  {
   "cell_type": "markdown",
   "metadata": {},
   "source": [
    "Agora eu quero modificar o x da minha função maior, a partir da função aninhada\n",
    "\n",
    "*Eu não posso chamar isso de Global, pois não é esse o escopo que eu quero modificar!*\n",
    "\n",
    "*Isso aqui é legal para nonclosures e decorators!*"
   ]
  },
  {
   "cell_type": "code",
   "execution_count": 35,
   "metadata": {},
   "outputs": [
    {
     "name": "stdout",
     "output_type": "stream",
     "text": [
      "I- inner x\n",
      "II- inner x\n"
     ]
    }
   ],
   "source": [
    "def outer():\n",
    "    x = 'outer x'\n",
    "    \n",
    "    def inner():\n",
    "        nonlocal x #<-aqui está, ele é um nonlocal x (não um global x!)\n",
    "        x = 'inner x'\n",
    "        print ('I-',x)\n",
    "        \n",
    "    inner()\n",
    "    print('II-',x)\n",
    "\n",
    "outer()"
   ]
  },
  {
   "cell_type": "markdown",
   "metadata": {},
   "source": [
    "### Formatando Strings [aqui](https://www.youtube.com/watch?v=vTX3IwquFkc)\n",
    "\n",
    "---\n",
    "\n",
    "Má prática:"
   ]
  },
  {
   "cell_type": "code",
   "execution_count": 3,
   "metadata": {},
   "outputs": [
    {
     "data": {
      "text/plain": [
       "'My name is Jenn and I am 23 years old.'"
      ]
     },
     "execution_count": 3,
     "metadata": {},
     "output_type": "execute_result"
    }
   ],
   "source": [
    "person = {'name': 'Jenn', 'age': 23}\n",
    "\n",
    "sentence = 'My name is ' + person['name'] + ' and I am ' + str(person['age']) + ' years old.'\n",
    "sentence"
   ]
  },
  {
   "cell_type": "markdown",
   "metadata": {},
   "source": [
    "Com formatação e um **dicionário** como fonte:"
   ]
  },
  {
   "cell_type": "code",
   "execution_count": 8,
   "metadata": {},
   "outputs": [
    {
     "data": {
      "text/plain": [
       "'My name is Jenn and I am 23 years old.'"
      ]
     },
     "execution_count": 8,
     "metadata": {},
     "output_type": "execute_result"
    }
   ],
   "source": [
    "sentence = 'My name is {} and I am {} years old.'.format(person['name'],person['age'])\n",
    "sentence"
   ]
  },
  {
   "cell_type": "markdown",
   "metadata": {},
   "source": [
    "---\n",
    "\n",
    "Indicando a **ordem** de cada entrada"
   ]
  },
  {
   "cell_type": "code",
   "execution_count": 7,
   "metadata": {},
   "outputs": [
    {
     "data": {
      "text/plain": [
       "'My name is Jenn and I am 23 years old.'"
      ]
     },
     "execution_count": 7,
     "metadata": {},
     "output_type": "execute_result"
    }
   ],
   "source": [
    "sentence = 'My name is {1} and I am {0} years old.'.format(person['age'], person['name'])\n",
    "sentence"
   ]
  },
  {
   "cell_type": "markdown",
   "metadata": {},
   "source": [
    "Eu posso usar a ordem para formatar **tags** e outras coisas úteis e repetitivas:"
   ]
  },
  {
   "cell_type": "code",
   "execution_count": 10,
   "metadata": {},
   "outputs": [
    {
     "data": {
      "text/plain": [
       "'<h1>This is a headline</h1>'"
      ]
     },
     "execution_count": 10,
     "metadata": {},
     "output_type": "execute_result"
    }
   ],
   "source": [
    "tag = 'h1'\n",
    "text = 'This is a headline'\n",
    "sentence = '<{0}>{1}</{0}>'.format(tag, text)\n",
    "sentence"
   ]
  },
  {
   "cell_type": "markdown",
   "metadata": {},
   "source": [
    "Eu posso chamar uma **chave** de dicionário em cada elemento de formato e o dicionário como índice:"
   ]
  },
  {
   "cell_type": "code",
   "execution_count": 14,
   "metadata": {},
   "outputs": [
    {
     "data": {
      "text/plain": [
       "'My name is Jenn and I am 23 years old.'"
      ]
     },
     "execution_count": 14,
     "metadata": {},
     "output_type": "execute_result"
    }
   ],
   "source": [
    "sentence = 'My name is {0[name]} and I am {0[age]} years old.'.format(person)\n",
    "sentence"
   ]
  },
  {
   "cell_type": "markdown",
   "metadata": {},
   "source": [
    "---\n",
    "\n",
    "A partir de uma **lista**:"
   ]
  },
  {
   "cell_type": "code",
   "execution_count": 15,
   "metadata": {},
   "outputs": [
    {
     "data": {
      "text/plain": [
       "'My name is Jenn and I am 23 years old.'"
      ]
     },
     "execution_count": 15,
     "metadata": {},
     "output_type": "execute_result"
    }
   ],
   "source": [
    "l = ['Jenn', 23]\n",
    "\n",
    "sentence = 'My name is {0[0]} and I am {0[1]} years old.'.format(l)\n",
    "sentence"
   ]
  },
  {
   "cell_type": "markdown",
   "metadata": {},
   "source": [
    "---\n",
    "\n",
    "A partir de atributos de um **objeto**:"
   ]
  },
  {
   "cell_type": "code",
   "execution_count": null,
   "metadata": {},
   "outputs": [],
   "source": [
    "class Person():\n",
    "    \n",
    "    def __init__(self, name, age):\n",
    "        self.name = name\n",
    "        self.age = age\n",
    "\n",
    "p1 = Person('Jack', '33') # 0.name é p1.atributo\n",
    "\n",
    "sentence = 'My name is {0.name} and I am {0.age} years old.'.format(p1)\n",
    "sentence"
   ]
  },
  {
   "cell_type": "markdown",
   "metadata": {},
   "source": [
    "---\n",
    "\n",
    "A partir de **palavas chave**:"
   ]
  },
  {
   "cell_type": "code",
   "execution_count": 19,
   "metadata": {},
   "outputs": [
    {
     "data": {
      "text/plain": [
       "'My name is Jenn and I am 30 years old.'"
      ]
     },
     "execution_count": 19,
     "metadata": {},
     "output_type": "execute_result"
    }
   ],
   "source": [
    "sentence = 'My name is {name} and I am {age} years old.'.format(name='Jenn', age='30')\n",
    "sentence"
   ]
  },
  {
   "cell_type": "markdown",
   "metadata": {},
   "source": [
    "Palavras chave de um **dicionário**:\n",
    "\n",
    "*Observação*\n",
    "\n",
    "    * (um asterisco) para args - como 1,2,3\n",
    "    \n",
    "    ** (dois asteriscos) para kwargs - como name='one', age=27 "
   ]
  },
  {
   "cell_type": "code",
   "execution_count": 20,
   "metadata": {},
   "outputs": [
    {
     "data": {
      "text/plain": [
       "'My name is Jenn and I am 23 years old.'"
      ]
     },
     "execution_count": 20,
     "metadata": {},
     "output_type": "execute_result"
    }
   ],
   "source": [
    "person = {'name': 'Jenn', 'age': 23}\n",
    "\n",
    "sentence = 'My name is {name} and I am {age} years old.'.format(**person)\n",
    "sentence"
   ]
  },
  {
   "cell_type": "markdown",
   "metadata": {},
   "source": [
    "Formatação de **números**:\n",
    "\n",
    "---\n",
    "\n",
    "- o : indica formato\n",
    "\n",
    "- o 0 indica que quero o início com zero, caso a casa à esquerda vá ficar vazia\n",
    "\n",
    "- o 2 indica dois dígitos"
   ]
  },
  {
   "cell_type": "code",
   "execution_count": 30,
   "metadata": {},
   "outputs": [
    {
     "name": "stdout",
     "output_type": "stream",
     "text": [
      "The value is 01\n",
      "The value is 02\n",
      "The value is 03\n",
      "The value is 04\n",
      "The value is 05\n",
      "The value is 06\n",
      "The value is 07\n",
      "The value is 08\n",
      "The value is 09\n",
      "The value is 10\n"
     ]
    }
   ],
   "source": [
    "for i in range(1, 11):\n",
    "    sentence = 'The value is {:02}'.format(i)\n",
    "    print(sentence)"
   ]
  },
  {
   "cell_type": "markdown",
   "metadata": {},
   "source": [
    "- o .2f indica casas decimais (duas)"
   ]
  },
  {
   "cell_type": "code",
   "execution_count": 32,
   "metadata": {},
   "outputs": [
    {
     "data": {
      "text/plain": [
       "'Pi is equal to 3.14'"
      ]
     },
     "execution_count": 32,
     "metadata": {},
     "output_type": "execute_result"
    }
   ],
   "source": [
    "pi = 3.14159265\n",
    "\n",
    "sentence = 'Pi is equal to {:.2f}'.format(pi)\n",
    "sentence"
   ]
  },
  {
   "cell_type": "code",
   "execution_count": 37,
   "metadata": {},
   "outputs": [
    {
     "data": {
      "text/plain": [
       "'1 MB is equal to 1,000,000 bytes'"
      ]
     },
     "execution_count": 37,
     "metadata": {},
     "output_type": "execute_result"
    }
   ],
   "source": [
    "sentence = '1 MB is equal to {:,} bytes'.format(1000**2)\n",
    "sentence"
   ]
  },
  {
   "cell_type": "markdown",
   "metadata": {},
   "source": [
    "Formatação de **data e hora**:\n",
    "\n",
    "---"
   ]
  },
  {
   "cell_type": "code",
   "execution_count": 39,
   "metadata": {},
   "outputs": [
    {
     "name": "stdout",
     "output_type": "stream",
     "text": [
      "2016-09-24 12:30:45\n"
     ]
    }
   ],
   "source": [
    "import datetime\n",
    "my_date = datetime.datetime(2016, 9, 24, 12, 30, 45)\n",
    "print(my_date)"
   ]
  },
  {
   "cell_type": "code",
   "execution_count": 41,
   "metadata": {},
   "outputs": [
    {
     "name": "stdout",
     "output_type": "stream",
     "text": [
      "September 24, 2016\n"
     ]
    }
   ],
   "source": [
    "sentence = '{:%B %d, %Y}'.format(my_date) #formatos tirados da documentação Python para datas!\n",
    "print(sentence)"
   ]
  },
  {
   "cell_type": "markdown",
   "metadata": {},
   "source": [
    "Note que eu tive que acrescentar o índice 0:"
   ]
  },
  {
   "cell_type": "code",
   "execution_count": 42,
   "metadata": {},
   "outputs": [
    {
     "name": "stdout",
     "output_type": "stream",
     "text": [
      "September 24, 2016 fell on a Saturday and was the 268 day of the year\n"
     ]
    }
   ],
   "source": [
    "sentence = '{0:%B %d, %Y} fell on a {0:%A} and was the {0:%j} day of the year'.format(my_date)\n",
    "print(sentence)"
   ]
  },
  {
   "cell_type": "markdown",
   "metadata": {},
   "source": [
    "### Ordenando Listas, Tuplas e Objetos [aqui](https://www.youtube.com/watch?v=D3JvDWO-BY4)\n",
    "\n",
    "---"
   ]
  },
  {
   "cell_type": "markdown",
   "metadata": {},
   "source": [
    "### Compreensão de Listas [aqui](https://www.youtube.com/watch?v=3dt4OGnU5sM)\n",
    "\n",
    "---\n"
   ]
  },
  {
   "cell_type": "code",
   "execution_count": 43,
   "metadata": {},
   "outputs": [
    {
     "data": {
      "text/plain": [
       "[1, 2, 3, 4, 5, 6, 7, 8, 9, 10]"
      ]
     },
     "execution_count": 43,
     "metadata": {},
     "output_type": "execute_result"
    }
   ],
   "source": [
    "my_list = []\n",
    "for n in nums:\n",
    "    my_list.append(n)\n",
    "my_list"
   ]
  },
  {
   "cell_type": "code",
   "execution_count": 47,
   "metadata": {},
   "outputs": [
    {
     "data": {
      "text/plain": [
       "[1, 2, 3, 4, 5, 6, 7, 8, 9, 10]"
      ]
     },
     "execution_count": 47,
     "metadata": {},
     "output_type": "execute_result"
    }
   ],
   "source": [
    "my_list = [n for n in range(1, 11)]\n",
    "my_list"
   ]
  },
  {
   "cell_type": "code",
   "execution_count": 49,
   "metadata": {},
   "outputs": [
    {
     "data": {
      "text/plain": [
       "[1, 2, 3, 4, 5, 6, 7, 8, 9, 10]"
      ]
     },
     "execution_count": 49,
     "metadata": {},
     "output_type": "execute_result"
    }
   ],
   "source": [
    "nums = [1,2,3,4,5,6,7,8,9,10]\n",
    "\n",
    "my_list = [n for n in nums]\n",
    "my_list"
   ]
  },
  {
   "cell_type": "markdown",
   "metadata": {},
   "source": [
    "Um pouco mais complexo:"
   ]
  },
  {
   "cell_type": "code",
   "execution_count": 2,
   "metadata": {},
   "outputs": [
    {
     "data": {
      "text/plain": [
       "[1, 4, 9, 16, 25, 36, 49, 64, 81, 100]"
      ]
     },
     "execution_count": 2,
     "metadata": {},
     "output_type": "execute_result"
    }
   ],
   "source": [
    "nums = [1,2,3,4,5,6,7,8,9,10]\n",
    "\n",
    "my_list = []\n",
    "for n in nums:\n",
    "    my_list.append(n*n)\n",
    "my_list"
   ]
  },
  {
   "cell_type": "code",
   "execution_count": 4,
   "metadata": {},
   "outputs": [
    {
     "data": {
      "text/plain": [
       "[1, 4, 9, 16, 25, 36, 49, 64, 81, 100]"
      ]
     },
     "execution_count": 4,
     "metadata": {},
     "output_type": "execute_result"
    }
   ],
   "source": [
    "my_list = [n*n for n in nums]\n",
    "my_list"
   ]
  },
  {
   "cell_type": "markdown",
   "metadata": {},
   "source": [
    "Mesma coisa, agora com função Map + Lambda:\n",
    "\n",
    "---\n",
    "\n",
    "- **Map** - passa cada elemento do seu conjunto por uma função (transformada)\n",
    "\n",
    "- **Lambda** - é uma função anônima"
   ]
  },
  {
   "cell_type": "code",
   "execution_count": 28,
   "metadata": {},
   "outputs": [
    {
     "data": {
      "text/plain": [
       "[1, 4, 9, 16, 25, 36, 49, 64, 81, 100]"
      ]
     },
     "execution_count": 28,
     "metadata": {},
     "output_type": "execute_result"
    }
   ],
   "source": [
    "iterador = list(map(lambda n: n*n, nums))\n",
    "iterador"
   ]
  },
  {
   "cell_type": "markdown",
   "metadata": {},
   "source": [
    "Com função Filter + Lambda:\n",
    "    \n",
    "---\n",
    "- **Filter** - passa uma condicional If\n",
    "- **Lambda** - como acima"
   ]
  },
  {
   "cell_type": "code",
   "execution_count": 12,
   "metadata": {},
   "outputs": [
    {
     "data": {
      "text/plain": [
       "[2, 4, 6, 8, 10]"
      ]
     },
     "execution_count": 12,
     "metadata": {},
     "output_type": "execute_result"
    }
   ],
   "source": [
    "my_list = []\n",
    "for n in nums:\n",
    "    if n%2 == 0:\n",
    "        my_list.append(n)\n",
    "my_list"
   ]
  },
  {
   "cell_type": "code",
   "execution_count": 15,
   "metadata": {},
   "outputs": [
    {
     "data": {
      "text/plain": [
       "[2, 4, 6, 8, 10]"
      ]
     },
     "execution_count": 15,
     "metadata": {},
     "output_type": "execute_result"
    }
   ],
   "source": [
    "my_list = [n for n in nums if n%2 == 0]\n",
    "my_list"
   ]
  },
  {
   "cell_type": "code",
   "execution_count": 27,
   "metadata": {},
   "outputs": [
    {
     "data": {
      "text/plain": [
       "[2, 4, 6, 8, 10]"
      ]
     },
     "execution_count": 27,
     "metadata": {},
     "output_type": "execute_result"
    }
   ],
   "source": [
    "my_list = list(filter(lambda n: n%2 == 0, nums))\n",
    "my_list"
   ]
  },
  {
   "cell_type": "markdown",
   "metadata": {},
   "source": [
    "Par de letras e números\n",
    "\n",
    "---\n",
    "\n",
    "Modo clássico - loops aninhados:"
   ]
  },
  {
   "cell_type": "code",
   "execution_count": 31,
   "metadata": {},
   "outputs": [
    {
     "name": "stdout",
     "output_type": "stream",
     "text": [
      "[('a', 0), ('a', 1), ('a', 2), ('a', 3), ('b', 0), ('b', 1), ('b', 2), ('b', 3), ('c', 0), ('c', 1), ('c', 2), ('c', 3), ('d', 0), ('d', 1), ('d', 2), ('d', 3)]\n"
     ]
    }
   ],
   "source": [
    "my_list = []\n",
    "for letter in 'abcd':\n",
    "    for num in range(4):\n",
    "        my_list.append((letter,num))\n",
    "print(my_list)"
   ]
  },
  {
   "cell_type": "markdown",
   "metadata": {},
   "source": [
    "Por Compreensão de Listas:"
   ]
  },
  {
   "cell_type": "code",
   "execution_count": 33,
   "metadata": {},
   "outputs": [
    {
     "name": "stdout",
     "output_type": "stream",
     "text": [
      "[('a', 0), ('a', 1), ('a', 2), ('a', 3), ('b', 0), ('b', 1), ('b', 2), ('b', 3), ('c', 0), ('c', 1), ('c', 2), ('c', 3), ('d', 0), ('d', 1), ('d', 2), ('d', 3)]\n"
     ]
    }
   ],
   "source": [
    "my_list = [(letter, num) for letter in 'abcd' for num in range(4)]\n",
    "print(my_list)"
   ]
  },
  {
   "cell_type": "markdown",
   "metadata": {},
   "source": [
    "Um modo elegante, usar função **Zip**:"
   ]
  },
  {
   "cell_type": "code",
   "execution_count": 38,
   "metadata": {},
   "outputs": [
    {
     "data": {
      "text/plain": [
       "[('a', 0), ('b', 1), ('c', 2), ('d', 3)]"
      ]
     },
     "execution_count": 38,
     "metadata": {},
     "output_type": "execute_result"
    }
   ],
   "source": [
    "num = [0,1,2,3]\n",
    "letter = ['a','b','c','d']\n",
    "\n",
    "my_list = list((zip(letter,num)))\n",
    "my_list"
   ]
  },
  {
   "cell_type": "markdown",
   "metadata": {},
   "source": [
    "Agora produzindo a lista número:"
   ]
  },
  {
   "cell_type": "code",
   "execution_count": 39,
   "metadata": {},
   "outputs": [
    {
     "data": {
      "text/plain": [
       "[0, 1, 2, 3]"
      ]
     },
     "execution_count": 39,
     "metadata": {},
     "output_type": "execute_result"
    }
   ],
   "source": [
    "num = [n for n in range (4)]\n",
    "num"
   ]
  },
  {
   "cell_type": "markdown",
   "metadata": {},
   "source": [
    "Transformando isso num gerador de lista:\n",
    "    \n",
    "*Viso economizar memória!*"
   ]
  },
  {
   "cell_type": "code",
   "execution_count": 41,
   "metadata": {},
   "outputs": [
    {
     "data": {
      "text/plain": [
       "<generator object <genexpr> at 0x0000027CD37AF308>"
      ]
     },
     "execution_count": 41,
     "metadata": {},
     "output_type": "execute_result"
    }
   ],
   "source": [
    "num = (n for n in range (4))\n",
    "num"
   ]
  },
  {
   "cell_type": "markdown",
   "metadata": {},
   "source": [
    "Mesma coisa para letras:"
   ]
  },
  {
   "cell_type": "code",
   "execution_count": 40,
   "metadata": {},
   "outputs": [
    {
     "data": {
      "text/plain": [
       "['a', 'b', 'c', 'd']"
      ]
     },
     "execution_count": 40,
     "metadata": {},
     "output_type": "execute_result"
    }
   ],
   "source": [
    "letter = [l for l in 'abcd']\n",
    "letter"
   ]
  },
  {
   "cell_type": "code",
   "execution_count": 42,
   "metadata": {},
   "outputs": [
    {
     "data": {
      "text/plain": [
       "<generator object <genexpr> at 0x0000027CD37AF410>"
      ]
     },
     "execution_count": 42,
     "metadata": {},
     "output_type": "execute_result"
    }
   ],
   "source": [
    "letter = (l for l in 'abcd')\n",
    "letter"
   ]
  },
  {
   "cell_type": "markdown",
   "metadata": {},
   "source": [
    "Fundindo todos esses conceitos:\n",
    "    \n",
    "*Observe como o código ficou funcional e elegante*"
   ]
  },
  {
   "cell_type": "code",
   "execution_count": 43,
   "metadata": {},
   "outputs": [
    {
     "data": {
      "text/plain": [
       "[('a', 0), ('b', 1), ('c', 2), ('d', 3)]"
      ]
     },
     "execution_count": 43,
     "metadata": {},
     "output_type": "execute_result"
    }
   ],
   "source": [
    "num = (n for n in range (4))\n",
    "letter = (l for l in 'abcd')\n",
    "\n",
    "my_list = list((zip(letter,num)))\n",
    "my_list"
   ]
  },
  {
   "cell_type": "markdown",
   "metadata": {},
   "source": [
    "#### Compreensão de Dicionários"
   ]
  },
  {
   "cell_type": "code",
   "execution_count": 54,
   "metadata": {},
   "outputs": [
    {
     "data": {
      "text/plain": [
       "{'Bruce': 'Batman',\n",
       " 'Clark': 'Superman',\n",
       " 'Peter': 'Spiderman',\n",
       " 'Logan': 'Wonverine',\n",
       " 'Wade': 'Deadpool'}"
      ]
     },
     "execution_count": 54,
     "metadata": {},
     "output_type": "execute_result"
    }
   ],
   "source": [
    "names = ['Bruce', 'Clark', 'Peter', 'Logan', 'Wade']\n",
    "heros = ['Batman', 'Superman', 'Spiderman', 'Wonverine', 'Deadpool']\n",
    "\n",
    "my_dict = {}\n",
    "for name, hero in zip(names, heros):\n",
    "    my_dict[name] = hero\n",
    "\n",
    "my_dict"
   ]
  },
  {
   "cell_type": "code",
   "execution_count": 55,
   "metadata": {},
   "outputs": [
    {
     "data": {
      "text/plain": [
       "{'Bruce': 'Batman',\n",
       " 'Clark': 'Superman',\n",
       " 'Peter': 'Spiderman',\n",
       " 'Logan': 'Wonverine',\n",
       " 'Wade': 'Deadpool'}"
      ]
     },
     "execution_count": 55,
     "metadata": {},
     "output_type": "execute_result"
    }
   ],
   "source": [
    "my_dict = {name: hero for name, hero in zip(names, heros)}\n",
    "my_dict"
   ]
  },
  {
   "cell_type": "markdown",
   "metadata": {},
   "source": [
    "Com condicional If:\n",
    "\n",
    "*Observe que por causa de uma limitação sintática da linguagem Python, o If em compreensões fica sempre no final, o que é estranho*"
   ]
  },
  {
   "cell_type": "code",
   "execution_count": 56,
   "metadata": {},
   "outputs": [
    {
     "data": {
      "text/plain": [
       "{'Bruce': 'Batman',\n",
       " 'Clark': 'Superman',\n",
       " 'Logan': 'Wonverine',\n",
       " 'Wade': 'Deadpool'}"
      ]
     },
     "execution_count": 56,
     "metadata": {},
     "output_type": "execute_result"
    }
   ],
   "source": [
    "my_dict = {name: hero for name, hero in zip(names, heros) if name != 'Peter'}\n",
    "my_dict"
   ]
  },
  {
   "cell_type": "markdown",
   "metadata": {},
   "source": [
    "#### Compreensão de Coleções (Sets)\n",
    "\n",
    "---\n",
    "\n",
    "- sets são como se fossem listas, mas não há valores repetidos"
   ]
  },
  {
   "cell_type": "code",
   "execution_count": 53,
   "metadata": {},
   "outputs": [
    {
     "data": {
      "text/plain": [
       "{1, 2, 3, 4, 5, 6, 7, 8, 9}"
      ]
     },
     "execution_count": 53,
     "metadata": {},
     "output_type": "execute_result"
    }
   ],
   "source": [
    "nums = [1,1,2,1,3,4,3,4,5,5,6,7,8,7,9,9]\n",
    "\n",
    "my_set = set()\n",
    "for n in nums:\n",
    "    my_set.add(n)\n",
    "my_set"
   ]
  },
  {
   "cell_type": "code",
   "execution_count": 58,
   "metadata": {},
   "outputs": [
    {
     "data": {
      "text/plain": [
       "{1, 2, 3, 4, 5, 6, 7, 8, 9}"
      ]
     },
     "execution_count": 58,
     "metadata": {},
     "output_type": "execute_result"
    }
   ],
   "source": [
    "my_set = {n for n in nums}\n",
    "my_set"
   ]
  },
  {
   "cell_type": "markdown",
   "metadata": {},
   "source": [
    "#### Gerador de Expressões\n",
    "\n",
    "---\n",
    "\n",
    "*Observe que um gerador sempre vem acompanhado de um iterador*"
   ]
  },
  {
   "cell_type": "code",
   "execution_count": 64,
   "metadata": {},
   "outputs": [
    {
     "name": "stdout",
     "output_type": "stream",
     "text": [
      "1 4 9 16 25 36 49 64 81 100 "
     ]
    }
   ],
   "source": [
    "nums = [1,2,3,4,5,6,7,8,9,10]\n",
    "\n",
    "def gen_func(nums):\n",
    "    for n in nums:\n",
    "        yield n*n\n",
    "\n",
    "my_gen = gen_func(nums)\n",
    "\n",
    "for i in my_gen:\n",
    "    print (i, end=' ')"
   ]
  },
  {
   "cell_type": "code",
   "execution_count": 65,
   "metadata": {},
   "outputs": [
    {
     "name": "stdout",
     "output_type": "stream",
     "text": [
      "1 4 9 16 25 36 49 64 81 100 "
     ]
    }
   ],
   "source": [
    "my_gen = (n*n for n in nums)\n",
    "\n",
    "for i in my_gen:\n",
    "    print (i, end=' ')"
   ]
  },
  {
   "cell_type": "markdown",
   "metadata": {},
   "source": [
    "### Geradores [aqui](https://www.youtube.com/watch?v=bD05uGo_sVI)\n",
    "\n",
    "---"
   ]
  },
  {
   "cell_type": "markdown",
   "metadata": {},
   "source": [
    "### Módulo de CSV [aqui](https://www.youtube.com/watch?v=q5uM4VKywbA)\n",
    "\n",
    "---\n",
    "\n",
    "Leitor linha a linha:"
   ]
  },
  {
   "cell_type": "code",
   "execution_count": null,
   "metadata": {},
   "outputs": [],
   "source": [
    "import csv\n",
    "\n",
    "with open('names.csv', 'r') as csv_file:\n",
    "    csv_reader = csv.reader(csv_file)\n",
    "    \n",
    "    next(csv_reader) #isso serve para passar a linha de nomes de colunas\n",
    "     \n",
    "    for line in csv_reader:\n",
    "        print(line[2]) #lista a terceira coluna de cada entrada"
   ]
  },
  {
   "cell_type": "markdown",
   "metadata": {},
   "source": [
    "Leitor, modificador e gravador linha a linha:"
   ]
  },
  {
   "cell_type": "code",
   "execution_count": null,
   "metadata": {},
   "outputs": [],
   "source": [
    "import csv\n",
    "\n",
    "with open('names.csv', 'r') as csv_file:\n",
    "    csv_reader = csv.reader(csv_file)\n",
    "    \n",
    "    with open('new_names', 'w') as new_file:\n",
    "        csv_writer = csv.writer(new_file, delimiter='\\t') #isso é um separador de tabulação!\n",
    "     \n",
    "    for line in csv_reader:\n",
    "        csv_writer.writerow(line)"
   ]
  },
  {
   "cell_type": "markdown",
   "metadata": {},
   "source": [
    "#### Leitor em dicionário (mais funcional):\n",
    "\n",
    "- os nomes das **colunas** (primeira linha) é convertido em **chave** (key) de dicionário"
   ]
  },
  {
   "cell_type": "code",
   "execution_count": null,
   "metadata": {},
   "outputs": [],
   "source": [
    "import csv\n",
    "\n",
    "with open('names.csv', 'r') as csv_file:\n",
    "    csv_reader = csv.DictReader(csv_file)\n",
    "    \n",
    "    for line in csv_reader:\n",
    "        print(line)"
   ]
  },
  {
   "cell_type": "markdown",
   "metadata": {},
   "source": [
    "Acessar valor pela chave fica mais intuitivo:"
   ]
  },
  {
   "cell_type": "code",
   "execution_count": null,
   "metadata": {},
   "outputs": [],
   "source": [
    "    for line in csv_reader:\n",
    "        print(line['email']"
   ]
  },
  {
   "cell_type": "markdown",
   "metadata": {},
   "source": [
    "Leio o csv como dicionário e volto a gravar com csv, sem a coluna de e-mail e separado por Tab:"
   ]
  },
  {
   "cell_type": "code",
   "execution_count": null,
   "metadata": {},
   "outputs": [],
   "source": [
    "import csv\n",
    "\n",
    "with open('names.csv', 'r') as csv_file:\n",
    "    csv_reader = csv.DictReader(csv_file)\n",
    "    \n",
    "    with open('new_names', 'w') as new_file: #gravador de csv a partir de um dicionário\n",
    "        fieldnames = ['first_name', 'last_name'] #'email']\n",
    "        csv_writer = csv.DictWriter(new_file, fieldnames=fieldnames delimiter='\\t')\n",
    "        \n",
    "        csv_writer.writeheader() #grava os nomes das colunas como a primeira linha\n",
    "     \n",
    "    for line in csv_reader:\n",
    "        del line['email']\n",
    "        csv_writer.writerow(line)"
   ]
  },
  {
   "cell_type": "markdown",
   "metadata": {},
   "source": [
    "### SQLite no Python [aqui](https://www.youtube.com/watch?v=pd-0G0MigUA)\n",
    "\n",
    "---\n",
    "\n",
    "(assistido)"
   ]
  },
  {
   "cell_type": "markdown",
   "metadata": {},
   "source": [
    "### Cadeias de Markov [aqui](https://ipython-books.github.io/131-simulating-a-discrete-time-markov-chain/)\n",
    "\n",
    "---\n",
    "\n",
    "- é um processo estocástico\n",
    "\n",
    "- trabalha com transições discretas\n",
    "\n",
    "- ocorrem numa cadeia de estados de espaço-tempo\n",
    "\n",
    "- falta de memória (apenas o estado presente importa)\n",
    "\n",
    "---\n",
    "\n",
    "#### Modelagem: evolução de uma população"
   ]
  },
  {
   "cell_type": "code",
   "execution_count": 1,
   "metadata": {},
   "outputs": [],
   "source": [
    "import numpy as np\n",
    "import matplotlib.pyplot as plt\n",
    "%matplotlib inline"
   ]
  },
  {
   "cell_type": "code",
   "execution_count": 4,
   "metadata": {},
   "outputs": [],
   "source": [
    "N = 100  # tamanho máximo da população\n",
    "a = .5 / N  # taxa de natalidade\n",
    "b = .5 / N  # taxa de mortalidade"
   ]
  },
  {
   "cell_type": "markdown",
   "metadata": {},
   "source": [
    "Em cada passo t, o estado indica o tamanho da população. O vetor x porta estes dados"
   ]
  },
  {
   "cell_type": "code",
   "execution_count": 6,
   "metadata": {},
   "outputs": [],
   "source": [
    "nsteps = 1000 # número total de passos\n",
    "x = np.zeros(nsteps)\n",
    "x[0] = 25 # população inicial"
   ]
  },
  {
   "cell_type": "markdown",
   "metadata": {},
   "source": [
    "Para cada passo t, existem independentemente:\n",
    "\n",
    "- um novo nascimento, com probabilidade axt\n",
    "\n",
    "- uma nova morte, com probabilidade bxt\n",
    "\n",
    "Estas probabilidades são proporcionais ao tamanho da população neste tempo dado. Se o tamanho da população atinge 0 ou N, a evolução do sistema é congelada"
   ]
  },
  {
   "cell_type": "code",
   "execution_count": 9,
   "metadata": {},
   "outputs": [],
   "source": [
    "for t in range(nsteps - 1):\n",
    "    if 0 < x[t] < N - 1:\n",
    "        # houve o nascimento?\n",
    "        birth = np.random.rand() <= a * x[t]\n",
    "        # houve a morte?\n",
    "        death = np.random.rand() <= b * x[t]\n",
    "        # o tamanho da população é atualizado\n",
    "        x[t + 1] = x[t] + 1 * birth - 1 * death\n",
    "    # se for atingido N=0 ou N, a evolução do sistema congela\n",
    "    else:\n",
    "        x[t + 1] = x[t]"
   ]
  },
  {
   "cell_type": "markdown",
   "metadata": {},
   "source": [
    "Nada como uma boa plotagem para visualizar resultados..."
   ]
  },
  {
   "cell_type": "code",
   "execution_count": 8,
   "metadata": {},
   "outputs": [
    {
     "data": {
      "text/plain": [
       "[<matplotlib.lines.Line2D at 0x20db2ceb390>]"
      ]
     },
     "execution_count": 8,
     "metadata": {},
     "output_type": "execute_result"
    },
    {
     "data": {
      "image/png": "[encoded data removed]",
      "text/plain": [
       "<Figure size 576x288 with 1 Axes>"
      ]
     },
     "metadata": {
      "needs_background": "light"
     },
     "output_type": "display_data"
    }
   ],
   "source": [
    "fig, ax = plt.subplots(1, 1, figsize=(8, 4))\n",
    "ax.plot(x, lw=2)"
   ]
  },
  {
   "cell_type": "markdown",
   "metadata": {},
   "source": [
    "*Observação: todo modelo é antes de tudo uma **fantasia**, uma abstração da nossa mente. Um pouco como uma obra de ficção, um modelo pode ser mais ou menos realista* \n",
    "\n",
    "E isso depende:\n",
    "\n",
    "- da nossa sensibilidade com relação às nuances do mundo natural\n",
    "\n",
    "- da nossa vocação para saber relevar o que é importante e o que é supérfluo\n",
    "\n",
    "- da nossa capacidade matemática de expressar razoavelmente comportamentos naturais em elementos do nosso sistema\n",
    "\n",
    "- do nosso algoritmo de solução, da nossa capacidade computacional\n",
    "\n",
    "No caso, o modelo apresentado é curioso, mas bastante pouco realista. E o que normalmente fazemos depois de rodar uma simulação como esta? Corremos para a natureza para ver como as coisas se comportam? Bom, normalmente não. Nós podemos prosseguir evoluindo o nosso modelo e o extrapolando para diversas tentativas independentes. Hoje temos capacidade de computação de sobra para fazermos isso\n",
    "\n",
    "---\n",
    "\n",
    "Eu poderia rodar n vezes a mesma simulação, mas isso seria muito impordutivo. Ao invés disso, vetorizamos a solução. Agora o vetor x porta o tamanho da população para todas as amostras, em um tempo particular\n",
    "\n",
    "No início, os tamanhos das populações soram setados para números aleatórios entre 0 e N:"
   ]
  },
  {
   "cell_type": "code",
   "execution_count": 20,
   "metadata": {},
   "outputs": [],
   "source": [
    "namostras = 100\n",
    "x = np.random.randint(size=namostras, low=0, high=N)"
   ]
  },
  {
   "cell_type": "markdown",
   "metadata": {},
   "source": [
    "Nós definimos uma função de realiza a simulação. Para cada passo, nós encontramos as amostras nas quais haverão morte e nascimento através de vetores aleatórios. Nós atualizamos os tamanhos das populações com operações vetoriais:"
   ]
  },
  {
   "cell_type": "code",
   "execution_count": 22,
   "metadata": {},
   "outputs": [],
   "source": [
    "def simulador(x, npassos):\n",
    "    \"\"\"Roda o simulador\"\"\"\n",
    "    for _ in range(npassos - 1):\n",
    "        # quais amostras atualizar?\n",
    "        atual = (0 < x) & (x < N - 1)\n",
    "        # em quais amostras houve nascimento?\n",
    "        nascimento = 1 * (np.random.rand(namostras) <= a * x)\n",
    "        # em quais amostras houve morte?\n",
    "        morte = 1 * (np.random.rand(namostras) <= b * x)\n",
    "        # nós atualizamos os dados populacionais para todas as amostras\n",
    "        x[atual] += nascimento[atual] - morte[atual]"
   ]
  },
  {
   "cell_type": "code",
   "execution_count": 28,
   "metadata": {},
   "outputs": [
    {
     "data": {
      "image/png": "[encoded data removed]",
      "text/plain": [
       "<Figure size 864x216 with 3 Axes>"
      ]
     },
     "metadata": {
      "needs_background": "light"
     },
     "output_type": "display_data"
    }
   ],
   "source": [
    "bins = np.linspace(0, N, 25)\n",
    "npassos_lista = [10, 1000, 10000]\n",
    "fig, eixos = plt.subplots(1, len(npassos_lista),\n",
    "                         figsize=(12, 3),\n",
    "                         sharey=True)\n",
    "for i, npassos in enumerate(npassos_lista):\n",
    "    ax = eixos[i]\n",
    "    simulador(x, npassos)\n",
    "    ax.hist(x, bins=bins)\n",
    "    ax.set_xlabel(\"Tamanho da população\")\n",
    "    if i == 0:\n",
    "        ax.set_ylabel(\"Histograma\")\n",
    "    ax.set_title(f\"{npassos} passos de tempo\")"
   ]
  },
  {
   "cell_type": "code",
   "execution_count": 26,
   "metadata": {},
   "outputs": [
    {
     "name": "stdout",
     "output_type": "stream",
     "text": [
      "iterador:0 número de passos:10\n",
      "iterador:1 número de passos:1000\n",
      "iterador:2 número de passos:10000\n"
     ]
    }
   ],
   "source": [
    "npassos_lista = [10, 1000, 10000]\n",
    "for i, npassos in enumerate(npassos_lista):\n",
    "    print(\"iterador:{} número de passos:{}\".format(i, npassos))"
   ]
  },
  {
   "cell_type": "markdown",
   "metadata": {},
   "source": [
    "### Source with Memory (Markov Source)\n",
    "\n",
    "Jerzy O. Rutkwski\n",
    "\n",
    "---\n",
    "\n",
    "### 1.2. Source of Information\n",
    "\n",
    "#### 1.2.1. Memoryless source\n",
    "\n",
    "- Entropy of individual source\n",
    "\n",
    "- Joint and conditional entropy of correlated sources\n",
    "\n",
    "- Properties of entropy\n",
    "\n",
    "#### 1.2.2. Source with memory"
   ]
  },
  {
   "cell_type": "markdown",
   "metadata": {},
   "source": [
    "![picture](sourceMemory1.png)"
   ]
  },
  {
   "cell_type": "markdown",
   "metadata": {},
   "source": [
    "![picture](sourceMemory2b.png)"
   ]
  },
  {
   "cell_type": "markdown",
   "metadata": {},
   "source": [
    "![picture](sourceMemory3b.png)"
   ]
  },
  {
   "cell_type": "markdown",
   "metadata": {},
   "source": [
    "![picture](sourceMemory4.png)"
   ]
  },
  {
   "cell_type": "markdown",
   "metadata": {},
   "source": [
    "![picture](sourceMemory6.png)"
   ]
  },
  {
   "cell_type": "markdown",
   "metadata": {},
   "source": [
    "![picture](sourceMemory7.png)"
   ]
  },
  {
   "cell_type": "markdown",
   "metadata": {},
   "source": [
    "![picture](sourceMemory8.png)"
   ]
  },
  {
   "cell_type": "markdown",
   "metadata": {},
   "source": [
    "## 2. Information Channel\n",
    "\n",
    "### 2.1. Mutial Information of Discrete Memoryless Channel (DMC)\n",
    "\n",
    "### 2.2. Binary Channel & other Special Cases (BSC)\n",
    "\n",
    "- Channel Capacty (BSC)"
   ]
  },
  {
   "cell_type": "code",
   "execution_count": null,
   "metadata": {},
   "outputs": [],
   "source": []
  }
 ],
 "metadata": {
  "kernelspec": {
   "display_name": "Python 3",
   "language": "python",
   "name": "python3"
  },
  "language_info": {
   "codemirror_mode": {
    "name": "ipython",
    "version": 3
   },
   "file_extension": ".py",
   "mimetype": "text/x-python",
   "name": "python",
   "nbconvert_exporter": "python",
   "pygments_lexer": "ipython3",
   "version": "3.6.7"
  }
 },
 "nbformat": 4,
 "nbformat_minor": 2
}
