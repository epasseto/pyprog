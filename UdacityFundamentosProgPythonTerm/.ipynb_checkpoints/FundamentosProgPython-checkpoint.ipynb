{
 "cells": [
  {
   "cell_type": "markdown",
   "metadata": {},
   "source": [
    "## Curso: Fundamentos da Programação em Python"
   ]
  },
  {
   "cell_type": "markdown",
   "metadata": {},
   "source": [
    "## Aula 2 - Princípios de programação"
   ]
  },
  {
   "cell_type": "markdown",
   "metadata": {},
   "source": [
    "### Primeiro exemplo - o relógio da distração"
   ]
  },
  {
   "cell_type": "markdown",
   "metadata": {},
   "source": [
    "Aqui eu tenho a fórmula para abrir vídeos do Youtube no Jupyter..."
   ]
  },
  {
   "cell_type": "code",
   "execution_count": 3,
   "metadata": {},
   "outputs": [
    {
     "data": {
      "text/html": [
       "<iframe width=\"560\" height=\"315\" src=https://www.youtube.com/embed/S_f2qV2_U00?rel=0&amp;controls=0&amp;showinfo=0 frameborder=\"0\" allowfullscreen></iframe>"
      ],
      "text/plain": [
       "<IPython.core.display.HTML object>"
      ]
     },
     "execution_count": 3,
     "metadata": {},
     "output_type": "execute_result"
    }
   ],
   "source": [
    "#jupyter notebook --allow-root (problemas de gravação)\n",
    "from IPython.display import HTML\n",
    "\n",
    "# Youtube\n",
    "fonte = \"https://www.youtube.com/embed/S_f2qV2_U00?rel=0&amp;controls=0&amp;showinfo=0\"\n",
    "HTML('<iframe width=\"560\" height=\"315\" src={} frameborder=\"0\" allowfullscreen></iframe>'.format(str(fonte)))\n",
    "\n",
    "# Vimeo\n",
    "#HTML('<iframe src=\"https://player.vimeo.com/video/26763844?title=0&byline=0&portrait=0\" width=\"700\" height=\"394\" frameborder=\"0\"\\\n",
    "#     webkitallowfullscreen mozallowfullscreen allowfullscreen></iframe><p><a href=\"https://vimeo.com/26763844\">\\\n",
    "#     BAXTER DURY - CLAIRE (Dir Cut)</a> from <a href=\"https://vimeo.com/dannysangra\">Danny Sangra</a> on a \\\n",
    "#     href=\"https://vimeo.com\">Vimeo</a>.</p>')"
   ]
  },
  {
   "cell_type": "markdown",
   "metadata": {},
   "source": [
    "*Obs: a função abaixo não funciona no Jupyter Notebook! (mas a adaptação acima resolve)*\n",
    "<br>\n",
    "\n",
    "*Basta juntar as duas soluções e o programa fica legal!*"
   ]
  },
  {
   "cell_type": "code",
   "execution_count": null,
   "metadata": {},
   "outputs": [],
   "source": [
    "#conceito de abstração - boa parte dos detalhes de um método fica oculta, aparecendo apenas na sua documentação\n",
    "import time\n",
    "import webbrowser\n",
    "\n",
    "total_pausas = 3\n",
    "contagem_pausa = 0\n",
    "\n",
    "print('iniciei em{}'.format(time.ctime()))\n",
    "while(contagem_pausa < total_pausas):\n",
    "    time.sleep(10)\n",
    "    webbrouser.open('https://www.youtube.com/watch?v=waDW6m1XCf0')\n",
    "    pausa += 1"
   ]
  },
  {
   "cell_type": "markdown",
   "metadata": {},
   "source": [
    "---\n",
    "\n",
    "### Segundo exemplo - os arquivos numerados e embaralhados"
   ]
  },
  {
   "cell_type": "markdown",
   "metadata": {},
   "source": [
    "**Minha solução...**"
   ]
  },
  {
   "cell_type": "markdown",
   "metadata": {},
   "source": [
    "A ideia é a seguinte:\n",
    "    1. puxar os nomes de todos os arquivos do diretório para uma lista a;\n",
    "    2. retirar da lista a, retirar os caracteres numéricos e devolver uma tupla (nome anterior, nome atual);\n",
    "    3. gravar as tuplas em uma lista b;\n",
    "    4. abrir cada tupla e renomear cada arquivo."
   ]
  },
  {
   "cell_type": "code",
   "execution_count": 11,
   "metadata": {},
   "outputs": [
    {
     "name": "stdout",
     "output_type": "stream",
     "text": [
      "['.DS_Store', '16los angeles.jpg', 'athens.jpg', 'austin.jpg', 'bangalore.jpg', 'barcelona.jpg', 'beijing.jpg', 'berkeley.jpg', 'bogota.jpg', 'bristol.jpg', 'bucharest.jpg', 'buenos aires.jpg', 'cairo.jpg', 'chennai.jpg', 'chicago.jpg', 'colombo.jpg', 'dallas.jpg', 'delhi.jpg', 'edinbrugh.jpg', 'gainesville.jpg', 'houston.jpg', 'hyderabad.jpg', 'istanbul.jpg', 'ithaca.jpg', 'jacksonville.jpg', 'karachi.jpg', 'kiev.jpg', 'london.jpg', 'madrid.jpg', 'manchester.jpg', 'miami.jpg', 'new york.jpg', 'oakland.jpg', 'pune.jpg', 'rochester.jpg', 'san diego.jpg', 'san jose.jpg', 'sao paulo.jpg', 'seattle.jpg', 'seoul.jpg', 'shanghai.jpg', 'singapore.jpg', 'sunnyvale.jpg', 'sydney.jpg', 'tel aviv.jpg']\n"
     ]
    }
   ],
   "source": [
    "#jupyter notebook --allow root (no prompt de terminal, para poder acessar diretórios restritos)\n",
    "from os import listdir\n",
    "from os.path import isfile, join #isso daqui são bibliotecas para acessar e trabalhar arquivos\n",
    "\n",
    "#futuro código para uma função\n",
    "meudir = \"c:\\pyprog\\prank\"\n",
    "apenasarquivos = [f for f in listdir(meudir) if isfile(join(meudir, f))] #eu quero apenas os arquivos e não diretórios!\n",
    "\n",
    "print(apenasarquivos)"
   ]
  },
  {
   "cell_type": "code",
   "execution_count": 12,
   "metadata": {},
   "outputs": [
    {
     "name": "stdout",
     "output_type": "stream",
     "text": [
      "[('tel aviv.jpg', 'tel aviv.jpg'), ('sydney.jpg', 'sydney.jpg'), ('sunnyvale.jpg', 'sunnyvale.jpg'), ('singapore.jpg', 'singapore.jpg'), ('shanghai.jpg', 'shanghai.jpg'), ('seoul.jpg', 'seoul.jpg'), ('seattle.jpg', 'seattle.jpg'), ('sao paulo.jpg', 'sao paulo.jpg'), ('san jose.jpg', 'san jose.jpg'), ('san diego.jpg', 'san diego.jpg'), ('rochester.jpg', 'rochester.jpg'), ('pune.jpg', 'pune.jpg'), ('oakland.jpg', 'oakland.jpg'), ('new york.jpg', 'new york.jpg'), ('miami.jpg', 'miami.jpg'), ('manchester.jpg', 'manchester.jpg'), ('madrid.jpg', 'madrid.jpg'), ('london.jpg', 'london.jpg'), ('kiev.jpg', 'kiev.jpg'), ('karachi.jpg', 'karachi.jpg'), ('jacksonville.jpg', 'jacksonville.jpg'), ('ithaca.jpg', 'ithaca.jpg'), ('istanbul.jpg', 'istanbul.jpg'), ('hyderabad.jpg', 'hyderabad.jpg'), ('houston.jpg', 'houston.jpg'), ('gainesville.jpg', 'gainesville.jpg'), ('edinbrugh.jpg', 'edinbrugh.jpg'), ('delhi.jpg', 'delhi.jpg'), ('dallas.jpg', 'dallas.jpg'), ('colombo.jpg', 'colombo.jpg'), ('chicago.jpg', 'chicago.jpg'), ('chennai.jpg', 'chennai.jpg'), ('cairo.jpg', 'cairo.jpg'), ('buenos aires.jpg', 'buenos aires.jpg'), ('bucharest.jpg', 'bucharest.jpg'), ('bristol.jpg', 'bristol.jpg'), ('bogota.jpg', 'bogota.jpg'), ('berkeley.jpg', 'berkeley.jpg'), ('beijing.jpg', 'beijing.jpg'), ('barcelona.jpg', 'barcelona.jpg'), ('bangalore.jpg', 'bangalore.jpg'), ('austin.jpg', 'austin.jpg'), ('athens.jpg', 'athens.jpg'), ('16los angeles.jpg', 'los angeles.jpg')]\n"
     ]
    }
   ],
   "source": [
    "#futuro código para uma função\n",
    "arquivoslimpos = []\n",
    "while len(apenasarquivos) != 0:\n",
    "    arquivo = apenasarquivos.pop()\n",
    "    #print (arquivo)\n",
    "    if (arquivo[0]) == \".\": #descarta o arquivo estranhão que veio sem querer\n",
    "        next\n",
    "    else:\n",
    "        limpo = ''.join([i for i in arquivo if not i.isdigit()]) #não é perfeito, pois pode limpar um número não-inicial\n",
    "        #print(limpo)\n",
    "        arquivoslimpos.append((arquivo, limpo))\n",
    "        \n",
    "print(arquivoslimpos)"
   ]
  },
  {
   "cell_type": "markdown",
   "metadata": {},
   "source": [
    "Hora de renomear os arquivos..."
   ]
  },
  {
   "cell_type": "code",
   "execution_count": 13,
   "metadata": {},
   "outputs": [],
   "source": [
    "from os import rename #os.rename()\n",
    "from os import path\n",
    "\n",
    "#cada coisa dessas depois vira uma função, para ser reaproveitada mais tarde\n",
    "while len(arquivoslimpos) != 0:\n",
    "    duplanomes = arquivoslimpos.pop()\n",
    "    #print(duplanomes[0], duplanomes[1])\n",
    "    arqantigo = path.join(meudir, duplanomes[0])\n",
    "    arqnovo = path.join(meudir, duplanomes[1])\n",
    "    rename(arqantigo,arqnovo)\n",
    "    \n",
    "#old_file = os.path.join(\"directory\", \"a.txt\")\n",
    "#new_file = os.path.join(\"directory\", \"b.kml\")\n",
    "#os.rename(old_file, new_file)"
   ]
  },
  {
   "cell_type": "markdown",
   "metadata": {},
   "source": [
    "Apenas para conferir se eu esvaziei a lista de tuplas de tarefas"
   ]
  },
  {
   "cell_type": "code",
   "execution_count": 14,
   "metadata": {},
   "outputs": [
    {
     "name": "stdout",
     "output_type": "stream",
     "text": [
      "[]\n"
     ]
    }
   ],
   "source": [
    "print (arquivoslimpos)"
   ]
  },
  {
   "cell_type": "code",
   "execution_count": 15,
   "metadata": {},
   "outputs": [],
   "source": [
    "#escrever aqui a fórmula para criar minha própria biblioteca de funções"
   ]
  },
  {
   "cell_type": "markdown",
   "metadata": {},
   "source": [
    "**Solução proposta no curso...**"
   ]
  },
  {
   "cell_type": "code",
   "execution_count": 28,
   "metadata": {},
   "outputs": [
    {
     "ename": "SyntaxError",
     "evalue": "EOL while scanning string literal (<ipython-input-28-56e28f16438e>, line 26)",
     "output_type": "error",
     "traceback": [
      "\u001b[1;36m  File \u001b[1;32m\"<ipython-input-28-56e28f16438e>\"\u001b[1;36m, line \u001b[1;32m26\u001b[0m\n\u001b[1;33m    renomear_arquivos()\"\"\"\"\u001b[0m\n\u001b[1;37m                           \n^\u001b[0m\n\u001b[1;31mSyntaxError\u001b[0m\u001b[1;31m:\u001b[0m EOL while scanning string literal\n"
     ]
    }
   ],
   "source": [
    "import os - não é necessário, pois já importei individualmente as funções do os\n",
    "import sys\n",
    "from os import listdir, getcwd, rename, chdir\n",
    "from string import maketrans\n",
    "def renomear_arquivos():\n",
    "    #pego arquivos da pasta\n",
    "    lista_arquivos = listdir(r\"C:\\pyprog\\prank\") #esse r é para o Python pegar dados raw (brutos) e não tentar interpretá-los\n",
    "    print(lista_arquivos)\n",
    "    caminho_salvo = getcwd() #isso aqui captura o diretório de trabalho atual\n",
    "    print(\"Atual diretório de trabalho é {}\".format(caminho_salvo))\n",
    "    chdir(r\"C:\\pyptrog\\prank\")\n",
    "    \n",
    "    #para cada arquivo, renomeio o arquivo\n",
    "    for nome_arquivo in lista_arquivos:\n",
    "        print(\"Nome antigo - {}\".format(nome_arquivo))\n",
    "        print(\"Nome novo - {}\".format(nome_arquivo.translate(None, \"0123456789\"))\n",
    "        rename(arqantigo, arqnovo)\n",
    "        rename(nome_arquivo, nome_arquivo) #.translate(None, \"0123456789\")) #uso do método translate\n",
    "    chdir(caminho_salvo) #retorno ao meu diretório de trabalho anterior\n",
    "\n",
    "renomear_arquivos()"
   ]
  },
  {
   "cell_type": "markdown",
   "metadata": {},
   "source": [
    "*Para corrigir o uso do método translate()...*"
   ]
  },
  {
   "cell_type": "code",
   "execution_count": 54,
   "metadata": {},
   "outputs": [
    {
     "name": "stdout",
     "output_type": "stream",
     "text": [
      "String original:  abcdef\n",
      "{97: None, 98: None, 99: 105}\n",
      "{a: None, b: None, c: i}\n",
      "String traduzida:  idef\n"
     ]
    }
   ],
   "source": [
    "primeira= \"abc\"\n",
    "segunda = \"ghi\"\n",
    "terceira = \"ab\"\n",
    "\n",
    "string = \"abcdef\"\n",
    "print(\"String original: \", string)\n",
    "\n",
    "traducao = string.maketrans(primeira, segunda, terceira) #cria um dicionário de tradução de elementos\n",
    "\n",
    "print(traducao)\n",
    "print (\"{\"+chr(97)+\": None, \"+chr(98)+\": None, \"+chr(99)+\": \"+chr(105)+\"}\") #isso aqui é como ficou meu dicionário de tradução!\n",
    "\n",
    "# translate string\n",
    "resposta = string.translate(tradução) #faz a tradução em si\n",
    "print(\"String traduzida: \",resposta )"
   ]
  },
  {
   "cell_type": "markdown",
   "metadata": {},
   "source": [
    "*Explicação:*\n",
    "<br>\n",
    "\n",
    "Isso serve para transcrever caracteres **individuais** dentro de uma string de texto.\n",
    "<br>\n",
    "\n",
    "Um **dicionário** é criado pelo método *.maketrans()*, contendo toda a transcrição. Depois esse dicionário é chamado, através do método *.translate()*\n",
    "<br>\n",
    "\n",
    "Da primeira para segunda, que é de **transcrição**, há o mapeamento dos caracteres a serem trocados (quando e na ordem em que eles aparecem):\n",
    " a->g b->h c->i\n",
    "<br>\n",
    "\n",
    "Mas a terceira, que é a de **remoção**, dá o comando de apagar os caracteres a e b (no dicionário, estes são vistos apontando para *None*)\n",
    "<br>\n",
    "\n",
    "assim:\n",
    "1. os três últimos caracteres não são modificados, pois não há nenhum comando sobre eles\n",
    "2. a e b são eliminados, por conta da string de eliminação\n",
    "3. c é substituído por i\n",
    "<br>\n",
    "\n",
    "*Essa ferramenta é ótima para consertar aqueles arquivos que ficam corrompidos, como \"Esta procura&#o foi anexada ao proces-so de readapta&#o...\", que se houver paridade na transcrição ficará certa como \"Esta procuração foi anexada ao processo de readaptação...\"*  "
   ]
  },
  {
   "cell_type": "markdown",
   "metadata": {},
   "source": [
    "Lidar com erros (exceções):\n",
    "    1. tentamos renomear um arquivo que não existe;\n",
    "    2. tentamos renomear um arquivo cujo nome já existe naquela pasta."
   ]
  },
  {
   "cell_type": "code",
   "execution_count": null,
   "metadata": {},
   "outputs": [],
   "source": [
    "#try:\n",
    "#    os.rename(...)\n",
    "#except ... : <-o mais chato é saber qual a exceção certa para se colocar aqui!\n",
    "#    print(\"AVISO: ...\") <-aqui deve se ter uma decisão: mostra-se um aviso, interrompe-se o processo, passa para o próximo...\n",
    "#else:\n",
    "#    os.rename(...) <-isso aqui é meu código de fato (servem também os comandos \"raise\" e \"finally:\")"
   ]
  },
  {
   "cell_type": "code",
   "execution_count": 27,
   "metadata": {},
   "outputs": [
    {
     "name": "stdout",
     "output_type": "stream",
     "text": [
      "<module 'os' from 'C:\\\\ProgramData\\\\Anaconda3\\\\lib\\\\os.py'>\n"
     ]
    }
   ],
   "source": [
    "import os\n",
    "\n",
    "print(os)"
   ]
  },
  {
   "cell_type": "markdown",
   "metadata": {},
   "source": [
    "---\n",
    "\n",
    "## Aula 3 - Orientação a objeto com Turtle"
   ]
  },
  {
   "cell_type": "markdown",
   "metadata": {},
   "source": [
    "### Conceito de Template\n",
    "<br>\n",
    "\n",
    "quando as funções não bastam... crie uma *classe*!"
   ]
  },
  {
   "cell_type": "markdown",
   "metadata": {},
   "source": [
    "**Tartaruga**"
   ]
  },
  {
   "cell_type": "markdown",
   "metadata": {},
   "source": [
    "Para istalar, use o pip: (obs: logue em modo administrador!)\n",
    "- pip install ipyturtle\n",
    "- jupyter nbextension enable --py --sys-prefix ipyturtle\n",
    "<br>\n",
    "\n",
    "Para instalar o git no windows: (idem!)\n",
    "\n",
    "    conda install -c swc git_windows\n",
    "<br>\n",
    "\n",
    "Para instalação de desenvolvedor: (necessita do npm)\n",
    "- git clone https://github.com/gkvoelkl/ipython-turtle-widget.git\n",
    "- cd ipython-turtle-widget\n",
    "- pip install -e .\n",
    "- jupyter nbextension install --py --symlink --sys-prefix ipyturtle\n",
    "- jupyter nbextension enable --py --sys-prefix ipyturtle\n",
    "\n",
    "[origem](https://github.com/gkvoelkl/ipython-turtle-widget)\n",
    "<br>\n",
    "\n",
    "    pip3 install --upgrade pip\n",
    "    pip3 install jupyter\n",
    "    npm install -g ijavascript\n",
    "    ijsinstall\n",
    "    \n",
    "    node -v\n",
    "    npm -v\n",
    "    "
   ]
  },
  {
   "cell_type": "markdown",
   "metadata": {},
   "source": [
    "To install use pip:\n",
    "<br>\n",
    "\n",
    "    pip install ipyturtle $ jupyter nbextension enable --py --sys-prefix ipyturtle\n",
    "\n",
    "For a development installation (requires npm):\n",
    "<br>\n",
    "\n",
    "    git clone https://github.com/gkvoelkl/ipython-turtle-widget.git $ cd ipython-turtle-widget $ pip \n",
    "<br>\n",
    "\n",
    "    install -e . $ jupyter nbextension install --py --symlink --sys-prefix ipyturtle $ jupyter \n",
    "<br>\n",
    "\n",
    "    nbextension enable --py --sys-prefix ipyturtle\n",
    "    \n",
    "[fonte](https://pypi.org/project/ipyturtle/)"
   ]
  },
  {
   "cell_type": "code",
   "execution_count": 140,
   "metadata": {},
   "outputs": [
    {
     "data": {
      "application/vnd.jupyter.widget-view+json": {
       "model_id": "60e8b7abb109411ebadcdcee6ceebec9",
       "version_major": 2,
       "version_minor": 0
      },
      "text/plain": [
       "Turtle()"
      ]
     },
     "metadata": {},
     "output_type": "display_data"
    }
   ],
   "source": [
    "from ipyturtle import Turtle\n",
    "#print(ipyturtle)\n",
    "\n",
    "t2 = Turtle(fixed=False, width=400, height=400)\n",
    "t2"
   ]
  },
  {
   "cell_type": "code",
   "execution_count": 141,
   "metadata": {},
   "outputs": [],
   "source": [
    "t2.back(40)"
   ]
  },
  {
   "cell_type": "code",
   "execution_count": 142,
   "metadata": {},
   "outputs": [],
   "source": [
    "t2.forward(100)"
   ]
  },
  {
   "cell_type": "code",
   "execution_count": 143,
   "metadata": {},
   "outputs": [
    {
     "data": {
      "text/plain": [
       "(0.0, 60.0)"
      ]
     },
     "execution_count": 143,
     "metadata": {},
     "output_type": "execute_result"
    }
   ],
   "source": [
    "t2.position()"
   ]
  },
  {
   "cell_type": "code",
   "execution_count": 144,
   "metadata": {},
   "outputs": [],
   "source": [
    "t2.right(90)"
   ]
  },
  {
   "cell_type": "code",
   "execution_count": 145,
   "metadata": {},
   "outputs": [
    {
     "data": {
      "text/plain": [
       "0"
      ]
     },
     "execution_count": 145,
     "metadata": {},
     "output_type": "execute_result"
    }
   ],
   "source": [
    "t2.heading()"
   ]
  },
  {
   "cell_type": "code",
   "execution_count": 146,
   "metadata": {},
   "outputs": [],
   "source": [
    "t2.forward(150)"
   ]
  },
  {
   "cell_type": "code",
   "execution_count": 147,
   "metadata": {},
   "outputs": [],
   "source": [
    "t2.left(45)"
   ]
  },
  {
   "cell_type": "code",
   "execution_count": 148,
   "metadata": {},
   "outputs": [],
   "source": [
    "t2.back(100)"
   ]
  },
  {
   "cell_type": "code",
   "execution_count": 149,
   "metadata": {},
   "outputs": [],
   "source": [
    "t2.left(45)"
   ]
  },
  {
   "cell_type": "code",
   "execution_count": 150,
   "metadata": {},
   "outputs": [],
   "source": [
    "t2.penup()"
   ]
  },
  {
   "cell_type": "code",
   "execution_count": 151,
   "metadata": {},
   "outputs": [],
   "source": [
    "t2.forward(100)"
   ]
  },
  {
   "cell_type": "code",
   "execution_count": 152,
   "metadata": {},
   "outputs": [],
   "source": [
    "t2.reset()"
   ]
  },
  {
   "cell_type": "code",
   "execution_count": 153,
   "metadata": {},
   "outputs": [],
   "source": [
    "def triangle():\n",
    "    for i in range(3):\n",
    "        t2.forward(100)\n",
    "        t2.right(120)\n",
    "        \n",
    "triangle()"
   ]
  },
  {
   "cell_type": "code",
   "execution_count": 157,
   "metadata": {},
   "outputs": [
    {
     "data": {
      "application/vnd.jupyter.widget-view+json": {
       "model_id": "e74e01537abb426cb6b0cae786bc1629",
       "version_major": 2,
       "version_minor": 0
      },
      "text/plain": [
       "Turtle()"
      ]
     },
     "metadata": {},
     "output_type": "display_data"
    }
   ],
   "source": [
    "t = Turtle(fixed=False, width=400, height=200)\n",
    "\n",
    "def circle():\n",
    "    for i in range(360):\n",
    "        t.forward(1)\n",
    "        t.right(1)\n",
    "\n",
    "t"
   ]
  },
  {
   "cell_type": "code",
   "execution_count": 158,
   "metadata": {},
   "outputs": [],
   "source": [
    "circle()"
   ]
  },
  {
   "cell_type": "code",
   "execution_count": 55,
   "metadata": {},
   "outputs": [],
   "source": [
    "def draw_square():\n",
    "    janela = turtle.Screen()\n",
    "    janela.bgcolor(\"red\")\n",
    "    \n",
    "    talita = turtle.Turtle()\n",
    "    talita.forward(100)\n",
    "    \n",
    "    janela.exitonclick()\n",
    "\n",
    "#draw_square()"
   ]
  },
  {
   "cell_type": "markdown",
   "metadata": {},
   "source": [
    "A sintaxe no Jupyter Notebook é um pouco mais sofisticada. Na linha de comando do Python (e no curso) ficou assim:\n",
    "<br>\n",
    "\n",
    "*obs: isso não funcionará aqui!*\n",
    "<br>\n",
    "\n",
    "Dentro do python existe um módulo chamado **turtle** e uma classe chamada **Turtle**.\n",
    "<br>\n",
    "\n",
    "Por sua vez, existem diversós métodos para a classe **Turtle**, como:\n",
    "1. forward()\n",
    "2. backward()\n",
    "3. right()\n",
    "<br>\n",
    "...\n",
    "\n",
    "Pensar em classe como a **planta** de um edifício e instância, ou objeto como edifícios **materializados** seguindo as diretivas gerais da planta.\n",
    "<br>\n",
    "\n",
    "*Observe que:* dentro da classe Turtle existe um método chamado def _ _init_ _ !\n",
    "<br>\n",
    "\n",
    "Isso cria um espaço na memória, materializando o meu objeto!"
   ]
  },
  {
   "cell_type": "code",
   "execution_count": null,
   "metadata": {},
   "outputs": [],
   "source": [
    "import turtle\n",
    "\n",
    "def draw_squase():\n",
    "    window = turtle.Screen()\n",
    "    window.bgcolor(\"red\")\n",
    "    \n",
    "    brad = turtle.Turtle() #primeira tartaruga\n",
    "    brad.shape(\"turtle\")\n",
    "    brad.color(\"yellow\")\n",
    "    brad.speed(2)\n",
    "    \n",
    "    brad = turtle.Turtle #movimentos da primeira tartaruga\n",
    "    brad.forward(100)\n",
    "    brad.right(90)\n",
    "    \n",
    "    angie = turtle.Turtle() #segunda tartaruga\n",
    "    angie.shape(\"arrow\")\n",
    "    angie.color(\"blue\")\n",
    "    \n",
    "    angie.circle(100) #movimento da segunda tartaruga\n",
    "\n",
    "    window.exitonclick()\n",
    "    \n",
    "draw_square()"
   ]
  },
  {
   "cell_type": "markdown",
   "metadata": {},
   "source": [
    "**Desenhando a mandala**\n",
    "<br>\n",
    "\n",
    "1-crie uma função para desenhar um quadrado\n",
    "\n",
    "2-varie 10 graus a posição de início\n",
    "\n",
    "3-chame a função de desenhar o quadrado por 36 vezes"
   ]
  },
  {
   "cell_type": "code",
   "execution_count": null,
   "metadata": {},
   "outputs": [],
   "source": [
    "import turtle\n",
    "\n",
    "def draw_squase(some_turtle):\n",
    "    for i in range(1,5):\n",
    "    some_turtle.forward(100)\n",
    "    some_turtle.right(90)\n",
    "\n",
    "def draw_art():\n",
    "    window = turtle.Screen()\n",
    "    window.bgcolor(\"red\")\n",
    "    \n",
    "    brad = turtle.Turtle() #primeira tartaruga\n",
    "    brad.shape(\"turtle\")\n",
    "    brad.color(\"yellow\")\n",
    "    brad.speed(2)\n",
    "     \n",
    "    for i in range (0,37):\n",
    "        draw_square(brad)\n",
    "        brad_right(10)\n",
    "        \n",
    "    angie = turtle.Turtle() #segunda tartaruga\n",
    "    angie.shape(\"arrow\")\n",
    "    angie.color(\"blue\")\n",
    "    angie.circle(100)\n",
    "\n",
    "    window.exitonclick()\n",
    "    \n",
    "draw_square()"
   ]
  },
  {
   "cell_type": "markdown",
   "metadata": {},
   "source": [
    "**Miniprojeto:** construir código para desenhar uma coisa qualquer usando Turtle (fractal, etc..)"
   ]
  },
  {
   "cell_type": "markdown",
   "metadata": {},
   "source": [
    "---\n",
    "\n",
    "## Aula 4 - Classes enviando mensagens via celular com Twilio\n",
    "<br>\n",
    "\n",
    "Instalado pelo Anaconda Prompt com:\n",
    "\n",
    "    conda install -c thompa2 twilio \n",
    "    \n",
    "*para conferir as várias versões, eu entrei no Anaconda Navigator, loguei na cloud e busquei pelo Twilio\n",
    "<br>\n",
    "\n",
    "*GitHub ajuda!*\n",
    "<br>\n",
    "\n",
    "a ordem dos nossos objetos é...\n",
    "<br>\n",
    "\n",
    "twilio                                    <- biblioteca fora do Python \n",
    "<br>\n",
    "........|-> rest\n",
    "<br>\n",
    "...................|-> TwilioRestClient  <-essa aqui é nossa classe!\n",
    "<br>\n",
    ".................................................|-> def _ _init_ _ <-função dentro da classe!\n",
    "<br>\n",
    "\n",
    "e quando chamamos a função _ _init_ _, ela se materializa através de uma **instância**, também chamada de **cliente**\n",
    "<br>\n",
    "\n",
    "1175b664b31ea6e4cc8a58626b326844"
   ]
  },
  {
   "cell_type": "code",
   "execution_count": 4,
   "metadata": {},
   "outputs": [
    {
     "name": "stdout",
     "output_type": "stream",
     "text": [
      "6.15.1\n"
     ]
    }
   ],
   "source": [
    "import twilio\n",
    "print(twilio.__version__)"
   ]
  },
  {
   "cell_type": "code",
   "execution_count": null,
   "metadata": {},
   "outputs": [],
   "source": [
    "#este código está desatualizado e não funciona mais!\n",
    "from twilio.rest import TwilioRestClient\n",
    "\n",
    "account_sid = \"AC94c160dfb332f6711fb947c50119f0e3\"\n",
    "auth_token = \"1175b664b31ea6e4cc8a58626b326844\"\n",
    "client = TwilioRestClient(account_sid, auth_token)\n",
    "\n",
    "corpo = \"teste\"\n",
    "destino = \"+5561981652571\"\n",
    "origem = \"+5561981652571\"\n",
    "\n",
    "message = client.sms.messages.create(body=corpo, to=destino, from_=origem)\n",
    "print (message.sid)"
   ]
  },
  {
   "cell_type": "markdown",
   "metadata": {},
   "source": [
    "**Observação:** seria necessário ter um telefone de origem que permitisse mensagens SMS sem custo. Isso no Brasil não é permitido!"
   ]
  },
  {
   "cell_type": "code",
   "execution_count": null,
   "metadata": {},
   "outputs": [],
   "source": [
    "from twilio.rest import Client\n",
    "\n",
    "account_sid = \"AC94c160dfb332f6711fb947c50119f0e3\"\n",
    "auth_token = \"1175b664b31ea6e4cc8a58626b326844\"\n",
    "client = Client(account_sid, auth_token)\n",
    "\n",
    "corpo = \"teste\"\n",
    "destino = \"+5561981652571\"\n",
    "origem = \"+5561981652571\"\n",
    "\n",
    "print(origem)\n",
    "print(destino)\n",
    "\n",
    "message = client.messages.create(body=corpo, from_=origem, to=destino)\n",
    "print (message.sid)"
   ]
  },
  {
   "cell_type": "markdown",
   "metadata": {},
   "source": [
    "**Explicação**\n",
    "<br>\n",
    "\n",
    "quando eu dou o comando:\n",
    "\n",
    "    brad = turtle.Turtle()\n",
    "    \n",
    "eu estou dizendo para o Python:\n",
    "\n",
    "- que dentro do Python existe um **arquivo** chamado turtle\n",
    "- e que dentro deste arquivo existe uma **classe** chamada .Turtle()\n",
    "- e por fim, que eu quero materializar na minha memória uma **instância** desta classe, chamada brad!\n",
    "\n",
    "a hora que eu aciono _ _init_ _ com:\n",
    "\n",
    "    class Turtle():\n",
    "        def __init__():\n",
    "\n",
    "eu estou chamando a **função init** definida dentro da classe. Essa função inicializa o objeto, ou cria espaço na memória para uma nova instância, que se chama **brad**\n",
    "<br>\n",
    "\n",
    "da mesma maneira:\n",
    "\n",
    "    client = rest.TwilioRestClient()\n",
    "\n",
    "eu estou dizendo para o Python:\n",
    "\n",
    "- que dentro do Twilio existe uma **pasta** chamada rest\n",
    "- que dentro desta pasta existe um **arquivo** contendo uma classe chamada .TwilioRestClient()\n",
    "- e ao fechar os parênteses de .TwilioRestClient(), estou na verdade chamando a função <u>init</u> definida dentro da classe!\n",
    "\n",
    "esta função _ _init_ _ cria o espaço na memória para minha **instância** client assim:\n",
    "\n",
    "    class TwilioRestClient():\n",
    "        def __init__():"
   ]
  },
  {
   "cell_type": "markdown",
   "metadata": {},
   "source": [
    "---\n",
    "\n",
    "## Aula 5 - Usando classes: editor de palavrões\n",
    "\n",
    "Etapas do programa:\n",
    "\n",
    "- 1 Abrir o texto\n",
    "\n",
    "- 2 Rastrear o texto em busca de strings a partir de duas letras (c*)\n",
    "\n",
    "- 3 Checar esta string e comparar ao dicionário de proibidos\n",
    "\n",
    "- 4 Se constar, bloquear o envio e exibir mensagem de alerta\n",
    "\n",
    "*Open é uma função built-in*\n",
    "\n",
    "*citacoes é uma objeto da classe Open, ou em outras palavras, uma instância de arquivo*\n",
    "\n",
    "*dentro de cada objeto Python existe um método **Init** que faz com que ele lhe retorne o resultado*\n",
    "\n",
    "*observação: cada espaço deveria ser substituído por % no texto. É por isso que a implementação toda não funciona!*"
   ]
  },
  {
   "cell_type": "code",
   "execution_count": 91,
   "metadata": {},
   "outputs": [
    {
     "name": "stdout",
     "output_type": "stream",
     "text": [
      "-- Houston, we have a problem. (Apollo 13)\n",
      "\n",
      "-- Mama always said, life is like a box of chocolates. You never know what you are going to get. (Forrest Gump)\n",
      "\n",
      "-- You cant handle the truth. (A Few Good Men)\n",
      "\n",
      "-- I believe everything and I believe nothing. (A Shot in the Dark)\n",
      "Parece OK\n"
     ]
    }
   ],
   "source": [
    "import urllib.request as url\n",
    "import json\n",
    "\n",
    "def ler_texto():\n",
    "    citacoes = open(\"c:/pyprog/UdacityFundamentosProgPython/movie_quotes.txt\")\n",
    "    conteudo = citacoes.read()\n",
    "    print(conteudo)\n",
    "    citacoes.close()\n",
    "    checar_profano(conteudo)\n",
    "    \n",
    "def checar_profano(texto_checar):\n",
    "    conexao = url.urlopen(\"https://www.purgomalum.com/service/containsprofanity?text=shoot\")#+texto_checar)\n",
    "    resultado = conexao.read()\n",
    "    resposta = json.loads(resultado)\n",
    "    conexao.close()\n",
    "    if resposta == True:\n",
    "        print(\"Alerta de palavrão!!\")\n",
    "    elif resposta == False:\n",
    "        print(\"Parece OK\")\n",
    "    else:\n",
    "        print(\"Não consegui conexão\")\n",
    "\n",
    "ler_texto()"
   ]
  },
  {
   "cell_type": "markdown",
   "metadata": {},
   "source": [
    "*Observe que compreensão de lista gera um código enxuto, mas meio confuso. Outro problema é que isso é bom para coisas **simples**. Se eu tento colocar aqui as limpezas de caracteres desnecessários, não dá certo!*"
   ]
  },
  {
   "cell_type": "code",
   "execution_count": 162,
   "metadata": {},
   "outputs": [],
   "source": [
    "def leia_palavras(arquivo_palavras):\n",
    "    a = [palavra for linha in open(arquivo_palavras, 'r') for palavra in linha.split()]\n",
    "    return a\n",
    "    \n",
    "arquivo = \"c:/pyprog/UdacityFundamentosProgPython/movie_quotes.txt\"\n",
    "r = leia_palavras(arquivo)"
   ]
  },
  {
   "cell_type": "markdown",
   "metadata": {},
   "source": [
    "Eu ainda prefiro mexer com o velho e bom código no jeito tradicional:\n",
    "\n",
    "*Se eu quiser, já em posse da minha lista de palavras, posso eliminar aquelas que se constituem de **números** (13) e aquelas que possuem um **único caractere** (a). Eu limpei apenas os caracteres especiais. Normalmente em filtragens, se faz as coisas por etapas. Por quê? Por uma razão simples, de uma hora eu precisar voltar lá, fica mais fácil **auditar**. Pense por exemplo, se na hora de limpar eu dissesse que nunca existirá um palavrão com apenas **duas letras** mas... existe!* "
   ]
  },
  {
   "cell_type": "code",
   "execution_count": 9,
   "metadata": {},
   "outputs": [
    {
     "name": "stdout",
     "output_type": "stream",
     "text": [
      "Houston we have a problem Apollo 13 Mama always said life is like a box of chocolates You never know what you are going to get Forrest Gump You cant handle the truth A Few Good Men I believe everything and I believe nothing A Shot in the Dark "
     ]
    }
   ],
   "source": [
    "def le_palavras(arquivo):\n",
    "    arquivo_aberto = open(arquivo, 'r')\n",
    "    lista_palavras =[]\n",
    "    conteudos = arquivo_aberto.readlines()\n",
    "    for i in range(len(conteudos)):\n",
    "         lista_palavras.extend(\n",
    "             conteudos[i].replace(\"(\", \"\").replace(\")\", \"\").replace(\n",
    "                 \"-\", \"\").replace(\",\", \"\").replace(\".\", \"\").split())\n",
    "    return lista_palavras\n",
    "    open_file.close()\n",
    "\n",
    "arquivo_end = \"c:/pyprog/UdacityFundamentosProgPython/movie_quotes.txt\"\n",
    "r = le_palavras(arquivo_end)\n",
    "\n",
    "for i in range(len(r)): \n",
    "    print(r[i], end=' ')"
   ]
  },
  {
   "cell_type": "markdown",
   "metadata": {},
   "source": [
    "---\n",
    "\n",
    "## Aula 6 - Criando classes: site de filmes\n",
    "\n",
    "Ideias para minha classe Filmes:\n",
    "\n",
    "- Título\n",
    "\n",
    "- crítica\n",
    "\n",
    "- imagem do poster de cinema\n",
    "\n",
    "- trailer do Youtube\n",
    "\n",
    "*Observação: o Google Python Style Guide diz que classes devem começar com uma letra maiúscula(deprecado) - substituído pelo Google Python Style Guide [aqui](https://github.com/google/styleguide/blob/gh-pages/pyguide.md)*"
   ]
  },
  {
   "cell_type": "markdown",
   "metadata": {},
   "source": [
    "Eu gravo em disco a minha classe como media.py\n",
    "\n",
    "*Observação: os underlines dizem que Init é uma palavra **reservada** na linguagem Python. Então esta é uma função ou método especial*\n",
    "\n",
    "*Observação: o parâmetro **Self** significa que o objeto é criado. Isso no Python é explícito. No nosso caso self->Toy Story*"
   ]
  },
  {
   "cell_type": "code",
   "execution_count": 1,
   "metadata": {},
   "outputs": [],
   "source": [
    "import webbrowser\n",
    "\n",
    "class Movie():\n",
    "    def __init__ (self, movie_title, movie_storyline, poster_image, trailer_youtube):\n",
    "        self.title = movie_title\n",
    "        self.storyline = movie_storyline #uma variável storyline será apenas uma variável LOCAL!\n",
    "        self.poster_image_url = poster_image\n",
    "        self.trailer_youtube_url = trailer_youtube\n",
    "        \n",
    "    def show_trailer(self):\n",
    "        webbrowser.open(self.trailer_youtube_url)"
   ]
  },
  {
   "cell_type": "markdown",
   "metadata": {},
   "source": [
    "Isso será o meu entertainment_center.py\n",
    "\n",
    "*Observação: em geral é considerado boa prática ter as classes em um arquivo e o código em outro*\n",
    "\n",
    "*Quando criamos a instância Toy Story, chamamos a função **Init** dentro da classe Movie! Ela inicializa ou cria espaço na memória para Toy Story. É como o **Summon** do magos de jogos de RPG: Toy Story é materializado e passa a ocupar espaço físico no Universo*\n",
    "\n",
    "*Observe que quanado eu passo os **parâmetros** para criação do meu objeto, eu dispenso o primeiro. Ele será gerado pela própria Classe (Self)*\n",
    "\n",
    "*Para rodar o código abaixo, eu gravei no mesmo diretório em que está este Jupyter Notebook o arquivo media.py, contendo o código da célula acima. Por que eu fiz isso? Apenas para seguir o mesmo padrão do exemplo de aula!*"
   ]
  },
  {
   "cell_type": "code",
   "execution_count": 5,
   "metadata": {},
   "outputs": [
    {
     "name": "stdout",
     "output_type": "stream",
     "text": [
      "<media.Movie object at 0x000001EBB03297B8>\n",
      "A story of a boy and his toys that come to life\n"
     ]
    }
   ],
   "source": [
    "import media\n",
    "\n",
    "toy_story = media.Movie(\"Toy Story\",\n",
    "                        \"A story of a boy and his toys that come to life\",\n",
    "                        \"https://en.wikipedia.org/wiki/Toy_Story#/media/File:Toy_Story.jpg\",\n",
    "                        \"https://www.youtube.com/watch?v=KYz2wyBy3kc\")\n",
    "print(toy_story)\n",
    "print(toy_story.storyline) #isso aqui é uma variável de instância!\n",
    "\n",
    "avatar = media.Movie(\"Avatar\",\n",
    "                     \"A marine on an alien planet\",\n",
    "                     \"https://en.wikipedia.org/wiki/Avatar_(2009_film)#/media/File:Avatar-Teaser-Poster.jpg\",\n",
    "                     \"https://www.youtube.com/watch?v=6ziBFh3V1aM\")\n",
    "\n",
    "#avatar.show_trailer()\n",
    "\n",
    "school_of_rock = media.Movie(\"School of Rock\",\n",
    "                             \"Using rock music to learn\",\n",
    "                             \"https://en.wikipedia.org/wiki/School_of_Rock#/media/File:School_of_Rock_Poster.jpg\",\n",
    "                             \"https://www.youtube.com/watch?v=XCwy6lW5Ixc\")\n",
    "\n",
    "ratatouille = media.Movie(\"Ratatouille\",\n",
    "                          \"A rat is a chef in Paris\",\n",
    "                          \"https://en.wikipedia.org/wiki/Ratatouille_(film)#/media/File:RatatouillePoster.jpg\",\n",
    "                          \"https://www.youtube.com/watch?v=c3sBBRxDAqk\")\n",
    "\n",
    "midnight_in_paris = media.Movie(\"Midnight in Paris\",\n",
    "                                \"Going back in time to meet authors\",\n",
    "                                \"https://en.wikipedia.org/wiki/Midnight_in_Paris#/media/File:Midnight_in_Paris_Poster.jpg\",\n",
    "                                \"https://www.youtube.com/watch?v=FAfR8omt-CY\")\n",
    "\n",
    "hunger_games = media.Movie(\"Hunger Games\",\n",
    "                           \"A really real reality show\",\n",
    "                           \"https://pt.wikipedia.org/wiki/The_Hunger_Games:_Catching_Fire#/media/File:Catching_Fire_-_P%C3%B4ster.jpg\",\n",
    "                           \"https://www.youtube.com/watch?v=mfmrPu43DF8\")"
   ]
  },
  {
   "cell_type": "markdown",
   "metadata": {},
   "source": [
    "---\n",
    "\n",
    "### Vocabulário:\n",
    "\n",
    "- Classe (Class)\n",
    "\n",
    "- Construtor (Constructor)\n",
    "\n",
    "- Self\n",
    "\n",
    "- Variáveis de Instância (Instance Variables)\n",
    "\n",
    "- Métodos de Instância (Instance Methods)"
   ]
  },
  {
   "cell_type": "markdown",
   "metadata": {},
   "source": [
    "fresh_tomatoes.py\n",
    "\n",
    "Dentro dele, uma função:\n",
    "\n",
    "    def open_movies_page\n",
    "    \n",
    "lista de filmes -> [.....] -> um website que exibe estes filmes"
   ]
  },
  {
   "cell_type": "code",
   "execution_count": 7,
   "metadata": {},
   "outputs": [],
   "source": [
    "import fresh_tomatoes\n",
    "\n",
    "movies = [toy_story, avatar, ratatouille, midnight_in_paris, hunger_games]\n",
    "\n",
    "fresh_tomatoes.open_movies_page(movies)"
   ]
  },
  {
   "cell_type": "markdown",
   "metadata": {},
   "source": [
    "---\n",
    "\n",
    "### Rememorar\n",
    "\n",
    "É boa prática em programação, ao criar uma biblioteca de qualquer coisa, tornar as funções o máximo possível **reaproveitáveis**\n",
    "\n",
    "E colocar um **teste interno** é tambem ótima prática. Isso aqui está escrito para uma função, mas o uso em uma classe é idêntico!"
   ]
  },
  {
   "cell_type": "code",
   "execution_count": null,
   "metadata": {},
   "outputs": [],
   "source": [
    "### useful_functions.py\n",
    "def mean(num_list):\n",
    "    return sum(num_list) / len(num_list)\n",
    "\n",
    "def main():\n",
    "    print(\"Testing mean function\")\n",
    "    n_list = [34, 44, 23, 46, 12, 24]\n",
    "    correct_mean = 30.5\n",
    "    assert(mean(n_list) == correct_mean)\n",
    "\n",
    "    print(\"All tests passed!\")\n",
    "\n",
    "if __name__ == '__main__':\n",
    "    main()"
   ]
  },
  {
   "cell_type": "markdown",
   "metadata": {},
   "source": [
    "---\n",
    "\n",
    "## Aula 7 - Criando classes: tópicos avançados\n",
    "\n",
    "#### Variáveis de instância\n",
    "\n",
    "Observe a seguinte classe:\n",
    "\n",
    "    class Movie():\n",
    "        def __init__ (self, movie_title, movie_storyline, poster_image, trailer_youtube):\n",
    "            self.title = movie_title <-variável de instância!\n",
    "            ...\n",
    "\n",
    "As informações são associadas a cada **instância** que você criar. Um Objeto **movie**:\n",
    " \n",
    "    toy_story\n",
    "        title=\"Toy Story\"\n",
    "        ...\n",
    "        \n",
    "Outro objeto **movie**:\n",
    "\n",
    "    avatar\n",
    "        title=\"Avatar\"\n",
    "        ...\n",
    "        \n",
    "---\n",
    "\n",
    "#### Variáveis de classe\n",
    "\n",
    "Agora considere uma variável para possíveis classificações para filmes:\n",
    "\n",
    "    valid_ratings =[\"G\", \"PG\", \"PR-13\", \"R\"]\n",
    "    \n",
    "Não faz sentido que ela fosse atribuída a um filme, mas sim à **classe** filmes:\n",
    "\n",
    "*Observe que não suponho que essa variável irá ser alterada. Portanto, isso é uma CONSTANTE! E constantes são recomendadas pelos estilos Google, a serem definidas em nomes em caixa alta*"
   ]
  },
  {
   "cell_type": "code",
   "execution_count": 13,
   "metadata": {},
   "outputs": [],
   "source": [
    "class Movie():\n",
    "    VALID_RATINGS=[\"G\", \"PG\", \"PR-13\", \"R\"] # <-definida no nível de CLASSE e fora da função init\n",
    "    \n",
    "    def __init__ (self, movie_title, movie_storyline, poster_image, trailer_youtube):\n",
    "        self.title = movie_title\n",
    "        self.storyline = movie_storyline #uma variável storyline será apenas uma variável LOCAL!\n",
    "        self.poster_image_url = poster_image\n",
    "        self.trailer_youtube_url = trailer_youtube\n",
    "        \n",
    "    def show_trailer(self):\n",
    "        webbrowser.open(self.trailer_youtube_url)"
   ]
  },
  {
   "cell_type": "markdown",
   "metadata": {},
   "source": [
    "Eu poderia ter definido isso alterando meu arquivo media.py, daí meu caminho seria:\n",
    "    \n",
    "    import media\n",
    "    \n",
    "    print(media.Movie.valid_ratings)"
   ]
  },
  {
   "cell_type": "markdown",
   "metadata": {},
   "source": [
    "*Note que qualquer **instância** desta classe pode compartilhar esta lista. Isso serve para verificar se sua classificação **individual** está compatível com essa padronização:*"
   ]
  },
  {
   "cell_type": "code",
   "execution_count": 14,
   "metadata": {},
   "outputs": [
    {
     "name": "stdout",
     "output_type": "stream",
     "text": [
      "['G', 'PG', 'PR-13', 'R']\n"
     ]
    }
   ],
   "source": [
    "print(Movie.VALID_RATINGS)"
   ]
  },
  {
   "cell_type": "markdown",
   "metadata": {},
   "source": [
    "---\n",
    "\n",
    "#### Variáveis de classe pré-definidas doc\n",
    "\n",
    "    import turtle\n",
    "\n",
    "    turtle.Turtle\n",
    "    \n",
    "É...:  módulo | classe\n",
    "\n",
    "    turtle.Turtle.__doc__\n",
    "    \n",
    "No nosso teste abaixo, a **classe** Turtle do **módulo** ipyturtle infelizmente está vazia:"
   ]
  },
  {
   "cell_type": "code",
   "execution_count": 22,
   "metadata": {},
   "outputs": [
    {
     "data": {
      "text/plain": [
       "''"
      ]
     },
     "execution_count": 22,
     "metadata": {},
     "output_type": "execute_result"
    }
   ],
   "source": [
    "from ipyturtle import Turtle\n",
    "\n",
    "Turtle.__doc__"
   ]
  },
  {
   "cell_type": "markdown",
   "metadata": {},
   "source": [
    "Em outro teste, no **módulo** os, **classe** path deu certo:"
   ]
  },
  {
   "cell_type": "code",
   "execution_count": 23,
   "metadata": {},
   "outputs": [
    {
     "data": {
      "text/plain": [
       "'Common pathname manipulations, WindowsNT/95 version.\\n\\nInstead of importing this module directly, import os and refer to this\\nmodule as os.path.\\n'"
      ]
     },
     "execution_count": 23,
     "metadata": {},
     "output_type": "execute_result"
    }
   ],
   "source": [
    "from os import path\n",
    "\n",
    "path.__doc__"
   ]
  },
  {
   "cell_type": "code",
   "execution_count": 27,
   "metadata": {},
   "outputs": [],
   "source": [
    "class Movie():\n",
    "    \"\"\"Esta classe provê serviços para a catalogação de filmes em website\"\"\"\n",
    "    \n",
    "    VALID_RATINGS=[\"G\", \"PG\", \"PR-13\", \"R\"] # <-definida no nível de CLASSE e fora da função init\n",
    "    \n",
    "    def __init__ (self, movie_title, movie_storyline, poster_image, trailer_youtube):\n",
    "        self.title = movie_title\n",
    "        self.storyline = movie_storyline #uma variável storyline será apenas uma variável LOCAL!\n",
    "        self.poster_image_url = poster_image\n",
    "        self.trailer_youtube_url = trailer_youtube"
   ]
  },
  {
   "cell_type": "markdown",
   "metadata": {},
   "source": [
    "Isso aqui é muito bom para eu documentar meu código, ao escrever **classes**, de maneira padronizada!"
   ]
  },
  {
   "cell_type": "code",
   "execution_count": 28,
   "metadata": {},
   "outputs": [
    {
     "data": {
      "text/plain": [
       "'Esta classe provê serviços para a catalogação de filmes em website'"
      ]
     },
     "execution_count": 28,
     "metadata": {},
     "output_type": "execute_result"
    }
   ],
   "source": [
    "Movie.__doc__"
   ]
  },
  {
   "cell_type": "markdown",
   "metadata": {},
   "source": [
    "---\n",
    "\n",
    "#### Outras variáveis Python predefinidas [aqui](http://exampleprogramming.com/specialvars.html)\n",
    "\n",
    "    __name__\n",
    "    \n",
    "    __main__\n",
    "    \n",
    "    __module__\n",
    "    \n",
    "    __bases__\n",
    "    \n",
    "\n",
    "E **métodos**:\n",
    "\n",
    "    __init__\n",
    "\n",
    "    __getattr__\n",
    "    \n",
    "    __setattr__\n",
    "    \n",
    "    __class__\n",
    "    \n",
    "    __subclasses__()\n",
    "    \n",
    "    __dict__\n",
    "    \n",
    "    dir()\n",
    "    \n",
    "    locals()\n",
    "    \n",
    "    globals()"
   ]
  },
  {
   "cell_type": "markdown",
   "metadata": {},
   "source": [
    "---\n",
    "\n",
    "#### Name\n",
    "\n",
    "*Observe que eu não preciso fazer um grande esforço neste caso. A própria criação de uma função ou classe lhe atribui o **Nome**, basta invocá-lo!*"
   ]
  },
  {
   "cell_type": "code",
   "execution_count": null,
   "metadata": {},
   "outputs": [],
   "source": [
    "import strformat\n",
    "\n",
    "def main():\n",
    "    \"\"\"Função principal da aplicação.\n",
    "    \"\"\"\n",
    "    print (strformat.frmt_bytes(502356))\n",
    "    print (strformat.strip_html(\"<b>Texto</b>\"))\n",
    "\n",
    "if __name__ == \"__main__\":\n",
    "    main()"
   ]
  },
  {
   "cell_type": "markdown",
   "metadata": {},
   "source": [
    "---\n",
    "\n",
    "#### Módulo\n",
    "\n",
    "Se x é uma **Classe**, então\n",
    "    \n",
    "    x.__module__\n",
    "    \n",
    "    x.__class__.__module__ \n",
    "    \n",
    "Irão lhe resultar em coisas diferentes:"
   ]
  },
  {
   "cell_type": "code",
   "execution_count": 43,
   "metadata": {},
   "outputs": [],
   "source": [
    "class Example: pass"
   ]
  },
  {
   "cell_type": "code",
   "execution_count": 44,
   "metadata": {},
   "outputs": [
    {
     "data": {
      "text/plain": [
       "'__main__'"
      ]
     },
     "execution_count": 44,
     "metadata": {},
     "output_type": "execute_result"
    }
   ],
   "source": [
    "Example.__module__"
   ]
  },
  {
   "cell_type": "code",
   "execution_count": 45,
   "metadata": {},
   "outputs": [
    {
     "data": {
      "text/plain": [
       "'builtins'"
      ]
     },
     "execution_count": 45,
     "metadata": {},
     "output_type": "execute_result"
    }
   ],
   "source": [
    "Example.__class__.__module__"
   ]
  },
  {
   "cell_type": "markdown",
   "metadata": {},
   "source": [
    "Para uma instância que não define diretamente \n",
    "    \n",
    "    __module__ \n",
    "    \n",
    "    \n",
    "O atributo da **Classe** é usado em seu lugar:"
   ]
  },
  {
   "cell_type": "code",
   "execution_count": 42,
   "metadata": {},
   "outputs": [
    {
     "data": {
      "text/plain": [
       "'__main__'"
      ]
     },
     "execution_count": 42,
     "metadata": {},
     "output_type": "execute_result"
    }
   ],
   "source": [
    "Example().__module__"
   ]
  },
  {
   "cell_type": "markdown",
   "metadata": {},
   "source": [
    "Deve ficar claro **qual** módulo que você quer conhecer\n",
    "\n",
    "Se for o módulo contendo a definição da **Classe**, então é melhor ser explícito em relação a isso:\n",
    "\n",
    "    x.__class__.__module__\n",
    "    \n",
    "\n",
    "Instâncias normalmente não gravam o módulo onde elas foram criadas, portanto, a informação ficará ausente:\n",
    "\n",
    "    x.__module__"
   ]
  },
  {
   "cell_type": "markdown",
   "metadata": {},
   "source": [
    "---\n",
    "\n",
    "#### Herança"
   ]
  },
  {
   "cell_type": "markdown",
   "metadata": {},
   "source": [
    "Classe Pai"
   ]
  },
  {
   "cell_type": "code",
   "execution_count": 120,
   "metadata": {},
   "outputs": [],
   "source": [
    "class Parent():\n",
    "    def __init__(self, last_name, eye_color):\n",
    "        print(\"Parent Constructor Called\")\n",
    "        self.last_name = last_name #<- os dois argumentos são usados para inicializar nossas\n",
    "        self.eye_color = eye_color #   variáveis de instância"
   ]
  },
  {
   "cell_type": "markdown",
   "metadata": {},
   "source": [
    "Classe Filha"
   ]
  },
  {
   "cell_type": "code",
   "execution_count": 121,
   "metadata": {},
   "outputs": [],
   "source": [
    "class Child(Parent):\n",
    "    def __init__(self, last_name, eye_color, number_of_toys):\n",
    "        print(\"Child Constructor Called\")\n",
    "        Parent.__init__(self, last_name, eye_color) #<- inicializar as variáveis herdadas\n",
    "        self.number_of_toys_type = number_of_toys"
   ]
  },
  {
   "cell_type": "code",
   "execution_count": 122,
   "metadata": {},
   "outputs": [
    {
     "name": "stdout",
     "output_type": "stream",
     "text": [
      "Parent Constructor Called\n",
      "Cyrus\n",
      "Child Constructor Called\n",
      "Parent Constructor Called\n",
      "Cyrus 8-Security Pulp\n"
     ]
    }
   ],
   "source": [
    "billy_cyrus = Parent(\"Cyrus\", \"blue\")\n",
    "print(billy_cyrus.last_name)\n",
    "\n",
    "miley_cyrus = Child(\"Cyrus\", \"brown\", \"8-Security Pulp\")\n",
    "print(miley_cyrus.last_name, end=\" \")\n",
    "print(miley_cyrus.number_of_toys_type)"
   ]
  },
  {
   "cell_type": "markdown",
   "metadata": {},
   "source": [
    "---\n",
    "\n",
    "#### Reutilizando atributos"
   ]
  },
  {
   "cell_type": "markdown",
   "metadata": {},
   "source": [
    "*Observe que os **parâmetros** passados seguem a mesma lógica das funções. Eu consigo puxar o parâmetro **video_title** e o gravar na variável de instância **title**. Mais para frente eu posso recuperá-lo*"
   ]
  },
  {
   "cell_type": "code",
   "execution_count": 132,
   "metadata": {},
   "outputs": [],
   "source": [
    "class Video():\n",
    "\n",
    "    def __init__ (self, video_title, video_duration):\n",
    "        print(\"Parent Constructor Called\")\n",
    "        self.title = video_title\n",
    "        self.duration = video_duration"
   ]
  },
  {
   "cell_type": "markdown",
   "metadata": {},
   "source": [
    "Observe que há duas variáveis de instância herdadas, **title** e **duration**. Por quê eu não usei o nome **video_...**? Por uma razão muito simples: isso não faria sentido! Estamos trabalhando com um Pai, que é mais **genérico** que seus filhos. Como eu sei essas coisas? Basta usar a **lógica**, tudo isso é muito intuitivo"
   ]
  },
  {
   "cell_type": "code",
   "execution_count": 133,
   "metadata": {},
   "outputs": [],
   "source": [
    "class Movie(Video):\n",
    "    VALID_RATINGS=[\"G\", \"PG\", \"PR-13\", \"R\"]\n",
    "    \n",
    "    def __init__ (self, title, duration, movie_storyline, poster_image, trailer_youtube):\n",
    "        print(\"Child Constructor Called\")\n",
    "        Video.__init__(self, title, duration)\n",
    "        self.storyline = movie_storyline\n",
    "        self.poster_image_url = poster_image\n",
    "        self.trailer_youtube_url = trailer_youtube\n",
    "        \n",
    "    def show_trailer(self):\n",
    "        webbrowser.open(self.trailer_youtube_url)"
   ]
  },
  {
   "cell_type": "code",
   "execution_count": 101,
   "metadata": {},
   "outputs": [],
   "source": [
    "class TvShow(Video):\n",
    "    \n",
    "    def __init__ (self, title, duration, show_season, show_episode, show_tv_station):\n",
    "        print(\"Child Constructor Called\")\n",
    "        Video.__init__(self, title, duration)\n",
    "        self.season = show_season\n",
    "        self.episode = show_episode\n",
    "        self.tv_station = show_tv_station\n",
    "        \n",
    "    def get_local_listing(self):\n",
    "        print(\"ok\")"
   ]
  },
  {
   "cell_type": "code",
   "execution_count": 124,
   "metadata": {},
   "outputs": [
    {
     "name": "stdout",
     "output_type": "stream",
     "text": [
      "Parent Constructor Called\n",
      "Vídeo Shumbrega 120 min\n"
     ]
    }
   ],
   "source": [
    "video_shum = Video(\"Vídeo Shumbrega\", \"120 min\")\n",
    "print(video_shum.title, video_shum.duration)"
   ]
  },
  {
   "cell_type": "code",
   "execution_count": 134,
   "metadata": {},
   "outputs": [
    {
     "name": "stdout",
     "output_type": "stream",
     "text": [
      "Child Constructor Called\n",
      "Parent Constructor Called\n",
      "Avatar 2 - a revolta dos Terranos 128 min\n",
      "www.wiki.poster.avatar2.com\n"
     ]
    }
   ],
   "source": [
    "avatar2 = Movie(\"Avatar 2 - a revolta dos Terranos\",\n",
    "                \"128 min\", \n",
    "                \"Isso é a continuação de um filme chato\",\n",
    "                \"www.wiki.poster.avatar2.com\",\n",
    "                \"www.youtube.com\")\n",
    "print(avatar2.title, end=\" \")\n",
    "print(avatar2.duration)\n",
    "print(avatar2.poster_image_url)"
   ]
  },
  {
   "cell_type": "markdown",
   "metadata": {},
   "source": [
    "---\n",
    "\n",
    "#### Reutilizando métodos"
   ]
  },
  {
   "cell_type": "code",
   "execution_count": 69,
   "metadata": {},
   "outputs": [],
   "source": [
    "class Parent():\n",
    "    def __init__(self, last_name, eye_color):\n",
    "        print(\"Parent Constructor Called\")\n",
    "        self.last_name = last_name #<- os dois argumentos são usados para inicializar nossas\n",
    "        self.eye_color = eye_color #   variáveis de instância\n",
    "    \n",
    "    def show_info(self):\n",
    "        print(\"Last Name - \"+self.last_name)\n",
    "        print(\"Eye Color - \"+self.eye_color)"
   ]
  },
  {
   "cell_type": "code",
   "execution_count": 73,
   "metadata": {},
   "outputs": [],
   "source": [
    "class Child(Parent):\n",
    "    def __init__(self, last_name, eye_color, number_of_toys):\n",
    "        print(\"Child Constructor Called\")\n",
    "        Parent.__init__(self, last_name, eye_color) #<- inicializar as variáveis herdadas\n",
    "        self.number_of_toys = number_of_toys"
   ]
  },
  {
   "cell_type": "code",
   "execution_count": 71,
   "metadata": {},
   "outputs": [
    {
     "name": "stdout",
     "output_type": "stream",
     "text": [
      "Parent Constructor Called\n",
      "Last Name - Cyrus\n",
      "Eye Color - blue\n"
     ]
    }
   ],
   "source": [
    "billy_cyrus = Parent(\"Cyrus\", \"blue\")\n",
    "billy_cyrus.show_info()"
   ]
  },
  {
   "cell_type": "markdown",
   "metadata": {},
   "source": [
    "Usando o método **herdado** (não é o melhor):"
   ]
  },
  {
   "cell_type": "code",
   "execution_count": 74,
   "metadata": {},
   "outputs": [
    {
     "name": "stdout",
     "output_type": "stream",
     "text": [
      "Child Constructor Called\n",
      "Parent Constructor Called\n",
      "Last Name - Cyrus\n",
      "Eye Color - brown\n"
     ]
    }
   ],
   "source": [
    "miley_cyrus = Child(\"Cyrus\", \"brown\", \"8-Security Pulp\")\n",
    "miley_cyrus.show_info()"
   ]
  },
  {
   "cell_type": "markdown",
   "metadata": {},
   "source": [
    "---\n",
    "\n",
    "#### Sobreposição de métodos"
   ]
  },
  {
   "cell_type": "code",
   "execution_count": 69,
   "metadata": {},
   "outputs": [],
   "source": [
    "class Parent():\n",
    "    def __init__(self, last_name, eye_color):\n",
    "        print(\"Parent Constructor Called\")\n",
    "        self.last_name = last_name #<- os dois argumentos são usados para inicializar nossas\n",
    "        self.eye_color = eye_color #   variáveis de instância\n",
    "    \n",
    "    def show_info(self):\n",
    "        print(\"Last Name - \"+self.last_name)\n",
    "        print(\"Eye Color - \"+self.eye_color)"
   ]
  },
  {
   "cell_type": "code",
   "execution_count": 75,
   "metadata": {},
   "outputs": [],
   "source": [
    "class Child(Parent):\n",
    "    def __init__(self, last_name, eye_color, number_of_toys):\n",
    "        print(\"Child Constructor Called\")\n",
    "        Parent.__init__(self, last_name, eye_color) #<- inicializar as variáveis herdadas\n",
    "        self.number_of_toys = number_of_toys\n",
    "        \n",
    "    def show_info(self):\n",
    "        print(\"Last Name - \"+self.last_name)\n",
    "        print(\"Eye Color - \"+self.eye_color)\n",
    "        print(\"Number Toys - \"+self.number_of_toys)"
   ]
  },
  {
   "cell_type": "markdown",
   "metadata": {},
   "source": [
    "Usando o método **superposto** (também chamado de **sobrescrito** - method override):"
   ]
  },
  {
   "cell_type": "code",
   "execution_count": 77,
   "metadata": {},
   "outputs": [
    {
     "name": "stdout",
     "output_type": "stream",
     "text": [
      "Child Constructor Called\n",
      "Parent Constructor Called\n",
      "Last Name - Cyrus\n",
      "Eye Color - brown\n",
      "Number Toys - 8-Security Pulp\n"
     ]
    }
   ],
   "source": [
    "miley_cyrus = Child(\"Cyrus\", \"brown\", \"8-Security Pulp\")\n",
    "miley_cyrus.show_info()"
   ]
  },
  {
   "cell_type": "markdown",
   "metadata": {},
   "source": [
    "---\n",
    "\n",
    "#### Listas vs Arrays [aqui](https://www.wired.com/2011/08/python-notes-lists-vs-arrays/)\n",
    "\n",
    "Lista:\n",
    "\n",
    "    lista = [[0.1, 1], [0.2, 2], [0.3,3]]\n",
    "    \n",
    "    lista[0]\n",
    "    \n",
    "Array:\n",
    "\n",
    "    import numpy\n",
    "    \n",
    "    x = array([[0.1, 1], [0.2, 2], [0.3,3]])\n",
    "    \n",
    "    x[1]\n",
    "    \n",
    "    x[0,2]\n",
    "    \n",
    "Permitem **fatiar** dados:\n",
    "\n",
    "    print(x[:,1])\n",
    "    \n",
    "Operações **matemáticas** e **numéricas** são permitidas apenas em Arrays:\n",
    "\n",
    "    x/2.0\n",
    "    \n",
    "Ou assim:"
   ]
  },
  {
   "cell_type": "code",
   "execution_count": 33,
   "metadata": {},
   "outputs": [
    {
     "name": "stdout",
     "output_type": "stream",
     "text": [
      "[0.   0.01 0.02 0.03 0.04 0.05 0.06 0.07 0.08 0.09 0.1  0.11 0.12 0.13\n",
      " 0.14 0.15 0.16 0.17 0.18 0.19 0.2  0.21 0.22 0.23 0.24 0.25 0.26 0.27\n",
      " 0.28 0.29 0.3  0.31 0.32 0.33 0.34 0.35 0.36 0.37 0.38 0.39 0.4  0.41\n",
      " 0.42 0.43 0.44 0.45 0.46 0.47 0.48 0.49 0.5  0.51 0.52 0.53 0.54 0.55\n",
      " 0.56 0.57 0.58 0.59 0.6  0.61 0.62 0.63 0.64 0.65 0.66 0.67 0.68 0.69\n",
      " 0.7  0.71 0.72 0.73 0.74 0.75 0.76 0.77 0.78 0.79 0.8  0.81 0.82 0.83\n",
      " 0.84 0.85 0.86 0.87 0.88 0.89 0.9  0.91 0.92 0.93 0.94 0.95 0.96 0.97\n",
      " 0.98 0.99 1.   1.01 1.02 1.03 1.04 1.05 1.06 1.07 1.08 1.09 1.1  1.11\n",
      " 1.12 1.13 1.14 1.15 1.16 1.17 1.18 1.19 1.2  1.21 1.22 1.23 1.24 1.25\n",
      " 1.26 1.27 1.28 1.29 1.3  1.31 1.32 1.33 1.34 1.35 1.36 1.37 1.38 1.39\n",
      " 1.4  1.41 1.42 1.43 1.44 1.45 1.46 1.47 1.48 1.49 1.5  1.51 1.52 1.53\n",
      " 1.54 1.55 1.56 1.57 1.58 1.59 1.6  1.61 1.62 1.63 1.64 1.65 1.66 1.67\n",
      " 1.68 1.69 1.7  1.71 1.72 1.73 1.74 1.75 1.76 1.77 1.78 1.79 1.8  1.81\n",
      " 1.82 1.83 1.84 1.85 1.86 1.87 1.88 1.89 1.9  1.91 1.92 1.93 1.94 1.95\n",
      " 1.96 1.97 1.98 1.99 2.   2.01 2.02 2.03 2.04 2.05 2.06 2.07 2.08 2.09\n",
      " 2.1  2.11 2.12 2.13 2.14 2.15 2.16 2.17 2.18 2.19 2.2  2.21 2.22 2.23\n",
      " 2.24 2.25 2.26 2.27 2.28 2.29 2.3  2.31 2.32 2.33 2.34 2.35 2.36 2.37\n",
      " 2.38 2.39 2.4  2.41 2.42 2.43 2.44 2.45 2.46 2.47 2.48 2.49 2.5  2.51\n",
      " 2.52 2.53 2.54 2.55 2.56 2.57 2.58 2.59 2.6  2.61 2.62 2.63 2.64 2.65\n",
      " 2.66 2.67 2.68 2.69 2.7  2.71 2.72 2.73 2.74 2.75 2.76 2.77 2.78 2.79\n",
      " 2.8  2.81 2.82 2.83 2.84 2.85 2.86 2.87 2.88 2.89 2.9  2.91 2.92 2.93\n",
      " 2.94 2.95 2.96 2.97 2.98 2.99]\n"
     ]
    },
    {
     "data": {
      "image/png": "[encoded data removed]",
      "text/plain": [
       "<Figure size 432x288 with 1 Axes>"
      ]
     },
     "metadata": {
      "needs_background": "light"
     },
     "output_type": "display_data"
    }
   ],
   "source": [
    "from pylab import arange, cos, pi\n",
    "\n",
    "t=arange(0,3,0.01)\n",
    "print(t)\n",
    "\n",
    "F=2\n",
    "x=cos(pi*t*F)\n",
    "plot(t,x)\n",
    "show()"
   ]
  },
  {
   "cell_type": "markdown",
   "metadata": {},
   "source": [
    "Observe que os **Datasets Pandas** possuem múltiplas funções que tornam esta estrutura de dados tão boa como uma **Array**\n",
    "\n",
    "Então a observação é a seguinte:\n",
    "\n",
    "- em alguns casos, quando for um tratamento meramente matemático de dados, prefira uma **Array** que é mais simples e costuma ser mais ligeira\n",
    "\n",
    "- se estiver trabalhando com dados de múltiplos tipos, mais parecido com estruturas de **Database**, vá direto para os **Datasets Pandas**\n",
    "\n",
    "- se tiver mesmo assim dúvidas quanto à **otimização** de uso de memória e processador, faça testes com as duas estruturas!\n"
   ]
  },
  {
   "cell_type": "markdown",
   "metadata": {},
   "source": [
    "---\n",
    "\n",
    "# Testes com Markdown\n",
    "\n",
    "\n",
    "# H1 Tru Tru\n",
    "\n",
    "## H2 Tru Tru Tru\n",
    "\n",
    "______\n",
    "\n",
    "ddd\n",
    "<br>\n",
    "\n",
    "tipo <u>sublinhado</u>\n",
    "\n",
    "e tipo ~~esboçado~~ no texto\n",
    "\n",
    "bobossauro\n",
    "\n",
    "---\n",
    "\n",
    "tipo:\n",
    "- lista\n",
    " - sublista\n",
    "  - subsub\n",
    "\n",
    "e tipo:\n",
    "1. item\n",
    "2. item2\n",
    " 1. subitem\n",
    " \n",
    "Imagem: use a mesma coisa do link, colocando um ! no início:\n",
    "<br>\n",
    "\n",
    "![Turing´s Device](http://www.google.com/logos/2012/turing-doodle-static.jpg \"Alan Turing´s 100th Birthday\")\n",
    "\n",
    "código:\n",
    "<br>\n",
    "\n",
    "```python\n",
    "   x = 5\n",
    "   print \"%.2f\" % x    \n",
    "    \n",
    " \n",
    "tabelão (com alinhamentos definidos como):\n",
    "\n",
    "| Tabela | SWC | Tipo |\n",
    "|----|:----:|----:|\n",
    "|unidade1 é | Imp | Herói |\n",
    "|unidade2 é | Imp | heróooi! |\n",
    "\n",
    "latex:\n",
    "\n",
    "$y = x^2$\n",
    "    \n",
    "bloco:\n",
    "    \n",
    "$$y = x^2$$"
   ]
  },
  {
   "cell_type": "code",
   "execution_count": null,
   "metadata": {},
   "outputs": [],
   "source": []
  }
 ],
 "metadata": {
  "kernelspec": {
   "display_name": "Python 3",
   "language": "python",
   "name": "python3"
  },
  "language_info": {
   "codemirror_mode": {
    "name": "ipython",
    "version": 3
   },
   "file_extension": ".py",
   "mimetype": "text/x-python",
   "name": "python",
   "nbconvert_exporter": "python",
   "pygments_lexer": "ipython3",
   "version": "3.6.6"
  }
 },
 "nbformat": 4,
 "nbformat_minor": 2
}
