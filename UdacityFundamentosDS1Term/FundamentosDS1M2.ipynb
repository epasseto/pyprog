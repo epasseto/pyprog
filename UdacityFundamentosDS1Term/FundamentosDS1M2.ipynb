{
 "cells": [
  {
   "cell_type": "markdown",
   "metadata": {},
   "source": [
    "# Introdução em Data Science I\n",
    "<br>\n",
    "\n",
    "*Obs: o foco deste curso é **Estatística Descritiva**!*\n",
    "\n",
    "## Módulo II - Uso do Pandas no Jupyter\n",
    "<br>\n",
    "\n",
    "Como o Pandas é um banco de dados, é bom ter algumas definições primordiais...\n",
    "<br>\n",
    "\n",
    "- **.csv** é um tipo de arquivo texto, no qual cada registro é gravado em uma linha e os campos, organizados sequencialmente e separados por vírgula (ou outros separadores)\n",
    "\n",
    "- **banco de dados** é uma coleção de dados inter-relacionados e que representam **informações** sobre um domínio específico\n",
    "\n",
    "- **dados brutos** em algumas fontes de dados, podem haver diveros tipos de degradação das informações. As mais comuns são registros incompletos, dados truncados, nomes diferentes descrevendo a mesma coisa, dados em branco, registros inteiros duplicados, mistura de dados numéricos com texto, campos preenchidos com mais de um dado e separados por vírgula ou outros caracteres (exemplo, no campo \"cultivo\" o cadastrador registra: \"alface, milho e cebola\" - pensávamos que ele escreveria apenas \"hortaliças\" e não demos espaço para isso. No exemplo da Udacity, nossos carros híbridos aparecem com campos duplos, como \"fuel\": gasoline/electricity)\n",
    "\n",
    "- **dados tratados** não existe uma única maneira de se tratar dados. Então depende da habilidade, prática, bom senso e técnica de cada cientista de dados fazer a depuração que melhor atenda às necessidades finais. Em alguns bancos de dados não são encontradas inconsistências. Ou seja, estamos lidando nestes casos com dados de alta qualidade (cuidado para que os dados não estejam sendo deteriorados simplesmente na produção da **consulta de extração** desses dados!)\n",
    "\n",
    "- **tabela** é uma coleção de registros organizados de maneira sistemática (**ordenada** ou não)\n",
    "\n",
    "- **campo** é a coluna de uma tabela, representando um dado, gravado em um formato específico\n",
    "\n",
    "- **tipo do campo** é se o campo contém texto, números inteiros, números de ponto flutuante, etc.. (observar que às vezes, se desconfiamos que no meio foram gravados dados de **texto**, devemos forçar uma **conversão de formato** para todas as entradas daquele campo antes de fazermos operações matemáticas)\n",
    "\n",
    "- **conversão de formato** é transformar um dado de um tipo em outro (observe que no Pandas nem sempre isso é possível - por exemplo, às vezes tentamos converter campos de número inteiro para número de ponto flutante e a operação dá erro - observe nestes casos se não existem **registros em branco**!)\n",
    "\n",
    "- **registro** é a linha de uma tabela, representando um conjunto completo de informações de um indivíduo\n",
    "\n",
    "- **registro em branco** é um registro sem conter informação para determinada entrada. Ele aparece listado no Pandas como NaN\n",
    "\n",
    "- **índice** é um campo (ou conjunto de campos) que forma uma chave inequívoca, que localizam **registro**. Também é chamado de **chave primária** de uma tabela\n",
    "\n",
    "- **chave composta** normalmente um **índice** se relaciona a um único campo de uma tabela. Às vezes são usados dois campos, a fim de impedir que existam dois registros com o mesmo índice. Alguns programadores amam esta prática e então usam dois ou mais registros para formar o seu índice. Se é usado apenas um registro como índice, isso é chamado de **chave simples**\n",
    "\n",
    "- **linha de cabeçalho** é a mesma coisa que o conjunto dos **nome dos campos**\n",
    "\n",
    "- **formatação** é a codificação usada para gravar o alfabeto, caracteres acentuados, etc (ex: **utf-8**)\n",
    "\n",
    "- **relacionamento** é a aplicação de regras básicas de **teoria de conjuntos** a duas ou mais **tabelas**. Isso é bom para filtrar por exemplo, \"todos os dados da tabela A e que apareçam na tabela B\n",
    "\n",
    "- **consulta cruzada** é um tipo de consulta especial, no qual a **linha** de uma das tabelas aparece contada como **coluna** na outra tabela. Isso tem muita utilidade em bancos de dados complexos que às vezes apresentam listas de dados, que em outras tabelas se apresentam como classes, ou colunas (não se preocupe se a sua primeira não der certo, essas costumam ser difíceis de fazer, mesmo para profissionais experientes. Tente com um exemplo simples primeiro, para ter certeza que está tudo bem)\n",
    "\n",
    "- **colagem lateral** é a aplicação da mesma entrada, em uma versão atualizada, em registros já existentes. Isso é bom para comparar registros antigos, com sua atualização, se houver (o exemplo da Udacity do carro híbrido usa isso!)\n",
    "\n",
    "- **colagem abaixo** é fundir os registros de duas tabelas idênticas, em uma só. Isso geralmente é feito com uma cláusla **union** (o exemplo da Udacity de fusão das duas listas de vinhos faz isso!)"
   ]
  },
  {
   "cell_type": "markdown",
   "metadata": {},
   "source": [
    "**Análise de Dados (Data Analysis)**\n",
    "<br>\n",
    "\n",
    "- **questionar** (question)\n",
    "<br>\n",
    "\n",
    " - quais são as **boas perguntas** para esse conjunto de dados?\n",
    "<br>\n",
    " \n",
    " **ou..**\n",
    "<br>\n",
    "\n",
    " - as perguntas vêm **antes** e irão determinar os tipos de dados que você coleta!\n",
    "<br>\n",
    " \n",
    " *\"o que estou tentando descobrir?\"*\n",
    "<br>\n",
    " \n",
    " *\"existe um problema que eu estou tentnado resolver?\"*\n",
    "<br>\n",
    " \n",
    "- **preparar** (wrangle) seus dados\n",
    "<br>\n",
    "\n",
    " - **reunir** (gather)\n",
    "<br>\n",
    "\n",
    " - **avaliar** (assess) ← identificar problemas de qualidade ou estrutura\n",
    "<br>\n",
    " \n",
    " - **limpar** (clean) ← modificação, movimentação, substituição, condensação\n",
    "<br>\n",
    "\n",
    "- **explorar** (explore) ← maximizar o potencial do que você pode extrair desses dados\n",
    "<br>\n",
    "\n",
    " - explorar envolve descobrir novos **padrões** nos seus dados\n",
    "<br>\n",
    "\n",
    " - visualizar **relações** e\n",
    "<br>\n",
    "\n",
    " - saber com **o que** está trabalhando\n",
    "<br>\n",
    "\n",
    " *\"depois de explorar, remova dados atípicos (outliers)\"*\n",
    "<br>\n",
    "\n",
    " *\"crie recursos novos e mais descritivos\"* ← engenharia de recursos (feature engineering)\n",
    "<br> \n",
    "\n",
    "- **concluir** (draw conclusions)\n",
    "<br>\n",
    "\n",
    "↑ retorne ao início e faça mais alguns **ciclos**, formulando novas perguntas, coletando novas fontes, etc..!\n",
    "<br>\n",
    "\n",
    "- **comunicar** (communicate) ← análise, visualização, modelos\n",
    "<br>\n",
    "\n",
    " *\"justifique\"*\n",
    "<br> \n",
    " \n",
    " *\"transmita os **significados** do que você encontrou\"*\n",
    "<br>\n",
    "\n",
    "Prever comportamentos ou tendências específicas remete a **Machine Learning** e a **Inferential Statistics**"
   ]
  },
  {
   "cell_type": "markdown",
   "metadata": {},
   "source": [
    "### Aula 1.14 (student_scores.csv)\n",
    "<br>\n",
    "\n",
    "*Obs: aqui aparecem os comandos mais comuns de exibição de dados*"
   ]
  },
  {
   "cell_type": "markdown",
   "metadata": {},
   "source": [
    "**Ativação e leitura do csv**"
   ]
  },
  {
   "cell_type": "code",
   "execution_count": null,
   "metadata": {},
   "outputs": [],
   "source": [
    "import pandas as pd\n",
    "df = pd.read_csv('student_scores.csv')"
   ]
  },
  {
   "cell_type": "markdown",
   "metadata": {},
   "source": [
    "**Índice e rótulos das colunas**"
   ]
  },
  {
   "cell_type": "code",
   "execution_count": null,
   "metadata": {},
   "outputs": [],
   "source": [
    "for i, v in enumerate(df.columns):\n",
    "    print(i, v)"
   ]
  },
  {
   "cell_type": "markdown",
   "metadata": {},
   "source": [
    "**Mudando o separador e a linha do cabeçalho**"
   ]
  },
  {
   "cell_type": "code",
   "execution_count": null,
   "metadata": {},
   "outputs": [],
   "source": [
    "('student_scores.csv', sep=':', header=2) (header=None)"
   ]
  },
  {
   "cell_type": "markdown",
   "metadata": {},
   "source": [
    "**Colocando nomes melhores de cabeçalho**"
   ]
  },
  {
   "cell_type": "code",
   "execution_count": null,
   "metadata": {},
   "outputs": [],
   "source": [
    "labels = ['id', 'name', 'attendance', 'hw', 'test1', 'project1', 'test2', 'project2', 'final']\n",
    "df = pd.read_csv('student_scores.csv', names=labels)"
   ]
  },
  {
   "cell_type": "markdown",
   "metadata": {},
   "source": [
    "**Selecionando coluna como índice**"
   ]
  },
  {
   "cell_type": "code",
   "execution_count": null,
   "metadata": {},
   "outputs": [],
   "source": [
    "df = pd.read_csv('student_scores.csv', index_col='Name') (index_col=['Name', 'ID']) #(index=False)"
   ]
  },
  {
   "cell_type": "markdown",
   "metadata": {},
   "source": [
    "**Tupla com as dimensões do dataframe**"
   ]
  },
  {
   "cell_type": "code",
   "execution_count": null,
   "metadata": {},
   "outputs": [],
   "source": [
    "df.shape"
   ]
  },
  {
   "cell_type": "markdown",
   "metadata": {},
   "source": [
    "**Número de valores únicos em cada coluna**"
   ]
  },
  {
   "cell_type": "code",
   "execution_count": null,
   "metadata": {},
   "outputs": [],
   "source": [
    "df.nunique()"
   ]
  },
  {
   "cell_type": "markdown",
   "metadata": {},
   "source": [
    "**Estatísticas descritivas úteis para cada coluna de dados**"
   ]
  },
  {
   "cell_type": "code",
   "execution_count": null,
   "metadata": {},
   "outputs": [],
   "source": [
    "df.describe()"
   ]
  },
  {
   "cell_type": "markdown",
   "metadata": {},
   "source": [
    "**Cabeçalho com 5 ou 20 linhas e cauda**"
   ]
  },
  {
   "cell_type": "code",
   "execution_count": null,
   "metadata": {},
   "outputs": [],
   "source": [
    "df.head(), df.head(20), df.tail(2)"
   ]
  },
  {
   "cell_type": "markdown",
   "metadata": {},
   "source": [
    "**Todas as colunas desde 'id' até a última coluna relacionada à média**"
   ]
  },
  {
   "cell_type": "code",
   "execution_count": null,
   "metadata": {},
   "outputs": [],
   "source": [
    "df_means = df.loc[:,'id':'fractal_dimension_mean'] #linha, coluna"
   ]
  },
  {
   "cell_type": "markdown",
   "metadata": {},
   "source": [
    "**Com índices**"
   ]
  },
  {
   "cell_type": "code",
   "execution_count": null,
   "metadata": {},
   "outputs": [],
   "source": [
    "df_means = df.iloc[:,:11]"
   ]
  },
  {
   "cell_type": "markdown",
   "metadata": {},
   "source": [
    "**Fatiar dataframe usando vários pedaços**"
   ]
  },
  {
   "cell_type": "code",
   "execution_count": null,
   "metadata": {},
   "outputs": [],
   "source": [
    "desvio_padrao = df.iloc[:, np.r_[:2, 12:len(df.columns)]]"
   ]
  },
  {
   "cell_type": "markdown",
   "metadata": {},
   "source": [
    "**Salvar para mais tarde**\n",
    "\n",
    "*obs: eu tenho um campo sem rótulo que serve como índice, portanto eu não o salvo!*"
   ]
  },
  {
   "cell_type": "code",
   "execution_count": null,
   "metadata": {},
   "outputs": [],
   "source": [
    "df_means.to_csv('student_scores.csv', index=False)"
   ]
  },
  {
   "cell_type": "markdown",
   "metadata": {},
   "source": [
    "### Aula 1.14 (store_data.csv)\n",
    "<br>\n",
    "\n",
    "*Obs: aqui existem dicas boas de **filtros com índices** e de como **fatiar** uma tabela*"
   ]
  },
  {
   "cell_type": "markdown",
   "metadata": {},
   "source": [
    "**Filtrando pelo período**"
   ]
  },
  {
   "cell_type": "code",
   "execution_count": null,
   "metadata": {},
   "outputs": [],
   "source": [
    "df_store['week']"
   ]
  },
  {
   "cell_type": "markdown",
   "metadata": {},
   "source": [
    "**Último mês**\n",
    "\n",
    "*obs: o método, ou os métodos aplicados à consulta sempre vêm ao final!*"
   ]
  },
  {
   "cell_type": "code",
   "execution_count": null,
   "metadata": {},
   "outputs": [],
   "source": [
    "df_store['week'].tail(1)"
   ]
  },
  {
   "cell_type": "markdown",
   "metadata": {},
   "source": [
    "**Loja com melhor resultado no último mês**"
   ]
  },
  {
   "cell_type": "code",
   "execution_count": null,
   "metadata": {},
   "outputs": [],
   "source": [
    "# Filtrando pelo período\n",
    "df_store['week']\n",
    "\n",
    "# Selecionamos o intervalo de tempo, somamos as colunas, \n",
    "#  excluimos a week da seleção e pegamos o índice com maior valor\n",
    "print(\"Loja com melhor resultado no último mês: {0}\".format(\n",
    "             df_store[(df_store['week'] > '2018-02-01') & \n",
    "             (df_store['week'] < '2018-03-01')].sum(axis=0)[1:].idxmax()))"
   ]
  },
  {
   "cell_type": "markdown",
   "metadata": {},
   "source": [
    "**Vendeu mais durante a semana de 13 de março de 2016**"
   ]
  },
  {
   "cell_type": "code",
   "execution_count": null,
   "metadata": {},
   "outputs": [],
   "source": [
    "print(\"Loja que mais vendeu durante a semana de 13 de março de 2016: {0}\".format(\n",
    "            df_store[(df_store['week'] > '2016-03-12') &\n",
    "             (df_store['week'] < '2016-03-21')].sum(axis=0)[1:].idxmax()))"
   ]
  },
  {
   "cell_type": "markdown",
   "metadata": {},
   "source": [
    "**Pior resultado da Loja C**"
   ]
  },
  {
   "cell_type": "code",
   "execution_count": null,
   "metadata": {},
   "outputs": [],
   "source": [
    "print(\"A loja C tem o pior resultado de vendas na semana: {0}\".format(\n",
    "        df_store.iloc[df_store['storeC'].idxmin()]['week']))"
   ]
  },
  {
   "cell_type": "markdown",
   "metadata": {},
   "source": [
    "**Loja que mais vendeu nos últimos 3 meses**"
   ]
  },
  {
   "cell_type": "code",
   "execution_count": null,
   "metadata": {},
   "outputs": [],
   "source": [
    "# Podemos ver os últimos 3 meses vendo as últimas linhas\n",
    "last_period = df_store.tail(1)\n",
    "\n",
    "# Porém, para treinarmos vamos calcular esses meses\n",
    "# Primeiro precisamos converter a string para datetime\n",
    "df_store['week'] = pd.to_datetime(df_store['week'] )\n",
    "\n",
    "# Vamos calcular quais são os últimos 3 meses\n",
    "period_start = df_store['week'].max() -  pd.DateOffset(months=3)\n",
    "period_end = df_store['week'].max()\n",
    "\n",
    "print(\"A loja que mais vendeu nos últimos 3 meses foi:{0}\".format(\n",
    "       df_store[(df_store['week'] >= period_start) & \n",
    "             (df_store['week'] <= period_end)].sum(axis=0).idxmax()))"
   ]
  },
  {
   "cell_type": "markdown",
   "metadata": {},
   "source": [
    "### Aula 1.19 (cancer_data_means.csv)\n",
    "<br>\n",
    "\n",
    "Obs: aqui há algumas maneiras de tratar **brancos** e limpar **registros duplicados**"
   ]
  },
  {
   "cell_type": "markdown",
   "metadata": {},
   "source": [
    "**Médias para preencher valores ausentes**\n",
    "<br>\n",
    "\n",
    "*Obs: esta não é uma prática aconselhável!*"
   ]
  },
  {
   "cell_type": "code",
   "execution_count": null,
   "metadata": {},
   "outputs": [],
   "source": [
    "df_cancer['texture_mean'].fillna(df_cancer['texture_mean'].mean(), inplace=True)\n",
    "df_cancer['smoothness_mean'].fillna(df_cancer['smoothness_mean'].mean(), inplace=True)\n",
    "df_cancer['symmetry_mean'].fillna(df_cancer['symmetry_mean'].mean(), inplace=True)\n",
    "\n",
    "# confirme sua correção com info()\n",
    "df_cancer.info()"
   ]
  },
  {
   "cell_type": "markdown",
   "metadata": {},
   "source": [
    "**Verificação de dados duplicados**"
   ]
  },
  {
   "cell_type": "code",
   "execution_count": null,
   "metadata": {},
   "outputs": [],
   "source": [
    "def has_duplicate(df):\n",
    "    if df_cancer.duplicated().any():\n",
    "        print(\"Possui {0} valores duplicados\".format(df.duplicated().sum()))\n",
    "    else:\n",
    "        print(\"Não possui valores duplicados\")\n",
    "        \n",
    "has_duplicate(df_cancer)"
   ]
  },
  {
   "cell_type": "markdown",
   "metadata": {},
   "source": [
    "**Eliminação de dados duplicados**"
   ]
  },
  {
   "cell_type": "code",
   "execution_count": null,
   "metadata": {},
   "outputs": [],
   "source": [
    "df_cancer.drop_duplicates(inplace=True)\n",
    "\n",
    "# confirme correção verificando novamente se há dados duplicados\n",
    "has_duplicate(df_cancer)"
   ]
  },
  {
   "cell_type": "markdown",
   "metadata": {},
   "source": [
    "**Remova \"_mean\" dos nomes das colunas**"
   ]
  },
  {
   "cell_type": "code",
   "execution_count": null,
   "metadata": {},
   "outputs": [],
   "source": [
    "new_labels = []\n",
    "for col in df_cancer.columns:\n",
    "    if '_mean' in col:\n",
    "        new_labels.append(col[:-5])  # exclua os últimos 6 caracteres\n",
    "    else:\n",
    "        new_labels.append(col)\n",
    "        \n",
    "# atribua novos rótulos às colunas do dataframe\n",
    "df_cancer.columns = new_labels\n",
    "\n",
    "# exiba as primeiras linhas do dataframe para confirmar as alterações\n",
    "df_cancer.head()"
   ]
  },
  {
   "cell_type": "markdown",
   "metadata": {},
   "source": [
    "### Aula 1.22 (powerplant_data_edited.csv)\n",
    "<br>\n",
    "\n",
    "*Obs: aqui são plotados os tipos básicos de gráficos*"
   ]
  },
  {
   "cell_type": "markdown",
   "metadata": {},
   "source": [
    "**Nomes melhores**\n",
    "<br>\n",
    "\n",
    "*Obs: às vezes não é preciso renomear os cabeçalhos da minha tabela. Outras vezes eu faço isso porque eu uso **nomes padronizados** e sem espaços como padrão das minhas tabelas (o que aliás é prática recomendada). Um exemplo de nome padronizado: nmAmbientTemperature - os dois primeiros caracteres me lembram que esse é um campo de número inteiro, ft flutante, ch caracteres de texto, etc..*"
   ]
  },
  {
   "cell_type": "code",
   "execution_count": null,
   "metadata": {},
   "outputs": [],
   "source": [
    "df_power.columns = ['Ambient Temperature', 'Exhaust Vacuum',\n",
    "                    'Ambient Pressure', 'Relative Humidity',\n",
    "                    'Energy Output']\n",
    "display(df_power.head())"
   ]
  },
  {
   "cell_type": "markdown",
   "metadata": {},
   "source": [
    "**Todos os gráficos**\n",
    "<br>\n",
    "\n",
    "*Obs: isso aqui é bem legal para uma **visualização prévia** de todas as combinações de gráficos possíveis dos campos de uma tabela. Demora para gerar*"
   ]
  },
  {
   "cell_type": "code",
   "execution_count": null,
   "metadata": {},
   "outputs": [],
   "source": [
    "pd.plotting.scatter_matrix(dfp, figsize=(15,15));"
   ]
  },
  {
   "cell_type": "markdown",
   "metadata": {},
   "source": [
    "**Gráfico com a relação entre temperatura e saída elétrica**\n",
    "<br>\n",
    "\n",
    "*Obs na geração de gráficos: o pessoal da Udacity recomenda, antes de começar a limpar os dados e remover outliers, a sempre fazer uma plotagem inicial. Não custa nada e aprendemos a vizualizar **dados brutos**, o que pode ser útil*\n",
    "<br>\n",
    "\n",
    "*Obs: com isso aqui eu verifico se existe, ou não, alguma **correlação** entre os dados da abscissa X e Y*\n",
    "<br>\n",
    "\n",
    "[pos ou neg](https://www.emathzone.com/tutorials/basic-statistics/positive-and-negative-correlation.html)"
   ]
  },
  {
   "cell_type": "code",
   "execution_count": null,
   "metadata": {},
   "outputs": [],
   "source": [
    "df_power.plot(kind=\"scatter\", x=\"Ambient Temperature\", y=\"Energy Output\");"
   ]
  },
  {
   "cell_type": "markdown",
   "metadata": {},
   "source": [
    "**Gráfico com a distribuição da umidade**\n",
    "<br>\n",
    "\n",
    "[distribuição normal](https://en.wikipedia.org/wiki/Normal_distribution)"
   ]
  },
  {
   "cell_type": "code",
   "execution_count": null,
   "metadata": {},
   "outputs": [],
   "source": [
    "df_power[\"Relative Humidity\"].hist();"
   ]
  },
  {
   "cell_type": "markdown",
   "metadata": {},
   "source": [
    "**Gráfico de caixas para cada variável**\n",
    "<br>\n",
    "\n",
    "[outliers em boxplots](https://www.r-statistics.com/2011/01/how-to-label-all-the-outliers-in-a-boxplot/)"
   ]
  },
  {
   "cell_type": "code",
   "execution_count": null,
   "metadata": {},
   "outputs": [],
   "source": [
    "df_power.plot(kind=\"box\", figsize=(15,15));"
   ]
  },
  {
   "cell_type": "markdown",
   "metadata": {},
   "source": [
    "### Aula 2.05 (winequality-white.csv + winequality-red.csv)\n",
    "<br>\n",
    "\n",
    "*Obs: aqui mistura **estatística** com filtragem de dados*"
   ]
  },
  {
   "cell_type": "markdown",
   "metadata": {},
   "source": [
    "**Forma mais elaborada de exibir o formato**"
   ]
  },
  {
   "cell_type": "code",
   "execution_count": null,
   "metadata": {},
   "outputs": [],
   "source": [
    "print(\"White possui {0} amostras e {1} colunas\".format(\n",
    "        df_white.shape[0], df_white.shape[1] ))\n",
    "\n",
    "print(\"Red possui {0} amostras e {1} colunas\".format(\n",
    "        df_red.shape[0], df_red.shape[1] ))"
   ]
  },
  {
   "cell_type": "markdown",
   "metadata": {},
   "source": [
    "**Lista campos que tenham valores faltantes**"
   ]
  },
  {
   "cell_type": "code",
   "execution_count": null,
   "metadata": {},
   "outputs": [],
   "source": [
    "df_white.isnull().any()"
   ]
  },
  {
   "cell_type": "markdown",
   "metadata": {},
   "source": [
    "**Linhas duplicadas em vinho branco**"
   ]
  },
  {
   "cell_type": "code",
   "execution_count": null,
   "metadata": {},
   "outputs": [],
   "source": [
    "print(\" Duplicadas tinto: {0} \\n Duplicadas branco: {1}\".format(\n",
    "        df_red.duplicated().sum(), df_white.duplicated().sum()))"
   ]
  },
  {
   "cell_type": "markdown",
   "metadata": {},
   "source": [
    "**Número de valores únicos para qualidade em cada conjunto de dados**"
   ]
  },
  {
   "cell_type": "code",
   "execution_count": null,
   "metadata": {},
   "outputs": [],
   "source": [
    "print(\" Valores únicos para qualidade tinto: {0} \\n Valores Únicos para qualidade Branco: {1}\".format(\n",
    "        df_red['quality'].nunique(), df_white['quality'].nunique()))"
   ]
  },
  {
   "cell_type": "markdown",
   "metadata": {},
   "source": [
    "**Densidade média do conjunto de dados sobre vinho tinto e banco**"
   ]
  },
  {
   "cell_type": "code",
   "execution_count": null,
   "metadata": {},
   "outputs": [],
   "source": [
    "print(\" Densidade média branco: {0} \\n Densidade média tinto: {1}\".format(\n",
    "        df_white[\"density\"].mean(), df_red[\"density\"].mean()))"
   ]
  },
  {
   "cell_type": "markdown",
   "metadata": {},
   "source": [
    "### Aula 2.07 (winequality-white.csv + winequality-red.csv)\n",
    "<br>\n",
    "\n",
    "*Obs: aqui se usa o **Numpy** com o Pandas*"
   ]
  },
  {
   "cell_type": "code",
   "execution_count": null,
   "metadata": {},
   "outputs": [],
   "source": [
    "import numpy as np"
   ]
  },
  {
   "cell_type": "markdown",
   "metadata": {},
   "source": [
    "**Criando colunas de cor**\n",
    "<br>\n",
    "\n",
    "Crie dois vetores de tamanho igual ao número de linhas nos dataframes tinto e branco que repetem o valor “red” or “white”. O NumPy oferece uma forma bem fácil de fazer isso"
   ]
  },
  {
   "cell_type": "code",
   "execution_count": null,
   "metadata": {},
   "outputs": [],
   "source": [
    "# crie vetor de cor para o dataframe tinto\n",
    "color_red = np.repeat(\"red\", red_df.shape[0])\n",
    "print(color_red)\n",
    "# crie vetor de cor para o dataframe branco\n",
    "color_white = np.repeat(\"white\", white_df.shape[0])\n",
    "print(color_white)"
   ]
  },
  {
   "cell_type": "markdown",
   "metadata": {},
   "source": [
    "Adicione os vetores de cor aos dataframes tinto e branco. Faça isso associando uma **nova coluna** chamada \"color\" ao vetor apropriado"
   ]
  },
  {
   "cell_type": "code",
   "execution_count": null,
   "metadata": {},
   "outputs": [],
   "source": [
    "red_df['color'] = color_red\n",
    "red_df.head()"
   ]
  },
  {
   "cell_type": "markdown",
   "metadata": {},
   "source": [
    "**Combinando os dois dataframes**\n",
    "<br>\n",
    "\n",
    "*Obs: isso é equivalente à cláusula **Union** do SQL. Uma lista é colada abaixo da outra e elas devem ter os mesmos campos*"
   ]
  },
  {
   "cell_type": "code",
   "execution_count": null,
   "metadata": {},
   "outputs": [],
   "source": [
    "# anexe dataframes\n",
    "wine_df = white_df.append(red_df)\n",
    "\n",
    "# exiba o dataframe para ver se tudo deu certo\n",
    "wine_df.head()"
   ]
  },
  {
   "cell_type": "markdown",
   "metadata": {},
   "source": [
    "### Aula 2.07 (winequality-white.csv + winequality-red.csv)\n",
    "<br>\n",
    "\n",
    "*Obs: aqui se faz **EDA** (exploratory data analysis) com o Pandas*"
   ]
  },
  {
   "cell_type": "markdown",
   "metadata": {},
   "source": [
    "**Histogramas para diversas características**\n",
    "<br>\n",
    "\n",
    "*Obs: este \";\" ao final da instrução diz ao interpretador Python que não farei mais nada neste gráfico e que ele já pode ser plotado. É que às vezes eu passo outras instruções em seguida em mais linhas, informando qual o cabeçalho, qual o texto das abscissas, se existe uma caixa descrevendo os tipos representados, etc.. Nesses casos, eu fecho com o \";\" minha última instrução para aquele gráfico*\n",
    "\n",
    "*Obs sobre histogramas: o que eu gosto de olhar em um histograma*\n",
    "\n",
    "- primeiro se ele segue a forma de distribuição **Normal** (ou seja, se ele se parece um pouco com um sino). Isso pode me dizer muito sobre a distribuição da dispersão desses dados e é uma ferramenta muito importante da estatística\n",
    "\n",
    "- segundo, se em relação à distribuição **Normal** ele parece estar deslocado para a esquerda ou para a direita. Isso em estatística se chama **Sketch** e pode indicar fortemente **tendências**, ou **vícios** dos meus dados. Um exemplo de vício em um jogo é por exemplo, o **aprendizado**. Ou seja, o jogador aprende os truques e passa a se sair melhor. Em ciências econômicas, o consumidor (ou a população de um país) também aprende e os antigos truques econômicos, como confisco de poupança passam a não funcionar mais. Gráficos **tendenciosos para a esquerda** ou **para a direita** devem ser analisados cuidadosamente\n",
    "\n",
    "- terceiro, se em relação à distribuição **Normal** ele parece um pouco alongado ou encurtado. Isso se chama em estatística de **Kurtosis** e pode me dizer muita coisa sobre o comportamento dos dados nas **caudas** da distribuição normal. Se existem muitos pontos exorbitantes, isso irá alterar a **curtose** de um gráfico. Isso me diz bastante sobre condições de aprendizado do público em geral, como por exemplo, anunciação de uma promoção e sua repetição em outros anos. Isso pode me dizer em economia também sobre qual o sentimento de futuro das pessoas em geral, se elas são otimistas ou não, se elas tendem a acreditar no governo e no sistema econômico, etc.. Gráficos com **caudas largas** ou muito **estreitas** devem ser analisados com cuidado "
   ]
  },
  {
   "cell_type": "code",
   "execution_count": null,
   "metadata": {},
   "outputs": [],
   "source": [
    "df_wine[\"fixed_acidity\"].plot(kind=\"hist\", title=\"Acidez\");\n",
    "\n",
    "df_wine[\"total_sulfur_dioxide\"].plot(kind=\"hist\", title=\"Dióxido de Enxofre\");\n",
    "\n",
    "df_wine[\"pH\"].plot(kind=\"hist\", title=\"pH \");\n",
    "\n",
    "df_wine[\"alcohol\"].plot(kind=\"hist\", title=\"Álcool\");"
   ]
  },
  {
   "cell_type": "markdown",
   "metadata": {},
   "source": [
    "**Diagrama de dispersão da qualidade associada a diversas características**\n",
    "<br>\n",
    "\n",
    "Obs o que eu gosto de ver num diagrama de dispersão\n",
    "<br>\n",
    "\n",
    "Tem gente que prefere ver as barras horizontais e outros, verticais. Isso é apenas questão de gosto e quem eu coloco em X e quem em Y\n",
    "<br>\n",
    "\n",
    "- em primeiro lugar, o comportamento geral das distribuições nas diversas bandas. Um primeiro olhar mostra se há muitos dados **agrupados** e como se comportam os **outliers**. Se você tiver diversos **outliers** muito longe do resto do agrupamento, trate esses dados com muita atenção. Isso pode não ser simplesmente um **erro** na aquisição dos dados!\n",
    "\n",
    "- outra coisa é o preenchimento geral nas barras. Se eu consigo visualizar os **pontos** isso quer dizer que eu tenho poucos dados em cada indicação. Isso pode ser preocupante em alguns casos, pois posso estar lidando com uma amostra **pequena**. Como a estatística é a ciência dos grandes números, uma amostra **pequena** muitas vezes recebe um tratamento matemático diferente de uma amostra **grande**\n",
    "\n",
    "- mais uma coisa são as evidências de **defeitos** nas informações coletadas. Por exemplo, na barra qualidade = 7 eu posso notar uma boa amostragem nos teores alcoólicos entre 8 e 9 graus GL, o desaparecimento completo de pontos entre 9 e 12 e o ressurgimento de uma boa amostragem entre 12 e 14. E nas outras barras esse fenômeno não se repetir. Então o que houve na minha amostra? Algumas fichas de avaliação não foram entregues e se perderam? Todo um lote de garrafas foi furtado e não chegou à mesa avaliadora? Tudo isso deve ser questionado por um bom cientista de dados!\n",
    "\n",
    "- e por fim, as **tendências**. Se todas as barras contiverem distribuições semelhantes, como se uma fosse cópia da outra, isso é um forte indicativo de que não conseguirei concluir nada muito extraordinário desta amostragem. Agora, se eu começar a notar barras se deslocando para a esquerda ou para a direita, ou uma tendência a aumentar ou a diminuir a dispersão à medida que eu ando de uma barra para outra, isso é um forte indicativo de existência de tendências. Compreender qual é essa tendência e tentar descrever isso em palavras pode ser tarefa de sábios: \"ao que parece, conforme o teor de álcool **aumenta**, temos uma tendência de aumento da nota do vinho\". Isso quer dizer que devemos começar a tomar apenas vinhos com teor alcoólico mais elevado, pois são os melhores? Claro que não! Há vinhos verdes portugueses excelentes e muito valiosos e que não chegam nem à metade do teor alcoólico de outros vinhos, de sabor duvidoso. Então tome muito cuidado em, como os antigos sábios chineses, dizem que *\"a verdadeira sabedoria consiste em descrever e apontar, mas não em julgar\"*."
   ]
  },
  {
   "cell_type": "code",
   "execution_count": null,
   "metadata": {},
   "outputs": [],
   "source": [
    "df_wine.plot(kind='scatter', x='volatile_acidity', y='quality');\n",
    "\n",
    "df_wine.plot(kind='scatter', x='residual_sugar', y='quality');\n",
    "\n",
    "df_wine.plot(kind='scatter', x='pH', y='quality');\n",
    "\n",
    "df_wine.plot(kind='scatter', x='alcohol', y='quality');"
   ]
  },
  {
   "cell_type": "markdown",
   "metadata": {},
   "source": [
    "### Aula 2.11 (winequality_edited.csv)\n",
    "\n",
    "*Obs: aqui se faz uso do **groupby** para nossas análises de dados*"
   ]
  },
  {
   "cell_type": "markdown",
   "metadata": {},
   "source": [
    "**Será que o tipo de vinho está associado a uma qualidade superior?**"
   ]
  },
  {
   "cell_type": "code",
   "execution_count": null,
   "metadata": {},
   "outputs": [],
   "source": [
    "# Encontre a qualidade média de cada tipo de vinho (tinto e branco) com groupby\n",
    "df_wine.groupby([\"color\"]).mean()[\"quality\"]"
   ]
  },
  {
   "cell_type": "markdown",
   "metadata": {},
   "source": [
    "**Qual o nível de acidez que recebe a maior avaliação média?**"
   ]
  },
  {
   "cell_type": "code",
   "execution_count": null,
   "metadata": {},
   "outputs": [],
   "source": [
    "# Observe os seguintes valores de pH com Pandas describe: min, 25%, 50%, 75% e max\n",
    "ph_desc = df_wine[\"pH\"].describe()\n",
    "\n",
    "# Bordas dos intervalos que serão usados para dividir os dados em grupos\n",
    "# Preencha esta lista com os cinco valores que você acabou de encontrar\n",
    "bin_edges = [ph_desc['min'] ,ph_desc[\"25%\"] , ph_desc[\"50%\"] ,ph_desc[\"75%\"], ph_desc[\"max\"]]\n",
    "\n",
    "# Rótulos para os quadro grupos de nível de acidez\n",
    "# Nomeie cada categoria de nível de acidez\n",
    "bin_names = [\"Alto\" ,\"Moderadamente Alto\" ,\"Médio\" ,\"Baixo\" ] \n",
    "\n",
    "# Isso cria a coluna acidity_levels\n",
    "df_wine['acidity_levels'] = pd.cut(df_wine['pH'], bin_edges, labels=bin_names)\n",
    "\n",
    "# Verifique se esta coluna foi criada corretamente\n",
    "df_wine.head()\n",
    "\n",
    "# Encontre a qualidade média de cada nível de acidez com groupby\n",
    "df_wine.groupby([\"acidity_levels\"]).mean()[\"quality\"]"
   ]
  },
  {
   "cell_type": "markdown",
   "metadata": {},
   "source": [
    "### Aula 2.18 (winequality_edited.csv)\n",
    "\n",
    "*Obs: com o uso do **query**, diversas conclusões importantes podem ser tiradas*\n",
    "<br>\n",
    "\n",
    "O comando **query** provém dos bancos de dados. Para extrair dados, fazer novas junções e os listar de outras maneiras, **consultas**, ou **queries** são criadas. Uma vez feito isso, elas podem ser adaptadas e readaptadas para infinitas aplicações envolvendo tabelas contendo dados"
   ]
  },
  {
   "cell_type": "markdown",
   "metadata": {},
   "source": [
    "**Será que vinhos com maior teor alcóolico recebem avaliações melhores?**\n",
    "<br>\n",
    "\n",
    "*Obs: para utilizarmos uma **variável** em uma query, precisamos colocar um @ antes, pois estamos dentro de uma string de texto!*"
   ]
  },
  {
   "cell_type": "code",
   "execution_count": null,
   "metadata": {},
   "outputs": [],
   "source": [
    "# obtenha o valor mediano do teor alcóolico\n",
    "alcohol_median = df_wine[\"alcohol\"].median()\n",
    "\n",
    "# selecione amostras com teor alcóolico abaixo da mediana\n",
    "low_alcohol = df_wine.query('alcohol < @alcohol_median')\n",
    "\n",
    "# selecione amostras com teor alcóolico maior ou igual à mediana\n",
    "high_alcohol = df_wine.query('alcohol >= @alcohol_median')\n",
    "\n",
    "# certifique-se que estas consultas incluíram cada amostra uma única vez\n",
    "# resultado deve ser True\n",
    "num_samples = df_wine.shape[0]\n",
    "num_samples == low_alcohol['quality'].count() + high_alcohol['quality'].count() \n",
    "\n",
    "# obtenha a avaliação média de qualidade para grupos com alto e baixo teor alcóolico\n",
    "print(\" Avaliação média para alto teor:{0} \\n Avaliação média para baixo teor:{1}\".format(\n",
    "        high_alcohol[\"quality\"].mean(), low_alcohol[\"quality\"].mean() ))"
   ]
  },
  {
   "cell_type": "markdown",
   "metadata": {},
   "source": [
    "**Vinhos mais suaves recebem avaliações melhores?**"
   ]
  },
  {
   "cell_type": "code",
   "execution_count": null,
   "metadata": {},
   "outputs": [],
   "source": [
    "# obtenha o valor mediano do nível de açúcar residual\n",
    "sugar_median = df_wine[\"residual_sugar\"].median()\n",
    "\n",
    "# selecione amostras com nível de açúcar residual abaixo da mediana\n",
    "low_sugar = df_wine.query('residual_sugar < @sugar_median')\n",
    "\n",
    "# selecione amostras com nível de açúcar residual maior ou igual à mediana\n",
    "high_sugar = df_wine.query('residual_sugar >= @sugar_median')\n",
    "\n",
    "# certifique-se que estas consultas incluíram cada amostra uma única vez\n",
    "# resultado deve ser True\n",
    "num_samples == low_sugar['quality'].count() + high_sugar['quality'].count() \n",
    "\n",
    "# obtenha a avaliação média de qualidade para grupos com alto e baixo nível de açúcar residual\n",
    "print(\" Avaliação média para alto nível:{0} \\n Avaliação média para baixo nível:{1}\".format(\n",
    "        high_sugar[\"quality\"].mean(), low_sugar[\"quality\"].mean() ))"
   ]
  },
  {
   "cell_type": "markdown",
   "metadata": {},
   "source": [
    "### Aula 2.19 (winequality_edited.csv)\n",
    "\n",
    "*Obs: o **matplotlib** pode ser usado para criar gráficos de barras que permitem visualizar as conclusões que você tirou com groupby e query*"
   ]
  },
  {
   "cell_type": "code",
   "execution_count": null,
   "metadata": {},
   "outputs": [],
   "source": [
    "from matplotlib import pyplot as plt"
   ]
  },
  {
   "cell_type": "markdown",
   "metadata": {},
   "source": [
    "**Será que vinhos com maior teor alcóolico recebem avaliações melhores?**\n",
    "<br>\n",
    "\n",
    "*Crie um gráfico de barras com uma barra para amostras de vinho com baixo teor alcóolico e outra para amostras com alto teor alcóolico*"
   ]
  },
  {
   "cell_type": "code",
   "execution_count": null,
   "metadata": {},
   "outputs": [],
   "source": [
    "# Use query para selecionar cada grupo e obter sua qualidade média\n",
    "median = df_wine['alcohol'].median()\n",
    "low = df_wine.query('alcohol < {}'.format(median))\n",
    "high = df_wine.query('alcohol >= {}'.format(median))\n",
    "\n",
    "mean_quality_low = low['quality'].mean()\n",
    "mean_quality_high = high['quality'].mean()\n",
    "\n",
    "# Crie um gráfico de barras com rótulos adequados\n",
    "locations = [1, 2]\n",
    "heights = [mean_quality_low, mean_quality_high]\n",
    "labels = ['Low', 'High']\n",
    "plt.bar(locations, heights, tick_label=labels)\n",
    "plt.title('Average Quality Ratings by Alcohol Content')\n",
    "plt.xlabel('Alcohol Content')\n",
    "plt.ylabel('Average Quality Rating');"
   ]
  },
  {
   "cell_type": "markdown",
   "metadata": {},
   "source": [
    "**Vinhos mais suaves recebem avaliações melhores?**\n",
    "<br>\n",
    "\n",
    "*Crie um gráfico de barras com uma barra para amostras de vinho com baixo nível de açúcar residual e outra para amostras com alto nível de açúcar residual*"
   ]
  },
  {
   "cell_type": "code",
   "execution_count": null,
   "metadata": {},
   "outputs": [],
   "source": [
    "# Use query para selecionar cada grupo e obter sua qualidade média\n",
    "median_sugar = df_wine['residual_sugar'].median()\n",
    "low_sugar = df_wine.query('residual_sugar < {}'.format(median_sugar))\n",
    "high_sugar = df_wine.query('residual_sugar >= {}'.format(median_sugar))\n",
    "\n",
    "mean_quality_low_sugar = low['quality'].mean()\n",
    "mean_quality_high_sugar = high['quality'].mean()\n",
    "\n",
    "# Crie um gráfico de barras com rótulos adequados\n",
    "locations = [1, 2]\n",
    "heights = [mean_quality_low_sugar, mean_quality_high_sugar]\n",
    "labels = ['Low', 'High']\n",
    "plt.bar(locations, heights, tick_label=labels)\n",
    "plt.title('Average Quality Ratings by Residual Sugar')\n",
    "plt.xlabel('Sugar Level')\n",
    "plt.ylabel('Average Quality Rating');"
   ]
  },
  {
   "cell_type": "markdown",
   "metadata": {},
   "source": [
    "**Qual o nível de acidez que recebe a maior avaliação média?**\n",
    "<br>\n",
    "\n",
    "*Crie um gráfico de barras com uma barra para cada um dos quatro níveis de acidez*"
   ]
  },
  {
   "cell_type": "code",
   "execution_count": null,
   "metadata": {},
   "outputs": [],
   "source": [
    "# Use groupby para obter a qualidade média para cada nível de acidez\n",
    "# Crie um gráfico de barras com rótulos adequados\n",
    "df_wine.groupby([\"acidity_levels\"])\n",
    "    .mean()[\"quality\"]\n",
    "    .plot(kind=\"bar\", ylim=(5.5,6), title=\"Qualidade Média por Níveis de Acidez\")"
   ]
  },
  {
   "cell_type": "markdown",
   "metadata": {},
   "source": [
    "**A mesma coisa, em um gráfico de linha**"
   ]
  },
  {
   "cell_type": "code",
   "execution_count": null,
   "metadata": {},
   "outputs": [],
   "source": [
    "df_wine.groupby([\"acidity_levels\"])\n",
    "    .mean()[\"quality\"]\n",
    "    .plot(kind=\"line\", ylim=(5.5,6), title=\"Qualidade Média por Níveis de Acidez\")"
   ]
  },
  {
   "cell_type": "markdown",
   "metadata": {},
   "source": [
    "### Aula 2.19b (winequality_edited.csv)"
   ]
  },
  {
   "cell_type": "code",
   "execution_count": null,
   "metadata": {},
   "outputs": [],
   "source": [
    "import matplotlib.pyplot as plt\n",
    "% matplotlib inline"
   ]
  },
  {
   "cell_type": "markdown",
   "metadata": {},
   "source": [
    "Dois argumentos são necessários para se usar a função bar do pyplot: a coordenada no eixo x das barras e sua altura"
   ]
  },
  {
   "cell_type": "code",
   "execution_count": null,
   "metadata": {},
   "outputs": [],
   "source": [
    "plt.bar([1, 2, 3], [224, 620, 425]);"
   ]
  },
  {
   "cell_type": "markdown",
   "metadata": {},
   "source": [
    "Você pode especificar os rótulos das marcações do eixo x usando a função xticks do pyplot, ou ainda especificando um parâmetro adicional na função bar. As duas células abaixo fazem isso"
   ]
  },
  {
   "cell_type": "code",
   "execution_count": null,
   "metadata": {},
   "outputs": [],
   "source": [
    "# trace as barras\n",
    "plt.bar([1, 2, 3], [224, 620, 425])\n",
    "\n",
    "# especifique as coordenadas no eixo x das marcações e seus rótulos\n",
    "plt.xticks([1, 2, 3], ['a', 'b', 'c']);\n",
    "\n",
    "# trace as barras com rótulos nas marcações do eixo x\n",
    "plt.bar([1, 2, 3], [224, 620, 425], tick_label=['a', 'b', 'c']);\n",
    "\n",
    "# Defina o título e o rótulo dos eixos assim\n",
    "plt.bar([1, 2, 3], [224, 620, 425], tick_label=['a', 'b', 'c'])\n",
    "plt.title('Some Title')\n",
    "plt.xlabel('Some X Label')\n",
    "plt.ylabel('Some Y Label');"
   ]
  },
  {
   "cell_type": "markdown",
   "metadata": {},
   "source": [
    "**Outro exemplo: Gráfico embelezado com o Seaborn**\n",
    "<br>\n",
    "\n",
    "\n",
    "*Obs: o **seaborn** pode ser agregado ao matplotlib para melhorar a qualidade dos gráficos. Mesmo se não for chamado explicitamente por uma função sua, os gráficos aparecerão melhor desenhados*"
   ]
  },
  {
   "cell_type": "code",
   "execution_count": null,
   "metadata": {},
   "outputs": [],
   "source": [
    "import numpy as np\n",
    "import pandas as pd\n",
    "import matplotlib.pyplot as plt\n",
    "% matplotlib inline\n",
    "import seaborn as sns\n",
    "sns.set_style('darkgrid')"
   ]
  },
  {
   "cell_type": "markdown",
   "metadata": {},
   "source": [
    "**Crie vetores para as alturas das barras correspondentes aos vinhos tinto e branco**\n",
    "<br>\n",
    "\n",
    "*Lembre-se, existe uma barra para cada combinação de tipo de vinho e avaliação de qualidade*\n",
    "\n",
    "- A altura de cada barra é baseada na **proporção** de amostras daquele tipo com aquela avaliação de qualidade.\n",
    "- Proporções das barras de vinho tinto = contagens para cada avaliação de qualidade / número total de amostras de vinho tinto\n",
    "- Proporções das barras de vinho branco = contagens para cada avaliação de qualidade / número total de amostras de vinho branco"
   ]
  },
  {
   "cell_type": "code",
   "execution_count": null,
   "metadata": {},
   "outputs": [],
   "source": [
    "# obtenha as contagens para cada avaliação e tipo de vinho\n",
    "color_counts = wine_df.groupby(['color', 'quality']).count()['pH']\n",
    "color_counts\n",
    "\n",
    "# obtenha a contagem total para cada tipo de vinho\n",
    "color_totals = wine_df.groupby('color').count()['pH']\n",
    "color_totals\n",
    "\n",
    "# obtenha proporções dividindo as contagens das avaliações dos vinhos tintos\n",
    "#pelo número total de amostras de vinho tinto\n",
    "red_proportions = color_counts['red'] / color_totals['red']\n",
    "red_proportions\n",
    "\n",
    "# obtenha proporções dividindo as contagens das avaliações dos vinhos brancos\n",
    "#pelo número total de amostras de vinho branco\n",
    "white_proportions = color_counts['white'] / color_totals['white']\n",
    "white_proportions\n",
    "\n",
    "#isso aqui é para completar a coluna da avaliação 9, que está faltando para o vinho tinto!\n",
    "red_proportions['9'] = 0\n",
    "red_proportions"
   ]
  },
  {
   "cell_type": "markdown",
   "metadata": {},
   "source": [
    "**Trace as proporções em um gráfico de barras e crie o gráfico**\n",
    "<br>\n",
    "\n",
    "*Obs: defina a localização no eixo x para cada grupo de avaliação e a largura de cada barra*"
   ]
  },
  {
   "cell_type": "code",
   "execution_count": null,
   "metadata": {},
   "outputs": [],
   "source": [
    "ind = np.arange(len(red_proportions))  # a localização no eixo x dos grupos\n",
    "width = 0.35       # a largura das barras\n",
    "\n",
    "# trace as barras\n",
    "red_bars = plt.bar(ind, red_proportions, width, color='r', alpha=.7, label='Red Wine')\n",
    "white_bars = plt.bar(ind + width, white_proportions, width, color='w', alpha=.7, label='White Wine')\n",
    "# esse alpha=.7 serve para dar transparência ao gráfico\n",
    "\n",
    "\n",
    "# título e rótulos\n",
    "plt.ylabel('Proportion')\n",
    "plt.xlabel('Quality')\n",
    "plt.title('Proportion by Wine Color and Quality')\n",
    "locations = ind + width / 2  # localização dos marcadores no eixo x\n",
    "labels = ['3', '4', '5', '6', '7', '8', '9']  # rótulos dos marcadores no eixo x\n",
    "plt.xticks(locations, labels)\n",
    "\n",
    "# legenda\n",
    "plt.legend()"
   ]
  },
  {
   "cell_type": "markdown",
   "metadata": {},
   "source": [
    "## Coisas úteis para se saber no Jupyter Notebook\n",
    "<br>\n",
    "\n",
    "instalar:\n",
    "\n",
    "    conda install jupyter notebook\n",
    "    \n",
    "    pip install jupyter notebook\n",
    "    \n",
    "parar no terminal:\n",
    "\n",
    "    CTRL + c x2"
   ]
  },
  {
   "cell_type": "markdown",
   "metadata": {},
   "source": [
    "Alguns parâmetros úteis para .plot()\n",
    "<br>\n",
    "\n",
    "    antialiased=True/False\n",
    "    animated=True/False\n",
    "    alpha=0.0 -> 1.0 (opaco) ← grau de transparência dos elementos do gráfico\n",
    "    fountsize = 18\n",
    "    figsize=(8,8) ← tamanho da janela de figura\n",
    "\n",
    "    \n",
    "    .hist() ← mostra todos e pode ser usado diretamente na estrutura de dados do Pandas como:\n",
    "    df_data.hist(); ← o ponto e vírgula esconde saídas indesejadas (mostra todos)\n",
    "    df_data[\"idade\"].hist() <-apenas desta coluna\n",
    "    \n",
    "Outra maneira de escrever é primeiro descrever o dado filtrado/selecionado e depois chamar a função .plot() assim:\n",
    "\n",
    "    df_data[\"idade\"].plot(kind=\"hist\")\n",
    "    \n",
    "    até aqui Pandas | a partir daqui Matplotlib"
   ]
  },
  {
   "cell_type": "markdown",
   "metadata": {},
   "source": [
    "**Avaliar tempo de rodar uma função**"
   ]
  },
  {
   "cell_type": "code",
   "execution_count": null,
   "metadata": {},
   "outputs": [],
   "source": [
    "import random"
   ]
  },
  {
   "cell_type": "code",
   "execution_count": null,
   "metadata": {},
   "outputs": [],
   "source": [
    "%%timeit #comando mágico de célula inteira. para uma linha, use %\n",
    "rolls = (random.randint(1,6) for _ in range(100))\n",
    "prize = sum(roll if roll%2 == 0 else -1 for roll in rolls)"
   ]
  },
  {
   "cell_type": "markdown",
   "metadata": {},
   "source": [
    "**Embutindo visualizações em notebooks**\n",
    "<br>\n",
    "\n",
    "Notebooks permitem que você inclua imagens ao longo do texto e código\n",
    "<br>\n",
    "\n",
    "Isso é muito útil quando se usa o matplotlib ou outros pacotes de visualização para criar gráficos e imagens\n",
    "\n",
    "Para carregar o pacote matplotlib de modo interativo no notebook\n",
    "\n",
    "    %matplotlib\n",
    "\n",
    "O padrão é carregar as imagens em uma janela própria\n",
    "\n",
    "No entanto, é possível passar um argumento para o comando de modo que ele seleciona um \"backend\" específico, o software que carrega a imagem\n",
    "\n",
    "Para carregar as imagens diretamente no notebook, é preciso usar o comando de backend inline: \n",
    "\n",
    "    %matplotlib inline\n",
    "    \n",
    " *Obs: em telas de resolução elevada, tais como as com display Retina, as imagens padrão do notebook podem ficar borradas. Para processar imagens de alta resolução*\n",
    " \n",
    "    comando%config InlineBackend.figure_format = 'retina'"
   ]
  },
  {
   "cell_type": "code",
   "execution_count": null,
   "metadata": {},
   "outputs": [],
   "source": [
    "%matplotlib inline\n",
    "%config InlineBackend.figure_format = 'retina'\n",
    "\n",
    "import matplotlib.pyplot as plt\n",
    "import numpy as np"
   ]
  },
  {
   "cell_type": "code",
   "execution_count": null,
   "metadata": {},
   "outputs": [],
   "source": [
    "x = np.linspace(0, 1, 300)\n",
    "for w in range(2, 6, 2):\n",
    "    plt.plot(x, np.sin(np.pi*x)*np.sin(2*w*np.pi*x))"
   ]
  },
  {
   "cell_type": "markdown",
   "metadata": {},
   "source": [
    "**Depuração em um notebook**\n",
    "<br>\n",
    "\n",
    "Com o kernel de Python, é possível ativar o debugger interativo usando o comando mágico %pdb\n",
    "\n",
    "Quando ocorrer algum erro, será possível inspecionar as variáveis no espaço atual"
   ]
  },
  {
   "cell_type": "code",
   "execution_count": null,
   "metadata": {},
   "outputs": [],
   "source": [
    "%pdb"
   ]
  },
  {
   "cell_type": "code",
   "execution_count": null,
   "metadata": {},
   "outputs": [],
   "source": [
    "numbers = 'hello'\n",
    "sum(numbers)"
   ]
  },
  {
   "cell_type": "code",
   "execution_count": null,
   "metadata": {},
   "outputs": [],
   "source": []
  }
 ],
 "metadata": {
  "kernelspec": {
   "display_name": "Python 3",
   "language": "python",
   "name": "python3"
  },
  "language_info": {
   "codemirror_mode": {
    "name": "ipython",
    "version": 3
   },
   "file_extension": ".py",
   "mimetype": "text/x-python",
   "name": "python",
   "nbconvert_exporter": "python",
   "pygments_lexer": "ipython3",
   "version": "3.6.7"
  }
 },
 "nbformat": 4,
 "nbformat_minor": 2
}
