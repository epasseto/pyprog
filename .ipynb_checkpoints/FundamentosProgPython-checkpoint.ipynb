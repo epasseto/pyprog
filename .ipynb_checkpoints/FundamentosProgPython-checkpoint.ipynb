{
 "cells": [
  {
   "cell_type": "markdown",
   "metadata": {},
   "source": [
    "## Curso: Fundamentos da Programação em Python"
   ]
  },
  {
   "cell_type": "markdown",
   "metadata": {},
   "source": [
    "## Aula 2 - Princípios de programação"
   ]
  },
  {
   "cell_type": "markdown",
   "metadata": {},
   "source": [
    "### Primeiro exemplo - o relógio da distração"
   ]
  },
  {
   "cell_type": "markdown",
   "metadata": {},
   "source": [
    "Aqui eu tenho a fórmula para abrir vídeos do Youtube no Jupyter..."
   ]
  },
  {
   "cell_type": "code",
   "execution_count": 1,
   "metadata": {},
   "outputs": [
    {
     "data": {
      "text/html": [
       "<iframe width=\"560\" height=\"315\" src=https://www.youtube.com/embed/S_f2qV2_U00?rel=0&amp;controls=0&amp;showinfo=0 frameborder=\"0\" allowfullscreen></iframe>"
      ],
      "text/plain": [
       "<IPython.core.display.HTML object>"
      ]
     },
     "execution_count": 1,
     "metadata": {},
     "output_type": "execute_result"
    }
   ],
   "source": [
    "#jupyter notebook --allow-root (problemas de gravação)\n",
    "from IPython.display import HTML\n",
    "\n",
    "# Youtube\n",
    "fonte = \"https://www.youtube.com/embed/S_f2qV2_U00?rel=0&amp;controls=0&amp;showinfo=0\"\n",
    "HTML('<iframe width=\"560\" height=\"315\" src={} frameborder=\"0\" allowfullscreen></iframe>'.format(str(fonte)))\n",
    "\n",
    "# Vimeo\n",
    "#HTML('<iframe src=\"https://player.vimeo.com/video/26763844?title=0&byline=0&portrait=0\" width=\"700\" height=\"394\" frameborder=\"0\"\\\n",
    "#     webkitallowfullscreen mozallowfullscreen allowfullscreen></iframe><p><a href=\"https://vimeo.com/26763844\">\\\n",
    "#     BAXTER DURY - CLAIRE (Dir Cut)</a> from <a href=\"https://vimeo.com/dannysangra\">Danny Sangra</a> on a \\\n",
    "#     href=\"https://vimeo.com\">Vimeo</a>.</p>')"
   ]
  },
  {
   "cell_type": "markdown",
   "metadata": {},
   "source": [
    "*Obs: a função abaixo não funciona no Jupyter Notebook! (mas a adaptação acima resolve)*\n",
    "<br>\n",
    "\n",
    "*Basta juntar as duas soluções e o programa fica legal!*"
   ]
  },
  {
   "cell_type": "code",
   "execution_count": 10,
   "metadata": {},
   "outputs": [
    {
     "name": "stdout",
     "output_type": "stream",
     "text": [
      "iniciei emThu Aug 16 14:00:25 2018\n"
     ]
    },
    {
     "ename": "NameError",
     "evalue": "name 'webbrouser' is not defined",
     "output_type": "error",
     "traceback": [
      "\u001b[1;31m---------------------------------------------------------------------------\u001b[0m",
      "\u001b[1;31mNameError\u001b[0m                                 Traceback (most recent call last)",
      "\u001b[1;32m<ipython-input-10-0efd1d71c7cb>\u001b[0m in \u001b[0;36m<module>\u001b[1;34m()\u001b[0m\n\u001b[0;32m      9\u001b[0m \u001b[1;32mwhile\u001b[0m\u001b[1;33m(\u001b[0m\u001b[0mcontagem_pausa\u001b[0m \u001b[1;33m<\u001b[0m \u001b[0mtotal_pausas\u001b[0m\u001b[1;33m)\u001b[0m\u001b[1;33m:\u001b[0m\u001b[1;33m\u001b[0m\u001b[0m\n\u001b[0;32m     10\u001b[0m     \u001b[0mtime\u001b[0m\u001b[1;33m.\u001b[0m\u001b[0msleep\u001b[0m\u001b[1;33m(\u001b[0m\u001b[1;36m10\u001b[0m\u001b[1;33m)\u001b[0m\u001b[1;33m\u001b[0m\u001b[0m\n\u001b[1;32m---> 11\u001b[1;33m     \u001b[0mwebbrouser\u001b[0m\u001b[1;33m.\u001b[0m\u001b[0mopen\u001b[0m\u001b[1;33m(\u001b[0m\u001b[1;34m'https://www.youtube.com/watch?v=waDW6m1XCf0'\u001b[0m\u001b[1;33m)\u001b[0m\u001b[1;33m\u001b[0m\u001b[0m\n\u001b[0m\u001b[0;32m     12\u001b[0m     \u001b[0mpausa\u001b[0m \u001b[1;33m+=\u001b[0m \u001b[1;36m1\u001b[0m\u001b[1;33m\u001b[0m\u001b[0m\n",
      "\u001b[1;31mNameError\u001b[0m: name 'webbrouser' is not defined"
     ]
    }
   ],
   "source": [
    "#conceito de abstração - boa parte dos detalhes de um método fica oculta, aparecendo apenas na sua documentação\n",
    "import time\n",
    "import webbrowser\n",
    "\n",
    "total_pausas = 3\n",
    "contagem_pausa = 0\n",
    "\n",
    "print('iniciei em{}'.format(time.ctime()))\n",
    "while(contagem_pausa < total_pausas):\n",
    "    time.sleep(10)\n",
    "    webbrouser.open('https://www.youtube.com/watch?v=waDW6m1XCf0')\n",
    "    pausa += 1"
   ]
  },
  {
   "cell_type": "markdown",
   "metadata": {},
   "source": [
    "### Segundo exemplo - os arquivos numerados e embaralhados"
   ]
  },
  {
   "cell_type": "markdown",
   "metadata": {},
   "source": [
    "**Minha solução...**"
   ]
  },
  {
   "cell_type": "markdown",
   "metadata": {},
   "source": [
    "A ideia é a seguinte:\n",
    "    1. puxar os nomes de todos os arquivos do diretório para uma lista a;\n",
    "    2. retirar da lista a, retirar os caracteres numéricos e devolver uma tupla (nome anterior, nome atual);\n",
    "    3. gravar as tuplas em uma lista b;\n",
    "    4. abrir cada tupla e renomear cada arquivo."
   ]
  },
  {
   "cell_type": "code",
   "execution_count": 11,
   "metadata": {},
   "outputs": [
    {
     "name": "stdout",
     "output_type": "stream",
     "text": [
      "['.DS_Store', '16los angeles.jpg', 'athens.jpg', 'austin.jpg', 'bangalore.jpg', 'barcelona.jpg', 'beijing.jpg', 'berkeley.jpg', 'bogota.jpg', 'bristol.jpg', 'bucharest.jpg', 'buenos aires.jpg', 'cairo.jpg', 'chennai.jpg', 'chicago.jpg', 'colombo.jpg', 'dallas.jpg', 'delhi.jpg', 'edinbrugh.jpg', 'gainesville.jpg', 'houston.jpg', 'hyderabad.jpg', 'istanbul.jpg', 'ithaca.jpg', 'jacksonville.jpg', 'karachi.jpg', 'kiev.jpg', 'london.jpg', 'madrid.jpg', 'manchester.jpg', 'miami.jpg', 'new york.jpg', 'oakland.jpg', 'pune.jpg', 'rochester.jpg', 'san diego.jpg', 'san jose.jpg', 'sao paulo.jpg', 'seattle.jpg', 'seoul.jpg', 'shanghai.jpg', 'singapore.jpg', 'sunnyvale.jpg', 'sydney.jpg', 'tel aviv.jpg']\n"
     ]
    }
   ],
   "source": [
    "#jupyter notebook --allow root (no prompt de terminal, para poder acessar diretórios restritos)\n",
    "from os import listdir\n",
    "from os.path import isfile, join #isso daqui são bibliotecas para acessar e trabalhar arquivos\n",
    "\n",
    "#futuro código para uma função\n",
    "meudir = \"c:\\pyprog\\prank\"\n",
    "apenasarquivos = [f for f in listdir(meudir) if isfile(join(meudir, f))] #eu quero apenas os arquivos e não diretórios!\n",
    "\n",
    "print(apenasarquivos)"
   ]
  },
  {
   "cell_type": "code",
   "execution_count": 12,
   "metadata": {},
   "outputs": [
    {
     "name": "stdout",
     "output_type": "stream",
     "text": [
      "[('tel aviv.jpg', 'tel aviv.jpg'), ('sydney.jpg', 'sydney.jpg'), ('sunnyvale.jpg', 'sunnyvale.jpg'), ('singapore.jpg', 'singapore.jpg'), ('shanghai.jpg', 'shanghai.jpg'), ('seoul.jpg', 'seoul.jpg'), ('seattle.jpg', 'seattle.jpg'), ('sao paulo.jpg', 'sao paulo.jpg'), ('san jose.jpg', 'san jose.jpg'), ('san diego.jpg', 'san diego.jpg'), ('rochester.jpg', 'rochester.jpg'), ('pune.jpg', 'pune.jpg'), ('oakland.jpg', 'oakland.jpg'), ('new york.jpg', 'new york.jpg'), ('miami.jpg', 'miami.jpg'), ('manchester.jpg', 'manchester.jpg'), ('madrid.jpg', 'madrid.jpg'), ('london.jpg', 'london.jpg'), ('kiev.jpg', 'kiev.jpg'), ('karachi.jpg', 'karachi.jpg'), ('jacksonville.jpg', 'jacksonville.jpg'), ('ithaca.jpg', 'ithaca.jpg'), ('istanbul.jpg', 'istanbul.jpg'), ('hyderabad.jpg', 'hyderabad.jpg'), ('houston.jpg', 'houston.jpg'), ('gainesville.jpg', 'gainesville.jpg'), ('edinbrugh.jpg', 'edinbrugh.jpg'), ('delhi.jpg', 'delhi.jpg'), ('dallas.jpg', 'dallas.jpg'), ('colombo.jpg', 'colombo.jpg'), ('chicago.jpg', 'chicago.jpg'), ('chennai.jpg', 'chennai.jpg'), ('cairo.jpg', 'cairo.jpg'), ('buenos aires.jpg', 'buenos aires.jpg'), ('bucharest.jpg', 'bucharest.jpg'), ('bristol.jpg', 'bristol.jpg'), ('bogota.jpg', 'bogota.jpg'), ('berkeley.jpg', 'berkeley.jpg'), ('beijing.jpg', 'beijing.jpg'), ('barcelona.jpg', 'barcelona.jpg'), ('bangalore.jpg', 'bangalore.jpg'), ('austin.jpg', 'austin.jpg'), ('athens.jpg', 'athens.jpg'), ('16los angeles.jpg', 'los angeles.jpg')]\n"
     ]
    }
   ],
   "source": [
    "#futuro código para uma função\n",
    "arquivoslimpos = []\n",
    "while len(apenasarquivos) != 0:\n",
    "    arquivo = apenasarquivos.pop()\n",
    "    #print (arquivo)\n",
    "    if (arquivo[0]) == \".\": #descarta o arquivo estranhão que veio sem querer\n",
    "        next\n",
    "    else:\n",
    "        limpo = ''.join([i for i in arquivo if not i.isdigit()]) #não é perfeito, pois pode limpar um número não-inicial\n",
    "        #print(limpo)\n",
    "        arquivoslimpos.append((arquivo, limpo))\n",
    "        \n",
    "print(arquivoslimpos)"
   ]
  },
  {
   "cell_type": "markdown",
   "metadata": {},
   "source": [
    "Hora de renomear os arquivos..."
   ]
  },
  {
   "cell_type": "code",
   "execution_count": 13,
   "metadata": {},
   "outputs": [],
   "source": [
    "from os import rename #os.rename()\n",
    "from os import path\n",
    "\n",
    "#cada coisa dessas depois vira uma função, para ser reaproveitada mais tarde\n",
    "while len(arquivoslimpos) != 0:\n",
    "    duplanomes = arquivoslimpos.pop()\n",
    "    #print(duplanomes[0], duplanomes[1])\n",
    "    arqantigo = path.join(meudir, duplanomes[0])\n",
    "    arqnovo = path.join(meudir, duplanomes[1])\n",
    "    rename(arqantigo,arqnovo)\n",
    "    \n",
    "#old_file = os.path.join(\"directory\", \"a.txt\")\n",
    "#new_file = os.path.join(\"directory\", \"b.kml\")\n",
    "#os.rename(old_file, new_file)"
   ]
  },
  {
   "cell_type": "markdown",
   "metadata": {},
   "source": [
    "Apenas para conferir se eu esvaziei a lista de tuplas de tarefas"
   ]
  },
  {
   "cell_type": "code",
   "execution_count": 14,
   "metadata": {},
   "outputs": [
    {
     "name": "stdout",
     "output_type": "stream",
     "text": [
      "[]\n"
     ]
    }
   ],
   "source": [
    "print (arquivoslimpos)"
   ]
  },
  {
   "cell_type": "code",
   "execution_count": 15,
   "metadata": {},
   "outputs": [],
   "source": [
    "#escrever aqui a fórmula para criar minha própria biblioteca de funções"
   ]
  },
  {
   "cell_type": "markdown",
   "metadata": {},
   "source": [
    "**Solução proposta no curso...**"
   ]
  },
  {
   "cell_type": "code",
   "execution_count": 28,
   "metadata": {},
   "outputs": [
    {
     "ename": "SyntaxError",
     "evalue": "EOL while scanning string literal (<ipython-input-28-56e28f16438e>, line 26)",
     "output_type": "error",
     "traceback": [
      "\u001b[1;36m  File \u001b[1;32m\"<ipython-input-28-56e28f16438e>\"\u001b[1;36m, line \u001b[1;32m26\u001b[0m\n\u001b[1;33m    renomear_arquivos()\"\"\"\"\u001b[0m\n\u001b[1;37m                           \n^\u001b[0m\n\u001b[1;31mSyntaxError\u001b[0m\u001b[1;31m:\u001b[0m EOL while scanning string literal\n"
     ]
    }
   ],
   "source": [
    "import os - não é necessário, pois já importei individualmente as funções do os\n",
    "import sys\n",
    "from os import listdir, getcwd, rename, chdir\n",
    "from string import maketrans\n",
    "def renomear_arquivos():\n",
    "    #pego arquivos da pasta\n",
    "    lista_arquivos = listdir(r\"C:\\pyprog\\prank\") #esse r é para o Python pegar dados raw (brutos) e não tentar interpretá-los\n",
    "    print(lista_arquivos)\n",
    "    caminho_salvo = getcwd() #isso aqui captura o diretório de trabalho atual\n",
    "    print(\"Atual diretório de trabalho é {}\".format(caminho_salvo))\n",
    "    chdir(r\"C:\\pyptrog\\prank\")\n",
    "    \n",
    "    #para cada arquivo, renomeio o arquivo\n",
    "    for nome_arquivo in lista_arquivos:\n",
    "        print(\"Nome antigo - {}\".format(nome_arquivo))\n",
    "        print(\"Nome novo - {}\".format(nome_arquivo.translate(None, \"0123456789\"))\n",
    "        rename(arqantigo, arqnovo)\n",
    "        rename(nome_arquivo, nome_arquivo) #.translate(None, \"0123456789\")) #uso do método translate\n",
    "    chdir(caminho_salvo) #retorno ao meu diretório de trabalho anterior\n",
    "\n",
    "renomear_arquivos()"
   ]
  },
  {
   "cell_type": "markdown",
   "metadata": {},
   "source": [
    "*Para corrigir o uso do método translate()...*"
   ]
  },
  {
   "cell_type": "code",
   "execution_count": 54,
   "metadata": {},
   "outputs": [
    {
     "name": "stdout",
     "output_type": "stream",
     "text": [
      "String original:  abcdef\n",
      "{97: None, 98: None, 99: 105}\n",
      "{a: None, b: None, c: i}\n",
      "String traduzida:  idef\n"
     ]
    }
   ],
   "source": [
    "primeira= \"abc\"\n",
    "segunda = \"ghi\"\n",
    "terceira = \"ab\"\n",
    "\n",
    "string = \"abcdef\"\n",
    "print(\"String original: \", string)\n",
    "\n",
    "traducao = string.maketrans(primeira, segunda, terceira) #cria um dicionário de tradução de elementos\n",
    "\n",
    "print(traducao)\n",
    "print (\"{\"+chr(97)+\": None, \"+chr(98)+\": None, \"+chr(99)+\": \"+chr(105)+\"}\") #isso aqui é como ficou meu dicionário de tradução!\n",
    "\n",
    "# translate string\n",
    "resposta = string.translate(tradução) #faz a tradução em si\n",
    "print(\"String traduzida: \",resposta )"
   ]
  },
  {
   "cell_type": "markdown",
   "metadata": {},
   "source": [
    "*Explicação:*\n",
    "<br>\n",
    "\n",
    "Isso serve para transcrever caracteres **individuais** dentro de uma string de texto.\n",
    "<br>\n",
    "\n",
    "Um **dicionário** é criado pelo método *.maketrans()*, contendo toda a transcrição. Depois esse dicionário é chamado, através do método *.translate()*\n",
    "<br>\n",
    "\n",
    "Da primeira para segunda, que é de **transcrição**, há o mapeamento dos caracteres a serem trocados (quando e na ordem em que eles aparecem):\n",
    " a->g b->h c->i\n",
    "<br>\n",
    "\n",
    "Mas a terceira, que é a de **remoção**, dá o comando de apagar os caracteres a e b (no dicionário, estes são vistos apontando para *None*)\n",
    "<br>\n",
    "\n",
    "assim:\n",
    "1. os três últimos caracteres não são modificados, pois não há nenhum comando sobre eles\n",
    "2. a e b são eliminados, por conta da string de eliminação\n",
    "3. c é substituído por i\n",
    "<br>\n",
    "\n",
    "*Essa ferramenta é ótima para consertar aqueles arquivos que ficam corrompidos, como \"Esta procura&#o foi anexada ao proces-so de readapta&#o...\", que se houver paridade na transcrição ficará certa como \"Esta procuração foi anexada ao processo de readaptação...\"*  "
   ]
  },
  {
   "cell_type": "markdown",
   "metadata": {},
   "source": [
    "Lidar com erros (exceções):\n",
    "    1. tentamos renomear um arquivo que não existe;\n",
    "    2. tentamos renomear um arquivo cujo nome já existe naquela pasta."
   ]
  },
  {
   "cell_type": "code",
   "execution_count": null,
   "metadata": {},
   "outputs": [],
   "source": [
    "#try:\n",
    "#    os.rename(...)\n",
    "#except ... : <-o mais chato é saber qual a exceção certa para se colocar aqui!\n",
    "#    print(\"AVISO: ...\") <-aqui deve se ter uma decisão: mostra-se um aviso, interrompe-se o processo, passa para o próximo...\n",
    "#else:\n",
    "#    os.rename(...) <-isso aqui é meu código de fato (servem também os comandos \"raise\" e \"finally:\")"
   ]
  },
  {
   "cell_type": "code",
   "execution_count": 27,
   "metadata": {},
   "outputs": [
    {
     "name": "stdout",
     "output_type": "stream",
     "text": [
      "<module 'os' from 'C:\\\\ProgramData\\\\Anaconda3\\\\lib\\\\os.py'>\n"
     ]
    }
   ],
   "source": [
    "import os\n",
    "\n",
    "print(os)"
   ]
  },
  {
   "cell_type": "markdown",
   "metadata": {},
   "source": [
    "## Aula 3 - Orientação a objeto com Turtle"
   ]
  },
  {
   "cell_type": "markdown",
   "metadata": {},
   "source": [
    "### Conceito de Template\n",
    "<br>\n",
    "\n",
    "quando as funções não bastam... crie uma *classe*!"
   ]
  },
  {
   "cell_type": "markdown",
   "metadata": {},
   "source": [
    "**Tartaruga**"
   ]
  },
  {
   "cell_type": "markdown",
   "metadata": {},
   "source": [
    "Para istalar, use o pip: (obs: logue em modo administrador!)\n",
    "- pip install ipyturtle\n",
    "- jupyter nbextension enable --py --sys-prefix ipyturtle\n",
    "<br>\n",
    "\n",
    "Para instalar o git no windows: (idem!)\n",
    "\n",
    "    conda install -c swc git_windows\n",
    "<br>\n",
    "\n",
    "Para instalação de desenvolvedor: (necessita do npm)\n",
    "- git clone https://github.com/gkvoelkl/ipython-turtle-widget.git\n",
    "- cd ipython-turtle-widget\n",
    "- pip install -e .\n",
    "- jupyter nbextension install --py --symlink --sys-prefix ipyturtle\n",
    "- jupyter nbextension enable --py --sys-prefix ipyturtle\n",
    "\n",
    "[origem](https://github.com/gkvoelkl/ipython-turtle-widget)\n",
    "<br>\n",
    "\n",
    "    pip3 install --upgrade pip\n",
    "    pip3 install jupyter\n",
    "    npm install -g ijavascript\n",
    "    ijsinstall\n",
    "    \n",
    "    node -v\n",
    "    npm -v\n",
    "    "
   ]
  },
  {
   "cell_type": "markdown",
   "metadata": {},
   "source": [
    "To install use pip:\n",
    "<br>\n",
    "\n",
    "    pip install ipyturtle $ jupyter nbextension enable --py --sys-prefix ipyturtle\n",
    "\n",
    "For a development installation (requires npm):\n",
    "<br>\n",
    "\n",
    "    git clone https://github.com/gkvoelkl/ipython-turtle-widget.git $ cd ipython-turtle-widget $ pip \n",
    "<br>\n",
    "\n",
    "    install -e . $ jupyter nbextension install --py --symlink --sys-prefix ipyturtle $ jupyter \n",
    "<br>\n",
    "\n",
    "    nbextension enable --py --sys-prefix ipyturtle\n",
    "    \n",
    "[fonte](https://pypi.org/project/ipyturtle/)"
   ]
  },
  {
   "cell_type": "code",
   "execution_count": 140,
   "metadata": {},
   "outputs": [
    {
     "data": {
      "application/vnd.jupyter.widget-view+json": {
       "model_id": "60e8b7abb109411ebadcdcee6ceebec9",
       "version_major": 2,
       "version_minor": 0
      },
      "text/plain": [
       "Turtle()"
      ]
     },
     "metadata": {},
     "output_type": "display_data"
    }
   ],
   "source": [
    "from ipyturtle import Turtle\n",
    "#print(ipyturtle)\n",
    "\n",
    "t2 = Turtle(fixed=False, width=400, height=400)\n",
    "t2"
   ]
  },
  {
   "cell_type": "code",
   "execution_count": 141,
   "metadata": {},
   "outputs": [],
   "source": [
    "t2.back(40)"
   ]
  },
  {
   "cell_type": "code",
   "execution_count": 142,
   "metadata": {},
   "outputs": [],
   "source": [
    "t2.forward(100)"
   ]
  },
  {
   "cell_type": "code",
   "execution_count": 143,
   "metadata": {},
   "outputs": [
    {
     "data": {
      "text/plain": [
       "(0.0, 60.0)"
      ]
     },
     "execution_count": 143,
     "metadata": {},
     "output_type": "execute_result"
    }
   ],
   "source": [
    "t2.position()"
   ]
  },
  {
   "cell_type": "code",
   "execution_count": 144,
   "metadata": {},
   "outputs": [],
   "source": [
    "t2.right(90)"
   ]
  },
  {
   "cell_type": "code",
   "execution_count": 145,
   "metadata": {},
   "outputs": [
    {
     "data": {
      "text/plain": [
       "0"
      ]
     },
     "execution_count": 145,
     "metadata": {},
     "output_type": "execute_result"
    }
   ],
   "source": [
    "t2.heading()"
   ]
  },
  {
   "cell_type": "code",
   "execution_count": 146,
   "metadata": {},
   "outputs": [],
   "source": [
    "t2.forward(150)"
   ]
  },
  {
   "cell_type": "code",
   "execution_count": 147,
   "metadata": {},
   "outputs": [],
   "source": [
    "t2.left(45)"
   ]
  },
  {
   "cell_type": "code",
   "execution_count": 148,
   "metadata": {},
   "outputs": [],
   "source": [
    "t2.back(100)"
   ]
  },
  {
   "cell_type": "code",
   "execution_count": 149,
   "metadata": {},
   "outputs": [],
   "source": [
    "t2.left(45)"
   ]
  },
  {
   "cell_type": "code",
   "execution_count": 150,
   "metadata": {},
   "outputs": [],
   "source": [
    "t2.penup()"
   ]
  },
  {
   "cell_type": "code",
   "execution_count": 151,
   "metadata": {},
   "outputs": [],
   "source": [
    "t2.forward(100)"
   ]
  },
  {
   "cell_type": "code",
   "execution_count": 152,
   "metadata": {},
   "outputs": [],
   "source": [
    "t2.reset()"
   ]
  },
  {
   "cell_type": "code",
   "execution_count": 153,
   "metadata": {},
   "outputs": [],
   "source": [
    "def triangle():\n",
    "    for i in range(3):\n",
    "        t2.forward(100)\n",
    "        t2.right(120)\n",
    "        \n",
    "triangle()"
   ]
  },
  {
   "cell_type": "code",
   "execution_count": 157,
   "metadata": {},
   "outputs": [
    {
     "data": {
      "application/vnd.jupyter.widget-view+json": {
       "model_id": "e74e01537abb426cb6b0cae786bc1629",
       "version_major": 2,
       "version_minor": 0
      },
      "text/plain": [
       "Turtle()"
      ]
     },
     "metadata": {},
     "output_type": "display_data"
    }
   ],
   "source": [
    "t = Turtle(fixed=False, width=400, height=200)\n",
    "\n",
    "def circle():\n",
    "    for i in range(360):\n",
    "        t.forward(1)\n",
    "        t.right(1)\n",
    "\n",
    "t"
   ]
  },
  {
   "cell_type": "code",
   "execution_count": 158,
   "metadata": {},
   "outputs": [],
   "source": [
    "circle()"
   ]
  },
  {
   "cell_type": "code",
   "execution_count": 55,
   "metadata": {},
   "outputs": [],
   "source": [
    "def draw_square():\n",
    "    janela = turtle.Screen()\n",
    "    janela.bgcolor(\"red\")\n",
    "    \n",
    "    talita = turtle.Turtle()\n",
    "    talita.forward(100)\n",
    "    \n",
    "    janela.exitonclick()\n",
    "\n",
    "#draw_square()"
   ]
  },
  {
   "cell_type": "markdown",
   "metadata": {},
   "source": [
    "A sintaxe no Jupyter Notebook é um pouco mais sofisticada. Na linha de comando do Python (e no curso) ficou assim:\n",
    "<br>\n",
    "\n",
    "*obs: isso não funcionará aqui!*\n",
    "<br>\n",
    "\n",
    "Dentro do python existe um módulo chamado **turtle** e uma classe chamada **Turtle**.\n",
    "<br>\n",
    "\n",
    "Por sua vez, existem diversós métodos para a classe **Turtle**, como:\n",
    "1. forward()\n",
    "2. backward()\n",
    "3. right()\n",
    "<br>\n",
    "...\n",
    "\n",
    "Pensar em classe como a **planta** de um edifício e instância, ou objeto como edifícios **materializados** seguindo as diretivas gerais da planta.\n",
    "<br>\n",
    "\n",
    "*Observe que:* dentro da classe Turtle existe um método chamado def _ _init_ _ !\n",
    "<br>\n",
    "\n",
    "Isso cria um espaço na memória, materializando o meu objeto!"
   ]
  },
  {
   "cell_type": "code",
   "execution_count": null,
   "metadata": {},
   "outputs": [],
   "source": [
    "import turtle\n",
    "\n",
    "def draw_squase():\n",
    "    window = turtle.Screen()\n",
    "    window.bgcolor(\"red\")\n",
    "    \n",
    "    brad = turtle.Turtle() #primeira tartaruga\n",
    "    brad.shape(\"turtle\")\n",
    "    brad.color(\"yellow\")\n",
    "    brad.speed(2)\n",
    "    \n",
    "    brad = turtle.Turtle #movimentos da primeira tartaruga\n",
    "    brad.forward(100)\n",
    "    brad.right(90)\n",
    "    \n",
    "    angie = turtle.Turtle() #segunda tartaruga\n",
    "    angie.shape(\"arrow\")\n",
    "    angie.color(\"blue\")\n",
    "    \n",
    "    angie.circle(100) #movimento da segunda tartaruga\n",
    "\n",
    "    window.exitonclick()\n",
    "    \n",
    "draw_square()"
   ]
  },
  {
   "cell_type": "markdown",
   "metadata": {},
   "source": [
    "**Desenhando a mandala**\n",
    "<br>\n",
    "\n",
    "1-crie uma função para desenhar um quadrado\n",
    "\n",
    "2-varie 10 graus a posição de início\n",
    "\n",
    "3-chame a função de desenhar o quadrado por 36 vezes"
   ]
  },
  {
   "cell_type": "code",
   "execution_count": null,
   "metadata": {},
   "outputs": [],
   "source": [
    "import turtle\n",
    "\n",
    "def draw_squase(some_turtle):\n",
    "    for i in range(1,5):\n",
    "    some_turtle.forward(100)\n",
    "    some_turtle.right(90)\n",
    "\n",
    "def draw_art():\n",
    "    window = turtle.Screen()\n",
    "    window.bgcolor(\"red\")\n",
    "    \n",
    "    brad = turtle.Turtle() #primeira tartaruga\n",
    "    brad.shape(\"turtle\")\n",
    "    brad.color(\"yellow\")\n",
    "    brad.speed(2)\n",
    "     \n",
    "    for i in range (0,37):\n",
    "        draw_square(brad)\n",
    "        brad_right(10)\n",
    "        \n",
    "    angie = turtle.Turtle() #segunda tartaruga\n",
    "    angie.shape(\"arrow\")\n",
    "    angie.color(\"blue\")\n",
    "    angie.circle(100)\n",
    "\n",
    "    window.exitonclick()\n",
    "    \n",
    "draw_square()"
   ]
  },
  {
   "cell_type": "markdown",
   "metadata": {},
   "source": [
    "**Miniprojeto:** construir código para desenhar uma coisa qualquer usando Turtle (fractal, etc..)"
   ]
  },
  {
   "cell_type": "markdown",
   "metadata": {},
   "source": [
    "## Aula 4 - Classes enviando mensagens via celular com Twilio\n",
    "<br>\n",
    "\n",
    "Instalado pelo Anaconda Prompt com:\n",
    "\n",
    "    conda install -c thompa2 twilio \n",
    "    \n",
    "*para conferir as várias versões, eu entrei no Anaconda Navigator, loguei na cloud e busquei pelo Twilio\n",
    "<br>\n",
    "\n",
    "*GitHub ajuda!*\n",
    "<br>\n",
    "\n",
    "a ordem dos nossos objetos é...\n",
    "<br>\n",
    "\n",
    "twilio                                    <- biblioteca fora do Python \n",
    "<br>\n",
    "........|-> rest\n",
    "<br>\n",
    "...................|-> TwilioRestClient  <-essa aqui é nossa classe!\n",
    "<br>\n",
    ".................................................|-> def _ _init_ _ <-função dentro da classe!\n",
    "<br>\n",
    "\n",
    "e quando chamamos a função _ _init_ _, ela se materializa através de uma **instância**, também chamada de **cliente**\n",
    "<br>\n",
    "\n",
    "1175b664b31ea6e4cc8a58626b326844"
   ]
  },
  {
   "cell_type": "code",
   "execution_count": 4,
   "metadata": {},
   "outputs": [
    {
     "name": "stdout",
     "output_type": "stream",
     "text": [
      "6.15.1\n"
     ]
    }
   ],
   "source": [
    "import twilio\n",
    "print(twilio.__version__)"
   ]
  },
  {
   "cell_type": "code",
   "execution_count": 12,
   "metadata": {},
   "outputs": [
    {
     "ename": "ObsoleteException",
     "evalue": "TwilioRestClient has been removed from this version of the library. Please refer to current documentation for guidance.",
     "output_type": "error",
     "traceback": [
      "\u001b[1;31m---------------------------------------------------------------------------\u001b[0m",
      "\u001b[1;31mObsoleteException\u001b[0m                         Traceback (most recent call last)",
      "\u001b[1;32m<ipython-input-12-77e88a08fa78>\u001b[0m in \u001b[0;36m<module>\u001b[1;34m()\u001b[0m\n\u001b[0;32m      4\u001b[0m \u001b[0maccount_sid\u001b[0m \u001b[1;33m=\u001b[0m \u001b[1;34m\"AC94c160dfb332f6711fb947c50119f0e3\"\u001b[0m\u001b[1;33m\u001b[0m\u001b[0m\n\u001b[0;32m      5\u001b[0m \u001b[0mauth_token\u001b[0m \u001b[1;33m=\u001b[0m \u001b[1;34m\"1175b664b31ea6e4cc8a58626b326844\"\u001b[0m\u001b[1;33m\u001b[0m\u001b[0m\n\u001b[1;32m----> 6\u001b[1;33m \u001b[0mclient\u001b[0m \u001b[1;33m=\u001b[0m \u001b[0mTwilioRestClient\u001b[0m\u001b[1;33m(\u001b[0m\u001b[0maccount_sid\u001b[0m\u001b[1;33m,\u001b[0m \u001b[0mauth_token\u001b[0m\u001b[1;33m)\u001b[0m\u001b[1;33m\u001b[0m\u001b[0m\n\u001b[0m\u001b[0;32m      7\u001b[0m \u001b[1;33m\u001b[0m\u001b[0m\n\u001b[0;32m      8\u001b[0m \u001b[0mcorpo\u001b[0m \u001b[1;33m=\u001b[0m \u001b[1;34m\"teste\"\u001b[0m\u001b[1;33m\u001b[0m\u001b[0m\n",
      "\u001b[1;32mC:\\ProgramData\\Anaconda3\\lib\\site-packages\\twilio\\base\\obsolete.py\u001b[0m in \u001b[0;36mnew_func\u001b[1;34m(*args, **kwargs)\u001b[0m\n\u001b[0;32m     18\u001b[0m             \u001b[1;34m\"{} has been removed from this version of the library. \"\u001b[0m\u001b[1;33m\u001b[0m\u001b[0m\n\u001b[0;32m     19\u001b[0m             \u001b[1;34m\"Please refer to current documentation for guidance.\"\u001b[0m\u001b[1;33m\u001b[0m\u001b[0m\n\u001b[1;32m---> 20\u001b[1;33m             \u001b[1;33m.\u001b[0m\u001b[0mformat\u001b[0m\u001b[1;33m(\u001b[0m\u001b[0mfunc\u001b[0m\u001b[1;33m.\u001b[0m\u001b[0m__name__\u001b[0m\u001b[1;33m)\u001b[0m\u001b[1;33m\u001b[0m\u001b[0m\n\u001b[0m\u001b[0;32m     21\u001b[0m         )\n\u001b[0;32m     22\u001b[0m \u001b[1;33m\u001b[0m\u001b[0m\n",
      "\u001b[1;31mObsoleteException\u001b[0m: TwilioRestClient has been removed from this version of the library. Please refer to current documentation for guidance."
     ]
    }
   ],
   "source": [
    "#este código está desatualizado e não funciona mais!\n",
    "from twilio.rest import TwilioRestClient\n",
    "\n",
    "account_sid = \"AC94c160dfb332f6711fb947c50119f0e3\"\n",
    "auth_token = \"1175b664b31ea6e4cc8a58626b326844\"\n",
    "client = TwilioRestClient(account_sid, auth_token)\n",
    "\n",
    "corpo = \"teste\"\n",
    "destino = \"+5561981652571\"\n",
    "origem = \"+5561981652571\"\n",
    "\n",
    "message = client.sms.messages.create(body=corpo, to=destino, from_=origem)\n",
    "print (message.sid)"
   ]
  },
  {
   "cell_type": "markdown",
   "metadata": {},
   "source": [
    "**Observação:** seria necessário ter um telefone de origem que permitisse mensagens SMS sem custo. Isso no Brasil não é permitido!"
   ]
  },
  {
   "cell_type": "code",
   "execution_count": 20,
   "metadata": {},
   "outputs": [
    {
     "name": "stdout",
     "output_type": "stream",
     "text": [
      "+5561981652571\n",
      "+5561981652571\n"
     ]
    },
    {
     "ename": "TwilioRestException",
     "evalue": "HTTP 400 error: Unable to create record: The 'To' number +5561981652571 is not a valid phone number.",
     "output_type": "error",
     "traceback": [
      "\u001b[1;31m---------------------------------------------------------------------------\u001b[0m",
      "\u001b[1;31mTwilioRestException\u001b[0m                       Traceback (most recent call last)",
      "\u001b[1;32m<ipython-input-20-93b33b54e9ee>\u001b[0m in \u001b[0;36m<module>\u001b[1;34m()\u001b[0m\n\u001b[0;32m     12\u001b[0m \u001b[0mprint\u001b[0m\u001b[1;33m(\u001b[0m\u001b[0mdestino\u001b[0m\u001b[1;33m)\u001b[0m\u001b[1;33m\u001b[0m\u001b[0m\n\u001b[0;32m     13\u001b[0m \u001b[1;33m\u001b[0m\u001b[0m\n\u001b[1;32m---> 14\u001b[1;33m \u001b[0mmessage\u001b[0m \u001b[1;33m=\u001b[0m \u001b[0mclient\u001b[0m\u001b[1;33m.\u001b[0m\u001b[0mmessages\u001b[0m\u001b[1;33m.\u001b[0m\u001b[0mcreate\u001b[0m\u001b[1;33m(\u001b[0m\u001b[0mbody\u001b[0m\u001b[1;33m=\u001b[0m\u001b[0mcorpo\u001b[0m\u001b[1;33m,\u001b[0m \u001b[0mfrom_\u001b[0m\u001b[1;33m=\u001b[0m\u001b[0morigem\u001b[0m\u001b[1;33m,\u001b[0m \u001b[0mto\u001b[0m\u001b[1;33m=\u001b[0m\u001b[0mdestino\u001b[0m\u001b[1;33m)\u001b[0m\u001b[1;33m\u001b[0m\u001b[0m\n\u001b[0m\u001b[0;32m     15\u001b[0m \u001b[0mprint\u001b[0m \u001b[1;33m(\u001b[0m\u001b[0mmessage\u001b[0m\u001b[1;33m.\u001b[0m\u001b[0msid\u001b[0m\u001b[1;33m)\u001b[0m\u001b[1;33m\u001b[0m\u001b[0m\n",
      "\u001b[1;32mC:\\ProgramData\\Anaconda3\\lib\\site-packages\\twilio\\rest\\api\\v2010\\account\\message\\__init__.py\u001b[0m in \u001b[0;36mcreate\u001b[1;34m(self, to, status_callback, application_sid, max_price, provide_feedback, validity_period, max_rate, force_delivery, provider_sid, content_retention, address_retention, smart_encoded, from_, messaging_service_sid, body, media_url)\u001b[0m\n\u001b[0;32m     90\u001b[0m             \u001b[1;34m'POST'\u001b[0m\u001b[1;33m,\u001b[0m\u001b[1;33m\u001b[0m\u001b[0m\n\u001b[0;32m     91\u001b[0m             \u001b[0mself\u001b[0m\u001b[1;33m.\u001b[0m\u001b[0m_uri\u001b[0m\u001b[1;33m,\u001b[0m\u001b[1;33m\u001b[0m\u001b[0m\n\u001b[1;32m---> 92\u001b[1;33m             \u001b[0mdata\u001b[0m\u001b[1;33m=\u001b[0m\u001b[0mdata\u001b[0m\u001b[1;33m,\u001b[0m\u001b[1;33m\u001b[0m\u001b[0m\n\u001b[0m\u001b[0;32m     93\u001b[0m         )\n\u001b[0;32m     94\u001b[0m \u001b[1;33m\u001b[0m\u001b[0m\n",
      "\u001b[1;32mC:\\ProgramData\\Anaconda3\\lib\\site-packages\\twilio\\base\\version.py\u001b[0m in \u001b[0;36mcreate\u001b[1;34m(self, method, uri, params, data, headers, auth, timeout, allow_redirects)\u001b[0m\n\u001b[0;32m    207\u001b[0m \u001b[1;33m\u001b[0m\u001b[0m\n\u001b[0;32m    208\u001b[0m         \u001b[1;32mif\u001b[0m \u001b[0mresponse\u001b[0m\u001b[1;33m.\u001b[0m\u001b[0mstatus_code\u001b[0m \u001b[1;33m<\u001b[0m \u001b[1;36m200\u001b[0m \u001b[1;32mor\u001b[0m \u001b[0mresponse\u001b[0m\u001b[1;33m.\u001b[0m\u001b[0mstatus_code\u001b[0m \u001b[1;33m>=\u001b[0m \u001b[1;36m300\u001b[0m\u001b[1;33m:\u001b[0m\u001b[1;33m\u001b[0m\u001b[0m\n\u001b[1;32m--> 209\u001b[1;33m             \u001b[1;32mraise\u001b[0m \u001b[0mself\u001b[0m\u001b[1;33m.\u001b[0m\u001b[0mexception\u001b[0m\u001b[1;33m(\u001b[0m\u001b[0mmethod\u001b[0m\u001b[1;33m,\u001b[0m \u001b[0muri\u001b[0m\u001b[1;33m,\u001b[0m \u001b[0mresponse\u001b[0m\u001b[1;33m,\u001b[0m \u001b[1;34m'Unable to create record'\u001b[0m\u001b[1;33m)\u001b[0m\u001b[1;33m\u001b[0m\u001b[0m\n\u001b[0m\u001b[0;32m    210\u001b[0m \u001b[1;33m\u001b[0m\u001b[0m\n\u001b[0;32m    211\u001b[0m         \u001b[1;32mreturn\u001b[0m \u001b[0mjson\u001b[0m\u001b[1;33m.\u001b[0m\u001b[0mloads\u001b[0m\u001b[1;33m(\u001b[0m\u001b[0mresponse\u001b[0m\u001b[1;33m.\u001b[0m\u001b[0mtext\u001b[0m\u001b[1;33m)\u001b[0m\u001b[1;33m\u001b[0m\u001b[0m\n",
      "\u001b[1;31mTwilioRestException\u001b[0m: HTTP 400 error: Unable to create record: The 'To' number +5561981652571 is not a valid phone number."
     ]
    }
   ],
   "source": [
    "from twilio.rest import Client\n",
    "\n",
    "account_sid = \"AC94c160dfb332f6711fb947c50119f0e3\"\n",
    "auth_token = \"1175b664b31ea6e4cc8a58626b326844\"\n",
    "client = Client(account_sid, auth_token)\n",
    "\n",
    "corpo = \"teste\"\n",
    "destino = \"+5561981652571\"\n",
    "origem = \"+5561981652571\"\n",
    "\n",
    "print(origem)\n",
    "print(destino)\n",
    "\n",
    "message = client.messages.create(body=corpo, from_=origem, to=destino)\n",
    "print (message.sid)"
   ]
  },
  {
   "cell_type": "markdown",
   "metadata": {},
   "source": [
    "**Explicação**\n",
    "<br>\n",
    "\n",
    "quando eu dou o comando:\n",
    "\n",
    "    brad = turtle.Turtle()\n",
    "    \n",
    "eu estou dizendo para o Python:\n",
    "\n",
    "- que dentro do Python existe um **arquivo** chamado turtle\n",
    "- e que dentro deste arquivo existe uma **classe** chamada .Turtle()\n",
    "- e por fim, que eu quero materializar na minha memória uma **instância** desta classe, chamada brad!\n",
    "\n",
    "a hora que eu aciono _ _init_ _ com:\n",
    "\n",
    "    class Turtle():\n",
    "        def __init__():\n",
    "\n",
    "eu estou chamando a **função init** definida dentro da classe. Essa função inicializa o objeto, ou cria espaço na memória para uma nova instância, que se chama **brad**\n",
    "<br>\n",
    "\n",
    "da mesma maneira:\n",
    "\n",
    "    client = rest.TwilioRestClient()\n",
    "\n",
    "eu estou dizendo para o Python:\n",
    "\n",
    "- que dentro do Twilio existe uma **pasta** chamada rest\n",
    "- que dentro desta pasta existe um **arquivo** contendo uma classe chamada .TwilioRestClient()\n",
    "- e ao fechar os parênteses de .TwilioRestClient(), estou na verdade chamando a função <u>init</u> definida dentro da classe!\n",
    "\n",
    "esta função _ _init_ _ cria o espaço na memória para minha **instância** client assim:\n",
    "\n",
    "    class TwilioRestClient():\n",
    "        def __init__():"
   ]
  },
  {
   "cell_type": "markdown",
   "metadata": {},
   "source": [
    "# H1 Tru Tru\n",
    "\n",
    "## H2 Tru Tru Tru\n",
    "\n",
    "______\n",
    "\n",
    "ddd\n",
    "<br>\n",
    "\n",
    "tipo <u>sublinhado</u>\n",
    "\n",
    "e tipo ~~esboçado~~ no texto\n",
    "\n",
    "bobossauro\n",
    "\n",
    "---\n",
    "\n",
    "tipo:\n",
    "- lista\n",
    " - sublista\n",
    "  - subsub\n",
    "\n",
    "e tipo:\n",
    "1. item\n",
    "2. item2\n",
    " 1. subitem\n",
    " \n",
    "Imagem: use a mesma coisa do link, colocando um ! no início:\n",
    "<br>\n",
    "\n",
    "![Turing´s Device](http://www.google.com/logos/2012/turing-doodle-static.jpg \"Alan Turing´s 100th Birthday\")\n",
    "\n",
    "código:\n",
    "<br>\n",
    "\n",
    "```python\n",
    "   x = 5\n",
    "   print \"%.2f\" % x    \n",
    "    \n",
    " \n",
    "tabelão (com alinhamentos definidos como :):\n",
    "\n",
    "| Tabela | SWC | Tipo |\n",
    "|----|:----:|----:|\n",
    "|unidade1 é | Imp | Herói |\n",
    "|unidade2 é | Imp | heróooi! |\n",
    "\n",
    "latex:\n",
    "\n",
    "$y = x^2$\n",
    "    \n",
    "bloco:\n",
    "    \n",
    "$$y = x^2$$"
   ]
  },
  {
   "cell_type": "code",
   "execution_count": null,
   "metadata": {},
   "outputs": [],
   "source": []
  }
 ],
 "metadata": {
  "kernelspec": {
   "display_name": "Python 3",
   "language": "python",
   "name": "python3"
  },
  "language_info": {
   "codemirror_mode": {
    "name": "ipython",
    "version": 3
   },
   "file_extension": ".py",
   "mimetype": "text/x-python",
   "name": "python",
   "nbconvert_exporter": "python",
   "pygments_lexer": "ipython3",
   "version": "3.6.6"
  }
 },
 "nbformat": 4,
 "nbformat_minor": 2
}
